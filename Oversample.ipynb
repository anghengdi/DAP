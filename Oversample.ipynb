{
 "cells": [
  {
   "cell_type": "code",
   "metadata": {
    "tags": [],
    "cell_id": "00000-51277556-a033-436d-b1d3-f4fe70f57879",
    "deepnote_to_be_reexecuted": false,
    "source_hash": "5c765d72",
    "execution_start": 1635690365128,
    "execution_millis": 9592,
    "deepnote_cell_type": "code"
   },
   "source": "import pandas as pd\nimport numpy as np\nimport matplotlib.pyplot as plt\nimport seaborn as sns\n%matplotlib inline\n\ntraining = pd.read_csv('racism_train.csv', encoding=\"latin1\")\ntesting = pd.read_csv(\"racism_test.csv\", encoding = 'latin1')",
   "outputs": [],
   "execution_count": null
  },
  {
   "cell_type": "code",
   "metadata": {
    "tags": [],
    "cell_id": "00001-f3e24c36-a145-4ba4-ab5f-5b47092679d2",
    "deepnote_to_be_reexecuted": false,
    "source_hash": "3270268e",
    "execution_start": 1635690374733,
    "execution_millis": 13,
    "deepnote_cell_type": "code"
   },
   "source": "def decode_all(text):\n    return text.encode(\"ascii\", errors = \"replace\").decode(\"utf-8\")",
   "outputs": [],
   "execution_count": null
  },
  {
   "cell_type": "code",
   "metadata": {
    "tags": [],
    "cell_id": "00002-ec0f0657-17dc-450b-9de3-3947b1f04039",
    "deepnote_to_be_reexecuted": false,
    "source_hash": "38f5f3c6",
    "execution_start": 1635690374771,
    "execution_millis": 207,
    "deepnote_cell_type": "code"
   },
   "source": "training[\"decode\"] = training[\"tweet\"].apply(decode_all)",
   "outputs": [],
   "execution_count": null
  },
  {
   "cell_type": "code",
   "metadata": {
    "tags": [],
    "cell_id": "00001-60791202-beb5-4716-8295-e36375cc2f67",
    "deepnote_to_be_reexecuted": false,
    "source_hash": "ffa4981a",
    "execution_start": 1635690374994,
    "execution_millis": 1505,
    "deepnote_cell_type": "code"
   },
   "source": "plt.figure(figsize=(12,6))\nsns.countplot(x='label',data=training)",
   "outputs": [
    {
     "output_type": "execute_result",
     "execution_count": 4,
     "data": {
      "text/plain": "<AxesSubplot:xlabel='label', ylabel='count'>"
     },
     "metadata": {}
    },
    {
     "data": {
      "text/plain": "<Figure size 864x432 with 1 Axes>",
      "image/png": "[encoded data removed]"
     },
     "metadata": {
      "needs_background": "light",
      "image/png": {
       "width": 736,
       "height": 371
      }
     },
     "output_type": "display_data"
    }
   ],
   "execution_count": null
  },
  {
   "cell_type": "code",
   "metadata": {
    "tags": [],
    "cell_id": "00002-06d75c3c-197d-40e9-bdd4-d1b5ccfb3e5b",
    "deepnote_to_be_reexecuted": false,
    "source_hash": "e4d498ad",
    "execution_start": 1635690376510,
    "execution_millis": 949,
    "deepnote_cell_type": "code"
   },
   "source": "import re\ndef remove_pattern(input_txt, pattern):\n    r = re.findall(pattern, input_txt)\n    for i in r:\n        input_txt = re.sub(i, '', input_txt)\n    return input_txt \n\ntraining['clean_tweet'] = np.vectorize(remove_pattern)(training['decode'], \"@[\\w]*\")",
   "outputs": [],
   "execution_count": null
  },
  {
   "cell_type": "code",
   "metadata": {
    "tags": [],
    "cell_id": "00005-7caa7dd6-28a7-41d6-9e9e-9d2b160cfad4",
    "deepnote_to_be_reexecuted": false,
    "source_hash": "5e3904f1",
    "execution_start": 1635690377484,
    "execution_millis": 100,
    "deepnote_cell_type": "code"
   },
   "source": "def con_map(text):\n\n    contraction_map = {\n        \"ain't\": \"is not\",\n        \"aren't\": \"are not\",\n        \"can't\": \"cannot\",\n        \"can't've\": \"cannot have\",\n        \"'cause\": \"because\",\n        \"could've\": \"could have\",\n        \"couldn't\": \"could not\",\n        \"couldn't've\": \"could not have\",\n        \"didn't\": \"did not\",\n        \"doesn't\": \"does not\",\n        \"don't\": \"do not\",\n        \"hadn't\": \"had not\",\n        \"hadn't've\": \"had not have\",\n        \"hasn't\": \"has not\",\n        \"haven't\": \"have not\",\n        \"he'd\": \"he would\",\n        \"he'd've\": \"he would have\",\n        \"he'll\": \"he will\",\n        \"he'll've\": \"he he will have\",\n        \"he's\": \"he is\",\n        \"how'd\": \"how did\",\n        \"how'd'y\": \"how do you\",\n        \"how'll\": \"how will\",\n        \"how's\": \"how is\",\n        \"I'd\": \"I would\",\n        \"I'd've\": \"I would have\",\n        \"I'll\": \"I will\",\n        \"I'll've\": \"I will have\",\n        \"I'm\": \"I am\",\n        \"I've\": \"I have\",\n        \"i'd\": \"i would\",\n        \"i'd've\": \"i would have\",\n        \"i'll\": \"i will\",\n        \"i'll've\": \"i will have\",\n        \"i'm\": \"i am\",\n        \"i've\": \"i have\",\n        \"isn't\": \"is not\",\n        \"it'd\": \"it would\",\n        \"it'd've\": \"it would have\",\n        \"it'll\": \"it will\",\n        \"it'll've\": \"it will have\",\n        \"it's\": \"it is\",\n        \"let's\": \"let us\",\n        \"ma'am\": \"madam\",\n        \"mayn't\": \"may not\",\n        \"might've\": \"might have\",\n        \"mightn't\": \"might not\",\n        \"mightn't've\": \"might not have\",\n        \"must've\": \"must have\",\n        \"mustn't\": \"must not\",\n        \"mustn't've\": \"must not have\",\n        \"needn't\": \"need not\",\n        \"needn't've\": \"need not have\",\n        \"o'clock\": \"of the clock\",\n        \"oughtn't\": \"ought not\",\n        \"oughtn't've\": \"ought not have\",\n        \"shan't\": \"shall not\",\n        \"sha'n't\": \"shall not\",\n        \"shan't've\": \"shall not have\",\n        \"she'd\": \"she would\",\n        \"she'd've\": \"she would have\",\n        \"she'll\": \"she will\",\n        \"she'll've\": \"she will have\",\n        \"she's\": \"she is\",\n        \"should've\": \"should have\",\n        \"shouldn't\": \"should not\",\n        \"shouldn't've\": \"should not have\",\n        \"so've\": \"so have\",\n        \"so's\": \"so as\",\n        \"that'd\": \"that would\",\n        \"that'd've\": \"that would have\",\n        \"that's\": \"that is\",\n        \"there'd\": \"there would\",\n        \"there'd've\": \"there would have\",\n        \"there's\": \"there is\",\n        \"they'd\": \"they would\",\n        \"they'd've\": \"they would have\",\n        \"they'll\": \"they will\",\n        \"they'll've\": \"they will have\",\n        \"they're\": \"they are\",\n        \"they've\": \"they have\",\n        \"to've\": \"to have\",\n        \"wasn't\": \"was not\",\n        \"we'd\": \"we would\",\n        \"we'd've\": \"we would have\",\n        \"we'll\": \"we will\",\n        \"we'll've\": \"we will have\",\n        \"we're\": \"we are\",\n        \"we've\": \"we have\",\n        \"weren't\": \"were not\",\n        \"what'll\": \"what will\",\n        \"what'll've\": \"what will have\",\n        \"what're\": \"what are\",\n        \"what's\": \"what is\",\n        \"what've\": \"what have\",\n        \"when's\": \"when is\",\n        \"when've\": \"when have\",\n        \"where'd\": \"where did\",\n        \"where's\": \"where is\",\n        \"where've\": \"where have\",\n        \"who'll\": \"who will\",\n        \"who'll've\": \"who will have\",\n        \"who's\": \"who is\",\n        \"who've\": \"who have\",\n        \"why's\": \"why is\",\n        \"why've\": \"why have\",\n        \"will've\": \"will have\",\n        \"won't\": \"will not\",\n        \"won't've\": \"will not have\",\n        \"would've\": \"would have\",\n        \"wouldn't\": \"would not\",\n        \"wouldn't've\": \"would not have\",\n        \"y'all\": \"you all\",\n        \"y'all'd\": \"you all would\",\n        \"y'all'd've\": \"you all would have\",\n        \"y'all're\": \"you all are\",\n        \"y'all've\": \"you all have\",\n        \"you'd\": \"you would\",\n        \"you'd've\": \"you would have\",\n        \"you'll\": \"you will\",\n        \"you'll've\": \"you will have\",\n        \"you're\": \"you are\",\n        \"you've\": \"you have\",\n        \"otw\": \"on the way\",\n        \"u\": \"you\",\n        \"ur\": \"your\",\n        }\n\n    words = text.split()\n    result = []\n    for word in words:\n        word = word.strip()\n        if word in contraction_map:\n            result.append(contraction_map[word])\n        else:\n            result.append(word)\n    \n    return ' '.join(result) ",
   "outputs": [],
   "execution_count": null
  },
  {
   "cell_type": "code",
   "metadata": {
    "tags": [],
    "cell_id": "00006-e018ea64-212d-4f28-bcbf-f56adeb4b635",
    "deepnote_to_be_reexecuted": false,
    "source_hash": "14f86a51",
    "execution_start": 1635690377604,
    "execution_millis": 2853,
    "deepnote_cell_type": "code"
   },
   "source": "training['clean_tweet'] = training['clean_tweet'].apply(con_map)\ntraining",
   "outputs": [
    {
     "output_type": "execute_result",
     "execution_count": 7,
     "data": {
      "application/vnd.deepnote.dataframe.v2+json": {
       "row_count": 31962,
       "column_count": 5,
       "columns": [
        {
         "name": "id",
         "dtype": "int64",
         "stats": {
          "unique_count": 31962,
          "nan_count": 0,
          "min": "1",
          "max": "31962",
          "histogram": [
           {
            "bin_start": 1,
            "bin_end": 3197.1,
            "count": 3197
           },
           {
            "bin_start": 3197.1,
            "bin_end": 6393.2,
            "count": 3196
           },
           {
            "bin_start": 6393.2,
            "bin_end": 9589.3,
            "count": 3196
           },
           {
            "bin_start": 9589.3,
            "bin_end": 12785.4,
            "count": 3196
           },
           {
            "bin_start": 12785.4,
            "bin_end": 15981.5,
            "count": 3196
           },
           {
            "bin_start": 15981.5,
            "bin_end": 19177.6,
            "count": 3196
           },
           {
            "bin_start": 19177.6,
            "bin_end": 22373.7,
            "count": 3196
           },
           {
            "bin_start": 22373.7,
            "bin_end": 25569.8,
            "count": 3196
           },
           {
            "bin_start": 25569.8,
            "bin_end": 28765.899999999998,
            "count": 3196
           },
           {
            "bin_start": 28765.899999999998,
            "bin_end": 31962,
            "count": 3197
           }
          ]
         }
        },
        {
         "name": "label",
         "dtype": "int64",
         "stats": {
          "unique_count": 2,
          "nan_count": 0,
          "min": "0",
          "max": "1",
          "histogram": [
           {
            "bin_start": 0,
            "bin_end": 0.1,
            "count": 29720
           },
           {
            "bin_start": 0.1,
            "bin_end": 0.2,
            "count": 0
           },
           {
            "bin_start": 0.2,
            "bin_end": 0.30000000000000004,
            "count": 0
           },
           {
            "bin_start": 0.30000000000000004,
            "bin_end": 0.4,
            "count": 0
           },
           {
            "bin_start": 0.4,
            "bin_end": 0.5,
            "count": 0
           },
           {
            "bin_start": 0.5,
            "bin_end": 0.6000000000000001,
            "count": 0
           },
           {
            "bin_start": 0.6000000000000001,
            "bin_end": 0.7000000000000001,
            "count": 0
           },
           {
            "bin_start": 0.7000000000000001,
            "bin_end": 0.8,
            "count": 0
           },
           {
            "bin_start": 0.8,
            "bin_end": 0.9,
            "count": 0
           },
           {
            "bin_start": 0.9,
            "bin_end": 1,
            "count": 2242
           }
          ]
         }
        },
        {
         "name": "tweet",
         "dtype": "object",
         "stats": {
          "unique_count": 29530,
          "nan_count": 0,
          "categories": [
           {
            "name": "#model   i love u take with u all the time in urÃ°ÂÂÂ±!!! Ã°ÂÂÂÃ°ÂÂÂÃ°ÂÂÂÃ°ÂÂÂÃ°ÂÂÂ¦Ã°ÂÂÂ¦Ã°ÂÂÂ¦  ",
            "count": 319
           },
           {
            "name": "i finally found a way how to delete old tweets! you might find it useful as well:    #deletetweets",
            "count": 82
           },
           {
            "name": "29528 others",
            "count": 31561
           }
          ]
         }
        },
        {
         "name": "decode",
         "dtype": "object"
        },
        {
         "name": "clean_tweet",
         "dtype": "object"
        },
        {
         "name": "_deepnote_index_column",
         "dtype": "int64"
        }
       ],
       "rows_top": [
        {
         "id": 1,
         "label": 0,
         "tweet": " @user when a father is dysfunctional and is so selfish he drags his kids into his dysfunction.   #…",
         "decode": " @user when a father is dysfunctional and is so selfish he drags his kids into his dysfunction.   #…",
         "clean_tweet": "when a father is dysfunctional and is so selfish he drags his kids into his dysfunction. #run",
         "_deepnote_index_column": 0
        },
        {
         "id": 2,
         "label": 0,
         "tweet": "@user @user thanks for #lyft credit i can't use cause they don't offer wheelchair vans in pdx.    #…",
         "decode": "@user @user thanks for #lyft credit i can't use cause they don't offer wheelchair vans in pdx.    #…",
         "clean_tweet": "thanks for #lyft credit i cannot use cause they do not offer wheelchair vans in pdx. #disapointed #…",
         "_deepnote_index_column": 1
        },
        {
         "id": 3,
         "label": 0,
         "tweet": "  bihday your majesty",
         "decode": "  bihday your majesty",
         "clean_tweet": "bihday your majesty",
         "_deepnote_index_column": 2
        },
        {
         "id": 4,
         "label": 0,
         "tweet": "#model   i love u take with u all the time in urÃ°ÂÂÂ±!!! Ã°ÂÂÂÃ°ÂÂÂÃ°ÂÂÂÃ°ÂÂÂÃ°ÂÂÂ…",
         "decode": "#model   i love u take with u all the time in ur????????!!! ???????????????????????????????????????…",
         "clean_tweet": "#model i love you take with you all the time in ur????????!!! ?????????????????????????????????????…",
         "_deepnote_index_column": 3
        },
        {
         "id": 5,
         "label": 0,
         "tweet": " factsguide: society now    #motivation",
         "decode": " factsguide: society now    #motivation",
         "clean_tweet": "factsguide: society now #motivation",
         "_deepnote_index_column": 4
        },
        {
         "id": 6,
         "label": 0,
         "tweet": "[2/2] huge fan fare and big talking before they leave. chaos and pay disputes when they get there. …",
         "decode": "[2/2] huge fan fare and big talking before they leave. chaos and pay disputes when they get there. …",
         "clean_tweet": "[2/2] huge fan fare and big talking before they leave. chaos and pay disputes when they get there. …",
         "_deepnote_index_column": 5
        },
        {
         "id": 7,
         "label": 0,
         "tweet": " @user camping tomorrow @user @user @user @user @user @user @user dannyÃ¢ÂÂ¦",
         "decode": " @user camping tomorrow @user @user @user @user @user @user @user danny??????",
         "clean_tweet": "camping tomorrow danny??????",
         "_deepnote_index_column": 6
        },
        {
         "id": 8,
         "label": 0,
         "tweet": "the next school year is the year for exams.Ã°ÂÂÂ¯ can't think about that Ã°ÂÂÂ­ #school #exams …",
         "decode": "the next school year is the year for exams.???????? can't think about that ???????? #school #exams …",
         "clean_tweet": "the next school year is the year for exams.???????? cannot think about that ???????? #school #exams…",
         "_deepnote_index_column": 7
        },
        {
         "id": 9,
         "label": 0,
         "tweet": "we won!!! love the land!!! #allin #cavs #champions #cleveland #clevelandcavaliers  Ã¢ÂÂ¦ ",
         "decode": "we won!!! love the land!!! #allin #cavs #champions #cleveland #clevelandcavaliers  ?????? ",
         "clean_tweet": "we won!!! love the land!!! #allin #cavs #champions #cleveland #clevelandcavaliers ??????",
         "_deepnote_index_column": 8
        },
        {
         "id": 10,
         "label": 0,
         "tweet": " @user @user welcome here !  i'm   it's so #gr8 ! ",
         "decode": " @user @user welcome here !  i'm   it's so #gr8 ! ",
         "clean_tweet": "welcome here ! i am it is so #gr8 !",
         "_deepnote_index_column": 9
        },
        {
         "id": 11,
         "label": 0,
         "tweet": " Ã¢ÂÂ #ireland consumer price index (mom) climbed from previous 0.2% to 0.5% in may   #blog #silv…",
         "decode": " ?????? #ireland consumer price index (mom) climbed from previous 0.2% to 0.5% in may   #blog #silv…",
         "clean_tweet": "?????? #ireland consumer price index (mom) climbed from previous 0.2% to 0.5% in may #blog #silver …",
         "_deepnote_index_column": 10
        },
        {
         "id": 12,
         "label": 0,
         "tweet": "we are so selfish. #orlando #standwithorlando #pulseshooting #orlandoshooting #biggerproblems #self…",
         "decode": "we are so selfish. #orlando #standwithorlando #pulseshooting #orlandoshooting #biggerproblems #self…",
         "clean_tweet": "we are so selfish. #orlando #standwithorlando #pulseshooting #orlandoshooting #biggerproblems #self…",
         "_deepnote_index_column": 11
        },
        {
         "id": 13,
         "label": 0,
         "tweet": "i get to see my daddy today!!   #80days #gettingfed",
         "decode": "i get to see my daddy today!!   #80days #gettingfed",
         "clean_tweet": "i get to see my daddy today!! #80days #gettingfed",
         "_deepnote_index_column": 12
        },
        {
         "id": 14,
         "label": 1,
         "tweet": "@user #cnn calls #michigan middle school 'build the wall' chant '' #tcot  ",
         "decode": "@user #cnn calls #michigan middle school 'build the wall' chant '' #tcot  ",
         "clean_tweet": "#cnn calls #michigan middle school 'build the wall' chant '' #tcot",
         "_deepnote_index_column": 13
        },
        {
         "id": 15,
         "label": 1,
         "tweet": "no comment!  in #australia   #opkillingbay #seashepherd #helpcovedolphins #thecove  #helpcovedolphi…",
         "decode": "no comment!  in #australia   #opkillingbay #seashepherd #helpcovedolphins #thecove  #helpcovedolphi…",
         "clean_tweet": "no comment! in #australia #opkillingbay #seashepherd #helpcovedolphins #thecove #helpcovedolphins",
         "_deepnote_index_column": 14
        },
        {
         "id": 16,
         "label": 0,
         "tweet": "ouch...junior is angryÃ°ÂÂÂ#got7 #junior #yugyoem   #omg ",
         "decode": "ouch...junior is angry????????#got7 #junior #yugyoem   #omg ",
         "clean_tweet": "ouch...junior is angry????????#got7 #junior #yugyoem #omg",
         "_deepnote_index_column": 15
        },
        {
         "id": 17,
         "label": 0,
         "tweet": "i am thankful for having a paner. #thankful #positive     ",
         "decode": "i am thankful for having a paner. #thankful #positive     ",
         "clean_tweet": "i am thankful for having a paner. #thankful #positive",
         "_deepnote_index_column": 16
        },
        {
         "id": 18,
         "label": 1,
         "tweet": "retweet if you agree! ",
         "decode": "retweet if you agree! ",
         "clean_tweet": "retweet if you agree!",
         "_deepnote_index_column": 17
        },
        {
         "id": 19,
         "label": 0,
         "tweet": "its #friday! Ã°ÂÂÂ smiles all around via ig user: @user #cookies make people   ",
         "decode": "its #friday! ???????? smiles all around via ig user: @user #cookies make people   ",
         "clean_tweet": "its #friday! ???????? smiles all around via ig user: #cookies make people",
         "_deepnote_index_column": 18
        },
        {
         "id": 20,
         "label": 0,
         "tweet": "as we all know, essential oils are not made of chemicals. ",
         "decode": "as we all know, essential oils are not made of chemicals. ",
         "clean_tweet": "as we all know, essential oils are not made of chemicals.",
         "_deepnote_index_column": 19
        },
        {
         "id": 21,
         "label": 0,
         "tweet": "#euro2016 people blaming ha for conceded goal was it fat rooney who gave away free kick knowing bal…",
         "decode": "#euro2016 people blaming ha for conceded goal was it fat rooney who gave away free kick knowing bal…",
         "clean_tweet": "#euro2016 people blaming ha for conceded goal was it fat rooney who gave away free kick knowing bal…",
         "_deepnote_index_column": 20
        },
        {
         "id": 22,
         "label": 0,
         "tweet": "sad little dude..   #badday #coneofshame #cats #pissed #funny #laughs ",
         "decode": "sad little dude..   #badday #coneofshame #cats #pissed #funny #laughs ",
         "clean_tweet": "sad little dude.. #badday #coneofshame #cats #pissed #funny #laughs",
         "_deepnote_index_column": 21
        },
        {
         "id": 23,
         "label": 0,
         "tweet": "product of the day: happy man #wine tool  who's   it's the #weekend? time to open up &amp; drink up!",
         "decode": "product of the day: happy man #wine tool  who's   it's the #weekend? time to open up &amp; drink up!",
         "clean_tweet": "product of the day: happy man #wine tool who is it is the #weekend? time to open up &amp; drink up!",
         "_deepnote_index_column": 22
        },
        {
         "id": 24,
         "label": 1,
         "tweet": "@user @user lumpy says i am a . prove it lumpy.",
         "decode": "@user @user lumpy says i am a . prove it lumpy.",
         "clean_tweet": "lumpy says i am a . prove it lumpy.",
         "_deepnote_index_column": 23
        },
        {
         "id": 25,
         "label": 0,
         "tweet": " @user #tgif   #ff to my #gamedev #indiedev #indiegamedev #squad! @user @user @user @user @user",
         "decode": " @user #tgif   #ff to my #gamedev #indiedev #indiegamedev #squad! @user @user @user @user @user",
         "clean_tweet": "#tgif #ff to my #gamedev #indiedev #indiegamedev #squad!",
         "_deepnote_index_column": 24
        },
        {
         "id": 26,
         "label": 0,
         "tweet": "beautiful sign by vendor 80 for $45.00!! #upsideofflorida #shopalyssas   #love ",
         "decode": "beautiful sign by vendor 80 for $45.00!! #upsideofflorida #shopalyssas   #love ",
         "clean_tweet": "beautiful sign by vendor 80 for $45.00!! #upsideofflorida #shopalyssas #love",
         "_deepnote_index_column": 25
        },
        {
         "id": 27,
         "label": 0,
         "tweet": " @user all #smiles when #media is   !! Ã°ÂÂÂÃ°ÂÂÂ #pressconference in #antalya #turkey ! sund…",
         "decode": " @user all #smiles when #media is   !! ???????????????? #pressconference in #antalya #turkey ! sund…",
         "clean_tweet": "all #smiles when #media is !! ???????????????? #pressconference in #antalya #turkey ! sunday #throw…",
         "_deepnote_index_column": 26
        },
        {
         "id": 28,
         "label": 0,
         "tweet": "we had a great panel on the mediatization of the public service   #ica16",
         "decode": "we had a great panel on the mediatization of the public service   #ica16",
         "clean_tweet": "we had a great panel on the mediatization of the public service #ica16",
         "_deepnote_index_column": 27
        },
        {
         "id": 29,
         "label": 0,
         "tweet": "happy father's day @user Ã°ÂÂÂÃ°ÂÂÂÃ°ÂÂÂÃ°ÂÂÂ  ",
         "decode": "happy father's day @user ????????????????????????????????  ",
         "clean_tweet": "happy father's day ????????????????????????????????",
         "_deepnote_index_column": 28
        },
        {
         "id": 30,
         "label": 0,
         "tweet": "50 people went to nightclub to have a good night and 1 man's actions means those people are lost to…",
         "decode": "50 people went to nightclub to have a good night and 1 man's actions means those people are lost to…",
         "clean_tweet": "50 people went to nightclub to have a good night and 1 man's actions means those people are lost to…",
         "_deepnote_index_column": 29
        },
        {
         "id": 31,
         "label": 0,
         "tweet": "i have never had a chance to vote for a presidential candidate i was excited about and this cycle l…",
         "decode": "i have never had a chance to vote for a presidential candidate i was excited about and this cycle l…",
         "clean_tweet": "i have never had a chance to vote for a presidential candidate i was excited about and this cycle l…",
         "_deepnote_index_column": 30
        },
        {
         "id": 32,
         "label": 0,
         "tweet": "  #alohafriday #time does #not #exist #positivevibes #hawaiian @user @user @user @user ",
         "decode": "  #alohafriday #time does #not #exist #positivevibes #hawaiian @user @user @user @user ",
         "clean_tweet": "#alohafriday #time does #not #exist #positivevibes #hawaiian",
         "_deepnote_index_column": 31
        },
        {
         "id": 33,
         "label": 0,
         "tweet": " @user rip to the fellow nohern ireland fan who sadley passed away tonight!.. gawa, forever singing…",
         "decode": " @user rip to the fellow nohern ireland fan who sadley passed away tonight!.. gawa, forever singing…",
         "clean_tweet": "rip to the fellow nohern ireland fan who sadley passed away tonight!.. gawa, forever singing and ch…",
         "_deepnote_index_column": 32
        },
        {
         "id": 34,
         "label": 0,
         "tweet": "it was a hard monday due to cloudy weather. disabling oxygen production for today. #goodnight #badm…",
         "decode": "it was a hard monday due to cloudy weather. disabling oxygen production for today. #goodnight #badm…",
         "clean_tweet": "it was a hard monday due to cloudy weather. disabling oxygen production for today. #goodnight #badm…",
         "_deepnote_index_column": 33
        },
        {
         "id": 35,
         "label": 1,
         "tweet": "it's unbelievable that in the 21st century we'd need something like this. again. #neverump  #xenoph…",
         "decode": "it's unbelievable that in the 21st century we'd need something like this. again. #neverump  #xenoph…",
         "clean_tweet": "it is unbelievable that in the 21st century we would need something like this. again. #neverump #xe…",
         "_deepnote_index_column": 34
        },
        {
         "id": 36,
         "label": 0,
         "tweet": "#taylorswift1989   bull up: you will dominate your bull and you will direct it whatever you want it…",
         "decode": "#taylorswift1989   bull up: you will dominate your bull and you will direct it whatever you want it…",
         "clean_tweet": "#taylorswift1989 bull up: you will dominate your bull and you will direct it whatever you want it t…",
         "_deepnote_index_column": 35
        },
        {
         "id": 37,
         "label": 0,
         "tweet": "morning~~ #travelingram #dalat   #ripinkylife ",
         "decode": "morning~~ #travelingram #dalat   #ripinkylife ",
         "clean_tweet": "morning~~ #travelingram #dalat #ripinkylife",
         "_deepnote_index_column": 36
        },
        {
         "id": 38,
         "label": 0,
         "tweet": "@user once more only one word tells it all: #photoshop.  #enoughisenough #dontphotoshopeverything #…",
         "decode": "@user once more only one word tells it all: #photoshop.  #enoughisenough #dontphotoshopeverything #…",
         "clean_tweet": "once more only one word tells it all: #photoshop. #enoughisenough #dontphotoshopeverything #wheresa…",
         "_deepnote_index_column": 37
        },
        {
         "id": 39,
         "label": 0,
         "tweet": "oh, #cedarpoint. waited 2 hours in the valravn line and it stopped working. we were so close.  ",
         "decode": "oh, #cedarpoint. waited 2 hours in the valravn line and it stopped working. we were so close.  ",
         "clean_tweet": "oh, #cedarpoint. waited 2 hours in the valravn line and it stopped working. we were so close.",
         "_deepnote_index_column": 38
        },
        {
         "id": 40,
         "label": 0,
         "tweet": "i am thankful for sunshine. #thankful #positive     ",
         "decode": "i am thankful for sunshine. #thankful #positive     ",
         "clean_tweet": "i am thankful for sunshine. #thankful #positive",
         "_deepnote_index_column": 39
        },
        {
         "id": 41,
         "label": 0,
         "tweet": "when you finally finish a book you've been working on for awhile...  #bookworm #ontothenextnovel ",
         "decode": "when you finally finish a book you've been working on for awhile...  #bookworm #ontothenextnovel ",
         "clean_tweet": "when you finally finish a book you have been working on for awhile... #bookworm #ontothenextnovel",
         "_deepnote_index_column": 40
        },
        {
         "id": 42,
         "label": 0,
         "tweet": "yup, being a knicks fan is hard, so its easier to just be an nba fan when the playoffs roll around …",
         "decode": "yup, being a knicks fan is hard, so its easier to just be an nba fan when the playoffs roll around …",
         "clean_tweet": "yup, being a knicks fan is hard, so its easier to just be an nba fan when the playoffs roll around …",
         "_deepnote_index_column": 41
        },
        {
         "id": 43,
         "label": 0,
         "tweet": "there is life after social networking. embrace each day. be   ",
         "decode": "there is life after social networking. embrace each day. be   ",
         "clean_tweet": "there is life after social networking. embrace each day. be",
         "_deepnote_index_column": 42
        },
        {
         "id": 44,
         "label": 0,
         "tweet": "my mom shares the same bihday as @user   bihday snake! see you this weekend Ã°ÂÂÂÃ°ÂÂÂ¼",
         "decode": "my mom shares the same bihday as @user   bihday snake! see you this weekend ????????????????",
         "clean_tweet": "my mom shares the same bihday as bihday snake! see you this weekend ????????????????",
         "_deepnote_index_column": 43
        },
        {
         "id": 45,
         "label": 0,
         "tweet": "lovely echeveria blooms#flowers #grow #gardening #iphonesia #bliss #blooms #basilicabotanica   ",
         "decode": "lovely echeveria blooms#flowers #grow #gardening #iphonesia #bliss #blooms #basilicabotanica   ",
         "clean_tweet": "lovely echeveria blooms#flowers #grow #gardening #iphonesia #bliss #blooms #basilicabotanica",
         "_deepnote_index_column": 44
        },
        {
         "id": 46,
         "label": 0,
         "tweet": "i am amazing. #i_am #positive #affirmation     ",
         "decode": "i am amazing. #i_am #positive #affirmation     ",
         "clean_tweet": "i am amazing. #i_am #positive #affirmation",
         "_deepnote_index_column": 45
        },
        {
         "id": 47,
         "label": 0,
         "tweet": "#model   i love u take with u all the time in urÃ°ÂÂÂ±!!! Ã°ÂÂÂÃ°ÂÂÂÃ°ÂÂÂÃ°ÂÂÂÃ°ÂÂÂ…",
         "decode": "#model   i love u take with u all the time in ur????????!!! ???????????????????????????????????????…",
         "clean_tweet": "#model i love you take with you all the time in ur????????!!! ?????????????????????????????????????…",
         "_deepnote_index_column": 46
        },
        {
         "id": 48,
         "label": 0,
         "tweet": "#whenever im   and #something goes #wrong  |  ",
         "decode": "#whenever im   and #something goes #wrong  |  ",
         "clean_tweet": "#whenever im and #something goes #wrong |",
         "_deepnote_index_column": 47
        },
        {
         "id": 49,
         "label": 0,
         "tweet": "feeling blue #illustration   ",
         "decode": "feeling blue #illustration   ",
         "clean_tweet": "feeling blue #illustration",
         "_deepnote_index_column": 48
        },
        {
         "id": 50,
         "label": 0,
         "tweet": "the best pa about life is knowing who you are! Ã°ÂÂÂÃ¢ÂÂÃ¯Â¸ÂÃ°ÂÂÂ¼Ã°ÂÂÂ»  Ã¢ÂÂ¦ ",
         "decode": "the best pa about life is knowing who you are! ????????????????????????????????????  ?????? ",
         "clean_tweet": "the best pa about life is knowing who you are! ???????????????????????????????????? ??????",
         "_deepnote_index_column": 49
        },
        {
         "id": 51,
         "label": 0,
         "tweet": "#abc2020 getting ready 2 remove the victums frm #pulseclub #prayfororlando  ",
         "decode": "#abc2020 getting ready 2 remove the victums frm #pulseclub #prayfororlando  ",
         "clean_tweet": "#abc2020 getting ready 2 remove the victums frm #pulseclub #prayfororlando",
         "_deepnote_index_column": 50
        },
        {
         "id": 52,
         "label": 0,
         "tweet": "for her #bihday we got her a #nose #job @user  Ã°ÂÂÂÃ°ÂÂÂ¶Ã°ÂÂÂÃ°ÂÂÂÃ°ÂÂÂ    #bihday …",
         "decode": "for her #bihday we got her a #nose #job @user  ????????????????????????????????????????    #bihday …",
         "clean_tweet": "for her #bihday we got her a #nose #job ???????????????????????????????????????? #bihday #petunia w…",
         "_deepnote_index_column": 51
        },
        {
         "id": 53,
         "label": 0,
         "tweet": "off to concelebrate at the #albanpilgrimage for the first time.   @user",
         "decode": "off to concelebrate at the #albanpilgrimage for the first time.   @user",
         "clean_tweet": "off to concelebrate at the #albanpilgrimage for the first time.",
         "_deepnote_index_column": 52
        },
        {
         "id": 54,
         "label": 0,
         "tweet": " @user let the scum-baggery begin..... ",
         "decode": " @user let the scum-baggery begin..... ",
         "clean_tweet": "let the scum-baggery begin.....",
         "_deepnote_index_column": 53
        },
        {
         "id": 55,
         "label": 0,
         "tweet": "thank you! Ã°ÂÂÂÃ°ÂÂÂ super love it! Ã¢ÂÂ¤Ã¯Â¸Â zpamdelacruz   #wedding# @ dolores, capas t…",
         "decode": "thank you! ???????????????? super love it! ???????????? zpamdelacruz   #wedding# @ dolores, capas t…",
         "clean_tweet": "thank you! ???????????????? super love it! ???????????? zpamdelacruz #wedding# dolores, capas tarla…",
         "_deepnote_index_column": 54
        },
        {
         "id": 56,
         "label": 0,
         "tweet": "a scourge on those playing baroque pieces on piano    beyond belief ",
         "decode": "a scourge on those playing baroque pieces on piano    beyond belief ",
         "clean_tweet": "a scourge on those playing baroque pieces on piano beyond belief",
         "_deepnote_index_column": 55
        },
        {
         "id": 57,
         "label": 1,
         "tweet": "@user lets fight against  #love #peace ",
         "decode": "@user lets fight against  #love #peace ",
         "clean_tweet": "lets fight against #love #peace",
         "_deepnote_index_column": 56
        },
        {
         "id": 58,
         "label": 0,
         "tweet": " happy fatherÃ¢ÂÂs day, mr. rayos #video   #fathers #day #rayos #world #hotvideo #videos",
         "decode": " happy father??????s day, mr. rayos #video   #fathers #day #rayos #world #hotvideo #videos",
         "clean_tweet": "happy father??????s day, mr. rayos #video #fathers #day #rayos #world #hotvideo #videos",
         "_deepnote_index_column": 57
        },
        {
         "id": 59,
         "label": 0,
         "tweet": " @user ascot times with this babe Ã¢ÂÂ¤Ã¯Â¸ÂÃ¢ÂÂ¤Ã¯Â¸Â #ascot #fashion #monochrome #style   #in…",
         "decode": " @user ascot times with this babe ???????????????????????? #ascot #fashion #monochrome #style   #in…",
         "clean_tweet": "ascot times with this babe ???????????????????????? #ascot #fashion #monochrome #style #instahappyd…",
         "_deepnote_index_column": 58
        },
        {
         "id": 60,
         "label": 0,
         "tweet": "the weekend..is here!!Ã°ÂÂÂÃ°ÂÂÂÃ°ÂÂÂÃ°ÂÂÂÃ°ÂÂÂ #selfie   #yolo #xoxo #like4like ",
         "decode": "the weekend..is here!!???????????????????????????????????????? #selfie   #yolo #xoxo #like4like ",
         "clean_tweet": "the weekend..is here!!???????????????????????????????????????? #selfie #yolo #xoxo #like4like",
         "_deepnote_index_column": 59
        },
        {
         "id": 61,
         "label": 0,
         "tweet": "happy at work conference: right' mindset leads to culture-of-development organizations    #work #mi…",
         "decode": "happy at work conference: right' mindset leads to culture-of-development organizations    #work #mi…",
         "clean_tweet": "happy at work conference: right' mindset leads to culture-of-development organizations #work #minds…",
         "_deepnote_index_column": 60
        },
        {
         "id": 62,
         "label": 0,
         "tweet": "christina grimmie's  last performance before being shot...  via @user #christinarip #voice #christi…",
         "decode": "christina grimmie's  last performance before being shot...  via @user #christinarip #voice #christi…",
         "clean_tweet": "christina grimmie's last performance before being shot... via #christinarip #voice #christinagrimmie",
         "_deepnote_index_column": 61
        },
        {
         "id": 63,
         "label": 0,
         "tweet": "we are ready to dance #roar #preschoolers   #students #proudÃ¢ÂÂ¦ ",
         "decode": "we are ready to dance #roar #preschoolers   #students #proud?????? ",
         "clean_tweet": "we are ready to dance #roar #preschoolers #students #proud??????",
         "_deepnote_index_column": 62
        },
        {
         "id": 64,
         "label": 0,
         "tweet": "you've really hu my feelings :(  ",
         "decode": "you've really hu my feelings :(  ",
         "clean_tweet": "you have really hu my feelings :(",
         "_deepnote_index_column": 63
        },
        {
         "id": 65,
         "label": 0,
         "tweet": "@user my wife whom i adore had to miss your poland show because she had surgery. her name is bridge…",
         "decode": "@user my wife whom i adore had to miss your poland show because she had surgery. her name is bridge…",
         "clean_tweet": "my wife whom i adore had to miss your poland show because she had surgery. her name is bridget &amp…",
         "_deepnote_index_column": 64
        },
        {
         "id": 66,
         "label": 0,
         "tweet": "@user i am so jealous of you right now.... #chatiado  ",
         "decode": "@user i am so jealous of you right now.... #chatiado  ",
         "clean_tweet": "i am so jealous of you right now.... #chatiado",
         "_deepnote_index_column": 65
        },
        {
         "id": 67,
         "label": 0,
         "tweet": "i celebrate every man that has played it's fatherly role.   father's day#",
         "decode": "i celebrate every man that has played it's fatherly role.   father's day#",
         "clean_tweet": "i celebrate every man that has played it is fatherly role. father's day#",
         "_deepnote_index_column": 66
        },
        {
         "id": 68,
         "label": 0,
         "tweet": "i'm sure they are just as happy.... Ã°ÂÂÂÃ°ÂÂÂ½Ã°ÂÂÂÃ°ÂÂÂ½Ã°ÂÂÂÃ°ÂÂÂ½   hour  ",
         "decode": "i'm sure they are just as happy.... ????????????????????????????????????????????????   hour  ",
         "clean_tweet": "i am sure they are just as happy.... ???????????????????????????????????????????????? hour",
         "_deepnote_index_column": 67
        },
        {
         "id": 69,
         "label": 1,
         "tweet": "Ã°ÂÂÂ©the white establishment can't have blk folx running around loving themselves and promoting …",
         "decode": "????????the white establishment can't have blk folx running around loving themselves and promoting …",
         "clean_tweet": "????????the white establishment cannot have blk folx running around loving themselves and promoting…",
         "_deepnote_index_column": 68
        },
        {
         "id": 70,
         "label": 0,
         "tweet": "good morning! the journey begins! Ã°ÂÂÂÃ°ÂÂÂÃ°ÂÂÂ»Ã°ÂÂÂ³   #travel #yeah #thejourneybegin…",
         "decode": "good morning! the journey begins! ????????????????????????????????   #travel #yeah #thejourneybegin…",
         "clean_tweet": "good morning! the journey begins! ???????????????????????????????? #travel #yeah #thejourneybegins …",
         "_deepnote_index_column": 69
        },
        {
         "id": 71,
         "label": 0,
         "tweet": " @user # if you #luv #hottweets like this from Ã¢ÂÂ¶ Ã¢ÂÂ¥#venusexchangeÃ¢ÂÂ¥ ",
         "decode": " @user # if you #luv #hottweets like this from ?????? ??????#venusexchange?????? ",
         "clean_tweet": "# if you #luv #hottweets like this from ?????? ??????#venusexchange??????",
         "_deepnote_index_column": 70
        },
        {
         "id": 72,
         "label": 0,
         "tweet": "our new brochures have arrived! how exciting!! #aworks #solutions   ",
         "decode": "our new brochures have arrived! how exciting!! #aworks #solutions   ",
         "clean_tweet": "our new brochures have arrived! how exciting!! #aworks #solutions",
         "_deepnote_index_column": 71
        },
        {
         "id": 73,
         "label": 0,
         "tweet": "so much stuff happening in florida! first #orlando shooting and now #disneygatorattack on a two yea…",
         "decode": "so much stuff happening in florida! first #orlando shooting and now #disneygatorattack on a two yea…",
         "clean_tweet": "so much stuff happening in florida! first #orlando shooting and now #disneygatorattack on a two yea…",
         "_deepnote_index_column": 72
        },
        {
         "id": 74,
         "label": 0,
         "tweet": "@user ferrari will do itÃ°ÂÂÂªÃ°ÂÂÂ¼ for the sake of the championship. this gp is clearly a tur…",
         "decode": "@user ferrari will do it???????????????? for the sake of the championship. this gp is clearly a tur…",
         "clean_tweet": "ferrari will do it???????????????? for the sake of the championship. this gp is clearly a turning p…",
         "_deepnote_index_column": 73
        },
        {
         "id": 75,
         "label": 0,
         "tweet": "aced my first test!   #proud ",
         "decode": "aced my first test!   #proud ",
         "clean_tweet": "aced my first test! #proud",
         "_deepnote_index_column": 74
        },
        {
         "id": 76,
         "label": 0,
         "tweet": "  seeks probe into #udtapunjab' leak, points finger at #amarinder, #aap  ",
         "decode": "  seeks probe into #udtapunjab' leak, points finger at #amarinder, #aap  ",
         "clean_tweet": "seeks probe into #udtapunjab' leak, points finger at #amarinder, #aap",
         "_deepnote_index_column": 75
        },
        {
         "id": 77,
         "label": 0,
         "tweet": "@user wrapping up #senseaboutmaths @user 6th   @user @user @user ",
         "decode": "@user wrapping up #senseaboutmaths @user 6th   @user @user @user ",
         "clean_tweet": "wrapping up #senseaboutmaths 6th",
         "_deepnote_index_column": 76
        },
        {
         "id": 78,
         "label": 1,
         "tweet": "@user hey, white people: you can call people 'white' by @user  #race  #identity #medÃ¢ÂÂ¦",
         "decode": "@user hey, white people: you can call people 'white' by @user  #race  #identity #med??????",
         "clean_tweet": "hey, white people: you can call people 'white' by #race #identity #med??????",
         "_deepnote_index_column": 77
        },
        {
         "id": 79,
         "label": 0,
         "tweet": "@user @user you might be. just have not shown here today. regurgitated talking points and name call…",
         "decode": "@user @user you might be. just have not shown here today. regurgitated talking points and name call…",
         "clean_tweet": "you might be. just have not shown here today. regurgitated talking points and name calling?",
         "_deepnote_index_column": 78
        },
        {
         "id": 80,
         "label": 0,
         "tweet": "sometimes you have to raise a few brows to raise the bar. #golfstrengthandconditioning   #strong #f…",
         "decode": "sometimes you have to raise a few brows to raise the bar. #golfstrengthandconditioning   #strong #f…",
         "clean_tweet": "sometimes you have to raise a few brows to raise the bar. #golfstrengthandconditioning #strong #fel…",
         "_deepnote_index_column": 79
        },
        {
         "id": 81,
         "label": 0,
         "tweet": "  about that Ã°ÂÂÂÃ°ÂÂÂÃ°ÂÂÂ #greathonour #careerconvos @user @user ",
         "decode": "  about that ???????????????????????? #greathonour #careerconvos @user @user ",
         "clean_tweet": "about that ???????????????????????? #greathonour #careerconvos",
         "_deepnote_index_column": 80
        },
        {
         "id": 82,
         "label": 0,
         "tweet": " @user designing #innovative learning space @user to include #wateringhole #cave #mountaintop #camp…",
         "decode": " @user designing #innovative learning space @user to include #wateringhole #cave #mountaintop #camp…",
         "clean_tweet": "designing #innovative learning space to include #wateringhole #cave #mountaintop #campfire h??????",
         "_deepnote_index_column": 81
        },
        {
         "id": 83,
         "label": 1,
         "tweet": "how the #altright uses  &amp; insecurity to lure men into #whitesupremacy    ",
         "decode": "how the #altright uses  &amp; insecurity to lure men into #whitesupremacy    ",
         "clean_tweet": "how the #altright uses &amp; insecurity to lure men into #whitesupremacy",
         "_deepnote_index_column": 82
        },
        {
         "id": 84,
         "label": 0,
         "tweet": "carrying a gun wouldn't of helped if you can't take it in with you. gun control won't stop the blac…",
         "decode": "carrying a gun wouldn't of helped if you can't take it in with you. gun control won't stop the blac…",
         "clean_tweet": "carrying a gun would not of helped if you cannot take it in with you. gun control will not stop the…",
         "_deepnote_index_column": 83
        },
        {
         "id": 85,
         "label": 0,
         "tweet": "use the power of your mind to #heal your body!! -     #altwaystoheal #healthy   #peace! ",
         "decode": "use the power of your mind to #heal your body!! -     #altwaystoheal #healthy   #peace! ",
         "clean_tweet": "use the power of your mind to #heal your body!! - #altwaystoheal #healthy #peace!",
         "_deepnote_index_column": 84
        },
        {
         "id": 86,
         "label": 0,
         "tweet": "woohoo!! just over 5 weeks to go!   ",
         "decode": "woohoo!! just over 5 weeks to go!   ",
         "clean_tweet": "woohoo!! just over 5 weeks to go!",
         "_deepnote_index_column": 85
        },
        {
         "id": 87,
         "label": 0,
         "tweet": "being in a far away place where you have no family members hus  ",
         "decode": "being in a far away place where you have no family members hus  ",
         "clean_tweet": "being in a far away place where you have no family members hus",
         "_deepnote_index_column": 86
        },
        {
         "id": 88,
         "label": 0,
         "tweet": "ready to rehearse tonight with new music and new videos, look out for the announcement! #midweek #n…",
         "decode": "ready to rehearse tonight with new music and new videos, look out for the announcement! #midweek #n…",
         "clean_tweet": "ready to rehearse tonight with new music and new videos, look out for the announcement! #midweek #n…",
         "_deepnote_index_column": 87
        },
        {
         "id": 89,
         "label": 0,
         "tweet": "now on monday nights at 8pm on #up channel!!!! i finally get to see what all the fuss is about!!!   ",
         "decode": "now on monday nights at 8pm on #up channel!!!! i finally get to see what all the fuss is about!!!   ",
         "clean_tweet": "now on monday nights at 8pm on #up channel!!!! i finally get to see what all the fuss is about!!!",
         "_deepnote_index_column": 88
        },
        {
         "id": 90,
         "label": 0,
         "tweet": "watching the new episodes of @user on @user  ",
         "decode": "watching the new episodes of @user on @user  ",
         "clean_tweet": "watching the new episodes of on",
         "_deepnote_index_column": 89
        },
        {
         "id": 91,
         "label": 0,
         "tweet": " @user offline now after a very nice and long night.. Ã°ÂÂÂ #snapchat @user   #redhead #vermilli…",
         "decode": " @user offline now after a very nice and long night.. ???????? #snapchat @user   #redhead #vermilli…",
         "clean_tweet": "offline now after a very nice and long night.. ???????? #snapchat #redhead #vermillionred",
         "_deepnote_index_column": 90
        },
        {
         "id": 92,
         "label": 0,
         "tweet": " 15 things incredibly   #people do ",
         "decode": " 15 things incredibly   #people do ",
         "clean_tweet": "15 things incredibly #people do",
         "_deepnote_index_column": 91
        },
        {
         "id": 93,
         "label": 0,
         "tweet": "yes! received my acceptance letter for my masters so will be back at @user again in october!    #go…",
         "decode": "yes! received my acceptance letter for my masters so will be back at @user again in october!    #go…",
         "clean_tweet": "yes! received my acceptance letter for my masters so will be back at again in october! #goodtimes #…",
         "_deepnote_index_column": 92
        },
        {
         "id": 94,
         "label": 0,
         "tweet": "daughter riding her bike around driveway, son playing his guitar for us while we enjoy Ã°ÂÂÂº by …",
         "decode": "daughter riding her bike around driveway, son playing his guitar for us while we enjoy ???????? by …",
         "clean_tweet": "daughter riding her bike around driveway, son playing his guitar for us while we enjoy ???????? by …",
         "_deepnote_index_column": 93
        },
        {
         "id": 95,
         "label": 0,
         "tweet": "omg!!! loving this station!!! way to jam out at work!!! while getting work done of course!!!!   #me…",
         "decode": "omg!!! loving this station!!! way to jam out at work!!! while getting work done of course!!!!   #me…",
         "clean_tweet": "omg!!! loving this station!!! way to jam out at work!!! while getting work done of course!!!! #memo…",
         "_deepnote_index_column": 94
        },
        {
         "id": 96,
         "label": 0,
         "tweet": "@user i'll always hope that one day i'll get to hug you, but i don't think that it's gonna happen a…",
         "decode": "@user i'll always hope that one day i'll get to hug you, but i don't think that it's gonna happen a…",
         "clean_tweet": "i will always hope that one day i will get to hug you, but i do not think that it is gonna happen a…",
         "_deepnote_index_column": 95
        },
        {
         "id": 97,
         "label": 0,
         "tweet": "#model   i love u take with u all the time in urÃ°ÂÂÂ±!!! Ã°ÂÂÂÃ°ÂÂÂÃ°ÂÂÂÃ°ÂÂÂÃ°ÂÂÂ…",
         "decode": "#model   i love u take with u all the time in ur????????!!! ???????????????????????????????????????…",
         "clean_tweet": "#model i love you take with you all the time in ur????????!!! ?????????????????????????????????????…",
         "_deepnote_index_column": 96
        },
        {
         "id": 98,
         "label": 0,
         "tweet": "  couple having sex fat naked japanese girls  ",
         "decode": "  couple having sex fat naked japanese girls  ",
         "clean_tweet": "couple having sex fat naked japanese girls",
         "_deepnote_index_column": 97
        },
        {
         "id": 99,
         "label": 0,
         "tweet": "#hump on that    #hump day #humpersÃ°ÂÂÂ© @ edwardsville, pennsylvania ",
         "decode": "#hump on that    #hump day #humpers???????? @ edwardsville, pennsylvania ",
         "clean_tweet": "#hump on that #hump day #humpers???????? edwardsville, pennsylvania",
         "_deepnote_index_column": 98
        },
        {
         "id": 100,
         "label": 0,
         "tweet": "personalised we... gbp 7.99 get here:  #shop #cool   #home #fun ",
         "decode": "personalised we... gbp 7.99 get here:  #shop #cool   #home #fun ",
         "clean_tweet": "personalised we... gbp 7.99 get here: #shop #cool #home #fun",
         "_deepnote_index_column": 99
        }
       ],
       "rows_bottom": [
        {
         "id": 31863,
         "label": 0,
         "tweet": " @user dust   #piano by gummy beatz.   #beats",
         "decode": " @user dust   #piano by gummy beatz.   #beats",
         "clean_tweet": "dust #piano by gummy beatz. #beats",
         "_deepnote_index_column": 31862
        },
        {
         "id": 31864,
         "label": 1,
         "tweet": "#us refuses to veto resolution on #israel  #zionism #illegalsettlements  ",
         "decode": "#us refuses to veto resolution on #israel  #zionism #illegalsettlements  ",
         "clean_tweet": "#us refuses to veto resolution on #israel #zionism #illegalsettlements",
         "_deepnote_index_column": 31863
        },
        {
         "id": 31865,
         "label": 1,
         "tweet": "@user #allahsoil we should not conflate islamic extremism with terrorism    #emiratis #2016in4Ã¢ÂÂ¦",
         "decode": "@user #allahsoil we should not conflate islamic extremism with terrorism    #emiratis #2016in4??????",
         "clean_tweet": "#allahsoil we should not conflate islamic extremism with terrorism #emiratis #2016in4??????",
         "_deepnote_index_column": 31864
        },
        {
         "id": 31866,
         "label": 1,
         "tweet": "see what #russia is doing in #syria,  destroying masjids  ",
         "decode": "see what #russia is doing in #syria,  destroying masjids  ",
         "clean_tweet": "see what #russia is doing in #syria, destroying masjids",
         "_deepnote_index_column": 31865
        },
        {
         "id": 31867,
         "label": 0,
         "tweet": "now playing  :  philip aaberg - \" elegy\" on    #melancholy   #melancholymusic",
         "decode": "now playing  :  philip aaberg - \" elegy\" on    #melancholy   #melancholymusic",
         "clean_tweet": "now playing : philip aaberg - \" elegy\" on #melancholy #melancholymusic",
         "_deepnote_index_column": 31866
        },
        {
         "id": 31868,
         "label": 0,
         "tweet": "i want some cereal &amp; ain't tryna get up Ã°ÂÂÂ  ",
         "decode": "i want some cereal &amp; ain't tryna get up ????????  ",
         "clean_tweet": "i want some cereal &amp; is not tryna get up ????????",
         "_deepnote_index_column": 31867
        },
        {
         "id": 31869,
         "label": 0,
         "tweet": "um escue me but, where is deez animals? @user @user #wheredapuppjes #ciymove  ",
         "decode": "um escue me but, where is deez animals? @user @user #wheredapuppjes #ciymove  ",
         "clean_tweet": "um escue me but, where is deez animals? #wheredapuppjes #ciymove",
         "_deepnote_index_column": 31868
        },
        {
         "id": 31870,
         "label": 0,
         "tweet": "when your house is full of people and all you want to do is lock yourself in your room.    #depress…",
         "decode": "when your house is full of people and all you want to do is lock yourself in your room.    #depress…",
         "clean_tweet": "when your house is full of people and all you want to do is lock yourself in your room. #depression",
         "_deepnote_index_column": 31869
        },
        {
         "id": 31871,
         "label": 0,
         "tweet": "apparently the nba is now the new wwe! tim donaghy: nba suspended green to prolong finals  via @use…",
         "decode": "apparently the nba is now the new wwe! tim donaghy: nba suspended green to prolong finals  via @use…",
         "clean_tweet": "apparently the nba is now the new wwe! tim donaghy: nba suspended green to prolong finals via #mind…",
         "_deepnote_index_column": 31870
        },
        {
         "id": 31872,
         "label": 0,
         "tweet": "thank you for following @user it's nice to meet you. Ã°ÂÂÂ·#friends   tuesday Ã°ÂÂÂ ",
         "decode": "thank you for following @user it's nice to meet you. ????????#friends   tuesday ???????? ",
         "clean_tweet": "thank you for following it is nice to meet you. ????????#friends tuesday ????????",
         "_deepnote_index_column": 31871
        },
        {
         "id": 31873,
         "label": 0,
         "tweet": "what is the world coming to? are massacres going to be a way of life?   ",
         "decode": "what is the world coming to? are massacres going to be a way of life?   ",
         "clean_tweet": "what is the world coming to? are massacres going to be a way of life?",
         "_deepnote_index_column": 31872
        },
        {
         "id": 31874,
         "label": 0,
         "tweet": " @user *big annoucement* you will be able to play as #prompto on #psvr #finalfantastyxv #sonye3 #ga…",
         "decode": " @user *big annoucement* you will be able to play as #prompto on #psvr #finalfantastyxv #sonye3 #ga…",
         "clean_tweet": "*big annoucement* you will be able to play as #prompto on #psvr #finalfantastyxv #sonye3 #gameate3",
         "_deepnote_index_column": 31873
        },
        {
         "id": 31875,
         "label": 0,
         "tweet": "sunday funday!! Ã°ÂÂÂÃ°ÂÂÂ»Ã¢ÂÂÃ°ÂÂÂ   #smile  #happiness #love ",
         "decode": "sunday funday!! ??????????????????????????????   #smile  #happiness #love ",
         "clean_tweet": "sunday funday!! ?????????????????????????????? #smile #happiness #love",
         "_deepnote_index_column": 31874
        },
        {
         "id": 31876,
         "label": 0,
         "tweet": " @user my beautiful princess mummy #muma #bestfriend #beaut #smiley   ",
         "decode": " @user my beautiful princess mummy #muma #bestfriend #beaut #smiley   ",
         "clean_tweet": "my beautiful princess mummy #muma #bestfriend #beaut #smiley",
         "_deepnote_index_column": 31875
        },
        {
         "id": 31877,
         "label": 0,
         "tweet": "all stocked up waiting now for lowery and dermot to bring this one home   days #good luck lads",
         "decode": "all stocked up waiting now for lowery and dermot to bring this one home   days #good luck lads",
         "clean_tweet": "all stocked up waiting now for lowery and dermot to bring this one home days #good luck lads",
         "_deepnote_index_column": 31876
        },
        {
         "id": 31878,
         "label": 0,
         "tweet": "@user when will we be able to sta making up the audience??  ",
         "decode": "@user when will we be able to sta making up the audience??  ",
         "clean_tweet": "when will we be able to sta making up the audience??",
         "_deepnote_index_column": 31877
        },
        {
         "id": 31879,
         "label": 0,
         "tweet": "@user thank you! i put up another video after its done! but we're remodeling the whole house!  ",
         "decode": "@user thank you! i put up another video after its done! but we're remodeling the whole house!  ",
         "clean_tweet": "thank you! i put up another video after its done! but we are remodeling the whole house!",
         "_deepnote_index_column": 31878
        },
        {
         "id": 31880,
         "label": 0,
         "tweet": "early evening sunshine at the @user summer garden pay tonight, including some rather cool music   ",
         "decode": "early evening sunshine at the @user summer garden pay tonight, including some rather cool music   ",
         "clean_tweet": "early evening sunshine at the summer garden pay tonight, including some rather cool music",
         "_deepnote_index_column": 31879
        },
        {
         "id": 31881,
         "label": 0,
         "tweet": "today is #flipflopday. so add flipflops to your casual clothes today and be happy #summer  ",
         "decode": "today is #flipflopday. so add flipflops to your casual clothes today and be happy #summer  ",
         "clean_tweet": "today is #flipflopday. so add flipflops to your casual clothes today and be happy #summer",
         "_deepnote_index_column": 31880
        },
        {
         "id": 31882,
         "label": 0,
         "tweet": "please like &amp; share if you are agree  #dna #dnaquotes #quote #quoteoftheday #love   #proverb #l…",
         "decode": "please like &amp; share if you are agree  #dna #dnaquotes #quote #quoteoftheday #love   #proverb #l…",
         "clean_tweet": "please like &amp; share if you are agree #dna #dnaquotes #quote #quoteoftheday #love #proverb #life…",
         "_deepnote_index_column": 31881
        },
        {
         "id": 31883,
         "label": 1,
         "tweet": "come on n wake the eff up usa! this is craziness. does it all stem from  n hatred of #obama ? it se…",
         "decode": "come on n wake the eff up usa! this is craziness. does it all stem from  n hatred of #obama ? it se…",
         "clean_tweet": "come on n wake the eff up usa! this is craziness. does it all stem from n hatred of #obama ? it see…",
         "_deepnote_index_column": 31882
        },
        {
         "id": 31884,
         "label": 0,
         "tweet": "we spent #familytime by doing simple wefie, we're   #latepost #melawanarus untukÃ¢ÂÂ¦ ",
         "decode": "we spent #familytime by doing simple wefie, we're   #latepost #melawanarus untuk?????? ",
         "clean_tweet": "we spent #familytime by doing simple wefie, we are #latepost #melawanarus untuk??????",
         "_deepnote_index_column": 31883
        },
        {
         "id": 31885,
         "label": 0,
         "tweet": "mass shooting in us = grp calling to ban guns. grp defending guns. gun comp stocks soar. victims be…",
         "decode": "mass shooting in us = grp calling to ban guns. grp defending guns. gun comp stocks soar. victims be…",
         "clean_tweet": "mass shooting in us = grp calling to ban guns. grp defending guns. gun comp stocks soar. victims be…",
         "_deepnote_index_column": 31884
        },
        {
         "id": 31886,
         "label": 0,
         "tweet": " episode 1 of our vlog is now live!!!   #interrailing #london to #amsterdam #britishguy #austriangi…",
         "decode": " episode 1 of our vlog is now live!!!   #interrailing #london to #amsterdam #britishguy #austriangi…",
         "clean_tweet": "episode 1 of our vlog is now live!!! #interrailing #london to #amsterdam #britishguy #austriangirl …",
         "_deepnote_index_column": 31885
        },
        {
         "id": 31887,
         "label": 0,
         "tweet": "100 amazing health benefits of cucumbers!    #healthy is  !!  #doplants! ",
         "decode": "100 amazing health benefits of cucumbers!    #healthy is  !!  #doplants! ",
         "clean_tweet": "100 amazing health benefits of cucumbers! #healthy is !! #doplants!",
         "_deepnote_index_column": 31886
        },
        {
         "id": 31888,
         "label": 0,
         "tweet": "#mirrorofthewitch ep9 time!!!   Ã°ÂÂÂÃ°ÂÂÂÃ°ÂÂÂ",
         "decode": "#mirrorofthewitch ep9 time!!!   ????????????????????????",
         "clean_tweet": "#mirrorofthewitch ep9 time!!! ????????????????????????",
         "_deepnote_index_column": 31887
        },
        {
         "id": 31889,
         "label": 0,
         "tweet": " @user i am thankful for inspiration. #thankful #positive     ",
         "decode": " @user i am thankful for inspiration. #thankful #positive     ",
         "clean_tweet": "i am thankful for inspiration. #thankful #positive",
         "_deepnote_index_column": 31888
        },
        {
         "id": 31890,
         "label": 0,
         "tweet": "feels good to know god's grace and mercy are infiniteÃ¢ÂÂ¢   tho #chapelflow ",
         "decode": "feels good to know god's grace and mercy are infinite??????   tho #chapelflow ",
         "clean_tweet": "feels good to know god's grace and mercy are infinite?????? tho #chapelflow",
         "_deepnote_index_column": 31889
        },
        {
         "id": 31891,
         "label": 0,
         "tweet": "i will be so angry with arsenal if city sign #aubameyang for the money which we could afford   #ars…",
         "decode": "i will be so angry with arsenal if city sign #aubameyang for the money which we could afford   #ars…",
         "clean_tweet": "i will be so angry with arsenal if city sign #aubameyang for the money which we could afford #arsen…",
         "_deepnote_index_column": 31890
        },
        {
         "id": 31892,
         "label": 1,
         "tweet": "dr. frances cress welsing - racism defined #whitesupremacy  #drfranciscresswelsing ",
         "decode": "dr. frances cress welsing - racism defined #whitesupremacy  #drfranciscresswelsing ",
         "clean_tweet": "dr. frances cress welsing - racism defined #whitesupremacy #drfranciscresswelsing",
         "_deepnote_index_column": 31891
        },
        {
         "id": 31893,
         "label": 0,
         "tweet": "get high and leave everything else behind Ã°ÂÂÂ¸ #good #night #havefun   #drink #love #peaceÃ¢ÂÂ…",
         "decode": "get high and leave everything else behind ???????? #good #night #havefun   #drink #love #peace?????…",
         "clean_tweet": "get high and leave everything else behind ???????? #good #night #havefun #drink #love #peace??????",
         "_deepnote_index_column": 31892
        },
        {
         "id": 31894,
         "label": 0,
         "tweet": "yumy yumy. Ã°ÂÂÂ° three milks cake (toa tres leches) made by my Ã°ÂÂÂª    #cake #desseÃ¢ÂÂ¦ ",
         "decode": "yumy yumy. ???????? three milks cake (toa tres leches) made by my ????????    #cake #desse?????? ",
         "clean_tweet": "yumy yumy. ???????? three milks cake (toa tres leches) made by my ???????? #cake #desse??????",
         "_deepnote_index_column": 31893
        },
        {
         "id": 31895,
         "label": 0,
         "tweet": "Ã°ÂÂÂ   #tech 7 bitcoin postcards you can send to your fellow bitcoiners  ",
         "decode": "????????   #tech 7 bitcoin postcards you can send to your fellow bitcoiners  ",
         "clean_tweet": "???????? #tech 7 bitcoin postcards you can send to your fellow bitcoiners",
         "_deepnote_index_column": 31894
        },
        {
         "id": 31896,
         "label": 0,
         "tweet": "#girliguessimwithdeath lets get this trending  ",
         "decode": "#girliguessimwithdeath lets get this trending  ",
         "clean_tweet": "#girliguessimwithdeath lets get this trending",
         "_deepnote_index_column": 31895
        },
        {
         "id": 31897,
         "label": 0,
         "tweet": "great day editing my first block. watching all the great work everyone did back is a joy   #wow",
         "decode": "great day editing my first block. watching all the great work everyone did back is a joy   #wow",
         "clean_tweet": "great day editing my first block. watching all the great work everyone did back is a joy #wow",
         "_deepnote_index_column": 31896
        },
        {
         "id": 31898,
         "label": 0,
         "tweet": "how stupid are the russians and english fans killing each other for a 1-1 game ! please grow up #eu…",
         "decode": "how stupid are the russians and english fans killing each other for a 1-1 game ! please grow up #eu…",
         "clean_tweet": "how stupid are the russians and english fans killing each other for a 1-1 game ! please grow up #eu…",
         "_deepnote_index_column": 31897
        },
        {
         "id": 31899,
         "label": 0,
         "tweet": "sunday night. Ã°ÂÂÂªÃ°ÂÂÂ#goals   tomorrow's a new day new goals .Ã°ÂÂÂÃ°ÂÂÂÃ°ÂÂÂ",
         "decode": "sunday night. ????????????????#goals   tomorrow's a new day new goals .????????????????????????",
         "clean_tweet": "sunday night. ????????????????#goals tomorrow's a new day new goals .????????????????????????",
         "_deepnote_index_column": 31898
        },
        {
         "id": 31900,
         "label": 1,
         "tweet": "@user the end of   #me #selfie # #love #messi #cr7 #religion #christianity #mecca_live ",
         "decode": "@user the end of   #me #selfie # #love #messi #cr7 #religion #christianity #mecca_live ",
         "clean_tweet": "the end of #me #selfie # #love #messi #cr7 #religion #christianity #mecca_live",
         "_deepnote_index_column": 31899
        },
        {
         "id": 31901,
         "label": 0,
         "tweet": "  #father's #day to all that deserve to be #call a #dad even if it's a #woman. #god #blessÃ¢ÂÂ¦ ",
         "decode": "  #father's #day to all that deserve to be #call a #dad even if it's a #woman. #god #bless?????? ",
         "clean_tweet": "#father's #day to all that deserve to be #call a #dad even if it is a #woman. #god #bless??????",
         "_deepnote_index_column": 31900
        },
        {
         "id": 31902,
         "label": 0,
         "tweet": "last one Ã°ÂÂÂÃ°ÂÂÂ . appletstag #lastone #ipromise #selfie #sorrynotsorry #fun #nofilter #su…",
         "decode": "last one ???????????????? . appletstag #lastone #ipromise #selfie #sorrynotsorry #fun #nofilter #su…",
         "clean_tweet": "last one ???????????????? . appletstag #lastone #ipromise #selfie #sorrynotsorry #fun #nofilter #su…",
         "_deepnote_index_column": 31901
        },
        {
         "id": 31903,
         "label": 0,
         "tweet": "i will always remember #dl2016 for the day we got engaged @user   #download #downloadfestival",
         "decode": "i will always remember #dl2016 for the day we got engaged @user   #download #downloadfestival",
         "clean_tweet": "i will always remember #dl2016 for the day we got engaged #download #downloadfestival",
         "_deepnote_index_column": 31902
        },
        {
         "id": 31904,
         "label": 1,
         "tweet": "@user @user  nothing. that would be .  #taharrush #taharrushgamea #rapeugee ",
         "decode": "@user @user  nothing. that would be .  #taharrush #taharrushgamea #rapeugee ",
         "clean_tweet": "nothing. that would be . #taharrush #taharrushgamea #rapeugee",
         "_deepnote_index_column": 31903
        },
        {
         "id": 31905,
         "label": 0,
         "tweet": "#model   i love u take with u all the time in urÃ°ÂÂÂ±!!! Ã°ÂÂÂÃ°ÂÂÂÃ°ÂÂÂÃ°ÂÂÂÃ°ÂÂÂ…",
         "decode": "#model   i love u take with u all the time in ur????????!!! ???????????????????????????????????????…",
         "clean_tweet": "#model i love you take with you all the time in ur????????!!! ?????????????????????????????????????…",
         "_deepnote_index_column": 31904
        },
        {
         "id": 31906,
         "label": 0,
         "tweet": " @user i love you for this Ã°ÂÂÂ¹Ã°ÂÂÂ¹Ã°ÂÂÂÃ°ÂÂÂ¾ ",
         "decode": " @user i love you for this ???????????????????????????????? ",
         "clean_tweet": "i love you for this ????????????????????????????????",
         "_deepnote_index_column": 31905
        },
        {
         "id": 31907,
         "label": 0,
         "tweet": " !!!! new @user #showerdec on its way for installation next week!!! looking forward to fitting it! …",
         "decode": " !!!! new @user #showerdec on its way for installation next week!!! looking forward to fitting it! …",
         "clean_tweet": "!!!! new #showerdec on its way for installation next week!!! looking forward to fitting it! #teamco…",
         "_deepnote_index_column": 31906
        },
        {
         "id": 31908,
         "label": 0,
         "tweet": "@user love that your statements came from the man who was rebuked by voters in 2008.   #goodluckinn…",
         "decode": "@user love that your statements came from the man who was rebuked by voters in 2008.   #goodluckinn…",
         "clean_tweet": "love that your statements came from the man who was rebuked by voters in 2008. #goodluckinnovember …",
         "_deepnote_index_column": 31907
        },
        {
         "id": 31909,
         "label": 0,
         "tweet": "if dudes wana fuck eachother n get married, i can never be mad at tht. jus means more females for m…",
         "decode": "if dudes wana fuck eachother n get married, i can never be mad at tht. jus means more females for m…",
         "clean_tweet": "if dudes wana fuck eachother n get married, i can never be mad at tht. jus means more females for m…",
         "_deepnote_index_column": 31908
        },
        {
         "id": 31910,
         "label": 0,
         "tweet": "steak night at work means a night off training, shandy, tv, chocolate and knitting.  Ã¢ÂÂ¦  ",
         "decode": "steak night at work means a night off training, shandy, tv, chocolate and knitting.  ??????  ",
         "clean_tweet": "steak night at work means a night off training, shandy, tv, chocolate and knitting. ??????",
         "_deepnote_index_column": 31909
        },
        {
         "id": 31911,
         "label": 0,
         "tweet": "@user @user not a brown-noser?? you're practically making out with hillary in your profile pictureÃ…",
         "decode": "@user @user not a brown-noser?? you're practically making out with hillary in your profile picture?…",
         "clean_tweet": "not a brown-noser?? you are practically making out with hillary in your profile picture????????????…",
         "_deepnote_index_column": 31910
        },
        {
         "id": 31912,
         "label": 0,
         "tweet": " .... because i choose to be. ",
         "decode": " .... because i choose to be. ",
         "clean_tweet": ".... because i choose to be.",
         "_deepnote_index_column": 31911
        },
        {
         "id": 31913,
         "label": 1,
         "tweet": "i couldn't end #2016 without mentioning #trump.  #feminism #photographs #shockfactor  ",
         "decode": "i couldn't end #2016 without mentioning #trump.  #feminism #photographs #shockfactor  ",
         "clean_tweet": "i could not end #2016 without mentioning #trump. #feminism #photographs #shockfactor",
         "_deepnote_index_column": 31912
        },
        {
         "id": 31914,
         "label": 0,
         "tweet": "#chateaubriand #stovells absolutely lovely #food #yum   ",
         "decode": "#chateaubriand #stovells absolutely lovely #food #yum   ",
         "clean_tweet": "#chateaubriand #stovells absolutely lovely #food #yum",
         "_deepnote_index_column": 31913
        },
        {
         "id": 31915,
         "label": 0,
         "tweet": " @user #frarou woohoo! #euro2016 kicks off..!  ",
         "decode": " @user #frarou woohoo! #euro2016 kicks off..!  ",
         "clean_tweet": "#frarou woohoo! #euro2016 kicks off..!",
         "_deepnote_index_column": 31914
        },
        {
         "id": 31916,
         "label": 0,
         "tweet": "and here i thought @user  and i were having a lovely conversation. i guess he only debates with peo…",
         "decode": "and here i thought @user  and i were having a lovely conversation. i guess he only debates with peo…",
         "clean_tweet": "and here i thought and i were having a lovely conversation. i guess he only debates with people he …",
         "_deepnote_index_column": 31915
        },
        {
         "id": 31917,
         "label": 0,
         "tweet": "happy tuesday!! feeling fantastic today. looking forward to tonight's workout. #smile  Ã¢ÂÂ¦ ",
         "decode": "happy tuesday!! feeling fantastic today. looking forward to tonight's workout. #smile  ?????? ",
         "clean_tweet": "happy tuesday!! feeling fantastic today. looking forward to tonight's workout. #smile ??????",
         "_deepnote_index_column": 31916
        },
        {
         "id": 31918,
         "label": 0,
         "tweet": "i feel horrible just watching my brother being sick  ",
         "decode": "i feel horrible just watching my brother being sick  ",
         "clean_tweet": "i feel horrible just watching my brother being sick",
         "_deepnote_index_column": 31917
        },
        {
         "id": 31919,
         "label": 0,
         "tweet": "what the hell is wrong with humanity? why would anyone need to do anything to prove his faith?#ridi…",
         "decode": "what the hell is wrong with humanity? why would anyone need to do anything to prove his faith?#ridi…",
         "clean_tweet": "what the hell is wrong with humanity? why would anyone need to do anything to prove his faith?#ridi…",
         "_deepnote_index_column": 31918
        },
        {
         "id": 31920,
         "label": 0,
         "tweet": "lily's current outfit of choice Ã°ÂÂÂ #baby #lily #fluffysocks #dressup #butterfly #backpack  Ã¢…",
         "decode": "lily's current outfit of choice ???????? #baby #lily #fluffysocks #dressup #butterfly #backpack  ??…",
         "clean_tweet": "lily's current outfit of choice ???????? #baby #lily #fluffysocks #dressup #butterfly #backpack ???…",
         "_deepnote_index_column": 31919
        },
        {
         "id": 31921,
         "label": 0,
         "tweet": "love this clickÃ°ÂÂÂÃ°ÂÂÂ #exclusive pic of @user  on #ssk #set #handsome #hot #dashing #smil…",
         "decode": "love this click???????????????? #exclusive pic of @user  on #ssk #set #handsome #hot #dashing #smil…",
         "clean_tweet": "love this click???????????????? #exclusive pic of on #ssk #set #handsome #hot #dashing #smile",
         "_deepnote_index_column": 31920
        },
        {
         "id": 31922,
         "label": 0,
         "tweet": "  friday everyone Ã°ÂÂÂÃ°ÂÂÂ #morning #fridayfeeling #love #kind #behappy ",
         "decode": "  friday everyone ???????????????? #morning #fridayfeeling #love #kind #behappy ",
         "clean_tweet": "friday everyone ???????????????? #morning #fridayfeeling #love #kind #behappy",
         "_deepnote_index_column": 31921
        },
        {
         "id": 31923,
         "label": 0,
         "tweet": "i love my friends! happy sunday funday everyone!   #sunday #funday #friends #squad #goofballs ",
         "decode": "i love my friends! happy sunday funday everyone!   #sunday #funday #friends #squad #goofballs ",
         "clean_tweet": "i love my friends! happy sunday funday everyone! #sunday #funday #friends #squad #goofballs",
         "_deepnote_index_column": 31922
        },
        {
         "id": 31924,
         "label": 0,
         "tweet": "#hea is the easiest thing which can be #fooled,  i am  , i am #sad and it just takes a thought to b…",
         "decode": "#hea is the easiest thing which can be #fooled,  i am  , i am #sad and it just takes a thought to b…",
         "clean_tweet": "#hea is the easiest thing which can be #fooled, i am , i am #sad and it just takes a thought to be …",
         "_deepnote_index_column": 31923
        },
        {
         "id": 31925,
         "label": 0,
         "tweet": " @user when bae is at work and can't text you and you have no one to talk to.  ",
         "decode": " @user when bae is at work and can't text you and you have no one to talk to.  ",
         "clean_tweet": "when bae is at work and cannot text you and you have no one to talk to.",
         "_deepnote_index_column": 31924
        },
        {
         "id": 31926,
         "label": 0,
         "tweet": "what an afternoon! Ã°ÂÂÂÃ°ÂÂÂ  ",
         "decode": "what an afternoon! ????????????????  ",
         "clean_tweet": "what an afternoon! ????????????????",
         "_deepnote_index_column": 31925
        },
        {
         "id": 31927,
         "label": 1,
         "tweet": "a follow up from the gentlemen who were kicked off of @user airlines for simply speaking arabic    ",
         "decode": "a follow up from the gentlemen who were kicked off of @user airlines for simply speaking arabic    ",
         "clean_tweet": "a follow up from the gentlemen who were kicked off of airlines for simply speaking arabic",
         "_deepnote_index_column": 31926
        },
        {
         "id": 31928,
         "label": 0,
         "tweet": "#8aÃÂ±olevyrrroni @user  @user #levyrroni #recuerdos memories... Ã°ÂÂÂ­Ã¢ÂÂ¤Ã°ÂÂÂ«Ã°ÂÂÂ #r…",
         "decode": "#8a????olevyrrroni @user  @user #levyrroni #recuerdos memories... ?????????????????????????????? #r…",
         "clean_tweet": "#8a????olevyrrroni #levyrroni #recuerdos memories... ?????????????????????????????? #recuerdos #fri…",
         "_deepnote_index_column": 31927
        },
        {
         "id": 31929,
         "label": 0,
         "tweet": "my hea is perfect because you are inside Ã°ÂÂÂ  #love #loveforever #couple   #gratefulÃ¢ÂÂ¦ ",
         "decode": "my hea is perfect because you are inside ????????  #love #loveforever #couple   #grateful?????? ",
         "clean_tweet": "my hea is perfect because you are inside ???????? #love #loveforever #couple #grateful??????",
         "_deepnote_index_column": 31928
        },
        {
         "id": 31930,
         "label": 1,
         "tweet": "did  keep #colinpowell and #condoleezzarice from being #secretaryofstate? words not to use in #2017…",
         "decode": "did  keep #colinpowell and #condoleezzarice from being #secretaryofstate? words not to use in #2017…",
         "clean_tweet": "did keep #colinpowell and #condoleezzarice from being #secretaryofstate? words not to use in #2017 …",
         "_deepnote_index_column": 31929
        },
        {
         "id": 31931,
         "label": 1,
         "tweet": "@user #feminismiscancer #feminismisterrorism #feminismmuktbharat why  #malevote is ignored  @user",
         "decode": "@user #feminismiscancer #feminismisterrorism #feminismmuktbharat why  #malevote is ignored  @user",
         "clean_tweet": "#feminismiscancer #feminismisterrorism #feminismmuktbharat why #malevote is ignored",
         "_deepnote_index_column": 31930
        },
        {
         "id": 31932,
         "label": 0,
         "tweet": "@user i c sociopaths low iq satanic everything that is an abomination2 god will b the norm as well …",
         "decode": "@user i c sociopaths low iq satanic everything that is an abomination2 god will b the norm as well …",
         "clean_tweet": "i c sociopaths low iq satanic everything that is an abomination2 god will b the norm as well as com…",
         "_deepnote_index_column": 31931
        },
        {
         "id": 31933,
         "label": 0,
         "tweet": "@user thanks gemma  ",
         "decode": "@user thanks gemma  ",
         "clean_tweet": "thanks gemma",
         "_deepnote_index_column": 31932
        },
        {
         "id": 31934,
         "label": 1,
         "tweet": "@user judd is a  &amp; #homophobic #freemilo #milo #freemilo #milo #freemilo #milo #freemilo #milo …",
         "decode": "@user judd is a  &amp; #homophobic #freemilo #milo #freemilo #milo #freemilo #milo #freemilo #milo …",
         "clean_tweet": "judd is a &amp; #homophobic #freemilo #milo #freemilo #milo #freemilo #milo #freemilo #milo #freemi…",
         "_deepnote_index_column": 31933
        },
        {
         "id": 31935,
         "label": 1,
         "tweet": "lady banned from kentucky mall. @user  #jcpenny #kentucky  ",
         "decode": "lady banned from kentucky mall. @user  #jcpenny #kentucky  ",
         "clean_tweet": "lady banned from kentucky mall. #jcpenny #kentucky",
         "_deepnote_index_column": 31934
        },
        {
         "id": 31936,
         "label": 0,
         "tweet": "ugh i'm trying to enjoy my happy hour drink &amp; there is talks of politics in the bar can we gues…",
         "decode": "ugh i'm trying to enjoy my happy hour drink &amp; there is talks of politics in the bar can we gues…",
         "clean_tweet": "ugh i am trying to enjoy my happy hour drink &amp; there is talks of politics in the bar can we gue…",
         "_deepnote_index_column": 31935
        },
        {
         "id": 31937,
         "label": 0,
         "tweet": "want to know how to live a   life? do more things that make you happy and less things that make you…",
         "decode": "want to know how to live a   life? do more things that make you happy and less things that make you…",
         "clean_tweet": "want to know how to live a life? do more things that make you happy and less things that make you u…",
         "_deepnote_index_column": 31936
        },
        {
         "id": 31938,
         "label": 0,
         "tweet": "love island Ã°ÂÂÂ  ",
         "decode": "love island ????????  ",
         "clean_tweet": "love island ????????",
         "_deepnote_index_column": 31937
        },
        {
         "id": 31939,
         "label": 0,
         "tweet": "my fav actor #vijaysethupathi ! my fav actress @user ! my most fav director @user !! one film !! ca…",
         "decode": "my fav actor #vijaysethupathi ! my fav actress @user ! my most fav director @user !! one film !! ca…",
         "clean_tweet": "my fav actor #vijaysethupathi ! my fav actress ! my most fav director !! one film !! cannot wait :)",
         "_deepnote_index_column": 31938
        },
        {
         "id": 31940,
         "label": 0,
         "tweet": "whew  Ã°ÂÂÂ it's a productive and   #friday!!!",
         "decode": "whew  ???????? it's a productive and   #friday!!!",
         "clean_tweet": "whew ???????? it is a productive and #friday!!!",
         "_deepnote_index_column": 31939
        },
        {
         "id": 31941,
         "label": 0,
         "tweet": "@user she's finally here! @user   ",
         "decode": "@user she's finally here! @user   ",
         "clean_tweet": "she is finally here!",
         "_deepnote_index_column": 31940
        },
        {
         "id": 31942,
         "label": 0,
         "tweet": "passed first year of uni #yay #love #pass #unistudent #photographystudent #ucs #soproud  ",
         "decode": "passed first year of uni #yay #love #pass #unistudent #photographystudent #ucs #soproud  ",
         "clean_tweet": "passed first year of uni #yay #love #pass #unistudent #photographystudent #ucs #soproud",
         "_deepnote_index_column": 31941
        },
        {
         "id": 31943,
         "label": 0,
         "tweet": "this week is flying by   #humpday - #wednesday #kamp #ucsdÃ¢ÂÂ¦ ",
         "decode": "this week is flying by   #humpday - #wednesday #kamp #ucsd?????? ",
         "clean_tweet": "this week is flying by #humpday - #wednesday #kamp #ucsd??????",
         "_deepnote_index_column": 31942
        },
        {
         "id": 31944,
         "label": 0,
         "tweet": " @user modeling photoshoot this friday yay #model #me #follow #emo   ",
         "decode": " @user modeling photoshoot this friday yay #model #me #follow #emo   ",
         "clean_tweet": "modeling photoshoot this friday yay #model #me #follow #emo",
         "_deepnote_index_column": 31943
        },
        {
         "id": 31945,
         "label": 0,
         "tweet": "you're surrounded by people who love you (even more than you deserve) and yet, why are so hateful? …",
         "decode": "you're surrounded by people who love you (even more than you deserve) and yet, why are so hateful? …",
         "clean_tweet": "you are surrounded by people who love you (even more than you deserve) and yet, why are so hateful?",
         "_deepnote_index_column": 31944
        },
        {
         "id": 31946,
         "label": 0,
         "tweet": "feel like... Ã°ÂÂÂÃ°ÂÂÂ¶Ã°ÂÂÂ #dog #summer #hot #help #sun #day   #more ",
         "decode": "feel like... ???????????????????????? #dog #summer #hot #help #sun #day   #more ",
         "clean_tweet": "feel like... ???????????????????????? #dog #summer #hot #help #sun #day #more",
         "_deepnote_index_column": 31945
        },
        {
         "id": 31947,
         "label": 1,
         "tweet": "@user omfg i'm offended! i'm a  mailbox and i'm proud! #mailboxpride  #liberalisme",
         "decode": "@user omfg i'm offended! i'm a  mailbox and i'm proud! #mailboxpride  #liberalisme",
         "clean_tweet": "omfg i am offended! i am a mailbox and i am proud! #mailboxpride #liberalisme",
         "_deepnote_index_column": 31946
        },
        {
         "id": 31948,
         "label": 1,
         "tweet": "@user @user you don't have the balls to hashtag me as a  but you say i am to weasel away.. lumpy to…",
         "decode": "@user @user you don't have the balls to hashtag me as a  but you say i am to weasel away.. lumpy to…",
         "clean_tweet": "you do not have the balls to hashtag me as a but you say i am to weasel away.. lumpy tony.. dipshit.",
         "_deepnote_index_column": 31947
        },
        {
         "id": 31949,
         "label": 1,
         "tweet": " makes you ask yourself, who am i? then am i anybody? until ....god . oh thank you god!",
         "decode": " makes you ask yourself, who am i? then am i anybody? until ....god . oh thank you god!",
         "clean_tweet": "makes you ask yourself, who am i? then am i anybody? until ....god . oh thank you god!",
         "_deepnote_index_column": 31948
        },
        {
         "id": 31950,
         "label": 0,
         "tweet": "hear one of my new songs! don't go - katie ellie #youtube #original #music #song #relationship #son…",
         "decode": "hear one of my new songs! don't go - katie ellie #youtube #original #music #song #relationship #son…",
         "clean_tweet": "hear one of my new songs! do not go - katie ellie #youtube #original #music #song #relationship #so…",
         "_deepnote_index_column": 31949
        },
        {
         "id": 31951,
         "label": 0,
         "tweet": " @user you can try to 'tail' us to stop, 'butt' we're just having too good of a time!  #goldenretri…",
         "decode": " @user you can try to 'tail' us to stop, 'butt' we're just having too good of a time!  #goldenretri…",
         "clean_tweet": "you can try to 'tail' us to stop, 'butt' we are just having too good of a time! #goldenretriever #a…",
         "_deepnote_index_column": 31950
        },
        {
         "id": 31952,
         "label": 0,
         "tweet": "i've just posted a new blog: #secondlife #lonely #neko   ",
         "decode": "i've just posted a new blog: #secondlife #lonely #neko   ",
         "clean_tweet": "i have just posted a new blog: #secondlife #lonely #neko",
         "_deepnote_index_column": 31951
        },
        {
         "id": 31953,
         "label": 0,
         "tweet": "@user you went too far with @user  ",
         "decode": "@user you went too far with @user  ",
         "clean_tweet": "you went too far with",
         "_deepnote_index_column": 31952
        },
        {
         "id": 31954,
         "label": 0,
         "tweet": "good morning #instagram #shower #water #berlin #berlincitygirl   #girl #newyork #zÃÂ¼rich #genf #b…",
         "decode": "good morning #instagram #shower #water #berlin #berlincitygirl   #girl #newyork #z????rich #genf #b…",
         "clean_tweet": "good morning #instagram #shower #water #berlin #berlincitygirl #girl #newyork #z????rich #genf #bern",
         "_deepnote_index_column": 31953
        },
        {
         "id": 31955,
         "label": 0,
         "tweet": "#holiday   bull up: you will dominate your bull and you will direct it whatever you want it to do. …",
         "decode": "#holiday   bull up: you will dominate your bull and you will direct it whatever you want it to do. …",
         "clean_tweet": "#holiday bull up: you will dominate your bull and you will direct it whatever you want it to do. wh…",
         "_deepnote_index_column": 31954
        },
        {
         "id": 31956,
         "label": 0,
         "tweet": "less than 2 weeks Ã°ÂÂÂÃ°ÂÂÂÃ°ÂÂÂ¼Ã°ÂÂÂ¹Ã°ÂÂÂÃ°ÂÂÂµ @user #ibiza#bringiton#mallorca#…",
         "decode": "less than 2 weeks ???????????????????????????????????????????????? @user #ibiza#bringiton#mallorca#…",
         "clean_tweet": "less than 2 weeks ???????????????????????????????????????????????? #ibiza#bringiton#mallorca#holida…",
         "_deepnote_index_column": 31955
        },
        {
         "id": 31957,
         "label": 0,
         "tweet": "off fishing tomorrow @user carnt wait first time in 2 years  ",
         "decode": "off fishing tomorrow @user carnt wait first time in 2 years  ",
         "clean_tweet": "off fishing tomorrow carnt wait first time in 2 years",
         "_deepnote_index_column": 31956
        },
        {
         "id": 31958,
         "label": 0,
         "tweet": "ate @user isz that youuu?Ã°ÂÂÂÃ°ÂÂÂÃ°ÂÂÂÃ°ÂÂÂÃ°ÂÂÂÃ°ÂÂÂÃ°ÂÂÂÃ°ÂÂÂÃ°ÂÂÂÃ¢…",
         "decode": "ate @user isz that youuu???????????????????????????????????????????????????????????????????????????…",
         "clean_tweet": "ate isz that youuu?????????????????????????????????????????????????????????????????????????????????…",
         "_deepnote_index_column": 31957
        },
        {
         "id": 31959,
         "label": 0,
         "tweet": "  to see nina turner on the airwaves trying to wrap herself in the mantle of a genuine hero like sh…",
         "decode": "  to see nina turner on the airwaves trying to wrap herself in the mantle of a genuine hero like sh…",
         "clean_tweet": "to see nina turner on the airwaves trying to wrap herself in the mantle of a genuine hero like shir…",
         "_deepnote_index_column": 31958
        },
        {
         "id": 31960,
         "label": 0,
         "tweet": "listening to sad songs on a monday morning otw to work is sad  ",
         "decode": "listening to sad songs on a monday morning otw to work is sad  ",
         "clean_tweet": "listening to sad songs on a monday morning on the way to work is sad",
         "_deepnote_index_column": 31959
        },
        {
         "id": 31961,
         "label": 1,
         "tweet": "@user #sikh #temple vandalised in in #calgary, #wso condemns  act  ",
         "decode": "@user #sikh #temple vandalised in in #calgary, #wso condemns  act  ",
         "clean_tweet": "#sikh #temple vandalised in in #calgary, #wso condemns act",
         "_deepnote_index_column": 31960
        },
        {
         "id": 31962,
         "label": 0,
         "tweet": "thank you @user for you follow  ",
         "decode": "thank you @user for you follow  ",
         "clean_tweet": "thank you for you follow",
         "_deepnote_index_column": 31961
        }
       ]
      },
      "text/plain": "          id  label                                              tweet  \\\n0          1      0   @user when a father is dysfunctional and is s...   \n1          2      0  @user @user thanks for #lyft credit i can't us...   \n2          3      0                                bihday your majesty   \n3          4      0  #model   i love u take with u all the time in ...   \n4          5      0             factsguide: society now    #motivation   \n...      ...    ...                                                ...   \n31957  31958      0  ate @user isz that youuu?Ã°ÂÂÂÃ°ÂÂÂÃ°ÂÂ...   \n31958  31959      0    to see nina turner on the airwaves trying to...   \n31959  31960      0  listening to sad songs on a monday morning otw...   \n31960  31961      1  @user #sikh #temple vandalised in in #calgary,...   \n31961  31962      0                   thank you @user for you follow     \n\n                                                  decode  \\\n0       @user when a father is dysfunctional and is s...   \n1      @user @user thanks for #lyft credit i can't us...   \n2                                    bihday your majesty   \n3      #model   i love u take with u all the time in ...   \n4                 factsguide: society now    #motivation   \n...                                                  ...   \n31957  ate @user isz that youuu??????????????????????...   \n31958    to see nina turner on the airwaves trying to...   \n31959  listening to sad songs on a monday morning otw...   \n31960  @user #sikh #temple vandalised in in #calgary,...   \n31961                   thank you @user for you follow     \n\n                                             clean_tweet  \n0      when a father is dysfunctional and is so selfi...  \n1      thanks for #lyft credit i cannot use cause the...  \n2                                    bihday your majesty  \n3      #model i love you take with you all the time i...  \n4                    factsguide: society now #motivation  \n...                                                  ...  \n31957  ate isz that youuu????????????????????????????...  \n31958  to see nina turner on the airwaves trying to w...  \n31959  listening to sad songs on a monday morning on ...  \n31960  #sikh #temple vandalised in in #calgary, #wso ...  \n31961                           thank you for you follow  \n\n[31962 rows x 5 columns]",
      "text/html": "<div>\n<style scoped>\n    .dataframe tbody tr th:only-of-type {\n        vertical-align: middle;\n    }\n\n    .dataframe tbody tr th {\n        vertical-align: top;\n    }\n\n    .dataframe thead th {\n        text-align: right;\n    }\n</style>\n<table border=\"1\" class=\"dataframe\">\n  <thead>\n    <tr style=\"text-align: right;\">\n      <th></th>\n      <th>id</th>\n      <th>label</th>\n      <th>tweet</th>\n      <th>decode</th>\n      <th>clean_tweet</th>\n    </tr>\n  </thead>\n  <tbody>\n    <tr>\n      <th>0</th>\n      <td>1</td>\n      <td>0</td>\n      <td>@user when a father is dysfunctional and is s...</td>\n      <td>@user when a father is dysfunctional and is s...</td>\n      <td>when a father is dysfunctional and is so selfi...</td>\n    </tr>\n    <tr>\n      <th>1</th>\n      <td>2</td>\n      <td>0</td>\n      <td>@user @user thanks for #lyft credit i can't us...</td>\n      <td>@user @user thanks for #lyft credit i can't us...</td>\n      <td>thanks for #lyft credit i cannot use cause the...</td>\n    </tr>\n    <tr>\n      <th>2</th>\n      <td>3</td>\n      <td>0</td>\n      <td>bihday your majesty</td>\n      <td>bihday your majesty</td>\n      <td>bihday your majesty</td>\n    </tr>\n    <tr>\n      <th>3</th>\n      <td>4</td>\n      <td>0</td>\n      <td>#model   i love u take with u all the time in ...</td>\n      <td>#model   i love u take with u all the time in ...</td>\n      <td>#model i love you take with you all the time i...</td>\n    </tr>\n    <tr>\n      <th>4</th>\n      <td>5</td>\n      <td>0</td>\n      <td>factsguide: society now    #motivation</td>\n      <td>factsguide: society now    #motivation</td>\n      <td>factsguide: society now #motivation</td>\n    </tr>\n    <tr>\n      <th>...</th>\n      <td>...</td>\n      <td>...</td>\n      <td>...</td>\n      <td>...</td>\n      <td>...</td>\n    </tr>\n    <tr>\n      <th>31957</th>\n      <td>31958</td>\n      <td>0</td>\n      <td>ate @user isz that youuu?Ã°ÂÂÂÃ°ÂÂÂÃ°ÂÂ...</td>\n      <td>ate @user isz that youuu??????????????????????...</td>\n      <td>ate isz that youuu????????????????????????????...</td>\n    </tr>\n    <tr>\n      <th>31958</th>\n      <td>31959</td>\n      <td>0</td>\n      <td>to see nina turner on the airwaves trying to...</td>\n      <td>to see nina turner on the airwaves trying to...</td>\n      <td>to see nina turner on the airwaves trying to w...</td>\n    </tr>\n    <tr>\n      <th>31959</th>\n      <td>31960</td>\n      <td>0</td>\n      <td>listening to sad songs on a monday morning otw...</td>\n      <td>listening to sad songs on a monday morning otw...</td>\n      <td>listening to sad songs on a monday morning on ...</td>\n    </tr>\n    <tr>\n      <th>31960</th>\n      <td>31961</td>\n      <td>1</td>\n      <td>@user #sikh #temple vandalised in in #calgary,...</td>\n      <td>@user #sikh #temple vandalised in in #calgary,...</td>\n      <td>#sikh #temple vandalised in in #calgary, #wso ...</td>\n    </tr>\n    <tr>\n      <th>31961</th>\n      <td>31962</td>\n      <td>0</td>\n      <td>thank you @user for you follow</td>\n      <td>thank you @user for you follow</td>\n      <td>thank you for you follow</td>\n    </tr>\n  </tbody>\n</table>\n<p>31962 rows × 5 columns</p>\n</div>"
     },
     "metadata": {}
    }
   ],
   "execution_count": null
  },
  {
   "cell_type": "code",
   "metadata": {
    "tags": [],
    "cell_id": "00007-4e3fb2dd-e442-41a5-aad3-c6abdc36cd8f",
    "deepnote_to_be_reexecuted": false,
    "source_hash": "c21566d0",
    "execution_start": 1635690380508,
    "execution_millis": 2375,
    "deepnote_cell_type": "code"
   },
   "source": "#method 1\nimport string\ndef strip_all_entities(text):\n    entity_prefixes = ['@']\n    for separator in  string.punctuation:\n        if separator not in entity_prefixes :\n            text = text.replace(separator,' ')\n    words = []\n    for word in text.split():\n        word = word.strip()\n        if word[0] not in entity_prefixes and word.isalpha():\n            words.append(word)\n    return ' '.join(words)\n\ntraining['clean_tweet'] = training['clean_tweet'].apply(strip_all_entities)\ntraining",
   "outputs": [
    {
     "output_type": "execute_result",
     "execution_count": 8,
     "data": {
      "application/vnd.deepnote.dataframe.v2+json": {
       "row_count": 31962,
       "column_count": 5,
       "columns": [
        {
         "name": "id",
         "dtype": "int64",
         "stats": {
          "unique_count": 31962,
          "nan_count": 0,
          "min": "1",
          "max": "31962",
          "histogram": [
           {
            "bin_start": 1,
            "bin_end": 3197.1,
            "count": 3197
           },
           {
            "bin_start": 3197.1,
            "bin_end": 6393.2,
            "count": 3196
           },
           {
            "bin_start": 6393.2,
            "bin_end": 9589.3,
            "count": 3196
           },
           {
            "bin_start": 9589.3,
            "bin_end": 12785.4,
            "count": 3196
           },
           {
            "bin_start": 12785.4,
            "bin_end": 15981.5,
            "count": 3196
           },
           {
            "bin_start": 15981.5,
            "bin_end": 19177.6,
            "count": 3196
           },
           {
            "bin_start": 19177.6,
            "bin_end": 22373.7,
            "count": 3196
           },
           {
            "bin_start": 22373.7,
            "bin_end": 25569.8,
            "count": 3196
           },
           {
            "bin_start": 25569.8,
            "bin_end": 28765.899999999998,
            "count": 3196
           },
           {
            "bin_start": 28765.899999999998,
            "bin_end": 31962,
            "count": 3197
           }
          ]
         }
        },
        {
         "name": "label",
         "dtype": "int64",
         "stats": {
          "unique_count": 2,
          "nan_count": 0,
          "min": "0",
          "max": "1",
          "histogram": [
           {
            "bin_start": 0,
            "bin_end": 0.1,
            "count": 29720
           },
           {
            "bin_start": 0.1,
            "bin_end": 0.2,
            "count": 0
           },
           {
            "bin_start": 0.2,
            "bin_end": 0.30000000000000004,
            "count": 0
           },
           {
            "bin_start": 0.30000000000000004,
            "bin_end": 0.4,
            "count": 0
           },
           {
            "bin_start": 0.4,
            "bin_end": 0.5,
            "count": 0
           },
           {
            "bin_start": 0.5,
            "bin_end": 0.6000000000000001,
            "count": 0
           },
           {
            "bin_start": 0.6000000000000001,
            "bin_end": 0.7000000000000001,
            "count": 0
           },
           {
            "bin_start": 0.7000000000000001,
            "bin_end": 0.8,
            "count": 0
           },
           {
            "bin_start": 0.8,
            "bin_end": 0.9,
            "count": 0
           },
           {
            "bin_start": 0.9,
            "bin_end": 1,
            "count": 2242
           }
          ]
         }
        },
        {
         "name": "tweet",
         "dtype": "object",
         "stats": {
          "unique_count": 29530,
          "nan_count": 0,
          "categories": [
           {
            "name": "#model   i love u take with u all the time in urÃ°ÂÂÂ±!!! Ã°ÂÂÂÃ°ÂÂÂÃ°ÂÂÂÃ°ÂÂÂÃ°ÂÂÂ¦Ã°ÂÂÂ¦Ã°ÂÂÂ¦  ",
            "count": 319
           },
           {
            "name": "i finally found a way how to delete old tweets! you might find it useful as well:    #deletetweets",
            "count": 82
           },
           {
            "name": "29528 others",
            "count": 31561
           }
          ]
         }
        },
        {
         "name": "decode",
         "dtype": "object"
        },
        {
         "name": "clean_tweet",
         "dtype": "object"
        },
        {
         "name": "_deepnote_index_column",
         "dtype": "int64"
        }
       ],
       "rows_top": [
        {
         "id": 1,
         "label": 0,
         "tweet": " @user when a father is dysfunctional and is so selfish he drags his kids into his dysfunction.   #…",
         "decode": " @user when a father is dysfunctional and is so selfish he drags his kids into his dysfunction.   #…",
         "clean_tweet": "when a father is dysfunctional and is so selfish he drags his kids into his dysfunction run",
         "_deepnote_index_column": 0
        },
        {
         "id": 2,
         "label": 0,
         "tweet": "@user @user thanks for #lyft credit i can't use cause they don't offer wheelchair vans in pdx.    #…",
         "decode": "@user @user thanks for #lyft credit i can't use cause they don't offer wheelchair vans in pdx.    #…",
         "clean_tweet": "thanks for lyft credit i cannot use cause they do not offer wheelchair vans in pdx disapointed gett…",
         "_deepnote_index_column": 1
        },
        {
         "id": 3,
         "label": 0,
         "tweet": "  bihday your majesty",
         "decode": "  bihday your majesty",
         "clean_tweet": "bihday your majesty",
         "_deepnote_index_column": 2
        },
        {
         "id": 4,
         "label": 0,
         "tweet": "#model   i love u take with u all the time in urÃ°ÂÂÂ±!!! Ã°ÂÂÂÃ°ÂÂÂÃ°ÂÂÂÃ°ÂÂÂÃ°ÂÂÂ…",
         "decode": "#model   i love u take with u all the time in ur????????!!! ???????????????????????????????????????…",
         "clean_tweet": "model i love you take with you all the time in ur",
         "_deepnote_index_column": 3
        },
        {
         "id": 5,
         "label": 0,
         "tweet": " factsguide: society now    #motivation",
         "decode": " factsguide: society now    #motivation",
         "clean_tweet": "factsguide society now motivation",
         "_deepnote_index_column": 4
        },
        {
         "id": 6,
         "label": 0,
         "tweet": "[2/2] huge fan fare and big talking before they leave. chaos and pay disputes when they get there. …",
         "decode": "[2/2] huge fan fare and big talking before they leave. chaos and pay disputes when they get there. …",
         "clean_tweet": "huge fan fare and big talking before they leave chaos and pay disputes when they get there allshowa…",
         "_deepnote_index_column": 5
        },
        {
         "id": 7,
         "label": 0,
         "tweet": " @user camping tomorrow @user @user @user @user @user @user @user dannyÃ¢ÂÂ¦",
         "decode": " @user camping tomorrow @user @user @user @user @user @user @user danny??????",
         "clean_tweet": "camping tomorrow danny",
         "_deepnote_index_column": 6
        },
        {
         "id": 8,
         "label": 0,
         "tweet": "the next school year is the year for exams.Ã°ÂÂÂ¯ can't think about that Ã°ÂÂÂ­ #school #exams …",
         "decode": "the next school year is the year for exams.???????? can't think about that ???????? #school #exams …",
         "clean_tweet": "the next school year is the year for exams cannot think about that school exams hate imagine actors…",
         "_deepnote_index_column": 7
        },
        {
         "id": 9,
         "label": 0,
         "tweet": "we won!!! love the land!!! #allin #cavs #champions #cleveland #clevelandcavaliers  Ã¢ÂÂ¦ ",
         "decode": "we won!!! love the land!!! #allin #cavs #champions #cleveland #clevelandcavaliers  ?????? ",
         "clean_tweet": "we won love the land allin cavs champions cleveland clevelandcavaliers",
         "_deepnote_index_column": 8
        },
        {
         "id": 10,
         "label": 0,
         "tweet": " @user @user welcome here !  i'm   it's so #gr8 ! ",
         "decode": " @user @user welcome here !  i'm   it's so #gr8 ! ",
         "clean_tweet": "welcome here i am it is so",
         "_deepnote_index_column": 9
        },
        {
         "id": 11,
         "label": 0,
         "tweet": " Ã¢ÂÂ #ireland consumer price index (mom) climbed from previous 0.2% to 0.5% in may   #blog #silv…",
         "decode": " ?????? #ireland consumer price index (mom) climbed from previous 0.2% to 0.5% in may   #blog #silv…",
         "clean_tweet": "ireland consumer price index mom climbed from previous to in may blog silver gold forex",
         "_deepnote_index_column": 10
        },
        {
         "id": 12,
         "label": 0,
         "tweet": "we are so selfish. #orlando #standwithorlando #pulseshooting #orlandoshooting #biggerproblems #self…",
         "decode": "we are so selfish. #orlando #standwithorlando #pulseshooting #orlandoshooting #biggerproblems #self…",
         "clean_tweet": "we are so selfish orlando standwithorlando pulseshooting orlandoshooting biggerproblems selfish hea…",
         "_deepnote_index_column": 11
        },
        {
         "id": 13,
         "label": 0,
         "tweet": "i get to see my daddy today!!   #80days #gettingfed",
         "decode": "i get to see my daddy today!!   #80days #gettingfed",
         "clean_tweet": "i get to see my daddy today gettingfed",
         "_deepnote_index_column": 12
        },
        {
         "id": 14,
         "label": 1,
         "tweet": "@user #cnn calls #michigan middle school 'build the wall' chant '' #tcot  ",
         "decode": "@user #cnn calls #michigan middle school 'build the wall' chant '' #tcot  ",
         "clean_tweet": "cnn calls michigan middle school build the wall chant tcot",
         "_deepnote_index_column": 13
        },
        {
         "id": 15,
         "label": 1,
         "tweet": "no comment!  in #australia   #opkillingbay #seashepherd #helpcovedolphins #thecove  #helpcovedolphi…",
         "decode": "no comment!  in #australia   #opkillingbay #seashepherd #helpcovedolphins #thecove  #helpcovedolphi…",
         "clean_tweet": "no comment in australia opkillingbay seashepherd helpcovedolphins thecove helpcovedolphins",
         "_deepnote_index_column": 14
        },
        {
         "id": 16,
         "label": 0,
         "tweet": "ouch...junior is angryÃ°ÂÂÂ#got7 #junior #yugyoem   #omg ",
         "decode": "ouch...junior is angry????????#got7 #junior #yugyoem   #omg ",
         "clean_tweet": "ouch junior is angry junior yugyoem omg",
         "_deepnote_index_column": 15
        },
        {
         "id": 17,
         "label": 0,
         "tweet": "i am thankful for having a paner. #thankful #positive     ",
         "decode": "i am thankful for having a paner. #thankful #positive     ",
         "clean_tweet": "i am thankful for having a paner thankful positive",
         "_deepnote_index_column": 16
        },
        {
         "id": 18,
         "label": 1,
         "tweet": "retweet if you agree! ",
         "decode": "retweet if you agree! ",
         "clean_tweet": "retweet if you agree",
         "_deepnote_index_column": 17
        },
        {
         "id": 19,
         "label": 0,
         "tweet": "its #friday! Ã°ÂÂÂ smiles all around via ig user: @user #cookies make people   ",
         "decode": "its #friday! ???????? smiles all around via ig user: @user #cookies make people   ",
         "clean_tweet": "its friday smiles all around via ig user cookies make people",
         "_deepnote_index_column": 18
        },
        {
         "id": 20,
         "label": 0,
         "tweet": "as we all know, essential oils are not made of chemicals. ",
         "decode": "as we all know, essential oils are not made of chemicals. ",
         "clean_tweet": "as we all know essential oils are not made of chemicals",
         "_deepnote_index_column": 19
        },
        {
         "id": 21,
         "label": 0,
         "tweet": "#euro2016 people blaming ha for conceded goal was it fat rooney who gave away free kick knowing bal…",
         "decode": "#euro2016 people blaming ha for conceded goal was it fat rooney who gave away free kick knowing bal…",
         "clean_tweet": "people blaming ha for conceded goal was it fat rooney who gave away free kick knowing bale can hit …",
         "_deepnote_index_column": 20
        },
        {
         "id": 22,
         "label": 0,
         "tweet": "sad little dude..   #badday #coneofshame #cats #pissed #funny #laughs ",
         "decode": "sad little dude..   #badday #coneofshame #cats #pissed #funny #laughs ",
         "clean_tweet": "sad little dude badday coneofshame cats pissed funny laughs",
         "_deepnote_index_column": 21
        },
        {
         "id": 23,
         "label": 0,
         "tweet": "product of the day: happy man #wine tool  who's   it's the #weekend? time to open up &amp; drink up!",
         "decode": "product of the day: happy man #wine tool  who's   it's the #weekend? time to open up &amp; drink up!",
         "clean_tweet": "product of the day happy man wine tool who is it is the weekend time to open up amp drink up",
         "_deepnote_index_column": 22
        },
        {
         "id": 24,
         "label": 1,
         "tweet": "@user @user lumpy says i am a . prove it lumpy.",
         "decode": "@user @user lumpy says i am a . prove it lumpy.",
         "clean_tweet": "lumpy says i am a prove it lumpy",
         "_deepnote_index_column": 23
        },
        {
         "id": 25,
         "label": 0,
         "tweet": " @user #tgif   #ff to my #gamedev #indiedev #indiegamedev #squad! @user @user @user @user @user",
         "decode": " @user #tgif   #ff to my #gamedev #indiedev #indiegamedev #squad! @user @user @user @user @user",
         "clean_tweet": "tgif ff to my gamedev indiedev indiegamedev squad",
         "_deepnote_index_column": 24
        },
        {
         "id": 26,
         "label": 0,
         "tweet": "beautiful sign by vendor 80 for $45.00!! #upsideofflorida #shopalyssas   #love ",
         "decode": "beautiful sign by vendor 80 for $45.00!! #upsideofflorida #shopalyssas   #love ",
         "clean_tweet": "beautiful sign by vendor for upsideofflorida shopalyssas love",
         "_deepnote_index_column": 25
        },
        {
         "id": 27,
         "label": 0,
         "tweet": " @user all #smiles when #media is   !! Ã°ÂÂÂÃ°ÂÂÂ #pressconference in #antalya #turkey ! sund…",
         "decode": " @user all #smiles when #media is   !! ???????????????? #pressconference in #antalya #turkey ! sund…",
         "clean_tweet": "all smiles when media is pressconference in antalya turkey sunday throwback love",
         "_deepnote_index_column": 26
        },
        {
         "id": 28,
         "label": 0,
         "tweet": "we had a great panel on the mediatization of the public service   #ica16",
         "decode": "we had a great panel on the mediatization of the public service   #ica16",
         "clean_tweet": "we had a great panel on the mediatization of the public service",
         "_deepnote_index_column": 27
        },
        {
         "id": 29,
         "label": 0,
         "tweet": "happy father's day @user Ã°ÂÂÂÃ°ÂÂÂÃ°ÂÂÂÃ°ÂÂÂ  ",
         "decode": "happy father's day @user ????????????????????????????????  ",
         "clean_tweet": "happy father s day",
         "_deepnote_index_column": 28
        },
        {
         "id": 30,
         "label": 0,
         "tweet": "50 people went to nightclub to have a good night and 1 man's actions means those people are lost to…",
         "decode": "50 people went to nightclub to have a good night and 1 man's actions means those people are lost to…",
         "clean_tweet": "people went to nightclub to have a good night and man s actions means those people are lost to thei…",
         "_deepnote_index_column": 29
        },
        {
         "id": 31,
         "label": 0,
         "tweet": "i have never had a chance to vote for a presidential candidate i was excited about and this cycle l…",
         "decode": "i have never had a chance to vote for a presidential candidate i was excited about and this cycle l…",
         "clean_tweet": "i have never had a chance to vote for a presidential candidate i was excited about and this cycle l…",
         "_deepnote_index_column": 30
        },
        {
         "id": 32,
         "label": 0,
         "tweet": "  #alohafriday #time does #not #exist #positivevibes #hawaiian @user @user @user @user ",
         "decode": "  #alohafriday #time does #not #exist #positivevibes #hawaiian @user @user @user @user ",
         "clean_tweet": "alohafriday time does not exist positivevibes hawaiian",
         "_deepnote_index_column": 31
        },
        {
         "id": 33,
         "label": 0,
         "tweet": " @user rip to the fellow nohern ireland fan who sadley passed away tonight!.. gawa, forever singing…",
         "decode": " @user rip to the fellow nohern ireland fan who sadley passed away tonight!.. gawa, forever singing…",
         "clean_tweet": "rip to the fellow nohern ireland fan who sadley passed away tonight gawa forever singing and cheeri…",
         "_deepnote_index_column": 32
        },
        {
         "id": 34,
         "label": 0,
         "tweet": "it was a hard monday due to cloudy weather. disabling oxygen production for today. #goodnight #badm…",
         "decode": "it was a hard monday due to cloudy weather. disabling oxygen production for today. #goodnight #badm…",
         "clean_tweet": "it was a hard monday due to cloudy weather disabling oxygen production for today goodnight badmonday",
         "_deepnote_index_column": 33
        },
        {
         "id": 35,
         "label": 1,
         "tweet": "it's unbelievable that in the 21st century we'd need something like this. again. #neverump  #xenoph…",
         "decode": "it's unbelievable that in the 21st century we'd need something like this. again. #neverump  #xenoph…",
         "clean_tweet": "it is unbelievable that in the century we would need something like this again neverump xenophobia",
         "_deepnote_index_column": 34
        },
        {
         "id": 36,
         "label": 0,
         "tweet": "#taylorswift1989   bull up: you will dominate your bull and you will direct it whatever you want it…",
         "decode": "#taylorswift1989   bull up: you will dominate your bull and you will direct it whatever you want it…",
         "clean_tweet": "bull up you will dominate your bull and you will direct it whatever you want it to do w",
         "_deepnote_index_column": 35
        },
        {
         "id": 37,
         "label": 0,
         "tweet": "morning~~ #travelingram #dalat   #ripinkylife ",
         "decode": "morning~~ #travelingram #dalat   #ripinkylife ",
         "clean_tweet": "morning travelingram dalat ripinkylife",
         "_deepnote_index_column": 36
        },
        {
         "id": 38,
         "label": 0,
         "tweet": "@user once more only one word tells it all: #photoshop.  #enoughisenough #dontphotoshopeverything #…",
         "decode": "@user once more only one word tells it all: #photoshop.  #enoughisenough #dontphotoshopeverything #…",
         "clean_tweet": "once more only one word tells it all photoshop enoughisenough dontphotoshopeverything wheresallthen…",
         "_deepnote_index_column": 37
        },
        {
         "id": 39,
         "label": 0,
         "tweet": "oh, #cedarpoint. waited 2 hours in the valravn line and it stopped working. we were so close.  ",
         "decode": "oh, #cedarpoint. waited 2 hours in the valravn line and it stopped working. we were so close.  ",
         "clean_tweet": "oh cedarpoint waited hours in the valravn line and it stopped working we were so close",
         "_deepnote_index_column": 38
        },
        {
         "id": 40,
         "label": 0,
         "tweet": "i am thankful for sunshine. #thankful #positive     ",
         "decode": "i am thankful for sunshine. #thankful #positive     ",
         "clean_tweet": "i am thankful for sunshine thankful positive",
         "_deepnote_index_column": 39
        },
        {
         "id": 41,
         "label": 0,
         "tweet": "when you finally finish a book you've been working on for awhile...  #bookworm #ontothenextnovel ",
         "decode": "when you finally finish a book you've been working on for awhile...  #bookworm #ontothenextnovel ",
         "clean_tweet": "when you finally finish a book you have been working on for awhile bookworm ontothenextnovel",
         "_deepnote_index_column": 40
        },
        {
         "id": 42,
         "label": 0,
         "tweet": "yup, being a knicks fan is hard, so its easier to just be an nba fan when the playoffs roll around …",
         "decode": "yup, being a knicks fan is hard, so its easier to just be an nba fan when the playoffs roll around …",
         "clean_tweet": "yup being a knicks fan is hard so its easier to just be an nba fan when the playoffs roll around",
         "_deepnote_index_column": 41
        },
        {
         "id": 43,
         "label": 0,
         "tweet": "there is life after social networking. embrace each day. be   ",
         "decode": "there is life after social networking. embrace each day. be   ",
         "clean_tweet": "there is life after social networking embrace each day be",
         "_deepnote_index_column": 42
        },
        {
         "id": 44,
         "label": 0,
         "tweet": "my mom shares the same bihday as @user   bihday snake! see you this weekend Ã°ÂÂÂÃ°ÂÂÂ¼",
         "decode": "my mom shares the same bihday as @user   bihday snake! see you this weekend ????????????????",
         "clean_tweet": "my mom shares the same bihday as bihday snake see you this weekend",
         "_deepnote_index_column": 43
        },
        {
         "id": 45,
         "label": 0,
         "tweet": "lovely echeveria blooms#flowers #grow #gardening #iphonesia #bliss #blooms #basilicabotanica   ",
         "decode": "lovely echeveria blooms#flowers #grow #gardening #iphonesia #bliss #blooms #basilicabotanica   ",
         "clean_tweet": "lovely echeveria blooms flowers grow gardening iphonesia bliss blooms basilicabotanica",
         "_deepnote_index_column": 44
        },
        {
         "id": 46,
         "label": 0,
         "tweet": "i am amazing. #i_am #positive #affirmation     ",
         "decode": "i am amazing. #i_am #positive #affirmation     ",
         "clean_tweet": "i am amazing i am positive affirmation",
         "_deepnote_index_column": 45
        },
        {
         "id": 47,
         "label": 0,
         "tweet": "#model   i love u take with u all the time in urÃ°ÂÂÂ±!!! Ã°ÂÂÂÃ°ÂÂÂÃ°ÂÂÂÃ°ÂÂÂÃ°ÂÂÂ…",
         "decode": "#model   i love u take with u all the time in ur????????!!! ???????????????????????????????????????…",
         "clean_tweet": "model i love you take with you all the time in ur",
         "_deepnote_index_column": 46
        },
        {
         "id": 48,
         "label": 0,
         "tweet": "#whenever im   and #something goes #wrong  |  ",
         "decode": "#whenever im   and #something goes #wrong  |  ",
         "clean_tweet": "whenever im and something goes wrong",
         "_deepnote_index_column": 47
        },
        {
         "id": 49,
         "label": 0,
         "tweet": "feeling blue #illustration   ",
         "decode": "feeling blue #illustration   ",
         "clean_tweet": "feeling blue illustration",
         "_deepnote_index_column": 48
        },
        {
         "id": 50,
         "label": 0,
         "tweet": "the best pa about life is knowing who you are! Ã°ÂÂÂÃ¢ÂÂÃ¯Â¸ÂÃ°ÂÂÂ¼Ã°ÂÂÂ»  Ã¢ÂÂ¦ ",
         "decode": "the best pa about life is knowing who you are! ????????????????????????????????????  ?????? ",
         "clean_tweet": "the best pa about life is knowing who you are",
         "_deepnote_index_column": 49
        },
        {
         "id": 51,
         "label": 0,
         "tweet": "#abc2020 getting ready 2 remove the victums frm #pulseclub #prayfororlando  ",
         "decode": "#abc2020 getting ready 2 remove the victums frm #pulseclub #prayfororlando  ",
         "clean_tweet": "getting ready remove the victums frm pulseclub prayfororlando",
         "_deepnote_index_column": 50
        },
        {
         "id": 52,
         "label": 0,
         "tweet": "for her #bihday we got her a #nose #job @user  Ã°ÂÂÂÃ°ÂÂÂ¶Ã°ÂÂÂÃ°ÂÂÂÃ°ÂÂÂ    #bihday …",
         "decode": "for her #bihday we got her a #nose #job @user  ????????????????????????????????????????    #bihday …",
         "clean_tweet": "for her bihday we got her a nose job bihday petunia we love you",
         "_deepnote_index_column": 51
        },
        {
         "id": 53,
         "label": 0,
         "tweet": "off to concelebrate at the #albanpilgrimage for the first time.   @user",
         "decode": "off to concelebrate at the #albanpilgrimage for the first time.   @user",
         "clean_tweet": "off to concelebrate at the albanpilgrimage for the first time",
         "_deepnote_index_column": 52
        },
        {
         "id": 54,
         "label": 0,
         "tweet": " @user let the scum-baggery begin..... ",
         "decode": " @user let the scum-baggery begin..... ",
         "clean_tweet": "let the scum baggery begin",
         "_deepnote_index_column": 53
        },
        {
         "id": 55,
         "label": 0,
         "tweet": "thank you! Ã°ÂÂÂÃ°ÂÂÂ super love it! Ã¢ÂÂ¤Ã¯Â¸Â zpamdelacruz   #wedding# @ dolores, capas t…",
         "decode": "thank you! ???????????????? super love it! ???????????? zpamdelacruz   #wedding# @ dolores, capas t…",
         "clean_tweet": "thank you super love it zpamdelacruz wedding dolores capas tarlac",
         "_deepnote_index_column": 54
        },
        {
         "id": 56,
         "label": 0,
         "tweet": "a scourge on those playing baroque pieces on piano    beyond belief ",
         "decode": "a scourge on those playing baroque pieces on piano    beyond belief ",
         "clean_tweet": "a scourge on those playing baroque pieces on piano beyond belief",
         "_deepnote_index_column": 55
        },
        {
         "id": 57,
         "label": 1,
         "tweet": "@user lets fight against  #love #peace ",
         "decode": "@user lets fight against  #love #peace ",
         "clean_tweet": "lets fight against love peace",
         "_deepnote_index_column": 56
        },
        {
         "id": 58,
         "label": 0,
         "tweet": " happy fatherÃ¢ÂÂs day, mr. rayos #video   #fathers #day #rayos #world #hotvideo #videos",
         "decode": " happy father??????s day, mr. rayos #video   #fathers #day #rayos #world #hotvideo #videos",
         "clean_tweet": "happy father s day mr rayos video fathers day rayos world hotvideo videos",
         "_deepnote_index_column": 57
        },
        {
         "id": 59,
         "label": 0,
         "tweet": " @user ascot times with this babe Ã¢ÂÂ¤Ã¯Â¸ÂÃ¢ÂÂ¤Ã¯Â¸Â #ascot #fashion #monochrome #style   #in…",
         "decode": " @user ascot times with this babe ???????????????????????? #ascot #fashion #monochrome #style   #in…",
         "clean_tweet": "ascot times with this babe ascot fashion monochrome style instahappyday",
         "_deepnote_index_column": 58
        },
        {
         "id": 60,
         "label": 0,
         "tweet": "the weekend..is here!!Ã°ÂÂÂÃ°ÂÂÂÃ°ÂÂÂÃ°ÂÂÂÃ°ÂÂÂ #selfie   #yolo #xoxo #like4like ",
         "decode": "the weekend..is here!!???????????????????????????????????????? #selfie   #yolo #xoxo #like4like ",
         "clean_tweet": "the weekend is here selfie yolo xoxo",
         "_deepnote_index_column": 59
        },
        {
         "id": 61,
         "label": 0,
         "tweet": "happy at work conference: right' mindset leads to culture-of-development organizations    #work #mi…",
         "decode": "happy at work conference: right' mindset leads to culture-of-development organizations    #work #mi…",
         "clean_tweet": "happy at work conference right mindset leads to culture of development organizations work mindset",
         "_deepnote_index_column": 60
        },
        {
         "id": 62,
         "label": 0,
         "tweet": "christina grimmie's  last performance before being shot...  via @user #christinarip #voice #christi…",
         "decode": "christina grimmie's  last performance before being shot...  via @user #christinarip #voice #christi…",
         "clean_tweet": "christina grimmie s last performance before being shot via christinarip voice christinagrimmie",
         "_deepnote_index_column": 61
        },
        {
         "id": 63,
         "label": 0,
         "tweet": "we are ready to dance #roar #preschoolers   #students #proudÃ¢ÂÂ¦ ",
         "decode": "we are ready to dance #roar #preschoolers   #students #proud?????? ",
         "clean_tweet": "we are ready to dance roar preschoolers students proud",
         "_deepnote_index_column": 62
        },
        {
         "id": 64,
         "label": 0,
         "tweet": "you've really hu my feelings :(  ",
         "decode": "you've really hu my feelings :(  ",
         "clean_tweet": "you have really hu my feelings",
         "_deepnote_index_column": 63
        },
        {
         "id": 65,
         "label": 0,
         "tweet": "@user my wife whom i adore had to miss your poland show because she had surgery. her name is bridge…",
         "decode": "@user my wife whom i adore had to miss your poland show because she had surgery. her name is bridge…",
         "clean_tweet": "my wife whom i adore had to miss your poland show because she had surgery her name is bridget amp s…",
         "_deepnote_index_column": 64
        },
        {
         "id": 66,
         "label": 0,
         "tweet": "@user i am so jealous of you right now.... #chatiado  ",
         "decode": "@user i am so jealous of you right now.... #chatiado  ",
         "clean_tweet": "i am so jealous of you right now chatiado",
         "_deepnote_index_column": 65
        },
        {
         "id": 67,
         "label": 0,
         "tweet": "i celebrate every man that has played it's fatherly role.   father's day#",
         "decode": "i celebrate every man that has played it's fatherly role.   father's day#",
         "clean_tweet": "i celebrate every man that has played it is fatherly role father s day",
         "_deepnote_index_column": 66
        },
        {
         "id": 68,
         "label": 0,
         "tweet": "i'm sure they are just as happy.... Ã°ÂÂÂÃ°ÂÂÂ½Ã°ÂÂÂÃ°ÂÂÂ½Ã°ÂÂÂÃ°ÂÂÂ½   hour  ",
         "decode": "i'm sure they are just as happy.... ????????????????????????????????????????????????   hour  ",
         "clean_tweet": "i am sure they are just as happy hour",
         "_deepnote_index_column": 67
        },
        {
         "id": 69,
         "label": 1,
         "tweet": "Ã°ÂÂÂ©the white establishment can't have blk folx running around loving themselves and promoting …",
         "decode": "????????the white establishment can't have blk folx running around loving themselves and promoting …",
         "clean_tweet": "the white establishment cannot have blk folx running around loving themselves and promoting our gre…",
         "_deepnote_index_column": 68
        },
        {
         "id": 70,
         "label": 0,
         "tweet": "good morning! the journey begins! Ã°ÂÂÂÃ°ÂÂÂÃ°ÂÂÂ»Ã°ÂÂÂ³   #travel #yeah #thejourneybegin…",
         "decode": "good morning! the journey begins! ????????????????????????????????   #travel #yeah #thejourneybegin…",
         "clean_tweet": "good morning the journey begins travel yeah thejourneybegins hello",
         "_deepnote_index_column": 69
        },
        {
         "id": 71,
         "label": 0,
         "tweet": " @user # if you #luv #hottweets like this from Ã¢ÂÂ¶ Ã¢ÂÂ¥#venusexchangeÃ¢ÂÂ¥ ",
         "decode": " @user # if you #luv #hottweets like this from ?????? ??????#venusexchange?????? ",
         "clean_tweet": "if you luv hottweets like this from venusexchange",
         "_deepnote_index_column": 70
        },
        {
         "id": 72,
         "label": 0,
         "tweet": "our new brochures have arrived! how exciting!! #aworks #solutions   ",
         "decode": "our new brochures have arrived! how exciting!! #aworks #solutions   ",
         "clean_tweet": "our new brochures have arrived how exciting aworks solutions",
         "_deepnote_index_column": 71
        },
        {
         "id": 73,
         "label": 0,
         "tweet": "so much stuff happening in florida! first #orlando shooting and now #disneygatorattack on a two yea…",
         "decode": "so much stuff happening in florida! first #orlando shooting and now #disneygatorattack on a two yea…",
         "clean_tweet": "so much stuff happening in florida first orlando shooting and now disneygatorattack on a two year o…",
         "_deepnote_index_column": 72
        },
        {
         "id": 74,
         "label": 0,
         "tweet": "@user ferrari will do itÃ°ÂÂÂªÃ°ÂÂÂ¼ for the sake of the championship. this gp is clearly a tur…",
         "decode": "@user ferrari will do it???????????????? for the sake of the championship. this gp is clearly a tur…",
         "clean_tweet": "ferrari will do it for the sake of the championship this gp is clearly a turning point rb ferrari m…",
         "_deepnote_index_column": 73
        },
        {
         "id": 75,
         "label": 0,
         "tweet": "aced my first test!   #proud ",
         "decode": "aced my first test!   #proud ",
         "clean_tweet": "aced my first test proud",
         "_deepnote_index_column": 74
        },
        {
         "id": 76,
         "label": 0,
         "tweet": "  seeks probe into #udtapunjab' leak, points finger at #amarinder, #aap  ",
         "decode": "  seeks probe into #udtapunjab' leak, points finger at #amarinder, #aap  ",
         "clean_tweet": "seeks probe into udtapunjab leak points finger at amarinder aap",
         "_deepnote_index_column": 75
        },
        {
         "id": 77,
         "label": 0,
         "tweet": "@user wrapping up #senseaboutmaths @user 6th   @user @user @user ",
         "decode": "@user wrapping up #senseaboutmaths @user 6th   @user @user @user ",
         "clean_tweet": "wrapping up senseaboutmaths",
         "_deepnote_index_column": 76
        },
        {
         "id": 78,
         "label": 1,
         "tweet": "@user hey, white people: you can call people 'white' by @user  #race  #identity #medÃ¢ÂÂ¦",
         "decode": "@user hey, white people: you can call people 'white' by @user  #race  #identity #med??????",
         "clean_tweet": "hey white people you can call people white by race identity med",
         "_deepnote_index_column": 77
        },
        {
         "id": 79,
         "label": 0,
         "tweet": "@user @user you might be. just have not shown here today. regurgitated talking points and name call…",
         "decode": "@user @user you might be. just have not shown here today. regurgitated talking points and name call…",
         "clean_tweet": "you might be just have not shown here today regurgitated talking points and name calling",
         "_deepnote_index_column": 78
        },
        {
         "id": 80,
         "label": 0,
         "tweet": "sometimes you have to raise a few brows to raise the bar. #golfstrengthandconditioning   #strong #f…",
         "decode": "sometimes you have to raise a few brows to raise the bar. #golfstrengthandconditioning   #strong #f…",
         "clean_tweet": "sometimes you have to raise a few brows to raise the bar golfstrengthandconditioning strong felixfo…",
         "_deepnote_index_column": 79
        },
        {
         "id": 81,
         "label": 0,
         "tweet": "  about that Ã°ÂÂÂÃ°ÂÂÂÃ°ÂÂÂ #greathonour #careerconvos @user @user ",
         "decode": "  about that ???????????????????????? #greathonour #careerconvos @user @user ",
         "clean_tweet": "about that greathonour careerconvos",
         "_deepnote_index_column": 80
        },
        {
         "id": 82,
         "label": 0,
         "tweet": " @user designing #innovative learning space @user to include #wateringhole #cave #mountaintop #camp…",
         "decode": " @user designing #innovative learning space @user to include #wateringhole #cave #mountaintop #camp…",
         "clean_tweet": "designing innovative learning space to include wateringhole cave mountaintop campfire h",
         "_deepnote_index_column": 81
        },
        {
         "id": 83,
         "label": 1,
         "tweet": "how the #altright uses  &amp; insecurity to lure men into #whitesupremacy    ",
         "decode": "how the #altright uses  &amp; insecurity to lure men into #whitesupremacy    ",
         "clean_tweet": "how the altright uses amp insecurity to lure men into whitesupremacy",
         "_deepnote_index_column": 82
        },
        {
         "id": 84,
         "label": 0,
         "tweet": "carrying a gun wouldn't of helped if you can't take it in with you. gun control won't stop the blac…",
         "decode": "carrying a gun wouldn't of helped if you can't take it in with you. gun control won't stop the blac…",
         "clean_tweet": "carrying a gun would not of helped if you cannot take it in with you gun control will not stop the …",
         "_deepnote_index_column": 83
        },
        {
         "id": 85,
         "label": 0,
         "tweet": "use the power of your mind to #heal your body!! -     #altwaystoheal #healthy   #peace! ",
         "decode": "use the power of your mind to #heal your body!! -     #altwaystoheal #healthy   #peace! ",
         "clean_tweet": "use the power of your mind to heal your body altwaystoheal healthy peace",
         "_deepnote_index_column": 84
        },
        {
         "id": 86,
         "label": 0,
         "tweet": "woohoo!! just over 5 weeks to go!   ",
         "decode": "woohoo!! just over 5 weeks to go!   ",
         "clean_tweet": "woohoo just over weeks to go",
         "_deepnote_index_column": 85
        },
        {
         "id": 87,
         "label": 0,
         "tweet": "being in a far away place where you have no family members hus  ",
         "decode": "being in a far away place where you have no family members hus  ",
         "clean_tweet": "being in a far away place where you have no family members hus",
         "_deepnote_index_column": 86
        },
        {
         "id": 88,
         "label": 0,
         "tweet": "ready to rehearse tonight with new music and new videos, look out for the announcement! #midweek #n…",
         "decode": "ready to rehearse tonight with new music and new videos, look out for the announcement! #midweek #n…",
         "clean_tweet": "ready to rehearse tonight with new music and new videos look out for the announcement midweek newmu…",
         "_deepnote_index_column": 87
        },
        {
         "id": 89,
         "label": 0,
         "tweet": "now on monday nights at 8pm on #up channel!!!! i finally get to see what all the fuss is about!!!   ",
         "decode": "now on monday nights at 8pm on #up channel!!!! i finally get to see what all the fuss is about!!!   ",
         "clean_tweet": "now on monday nights at on up channel i finally get to see what all the fuss is about",
         "_deepnote_index_column": 88
        },
        {
         "id": 90,
         "label": 0,
         "tweet": "watching the new episodes of @user on @user  ",
         "decode": "watching the new episodes of @user on @user  ",
         "clean_tweet": "watching the new episodes of on",
         "_deepnote_index_column": 89
        },
        {
         "id": 91,
         "label": 0,
         "tweet": " @user offline now after a very nice and long night.. Ã°ÂÂÂ #snapchat @user   #redhead #vermilli…",
         "decode": " @user offline now after a very nice and long night.. ???????? #snapchat @user   #redhead #vermilli…",
         "clean_tweet": "offline now after a very nice and long night snapchat redhead vermillionred",
         "_deepnote_index_column": 90
        },
        {
         "id": 92,
         "label": 0,
         "tweet": " 15 things incredibly   #people do ",
         "decode": " 15 things incredibly   #people do ",
         "clean_tweet": "things incredibly people do",
         "_deepnote_index_column": 91
        },
        {
         "id": 93,
         "label": 0,
         "tweet": "yes! received my acceptance letter for my masters so will be back at @user again in october!    #go…",
         "decode": "yes! received my acceptance letter for my masters so will be back at @user again in october!    #go…",
         "clean_tweet": "yes received my acceptance letter for my masters so will be back at again in october goodtimes hist…",
         "_deepnote_index_column": 92
        },
        {
         "id": 94,
         "label": 0,
         "tweet": "daughter riding her bike around driveway, son playing his guitar for us while we enjoy Ã°ÂÂÂº by …",
         "decode": "daughter riding her bike around driveway, son playing his guitar for us while we enjoy ???????? by …",
         "clean_tweet": "daughter riding her bike around driveway son playing his guitar for us while we enjoy by the campfi…",
         "_deepnote_index_column": 93
        },
        {
         "id": 95,
         "label": 0,
         "tweet": "omg!!! loving this station!!! way to jam out at work!!! while getting work done of course!!!!   #me…",
         "decode": "omg!!! loving this station!!! way to jam out at work!!! while getting work done of course!!!!   #me…",
         "clean_tweet": "omg loving this station way to jam out at work while getting work done of course memories",
         "_deepnote_index_column": 94
        },
        {
         "id": 96,
         "label": 0,
         "tweet": "@user i'll always hope that one day i'll get to hug you, but i don't think that it's gonna happen a…",
         "decode": "@user i'll always hope that one day i'll get to hug you, but i don't think that it's gonna happen a…",
         "clean_tweet": "i will always hope that one day i will get to hug you but i do not think that it is gonna happen an…",
         "_deepnote_index_column": 95
        },
        {
         "id": 97,
         "label": 0,
         "tweet": "#model   i love u take with u all the time in urÃ°ÂÂÂ±!!! Ã°ÂÂÂÃ°ÂÂÂÃ°ÂÂÂÃ°ÂÂÂÃ°ÂÂÂ…",
         "decode": "#model   i love u take with u all the time in ur????????!!! ???????????????????????????????????????…",
         "clean_tweet": "model i love you take with you all the time in ur",
         "_deepnote_index_column": 96
        },
        {
         "id": 98,
         "label": 0,
         "tweet": "  couple having sex fat naked japanese girls  ",
         "decode": "  couple having sex fat naked japanese girls  ",
         "clean_tweet": "couple having sex fat naked japanese girls",
         "_deepnote_index_column": 97
        },
        {
         "id": 99,
         "label": 0,
         "tweet": "#hump on that    #hump day #humpersÃ°ÂÂÂ© @ edwardsville, pennsylvania ",
         "decode": "#hump on that    #hump day #humpers???????? @ edwardsville, pennsylvania ",
         "clean_tweet": "hump on that hump day humpers edwardsville pennsylvania",
         "_deepnote_index_column": 98
        },
        {
         "id": 100,
         "label": 0,
         "tweet": "personalised we... gbp 7.99 get here:  #shop #cool   #home #fun ",
         "decode": "personalised we... gbp 7.99 get here:  #shop #cool   #home #fun ",
         "clean_tweet": "personalised we gbp get here shop cool home fun",
         "_deepnote_index_column": 99
        }
       ],
       "rows_bottom": [
        {
         "id": 31863,
         "label": 0,
         "tweet": " @user dust   #piano by gummy beatz.   #beats",
         "decode": " @user dust   #piano by gummy beatz.   #beats",
         "clean_tweet": "dust piano by gummy beatz beats",
         "_deepnote_index_column": 31862
        },
        {
         "id": 31864,
         "label": 1,
         "tweet": "#us refuses to veto resolution on #israel  #zionism #illegalsettlements  ",
         "decode": "#us refuses to veto resolution on #israel  #zionism #illegalsettlements  ",
         "clean_tweet": "us refuses to veto resolution on israel zionism illegalsettlements",
         "_deepnote_index_column": 31863
        },
        {
         "id": 31865,
         "label": 1,
         "tweet": "@user #allahsoil we should not conflate islamic extremism with terrorism    #emiratis #2016in4Ã¢ÂÂ¦",
         "decode": "@user #allahsoil we should not conflate islamic extremism with terrorism    #emiratis #2016in4??????",
         "clean_tweet": "allahsoil we should not conflate islamic extremism with terrorism emiratis",
         "_deepnote_index_column": 31864
        },
        {
         "id": 31866,
         "label": 1,
         "tweet": "see what #russia is doing in #syria,  destroying masjids  ",
         "decode": "see what #russia is doing in #syria,  destroying masjids  ",
         "clean_tweet": "see what russia is doing in syria destroying masjids",
         "_deepnote_index_column": 31865
        },
        {
         "id": 31867,
         "label": 0,
         "tweet": "now playing  :  philip aaberg - \" elegy\" on    #melancholy   #melancholymusic",
         "decode": "now playing  :  philip aaberg - \" elegy\" on    #melancholy   #melancholymusic",
         "clean_tweet": "now playing philip aaberg elegy on melancholy melancholymusic",
         "_deepnote_index_column": 31866
        },
        {
         "id": 31868,
         "label": 0,
         "tweet": "i want some cereal &amp; ain't tryna get up Ã°ÂÂÂ  ",
         "decode": "i want some cereal &amp; ain't tryna get up ????????  ",
         "clean_tweet": "i want some cereal amp is not tryna get up",
         "_deepnote_index_column": 31867
        },
        {
         "id": 31869,
         "label": 0,
         "tweet": "um escue me but, where is deez animals? @user @user #wheredapuppjes #ciymove  ",
         "decode": "um escue me but, where is deez animals? @user @user #wheredapuppjes #ciymove  ",
         "clean_tweet": "um escue me but where is deez animals wheredapuppjes ciymove",
         "_deepnote_index_column": 31868
        },
        {
         "id": 31870,
         "label": 0,
         "tweet": "when your house is full of people and all you want to do is lock yourself in your room.    #depress…",
         "decode": "when your house is full of people and all you want to do is lock yourself in your room.    #depress…",
         "clean_tweet": "when your house is full of people and all you want to do is lock yourself in your room depression",
         "_deepnote_index_column": 31869
        },
        {
         "id": 31871,
         "label": 0,
         "tweet": "apparently the nba is now the new wwe! tim donaghy: nba suspended green to prolong finals  via @use…",
         "decode": "apparently the nba is now the new wwe! tim donaghy: nba suspended green to prolong finals  via @use…",
         "clean_tweet": "apparently the nba is now the new wwe tim donaghy nba suspended green to prolong finals via mindblo…",
         "_deepnote_index_column": 31870
        },
        {
         "id": 31872,
         "label": 0,
         "tweet": "thank you for following @user it's nice to meet you. Ã°ÂÂÂ·#friends   tuesday Ã°ÂÂÂ ",
         "decode": "thank you for following @user it's nice to meet you. ????????#friends   tuesday ???????? ",
         "clean_tweet": "thank you for following it is nice to meet you friends tuesday",
         "_deepnote_index_column": 31871
        },
        {
         "id": 31873,
         "label": 0,
         "tweet": "what is the world coming to? are massacres going to be a way of life?   ",
         "decode": "what is the world coming to? are massacres going to be a way of life?   ",
         "clean_tweet": "what is the world coming to are massacres going to be a way of life",
         "_deepnote_index_column": 31872
        },
        {
         "id": 31874,
         "label": 0,
         "tweet": " @user *big annoucement* you will be able to play as #prompto on #psvr #finalfantastyxv #sonye3 #ga…",
         "decode": " @user *big annoucement* you will be able to play as #prompto on #psvr #finalfantastyxv #sonye3 #ga…",
         "clean_tweet": "big annoucement you will be able to play as prompto on psvr finalfantastyxv",
         "_deepnote_index_column": 31873
        },
        {
         "id": 31875,
         "label": 0,
         "tweet": "sunday funday!! Ã°ÂÂÂÃ°ÂÂÂ»Ã¢ÂÂÃ°ÂÂÂ   #smile  #happiness #love ",
         "decode": "sunday funday!! ??????????????????????????????   #smile  #happiness #love ",
         "clean_tweet": "sunday funday smile happiness love",
         "_deepnote_index_column": 31874
        },
        {
         "id": 31876,
         "label": 0,
         "tweet": " @user my beautiful princess mummy #muma #bestfriend #beaut #smiley   ",
         "decode": " @user my beautiful princess mummy #muma #bestfriend #beaut #smiley   ",
         "clean_tweet": "my beautiful princess mummy muma bestfriend beaut smiley",
         "_deepnote_index_column": 31875
        },
        {
         "id": 31877,
         "label": 0,
         "tweet": "all stocked up waiting now for lowery and dermot to bring this one home   days #good luck lads",
         "decode": "all stocked up waiting now for lowery and dermot to bring this one home   days #good luck lads",
         "clean_tweet": "all stocked up waiting now for lowery and dermot to bring this one home days good luck lads",
         "_deepnote_index_column": 31876
        },
        {
         "id": 31878,
         "label": 0,
         "tweet": "@user when will we be able to sta making up the audience??  ",
         "decode": "@user when will we be able to sta making up the audience??  ",
         "clean_tweet": "when will we be able to sta making up the audience",
         "_deepnote_index_column": 31877
        },
        {
         "id": 31879,
         "label": 0,
         "tweet": "@user thank you! i put up another video after its done! but we're remodeling the whole house!  ",
         "decode": "@user thank you! i put up another video after its done! but we're remodeling the whole house!  ",
         "clean_tweet": "thank you i put up another video after its done but we are remodeling the whole house",
         "_deepnote_index_column": 31878
        },
        {
         "id": 31880,
         "label": 0,
         "tweet": "early evening sunshine at the @user summer garden pay tonight, including some rather cool music   ",
         "decode": "early evening sunshine at the @user summer garden pay tonight, including some rather cool music   ",
         "clean_tweet": "early evening sunshine at the summer garden pay tonight including some rather cool music",
         "_deepnote_index_column": 31879
        },
        {
         "id": 31881,
         "label": 0,
         "tweet": "today is #flipflopday. so add flipflops to your casual clothes today and be happy #summer  ",
         "decode": "today is #flipflopday. so add flipflops to your casual clothes today and be happy #summer  ",
         "clean_tweet": "today is flipflopday so add flipflops to your casual clothes today and be happy summer",
         "_deepnote_index_column": 31880
        },
        {
         "id": 31882,
         "label": 0,
         "tweet": "please like &amp; share if you are agree  #dna #dnaquotes #quote #quoteoftheday #love   #proverb #l…",
         "decode": "please like &amp; share if you are agree  #dna #dnaquotes #quote #quoteoftheday #love   #proverb #l…",
         "clean_tweet": "please like amp share if you are agree dna dnaquotes quote quoteoftheday love proverb lifestyle",
         "_deepnote_index_column": 31881
        },
        {
         "id": 31883,
         "label": 1,
         "tweet": "come on n wake the eff up usa! this is craziness. does it all stem from  n hatred of #obama ? it se…",
         "decode": "come on n wake the eff up usa! this is craziness. does it all stem from  n hatred of #obama ? it se…",
         "clean_tweet": "come on n wake the eff up usa this is craziness does it all stem from n hatred of obama it seems li…",
         "_deepnote_index_column": 31882
        },
        {
         "id": 31884,
         "label": 0,
         "tweet": "we spent #familytime by doing simple wefie, we're   #latepost #melawanarus untukÃ¢ÂÂ¦ ",
         "decode": "we spent #familytime by doing simple wefie, we're   #latepost #melawanarus untuk?????? ",
         "clean_tweet": "we spent familytime by doing simple wefie we are latepost melawanarus untuk",
         "_deepnote_index_column": 31883
        },
        {
         "id": 31885,
         "label": 0,
         "tweet": "mass shooting in us = grp calling to ban guns. grp defending guns. gun comp stocks soar. victims be…",
         "decode": "mass shooting in us = grp calling to ban guns. grp defending guns. gun comp stocks soar. victims be…",
         "clean_tweet": "mass shooting in us grp calling to ban guns grp defending guns gun comp stocks soar victims become …",
         "_deepnote_index_column": 31884
        },
        {
         "id": 31886,
         "label": 0,
         "tweet": " episode 1 of our vlog is now live!!!   #interrailing #london to #amsterdam #britishguy #austriangi…",
         "decode": " episode 1 of our vlog is now live!!!   #interrailing #london to #amsterdam #britishguy #austriangi…",
         "clean_tweet": "episode of our vlog is now live interrailing london to amsterdam britishguy austriangirl blonde",
         "_deepnote_index_column": 31885
        },
        {
         "id": 31887,
         "label": 0,
         "tweet": "100 amazing health benefits of cucumbers!    #healthy is  !!  #doplants! ",
         "decode": "100 amazing health benefits of cucumbers!    #healthy is  !!  #doplants! ",
         "clean_tweet": "amazing health benefits of cucumbers healthy is doplants",
         "_deepnote_index_column": 31886
        },
        {
         "id": 31888,
         "label": 0,
         "tweet": "#mirrorofthewitch ep9 time!!!   Ã°ÂÂÂÃ°ÂÂÂÃ°ÂÂÂ",
         "decode": "#mirrorofthewitch ep9 time!!!   ????????????????????????",
         "clean_tweet": "mirrorofthewitch time",
         "_deepnote_index_column": 31887
        },
        {
         "id": 31889,
         "label": 0,
         "tweet": " @user i am thankful for inspiration. #thankful #positive     ",
         "decode": " @user i am thankful for inspiration. #thankful #positive     ",
         "clean_tweet": "i am thankful for inspiration thankful positive",
         "_deepnote_index_column": 31888
        },
        {
         "id": 31890,
         "label": 0,
         "tweet": "feels good to know god's grace and mercy are infiniteÃ¢ÂÂ¢   tho #chapelflow ",
         "decode": "feels good to know god's grace and mercy are infinite??????   tho #chapelflow ",
         "clean_tweet": "feels good to know god s grace and mercy are infinite tho chapelflow",
         "_deepnote_index_column": 31889
        },
        {
         "id": 31891,
         "label": 0,
         "tweet": "i will be so angry with arsenal if city sign #aubameyang for the money which we could afford   #ars…",
         "decode": "i will be so angry with arsenal if city sign #aubameyang for the money which we could afford   #ars…",
         "clean_tweet": "i will be so angry with arsenal if city sign aubameyang for the money which we could afford arsenal…",
         "_deepnote_index_column": 31890
        },
        {
         "id": 31892,
         "label": 1,
         "tweet": "dr. frances cress welsing - racism defined #whitesupremacy  #drfranciscresswelsing ",
         "decode": "dr. frances cress welsing - racism defined #whitesupremacy  #drfranciscresswelsing ",
         "clean_tweet": "dr frances cress welsing racism defined whitesupremacy drfranciscresswelsing",
         "_deepnote_index_column": 31891
        },
        {
         "id": 31893,
         "label": 0,
         "tweet": "get high and leave everything else behind Ã°ÂÂÂ¸ #good #night #havefun   #drink #love #peaceÃ¢ÂÂ…",
         "decode": "get high and leave everything else behind ???????? #good #night #havefun   #drink #love #peace?????…",
         "clean_tweet": "get high and leave everything else behind good night havefun drink love peace",
         "_deepnote_index_column": 31892
        },
        {
         "id": 31894,
         "label": 0,
         "tweet": "yumy yumy. Ã°ÂÂÂ° three milks cake (toa tres leches) made by my Ã°ÂÂÂª    #cake #desseÃ¢ÂÂ¦ ",
         "decode": "yumy yumy. ???????? three milks cake (toa tres leches) made by my ????????    #cake #desse?????? ",
         "clean_tweet": "yumy yumy three milks cake toa tres leches made by my cake desse",
         "_deepnote_index_column": 31893
        },
        {
         "id": 31895,
         "label": 0,
         "tweet": "Ã°ÂÂÂ   #tech 7 bitcoin postcards you can send to your fellow bitcoiners  ",
         "decode": "????????   #tech 7 bitcoin postcards you can send to your fellow bitcoiners  ",
         "clean_tweet": "tech bitcoin postcards you can send to your fellow bitcoiners",
         "_deepnote_index_column": 31894
        },
        {
         "id": 31896,
         "label": 0,
         "tweet": "#girliguessimwithdeath lets get this trending  ",
         "decode": "#girliguessimwithdeath lets get this trending  ",
         "clean_tweet": "girliguessimwithdeath lets get this trending",
         "_deepnote_index_column": 31895
        },
        {
         "id": 31897,
         "label": 0,
         "tweet": "great day editing my first block. watching all the great work everyone did back is a joy   #wow",
         "decode": "great day editing my first block. watching all the great work everyone did back is a joy   #wow",
         "clean_tweet": "great day editing my first block watching all the great work everyone did back is a joy wow",
         "_deepnote_index_column": 31896
        },
        {
         "id": 31898,
         "label": 0,
         "tweet": "how stupid are the russians and english fans killing each other for a 1-1 game ! please grow up #eu…",
         "decode": "how stupid are the russians and english fans killing each other for a 1-1 game ! please grow up #eu…",
         "clean_tweet": "how stupid are the russians and english fans killing each other for a game please grow up",
         "_deepnote_index_column": 31897
        },
        {
         "id": 31899,
         "label": 0,
         "tweet": "sunday night. Ã°ÂÂÂªÃ°ÂÂÂ#goals   tomorrow's a new day new goals .Ã°ÂÂÂÃ°ÂÂÂÃ°ÂÂÂ",
         "decode": "sunday night. ????????????????#goals   tomorrow's a new day new goals .????????????????????????",
         "clean_tweet": "sunday night goals tomorrow s a new day new goals",
         "_deepnote_index_column": 31898
        },
        {
         "id": 31900,
         "label": 1,
         "tweet": "@user the end of   #me #selfie # #love #messi #cr7 #religion #christianity #mecca_live ",
         "decode": "@user the end of   #me #selfie # #love #messi #cr7 #religion #christianity #mecca_live ",
         "clean_tweet": "the end of me selfie love messi religion christianity mecca live",
         "_deepnote_index_column": 31899
        },
        {
         "id": 31901,
         "label": 0,
         "tweet": "  #father's #day to all that deserve to be #call a #dad even if it's a #woman. #god #blessÃ¢ÂÂ¦ ",
         "decode": "  #father's #day to all that deserve to be #call a #dad even if it's a #woman. #god #bless?????? ",
         "clean_tweet": "father s day to all that deserve to be call a dad even if it is a woman god bless",
         "_deepnote_index_column": 31900
        },
        {
         "id": 31902,
         "label": 0,
         "tweet": "last one Ã°ÂÂÂÃ°ÂÂÂ . appletstag #lastone #ipromise #selfie #sorrynotsorry #fun #nofilter #su…",
         "decode": "last one ???????????????? . appletstag #lastone #ipromise #selfie #sorrynotsorry #fun #nofilter #su…",
         "clean_tweet": "last one appletstag lastone ipromise selfie sorrynotsorry fun nofilter summer",
         "_deepnote_index_column": 31901
        },
        {
         "id": 31903,
         "label": 0,
         "tweet": "i will always remember #dl2016 for the day we got engaged @user   #download #downloadfestival",
         "decode": "i will always remember #dl2016 for the day we got engaged @user   #download #downloadfestival",
         "clean_tweet": "i will always remember for the day we got engaged download downloadfestival",
         "_deepnote_index_column": 31902
        },
        {
         "id": 31904,
         "label": 1,
         "tweet": "@user @user  nothing. that would be .  #taharrush #taharrushgamea #rapeugee ",
         "decode": "@user @user  nothing. that would be .  #taharrush #taharrushgamea #rapeugee ",
         "clean_tweet": "nothing that would be taharrush taharrushgamea rapeugee",
         "_deepnote_index_column": 31903
        },
        {
         "id": 31905,
         "label": 0,
         "tweet": "#model   i love u take with u all the time in urÃ°ÂÂÂ±!!! Ã°ÂÂÂÃ°ÂÂÂÃ°ÂÂÂÃ°ÂÂÂÃ°ÂÂÂ…",
         "decode": "#model   i love u take with u all the time in ur????????!!! ???????????????????????????????????????…",
         "clean_tweet": "model i love you take with you all the time in ur",
         "_deepnote_index_column": 31904
        },
        {
         "id": 31906,
         "label": 0,
         "tweet": " @user i love you for this Ã°ÂÂÂ¹Ã°ÂÂÂ¹Ã°ÂÂÂÃ°ÂÂÂ¾ ",
         "decode": " @user i love you for this ???????????????????????????????? ",
         "clean_tweet": "i love you for this",
         "_deepnote_index_column": 31905
        },
        {
         "id": 31907,
         "label": 0,
         "tweet": " !!!! new @user #showerdec on its way for installation next week!!! looking forward to fitting it! …",
         "decode": " !!!! new @user #showerdec on its way for installation next week!!! looking forward to fitting it! …",
         "clean_tweet": "new showerdec on its way for installation next week looking forward to fitting it teamcontour",
         "_deepnote_index_column": 31906
        },
        {
         "id": 31908,
         "label": 0,
         "tweet": "@user love that your statements came from the man who was rebuked by voters in 2008.   #goodluckinn…",
         "decode": "@user love that your statements came from the man who was rebuked by voters in 2008.   #goodluckinn…",
         "clean_tweet": "love that your statements came from the man who was rebuked by voters in goodluckinnovember loser",
         "_deepnote_index_column": 31907
        },
        {
         "id": 31909,
         "label": 0,
         "tweet": "if dudes wana fuck eachother n get married, i can never be mad at tht. jus means more females for m…",
         "decode": "if dudes wana fuck eachother n get married, i can never be mad at tht. jus means more females for m…",
         "clean_tweet": "if dudes wana fuck eachother n get married i can never be mad at tht jus means more females for me …",
         "_deepnote_index_column": 31908
        },
        {
         "id": 31910,
         "label": 0,
         "tweet": "steak night at work means a night off training, shandy, tv, chocolate and knitting.  Ã¢ÂÂ¦  ",
         "decode": "steak night at work means a night off training, shandy, tv, chocolate and knitting.  ??????  ",
         "clean_tweet": "steak night at work means a night off training shandy tv chocolate and knitting",
         "_deepnote_index_column": 31909
        },
        {
         "id": 31911,
         "label": 0,
         "tweet": "@user @user not a brown-noser?? you're practically making out with hillary in your profile pictureÃ…",
         "decode": "@user @user not a brown-noser?? you're practically making out with hillary in your profile picture?…",
         "clean_tweet": "not a brown noser you are practically making out with hillary in your profile picture",
         "_deepnote_index_column": 31910
        },
        {
         "id": 31912,
         "label": 0,
         "tweet": " .... because i choose to be. ",
         "decode": " .... because i choose to be. ",
         "clean_tweet": "because i choose to be",
         "_deepnote_index_column": 31911
        },
        {
         "id": 31913,
         "label": 1,
         "tweet": "i couldn't end #2016 without mentioning #trump.  #feminism #photographs #shockfactor  ",
         "decode": "i couldn't end #2016 without mentioning #trump.  #feminism #photographs #shockfactor  ",
         "clean_tweet": "i could not end without mentioning trump feminism photographs shockfactor",
         "_deepnote_index_column": 31912
        },
        {
         "id": 31914,
         "label": 0,
         "tweet": "#chateaubriand #stovells absolutely lovely #food #yum   ",
         "decode": "#chateaubriand #stovells absolutely lovely #food #yum   ",
         "clean_tweet": "chateaubriand stovells absolutely lovely food yum",
         "_deepnote_index_column": 31913
        },
        {
         "id": 31915,
         "label": 0,
         "tweet": " @user #frarou woohoo! #euro2016 kicks off..!  ",
         "decode": " @user #frarou woohoo! #euro2016 kicks off..!  ",
         "clean_tweet": "frarou woohoo kicks off",
         "_deepnote_index_column": 31914
        },
        {
         "id": 31916,
         "label": 0,
         "tweet": "and here i thought @user  and i were having a lovely conversation. i guess he only debates with peo…",
         "decode": "and here i thought @user  and i were having a lovely conversation. i guess he only debates with peo…",
         "clean_tweet": "and here i thought and i were having a lovely conversation i guess he only debates with people he a…",
         "_deepnote_index_column": 31915
        },
        {
         "id": 31917,
         "label": 0,
         "tweet": "happy tuesday!! feeling fantastic today. looking forward to tonight's workout. #smile  Ã¢ÂÂ¦ ",
         "decode": "happy tuesday!! feeling fantastic today. looking forward to tonight's workout. #smile  ?????? ",
         "clean_tweet": "happy tuesday feeling fantastic today looking forward to tonight s workout smile",
         "_deepnote_index_column": 31916
        },
        {
         "id": 31918,
         "label": 0,
         "tweet": "i feel horrible just watching my brother being sick  ",
         "decode": "i feel horrible just watching my brother being sick  ",
         "clean_tweet": "i feel horrible just watching my brother being sick",
         "_deepnote_index_column": 31917
        },
        {
         "id": 31919,
         "label": 0,
         "tweet": "what the hell is wrong with humanity? why would anyone need to do anything to prove his faith?#ridi…",
         "decode": "what the hell is wrong with humanity? why would anyone need to do anything to prove his faith?#ridi…",
         "clean_tweet": "what the hell is wrong with humanity why would anyone need to do anything to prove his faith ridicu…",
         "_deepnote_index_column": 31918
        },
        {
         "id": 31920,
         "label": 0,
         "tweet": "lily's current outfit of choice Ã°ÂÂÂ #baby #lily #fluffysocks #dressup #butterfly #backpack  Ã¢…",
         "decode": "lily's current outfit of choice ???????? #baby #lily #fluffysocks #dressup #butterfly #backpack  ??…",
         "clean_tweet": "lily s current outfit of choice baby lily fluffysocks dressup butterfly backpack",
         "_deepnote_index_column": 31919
        },
        {
         "id": 31921,
         "label": 0,
         "tweet": "love this clickÃ°ÂÂÂÃ°ÂÂÂ #exclusive pic of @user  on #ssk #set #handsome #hot #dashing #smil…",
         "decode": "love this click???????????????? #exclusive pic of @user  on #ssk #set #handsome #hot #dashing #smil…",
         "clean_tweet": "love this click exclusive pic of on ssk set handsome hot dashing smile",
         "_deepnote_index_column": 31920
        },
        {
         "id": 31922,
         "label": 0,
         "tweet": "  friday everyone Ã°ÂÂÂÃ°ÂÂÂ #morning #fridayfeeling #love #kind #behappy ",
         "decode": "  friday everyone ???????????????? #morning #fridayfeeling #love #kind #behappy ",
         "clean_tweet": "friday everyone morning fridayfeeling love kind behappy",
         "_deepnote_index_column": 31921
        },
        {
         "id": 31923,
         "label": 0,
         "tweet": "i love my friends! happy sunday funday everyone!   #sunday #funday #friends #squad #goofballs ",
         "decode": "i love my friends! happy sunday funday everyone!   #sunday #funday #friends #squad #goofballs ",
         "clean_tweet": "i love my friends happy sunday funday everyone sunday funday friends squad goofballs",
         "_deepnote_index_column": 31922
        },
        {
         "id": 31924,
         "label": 0,
         "tweet": "#hea is the easiest thing which can be #fooled,  i am  , i am #sad and it just takes a thought to b…",
         "decode": "#hea is the easiest thing which can be #fooled,  i am  , i am #sad and it just takes a thought to b…",
         "clean_tweet": "hea is the easiest thing which can be fooled i am i am sad and it just takes a thought to be anywhe…",
         "_deepnote_index_column": 31923
        },
        {
         "id": 31925,
         "label": 0,
         "tweet": " @user when bae is at work and can't text you and you have no one to talk to.  ",
         "decode": " @user when bae is at work and can't text you and you have no one to talk to.  ",
         "clean_tweet": "when bae is at work and cannot text you and you have no one to talk to",
         "_deepnote_index_column": 31924
        },
        {
         "id": 31926,
         "label": 0,
         "tweet": "what an afternoon! Ã°ÂÂÂÃ°ÂÂÂ  ",
         "decode": "what an afternoon! ????????????????  ",
         "clean_tweet": "what an afternoon",
         "_deepnote_index_column": 31925
        },
        {
         "id": 31927,
         "label": 1,
         "tweet": "a follow up from the gentlemen who were kicked off of @user airlines for simply speaking arabic    ",
         "decode": "a follow up from the gentlemen who were kicked off of @user airlines for simply speaking arabic    ",
         "clean_tweet": "a follow up from the gentlemen who were kicked off of airlines for simply speaking arabic",
         "_deepnote_index_column": 31926
        },
        {
         "id": 31928,
         "label": 0,
         "tweet": "#8aÃÂ±olevyrrroni @user  @user #levyrroni #recuerdos memories... Ã°ÂÂÂ­Ã¢ÂÂ¤Ã°ÂÂÂ«Ã°ÂÂÂ #r…",
         "decode": "#8a????olevyrrroni @user  @user #levyrroni #recuerdos memories... ?????????????????????????????? #r…",
         "clean_tweet": "olevyrrroni levyrroni recuerdos memories recuerdos friends life",
         "_deepnote_index_column": 31927
        },
        {
         "id": 31929,
         "label": 0,
         "tweet": "my hea is perfect because you are inside Ã°ÂÂÂ  #love #loveforever #couple   #gratefulÃ¢ÂÂ¦ ",
         "decode": "my hea is perfect because you are inside ????????  #love #loveforever #couple   #grateful?????? ",
         "clean_tweet": "my hea is perfect because you are inside love loveforever couple grateful",
         "_deepnote_index_column": 31928
        },
        {
         "id": 31930,
         "label": 1,
         "tweet": "did  keep #colinpowell and #condoleezzarice from being #secretaryofstate? words not to use in #2017…",
         "decode": "did  keep #colinpowell and #condoleezzarice from being #secretaryofstate? words not to use in #2017…",
         "clean_tweet": "did keep colinpowell and condoleezzarice from being secretaryofstate words not to use in jumpedthes…",
         "_deepnote_index_column": 31929
        },
        {
         "id": 31931,
         "label": 1,
         "tweet": "@user #feminismiscancer #feminismisterrorism #feminismmuktbharat why  #malevote is ignored  @user",
         "decode": "@user #feminismiscancer #feminismisterrorism #feminismmuktbharat why  #malevote is ignored  @user",
         "clean_tweet": "feminismiscancer feminismisterrorism feminismmuktbharat why malevote is ignored",
         "_deepnote_index_column": 31930
        },
        {
         "id": 31932,
         "label": 0,
         "tweet": "@user i c sociopaths low iq satanic everything that is an abomination2 god will b the norm as well …",
         "decode": "@user i c sociopaths low iq satanic everything that is an abomination2 god will b the norm as well …",
         "clean_tweet": "i c sociopaths low iq satanic everything that is an god will b the norm as well as committing felon…",
         "_deepnote_index_column": 31931
        },
        {
         "id": 31933,
         "label": 0,
         "tweet": "@user thanks gemma  ",
         "decode": "@user thanks gemma  ",
         "clean_tweet": "thanks gemma",
         "_deepnote_index_column": 31932
        },
        {
         "id": 31934,
         "label": 1,
         "tweet": "@user judd is a  &amp; #homophobic #freemilo #milo #freemilo #milo #freemilo #milo #freemilo #milo …",
         "decode": "@user judd is a  &amp; #homophobic #freemilo #milo #freemilo #milo #freemilo #milo #freemilo #milo …",
         "clean_tweet": "judd is a amp homophobic freemilo milo freemilo milo freemilo milo freemilo milo freemilo",
         "_deepnote_index_column": 31933
        },
        {
         "id": 31935,
         "label": 1,
         "tweet": "lady banned from kentucky mall. @user  #jcpenny #kentucky  ",
         "decode": "lady banned from kentucky mall. @user  #jcpenny #kentucky  ",
         "clean_tweet": "lady banned from kentucky mall jcpenny kentucky",
         "_deepnote_index_column": 31934
        },
        {
         "id": 31936,
         "label": 0,
         "tweet": "ugh i'm trying to enjoy my happy hour drink &amp; there is talks of politics in the bar can we gues…",
         "decode": "ugh i'm trying to enjoy my happy hour drink &amp; there is talks of politics in the bar can we gues…",
         "clean_tweet": "ugh i am trying to enjoy my happy hour drink amp there is talks of politics in the bar can we guess…",
         "_deepnote_index_column": 31935
        },
        {
         "id": 31937,
         "label": 0,
         "tweet": "want to know how to live a   life? do more things that make you happy and less things that make you…",
         "decode": "want to know how to live a   life? do more things that make you happy and less things that make you…",
         "clean_tweet": "want to know how to live a life do more things that make you happy and less things that make you un…",
         "_deepnote_index_column": 31936
        },
        {
         "id": 31938,
         "label": 0,
         "tweet": "love island Ã°ÂÂÂ  ",
         "decode": "love island ????????  ",
         "clean_tweet": "love island",
         "_deepnote_index_column": 31937
        },
        {
         "id": 31939,
         "label": 0,
         "tweet": "my fav actor #vijaysethupathi ! my fav actress @user ! my most fav director @user !! one film !! ca…",
         "decode": "my fav actor #vijaysethupathi ! my fav actress @user ! my most fav director @user !! one film !! ca…",
         "clean_tweet": "my fav actor vijaysethupathi my fav actress my most fav director one film cannot wait",
         "_deepnote_index_column": 31938
        },
        {
         "id": 31940,
         "label": 0,
         "tweet": "whew  Ã°ÂÂÂ it's a productive and   #friday!!!",
         "decode": "whew  ???????? it's a productive and   #friday!!!",
         "clean_tweet": "whew it is a productive and friday",
         "_deepnote_index_column": 31939
        },
        {
         "id": 31941,
         "label": 0,
         "tweet": "@user she's finally here! @user   ",
         "decode": "@user she's finally here! @user   ",
         "clean_tweet": "she is finally here",
         "_deepnote_index_column": 31940
        },
        {
         "id": 31942,
         "label": 0,
         "tweet": "passed first year of uni #yay #love #pass #unistudent #photographystudent #ucs #soproud  ",
         "decode": "passed first year of uni #yay #love #pass #unistudent #photographystudent #ucs #soproud  ",
         "clean_tweet": "passed first year of uni yay love pass unistudent photographystudent ucs soproud",
         "_deepnote_index_column": 31941
        },
        {
         "id": 31943,
         "label": 0,
         "tweet": "this week is flying by   #humpday - #wednesday #kamp #ucsdÃ¢ÂÂ¦ ",
         "decode": "this week is flying by   #humpday - #wednesday #kamp #ucsd?????? ",
         "clean_tweet": "this week is flying by humpday wednesday kamp ucsd",
         "_deepnote_index_column": 31942
        },
        {
         "id": 31944,
         "label": 0,
         "tweet": " @user modeling photoshoot this friday yay #model #me #follow #emo   ",
         "decode": " @user modeling photoshoot this friday yay #model #me #follow #emo   ",
         "clean_tweet": "modeling photoshoot this friday yay model me follow emo",
         "_deepnote_index_column": 31943
        },
        {
         "id": 31945,
         "label": 0,
         "tweet": "you're surrounded by people who love you (even more than you deserve) and yet, why are so hateful? …",
         "decode": "you're surrounded by people who love you (even more than you deserve) and yet, why are so hateful? …",
         "clean_tweet": "you are surrounded by people who love you even more than you deserve and yet why are so hateful",
         "_deepnote_index_column": 31944
        },
        {
         "id": 31946,
         "label": 0,
         "tweet": "feel like... Ã°ÂÂÂÃ°ÂÂÂ¶Ã°ÂÂÂ #dog #summer #hot #help #sun #day   #more ",
         "decode": "feel like... ???????????????????????? #dog #summer #hot #help #sun #day   #more ",
         "clean_tweet": "feel like dog summer hot help sun day more",
         "_deepnote_index_column": 31945
        },
        {
         "id": 31947,
         "label": 1,
         "tweet": "@user omfg i'm offended! i'm a  mailbox and i'm proud! #mailboxpride  #liberalisme",
         "decode": "@user omfg i'm offended! i'm a  mailbox and i'm proud! #mailboxpride  #liberalisme",
         "clean_tweet": "omfg i am offended i am a mailbox and i am proud mailboxpride liberalisme",
         "_deepnote_index_column": 31946
        },
        {
         "id": 31948,
         "label": 1,
         "tweet": "@user @user you don't have the balls to hashtag me as a  but you say i am to weasel away.. lumpy to…",
         "decode": "@user @user you don't have the balls to hashtag me as a  but you say i am to weasel away.. lumpy to…",
         "clean_tweet": "you do not have the balls to hashtag me as a but you say i am to weasel away lumpy tony dipshit",
         "_deepnote_index_column": 31947
        },
        {
         "id": 31949,
         "label": 1,
         "tweet": " makes you ask yourself, who am i? then am i anybody? until ....god . oh thank you god!",
         "decode": " makes you ask yourself, who am i? then am i anybody? until ....god . oh thank you god!",
         "clean_tweet": "makes you ask yourself who am i then am i anybody until god oh thank you god",
         "_deepnote_index_column": 31948
        },
        {
         "id": 31950,
         "label": 0,
         "tweet": "hear one of my new songs! don't go - katie ellie #youtube #original #music #song #relationship #son…",
         "decode": "hear one of my new songs! don't go - katie ellie #youtube #original #music #song #relationship #son…",
         "clean_tweet": "hear one of my new songs do not go katie ellie youtube original music song relationship songwriter",
         "_deepnote_index_column": 31949
        },
        {
         "id": 31951,
         "label": 0,
         "tweet": " @user you can try to 'tail' us to stop, 'butt' we're just having too good of a time!  #goldenretri…",
         "decode": " @user you can try to 'tail' us to stop, 'butt' we're just having too good of a time!  #goldenretri…",
         "clean_tweet": "you can try to tail us to stop butt we are just having too good of a time goldenretriever animals",
         "_deepnote_index_column": 31950
        },
        {
         "id": 31952,
         "label": 0,
         "tweet": "i've just posted a new blog: #secondlife #lonely #neko   ",
         "decode": "i've just posted a new blog: #secondlife #lonely #neko   ",
         "clean_tweet": "i have just posted a new blog secondlife lonely neko",
         "_deepnote_index_column": 31951
        },
        {
         "id": 31953,
         "label": 0,
         "tweet": "@user you went too far with @user  ",
         "decode": "@user you went too far with @user  ",
         "clean_tweet": "you went too far with",
         "_deepnote_index_column": 31952
        },
        {
         "id": 31954,
         "label": 0,
         "tweet": "good morning #instagram #shower #water #berlin #berlincitygirl   #girl #newyork #zÃÂ¼rich #genf #b…",
         "decode": "good morning #instagram #shower #water #berlin #berlincitygirl   #girl #newyork #z????rich #genf #b…",
         "clean_tweet": "good morning instagram shower water berlin berlincitygirl girl newyork z rich genf bern",
         "_deepnote_index_column": 31953
        },
        {
         "id": 31955,
         "label": 0,
         "tweet": "#holiday   bull up: you will dominate your bull and you will direct it whatever you want it to do. …",
         "decode": "#holiday   bull up: you will dominate your bull and you will direct it whatever you want it to do. …",
         "clean_tweet": "holiday bull up you will dominate your bull and you will direct it whatever you want it to do when …",
         "_deepnote_index_column": 31954
        },
        {
         "id": 31956,
         "label": 0,
         "tweet": "less than 2 weeks Ã°ÂÂÂÃ°ÂÂÂÃ°ÂÂÂ¼Ã°ÂÂÂ¹Ã°ÂÂÂÃ°ÂÂÂµ @user #ibiza#bringiton#mallorca#…",
         "decode": "less than 2 weeks ???????????????????????????????????????????????? @user #ibiza#bringiton#mallorca#…",
         "clean_tweet": "less than weeks ibiza bringiton mallorca holidays summer",
         "_deepnote_index_column": 31955
        },
        {
         "id": 31957,
         "label": 0,
         "tweet": "off fishing tomorrow @user carnt wait first time in 2 years  ",
         "decode": "off fishing tomorrow @user carnt wait first time in 2 years  ",
         "clean_tweet": "off fishing tomorrow carnt wait first time in years",
         "_deepnote_index_column": 31956
        },
        {
         "id": 31958,
         "label": 0,
         "tweet": "ate @user isz that youuu?Ã°ÂÂÂÃ°ÂÂÂÃ°ÂÂÂÃ°ÂÂÂÃ°ÂÂÂÃ°ÂÂÂÃ°ÂÂÂÃ°ÂÂÂÃ°ÂÂÂÃ¢…",
         "decode": "ate @user isz that youuu???????????????????????????????????????????????????????????????????????????…",
         "clean_tweet": "ate isz that youuu",
         "_deepnote_index_column": 31957
        },
        {
         "id": 31959,
         "label": 0,
         "tweet": "  to see nina turner on the airwaves trying to wrap herself in the mantle of a genuine hero like sh…",
         "decode": "  to see nina turner on the airwaves trying to wrap herself in the mantle of a genuine hero like sh…",
         "clean_tweet": "to see nina turner on the airwaves trying to wrap herself in the mantle of a genuine hero like shir…",
         "_deepnote_index_column": 31958
        },
        {
         "id": 31960,
         "label": 0,
         "tweet": "listening to sad songs on a monday morning otw to work is sad  ",
         "decode": "listening to sad songs on a monday morning otw to work is sad  ",
         "clean_tweet": "listening to sad songs on a monday morning on the way to work is sad",
         "_deepnote_index_column": 31959
        },
        {
         "id": 31961,
         "label": 1,
         "tweet": "@user #sikh #temple vandalised in in #calgary, #wso condemns  act  ",
         "decode": "@user #sikh #temple vandalised in in #calgary, #wso condemns  act  ",
         "clean_tweet": "sikh temple vandalised in in calgary wso condemns act",
         "_deepnote_index_column": 31960
        },
        {
         "id": 31962,
         "label": 0,
         "tweet": "thank you @user for you follow  ",
         "decode": "thank you @user for you follow  ",
         "clean_tweet": "thank you for you follow",
         "_deepnote_index_column": 31961
        }
       ]
      },
      "text/plain": "          id  label                                              tweet  \\\n0          1      0   @user when a father is dysfunctional and is s...   \n1          2      0  @user @user thanks for #lyft credit i can't us...   \n2          3      0                                bihday your majesty   \n3          4      0  #model   i love u take with u all the time in ...   \n4          5      0             factsguide: society now    #motivation   \n...      ...    ...                                                ...   \n31957  31958      0  ate @user isz that youuu?Ã°ÂÂÂÃ°ÂÂÂÃ°ÂÂ...   \n31958  31959      0    to see nina turner on the airwaves trying to...   \n31959  31960      0  listening to sad songs on a monday morning otw...   \n31960  31961      1  @user #sikh #temple vandalised in in #calgary,...   \n31961  31962      0                   thank you @user for you follow     \n\n                                                  decode  \\\n0       @user when a father is dysfunctional and is s...   \n1      @user @user thanks for #lyft credit i can't us...   \n2                                    bihday your majesty   \n3      #model   i love u take with u all the time in ...   \n4                 factsguide: society now    #motivation   \n...                                                  ...   \n31957  ate @user isz that youuu??????????????????????...   \n31958    to see nina turner on the airwaves trying to...   \n31959  listening to sad songs on a monday morning otw...   \n31960  @user #sikh #temple vandalised in in #calgary,...   \n31961                   thank you @user for you follow     \n\n                                             clean_tweet  \n0      when a father is dysfunctional and is so selfi...  \n1      thanks for lyft credit i cannot use cause they...  \n2                                    bihday your majesty  \n3      model i love you take with you all the time in ur  \n4                      factsguide society now motivation  \n...                                                  ...  \n31957                                 ate isz that youuu  \n31958  to see nina turner on the airwaves trying to w...  \n31959  listening to sad songs on a monday morning on ...  \n31960  sikh temple vandalised in in calgary wso conde...  \n31961                           thank you for you follow  \n\n[31962 rows x 5 columns]",
      "text/html": "<div>\n<style scoped>\n    .dataframe tbody tr th:only-of-type {\n        vertical-align: middle;\n    }\n\n    .dataframe tbody tr th {\n        vertical-align: top;\n    }\n\n    .dataframe thead th {\n        text-align: right;\n    }\n</style>\n<table border=\"1\" class=\"dataframe\">\n  <thead>\n    <tr style=\"text-align: right;\">\n      <th></th>\n      <th>id</th>\n      <th>label</th>\n      <th>tweet</th>\n      <th>decode</th>\n      <th>clean_tweet</th>\n    </tr>\n  </thead>\n  <tbody>\n    <tr>\n      <th>0</th>\n      <td>1</td>\n      <td>0</td>\n      <td>@user when a father is dysfunctional and is s...</td>\n      <td>@user when a father is dysfunctional and is s...</td>\n      <td>when a father is dysfunctional and is so selfi...</td>\n    </tr>\n    <tr>\n      <th>1</th>\n      <td>2</td>\n      <td>0</td>\n      <td>@user @user thanks for #lyft credit i can't us...</td>\n      <td>@user @user thanks for #lyft credit i can't us...</td>\n      <td>thanks for lyft credit i cannot use cause they...</td>\n    </tr>\n    <tr>\n      <th>2</th>\n      <td>3</td>\n      <td>0</td>\n      <td>bihday your majesty</td>\n      <td>bihday your majesty</td>\n      <td>bihday your majesty</td>\n    </tr>\n    <tr>\n      <th>3</th>\n      <td>4</td>\n      <td>0</td>\n      <td>#model   i love u take with u all the time in ...</td>\n      <td>#model   i love u take with u all the time in ...</td>\n      <td>model i love you take with you all the time in ur</td>\n    </tr>\n    <tr>\n      <th>4</th>\n      <td>5</td>\n      <td>0</td>\n      <td>factsguide: society now    #motivation</td>\n      <td>factsguide: society now    #motivation</td>\n      <td>factsguide society now motivation</td>\n    </tr>\n    <tr>\n      <th>...</th>\n      <td>...</td>\n      <td>...</td>\n      <td>...</td>\n      <td>...</td>\n      <td>...</td>\n    </tr>\n    <tr>\n      <th>31957</th>\n      <td>31958</td>\n      <td>0</td>\n      <td>ate @user isz that youuu?Ã°ÂÂÂÃ°ÂÂÂÃ°ÂÂ...</td>\n      <td>ate @user isz that youuu??????????????????????...</td>\n      <td>ate isz that youuu</td>\n    </tr>\n    <tr>\n      <th>31958</th>\n      <td>31959</td>\n      <td>0</td>\n      <td>to see nina turner on the airwaves trying to...</td>\n      <td>to see nina turner on the airwaves trying to...</td>\n      <td>to see nina turner on the airwaves trying to w...</td>\n    </tr>\n    <tr>\n      <th>31959</th>\n      <td>31960</td>\n      <td>0</td>\n      <td>listening to sad songs on a monday morning otw...</td>\n      <td>listening to sad songs on a monday morning otw...</td>\n      <td>listening to sad songs on a monday morning on ...</td>\n    </tr>\n    <tr>\n      <th>31960</th>\n      <td>31961</td>\n      <td>1</td>\n      <td>@user #sikh #temple vandalised in in #calgary,...</td>\n      <td>@user #sikh #temple vandalised in in #calgary,...</td>\n      <td>sikh temple vandalised in in calgary wso conde...</td>\n    </tr>\n    <tr>\n      <th>31961</th>\n      <td>31962</td>\n      <td>0</td>\n      <td>thank you @user for you follow</td>\n      <td>thank you @user for you follow</td>\n      <td>thank you for you follow</td>\n    </tr>\n  </tbody>\n</table>\n<p>31962 rows × 5 columns</p>\n</div>"
     },
     "metadata": {}
    }
   ],
   "execution_count": null
  },
  {
   "cell_type": "code",
   "metadata": {
    "tags": [],
    "cell_id": "00008-97f129bd-fba0-4c5d-b0bc-19f296c79510",
    "deepnote_to_be_reexecuted": false,
    "source_hash": "9c1e44df",
    "execution_start": 1635690382898,
    "execution_millis": 73,
    "deepnote_cell_type": "code"
   },
   "source": "training['clean_tweet'] = training['clean_tweet'].str.replace(r\"http\\S+\", \"\")\ntraining.head()",
   "outputs": [
    {
     "name": "stderr",
     "text": "/shared-libs/python3.7/py-core/lib/python3.7/site-packages/ipykernel_launcher.py:1: FutureWarning: The default value of regex will change from True to False in a future version.\n  \"\"\"Entry point for launching an IPython kernel.\n",
     "output_type": "stream"
    },
    {
     "output_type": "execute_result",
     "execution_count": 9,
     "data": {
      "application/vnd.deepnote.dataframe.v2+json": {
       "row_count": 5,
       "column_count": 5,
       "columns": [
        {
         "name": "id",
         "dtype": "int64",
         "stats": {
          "unique_count": 5,
          "nan_count": 0,
          "min": "1",
          "max": "5",
          "histogram": [
           {
            "bin_start": 1,
            "bin_end": 1.4,
            "count": 1
           },
           {
            "bin_start": 1.4,
            "bin_end": 1.8,
            "count": 0
           },
           {
            "bin_start": 1.8,
            "bin_end": 2.2,
            "count": 1
           },
           {
            "bin_start": 2.2,
            "bin_end": 2.6,
            "count": 0
           },
           {
            "bin_start": 2.6,
            "bin_end": 3,
            "count": 0
           },
           {
            "bin_start": 3,
            "bin_end": 3.4000000000000004,
            "count": 1
           },
           {
            "bin_start": 3.4000000000000004,
            "bin_end": 3.8000000000000003,
            "count": 0
           },
           {
            "bin_start": 3.8000000000000003,
            "bin_end": 4.2,
            "count": 1
           },
           {
            "bin_start": 4.2,
            "bin_end": 4.6,
            "count": 0
           },
           {
            "bin_start": 4.6,
            "bin_end": 5,
            "count": 1
           }
          ]
         }
        },
        {
         "name": "label",
         "dtype": "int64",
         "stats": {
          "unique_count": 1,
          "nan_count": 0,
          "min": "0",
          "max": "0",
          "histogram": [
           {
            "bin_start": -0.5,
            "bin_end": -0.4,
            "count": 0
           },
           {
            "bin_start": -0.4,
            "bin_end": -0.3,
            "count": 0
           },
           {
            "bin_start": -0.3,
            "bin_end": -0.19999999999999996,
            "count": 0
           },
           {
            "bin_start": -0.19999999999999996,
            "bin_end": -0.09999999999999998,
            "count": 0
           },
           {
            "bin_start": -0.09999999999999998,
            "bin_end": 0,
            "count": 0
           },
           {
            "bin_start": 0,
            "bin_end": 0.10000000000000009,
            "count": 5
           },
           {
            "bin_start": 0.10000000000000009,
            "bin_end": 0.20000000000000007,
            "count": 0
           },
           {
            "bin_start": 0.20000000000000007,
            "bin_end": 0.30000000000000004,
            "count": 0
           },
           {
            "bin_start": 0.30000000000000004,
            "bin_end": 0.4,
            "count": 0
           },
           {
            "bin_start": 0.4,
            "bin_end": 0.5,
            "count": 0
           }
          ]
         }
        },
        {
         "name": "tweet",
         "dtype": "object",
         "stats": {
          "unique_count": 5,
          "nan_count": 0,
          "categories": [
           {
            "name": " @user when a father is dysfunctional and is so selfish he drags his kids into his dysfunction.   #run",
            "count": 1
           },
           {
            "name": "@user @user thanks for #lyft credit i can't use cause they don't offer wheelchair vans in pdx.    #disapointed #getthanked",
            "count": 1
           },
           {
            "name": "3 others",
            "count": 3
           }
          ]
         }
        },
        {
         "name": "decode",
         "dtype": "object",
         "stats": {
          "unique_count": 5,
          "nan_count": 0,
          "categories": [
           {
            "name": " @user when a father is dysfunctional and is so selfish he drags his kids into his dysfunction.   #run",
            "count": 1
           },
           {
            "name": "@user @user thanks for #lyft credit i can't use cause they don't offer wheelchair vans in pdx.    #disapointed #getthanked",
            "count": 1
           },
           {
            "name": "3 others",
            "count": 3
           }
          ]
         }
        },
        {
         "name": "clean_tweet",
         "dtype": "object",
         "stats": {
          "unique_count": 5,
          "nan_count": 0,
          "categories": [
           {
            "name": "when a father is dysfunctional and is so selfish he drags his kids into his dysfunction run",
            "count": 1
           },
           {
            "name": "thanks for lyft credit i cannot use cause they do not offer wheelchair vans in pdx disapointed getthanked",
            "count": 1
           },
           {
            "name": "3 others",
            "count": 3
           }
          ]
         }
        },
        {
         "name": "_deepnote_index_column",
         "dtype": "int64"
        }
       ],
       "rows_top": [
        {
         "id": 1,
         "label": 0,
         "tweet": " @user when a father is dysfunctional and is so selfish he drags his kids into his dysfunction.   #…",
         "decode": " @user when a father is dysfunctional and is so selfish he drags his kids into his dysfunction.   #…",
         "clean_tweet": "when a father is dysfunctional and is so selfish he drags his kids into his dysfunction run",
         "_deepnote_index_column": 0
        },
        {
         "id": 2,
         "label": 0,
         "tweet": "@user @user thanks for #lyft credit i can't use cause they don't offer wheelchair vans in pdx.    #…",
         "decode": "@user @user thanks for #lyft credit i can't use cause they don't offer wheelchair vans in pdx.    #…",
         "clean_tweet": "thanks for lyft credit i cannot use cause they do not offer wheelchair vans in pdx disapointed gett…",
         "_deepnote_index_column": 1
        },
        {
         "id": 3,
         "label": 0,
         "tweet": "  bihday your majesty",
         "decode": "  bihday your majesty",
         "clean_tweet": "bihday your majesty",
         "_deepnote_index_column": 2
        },
        {
         "id": 4,
         "label": 0,
         "tweet": "#model   i love u take with u all the time in urÃ°ÂÂÂ±!!! Ã°ÂÂÂÃ°ÂÂÂÃ°ÂÂÂÃ°ÂÂÂÃ°ÂÂÂ…",
         "decode": "#model   i love u take with u all the time in ur????????!!! ???????????????????????????????????????…",
         "clean_tweet": "model i love you take with you all the time in ur",
         "_deepnote_index_column": 3
        },
        {
         "id": 5,
         "label": 0,
         "tweet": " factsguide: society now    #motivation",
         "decode": " factsguide: society now    #motivation",
         "clean_tweet": "factsguide society now motivation",
         "_deepnote_index_column": 4
        }
       ],
       "rows_bottom": null
      },
      "text/plain": "   id  label                                              tweet  \\\n0   1      0   @user when a father is dysfunctional and is s...   \n1   2      0  @user @user thanks for #lyft credit i can't us...   \n2   3      0                                bihday your majesty   \n3   4      0  #model   i love u take with u all the time in ...   \n4   5      0             factsguide: society now    #motivation   \n\n                                              decode  \\\n0   @user when a father is dysfunctional and is s...   \n1  @user @user thanks for #lyft credit i can't us...   \n2                                bihday your majesty   \n3  #model   i love u take with u all the time in ...   \n4             factsguide: society now    #motivation   \n\n                                         clean_tweet  \n0  when a father is dysfunctional and is so selfi...  \n1  thanks for lyft credit i cannot use cause they...  \n2                                bihday your majesty  \n3  model i love you take with you all the time in ur  \n4                  factsguide society now motivation  ",
      "text/html": "<div>\n<style scoped>\n    .dataframe tbody tr th:only-of-type {\n        vertical-align: middle;\n    }\n\n    .dataframe tbody tr th {\n        vertical-align: top;\n    }\n\n    .dataframe thead th {\n        text-align: right;\n    }\n</style>\n<table border=\"1\" class=\"dataframe\">\n  <thead>\n    <tr style=\"text-align: right;\">\n      <th></th>\n      <th>id</th>\n      <th>label</th>\n      <th>tweet</th>\n      <th>decode</th>\n      <th>clean_tweet</th>\n    </tr>\n  </thead>\n  <tbody>\n    <tr>\n      <th>0</th>\n      <td>1</td>\n      <td>0</td>\n      <td>@user when a father is dysfunctional and is s...</td>\n      <td>@user when a father is dysfunctional and is s...</td>\n      <td>when a father is dysfunctional and is so selfi...</td>\n    </tr>\n    <tr>\n      <th>1</th>\n      <td>2</td>\n      <td>0</td>\n      <td>@user @user thanks for #lyft credit i can't us...</td>\n      <td>@user @user thanks for #lyft credit i can't us...</td>\n      <td>thanks for lyft credit i cannot use cause they...</td>\n    </tr>\n    <tr>\n      <th>2</th>\n      <td>3</td>\n      <td>0</td>\n      <td>bihday your majesty</td>\n      <td>bihday your majesty</td>\n      <td>bihday your majesty</td>\n    </tr>\n    <tr>\n      <th>3</th>\n      <td>4</td>\n      <td>0</td>\n      <td>#model   i love u take with u all the time in ...</td>\n      <td>#model   i love u take with u all the time in ...</td>\n      <td>model i love you take with you all the time in ur</td>\n    </tr>\n    <tr>\n      <th>4</th>\n      <td>5</td>\n      <td>0</td>\n      <td>factsguide: society now    #motivation</td>\n      <td>factsguide: society now    #motivation</td>\n      <td>factsguide society now motivation</td>\n    </tr>\n  </tbody>\n</table>\n</div>"
     },
     "metadata": {}
    }
   ],
   "execution_count": null
  },
  {
   "cell_type": "code",
   "metadata": {
    "tags": [],
    "cell_id": "00009-f7c8cd25-da75-48e6-a5ad-6c05a163b5f9",
    "deepnote_to_be_reexecuted": false,
    "source_hash": "70aa27fd",
    "execution_start": 1635690383007,
    "execution_millis": 185,
    "deepnote_cell_type": "code"
   },
   "source": "tokenized_tweet = training['clean_tweet'].apply(lambda x: x.split())\ntokenized_tweet.head()",
   "outputs": [
    {
     "output_type": "execute_result",
     "execution_count": 10,
     "data": {
      "text/plain": "0    [when, a, father, is, dysfunctional, and, is, ...\n1    [thanks, for, lyft, credit, i, cannot, use, ca...\n2                              [bihday, your, majesty]\n3    [model, i, love, you, take, with, you, all, th...\n4               [factsguide, society, now, motivation]\nName: clean_tweet, dtype: object"
     },
     "metadata": {}
    }
   ],
   "execution_count": null
  },
  {
   "cell_type": "code",
   "metadata": {
    "tags": [],
    "cell_id": "00010-530da9ab-5d79-474d-9336-9c029f97e3bc",
    "deepnote_to_be_reexecuted": false,
    "source_hash": "55df18f0",
    "execution_start": 1635690383203,
    "execution_millis": 4245,
    "deepnote_cell_type": "code"
   },
   "source": "import nltk \nfrom nltk.corpus import stopwords\nfrom nltk.tokenize import word_tokenize\n\nnltk.download('stopwords')\nnltk.download('punkt')\nstop_words = list(stopwords.words('english'))\n\n#words_token = tokenized_tweet.apply(word_tokenize)\n\ntraining['stopwords_tweets'] = tokenized_tweet.apply(lambda x: ' '.join([word for word in x if word not in (stop_words)]))",
   "outputs": [
    {
     "name": "stderr",
     "text": "[nltk_data] Downloading package stopwords to /root/nltk_data...\n[nltk_data]   Unzipping corpora/stopwords.zip.\n[nltk_data] Downloading package punkt to /root/nltk_data...\n[nltk_data]   Unzipping tokenizers/punkt.zip.\n",
     "output_type": "stream"
    }
   ],
   "execution_count": null
  },
  {
   "cell_type": "code",
   "metadata": {
    "tags": [],
    "cell_id": "00011-d819deea-f5e9-4cbf-81d9-52684087eb54",
    "deepnote_to_be_reexecuted": false,
    "source_hash": "d89c8c56",
    "execution_start": 1635690387476,
    "execution_millis": 10613,
    "deepnote_cell_type": "code"
   },
   "source": "!pip install emoji",
   "outputs": [
    {
     "name": "stdout",
     "text": "Collecting emoji\n  Downloading emoji-1.6.1.tar.gz (170 kB)\n\u001b[K     |████████████████████████████████| 170 kB 7.1 MB/s \n\u001b[?25hBuilding wheels for collected packages: emoji\n  Building wheel for emoji (setup.py) ... \u001b[?25ldone\n\u001b[?25h  Created wheel for emoji: filename=emoji-1.6.1-py3-none-any.whl size=169314 sha256=7f8710f47bb148e8004a6cc1d8eee7f58b8048b878d7debc9ec725479ffba45a\n  Stored in directory: /root/.cache/pip/wheels/ea/5f/d3/03d313ddb3c2a1a427bb4690f1621eea60fe6f2a30cc95940f\nSuccessfully built emoji\nInstalling collected packages: emoji\nSuccessfully installed emoji-1.6.1\n\u001b[33mWARNING: You are using pip version 21.2.4; however, version 21.3.1 is available.\nYou should consider upgrading via the '/root/venv/bin/python -m pip install --upgrade pip' command.\u001b[0m\n",
     "output_type": "stream"
    }
   ],
   "execution_count": null
  },
  {
   "cell_type": "code",
   "metadata": {
    "tags": [],
    "cell_id": "00011-2c90d563-f366-4e07-9ba5-ec40039ad971",
    "deepnote_to_be_reexecuted": false,
    "source_hash": "190e0538",
    "execution_start": 1635690398104,
    "execution_millis": 22350,
    "deepnote_cell_type": "code"
   },
   "source": "import emoji\ntokenized_tweet = training['stopwords_tweets'].apply(lambda x: x.split())\n\n# emoji.demojize(text, delimiters=(\"\", \"\")).replace(\"_\", \" \") # remove replace so that sentiment will be tagged to whole emoji\n# apply to training\n\ntraining['plaintext_tweet']= tokenized_tweet.apply(lambda x: ' '.join([emoji.demojize(w, delimiters=(\"\", \"\")) for w in x]))\n\ntraining['plaintext_tweet']",
   "outputs": [
    {
     "output_type": "execute_result",
     "execution_count": 13,
     "data": {
      "text/plain": "0        father dysfunctional selfish drags kids dysfun...\n1        thanks lyft credit cannot use cause offer whee...\n2                                           bihday majesty\n3                                  model love take time ur\n4                            factsguide society motivation\n                               ...                        \n31957                                        ate isz youuu\n31958    see nina turner airwaves trying wrap mantle ge...\n31959      listening sad songs monday morning way work sad\n31960      sikh temple vandalised calgary wso condemns act\n31961                                         thank follow\nName: plaintext_tweet, Length: 31962, dtype: object"
     },
     "metadata": {}
    }
   ],
   "execution_count": null
  },
  {
   "cell_type": "code",
   "metadata": {
    "tags": [],
    "cell_id": "00012-6155cf71-031d-4b16-a1dc-56caabb4580b",
    "deepnote_to_be_reexecuted": false,
    "source_hash": "39d243a7",
    "execution_start": 1635690420465,
    "execution_millis": 881,
    "deepnote_cell_type": "code"
   },
   "source": "import nltk\nnltk.download('wordnet')\nfrom nltk.stem import WordNetLemmatizer",
   "outputs": [
    {
     "name": "stderr",
     "text": "[nltk_data] Downloading package wordnet to /root/nltk_data...\n[nltk_data]   Unzipping corpora/wordnet.zip.\n",
     "output_type": "stream"
    }
   ],
   "execution_count": null
  },
  {
   "cell_type": "code",
   "metadata": {
    "tags": [],
    "cell_id": "00013-41754bb9-85dc-4869-8ee3-62814a92a301",
    "deepnote_to_be_reexecuted": false,
    "source_hash": "faeda095",
    "execution_start": 1635690421358,
    "execution_millis": 6504,
    "deepnote_cell_type": "code"
   },
   "source": "#method 1 \nw_tokenizer = nltk.tokenize.WhitespaceTokenizer()\nlemmatizer = nltk.stem.WordNetLemmatizer()\n\ndef lemmatize_text(text):\n    return \" \".join([lemmatizer.lemmatize(w,pos=\"v\") for w in w_tokenizer.tokenize(text)])\n\n#df = pd.DataFrame(['this was cheesy', 'she likes these books', 'wow this is great'], columns=['text'])\ntraining['final_tweet'] = training[\"plaintext_tweet\"].apply(lemmatize_text)",
   "outputs": [],
   "execution_count": null
  },
  {
   "cell_type": "code",
   "metadata": {
    "tags": [],
    "cell_id": "00014-e71bf997-2b28-42bd-bcd7-c27715998701",
    "deepnote_to_be_reexecuted": false,
    "source_hash": "d6a03dd2",
    "execution_start": 1635690427862,
    "execution_millis": 35,
    "deepnote_cell_type": "code"
   },
   "source": "training = training.drop_duplicates(subset=['final_tweet'])\n",
   "outputs": [],
   "execution_count": null
  },
  {
   "cell_type": "code",
   "metadata": {
    "tags": [],
    "cell_id": "00015-f46daecb-d0d5-490a-9216-527f1c6e3324",
    "deepnote_to_be_reexecuted": false,
    "source_hash": "8b3d9cbf",
    "execution_start": 1635690427906,
    "execution_millis": 8,
    "deepnote_cell_type": "code"
   },
   "source": "# transferring useful columns into new df\nprocessed = training[['label', 'final_tweet']].copy()",
   "outputs": [],
   "execution_count": null
  },
  {
   "cell_type": "code",
   "metadata": {
    "tags": [],
    "cell_id": "00017-833ffa36-4cee-473c-902c-0404fd85c2cf",
    "deepnote_to_be_reexecuted": false,
    "source_hash": "29379e63",
    "execution_start": 1635690427918,
    "execution_millis": 135,
    "deepnote_cell_type": "code"
   },
   "source": "processed.to_csv('processed.csv', index=False)",
   "outputs": [],
   "execution_count": null
  },
  {
   "cell_type": "code",
   "metadata": {
    "tags": [],
    "cell_id": "00016-6f4fd714-b8e2-436c-98ce-aa19aa538bc6",
    "deepnote_to_be_reexecuted": false,
    "source_hash": "4e3ebeda",
    "execution_start": 1635690428060,
    "execution_millis": 182,
    "deepnote_cell_type": "code"
   },
   "source": "# using full dataset\nfrom sklearn.model_selection import train_test_split\n\nX_train_normal, X_test_normal, Y_train_normal, Y_test_normal = train_test_split(processed['final_tweet'],processed['label'],shuffle=True, test_size=0.2, random_state=15)\n\nprint(\"Value counts for Train sentiments\")\nprint(Y_train_normal.value_counts())\nprint(\"Value counts for Test sentiments\")\nprint(Y_test_normal.value_counts())\nprint(type(X_train_normal))\nprint(type(Y_train_normal))\nX_train_normal = X_train_normal.reset_index()\nX_test_normal = X_test_normal.reset_index()\nY_train_normal = Y_train_normal.to_frame()\nY_train_normal = Y_train_normal.reset_index()\nY_test_normal = Y_test_normal.to_frame()\nY_test_normal = Y_test_normal.reset_index()\nprint(X_train_normal.head())\n# need to see which one better",
   "outputs": [
    {
     "name": "stdout",
     "text": "Value counts for Train sentiments\n0    21089\n1     1449\nName: label, dtype: int64\nValue counts for Test sentiments\n0    5251\n1     384\nName: label, dtype: int64\n<class 'pandas.core.series.Series'>\n<class 'pandas.core.series.Series'>\n   index                                        final_tweet\n0  21207          guess friday barnight tipsy smilesfordays\n1   1969     like learn super linear gameplay go open world\n2  26026              sometimes okay selfesteem lovethyself\n3  19539        pocohontas hope pick vp happen lie heritage\n4  28853  like extra hotchick die uglychick die like pro...\n",
     "output_type": "stream"
    }
   ],
   "execution_count": null
  },
  {
   "cell_type": "code",
   "metadata": {
    "tags": [],
    "cell_id": "00018-2d933719-59a9-405d-9033-536b6c749bbb",
    "deepnote_to_be_reexecuted": false,
    "source_hash": "c6f16381",
    "execution_start": 1635690428110,
    "execution_millis": 6467,
    "deepnote_cell_type": "code"
   },
   "source": "!pip install nlpaug",
   "outputs": [
    {
     "name": "stdout",
     "text": "Collecting nlpaug\n  Downloading nlpaug-1.1.8-py3-none-any.whl (409 kB)\n\u001b[K     |████████████████████████████████| 409 kB 5.1 MB/s \n\u001b[?25hRequirement already satisfied: requests>=2.22.0 in /shared-libs/python3.7/py/lib/python3.7/site-packages (from nlpaug) (2.26.0)\nRequirement already satisfied: numpy>=1.16.2 in /shared-libs/python3.7/py/lib/python3.7/site-packages (from nlpaug) (1.19.5)\nRequirement already satisfied: pandas>=1.2.0 in /shared-libs/python3.7/py/lib/python3.7/site-packages (from nlpaug) (1.2.5)\nRequirement already satisfied: pytz>=2017.3 in /shared-libs/python3.7/py/lib/python3.7/site-packages (from pandas>=1.2.0->nlpaug) (2021.3)\nRequirement already satisfied: python-dateutil>=2.7.3 in /shared-libs/python3.7/py-core/lib/python3.7/site-packages (from pandas>=1.2.0->nlpaug) (2.8.2)\nRequirement already satisfied: six>=1.5 in /shared-libs/python3.7/py-core/lib/python3.7/site-packages (from python-dateutil>=2.7.3->pandas>=1.2.0->nlpaug) (1.16.0)\nRequirement already satisfied: charset-normalizer~=2.0.0 in /shared-libs/python3.7/py/lib/python3.7/site-packages (from requests>=2.22.0->nlpaug) (2.0.7)\nRequirement already satisfied: urllib3<1.27,>=1.21.1 in /shared-libs/python3.7/py/lib/python3.7/site-packages (from requests>=2.22.0->nlpaug) (1.26.7)\nRequirement already satisfied: idna<4,>=2.5 in /shared-libs/python3.7/py-core/lib/python3.7/site-packages (from requests>=2.22.0->nlpaug) (3.3)\nRequirement already satisfied: certifi>=2017.4.17 in /shared-libs/python3.7/py/lib/python3.7/site-packages (from requests>=2.22.0->nlpaug) (2021.10.8)\nInstalling collected packages: nlpaug\nSuccessfully installed nlpaug-1.1.8\n\u001b[33mWARNING: You are using pip version 21.2.4; however, version 21.3.1 is available.\nYou should consider upgrading via the '/root/venv/bin/python -m pip install --upgrade pip' command.\u001b[0m\n",
     "output_type": "stream"
    }
   ],
   "execution_count": null
  },
  {
   "cell_type": "code",
   "metadata": {
    "tags": [],
    "cell_id": "00016-7542ebfd-eef0-46fa-82f7-0e9e74dd067b",
    "deepnote_to_be_reexecuted": false,
    "source_hash": "8b9bb9a3",
    "execution_start": 1635690434619,
    "execution_millis": 2916,
    "deepnote_cell_type": "code"
   },
   "source": "import nlpaug.augmenter.word as naw\naug = naw.SynonymAug(aug_src='wordnet',aug_max=4)\n# aug.augment(\"This is the greatest burnt cheesecake I have ever eaten! The cow jumps over the moon\", n=5)",
   "outputs": [],
   "execution_count": null
  },
  {
   "cell_type": "code",
   "metadata": {
    "tags": [],
    "cell_id": "00017-9d069684-62ea-4a7c-8455-e118b5efbb42",
    "deepnote_to_be_reexecuted": false,
    "source_hash": "cb24f555",
    "execution_start": 1635690437541,
    "execution_millis": 27,
    "deepnote_cell_type": "code"
   },
   "source": "X_train_normal = X_train_normal.drop(['index'],axis=1)",
   "outputs": [],
   "execution_count": null
  },
  {
   "cell_type": "code",
   "metadata": {
    "tags": [],
    "cell_id": "00019-2afb1c12-aae9-4157-8194-dc0ad0360707",
    "deepnote_to_be_reexecuted": false,
    "source_hash": "ebba08c",
    "execution_start": 1635690437568,
    "execution_millis": 139,
    "deepnote_cell_type": "code"
   },
   "source": "import nltk\nnltk.download('averaged_perceptron_tagger')",
   "outputs": [
    {
     "name": "stderr",
     "text": "[nltk_data] Downloading package averaged_perceptron_tagger to\n[nltk_data]     /root/nltk_data...\n[nltk_data]   Unzipping taggers/averaged_perceptron_tagger.zip.\n",
     "output_type": "stream"
    },
    {
     "output_type": "execute_result",
     "execution_count": 23,
     "data": {
      "text/plain": "True"
     },
     "metadata": {}
    }
   ],
   "execution_count": null
  },
  {
   "cell_type": "code",
   "metadata": {
    "tags": [],
    "cell_id": "00019-97b2694b-7c6e-4b9c-a7c0-06ea4a13c9f7",
    "deepnote_to_be_reexecuted": false,
    "source_hash": "447e891c",
    "execution_start": 1635690437716,
    "execution_millis": 39260,
    "deepnote_cell_type": "code"
   },
   "source": "from random import shuffle\n\naugmented_sentences=[]\n# augmented_sentences_labels=[]\nfor i in X_train_normal.index:\n  if Y_train_normal['label'].iloc[i]==1:\n    temps=aug.augment(X_train_normal['final_tweet'].iloc[i],n=14)\n    for sent in temps:\n      augmented_sentences.append(sent)\n      # augmented_sentences_labels.append(0)\n\n# aug_output_X_train_normal = pd.DataFrame({'final_tweet': augmented_sentences, 'label': 0})\naug_output_X_train_normal = pd.DataFrame({'final_tweet': augmented_sentences})\n# X_train_normal = shuffle(X_train_normal.append(aug_output_X_train_normal).reset_index(drop=True))\n#aug_output_X_train_normal.head(15)",
   "outputs": [],
   "execution_count": null
  },
  {
   "cell_type": "code",
   "metadata": {
    "tags": [],
    "cell_id": "00020-a65469a6-cadf-48af-b4e8-9e2a69d3a228",
    "deepnote_to_be_reexecuted": false,
    "source_hash": "108cd179",
    "execution_start": 1635690476983,
    "execution_millis": 124,
    "deepnote_cell_type": "code"
   },
   "source": "aug_output_X_train_normal",
   "outputs": [
    {
     "output_type": "execute_result",
     "execution_count": 25,
     "data": {
      "application/vnd.deepnote.dataframe.v2+json": {
       "row_count": 20286,
       "column_count": 1,
       "columns": [
        {
         "name": "final_tweet",
         "dtype": "object",
         "stats": {
          "unique_count": 15476,
          "nan_count": 0,
          "categories": [
           {
            "name": "come powerhungrytraitors hereticfoundation",
            "count": 14
           },
           {
            "name": "feminismiscancer feminismisterrorism feminismmuktbharat malevote ignore",
            "count": 14
           },
           {
            "name": "15474 others",
            "count": 20258
           }
          ]
         }
        },
        {
         "name": "_deepnote_index_column",
         "dtype": "int64"
        }
       ],
       "rows_top": [
        {
         "final_tweet": "obviously tcot get amp inaspanof maybe allof two second board think know",
         "_deepnote_index_column": 0
        },
        {
         "final_tweet": "obviously tcot get amp inaspanof maybe allof two second board recall bang",
         "_deepnote_index_column": 1
        },
        {
         "final_tweet": "obviously tcot get amp inaspanof peradventure allof two second board think know",
         "_deepnote_index_column": 2
        },
        {
         "final_tweet": "obviously tcot get amp inaspanof maybe allof deuce 2d board think know",
         "_deepnote_index_column": 3
        },
        {
         "final_tweet": "obviously tcot get amp inaspanof possibly allof two second board remember know",
         "_deepnote_index_column": 4
        },
        {
         "final_tweet": "obviously tcot get amp inaspanof maybe allof two 2nd board think know",
         "_deepnote_index_column": 5
        },
        {
         "final_tweet": "obviously tcot get amp inaspanof maybe allof two 2d board opine know",
         "_deepnote_index_column": 6
        },
        {
         "final_tweet": "obviously tcot get amp inaspanof possibly allof two second panel think make love",
         "_deepnote_index_column": 7
        },
        {
         "final_tweet": "plainly tcot get amp inaspanof maybe allof 2 2nd board think know",
         "_deepnote_index_column": 8
        },
        {
         "final_tweet": "obviously tcot get amp inaspanof peradventure allof 2 second board think know",
         "_deepnote_index_column": 9
        },
        {
         "final_tweet": "evidently tcot get amp inaspanof maybe allof two second board think know",
         "_deepnote_index_column": 10
        },
        {
         "final_tweet": "obviously tcot get amp inaspanof maybe allof two second board think eff",
         "_deepnote_index_column": 11
        },
        {
         "final_tweet": "obviously tcot get amp inaspanof maybe allof deuce 2d board think know",
         "_deepnote_index_column": 12
        },
        {
         "final_tweet": "patently tcot get amp inaspanof maybe allof two second panel think know",
         "_deepnote_index_column": 13
        },
        {
         "final_tweet": "burbank california cou reject city appeal favoritism case armenian officer usa",
         "_deepnote_index_column": 14
        },
        {
         "final_tweet": "burbank ca cou reject city appeal discrimination case armenian officer usa",
         "_deepnote_index_column": 15
        },
        {
         "final_tweet": "burbank california cou reject city solicitation favoritism suit armenian policeman usa",
         "_deepnote_index_column": 16
        },
        {
         "final_tweet": "burbank california cou reject city appeal favoritism cause armenian policeman us",
         "_deepnote_index_column": 17
        },
        {
         "final_tweet": "burbank calif. cou reject city solicitation discrimination case armenian policeman usa",
         "_deepnote_index_column": 18
        },
        {
         "final_tweet": "burbank golden state cou reject city appeal favouritism case armenian policeman usa",
         "_deepnote_index_column": 19
        },
        {
         "final_tweet": "luther burbank ca cou reject city appeal favoritism case armenian policeman usa",
         "_deepnote_index_column": 20
        },
        {
         "final_tweet": "burbank california cou pass up city prayer discrimination causa armenian policeman usa",
         "_deepnote_index_column": 21
        },
        {
         "final_tweet": "burbank california cou reject urban center appeal discrimination case armenian policeman usa",
         "_deepnote_index_column": 22
        },
        {
         "final_tweet": "luther burbank golden state cou reject city appealingness discrimination case armenian policeman usa",
         "_deepnote_index_column": 23
        },
        {
         "final_tweet": "burbank ca cou reject city appeal favoritism case armenian officer usa",
         "_deepnote_index_column": 24
        },
        {
         "final_tweet": "burbank ca cou reject city appeal secernment casing armenian policeman usa",
         "_deepnote_index_column": 25
        },
        {
         "final_tweet": "burbank california cou reject city appeal favoritism case armenian police officer usa",
         "_deepnote_index_column": 26
        },
        {
         "final_tweet": "luther burbank ca cou pass up city appeal discrimination case armenian policeman usa",
         "_deepnote_index_column": 27
        },
        {
         "final_tweet": "never content sit back watch others the right way trample upon right could next iqg",
         "_deepnote_index_column": 28
        },
        {
         "final_tweet": "never content sit back watch others right tread upon right could next iqg",
         "_deepnote_index_column": 29
        },
        {
         "final_tweet": "never content sit back ticker others right trample upon right could next iqg",
         "_deepnote_index_column": 30
        },
        {
         "final_tweet": "never content sit back watch others decent trample upon right could next iqg",
         "_deepnote_index_column": 31
        },
        {
         "final_tweet": "ne'er content sit back watch others right trample upon right could next iqg",
         "_deepnote_index_column": 32
        },
        {
         "final_tweet": "never content sit back watch others right tread down upon right could next iqg",
         "_deepnote_index_column": 33
        },
        {
         "final_tweet": "ne'er content sit rearward watch others right trample upon right could next iqg",
         "_deepnote_index_column": 34
        },
        {
         "final_tweet": "never content sit backward watch others right trample upon right could next iqg",
         "_deepnote_index_column": 35
        },
        {
         "final_tweet": "never content sit back watch others right tread down upon right could next iqg",
         "_deepnote_index_column": 36
        },
        {
         "final_tweet": "never content sit back watch others right trample upon right wing could next iqg",
         "_deepnote_index_column": 37
        },
        {
         "final_tweet": "never mental object sit back vigil others in good order trample upon right could next iqg",
         "_deepnote_index_column": 38
        },
        {
         "final_tweet": "never content sit back watch others justly trample upon right could next iqg",
         "_deepnote_index_column": 39
        },
        {
         "final_tweet": "never substance sit back watch others right trample upon right could next iqg",
         "_deepnote_index_column": 40
        },
        {
         "final_tweet": "never subject sit back spotter others right trample upon right could next iqg",
         "_deepnote_index_column": 41
        },
        {
         "final_tweet": "message hate god love hoi polloi color hate adenylic acid preach hatred",
         "_deepnote_index_column": 42
        },
        {
         "final_tweet": "message hate god have it away people discolor hatred amp preach hate",
         "_deepnote_index_column": 43
        },
        {
         "final_tweet": "message hate immortal bonk multitude color hate amp preach hate",
         "_deepnote_index_column": 44
        },
        {
         "final_tweet": "message hatred god love hoi polloi color hate amp preach hatred",
         "_deepnote_index_column": 45
        },
        {
         "final_tweet": "message hate god love people distort hate ampere advocate hate",
         "_deepnote_index_column": 46
        },
        {
         "final_tweet": "message hate god get laid people colour in hate adenosine monophosphate preach hate",
         "_deepnote_index_column": 47
        },
        {
         "final_tweet": "message hate god screw people color hate ampere prophesy hate",
         "_deepnote_index_column": 48
        },
        {
         "final_tweet": "message hate god love hoi polloi color in hate amp preach hatred",
         "_deepnote_index_column": 49
        },
        {
         "final_tweet": "substance hatred divinity love people color hate amp preach hate",
         "_deepnote_index_column": 50
        },
        {
         "final_tweet": "message hate god love citizenry discolor hate amp advocate hate",
         "_deepnote_index_column": 51
        },
        {
         "final_tweet": "message hatred god love multitude color hate adenylic acid preach hate",
         "_deepnote_index_column": 52
        },
        {
         "final_tweet": "subject matter hate deity roll in the hay people color hate amp preach hate",
         "_deepnote_index_column": 53
        },
        {
         "final_tweet": "content hatred god love people color hatred amp preach hate",
         "_deepnote_index_column": 54
        },
        {
         "final_tweet": "message hate god make out people color hate adenylic acid preach hatred",
         "_deepnote_index_column": 55
        },
        {
         "final_tweet": "mound attempt whitegenocide lie tinfoilhat fakenews altrightcards",
         "_deepnote_index_column": 56
        },
        {
         "final_tweet": "sack effort whitegenocide lie tinfoilhat fakenews altrightcards",
         "_deepnote_index_column": 57
        },
        {
         "final_tweet": "hammock attack whitegenocide lie tinfoilhat fakenews altrightcards",
         "_deepnote_index_column": 58
        },
        {
         "final_tweet": "knoll try whitegenocide lie tinfoilhat fakenews altrightcards",
         "_deepnote_index_column": 59
        },
        {
         "final_tweet": "hummock attempt whitegenocide lie tinfoilhat fakenews altrightcards",
         "_deepnote_index_column": 60
        },
        {
         "final_tweet": "hummock attempt whitegenocide lie tinfoilhat fakenews altrightcards",
         "_deepnote_index_column": 61
        },
        {
         "final_tweet": "hammock attempt whitegenocide trygve lie tinfoilhat fakenews altrightcards",
         "_deepnote_index_column": 62
        },
        {
         "final_tweet": "sack attempt whitegenocide lie tinfoilhat fakenews altrightcards",
         "_deepnote_index_column": 63
        },
        {
         "final_tweet": "sack endeavor whitegenocide lie tinfoilhat fakenews altrightcards",
         "_deepnote_index_column": 64
        },
        {
         "final_tweet": "hammock effort whitegenocide trygve lie tinfoilhat fakenews altrightcards",
         "_deepnote_index_column": 65
        },
        {
         "final_tweet": "hillock attempt whitegenocide lie tinfoilhat fakenews altrightcards",
         "_deepnote_index_column": 66
        },
        {
         "final_tweet": "hammock attempt whitegenocide lie tinfoilhat fakenews altrightcards",
         "_deepnote_index_column": 67
        },
        {
         "final_tweet": "hammock endeavour whitegenocide lie tinfoilhat fakenews altrightcards",
         "_deepnote_index_column": 68
        },
        {
         "final_tweet": "hammock attack whitegenocide lie tinfoilhat fakenews altrightcards",
         "_deepnote_index_column": 69
        },
        {
         "final_tweet": "haha wow use n word ampere equivalent arabic abd mean slave",
         "_deepnote_index_column": 70
        },
        {
         "final_tweet": "haha wow use n word amp equivalent arabic abd mean value knuckle down",
         "_deepnote_index_column": 71
        },
        {
         "final_tweet": "haha wow use n news amp equivalent arabic abd mean slave",
         "_deepnote_index_column": 72
        },
        {
         "final_tweet": "haha sidesplitter use n word amp equivalent arabic abd mean buckle down",
         "_deepnote_index_column": 73
        },
        {
         "final_tweet": "haha wow use n word amp equivalent arabic abd mean value slave",
         "_deepnote_index_column": 74
        },
        {
         "final_tweet": "haha wow purpose n word of god adenylic acid equivalent arabic abd mean slave",
         "_deepnote_index_column": 75
        },
        {
         "final_tweet": "haha wow use n word amp tantamount arabic abd mean slave",
         "_deepnote_index_column": 76
        },
        {
         "final_tweet": "haha sidesplitter use n word adenosine monophosphate tantamount arabic abd mean slave",
         "_deepnote_index_column": 77
        },
        {
         "final_tweet": "haha wow utilisation n word amp equivalent arabic abd mean buckle down",
         "_deepnote_index_column": 78
        },
        {
         "final_tweet": "haha wow use n tidings amp equivalent arabic abd mean value buckle down",
         "_deepnote_index_column": 79
        },
        {
         "final_tweet": "haha wow purpose n bible adenylic acid equivalent arabic abd mean slave",
         "_deepnote_index_column": 80
        },
        {
         "final_tweet": "haha thigh slapper use n word amp equivalent arabic abd mean value slave",
         "_deepnote_index_column": 81
        },
        {
         "final_tweet": "haha wow use n word adenosine monophosphate equivalent arabic abd mean value break one's back",
         "_deepnote_index_column": 82
        },
        {
         "final_tweet": "haha riot use n word amp equivalent arabic abd mean value buckle down",
         "_deepnote_index_column": 83
        },
        {
         "final_tweet": "give bloodless nationalist trolling platform spread hate read corrupt boo",
         "_deepnote_index_column": 84
        },
        {
         "final_tweet": "give livid patriot troll weapons platform spread hate read buy boo",
         "_deepnote_index_column": 85
        },
        {
         "final_tweet": "give white nationalist troll platform cattle farm hatred show buy boo",
         "_deepnote_index_column": 86
        },
        {
         "final_tweet": "give livid nationalist troll platform spreading hate take buy boo",
         "_deepnote_index_column": 87
        },
        {
         "final_tweet": "give clean nationalist troll weapons platform spread hate register buy boo",
         "_deepnote_index_column": 88
        },
        {
         "final_tweet": "give clean patriot troll platform counterpane hate read buy boo",
         "_deepnote_index_column": 89
        },
        {
         "final_tweet": "throw white nationalist troll program spread hate read buy hoot",
         "_deepnote_index_column": 90
        },
        {
         "final_tweet": "leave white patriot troll platform bedspread hate read buy boo",
         "_deepnote_index_column": 91
        },
        {
         "final_tweet": "give blanched nationalist troll chopine spread hate read buy razzing",
         "_deepnote_index_column": 92
        },
        {
         "final_tweet": "give white nationalist troll program spread hate read grease one's palms bronx cheer",
         "_deepnote_index_column": 93
        },
        {
         "final_tweet": "give livid patriot troll platform spread hate read purchase boo",
         "_deepnote_index_column": 94
        },
        {
         "final_tweet": "give white hot nationalist trolling platform banquet hate read buy boo",
         "_deepnote_index_column": 95
        },
        {
         "final_tweet": "give white nationalist trolling political program spread hate read purchase boo",
         "_deepnote_index_column": 96
        },
        {
         "final_tweet": "devote white nationalist troll program spread hate record buy boo",
         "_deepnote_index_column": 97
        },
        {
         "final_tweet": "hows stuff like still happen c point polite right movement people",
         "_deepnote_index_column": 98
        },
        {
         "final_tweet": "hows stuff like nevertheless happen century point polite right movement people",
         "_deepnote_index_column": 99
        },
        {
         "final_tweet": "hows stuff like still happen century spot civil right movement the great unwashed",
         "_deepnote_index_column": 100
        },
        {
         "final_tweet": "hows stuff like still happen century stop civic veracious movement people",
         "_deepnote_index_column": 101
        },
        {
         "final_tweet": "hows stuff like still happen century point civil right apparent motion mass",
         "_deepnote_index_column": 102
        },
        {
         "final_tweet": "hows stuff like still happen century point polite good movement hoi polloi",
         "_deepnote_index_column": 103
        },
        {
         "final_tweet": "hows stuff same still happen century tip civil right movement citizenry",
         "_deepnote_index_column": 104
        },
        {
         "final_tweet": "hows stuff similar still happen century level polite right movement people",
         "_deepnote_index_column": 105
        },
        {
         "final_tweet": "hows pig out comparable still happen century point civil right movement people",
         "_deepnote_index_column": 106
        },
        {
         "final_tweet": "hows stuff similar still happen century point civic right movement citizenry",
         "_deepnote_index_column": 107
        },
        {
         "final_tweet": "hows binge like still happen one c point civil right movement people",
         "_deepnote_index_column": 108
        },
        {
         "final_tweet": "hows gourmandize like still happen hundred point civil right movement people",
         "_deepnote_index_column": 109
        },
        {
         "final_tweet": "hows gormandize like still happen century peak civic right movement people",
         "_deepnote_index_column": 110
        },
        {
         "final_tweet": "hows stuff like yet happen century item civil right movement hoi polloi",
         "_deepnote_index_column": 111
        },
        {
         "final_tweet": "mock obama mordant brexit",
         "_deepnote_index_column": 112
        },
        {
         "final_tweet": "mock obama bleak brexit",
         "_deepnote_index_column": 113
        },
        {
         "final_tweet": "mock obama black brexit",
         "_deepnote_index_column": 114
        },
        {
         "final_tweet": "mock obama shameful brexit",
         "_deepnote_index_column": 115
        },
        {
         "final_tweet": "mock obama black brexit",
         "_deepnote_index_column": 116
        },
        {
         "final_tweet": "mock obama black brexit",
         "_deepnote_index_column": 117
        },
        {
         "final_tweet": "mock obama black brexit",
         "_deepnote_index_column": 118
        },
        {
         "final_tweet": "mock obama black brexit",
         "_deepnote_index_column": 119
        },
        {
         "final_tweet": "mock obama black brexit",
         "_deepnote_index_column": 120
        },
        {
         "final_tweet": "mock obama black brexit",
         "_deepnote_index_column": 121
        },
        {
         "final_tweet": "mock obama pitch dark brexit",
         "_deepnote_index_column": 122
        },
        {
         "final_tweet": "mock obama black brexit",
         "_deepnote_index_column": 123
        },
        {
         "final_tweet": "mock obama black brexit",
         "_deepnote_index_column": 124
        },
        {
         "final_tweet": "mock obama disgraceful brexit",
         "_deepnote_index_column": 125
        },
        {
         "final_tweet": "sunbury pennsylvania fliers post outside mosque moslem america",
         "_deepnote_index_column": 126
        },
        {
         "final_tweet": "sunbury pennsylvania broadside post outside mosque moslem usa",
         "_deepnote_index_column": 127
        },
        {
         "final_tweet": "sunbury penn fliers post international mosque muslim usa",
         "_deepnote_index_column": 128
        },
        {
         "final_tweet": "sunbury pennsylvania fliers post outside mosque muslim united states",
         "_deepnote_index_column": 129
        },
        {
         "final_tweet": "sunbury pennsylvania fliers post outside mosque muslim united states army",
         "_deepnote_index_column": 130
        },
        {
         "final_tweet": "sunbury pennsylvania fliers post outside mosque moslem usa",
         "_deepnote_index_column": 131
        },
        {
         "final_tweet": "sunbury pennsylvania fliers post outside mosque muslim usa",
         "_deepnote_index_column": 132
        },
        {
         "final_tweet": "sunbury pennsylvania fliers brand away mosque muslim usa",
         "_deepnote_index_column": 133
        },
        {
         "final_tweet": "sunbury pennsylvania flyer post outside mosque muslim usa",
         "_deepnote_index_column": 134
        },
        {
         "final_tweet": "sunbury pennsylvania broadsheet post external mosque muslim usa",
         "_deepnote_index_column": 135
        },
        {
         "final_tweet": "sunbury keystone state fliers post outside mosque moslem usa",
         "_deepnote_index_column": 136
        },
        {
         "final_tweet": "sunbury pennsylvania circular post outside mosque muslim usa",
         "_deepnote_index_column": 137
        },
        {
         "final_tweet": "sunbury pennsylvania fliers place out of door mosque muslim usa",
         "_deepnote_index_column": 138
        },
        {
         "final_tweet": "sunbury pennsylvania fliers post outside mosque moslem us army",
         "_deepnote_index_column": 139
        },
        {
         "final_tweet": "racial differences r biological realism rottweilers vs chihuahuas iq gt understand",
         "_deepnote_index_column": 140
        },
        {
         "final_tweet": "racial differences r biological world rottweiler vs chihuahuas iq gt understand",
         "_deepnote_index_column": 141
        },
        {
         "final_tweet": "racial differences r biological reality rottweilers vs chihuahuas intelligence quotient gt understa…",
         "_deepnote_index_column": 142
        },
        {
         "final_tweet": "racial departure r biological reality rottweilers vs chihuahuas iq gt understand",
         "_deepnote_index_column": 143
        },
        {
         "final_tweet": "racial differences r biological reality rottweilers vs chihuahuas iq gt understand",
         "_deepnote_index_column": 144
        },
        {
         "final_tweet": "racial difference r biological reality rottweiler vs chihuahuas iq gt understand",
         "_deepnote_index_column": 145
        },
        {
         "final_tweet": "racial differences r biological world rottweilers vs chihuahuas iq gt understand",
         "_deepnote_index_column": 146
        },
        {
         "final_tweet": "racial differences r biological world rottweilers vs chihuahuas intelligence quotient gt understand",
         "_deepnote_index_column": 147
        },
        {
         "final_tweet": "racial differences r biological reality rottweilers vs chihuahuas i.q. gt understand",
         "_deepnote_index_column": 148
        },
        {
         "final_tweet": "racial differences r biologic realness rottweilers vs chihuahuas iq gt understand",
         "_deepnote_index_column": 149
        },
        {
         "final_tweet": "racial differences r biological realism rottweilers vs chihuahuas iq gt understand",
         "_deepnote_index_column": 150
        },
        {
         "final_tweet": "racial differences r biological realness rottweilers vs chihuahuas iq gt understand",
         "_deepnote_index_column": 151
        },
        {
         "final_tweet": "racial divergence r biological world rottweiler vs chihuahuas iq gt understand",
         "_deepnote_index_column": 152
        },
        {
         "final_tweet": "racial differences r biological reality rottweilers vs chihuahuas iq gt understand",
         "_deepnote_index_column": 153
        },
        {
         "final_tweet": "lock logic gate pamgelleheracist mmiw mmiwg",
         "_deepnote_index_column": 154
        },
        {
         "final_tweet": "lock gate pamgelleheracist mmiw mmiwg",
         "_deepnote_index_column": 155
        },
        {
         "final_tweet": "lock gate pamgelleheracist mmiw mmiwg",
         "_deepnote_index_column": 156
        },
        {
         "final_tweet": "lock gate pamgelleheracist mmiw mmiwg",
         "_deepnote_index_column": 157
        },
        {
         "final_tweet": "lock gate pamgelleheracist mmiw mmiwg",
         "_deepnote_index_column": 158
        },
        {
         "final_tweet": "lock gate pamgelleheracist mmiw mmiwg",
         "_deepnote_index_column": 159
        },
        {
         "final_tweet": "lock gate pamgelleheracist mmiw mmiwg",
         "_deepnote_index_column": 160
        },
        {
         "final_tweet": "lock logic gate pamgelleheracist mmiw mmiwg",
         "_deepnote_index_column": 161
        },
        {
         "final_tweet": "curl gate pamgelleheracist mmiw mmiwg",
         "_deepnote_index_column": 162
        },
        {
         "final_tweet": "lock logic gate pamgelleheracist mmiw mmiwg",
         "_deepnote_index_column": 163
        },
        {
         "final_tweet": "lock gate pamgelleheracist mmiw mmiwg",
         "_deepnote_index_column": 164
        },
        {
         "final_tweet": "lock gate pamgelleheracist mmiw mmiwg",
         "_deepnote_index_column": 165
        },
        {
         "final_tweet": "lock gate pamgelleheracist mmiw mmiwg",
         "_deepnote_index_column": 166
        },
        {
         "final_tweet": "lock logic gate pamgelleheracist mmiw mmiwg",
         "_deepnote_index_column": 167
        },
        {
         "final_tweet": "black humankind black women stockholm syndrome",
         "_deepnote_index_column": 168
        },
        {
         "final_tweet": "black human being black women stockholm syndrome",
         "_deepnote_index_column": 169
        },
        {
         "final_tweet": "black men calamitous women stockholm syndrome",
         "_deepnote_index_column": 170
        },
        {
         "final_tweet": "black humankind black women stockholm syndrome",
         "_deepnote_index_column": 171
        },
        {
         "final_tweet": "black men calamitous women stockholm syndrome",
         "_deepnote_index_column": 172
        },
        {
         "final_tweet": "black men black women stockholm syndrome",
         "_deepnote_index_column": 173
        },
        {
         "final_tweet": "black men black women stockholm syndrome",
         "_deepnote_index_column": 174
        },
        {
         "final_tweet": "black men black woman stockholm syndrome",
         "_deepnote_index_column": 175
        },
        {
         "final_tweet": "black men smuggled women stockholm syndrome",
         "_deepnote_index_column": 176
        },
        {
         "final_tweet": "black men black fair sex stockholm syndrome",
         "_deepnote_index_column": 177
        },
        {
         "final_tweet": "sinister men black women stockholm syndrome",
         "_deepnote_index_column": 178
        },
        {
         "final_tweet": "black men black market women stockholm syndrome",
         "_deepnote_index_column": 179
        },
        {
         "final_tweet": "black men black women stockholm syndrome",
         "_deepnote_index_column": 180
        },
        {
         "final_tweet": "black men black women stockholm syndrome",
         "_deepnote_index_column": 181
        },
        {
         "final_tweet": "cambersands deaths blame victims acculturation council pay lifeguards mayhap wow",
         "_deepnote_index_column": 182
        },
        {
         "final_tweet": "cambersands death charge victims culture council remuneration lifeguards maybe wow",
         "_deepnote_index_column": 183
        },
        {
         "final_tweet": "cambersands deaths blame victims culture council earnings lifeguards perchance wow",
         "_deepnote_index_column": 184
        },
        {
         "final_tweet": "cambersands death blame victim culture council pay lifeguards perhaps wow",
         "_deepnote_index_column": 185
        },
        {
         "final_tweet": "cambersands expiry blame victims culture council salary lifeguards maybe wow",
         "_deepnote_index_column": 186
        },
        {
         "final_tweet": "cambersands deaths blame victims culture council pay lifeguard maybe wow",
         "_deepnote_index_column": 187
        },
        {
         "final_tweet": "cambersands demise blame victims culture council pay lifesaver perhaps wow",
         "_deepnote_index_column": 188
        },
        {
         "final_tweet": "cambersands deaths blame victims civilisation council pay lifeguard maybe wow",
         "_deepnote_index_column": 189
        },
        {
         "final_tweet": "cambersands deaths blame victims culture council pay lifeguards peradventure wow",
         "_deepnote_index_column": 190
        },
        {
         "final_tweet": "cambersands deaths blame dupe culture council salary lifeguards maybe wow",
         "_deepnote_index_column": 191
        },
        {
         "final_tweet": "cambersands deaths blame dupe culture council earnings lifeguards maybe wow",
         "_deepnote_index_column": 192
        },
        {
         "final_tweet": "cambersands deaths blame victim civilisation council pay lifeguards maybe wow",
         "_deepnote_index_column": 193
        },
        {
         "final_tweet": "cambersands deaths blame victims culture council pay lifeguards perchance wow",
         "_deepnote_index_column": 194
        },
        {
         "final_tweet": "cambersands expiry pick victims culture council pay lifeguards maybe wow",
         "_deepnote_index_column": 195
        },
        {
         "final_tweet": "retweeted baycat msg desire newyear business end tedtalks tedatibm",
         "_deepnote_index_column": 196
        },
        {
         "final_tweet": "retweeted baycat msg hope newyear business end tedtalks tedatibm",
         "_deepnote_index_column": 197
        },
        {
         "final_tweet": "retweeted baycat msg trust newyear business end tedtalks tedatibm",
         "_deepnote_index_column": 198
        },
        {
         "final_tweet": "retweeted baycat monosodium glutamate hope newyear business end tedtalks tedatibm",
         "_deepnote_index_column": 199
        },
        {
         "final_tweet": "retweeted baycat msg hope newyear business end tedtalks tedatibm",
         "_deepnote_index_column": 200
        },
        {
         "final_tweet": "retweeted baycat msg hope newyear business organisation closing tedtalks tedatibm",
         "_deepnote_index_column": 201
        },
        {
         "final_tweet": "retweeted baycat monosodium glutamate hope newyear business end tedtalks tedatibm",
         "_deepnote_index_column": 202
        },
        {
         "final_tweet": "retweeted baycat monosodium glutamate go for newyear business end tedtalks tedatibm",
         "_deepnote_index_column": 203
        },
        {
         "final_tweet": "retweeted baycat msg trust newyear business end tedtalks tedatibm",
         "_deepnote_index_column": 204
        },
        {
         "final_tweet": "retweeted baycat msg hope newyear business end tedtalks tedatibm",
         "_deepnote_index_column": 205
        },
        {
         "final_tweet": "retweeted baycat msg trust newyear business ending tedtalks tedatibm",
         "_deepnote_index_column": 206
        },
        {
         "final_tweet": "retweeted baycat msg hope newyear patronage end tedtalks tedatibm",
         "_deepnote_index_column": 207
        },
        {
         "final_tweet": "retweeted baycat msg go for newyear byplay end tedtalks tedatibm",
         "_deepnote_index_column": 208
        },
        {
         "final_tweet": "retweeted baycat msg hope newyear business end tedtalks tedatibm",
         "_deepnote_index_column": 209
        },
        {
         "final_tweet": "beware snowball effect black men char",
         "_deepnote_index_column": 210
        },
        {
         "final_tweet": "beware snowball effect black men women",
         "_deepnote_index_column": 211
        },
        {
         "final_tweet": "beware snowball upshot black men women",
         "_deepnote_index_column": 212
        },
        {
         "final_tweet": "beware snowball effect dark men women",
         "_deepnote_index_column": 213
        },
        {
         "final_tweet": "beware snowball effect black manpower women",
         "_deepnote_index_column": 214
        },
        {
         "final_tweet": "beware snowball effect black human women",
         "_deepnote_index_column": 215
        },
        {
         "final_tweet": "beware snowball effect pitch dark men women",
         "_deepnote_index_column": 216
        },
        {
         "final_tweet": "beware snowball impression black men women",
         "_deepnote_index_column": 217
        },
        {
         "final_tweet": "beware snowball effect black man women",
         "_deepnote_index_column": 218
        },
        {
         "final_tweet": "beware snowball effect black man women",
         "_deepnote_index_column": 219
        },
        {
         "final_tweet": "beware snowball effect black men women",
         "_deepnote_index_column": 220
        },
        {
         "final_tweet": "beware snowball effect black human race women",
         "_deepnote_index_column": 221
        },
        {
         "final_tweet": "beware snowball effect black men char",
         "_deepnote_index_column": 222
        },
        {
         "final_tweet": "beware snowball effect black men woman",
         "_deepnote_index_column": 223
        },
        {
         "final_tweet": "hear clip ascertain quote tweet prop expose scene amp challenge",
         "_deepnote_index_column": 224
        },
        {
         "final_tweet": "hear cartridge clip see quote tweet prop expose view amp challenge",
         "_deepnote_index_column": 225
        },
        {
         "final_tweet": "hear time see quote tweet prop expose view amp challenge",
         "_deepnote_index_column": 226
        },
        {
         "final_tweet": "hear cartridge clip construe quote tweet prop expose view amp challenge",
         "_deepnote_index_column": 227
        },
        {
         "final_tweet": "hear clip see quote tweet prop expose view adenylic acid challenge",
         "_deepnote_index_column": 228
        },
        {
         "final_tweet": "hear clip reckon quote tweet property expose view amp challenge",
         "_deepnote_index_column": 229
        },
        {
         "final_tweet": "hear clip see quote tweet prop expose view amp challenge",
         "_deepnote_index_column": 230
        },
        {
         "final_tweet": "hear cartridge holder see quote tweet prop expose view amp challenge",
         "_deepnote_index_column": 231
        },
        {
         "final_tweet": "hear cartridge clip see quote tweet prop expose view adenosine monophosphate challenge",
         "_deepnote_index_column": 232
        },
        {
         "final_tweet": "hear cartridge holder see quote tweet airscrew expose view amp challenge",
         "_deepnote_index_column": 233
        },
        {
         "final_tweet": "hear clip interpret quote tweet property expose view a challenge",
         "_deepnote_index_column": 234
        },
        {
         "final_tweet": "hear clip see quote tweet prop expose vista amp challenge",
         "_deepnote_index_column": 235
        },
        {
         "final_tweet": "hear clip see quote tweet prop expose view adenosine monophosphate challenge",
         "_deepnote_index_column": 236
        },
        {
         "final_tweet": "hear time see quote tweet airplane propeller expose view amp challenge",
         "_deepnote_index_column": 237
        },
        {
         "final_tweet": "come fraud amp text file liar lose base telephone call nazi brownshi pivo",
         "_deepnote_index_column": 238
        },
        {
         "final_tweet": "come fraud amp document liar turn a loss infrastructure call nazi brownshi pivo",
         "_deepnote_index_column": 239
        },
        {
         "final_tweet": "come fraud amp document prevaricator lose base call option nazi brownshi pivo",
         "_deepnote_index_column": 240
        },
        {
         "final_tweet": "get fraud amp document prevaricator lose base margin call nazis brownshi pivo",
         "_deepnote_index_column": 241
        },
        {
         "final_tweet": "come fraud amp document prevaricator fall behind base call nazis brownshi pivo",
         "_deepnote_index_column": 242
        },
        {
         "final_tweet": "come role player amp papers liar lose base call nazi brownshi pivo",
         "_deepnote_index_column": 243
        },
        {
         "final_tweet": "come fraud amp document prevaricator lose base phone call nazis brownshi pivo",
         "_deepnote_index_column": 244
        },
        {
         "final_tweet": "come fraud amp written document liar drop off base call nazis brownshi pivo",
         "_deepnote_index_column": 245
        },
        {
         "final_tweet": "come fraud amp written document prevaricator lose groundwork call nazis brownshi pivo",
         "_deepnote_index_column": 246
        },
        {
         "final_tweet": "occur imposter amp document liar lose base call german nazi brownshi pivo",
         "_deepnote_index_column": 247
        },
        {
         "final_tweet": "come fraud amp text file liar fall back base call nazis brownshi pivo",
         "_deepnote_index_column": 248
        },
        {
         "final_tweet": "come fraud amp papers liar fall behind floor call nazis brownshi pivo",
         "_deepnote_index_column": 249
        },
        {
         "final_tweet": "come impostor amp document liar lose basis claim nazis brownshi pivo",
         "_deepnote_index_column": 250
        },
        {
         "final_tweet": "come fraud amp document liar turn a loss radical call nazis brownshi pivo",
         "_deepnote_index_column": 251
        },
        {
         "final_tweet": "beyond fabulous smug elitists experience annihilate voter id myth video trump maga",
         "_deepnote_index_column": 252
        },
        {
         "final_tweet": "beyond fabulous smug elitists flummox annihilate elector i.d. myth video trump maga",
         "_deepnote_index_column": 253
        },
        {
         "final_tweet": "beyond fabulous smug elitists start annihilate voter idaho myth video horn maga",
         "_deepnote_index_column": 254
        },
        {
         "final_tweet": "beyond mythical smug elitists get annihilate voter id myth video cornet maga",
         "_deepnote_index_column": 255
        },
        {
         "final_tweet": "beyond fabulous smug elitists get annihilate voter i.d. myth video trump maga",
         "_deepnote_index_column": 256
        },
        {
         "final_tweet": "beyond fabulous smug elitists pose annihilate voter i.d. myth video trump maga",
         "_deepnote_index_column": 257
        },
        {
         "final_tweet": "beyond fab smug elitists get annihilate voter id myth video cornet maga",
         "_deepnote_index_column": 258
        },
        {
         "final_tweet": "beyond fabulous smug elitists get annihilate elector id myth video trump card maga",
         "_deepnote_index_column": 259
        },
        {
         "final_tweet": "beyond fabulous smug elitist get annihilate voter id myth video recording trump maga",
         "_deepnote_index_column": 260
        },
        {
         "final_tweet": "beyond fabulous smug elitists get annihilate elector id myth video cornet maga",
         "_deepnote_index_column": 261
        },
        {
         "final_tweet": "beyond fabulous smug elitists capture annihilate voter id myth video trump maga",
         "_deepnote_index_column": 262
        },
        {
         "final_tweet": "beyond fabulous smug elitist get annihilate voter id myth tv trump maga",
         "_deepnote_index_column": 263
        },
        {
         "final_tweet": "beyond fabulous smug elitist get annihilate voter id myth video trump maga",
         "_deepnote_index_column": 264
        },
        {
         "final_tweet": "beyond fabulous smug elitists get annihilate voter id myth video trump maga",
         "_deepnote_index_column": 265
        },
        {
         "final_tweet": "sooooo whitethorn funny",
         "_deepnote_index_column": 266
        },
        {
         "final_tweet": "sooooo may funny",
         "_deepnote_index_column": 267
        },
        {
         "final_tweet": "sooooo may funny",
         "_deepnote_index_column": 268
        },
        {
         "final_tweet": "sooooo may funny",
         "_deepnote_index_column": 269
        },
        {
         "final_tweet": "sooooo crataegus oxycantha funny",
         "_deepnote_index_column": 270
        },
        {
         "final_tweet": "sooooo crataegus laevigata funny",
         "_deepnote_index_column": 271
        },
        {
         "final_tweet": "sooooo may funny",
         "_deepnote_index_column": 272
        },
        {
         "final_tweet": "sooooo whitethorn funny",
         "_deepnote_index_column": 273
        },
        {
         "final_tweet": "sooooo may funny",
         "_deepnote_index_column": 274
        },
        {
         "final_tweet": "sooooo may funny",
         "_deepnote_index_column": 275
        },
        {
         "final_tweet": "sooooo crataegus laevigata funny",
         "_deepnote_index_column": 276
        },
        {
         "final_tweet": "sooooo crataegus laevigata funny",
         "_deepnote_index_column": 277
        },
        {
         "final_tweet": "sooooo may funny",
         "_deepnote_index_column": 278
        },
        {
         "final_tweet": "sooooo may funny",
         "_deepnote_index_column": 279
        },
        {
         "final_tweet": "condition ppl bhakt denounce terrorism anti national act display sense reason never mi",
         "_deepnote_index_column": 280
        },
        {
         "final_tweet": "term ppl bhakt denounce act of terrorism anti national act show sense reason never air mile",
         "_deepnote_index_column": 281
        },
        {
         "final_tweet": "term ppl bhakt denounce terrorism anti home act show sense reason never mi",
         "_deepnote_index_column": 282
        },
        {
         "final_tweet": "term ppl bhakt denounce terrorist act anti interior act appearance sense reason never mi",
         "_deepnote_index_column": 283
        },
        {
         "final_tweet": "term ppl bhakt denounce act of terrorism anti national act show sense reason ne'er mi",
         "_deepnote_index_column": 284
        },
        {
         "final_tweet": "term ppl bhakt denounce terrorism anti national act show signified grounds never mi",
         "_deepnote_index_column": 285
        },
        {
         "final_tweet": "term ppl bhakt denounce terrorism anti national act show sense reason ne'er mi",
         "_deepnote_index_column": 286
        },
        {
         "final_tweet": "terminus ppl bhakt denounce terrorism anti national act show sense cause never mi",
         "_deepnote_index_column": 287
        },
        {
         "final_tweet": "term ppl bhakt denounce terrorism anti national act display sense reason never international mile",
         "_deepnote_index_column": 288
        },
        {
         "final_tweet": "term ppl bhakt denounce terrorism anti national act show good sense reason ne'er mi",
         "_deepnote_index_column": 289
        },
        {
         "final_tweet": "term ppl bhakt denounce terrorism anti national turn appearance sense reason never mi",
         "_deepnote_index_column": 290
        },
        {
         "final_tweet": "term ppl bhakt denounce terrorism anti national turn show sense reason ne'er mi",
         "_deepnote_index_column": 291
        },
        {
         "final_tweet": "condition ppl bhakt denounce terrorism anti national act display sense grounds never mi",
         "_deepnote_index_column": 292
        },
        {
         "final_tweet": "term ppl bhakt denounce terrorism anti national act show sense reason ne'er mi",
         "_deepnote_index_column": 293
        },
        {
         "final_tweet": "restrict duty like straght crownwork pad room feeling blacklivesmatter",
         "_deepnote_index_column": 294
        },
        {
         "final_tweet": "restrict duty alike straght jacket pad room looking blacklivesmatter",
         "_deepnote_index_column": 295
        },
        {
         "final_tweet": "restrict duty like straght jacket pad room expression blacklivesmatter",
         "_deepnote_index_column": 296
        },
        {
         "final_tweet": "restrict duty like straght jacket tablet room look blacklivesmatter",
         "_deepnote_index_column": 297
        },
        {
         "final_tweet": "restrict duty like straght jacket crown pad room look blacklivesmatter",
         "_deepnote_index_column": 298
        },
        {
         "final_tweet": "restrict duty like straght jacket pad room looking at blacklivesmatter",
         "_deepnote_index_column": 299
        },
        {
         "final_tweet": "restrict duty like straght jacket inking pad room aspect blacklivesmatter",
         "_deepnote_index_column": 300
        },
        {
         "final_tweet": "restrict duty like straght jacket crown pad room expression blacklivesmatter",
         "_deepnote_index_column": 301
        },
        {
         "final_tweet": "restrict duty like straght jacket lodgings way look blacklivesmatter",
         "_deepnote_index_column": 302
        },
        {
         "final_tweet": "restrict tariff like straght jacket pad room expression blacklivesmatter",
         "_deepnote_index_column": 303
        },
        {
         "final_tweet": "restrict duty like straght jacket pad way look blacklivesmatter",
         "_deepnote_index_column": 304
        },
        {
         "final_tweet": "restrict duty like straght jacket pad room smell blacklivesmatter",
         "_deepnote_index_column": 305
        },
        {
         "final_tweet": "restrict duty like straght crownwork pad room look blacklivesmatter",
         "_deepnote_index_column": 306
        },
        {
         "final_tweet": "restrict duty like straght crown pad elbow room look blacklivesmatter",
         "_deepnote_index_column": 307
        },
        {
         "final_tweet": "go fuck richie like go anywhere",
         "_deepnote_index_column": 308
        },
        {
         "final_tweet": "break down fuck richie like go anywhere",
         "_deepnote_index_column": 309
        },
        {
         "final_tweet": "go fuck richie like conk anywhere",
         "_deepnote_index_column": 310
        },
        {
         "final_tweet": "go fuck richie like go anywhere",
         "_deepnote_index_column": 311
        },
        {
         "final_tweet": "go fuck richie like go anyplace",
         "_deepnote_index_column": 312
        },
        {
         "final_tweet": "go fuck richie like go anywhere",
         "_deepnote_index_column": 313
        },
        {
         "final_tweet": "proceed fuck richie like go anywhere",
         "_deepnote_index_column": 314
        },
        {
         "final_tweet": "go fuck richie like go anywhere",
         "_deepnote_index_column": 315
        },
        {
         "final_tweet": "go fuck richie like go anywhere",
         "_deepnote_index_column": 316
        },
        {
         "final_tweet": "pass fuck richie like go anywhere",
         "_deepnote_index_column": 317
        },
        {
         "final_tweet": "go fuck richie like hold up anywhere",
         "_deepnote_index_column": 318
        },
        {
         "final_tweet": "go fuck richie like go anyplace",
         "_deepnote_index_column": 319
        },
        {
         "final_tweet": "run low fuck richie like go anywhere",
         "_deepnote_index_column": 320
        },
        {
         "final_tweet": "go fuck richie like go anywhere",
         "_deepnote_index_column": 321
        },
        {
         "final_tweet": "humiliate great country ignorant tawdry lie chairman notmypresident theresista",
         "_deepnote_index_column": 322
        },
        {
         "final_tweet": "humiliate great country unlettered tacky lie president notmypresident theresista",
         "_deepnote_index_column": 323
        },
        {
         "final_tweet": "humiliate dandy country ignorant tacky lie president notmypresident theresista",
         "_deepnote_index_column": 324
        },
        {
         "final_tweet": "humiliate great country unwitting tacky lie president notmypresident theresista",
         "_deepnote_index_column": 325
        },
        {
         "final_tweet": "humiliate groovy country ignorant tatty lie president notmypresident theresista",
         "_deepnote_index_column": 326
        },
        {
         "final_tweet": "humiliate great nation unlettered tacky lie president notmypresident theresista",
         "_deepnote_index_column": 327
        },
        {
         "final_tweet": "humiliate great country unlearned tacky lie president notmypresident theresista",
         "_deepnote_index_column": 328
        },
        {
         "final_tweet": "humiliate great land unknowing tacky lie president notmypresident theresista",
         "_deepnote_index_column": 329
        },
        {
         "final_tweet": "humiliate great land ignorant tacky lie chair notmypresident theresista",
         "_deepnote_index_column": 330
        },
        {
         "final_tweet": "humiliate great nation ignorant tacky lie president notmypresident theresista",
         "_deepnote_index_column": 331
        },
        {
         "final_tweet": "humiliate swell country ignorant tacky lie president notmypresident theresista",
         "_deepnote_index_column": 332
        },
        {
         "final_tweet": "humiliate great country ignorant tacky prevarication president notmypresident theresista",
         "_deepnote_index_column": 333
        },
        {
         "final_tweet": "humiliate great country unknowing tacky lie president notmypresident theresista",
         "_deepnote_index_column": 334
        },
        {
         "final_tweet": "humiliate peachy state ignorant tacky lie president notmypresident theresista",
         "_deepnote_index_column": 335
        },
        {
         "final_tweet": "forget woman misogynists",
         "_deepnote_index_column": 336
        },
        {
         "final_tweet": "blank out women misogynists",
         "_deepnote_index_column": 337
        },
        {
         "final_tweet": "forget women misogynist",
         "_deepnote_index_column": 338
        },
        {
         "final_tweet": "forget women woman hater",
         "_deepnote_index_column": 339
        },
        {
         "final_tweet": "block women misogynists",
         "_deepnote_index_column": 340
        },
        {
         "final_tweet": "forget women woman hater",
         "_deepnote_index_column": 341
        },
        {
         "final_tweet": "forget women woman hater",
         "_deepnote_index_column": 342
        },
        {
         "final_tweet": "forget woman misogynists",
         "_deepnote_index_column": 343
        },
        {
         "final_tweet": "forget woman misogynists",
         "_deepnote_index_column": 344
        },
        {
         "final_tweet": "forget women misogynist",
         "_deepnote_index_column": 345
        },
        {
         "final_tweet": "block women misogynists",
         "_deepnote_index_column": 346
        },
        {
         "final_tweet": "forget women misogynist",
         "_deepnote_index_column": 347
        },
        {
         "final_tweet": "forget woman misogynists",
         "_deepnote_index_column": 348
        },
        {
         "final_tweet": "blank out women misogynists",
         "_deepnote_index_column": 349
        },
        {
         "final_tweet": "assholes like shut every rapine prevent triumph humanity sh",
         "_deepnote_index_column": 350
        },
        {
         "final_tweet": "assholes like shut every rape prevent victory humanity sh",
         "_deepnote_index_column": 351
        },
        {
         "final_tweet": "prick like shut every rape prevent victory humans sh",
         "_deepnote_index_column": 352
        },
        {
         "final_tweet": "asshole like shut every rape prevent triumph humanity sh",
         "_deepnote_index_column": 353
        },
        {
         "final_tweet": "asshole like shut every rape prevent victory humanity sh",
         "_deepnote_index_column": 354
        },
        {
         "final_tweet": "assholes like shut every rape prevent victory man sh",
         "_deepnote_index_column": 355
        },
        {
         "final_tweet": "assholes like shut every violation prevent victory humanity sh",
         "_deepnote_index_column": 356
        },
        {
         "final_tweet": "assholes like shut every rape prevent triumph humanity sh",
         "_deepnote_index_column": 357
        },
        {
         "final_tweet": "assholes like shut every rape prevent triumph humanity sh",
         "_deepnote_index_column": 358
        },
        {
         "final_tweet": "assholes similar shut every rape prevent victory humanity sh",
         "_deepnote_index_column": 359
        },
        {
         "final_tweet": "assholes similar shut every rape prevent victory humanity sh",
         "_deepnote_index_column": 360
        },
        {
         "final_tweet": "assholes like shut every rape prevent victory humankind sh",
         "_deepnote_index_column": 361
        },
        {
         "final_tweet": "assholes similar shut every rape prevent victory humanity sh",
         "_deepnote_index_column": 362
        },
        {
         "final_tweet": "dickhead like shut every colza prevent victory humanity sh",
         "_deepnote_index_column": 363
        },
        {
         "final_tweet": "trump pick attorney general shadow race story wellduh sessions",
         "_deepnote_index_column": 364
        },
        {
         "final_tweet": "trump pick attorney world wide shadow race history wellduh session",
         "_deepnote_index_column": 365
        },
        {
         "final_tweet": "horn pick attorney general shadow race history wellduh session",
         "_deepnote_index_column": 366
        },
        {
         "final_tweet": "trump pick attorney general tincture race account wellduh sessions",
         "_deepnote_index_column": 367
        },
        {
         "final_tweet": "trump pick lawyer general shadower race history wellduh sessions",
         "_deepnote_index_column": 368
        },
        {
         "final_tweet": "trump pick attorney general apparition slipstream history wellduh sessions",
         "_deepnote_index_column": 369
        },
        {
         "final_tweet": "trump pick attorney cosmopolitan shadow raceway history wellduh sessions",
         "_deepnote_index_column": 370
        },
        {
         "final_tweet": "trumpet pick attorney general shadow race chronicle wellduh sessions",
         "_deepnote_index_column": 371
        },
        {
         "final_tweet": "trump pick attorney worldwide shadow airstream history wellduh sessions",
         "_deepnote_index_column": 372
        },
        {
         "final_tweet": "trumpet pick attorney general shadow race account wellduh sessions",
         "_deepnote_index_column": 373
        },
        {
         "final_tweet": "trump pick attorney general tail race account wellduh sessions",
         "_deepnote_index_column": 374
        },
        {
         "final_tweet": "trumpet pick attorney general shadow race account wellduh sessions",
         "_deepnote_index_column": 375
        },
        {
         "final_tweet": "trump pick attorney general shadow backwash history wellduh sessions",
         "_deepnote_index_column": 376
        },
        {
         "final_tweet": "trump pick attorney universal tail race history wellduh sessions",
         "_deepnote_index_column": 377
        },
        {
         "final_tweet": "lanasprayberry fire consider choke child wrongful arrest parent acceptable",
         "_deepnote_index_column": 378
        },
        {
         "final_tweet": "lanasprayberry flame think choke child wrongful arrest parent satisfactory",
         "_deepnote_index_column": 379
        },
        {
         "final_tweet": "lanasprayberry flak think choking coil child wrongful arrest parent acceptable",
         "_deepnote_index_column": 380
        },
        {
         "final_tweet": "lanasprayberry fire think choke coil child wrongful arrest parent acceptable",
         "_deepnote_index_column": 381
        },
        {
         "final_tweet": "lanasprayberry fire think choke coil child wrongful arrest parent satisfactory",
         "_deepnote_index_column": 382
        },
        {
         "final_tweet": "lanasprayberry fire suppose choke child wrongful arrest parent acceptable",
         "_deepnote_index_column": 383
        },
        {
         "final_tweet": "lanasprayberry fire think choke nestling wrongful arrest parent acceptable",
         "_deepnote_index_column": 384
        },
        {
         "final_tweet": "lanasprayberry fire think choke child wrongful arrest parent acceptable",
         "_deepnote_index_column": 385
        },
        {
         "final_tweet": "lanasprayberry blast think choke coil child wrongful arrest parent acceptable",
         "_deepnote_index_column": 386
        },
        {
         "final_tweet": "lanasprayberry fire think choke child unlawful arrest parent satisfactory",
         "_deepnote_index_column": 387
        },
        {
         "final_tweet": "lanasprayberry fire think choking coil child wrongful arrest parent acceptable",
         "_deepnote_index_column": 388
        },
        {
         "final_tweet": "lanasprayberry fire think choking coil child unlawful arrest parent acceptable",
         "_deepnote_index_column": 389
        },
        {
         "final_tweet": "lanasprayberry fire think choke coil minor wrongful arrest parent acceptable",
         "_deepnote_index_column": 390
        },
        {
         "final_tweet": "lanasprayberry fire think choke child unlawful arrest parent satisfactory",
         "_deepnote_index_column": 391
        },
        {
         "final_tweet": "apparently taragon christmassy herb",
         "_deepnote_index_column": 392
        },
        {
         "final_tweet": "apparently taragon christmassy herbaceous plant",
         "_deepnote_index_column": 393
        },
        {
         "final_tweet": "apparently taragon christmassy herbaceous plant",
         "_deepnote_index_column": 394
        },
        {
         "final_tweet": "apparently taragon christmassy herbaceous plant",
         "_deepnote_index_column": 395
        },
        {
         "final_tweet": "apparently taragon christmassy herb",
         "_deepnote_index_column": 396
        },
        {
         "final_tweet": "apparently taragon christmassy herb",
         "_deepnote_index_column": 397
        },
        {
         "final_tweet": "apparently taragon christmassy herb",
         "_deepnote_index_column": 398
        },
        {
         "final_tweet": "plainly taragon christmassy herb",
         "_deepnote_index_column": 399
        },
        {
         "final_tweet": "apparently taragon christmassy herb",
         "_deepnote_index_column": 400
        },
        {
         "final_tweet": "apparently taragon christmassy herb",
         "_deepnote_index_column": 401
        },
        {
         "final_tweet": "plainly taragon christmassy herb",
         "_deepnote_index_column": 402
        },
        {
         "final_tweet": "apparently taragon christmassy herb",
         "_deepnote_index_column": 403
        },
        {
         "final_tweet": "apparently taragon christmassy herbaceous plant",
         "_deepnote_index_column": 404
        },
        {
         "final_tweet": "plainly taragon christmassy herb",
         "_deepnote_index_column": 405
        },
        {
         "final_tweet": "right approximation deal nasty",
         "_deepnote_index_column": 406
        },
        {
         "final_tweet": "correct idea deal nasty",
         "_deepnote_index_column": 407
        },
        {
         "final_tweet": "veracious idea deal nasty",
         "_deepnote_index_column": 408
        },
        {
         "final_tweet": "right idea deal smutty",
         "_deepnote_index_column": 409
        },
        {
         "final_tweet": "right hand idea deal nasty",
         "_deepnote_index_column": 410
        },
        {
         "final_tweet": "correct idea deal nasty",
         "_deepnote_index_column": 411
        },
        {
         "final_tweet": "right idea spate nasty",
         "_deepnote_index_column": 412
        },
        {
         "final_tweet": "correct idea deal nasty",
         "_deepnote_index_column": 413
        },
        {
         "final_tweet": "right thought deal nasty",
         "_deepnote_index_column": 414
        },
        {
         "final_tweet": "correct idea deal nasty",
         "_deepnote_index_column": 415
        },
        {
         "final_tweet": "ripe idea deal nasty",
         "_deepnote_index_column": 416
        },
        {
         "final_tweet": "right musical theme deal nasty",
         "_deepnote_index_column": 417
        },
        {
         "final_tweet": "right idea spate nasty",
         "_deepnote_index_column": 418
        },
        {
         "final_tweet": "right theme deal nasty",
         "_deepnote_index_column": 419
        },
        {
         "final_tweet": "suck haters hillary voters hate fear trump voters enjoy make love",
         "_deepnote_index_column": 420
        },
        {
         "final_tweet": "suction hater hillary voters hate fear trump voters love know",
         "_deepnote_index_column": 421
        },
        {
         "final_tweet": "suck hater hillary voters detest fear trump elector love know",
         "_deepnote_index_column": 422
        },
        {
         "final_tweet": "suck haters hillary voters hate fear trump card voter love know",
         "_deepnote_index_column": 423
        },
        {
         "final_tweet": "suck haters hillary voters detest fear trump card voters roll in the hay know",
         "_deepnote_index_column": 424
        },
        {
         "final_tweet": "suction haters hillary elector detest fear trump voters love know",
         "_deepnote_index_column": 425
        },
        {
         "final_tweet": "sucking haters hillary voters detest fear trump voters love know",
         "_deepnote_index_column": 426
        },
        {
         "final_tweet": "suck haters hillary voters hate fear trump voter love know",
         "_deepnote_index_column": 427
        },
        {
         "final_tweet": "suck haters hillary voters detest fear trump elector do it know",
         "_deepnote_index_column": 428
        },
        {
         "final_tweet": "suck haters hillary voters detest fear trump voters love hump",
         "_deepnote_index_column": 429
        },
        {
         "final_tweet": "suck haters hillary voters detest fear horn voters love have a go at it",
         "_deepnote_index_column": 430
        },
        {
         "final_tweet": "suck haters hillary voters hate fear horn voter love do it",
         "_deepnote_index_column": 431
        },
        {
         "final_tweet": "sucking haters hillary voters hate fear trump voters know know",
         "_deepnote_index_column": 432
        },
        {
         "final_tweet": "suck hater hillary voters hate fear trump voters bonk know",
         "_deepnote_index_column": 433
        },
        {
         "final_tweet": "case commonwealth internet five grounds prove guilty antisemitism misogyny",
         "_deepnote_index_column": 434
        },
        {
         "final_tweet": "case commonwealth net vs evidence prove shamed antisemitism misogyny",
         "_deepnote_index_column": 435
        },
        {
         "final_tweet": "vitrine commonwealth internet vs evidence prove guilty anti semitism misogyny",
         "_deepnote_index_column": 436
        },
        {
         "final_tweet": "character commonwealth internet vs grounds prove guilty antisemitism misogyny",
         "_deepnote_index_column": 437
        },
        {
         "final_tweet": "suit commonwealth internet pentad evidence prove guilty antisemitism misogyny",
         "_deepnote_index_column": 438
        },
        {
         "final_tweet": "case commonwealth internet cinque evidence prove hangdog antisemitism misogyny",
         "_deepnote_index_column": 439
        },
        {
         "final_tweet": "case democracy cyberspace vs evidence prove guilty antisemitism misogyny",
         "_deepnote_index_column": 440
        },
        {
         "final_tweet": "type commonwealth internet vs evidence prove shamefaced antisemitism misogyny",
         "_deepnote_index_column": 441
        },
        {
         "final_tweet": "case commonwealth internet vs evidence try guilty antisemitism misogynism",
         "_deepnote_index_column": 442
        },
        {
         "final_tweet": "shell commonwealth internet vs evidence prove guilty antisemitism misogynism",
         "_deepnote_index_column": 443
        },
        {
         "final_tweet": "case democracy net vs evidence prove guilty antisemitism misogyny",
         "_deepnote_index_column": 444
        },
        {
         "final_tweet": "case commonwealth internet vs evidence prove shamed antisemitism misogynism",
         "_deepnote_index_column": 445
        },
        {
         "final_tweet": "caseful commonwealth internet vs evidence prove guilty anti semitism misogyny",
         "_deepnote_index_column": 446
        },
        {
         "final_tweet": "case commonwealth internet vs evidence leaven shamed antisemitism misogyny",
         "_deepnote_index_column": 447
        },
        {
         "final_tweet": "disgust racist punk look forward go back poky",
         "_deepnote_index_column": 448
        },
        {
         "final_tweet": "disgust racist thugs reckon forward pass back jail",
         "_deepnote_index_column": 449
        },
        {
         "final_tweet": "disgust racialist thugs look frontward go back jail",
         "_deepnote_index_column": 450
        },
        {
         "final_tweet": "disgust racist thugs look forward run back pokey",
         "_deepnote_index_column": 451
        },
        {
         "final_tweet": "disgust racist thugs appear forward go back poky",
         "_deepnote_index_column": 452
        },
        {
         "final_tweet": "disgust racist tough seem forward go back jail",
         "_deepnote_index_column": 453
        },
        {
         "final_tweet": "disgust racist thugs look fore croak back jail",
         "_deepnote_index_column": 454
        },
        {
         "final_tweet": "disgust racist thugs appear forward go backwards jail",
         "_deepnote_index_column": 455
        },
        {
         "final_tweet": "disgust racist hood look forward go back pokey",
         "_deepnote_index_column": 456
        },
        {
         "final_tweet": "disgust racist thug see forward go back jail",
         "_deepnote_index_column": 457
        },
        {
         "final_tweet": "disgust racist thugs appear frontwards go back jail",
         "_deepnote_index_column": 458
        },
        {
         "final_tweet": "disgust racialist thugs look onward go back jail",
         "_deepnote_index_column": 459
        },
        {
         "final_tweet": "disgust racist toughie look ahead go back jail",
         "_deepnote_index_column": 460
        },
        {
         "final_tweet": "disgust racialist thugs look forward go backwards jail",
         "_deepnote_index_column": 461
        },
        {
         "final_tweet": "nigger lifelessons white tyke grow blogpost whitepeople regard",
         "_deepnote_index_column": 462
        },
        {
         "final_tweet": "nigger lifelessons lily white kid grow blogpost whitepeople respect",
         "_deepnote_index_column": 463
        },
        {
         "final_tweet": "nigger lifelessons white kid grow blogpost whitepeople esteem",
         "_deepnote_index_column": 464
        },
        {
         "final_tweet": "nigger lifelessons white kid grow blogpost whitepeople respect",
         "_deepnote_index_column": 465
        },
        {
         "final_tweet": "nigger lifelessons white nestling grow blogpost whitepeople respect",
         "_deepnote_index_column": 466
        },
        {
         "final_tweet": "nigger lifelessons white kid grow blogpost whitepeople respect",
         "_deepnote_index_column": 467
        },
        {
         "final_tweet": "nigger lifelessons white kid grow blogpost whitepeople respect",
         "_deepnote_index_column": 468
        },
        {
         "final_tweet": "nigger lifelessons ashen kid grow blogpost whitepeople respect",
         "_deepnote_index_column": 469
        },
        {
         "final_tweet": "nigger lifelessons white kid grow blogpost whitepeople regard",
         "_deepnote_index_column": 470
        },
        {
         "final_tweet": "nigger lifelessons white kid grow blogpost whitepeople respect",
         "_deepnote_index_column": 471
        },
        {
         "final_tweet": "nigger lifelessons white kid grow blogpost whitepeople respect",
         "_deepnote_index_column": 472
        },
        {
         "final_tweet": "nigger lifelessons clean kid grow blogpost whitepeople obedience",
         "_deepnote_index_column": 473
        },
        {
         "final_tweet": "nigger lifelessons white tyke grow blogpost whitepeople regard",
         "_deepnote_index_column": 474
        },
        {
         "final_tweet": "nigger lifelessons white child grow blogpost whitepeople respect",
         "_deepnote_index_column": 475
        },
        {
         "final_tweet": "convo stop indigenous deaths mean anything unless stas brass epidemic atsi",
         "_deepnote_index_column": 476
        },
        {
         "final_tweet": "convo contain indigenous deaths intend anything unless stas face epidemic atsi",
         "_deepnote_index_column": 477
        },
        {
         "final_tweet": "convo cease indigenous deaths mean anything unless stas fount epidemic atsi",
         "_deepnote_index_column": 478
        },
        {
         "final_tweet": "convo stop indigenous decease mean anything unless stas face epidemic atsi",
         "_deepnote_index_column": 479
        },
        {
         "final_tweet": "convo stop indigenous deaths mean anything unless stas face epidemic atsi",
         "_deepnote_index_column": 480
        },
        {
         "final_tweet": "convo stop indigenous death mean anything unless stas face epidemic atsi",
         "_deepnote_index_column": 481
        },
        {
         "final_tweet": "convo cease autochthonal death mean anything unless stas face epidemic atsi",
         "_deepnote_index_column": 482
        },
        {
         "final_tweet": "convo stop indigenous death mean anything unless stas side epidemic atsi",
         "_deepnote_index_column": 483
        },
        {
         "final_tweet": "convo stop autochthonal death think anything unless stas face epidemic atsi",
         "_deepnote_index_column": 484
        },
        {
         "final_tweet": "convo stop indigenous deaths mean anything unless stas human face epidemic atsi",
         "_deepnote_index_column": 485
        },
        {
         "final_tweet": "convo intercept indigenous deaths mean anything unless stas face epidemic atsi",
         "_deepnote_index_column": 486
        },
        {
         "final_tweet": "convo stop indigenous demise mean anything unless stas face epidemic atsi",
         "_deepnote_index_column": 487
        },
        {
         "final_tweet": "convo stop indigenous deaths mean anything unless stas face epidemic atsi",
         "_deepnote_index_column": 488
        },
        {
         "final_tweet": "convo stop endemic deaths mean anything unless stas face epidemic atsi",
         "_deepnote_index_column": 489
        },
        {
         "final_tweet": "allahsoil greenspan policies for the most part blame mogage crisis",
         "_deepnote_index_column": 490
        },
        {
         "final_tweet": "allahsoil greenspan policies largely damned mogage crisis",
         "_deepnote_index_column": 491
        },
        {
         "final_tweet": "allahsoil greenspan policy largely blame mogage crisis",
         "_deepnote_index_column": 492
        },
        {
         "final_tweet": "allahsoil greenspan policies largely infernal mogage crisis",
         "_deepnote_index_column": 493
        },
        {
         "final_tweet": "allahsoil greenspan policies for the most part blame mogage crisis",
         "_deepnote_index_column": 494
        },
        {
         "final_tweet": "allahsoil greenspan policies largely blame mogage crisis",
         "_deepnote_index_column": 495
        },
        {
         "final_tweet": "allahsoil greenspan insurance largely damn mogage crisis",
         "_deepnote_index_column": 496
        },
        {
         "final_tweet": "allahsoil greenspan policies largely blame mogage crisis",
         "_deepnote_index_column": 497
        },
        {
         "final_tweet": "allahsoil greenspan policies largely blame mogage crisis",
         "_deepnote_index_column": 498
        },
        {
         "final_tweet": "allahsoil greenspan insurance policy largely blame mogage crisis",
         "_deepnote_index_column": 499
        }
       ],
       "rows_bottom": [
        {
         "final_tweet": "carolyn cooper ugly poor ignorant fateful",
         "_deepnote_index_column": 19786
        },
        {
         "final_tweet": "carolyn cooper ugly piteous ignorant black",
         "_deepnote_index_column": 19787
        },
        {
         "final_tweet": "carolyn cooper ugly poor unlearned black",
         "_deepnote_index_column": 19788
        },
        {
         "final_tweet": "carolyn cooper ugly poor ignorant black",
         "_deepnote_index_column": 19789
        },
        {
         "final_tweet": "carolyn cooper ugly poor ignorant black",
         "_deepnote_index_column": 19790
        },
        {
         "final_tweet": "carolyn cooper ugly poor ignorant black",
         "_deepnote_index_column": 19791
        },
        {
         "final_tweet": "carolyn cooper ugly poor unknowing black",
         "_deepnote_index_column": 19792
        },
        {
         "final_tweet": "carolyn cooper ugly poor ignorant black",
         "_deepnote_index_column": 19793
        },
        {
         "final_tweet": "carolyn cooper ugly pitiful ignorant black",
         "_deepnote_index_column": 19794
        },
        {
         "final_tweet": "carolyn peter cooper ugly poor ignorant black",
         "_deepnote_index_column": 19795
        },
        {
         "final_tweet": "democrat pay alway pay black inferior white white subscript everybody",
         "_deepnote_index_column": 19796
        },
        {
         "final_tweet": "democrat pay alway pay black inferior white white subscript everybody",
         "_deepnote_index_column": 19797
        },
        {
         "final_tweet": "democrat pay alway salary black inferior white white hot subscript everybody",
         "_deepnote_index_column": 19798
        },
        {
         "final_tweet": "democrat pay alway pay black subscript white white inferior everybody",
         "_deepnote_index_column": 19799
        },
        {
         "final_tweet": "democrat pay alway wage black inferior white snowy subscript everybody",
         "_deepnote_index_column": 19800
        },
        {
         "final_tweet": "democrat pay alway pay black market inferior white white inferior everybody",
         "_deepnote_index_column": 19801
        },
        {
         "final_tweet": "democrat pay alway pay black inferior livid blanched subscript everybody",
         "_deepnote_index_column": 19802
        },
        {
         "final_tweet": "democrat pay alway pay black substandard white snowy inferior everybody",
         "_deepnote_index_column": 19803
        },
        {
         "final_tweet": "democrat pay alway pay black inferior white ashen subscript everybody",
         "_deepnote_index_column": 19804
        },
        {
         "final_tweet": "democrat pay off alway wage black inferior white white inferior everybody",
         "_deepnote_index_column": 19805
        },
        {
         "final_tweet": "democrat pay alway pay black inferior livid white subscript everybody",
         "_deepnote_index_column": 19806
        },
        {
         "final_tweet": "democrat pay alway earnings black inferior white white inferior everybody",
         "_deepnote_index_column": 19807
        },
        {
         "final_tweet": "democrat pay alway pay black deficient white white inferior everybody",
         "_deepnote_index_column": 19808
        },
        {
         "final_tweet": "democrat devote alway earnings black inferior white whitened inferior everybody",
         "_deepnote_index_column": 19809
        },
        {
         "final_tweet": "maga moron tweet sewage understand hillarylost",
         "_deepnote_index_column": 19810
        },
        {
         "final_tweet": "maga moron tweet sewage understand hillarylost",
         "_deepnote_index_column": 19811
        },
        {
         "final_tweet": "maga imbecile tweet sewage understand hillarylost",
         "_deepnote_index_column": 19812
        },
        {
         "final_tweet": "maga moron tweet sewerage understand hillarylost",
         "_deepnote_index_column": 19813
        },
        {
         "final_tweet": "maga moron tweet sewage understand hillarylost",
         "_deepnote_index_column": 19814
        },
        {
         "final_tweet": "maga moron tweet sewerage understand hillarylost",
         "_deepnote_index_column": 19815
        },
        {
         "final_tweet": "maga moron tweet sewerage understand hillarylost",
         "_deepnote_index_column": 19816
        },
        {
         "final_tweet": "maga moron tweet sewage understand hillarylost",
         "_deepnote_index_column": 19817
        },
        {
         "final_tweet": "maga moron tweet sewerage understand hillarylost",
         "_deepnote_index_column": 19818
        },
        {
         "final_tweet": "maga moron tweet sewage understand hillarylost",
         "_deepnote_index_column": 19819
        },
        {
         "final_tweet": "maga moron tweet sewerage understand hillarylost",
         "_deepnote_index_column": 19820
        },
        {
         "final_tweet": "maga moron tweet sewage understand hillarylost",
         "_deepnote_index_column": 19821
        },
        {
         "final_tweet": "maga moron tweet sewage understand hillarylost",
         "_deepnote_index_column": 19822
        },
        {
         "final_tweet": "maga moron tweet sewage understand hillarylost",
         "_deepnote_index_column": 19823
        },
        {
         "final_tweet": "yes u think brown skin masses cannot think eh",
         "_deepnote_index_column": 19824
        },
        {
         "final_tweet": "yes u think brown skin mass cannot think eh",
         "_deepnote_index_column": 19825
        },
        {
         "final_tweet": "yes u suppose brown skin people cannot think eh",
         "_deepnote_index_column": 19826
        },
        {
         "final_tweet": "yes u think brown skin hoi polloi cannot reckon eh",
         "_deepnote_index_column": 19827
        },
        {
         "final_tweet": "yes u think brown skin citizenry cannot remember eh",
         "_deepnote_index_column": 19828
        },
        {
         "final_tweet": "yes u think brownish skin people cannot think eh",
         "_deepnote_index_column": 19829
        },
        {
         "final_tweet": "yes u consider brown skin people cannot think eh",
         "_deepnote_index_column": 19830
        },
        {
         "final_tweet": "yes u think brown tegument people cannot think eh",
         "_deepnote_index_column": 19831
        },
        {
         "final_tweet": "yes u think dark brown skin people cannot think eh",
         "_deepnote_index_column": 19832
        },
        {
         "final_tweet": "yes u think brown peel people cannot retrieve eh",
         "_deepnote_index_column": 19833
        },
        {
         "final_tweet": "yes u think brown skin multitude cannot think eh",
         "_deepnote_index_column": 19834
        },
        {
         "final_tweet": "yes u think brown skin hoi polloi cannot think eh",
         "_deepnote_index_column": 19835
        },
        {
         "final_tweet": "yes u think brownish skin people cannot think eh",
         "_deepnote_index_column": 19836
        },
        {
         "final_tweet": "yes u think brown skin people cannot call up eh",
         "_deepnote_index_column": 19837
        },
        {
         "final_tweet": "want flame amp dumb mfer hire genocide promote ass hire graduate",
         "_deepnote_index_column": 19838
        },
        {
         "final_tweet": "need fire amp mute mfer hire genocide promote ass hire graduate",
         "_deepnote_index_column": 19839
        },
        {
         "final_tweet": "demand fire amp dumb mfer hire racial extermination promote american samoa hire graduate",
         "_deepnote_index_column": 19840
        },
        {
         "final_tweet": "need fire amp dumb mfer hire genocide promote behind hire graduate",
         "_deepnote_index_column": 19841
        },
        {
         "final_tweet": "need fire amp obtuse mfer hire race murder promote ass hire graduate",
         "_deepnote_index_column": 19842
        },
        {
         "final_tweet": "pauperism fire amp dumb mfer hire racial extermination promote ass hire graduate",
         "_deepnote_index_column": 19843
        },
        {
         "final_tweet": "need fire amp dumb mfer hire genocide promote ass hire graduate",
         "_deepnote_index_column": 19844
        },
        {
         "final_tweet": "need fire amp dumb mfer hire race murder promote ass hire alum",
         "_deepnote_index_column": 19845
        },
        {
         "final_tweet": "need fire amp dumb mfer hire genocide promote ass hire grad",
         "_deepnote_index_column": 19846
        },
        {
         "final_tweet": "indigence fervidness amp dumb mfer hire genocide promote ass hire graduate",
         "_deepnote_index_column": 19847
        },
        {
         "final_tweet": "need fire amp dumb mfer hire genocide promote prat hire graduate",
         "_deepnote_index_column": 19848
        },
        {
         "final_tweet": "want fire amp dumb mfer hire genocide promote ass hire graduate",
         "_deepnote_index_column": 19849
        },
        {
         "final_tweet": "motive fire amp slow mfer hire race murder promote ass hire graduate",
         "_deepnote_index_column": 19850
        },
        {
         "final_tweet": "need flak amp dull mfer hire genocide promote behind hire graduate",
         "_deepnote_index_column": 19851
        },
        {
         "final_tweet": "tyruswong bambi aist thwaed didnt want child constrain assembly line lay others",
         "_deepnote_index_column": 19852
        },
        {
         "final_tweet": "tyruswong bambi aist thwaed didnt want children constrain line of descent lay others",
         "_deepnote_index_column": 19853
        },
        {
         "final_tweet": "tyruswong bambi aist thwaed didnt desire children constrain line lay others",
         "_deepnote_index_column": 19854
        },
        {
         "final_tweet": "tyruswong bambi aist thwaed didnt want tiddler constrain line lay others",
         "_deepnote_index_column": 19855
        },
        {
         "final_tweet": "tyruswong bambi aist thwaed didnt want children constrain line ballad others",
         "_deepnote_index_column": 19856
        },
        {
         "final_tweet": "tyruswong bambi aist thwaed didnt want children constrain line lay others",
         "_deepnote_index_column": 19857
        },
        {
         "final_tweet": "tyruswong bambi aist thwaed didnt need children constrain line lay others",
         "_deepnote_index_column": 19858
        },
        {
         "final_tweet": "tyruswong bambi aist thwaed didnt want children cumber line lay others",
         "_deepnote_index_column": 19859
        },
        {
         "final_tweet": "tyruswong bambi aist thwaed didnt want small fry constrain line ballad others",
         "_deepnote_index_column": 19860
        },
        {
         "final_tweet": "tyruswong bambi aist thwaed didnt want children tighten up line lay others",
         "_deepnote_index_column": 19861
        },
        {
         "final_tweet": "tyruswong bambi aist thwaed didnt want shaver stiffen pipeline lay others",
         "_deepnote_index_column": 19862
        },
        {
         "final_tweet": "tyruswong bambi aist thwaed didnt desire children constrain cable ballad others",
         "_deepnote_index_column": 19863
        },
        {
         "final_tweet": "tyruswong bambi aist thwaed didnt want fry constrain line lay others",
         "_deepnote_index_column": 19864
        },
        {
         "final_tweet": "tyruswong bambi aist thwaed didnt want children tighten line lay others",
         "_deepnote_index_column": 19865
        },
        {
         "final_tweet": "hmmm auditory sensation familiar hold news co",
         "_deepnote_index_column": 19866
        },
        {
         "final_tweet": "hmmm sound familiar moderate news co",
         "_deepnote_index_column": 19867
        },
        {
         "final_tweet": "hmmm auditory sensation familiar hold news co",
         "_deepnote_index_column": 19868
        },
        {
         "final_tweet": "hmmm auditory sensation familiar hold news co",
         "_deepnote_index_column": 19869
        },
        {
         "final_tweet": "hmmm sound familiar hold news conscientious objector",
         "_deepnote_index_column": 19870
        },
        {
         "final_tweet": "hmmm sound familiar hold news co",
         "_deepnote_index_column": 19871
        },
        {
         "final_tweet": "hmmm sound familiar reserve news co",
         "_deepnote_index_column": 19872
        },
        {
         "final_tweet": "hmmm sound familiar hold news co",
         "_deepnote_index_column": 19873
        },
        {
         "final_tweet": "hmmm speech sound familiar hold news co",
         "_deepnote_index_column": 19874
        },
        {
         "final_tweet": "hmmm sound familiar hold news co",
         "_deepnote_index_column": 19875
        },
        {
         "final_tweet": "hmmm sound familiar hold news cobalt",
         "_deepnote_index_column": 19876
        },
        {
         "final_tweet": "hmmm sound familiar take news co",
         "_deepnote_index_column": 19877
        },
        {
         "final_tweet": "hmmm sound familiar reserve news co",
         "_deepnote_index_column": 19878
        },
        {
         "final_tweet": "hmmm sound familiar hold news carbon monoxide gas",
         "_deepnote_index_column": 19879
        },
        {
         "final_tweet": "allahsoil media distos threat moslem extremism emiratis",
         "_deepnote_index_column": 19880
        },
        {
         "final_tweet": "allahsoil medium distos threat islamic extremism emiratis",
         "_deepnote_index_column": 19881
        },
        {
         "final_tweet": "allahsoil media distos terror islamic extremism emiratis",
         "_deepnote_index_column": 19882
        },
        {
         "final_tweet": "allahsoil culture medium distos scourge islamic extremism emiratis",
         "_deepnote_index_column": 19883
        },
        {
         "final_tweet": "allahsoil media distos threat islamic extremism emiratis",
         "_deepnote_index_column": 19884
        },
        {
         "final_tweet": "allahsoil media distos menace muslim extremism emiratis",
         "_deepnote_index_column": 19885
        },
        {
         "final_tweet": "allahsoil media distos threat muslim extremism emiratis",
         "_deepnote_index_column": 19886
        },
        {
         "final_tweet": "allahsoil media distos terror islamic extremism emiratis",
         "_deepnote_index_column": 19887
        },
        {
         "final_tweet": "allahsoil media distos terror islamic extremism emiratis",
         "_deepnote_index_column": 19888
        },
        {
         "final_tweet": "allahsoil media distos terror islamic extremism emiratis",
         "_deepnote_index_column": 19889
        },
        {
         "final_tweet": "allahsoil media distos terror moslem extremism emiratis",
         "_deepnote_index_column": 19890
        },
        {
         "final_tweet": "allahsoil media distos menace moslem extremism emiratis",
         "_deepnote_index_column": 19891
        },
        {
         "final_tweet": "allahsoil media distos threat islamic extremism emiratis",
         "_deepnote_index_column": 19892
        },
        {
         "final_tweet": "allahsoil media distos scourge islamic extremism emiratis",
         "_deepnote_index_column": 19893
        },
        {
         "final_tweet": "excite isle of man attack computerized tomography open present cat repping trump yo",
         "_deepnote_index_column": 19894
        },
        {
         "final_tweet": "excite man plan of attack cat open present cat repping trump yo",
         "_deepnote_index_column": 19895
        },
        {
         "final_tweet": "excite man attack cat open present cat repping trump yo",
         "_deepnote_index_column": 19896
        },
        {
         "final_tweet": "excite man attack african tea open present cat repping trump yo",
         "_deepnote_index_column": 19897
        },
        {
         "final_tweet": "excite man attack cat open present cat repping trump yo",
         "_deepnote_index_column": 19898
        },
        {
         "final_tweet": "excite man onslaught cat open present guy repping trump yo",
         "_deepnote_index_column": 19899
        },
        {
         "final_tweet": "excite man attack cat open present cat repping horn yo",
         "_deepnote_index_column": 19900
        },
        {
         "final_tweet": "excite man flak cat opened present cat repping trump yo",
         "_deepnote_index_column": 19901
        },
        {
         "final_tweet": "excite adult male attack cat clear present cat repping trump yo",
         "_deepnote_index_column": 19902
        },
        {
         "final_tweet": "excite adult male onrush cat open present computerized tomography repping trump yo",
         "_deepnote_index_column": 19903
        },
        {
         "final_tweet": "excite human beings attack cat open present cat repping trump yo",
         "_deepnote_index_column": 19904
        },
        {
         "final_tweet": "excite man attack computed tomography open present cat repping trump yo",
         "_deepnote_index_column": 19905
        },
        {
         "final_tweet": "excite human beings attack computed tomography open present cat repping trump yo",
         "_deepnote_index_column": 19906
        },
        {
         "final_tweet": "excite man attempt cat open present kat repping trump yo",
         "_deepnote_index_column": 19907
        },
        {
         "final_tweet": "allahsoil say muslim hate america suggest emirat",
         "_deepnote_index_column": 19908
        },
        {
         "final_tweet": "allahsoil say muslims detest america suggest emirat",
         "_deepnote_index_column": 19909
        },
        {
         "final_tweet": "allahsoil say moslem hate america suggest emirat",
         "_deepnote_index_column": 19910
        },
        {
         "final_tweet": "allahsoil say muslims hate america paint a picture emirat",
         "_deepnote_index_column": 19911
        },
        {
         "final_tweet": "allahsoil say muslim hate america propose emirat",
         "_deepnote_index_column": 19912
        },
        {
         "final_tweet": "allahsoil say muslims hate america suggest emirat",
         "_deepnote_index_column": 19913
        },
        {
         "final_tweet": "allahsoil say muslims hate america suggest emirat",
         "_deepnote_index_column": 19914
        },
        {
         "final_tweet": "allahsoil enunciate muslims hate america suggest emirat",
         "_deepnote_index_column": 19915
        },
        {
         "final_tweet": "allahsoil say muslims hate america propose emirat",
         "_deepnote_index_column": 19916
        },
        {
         "final_tweet": "allahsoil order muslims hate america suggest emirat",
         "_deepnote_index_column": 19917
        },
        {
         "final_tweet": "allahsoil say muslims hate america suggest emirat",
         "_deepnote_index_column": 19918
        },
        {
         "final_tweet": "allahsoil say muslim detest america suggest emirat",
         "_deepnote_index_column": 19919
        },
        {
         "final_tweet": "allahsoil say muslims detest america advise emirat",
         "_deepnote_index_column": 19920
        },
        {
         "final_tweet": "allahsoil say moslem detest america suggest emirat",
         "_deepnote_index_column": 19921
        },
        {
         "final_tweet": "typical lie leftist thats slander grp christian dont down christia",
         "_deepnote_index_column": 19922
        },
        {
         "final_tweet": "typical lie leftist thats slander grp christians dont obliterate christia",
         "_deepnote_index_column": 19923
        },
        {
         "final_tweet": "distinctive trygve lie leftist thats slander grp christians dont kill christia",
         "_deepnote_index_column": 19924
        },
        {
         "final_tweet": "typical lie left wing thats slander grp christian dont kill christia",
         "_deepnote_index_column": 19925
        },
        {
         "final_tweet": "typical lie leftist thats sully grp christians dont kill christia",
         "_deepnote_index_column": 19926
        },
        {
         "final_tweet": "typical prevarication leftist thats besmirch grp christian dont kill christia",
         "_deepnote_index_column": 19927
        },
        {
         "final_tweet": "typical lie left wing thats denigrate grp christian dont kill christia",
         "_deepnote_index_column": 19928
        },
        {
         "final_tweet": "distinctive lie leftist thats sully grp christians dont kill christia",
         "_deepnote_index_column": 19929
        },
        {
         "final_tweet": "typical lie leftist thats besmirch grp christians dont kill christia",
         "_deepnote_index_column": 19930
        },
        {
         "final_tweet": "typical lie leftist thats slander grp christian dont kill christia",
         "_deepnote_index_column": 19931
        },
        {
         "final_tweet": "typical lie leftist thats smirch grp christian dont kill christia",
         "_deepnote_index_column": 19932
        },
        {
         "final_tweet": "typical lie leftist thats slander grp christian dont stamp out christia",
         "_deepnote_index_column": 19933
        },
        {
         "final_tweet": "typical trygve lie left wing thats slander grp christians dont stamp out christia",
         "_deepnote_index_column": 19934
        },
        {
         "final_tweet": "distinctive trygve lie leftist thats slander grp christians dont kill christia",
         "_deepnote_index_column": 19935
        },
        {
         "final_tweet": "white flight derek pitch dark klan trump change",
         "_deepnote_index_column": 19936
        },
        {
         "final_tweet": "ashen flight derek black kkk trump change",
         "_deepnote_index_column": 19937
        },
        {
         "final_tweet": "white flight derek black kkk trump alteration",
         "_deepnote_index_column": 19938
        },
        {
         "final_tweet": "white trajectory derek black klan trump change",
         "_deepnote_index_column": 19939
        },
        {
         "final_tweet": "white flight derek black ku klux klan trump change",
         "_deepnote_index_column": 19940
        },
        {
         "final_tweet": "blank flight derek black kkk trump modification",
         "_deepnote_index_column": 19941
        },
        {
         "final_tweet": "lily white flight derek black kkk cornet change",
         "_deepnote_index_column": 19942
        },
        {
         "final_tweet": "bloodless flight derek black kkk cornet change",
         "_deepnote_index_column": 19943
        },
        {
         "final_tweet": "white flight derek black kkk trumpet change",
         "_deepnote_index_column": 19944
        },
        {
         "final_tweet": "white flight of stairs derek black kkk trump change",
         "_deepnote_index_column": 19945
        },
        {
         "final_tweet": "clean flight derek black kkk trump variety",
         "_deepnote_index_column": 19946
        },
        {
         "final_tweet": "white flight derek pitch dark klan trump change",
         "_deepnote_index_column": 19947
        },
        {
         "final_tweet": "white flying derek black ku klux klan trump change",
         "_deepnote_index_column": 19948
        },
        {
         "final_tweet": "ashen flight derek black kkk trump variety",
         "_deepnote_index_column": 19949
        },
        {
         "final_tweet": "hillaryclinton call homophobic woman hater really mean green eyed wh",
         "_deepnote_index_column": 19950
        },
        {
         "final_tweet": "hillaryclinton call homophobic misogynist really mean overjealous wh",
         "_deepnote_index_column": 19951
        },
        {
         "final_tweet": "hillaryclinton call homophobic misogynist truly mean envious wh",
         "_deepnote_index_column": 19952
        },
        {
         "final_tweet": "hillaryclinton call homophobic misogynist really mean jealous wh",
         "_deepnote_index_column": 19953
        },
        {
         "final_tweet": "hillaryclinton shout homophobic misogynist really mean overjealous wh",
         "_deepnote_index_column": 19954
        },
        {
         "final_tweet": "hillaryclinton call homophobic woman hater real mean jealous wh",
         "_deepnote_index_column": 19955
        },
        {
         "final_tweet": "hillaryclinton call homophobic woman hater really mean jealous wh",
         "_deepnote_index_column": 19956
        },
        {
         "final_tweet": "hillaryclinton yell homophobic misogynist really mean covetous wh",
         "_deepnote_index_column": 19957
        },
        {
         "final_tweet": "hillaryclinton call homophobic woman hater really mean covetous wh",
         "_deepnote_index_column": 19958
        },
        {
         "final_tweet": "hillaryclinton call homophobic woman hater really base jealous wh",
         "_deepnote_index_column": 19959
        },
        {
         "final_tweet": "hillaryclinton claim homophobic misogynist genuinely mean jealous wh",
         "_deepnote_index_column": 19960
        },
        {
         "final_tweet": "hillaryclinton call homophobic misogynist really mean overjealous wh",
         "_deepnote_index_column": 19961
        },
        {
         "final_tweet": "hillaryclinton margin call homophobic misogynist real mean jealous wh",
         "_deepnote_index_column": 19962
        },
        {
         "final_tweet": "hillaryclinton call homophobic misogynist really mean covetous wh",
         "_deepnote_index_column": 19963
        },
        {
         "final_tweet": "imbecile make blood boil pig liar",
         "_deepnote_index_column": 19964
        },
        {
         "final_tweet": "idiot defecate blood boil pig liar",
         "_deepnote_index_column": 19965
        },
        {
         "final_tweet": "idiot establish blood boil pig liar",
         "_deepnote_index_column": 19966
        },
        {
         "final_tweet": "idiot make blood boil pig prevaricator",
         "_deepnote_index_column": 19967
        },
        {
         "final_tweet": "idiot make line of descent boil pig liar",
         "_deepnote_index_column": 19968
        },
        {
         "final_tweet": "idiot make blood boil pig prevaricator",
         "_deepnote_index_column": 19969
        },
        {
         "final_tweet": "idiot make blood furuncle pig liar",
         "_deepnote_index_column": 19970
        },
        {
         "final_tweet": "idiot make blood boil pig prevaricator",
         "_deepnote_index_column": 19971
        },
        {
         "final_tweet": "idiot make blood boil cop liar",
         "_deepnote_index_column": 19972
        },
        {
         "final_tweet": "moron make blood boil pig liar",
         "_deepnote_index_column": 19973
        },
        {
         "final_tweet": "idiot make parentage boil pig liar",
         "_deepnote_index_column": 19974
        },
        {
         "final_tweet": "idiot make blood furuncle pig liar",
         "_deepnote_index_column": 19975
        },
        {
         "final_tweet": "idiot make blood furuncle pig liar",
         "_deepnote_index_column": 19976
        },
        {
         "final_tweet": "idiot create blood boil pig liar",
         "_deepnote_index_column": 19977
        },
        {
         "final_tweet": "innocent would love gollybar allege every irish kid ever so",
         "_deepnote_index_column": 19978
        },
        {
         "final_tweet": "innocent would love gollybar say every irish kid ever",
         "_deepnote_index_column": 19979
        },
        {
         "final_tweet": "innocent would lie with gollybar say every irish tyke ever",
         "_deepnote_index_column": 19980
        },
        {
         "final_tweet": "innocent would love gollybar say every irish people kyd ever",
         "_deepnote_index_column": 19981
        },
        {
         "final_tweet": "innocent would love gollybar say every irish kid e'er",
         "_deepnote_index_column": 19982
        },
        {
         "final_tweet": "inexperienced person would love gollybar say every irish small fry ever",
         "_deepnote_index_column": 19983
        },
        {
         "final_tweet": "innocent would make out gollybar say every irish child ever",
         "_deepnote_index_column": 19984
        },
        {
         "final_tweet": "innocent would bang gollybar say every irish kid ever",
         "_deepnote_index_column": 19985
        },
        {
         "final_tweet": "innocent would enjoy gollybar say every irish kid ever",
         "_deepnote_index_column": 19986
        },
        {
         "final_tweet": "inexperienced person would love gollybar say every irish kid ever",
         "_deepnote_index_column": 19987
        },
        {
         "final_tweet": "inexperienced person would love gollybar say every irish kyd ever",
         "_deepnote_index_column": 19988
        },
        {
         "final_tweet": "inexperienced person would love gollybar say every irish kid ever",
         "_deepnote_index_column": 19989
        },
        {
         "final_tweet": "inexperienced person would love gollybar say every irish minor ever",
         "_deepnote_index_column": 19990
        },
        {
         "final_tweet": "innocent would love gollybar enunciate every irish kid ever",
         "_deepnote_index_column": 19991
        },
        {
         "final_tweet": "deafen silence anti racist militant regard porn punishing comprehend htt",
         "_deepnote_index_column": 19992
        },
        {
         "final_tweet": "deafen secretiveness anti racist activists regard porn voiceless comprehend htt",
         "_deepnote_index_column": 19993
        },
        {
         "final_tweet": "deafen silence anti antiblack activists consider porn hard comprehend htt",
         "_deepnote_index_column": 19994
        },
        {
         "final_tweet": "deafen secrecy anti racist activists consider porn hard comprehend htt",
         "_deepnote_index_column": 19995
        },
        {
         "final_tweet": "deafen silence anti racist activists regard porn hard comprehend htt",
         "_deepnote_index_column": 19996
        },
        {
         "final_tweet": "deafen silence anti racist activists view porn hard comprehend htt",
         "_deepnote_index_column": 19997
        },
        {
         "final_tweet": "deafen silence anti racist activists regard porn heavy comprehend htt",
         "_deepnote_index_column": 19998
        },
        {
         "final_tweet": "deafen muteness anti racist activists affect porn hard comprehend htt",
         "_deepnote_index_column": 19999
        },
        {
         "final_tweet": "deafen silence anti anti semite activists regard porn hard comprehend htt",
         "_deepnote_index_column": 20000
        },
        {
         "final_tweet": "deafen silence anti racist activists affect porn hard comprehend htt",
         "_deepnote_index_column": 20001
        },
        {
         "final_tweet": "deafen silence anti racist activists regard porn surd comprehend htt",
         "_deepnote_index_column": 20002
        },
        {
         "final_tweet": "deafen silence anti racist activists affect porn hard comprehend htt",
         "_deepnote_index_column": 20003
        },
        {
         "final_tweet": "deafen secrecy anti racist activists regard porn hard comprehend htt",
         "_deepnote_index_column": 20004
        },
        {
         "final_tweet": "deafen secrecy anti anti semite activists regard porn voiceless comprehend htt",
         "_deepnote_index_column": 20005
        },
        {
         "final_tweet": "name women best bare blonde teenagers",
         "_deepnote_index_column": 20006
        },
        {
         "final_tweet": "name women best au naturel blonde teenagers",
         "_deepnote_index_column": 20007
        },
        {
         "final_tweet": "name adult female best nude blonde teenagers",
         "_deepnote_index_column": 20008
        },
        {
         "final_tweet": "name women best bare blonde teenagers",
         "_deepnote_index_column": 20009
        },
        {
         "final_tweet": "name women best nude blond teenagers",
         "_deepnote_index_column": 20010
        },
        {
         "final_tweet": "name women best bare blonde teenagers",
         "_deepnote_index_column": 20011
        },
        {
         "final_tweet": "name women best nude blonde teenager",
         "_deepnote_index_column": 20012
        },
        {
         "final_tweet": "name women best bare blonde teenagers",
         "_deepnote_index_column": 20013
        },
        {
         "final_tweet": "name woman best nude blonde teenagers",
         "_deepnote_index_column": 20014
        },
        {
         "final_tweet": "name women best naked blonde teenagers",
         "_deepnote_index_column": 20015
        },
        {
         "final_tweet": "name adult female best nude blonde teenagers",
         "_deepnote_index_column": 20016
        },
        {
         "final_tweet": "name women best nude blonde teen",
         "_deepnote_index_column": 20017
        },
        {
         "final_tweet": "name women best nude blond teenagers",
         "_deepnote_index_column": 20018
        },
        {
         "final_tweet": "figure women best nude blonde teenagers",
         "_deepnote_index_column": 20019
        },
        {
         "final_tweet": "cud wud blackonblack antiblackness dogwhistle blacklives",
         "_deepnote_index_column": 20020
        },
        {
         "final_tweet": "cud wud blackonblack antiblackness dogwhistle blacklives",
         "_deepnote_index_column": 20021
        },
        {
         "final_tweet": "cud wud blackonblack antiblackness dogwhistle blacklives",
         "_deepnote_index_column": 20022
        },
        {
         "final_tweet": "cud wud blackonblack antiblackness dogwhistle blacklives",
         "_deepnote_index_column": 20023
        },
        {
         "final_tweet": "cud wud blackonblack antiblackness dogwhistle blacklives",
         "_deepnote_index_column": 20024
        },
        {
         "final_tweet": "cud wud blackonblack antiblackness dogwhistle blacklives",
         "_deepnote_index_column": 20025
        },
        {
         "final_tweet": "wad wud blackonblack antiblackness dogwhistle blacklives",
         "_deepnote_index_column": 20026
        },
        {
         "final_tweet": "cud wud blackonblack antiblackness dogwhistle blacklives",
         "_deepnote_index_column": 20027
        },
        {
         "final_tweet": "cud wud blackonblack antiblackness dogwhistle blacklives",
         "_deepnote_index_column": 20028
        },
        {
         "final_tweet": "cud wud blackonblack antiblackness dogwhistle blacklives",
         "_deepnote_index_column": 20029
        },
        {
         "final_tweet": "cud wud blackonblack antiblackness dogwhistle blacklives",
         "_deepnote_index_column": 20030
        },
        {
         "final_tweet": "chew wud blackonblack antiblackness dogwhistle blacklives",
         "_deepnote_index_column": 20031
        },
        {
         "final_tweet": "cud wud blackonblack antiblackness dogwhistle blacklives",
         "_deepnote_index_column": 20032
        },
        {
         "final_tweet": "cud wud blackonblack antiblackness dogwhistle blacklives",
         "_deepnote_index_column": 20033
        },
        {
         "final_tweet": "j speed of light penney employee hold client headlock wow havent respond corporatebs boycottjcpenney",
         "_deepnote_index_column": 20034
        },
        {
         "final_tweet": "j c penney employee hold client headlock thigh slapper havent respond corporatebs boycottjcpenney",
         "_deepnote_index_column": 20035
        },
        {
         "final_tweet": "j 100 penney employee hold client headlock wow havent respond corporatebs boycottjcpenney",
         "_deepnote_index_column": 20036
        },
        {
         "final_tweet": "watt second c penney employee hold customer headlock wow havent respond corporatebs boycottjcpenney",
         "_deepnote_index_column": 20037
        },
        {
         "final_tweet": "joule c penney employee throw customer headlock wow havent respond corporatebs boycottjcpenney",
         "_deepnote_index_column": 20038
        },
        {
         "final_tweet": "j c penney employee book customer headlock howler havent respond corporatebs boycottjcpenney",
         "_deepnote_index_column": 20039
        },
        {
         "final_tweet": "watt second c penney employee hold customer headlock wow havent respond corporatebs boycottjcpenney",
         "_deepnote_index_column": 20040
        },
        {
         "final_tweet": "watt second c penney employee hold client headlock wow havent respond corporatebs boycottjcpenney",
         "_deepnote_index_column": 20041
        },
        {
         "final_tweet": "joule c penney employee hold customer headlock wow havent respond corporatebs boycottjcpenney",
         "_deepnote_index_column": 20042
        },
        {
         "final_tweet": "joule c penney employee hold customer headlock wow havent respond corporatebs boycottjcpenney",
         "_deepnote_index_column": 20043
        },
        {
         "final_tweet": "j c penney employee hold customer headlock wow havent respond corporatebs boycottjcpenney",
         "_deepnote_index_column": 20044
        },
        {
         "final_tweet": "j c penney employee bear client headlock wow havent respond corporatebs boycottjcpenney",
         "_deepnote_index_column": 20045
        },
        {
         "final_tweet": "joule c penney employee have customer headlock wow havent respond corporatebs boycottjcpenney",
         "_deepnote_index_column": 20046
        },
        {
         "final_tweet": "j c penney employee obligate customer headlock wow havent respond corporatebs boycottjcpenney",
         "_deepnote_index_column": 20047
        },
        {
         "final_tweet": "carlpaladino gossip obamas make previous contender loathsome character",
         "_deepnote_index_column": 20048
        },
        {
         "final_tweet": "carlpaladino scuttlebutt obamas make late challenger loathsome character",
         "_deepnote_index_column": 20049
        },
        {
         "final_tweet": "carlpaladino comment obamas urinate later contender loathsome character",
         "_deepnote_index_column": 20050
        },
        {
         "final_tweet": "carlpaladino comment obamas progress to belated contender loathsome character",
         "_deepnote_index_column": 20051
        },
        {
         "final_tweet": "carlpaladino comment obamas build tardy contender loathsome character",
         "_deepnote_index_column": 20052
        },
        {
         "final_tweet": "carlpaladino comment obamas arrive at late contender loathsome character",
         "_deepnote_index_column": 20053
        },
        {
         "final_tweet": "carlpaladino comment obamas make late contender loathsome part",
         "_deepnote_index_column": 20054
        },
        {
         "final_tweet": "carlpaladino gossip obamas make belated contender loathsome character",
         "_deepnote_index_column": 20055
        },
        {
         "final_tweet": "carlpaladino comment obamas make late contender loathsome grapheme",
         "_deepnote_index_column": 20056
        },
        {
         "final_tweet": "carlpaladino gossip obamas gain late contender loathsome character",
         "_deepnote_index_column": 20057
        },
        {
         "final_tweet": "carlpaladino comment obamas make late competitor loathsome character",
         "_deepnote_index_column": 20058
        },
        {
         "final_tweet": "carlpaladino input obamas make later contender loathsome character",
         "_deepnote_index_column": 20059
        },
        {
         "final_tweet": "carlpaladino comment obamas pee late contender loathsome quality",
         "_deepnote_index_column": 20060
        },
        {
         "final_tweet": "carlpaladino comment obamas make late contender loathsome character",
         "_deepnote_index_column": 20061
        },
        {
         "final_tweet": "obama destructive president history amp legend isis iran copkiller syria",
         "_deepnote_index_column": 20062
        },
        {
         "final_tweet": "obama destructive united states president history amp legend isis iran copkiller syria",
         "_deepnote_index_column": 20063
        },
        {
         "final_tweet": "obama destructive president history amp legend isis islamic republic of iran copkiller syria",
         "_deepnote_index_column": 20064
        },
        {
         "final_tweet": "obama destructive president history amp fable directorate for inter services intelligence iran copk…",
         "_deepnote_index_column": 20065
        },
        {
         "final_tweet": "obama destructive chairman history amp legend inter services intelligence iran copkiller syria",
         "_deepnote_index_column": 20066
        },
        {
         "final_tweet": "obama destructive president history amp legend isi iran copkiller syrian arab republic",
         "_deepnote_index_column": 20067
        },
        {
         "final_tweet": "obama destructive president history amp legend directorate for inter services intelligence persia c…",
         "_deepnote_index_column": 20068
        },
        {
         "final_tweet": "obama destructive president history amp caption isis persia copkiller syria",
         "_deepnote_index_column": 20069
        },
        {
         "final_tweet": "obama destructive president account amp legend isi iran copkiller syria",
         "_deepnote_index_column": 20070
        },
        {
         "final_tweet": "obama destructive prexy account amp legend isis iran copkiller syria",
         "_deepnote_index_column": 20071
        },
        {
         "final_tweet": "obama destructive president of the united states history amp legend isis persia copkiller syria",
         "_deepnote_index_column": 20072
        },
        {
         "final_tweet": "obama destructive president story amp legend isis iran copkiller syrian arab republic",
         "_deepnote_index_column": 20073
        },
        {
         "final_tweet": "obama destructive president history amp caption isi islamic republic of iran copkiller syria",
         "_deepnote_index_column": 20074
        },
        {
         "final_tweet": "obama destructive prexy history amp legend directorate for inter services intelligence iran copkill…",
         "_deepnote_index_column": 20075
        },
        {
         "final_tweet": "agree true overutilisation term result fast become meaningless",
         "_deepnote_index_column": 20076
        },
        {
         "final_tweet": "agree true overexploitation term result fast become meaningless",
         "_deepnote_index_column": 20077
        },
        {
         "final_tweet": "agree truthful overuse condition result fast become meaningless",
         "_deepnote_index_column": 20078
        },
        {
         "final_tweet": "agree true overuse term result fast become meaningless",
         "_deepnote_index_column": 20079
        },
        {
         "final_tweet": "agree dead on target overuse terminal figure result fast become meaningless",
         "_deepnote_index_column": 20080
        },
        {
         "final_tweet": "agree true overutilisation term result tight become meaningless",
         "_deepnote_index_column": 20081
        },
        {
         "final_tweet": "agree true overuse term result fast become meaningless",
         "_deepnote_index_column": 20082
        },
        {
         "final_tweet": "agree unfeigned overuse full term result fast become meaningless",
         "_deepnote_index_column": 20083
        },
        {
         "final_tweet": "agree true overuse term final result fast become meaningless",
         "_deepnote_index_column": 20084
        },
        {
         "final_tweet": "agree true overutilisation term result fast become meaningless",
         "_deepnote_index_column": 20085
        },
        {
         "final_tweet": "agree true overuse term consequence fast become meaningless",
         "_deepnote_index_column": 20086
        },
        {
         "final_tweet": "agree straight overuse term event fast become meaningless",
         "_deepnote_index_column": 20087
        },
        {
         "final_tweet": "agree true overexploitation term result fast become meaningless",
         "_deepnote_index_column": 20088
        },
        {
         "final_tweet": "agree true overutilisation term result fast become meaningless",
         "_deepnote_index_column": 20089
        },
        {
         "final_tweet": "late post mass kinda monster democracy",
         "_deepnote_index_column": 20090
        },
        {
         "final_tweet": "latest post mass kinda monster commonwealth",
         "_deepnote_index_column": 20091
        },
        {
         "final_tweet": "late post mass kinda monster democracy",
         "_deepnote_index_column": 20092
        },
        {
         "final_tweet": "latest post mass kinda monster majority rule",
         "_deepnote_index_column": 20093
        },
        {
         "final_tweet": "former post mass kinda monster democracy",
         "_deepnote_index_column": 20094
        },
        {
         "final_tweet": "latest post mass kinda monstrosity democracy",
         "_deepnote_index_column": 20095
        },
        {
         "final_tweet": "in style post mass kinda monster democracy",
         "_deepnote_index_column": 20096
        },
        {
         "final_tweet": "latest post mass kinda monster democracy",
         "_deepnote_index_column": 20097
        },
        {
         "final_tweet": "latest post mass kinda lusus naturae democracy",
         "_deepnote_index_column": 20098
        },
        {
         "final_tweet": "latest post mass kinda monster republic",
         "_deepnote_index_column": 20099
        },
        {
         "final_tweet": "latest post mass kinda monster democracy",
         "_deepnote_index_column": 20100
        },
        {
         "final_tweet": "latest post great deal kinda monster democracy",
         "_deepnote_index_column": 20101
        },
        {
         "final_tweet": "latest post mass kinda monster majority rule",
         "_deepnote_index_column": 20102
        },
        {
         "final_tweet": "latest post wad kinda monster democracy",
         "_deepnote_index_column": 20103
        },
        {
         "final_tweet": "need change profile economicapahied hatespeech get service poor",
         "_deepnote_index_column": 20104
        },
        {
         "final_tweet": "need alteration profile economicapahied hatespeech get service poor",
         "_deepnote_index_column": 20105
        },
        {
         "final_tweet": "need change visibility economicapahied hatespeech get service poor",
         "_deepnote_index_column": 20106
        },
        {
         "final_tweet": "need change visibility economicapahied hatespeech get service poor",
         "_deepnote_index_column": 20107
        },
        {
         "final_tweet": "motivation change profile economicapahied hatespeech get service poor",
         "_deepnote_index_column": 20108
        },
        {
         "final_tweet": "need modification profile economicapahied hatespeech get service short",
         "_deepnote_index_column": 20109
        },
        {
         "final_tweet": "need variety profile economicapahied hatespeech get service hapless",
         "_deepnote_index_column": 20110
        },
        {
         "final_tweet": "need change profile economicapahied hatespeech get service poor",
         "_deepnote_index_column": 20111
        },
        {
         "final_tweet": "need change visibility economicapahied hatespeech get service pathetic",
         "_deepnote_index_column": 20112
        },
        {
         "final_tweet": "need variety profile economicapahied hatespeech get service inadequate",
         "_deepnote_index_column": 20113
        },
        {
         "final_tweet": "need change profile economicapahied hatespeech get table service poor",
         "_deepnote_index_column": 20114
        },
        {
         "final_tweet": "demand change profile economicapahied hatespeech get service poor",
         "_deepnote_index_column": 20115
        },
        {
         "final_tweet": "need change profile economicapahied hatespeech get religious service poor",
         "_deepnote_index_column": 20116
        },
        {
         "final_tweet": "pauperization change visibility economicapahied hatespeech get service poor",
         "_deepnote_index_column": 20117
        },
        {
         "final_tweet": "outrage emoji update daring rich woman fat man say cleaning lady get fat",
         "_deepnote_index_column": 20118
        },
        {
         "final_tweet": "outrage emoji update dare juicy woman fat man say women get rich",
         "_deepnote_index_column": 20119
        },
        {
         "final_tweet": "outrage emoji update dare productive woman fat man tell women get fertile",
         "_deepnote_index_column": 20120
        },
        {
         "final_tweet": "outrage emoji update dare fatty woman fat man say women get under one's skin fat",
         "_deepnote_index_column": 20121
        },
        {
         "final_tweet": "scandalization emoji update dare fat woman fat man say woman get juicy",
         "_deepnote_index_column": 20122
        },
        {
         "final_tweet": "outrage emoji update dare fat woman fat man tell woman get fat",
         "_deepnote_index_column": 20123
        },
        {
         "final_tweet": "scandal emoji update daring fat woman fat man say women get fat",
         "_deepnote_index_column": 20124
        },
        {
         "final_tweet": "outrage emoji update daring fat cleaning woman fat man say woman get fat",
         "_deepnote_index_column": 20125
        },
        {
         "final_tweet": "outrage emoji update dare fat woman fertile man say women get fat",
         "_deepnote_index_column": 20126
        },
        {
         "final_tweet": "outrage emoji update daring fat woman fatty human race say women get fat",
         "_deepnote_index_column": 20127
        },
        {
         "final_tweet": "outrage emoji update dare fat woman fertile isle of man say women get fertile",
         "_deepnote_index_column": 20128
        },
        {
         "final_tweet": "scandal emoji update dare fat char fat man say women get productive",
         "_deepnote_index_column": 20129
        },
        {
         "final_tweet": "outrage emoji update daring fertile woman fat man say women get fat",
         "_deepnote_index_column": 20130
        },
        {
         "final_tweet": "indignation emoji update dare fat woman fertile valet de chambre say women get fat",
         "_deepnote_index_column": 20131
        },
        {
         "final_tweet": "malia shake ass fine pass blunt",
         "_deepnote_index_column": 20132
        },
        {
         "final_tweet": "malia shake ass fine liberty chit blunt",
         "_deepnote_index_column": 20133
        },
        {
         "final_tweet": "malia shake ass fine bye blunt",
         "_deepnote_index_column": 20134
        },
        {
         "final_tweet": "malia shake ass fine pass blunt",
         "_deepnote_index_column": 20135
        },
        {
         "final_tweet": "malia shake ass fine pass blunt",
         "_deepnote_index_column": 20136
        },
        {
         "final_tweet": "malia shake off ass fine pass blunt",
         "_deepnote_index_column": 20137
        },
        {
         "final_tweet": "malia shake ass ok pass blunt",
         "_deepnote_index_column": 20138
        },
        {
         "final_tweet": "malia shake ass fine pass blunt",
         "_deepnote_index_column": 20139
        },
        {
         "final_tweet": "malia shake ass all right pass blunt",
         "_deepnote_index_column": 20140
        },
        {
         "final_tweet": "malia didder ass fine pass blunt",
         "_deepnote_index_column": 20141
        },
        {
         "final_tweet": "malia shake ass hunky dory pass blunt",
         "_deepnote_index_column": 20142
        },
        {
         "final_tweet": "malia escape from ass fine pass blunt",
         "_deepnote_index_column": 20143
        },
        {
         "final_tweet": "malia shake ass fine whirl blunt",
         "_deepnote_index_column": 20144
        },
        {
         "final_tweet": "malia rock ass fine pass blunt",
         "_deepnote_index_column": 20145
        },
        {
         "final_tweet": "run hater gripe whiteknight",
         "_deepnote_index_column": 20146
        },
        {
         "final_tweet": "run hater bitch whiteknight",
         "_deepnote_index_column": 20147
        },
        {
         "final_tweet": "run hater squawk whiteknight",
         "_deepnote_index_column": 20148
        },
        {
         "final_tweet": "black market hater bitch whiteknight",
         "_deepnote_index_column": 20149
        },
        {
         "final_tweet": "run hater cunt whiteknight",
         "_deepnote_index_column": 20150
        },
        {
         "final_tweet": "flow hater bitch whiteknight",
         "_deepnote_index_column": 20151
        },
        {
         "final_tweet": "run hater squawk whiteknight",
         "_deepnote_index_column": 20152
        },
        {
         "final_tweet": "run hater bitch whiteknight",
         "_deepnote_index_column": 20153
        },
        {
         "final_tweet": "run hater bitch whiteknight",
         "_deepnote_index_column": 20154
        },
        {
         "final_tweet": "run hater cunt whiteknight",
         "_deepnote_index_column": 20155
        },
        {
         "final_tweet": "run hater bitch whiteknight",
         "_deepnote_index_column": 20156
        },
        {
         "final_tweet": "take to the woods hater bitch whiteknight",
         "_deepnote_index_column": 20157
        },
        {
         "final_tweet": "run hater cunt whiteknight",
         "_deepnote_index_column": 20158
        },
        {
         "final_tweet": "run hater kick whiteknight",
         "_deepnote_index_column": 20159
        },
        {
         "final_tweet": "shop purge trump products believe canadians",
         "_deepnote_index_column": 20160
        },
        {
         "final_tweet": "workshop purge trump products think canadians",
         "_deepnote_index_column": 20161
        },
        {
         "final_tweet": "shop purge trump products guess canadians",
         "_deepnote_index_column": 20162
        },
        {
         "final_tweet": "shop purge trump production think canadians",
         "_deepnote_index_column": 20163
        },
        {
         "final_tweet": "shop purge trump production think canadians",
         "_deepnote_index_column": 20164
        },
        {
         "final_tweet": "shop purge trump products suppose canadians",
         "_deepnote_index_column": 20165
        },
        {
         "final_tweet": "shop purging trump products think canadians",
         "_deepnote_index_column": 20166
        },
        {
         "final_tweet": "shop purging trump products think canadians",
         "_deepnote_index_column": 20167
        },
        {
         "final_tweet": "shop purge trump products remember canadians",
         "_deepnote_index_column": 20168
        },
        {
         "final_tweet": "shop purge cornet products think canadians",
         "_deepnote_index_column": 20169
        },
        {
         "final_tweet": "shop purging trump products think canadians",
         "_deepnote_index_column": 20170
        },
        {
         "final_tweet": "shop purging trump products think canadians",
         "_deepnote_index_column": 20171
        },
        {
         "final_tweet": "shop purge trump card products think canadians",
         "_deepnote_index_column": 20172
        },
        {
         "final_tweet": "shop purgation trump products think canadians",
         "_deepnote_index_column": 20173
        },
        {
         "final_tweet": "win douchelord year good work dickhole douchebag asshole yousuck mysoginist bigot care",
         "_deepnote_index_column": 20174
        },
        {
         "final_tweet": "winnings douchelord twelvemonth good work dickhole douchebag asshole yousuck mysoginist bigot vener…",
         "_deepnote_index_column": 20175
        },
        {
         "final_tweet": "win douchelord year unspoiled work dickhole douchebag asshole yousuck mysoginist bigot fear",
         "_deepnote_index_column": 20176
        },
        {
         "final_tweet": "win douchelord yr good work dickhole douchebag asshole yousuck mysoginist bigot fear",
         "_deepnote_index_column": 20177
        },
        {
         "final_tweet": "win douchelord yr good study dickhole douchebag asshole yousuck mysoginist bigot care",
         "_deepnote_index_column": 20178
        },
        {
         "final_tweet": "win douchelord year beneficial work dickhole douchebag asshole yousuck mysoginist bigot fear",
         "_deepnote_index_column": 20179
        },
        {
         "final_tweet": "winnings douchelord year good work dickhole douchebag asshole yousuck mysoginist bigot reverence",
         "_deepnote_index_column": 20180
        },
        {
         "final_tweet": "win douchelord class good work dickhole douchebag asshole yousuck mysoginist bigot fear",
         "_deepnote_index_column": 20181
        },
        {
         "final_tweet": "win douchelord year good workplace dickhole douchebag asshole yousuck mysoginist bigot care",
         "_deepnote_index_column": 20182
        },
        {
         "final_tweet": "profits douchelord year safe work dickhole douchebag asshole yousuck mysoginist bigot fear",
         "_deepnote_index_column": 20183
        },
        {
         "final_tweet": "win douchelord year good work dickhole douchebag asshole yousuck mysoginist bigot fear",
         "_deepnote_index_column": 20184
        },
        {
         "final_tweet": "win douchelord year well employment dickhole douchebag asshole yousuck mysoginist bigot fear",
         "_deepnote_index_column": 20185
        },
        {
         "final_tweet": "win douchelord year in effect work dickhole douchebag asshole yousuck mysoginist bigot fear",
         "_deepnote_index_column": 20186
        },
        {
         "final_tweet": "win douchelord year good work dickhole douchebag asshole yousuck mysoginist bigot fear",
         "_deepnote_index_column": 20187
        },
        {
         "final_tweet": "allahsoil jews christians muslims conceive unspoilt prevail cnn bbc msnbc",
         "_deepnote_index_column": 20188
        },
        {
         "final_tweet": "allahsoil jew christian muslims believe estimable prevail cnn bbc msnbc",
         "_deepnote_index_column": 20189
        },
        {
         "final_tweet": "allahsoil israelite christians muslims believe good prevail cnn bbc msnbc",
         "_deepnote_index_column": 20190
        },
        {
         "final_tweet": "allahsoil jews christians moslem believe good prevail cnn bbc msnbc",
         "_deepnote_index_column": 20191
        },
        {
         "final_tweet": "allahsoil hebrew christian muslims believe good prevail cnn bbc msnbc",
         "_deepnote_index_column": 20192
        },
        {
         "final_tweet": "allahsoil jews christians muslims think good prevail cnn bbc msnbc",
         "_deepnote_index_column": 20193
        },
        {
         "final_tweet": "allahsoil jews christians moslem conceive secure prevail cnn bbc msnbc",
         "_deepnote_index_column": 20194
        },
        {
         "final_tweet": "allahsoil jews christians moslem believe good prevail cnn bbc msnbc",
         "_deepnote_index_column": 20195
        },
        {
         "final_tweet": "allahsoil israelite christians muslims believe good prevail cnn bbc msnbc",
         "_deepnote_index_column": 20196
        },
        {
         "final_tweet": "allahsoil jews christians muslim believe good prevail cnn bbc msnbc",
         "_deepnote_index_column": 20197
        },
        {
         "final_tweet": "allahsoil hebrew christians muslims believe proficient prevail cnn bbc msnbc",
         "_deepnote_index_column": 20198
        },
        {
         "final_tweet": "allahsoil jews christians moslem believe unspoiled prevail cnn bbc msnbc",
         "_deepnote_index_column": 20199
        },
        {
         "final_tweet": "allahsoil hebrew christians muslims believe estimable prevail cnn bbc msnbc",
         "_deepnote_index_column": 20200
        },
        {
         "final_tweet": "allahsoil hebrew christians muslims trust good prevail cnn bbc msnbc",
         "_deepnote_index_column": 20201
        },
        {
         "final_tweet": "lgbti poc need speak rife within lgbti community unsufferable",
         "_deepnote_index_column": 20202
        },
        {
         "final_tweet": "lgbti poc need speak rife within lgbti community unacceptable",
         "_deepnote_index_column": 20203
        },
        {
         "final_tweet": "lgbti poc need speak rife within lgbti biotic community unacceptable",
         "_deepnote_index_column": 20204
        },
        {
         "final_tweet": "lgbti poc take speak rife within lgbti community unacceptable",
         "_deepnote_index_column": 20205
        },
        {
         "final_tweet": "lgbti poc call for speak rife within lgbti community unacceptable",
         "_deepnote_index_column": 20206
        },
        {
         "final_tweet": "lgbti poc postulate speak rife within lgbti community unacceptable",
         "_deepnote_index_column": 20207
        },
        {
         "final_tweet": "lgbti poc need speak rife within lgbti biotic community unacceptable",
         "_deepnote_index_column": 20208
        },
        {
         "final_tweet": "lgbti poc need speak rife within lgbti community unacceptable",
         "_deepnote_index_column": 20209
        },
        {
         "final_tweet": "lgbti poc need speak rife within lgbti community unacceptable",
         "_deepnote_index_column": 20210
        },
        {
         "final_tweet": "lgbti poc need speak rife within lgbti community unacceptable",
         "_deepnote_index_column": 20211
        },
        {
         "final_tweet": "lgbti poc ask speak rife within lgbti community unacceptable",
         "_deepnote_index_column": 20212
        },
        {
         "final_tweet": "lgbti poc need speak rife within lgbti community unacceptable",
         "_deepnote_index_column": 20213
        },
        {
         "final_tweet": "lgbti poc need speak rife within lgbti community of interests unacceptable",
         "_deepnote_index_column": 20214
        },
        {
         "final_tweet": "lgbti poc need speak rife within lgbti community unacceptable",
         "_deepnote_index_column": 20215
        },
        {
         "final_tweet": "lady bc voice opinion scratch speak mind wait amp",
         "_deepnote_index_column": 20216
        },
        {
         "final_tweet": "lady bc representative opinion scar speak mind wait a",
         "_deepnote_index_column": 20217
        },
        {
         "final_tweet": "lady bc voice opinion scar speak mind delay amp",
         "_deepnote_index_column": 20218
        },
        {
         "final_tweet": "lady bc interpreter opinion scar speak mind wait amp",
         "_deepnote_index_column": 20219
        },
        {
         "final_tweet": "lady bc vocalisation opinion scar speak mind wait amp",
         "_deepnote_index_column": 20220
        },
        {
         "final_tweet": "lady bc voice opinion scar speak mind waiting amp",
         "_deepnote_index_column": 20221
        },
        {
         "final_tweet": "lady bc voice legal opinion scar speak psyche wait amp",
         "_deepnote_index_column": 20222
        },
        {
         "final_tweet": "lady bc interpreter opinion scar speak mind wait amp",
         "_deepnote_index_column": 20223
        },
        {
         "final_tweet": "lady bc voice opinion scar speak mind time lag amp",
         "_deepnote_index_column": 20224
        },
        {
         "final_tweet": "lady bc part opinion scar speak mind delay amp",
         "_deepnote_index_column": 20225
        },
        {
         "final_tweet": "lady bc voice opinion scar speak mind delay amp",
         "_deepnote_index_column": 20226
        },
        {
         "final_tweet": "lady bc voice opinion scar speak mind wait amp",
         "_deepnote_index_column": 20227
        },
        {
         "final_tweet": "lady bc voice opinion scar speak intellect wait amp",
         "_deepnote_index_column": 20228
        },
        {
         "final_tweet": "lady bc voice opinion cicatrice speak mind wait adenosine monophosphate",
         "_deepnote_index_column": 20229
        },
        {
         "final_tweet": "happy new twelvemonth bloodless people elect president treat women like crap biher awless ku klux k…",
         "_deepnote_index_column": 20230
        },
        {
         "final_tweet": "happy young year white people elect chairman treat women like crap biher aweless kkk suppoed white …",
         "_deepnote_index_column": 20231
        },
        {
         "final_tweet": "happy new year ashen people elect president treat women like crap biher awless klan suppoed lily wh…",
         "_deepnote_index_column": 20232
        },
        {
         "final_tweet": "felicitous new year white people elect president treat cleaning lady corresponding crap biher awles…",
         "_deepnote_index_column": 20233
        },
        {
         "final_tweet": "happy new class white people elect president treat women same shit biher disrespectful kkk suppoed …",
         "_deepnote_index_column": 20234
        },
        {
         "final_tweet": "happy fresh year white people elect president goody women like crap biher disrespectful kkk suppoed…",
         "_deepnote_index_column": 20235
        },
        {
         "final_tweet": "glad new year white people elect president goody women like crap biher disrespectful ku klux klan s…",
         "_deepnote_index_column": 20236
        },
        {
         "final_tweet": "happy new year white multitude elect president delicacy women like dogshit biher disrespectful kkk …",
         "_deepnote_index_column": 20237
        },
        {
         "final_tweet": "happy new year white the great unwashed elect president kickshaw women like irish bull biher disres…",
         "_deepnote_index_column": 20238
        },
        {
         "final_tweet": "happy new year white people elect united states president treat women like crap biher disrespectful…",
         "_deepnote_index_column": 20239
        },
        {
         "final_tweet": "glad new year clean people elect president treat women similar crap biher disrespectful kkk suppoed…",
         "_deepnote_index_column": 20240
        },
        {
         "final_tweet": "happy new year white people elect president goody women like shit biher disrespectful kkk suppoed w…",
         "_deepnote_index_column": 20241
        },
        {
         "final_tweet": "felicitous new year white the great unwashed elect president treat women similar crap biher awless …",
         "_deepnote_index_column": 20242
        },
        {
         "final_tweet": "happy new year white people elect president goody cleaning woman like irish bull biher disrespectfu…",
         "_deepnote_index_column": 20243
        },
        {
         "final_tweet": "end smoke reefers go crazy listen negro euphony eat mr anslinger cannabis swingtanzenverboten",
         "_deepnote_index_column": 20244
        },
        {
         "final_tweet": "end smoke reefers go crazy listen negro medicine eat mr. anslinger marijuana swingtanzenverboten",
         "_deepnote_index_column": 20245
        },
        {
         "final_tweet": "ending smoke reefers go wild listen negro music eat mr anslinger cannabis swingtanzenverboten",
         "_deepnote_index_column": 20246
        },
        {
         "final_tweet": "end smoke spliff go crazy listen negro music eat mr. anslinger cannabis swingtanzenverboten",
         "_deepnote_index_column": 20247
        },
        {
         "final_tweet": "final stage smoke reefers go crazy listen negro music eat mr anslinger cannabis swingtanzenverboten",
         "_deepnote_index_column": 20248
        },
        {
         "final_tweet": "end smoke spliff go crazy listen negro music eat mr anslinger cannabis swingtanzenverboten",
         "_deepnote_index_column": 20249
        },
        {
         "final_tweet": "end smoke reefer go crazy listen negro music eat mister anslinger cannabis swingtanzenverboten",
         "_deepnote_index_column": 20250
        },
        {
         "final_tweet": "destruction smoke reefers go crazy listen negro medicine eat mister anslinger cannabis swingtanzenv…",
         "_deepnote_index_column": 20251
        },
        {
         "final_tweet": "end smoke reefers lead sick listen negro music eat mr anslinger ganja swingtanzenverboten",
         "_deepnote_index_column": 20252
        },
        {
         "final_tweet": "end smoke reefers go crazy listen negro music eat mr anslinger cannabis swingtanzenverboten",
         "_deepnote_index_column": 20253
        },
        {
         "final_tweet": "end smoke reefers kick the bucket crazy listen negro euphony eat mr anslinger cannabis swingtanzenv…",
         "_deepnote_index_column": 20254
        },
        {
         "final_tweet": "end smoke reefers go half baked listen negro music eat mr anslinger cannabis swingtanzenverboten",
         "_deepnote_index_column": 20255
        },
        {
         "final_tweet": "end smoke marijuana cigarette go crazy listen negro medicine eat mr anslinger cannabis swingtanzenv…",
         "_deepnote_index_column": 20256
        },
        {
         "final_tweet": "end smoke spliff go crazy listen negro euphony eat mr anslinger cannabis swingtanzenverboten",
         "_deepnote_index_column": 20257
        },
        {
         "final_tweet": "say speak collectively always get laid show portion white rage nonetheless",
         "_deepnote_index_column": 20258
        },
        {
         "final_tweet": "say speak collectively always bonk show muckle white rage still",
         "_deepnote_index_column": 20259
        },
        {
         "final_tweet": "say speak collectively always know display lot white fury notwithstanding",
         "_deepnote_index_column": 20260
        },
        {
         "final_tweet": "allege speak conjointly always get it on show lot white rage still",
         "_deepnote_index_column": 20261
        },
        {
         "final_tweet": "read speak conjointly always know display lot white rage still",
         "_deepnote_index_column": 20262
        },
        {
         "final_tweet": "say speak collectively always cognise show wad white rage still",
         "_deepnote_index_column": 20263
        },
        {
         "final_tweet": "say speak conjointly always know show deal white hot rage still",
         "_deepnote_index_column": 20264
        },
        {
         "final_tweet": "enjoin speak together with always experience show lot white rage still",
         "_deepnote_index_column": 20265
        },
        {
         "final_tweet": "say speak collectively always know display lot blanched rage notwithstanding",
         "_deepnote_index_column": 20266
        },
        {
         "final_tweet": "enounce speak collectively always know show draw white furore still",
         "_deepnote_index_column": 20267
        },
        {
         "final_tweet": "say speak jointly always know show hatful clean rage still",
         "_deepnote_index_column": 20268
        },
        {
         "final_tweet": "state speak collectively always know show lot bloodless rage still",
         "_deepnote_index_column": 20269
        },
        {
         "final_tweet": "say speak collectively always know display lot livid furore still",
         "_deepnote_index_column": 20270
        },
        {
         "final_tweet": "sound out speak collectively always know show lot white rage even so",
         "_deepnote_index_column": 20271
        },
        {
         "final_tweet": "holiday better of all time marijuana unleash ibooks",
         "_deepnote_index_column": 20272
        },
        {
         "final_tweet": "vacation better ever marijuana unleash ibooks",
         "_deepnote_index_column": 20273
        },
        {
         "final_tweet": "holiday well ever marijuana unleash ibooks",
         "_deepnote_index_column": 20274
        },
        {
         "final_tweet": "vacation better ever marijuana unleash ibooks",
         "_deepnote_index_column": 20275
        },
        {
         "final_tweet": "holiday better ever marijuana unleash ibooks",
         "_deepnote_index_column": 20276
        },
        {
         "final_tweet": "holiday intimately ever marijuana unleash ibooks",
         "_deepnote_index_column": 20277
        },
        {
         "final_tweet": "holiday best ever marijuana unleash ibooks",
         "_deepnote_index_column": 20278
        },
        {
         "final_tweet": "vacation better ever marijuana unleash ibooks",
         "_deepnote_index_column": 20279
        },
        {
         "final_tweet": "holiday better ever marijuana unleash ibooks",
         "_deepnote_index_column": 20280
        },
        {
         "final_tweet": "holiday better of all time marijuana unleash ibooks",
         "_deepnote_index_column": 20281
        },
        {
         "final_tweet": "holiday better ever marijuana unleash ibooks",
         "_deepnote_index_column": 20282
        },
        {
         "final_tweet": "holiday better ever marijuana unleash ibooks",
         "_deepnote_index_column": 20283
        },
        {
         "final_tweet": "holiday better ever marijuana unleash ibooks",
         "_deepnote_index_column": 20284
        },
        {
         "final_tweet": "holiday better ever marijuana unleash ibooks",
         "_deepnote_index_column": 20285
        }
       ]
      },
      "text/plain": "                                             final_tweet\n0      obviously tcot get amp inaspanof maybe allof t...\n1      obviously tcot get amp inaspanof maybe allof t...\n2      obviously tcot get amp inaspanof peradventure ...\n3      obviously tcot get amp inaspanof maybe allof d...\n4      obviously tcot get amp inaspanof possibly allo...\n...                                                  ...\n20281  holiday better of all time marijuana unleash i...\n20282       holiday better ever marijuana unleash ibooks\n20283       holiday better ever marijuana unleash ibooks\n20284       holiday better ever marijuana unleash ibooks\n20285       holiday better ever marijuana unleash ibooks\n\n[20286 rows x 1 columns]",
      "text/html": "<div>\n<style scoped>\n    .dataframe tbody tr th:only-of-type {\n        vertical-align: middle;\n    }\n\n    .dataframe tbody tr th {\n        vertical-align: top;\n    }\n\n    .dataframe thead th {\n        text-align: right;\n    }\n</style>\n<table border=\"1\" class=\"dataframe\">\n  <thead>\n    <tr style=\"text-align: right;\">\n      <th></th>\n      <th>final_tweet</th>\n    </tr>\n  </thead>\n  <tbody>\n    <tr>\n      <th>0</th>\n      <td>obviously tcot get amp inaspanof maybe allof t...</td>\n    </tr>\n    <tr>\n      <th>1</th>\n      <td>obviously tcot get amp inaspanof maybe allof t...</td>\n    </tr>\n    <tr>\n      <th>2</th>\n      <td>obviously tcot get amp inaspanof peradventure ...</td>\n    </tr>\n    <tr>\n      <th>3</th>\n      <td>obviously tcot get amp inaspanof maybe allof d...</td>\n    </tr>\n    <tr>\n      <th>4</th>\n      <td>obviously tcot get amp inaspanof possibly allo...</td>\n    </tr>\n    <tr>\n      <th>...</th>\n      <td>...</td>\n    </tr>\n    <tr>\n      <th>20281</th>\n      <td>holiday better of all time marijuana unleash i...</td>\n    </tr>\n    <tr>\n      <th>20282</th>\n      <td>holiday better ever marijuana unleash ibooks</td>\n    </tr>\n    <tr>\n      <th>20283</th>\n      <td>holiday better ever marijuana unleash ibooks</td>\n    </tr>\n    <tr>\n      <th>20284</th>\n      <td>holiday better ever marijuana unleash ibooks</td>\n    </tr>\n    <tr>\n      <th>20285</th>\n      <td>holiday better ever marijuana unleash ibooks</td>\n    </tr>\n  </tbody>\n</table>\n<p>20286 rows × 1 columns</p>\n</div>"
     },
     "metadata": {}
    }
   ],
   "execution_count": null
  },
  {
   "cell_type": "code",
   "metadata": {
    "tags": [],
    "cell_id": "00020-c075abd1-7e77-492a-ae6a-234384a8e742",
    "deepnote_to_be_reexecuted": false,
    "source_hash": "e03adfa5",
    "execution_start": 1635690477112,
    "execution_millis": 229,
    "deepnote_cell_type": "code"
   },
   "source": "X_train_normal.append(aug_output_X_train_normal)",
   "outputs": [
    {
     "output_type": "execute_result",
     "execution_count": 26,
     "data": {
      "application/vnd.deepnote.dataframe.v2+json": {
       "row_count": 42824,
       "column_count": 1,
       "columns": [
        {
         "name": "final_tweet",
         "dtype": "object",
         "stats": {
          "unique_count": 37158,
          "nan_count": 0,
          "categories": [
           {
            "name": "come powerhungrytraitors hereticfoundation",
            "count": 15
           },
           {
            "name": "feminismiscancer feminismisterrorism feminismmuktbharat malevote ignore",
            "count": 15
           },
           {
            "name": "37156 others",
            "count": 42794
           }
          ]
         }
        },
        {
         "name": "_deepnote_index_column",
         "dtype": "int64"
        }
       ],
       "rows_top": [
        {
         "final_tweet": "guess friday barnight tipsy smilesfordays",
         "_deepnote_index_column": 0
        },
        {
         "final_tweet": "like learn super linear gameplay go open world",
         "_deepnote_index_column": 1
        },
        {
         "final_tweet": "sometimes okay selfesteem lovethyself",
         "_deepnote_index_column": 2
        },
        {
         "final_tweet": "pocohontas hope pick vp happen lie heritage",
         "_deepnote_index_column": 3
        },
        {
         "final_tweet": "like extra hotchick die uglychick die like probably suck anyways big deal",
         "_deepnote_index_column": 4
        },
        {
         "final_tweet": "truth love relationships quote natkingcole learn beyou",
         "_deepnote_index_column": 5
        },
        {
         "final_tweet": "actually stop rain bike ride cycle mtb",
         "_deepnote_index_column": 6
        },
        {
         "final_tweet": "dj webster race ep cd hardcore oldschool techno vk download",
         "_deepnote_index_column": 7
        },
        {
         "final_tweet": "remember shane tomilnson orlando pulse victim survive journey home",
         "_deepnote_index_column": 8
        },
        {
         "final_tweet": "desperately use meanness asse masculinity haiku ish boys bully angermanagement empty ghost",
         "_deepnote_index_column": 9
        },
        {
         "final_tweet": "everyone need smile today welcome cute picoftheday positive",
         "_deepnote_index_column": 10
        },
        {
         "final_tweet": "one text",
         "_deepnote_index_column": 11
        },
        {
         "final_tweet": "obviously tcot get amp inaspanof maybe allof two second board think know",
         "_deepnote_index_column": 12
        },
        {
         "final_tweet": "fitnessaddict attack bull chase leave lot despite fact strong source",
         "_deepnote_index_column": 13
        },
        {
         "final_tweet": "indoor hockey stas back tomorrow stressreliever",
         "_deepnote_index_column": 14
        },
        {
         "final_tweet": "like litle litle never saw life lovebabies smallgirl smallfingers holidayinlithuania feel love",
         "_deepnote_index_column": 15
        },
        {
         "final_tweet": "bihday donald duck",
         "_deepnote_index_column": 16
        },
        {
         "final_tweet": "must real kick dick witness ya",
         "_deepnote_index_column": 17
        },
        {
         "final_tweet": "burbank california cou reject city appeal discrimination case armenian policeman usa",
         "_deepnote_index_column": 18
        },
        {
         "final_tweet": "silly pigwomen huful amp harmful society straight white male gay metis man know",
         "_deepnote_index_column": 19
        },
        {
         "final_tweet": "one capture downtown nice fra streetphoto love cannot wait june visit italy agian",
         "_deepnote_index_column": 20
        },
        {
         "final_tweet": "prom friends prom love friends dance kissnight",
         "_deepnote_index_column": 21
        },
        {
         "final_tweet": "feel rn pain hu hate cry",
         "_deepnote_index_column": 22
        },
        {
         "final_tweet": "iron lady boy man boyswillbeboys beard beard beardsofinstagram",
         "_deepnote_index_column": 23
        },
        {
         "final_tweet": "dad happy cam gbp get shop cool home fun",
         "_deepnote_index_column": 24
        },
        {
         "final_tweet": "fitcamp tonight manupmonday let go healthy herbalife bemore",
         "_deepnote_index_column": 25
        },
        {
         "final_tweet": "b day bffs bihday bihdaygirl fun smile photooftheday instadaily",
         "_deepnote_index_column": 26
        },
        {
         "final_tweet": "happy father day fathersday pay innovation software enjoy goodtime dad",
         "_deepnote_index_column": 27
        },
        {
         "final_tweet": "davey trump dosnt want congratulations fight hunger watch game take",
         "_deepnote_index_column": 28
        },
        {
         "final_tweet": "play nils frahm peter dead piano melancholy melancholymusic",
         "_deepnote_index_column": 29
        },
        {
         "final_tweet": "breen steward little break steward little poop break hea",
         "_deepnote_index_column": 30
        },
        {
         "final_tweet": "hey cool fit definitions bilious cool gross",
         "_deepnote_index_column": 31
        },
        {
         "final_tweet": "happy",
         "_deepnote_index_column": 32
        },
        {
         "final_tweet": "miss one simply follow instructions post chance win",
         "_deepnote_index_column": 33
        },
        {
         "final_tweet": "thing matter many laws regulations gun people still find way get hand",
         "_deepnote_index_column": 34
        },
        {
         "final_tweet": "monroe vol fd announce pass member forrest ryan die mva june rip connecticut",
         "_deepnote_index_column": 35
        },
        {
         "final_tweet": "everyone free exam mode wtf badtiming guy",
         "_deepnote_index_column": 36
        },
        {
         "final_tweet": "walker cole leave hours",
         "_deepnote_index_column": 37
        },
        {
         "final_tweet": "enjoy life",
         "_deepnote_index_column": 38
        },
        {
         "final_tweet": "normal dinner set arkhangelskoye moscow region travel goodtimes",
         "_deepnote_index_column": 39
        },
        {
         "final_tweet": "anyone suppos clinton feminist basis care white center feminism disturb disgustin",
         "_deepnote_index_column": 40
        },
        {
         "final_tweet": "never become life pull back lion also take one step back want go longjump follow",
         "_deepnote_index_column": 41
        },
        {
         "final_tweet": "tonight lose grandpa wither miss stories love rip",
         "_deepnote_index_column": 42
        },
        {
         "final_tweet": "never content sit back watch others right trample upon right could next iqg",
         "_deepnote_index_column": 43
        },
        {
         "final_tweet": "nervous yet excite first june cannot get fast enough carnivalcruise vacay",
         "_deepnote_index_column": 44
        },
        {
         "final_tweet": "live girlfriend webcammodel female webcam teen army pussy",
         "_deepnote_index_column": 45
        },
        {
         "final_tweet": "else look forward see july get ticket",
         "_deepnote_index_column": 46
        },
        {
         "final_tweet": "fathersday dads child healthy child nutrition children",
         "_deepnote_index_column": 47
        },
        {
         "final_tweet": "may soul rest peace father always remember moments life father day",
         "_deepnote_index_column": 48
        },
        {
         "final_tweet": "message hate god love people color hate amp preach hate",
         "_deepnote_index_column": 49
        },
        {
         "final_tweet": "home home love cheltenham london dog puppy bordercollie luxury aist",
         "_deepnote_index_column": 50
        },
        {
         "final_tweet": "nude female movies rachel bilson nude fake",
         "_deepnote_index_column": 51
        },
        {
         "final_tweet": "launch new venture educo jobboard education professionals staup edujobs",
         "_deepnote_index_column": 52
        },
        {
         "final_tweet": "jo cox attack sign politicians rethink tactics incite furore winatallcosts brexit bremain ausvotes",
         "_deepnote_index_column": 53
        },
        {
         "final_tweet": "suddenly camper endoftheline sight cue lefty righty bluejays gojaysgo",
         "_deepnote_index_column": 54
        },
        {
         "final_tweet": "bear day salute freddie gibbs bihday freddiegibbs",
         "_deepnote_index_column": 55
        },
        {
         "final_tweet": "wonder pay reffs cant believe im watch right nbafinals refs",
         "_deepnote_index_column": 56
        },
        {
         "final_tweet": "many friends ever bestfriend best forever national bestfriend",
         "_deepnote_index_column": 57
        },
        {
         "final_tweet": "want make today something nice someone else",
         "_deepnote_index_column": 58
        },
        {
         "final_tweet": "engage positive affirmation",
         "_deepnote_index_column": 59
        },
        {
         "final_tweet": "thankful friendships thankful positive",
         "_deepnote_index_column": 60
        },
        {
         "final_tweet": "colorfulday holi holibra color holibra",
         "_deepnote_index_column": 61
        },
        {
         "final_tweet": "hour walk look something could buy end",
         "_deepnote_index_column": 62
        },
        {
         "final_tweet": "true look lgbtqhatestrumppay tl side w want access terrorists want dead",
         "_deepnote_index_column": 63
        },
        {
         "final_tweet": "tonight bae babes k itiswhatitis alien lol",
         "_deepnote_index_column": 64
        },
        {
         "final_tweet": "usd cad break data blog silver gold forex",
         "_deepnote_index_column": 65
        },
        {
         "final_tweet": "like team yogs instagram trapdut swag hiphop",
         "_deepnote_index_column": 66
        },
        {
         "final_tweet": "free sa sad live",
         "_deepnote_index_column": 67
        },
        {
         "final_tweet": "sssso even laptop cannot run gonna play next month lan pay",
         "_deepnote_index_column": 68
        },
        {
         "final_tweet": "southampton lovely boyfriend family",
         "_deepnote_index_column": 69
        },
        {
         "final_tweet": "emotional week hard say goodbye fantastic team two weeks",
         "_deepnote_index_column": 70
        },
        {
         "final_tweet": "quality time man homedate weekend love",
         "_deepnote_index_column": 71
        },
        {
         "final_tweet": "hammock attempt whitegenocide lie tinfoilhat fakenews altrightcards",
         "_deepnote_index_column": 72
        },
        {
         "final_tweet": "father day father worldwide great people thankyou",
         "_deepnote_index_column": 73
        },
        {
         "final_tweet": "haha wow use n word amp equivalent arabic abd mean slave",
         "_deepnote_index_column": 74
        },
        {
         "final_tweet": "anas nimra farishta mawia khushal number mark obtain damn high p",
         "_deepnote_index_column": 75
        },
        {
         "final_tweet": "give white nationalist troll platform spread hate read buy boo",
         "_deepnote_index_column": 76
        },
        {
         "final_tweet": "ok seriously shoe store please sta carry men shoe size smaller tire",
         "_deepnote_index_column": 77
        },
        {
         "final_tweet": "smile life mileycyrus smiler smilers banhgerz smile cry old new edit love sweet",
         "_deepnote_index_column": 78
        },
        {
         "final_tweet": "celebrate triumph receive tripadvisor ceificateofexcellence weekend bubbly",
         "_deepnote_index_column": 79
        },
        {
         "final_tweet": "like bull dominate bull direct whatever want sta",
         "_deepnote_index_column": 80
        },
        {
         "final_tweet": "high risk aversion weigh oil suppos gold commerzbank blog silver gold forex",
         "_deepnote_index_column": 81
        },
        {
         "final_tweet": "work soon another long day pretend everything ok tuesdaybookblog work",
         "_deepnote_index_column": 82
        },
        {
         "final_tweet": "hows stuff like still happen century point civil right movement people",
         "_deepnote_index_column": 83
        },
        {
         "final_tweet": "happy father day fathersday",
         "_deepnote_index_column": 84
        },
        {
         "final_tweet": "sunday smile love bless alyssag workhardtoplayhard smile",
         "_deepnote_index_column": 85
        },
        {
         "final_tweet": "european tour stas sweden today",
         "_deepnote_index_column": 86
        },
        {
         "final_tweet": "great way finish great week workupasweat health fitness lifestyle myfit choices",
         "_deepnote_index_column": 87
        },
        {
         "final_tweet": "bout hrs go gaaftershocks alcatraz mrb super luv update gonna b creepy",
         "_deepnote_index_column": 88
        },
        {
         "final_tweet": "happy bihday chris evans great actor human chrisevans bihday",
         "_deepnote_index_column": 89
        },
        {
         "final_tweet": "decide rewatch arresteddevelopment",
         "_deepnote_index_column": 90
        },
        {
         "final_tweet": "idea day come",
         "_deepnote_index_column": 91
        },
        {
         "final_tweet": "survive tell wife hello futurama happy yes reactiongifs",
         "_deepnote_index_column": 92
        },
        {
         "final_tweet": "general knowledge quiz set seven",
         "_deepnote_index_column": 93
        },
        {
         "final_tweet": "mock obama black brexit",
         "_deepnote_index_column": 94
        },
        {
         "final_tweet": "cheer lovely weekend life summer instagram instacool vsco vscocam love",
         "_deepnote_index_column": 95
        },
        {
         "final_tweet": "fool know anything repeat liberals say",
         "_deepnote_index_column": 96
        },
        {
         "final_tweet": "good lucky sue lucky army kpop",
         "_deepnote_index_column": 97
        },
        {
         "final_tweet": "winterfashion bull dominate bull direct whatever want whe",
         "_deepnote_index_column": 98
        },
        {
         "final_tweet": "love shift dress much one dress cannot pull hourglass figure hips amp shift dress mix",
         "_deepnote_index_column": 99
        },
        {
         "final_tweet": "relate sleep migraine spoonie pain chronicpain sick invisibleillness truth realtalk awake htt",
         "_deepnote_index_column": 100
        },
        {
         "final_tweet": "think people recognize orlando happiest place eah home largest us mass kill",
         "_deepnote_index_column": 101
        },
        {
         "final_tweet": "sex blonde naked snowboard sexy",
         "_deepnote_index_column": 102
        },
        {
         "final_tweet": "happy father day trulyblessed fathersday bead lake",
         "_deepnote_index_column": 103
        },
        {
         "final_tweet": "heyy saw health lover encourage test new app call mytraining app store",
         "_deepnote_index_column": 104
        },
        {
         "final_tweet": "engrus jam milner come",
         "_deepnote_index_column": 105
        },
        {
         "final_tweet": "yes friday loveislove smile friday love wattpad gamergirl writer school finals ugh ti",
         "_deepnote_index_column": 106
        },
        {
         "final_tweet": "perfect day take fitness outside wild mountainlaurel everywhere trailrunning",
         "_deepnote_index_column": 107
        },
        {
         "final_tweet": "sunbury pennsylvania fliers post outside mosque muslim usa",
         "_deepnote_index_column": 108
        },
        {
         "final_tweet": "face malcolm fun",
         "_deepnote_index_column": 109
        },
        {
         "final_tweet": "atm sibs dreamgirls dreamreso unbiosibs",
         "_deepnote_index_column": 110
        },
        {
         "final_tweet": "think suspend indefininetly racist staff",
         "_deepnote_index_column": 111
        },
        {
         "final_tweet": "friday downbytheseashore mylebeach sc mornig friday myle beach state park pier",
         "_deepnote_index_column": 112
        },
        {
         "final_tweet": "ciaoh batgirl batman dccomics dc comics superhero selfie girl love smile",
         "_deepnote_index_column": 113
        },
        {
         "final_tweet": "doggy style life love smile instadaily tweegram picoftheday swag igers girls nature food",
         "_deepnote_index_column": 114
        },
        {
         "final_tweet": "ready pay xx saturday daughter love pay igers instagood goodtimes",
         "_deepnote_index_column": 115
        },
        {
         "final_tweet": "sing along little goddamn louder bmth",
         "_deepnote_index_column": 116
        },
        {
         "final_tweet": "goomorning feel great twitter day positivevibes",
         "_deepnote_index_column": 117
        },
        {
         "final_tweet": "grateful father day",
         "_deepnote_index_column": 118
        },
        {
         "final_tweet": "bihday god bless queen lucky monarch favourite porait cecilbeaton",
         "_deepnote_index_column": 119
        },
        {
         "final_tweet": "see vegas",
         "_deepnote_index_column": 120
        },
        {
         "final_tweet": "wait half hour bus come skipton due one arrive half past",
         "_deepnote_index_column": 121
        },
        {
         "final_tweet": "racial differences r biological reality rottweilers vs chihuahuas iq gt understand",
         "_deepnote_index_column": 122
        },
        {
         "final_tweet": "p mobile trixs pikeg news cricket info funy follow girl friendship follo",
         "_deepnote_index_column": 123
        },
        {
         "final_tweet": "lock gate pamgelleheracist mmiw mmiwg",
         "_deepnote_index_column": 124
        },
        {
         "final_tweet": "new season oitnb come two days oitnb",
         "_deepnote_index_column": 125
        },
        {
         "final_tweet": "love room smell like vanilla love smell vanilla period incense hea u vanilla incense candle room sw…",
         "_deepnote_index_column": 126
        },
        {
         "final_tweet": "view window seriously wow travel barcelona love life europe spain",
         "_deepnote_index_column": 127
        },
        {
         "final_tweet": "halfway sing song snowdonrocks quality proud",
         "_deepnote_index_column": 128
        },
        {
         "final_tweet": "feelinggood peaceful peace nature kyiv kiev ukraine kiev ukrayna",
         "_deepnote_index_column": 129
        },
        {
         "final_tweet": "special weekend delivery happy complete material handle customer forklift",
         "_deepnote_index_column": 130
        },
        {
         "final_tweet": "pin attack bull game really think head empty around city side supp",
         "_deepnote_index_column": 131
        },
        {
         "final_tweet": "hope everyone awesome time drink awesome shooters sit around soak awesomeness",
         "_deepnote_index_column": 132
        },
        {
         "final_tweet": "wrap pretty awesome stuff love wrap belly",
         "_deepnote_index_column": 133
        },
        {
         "final_tweet": "present moment fill joy happiness attentive see thich nhat hanh",
         "_deepnote_index_column": 134
        },
        {
         "final_tweet": "electronic music bogota colombia puntohost cedm edm dj ibiza fashion envivo music",
         "_deepnote_index_column": 135
        },
        {
         "final_tweet": "goodday love friends prisma",
         "_deepnote_index_column": 136
        },
        {
         "final_tweet": "life beautiful",
         "_deepnote_index_column": 137
        },
        {
         "final_tweet": "sandy feet beach hair good book",
         "_deepnote_index_column": 138
        },
        {
         "final_tweet": "sick news florida",
         "_deepnote_index_column": 139
        },
        {
         "final_tweet": "go gooooo hungary myson mylove love mik ikozosseg hungarians mommylife",
         "_deepnote_index_column": 140
        },
        {
         "final_tweet": "look forward wednesday football fixtures release first year season ticket holder cpfc",
         "_deepnote_index_column": 141
        },
        {
         "final_tweet": "black men black women stockholm syndrome",
         "_deepnote_index_column": 142
        },
        {
         "final_tweet": "excite season far league go end tomorrow",
         "_deepnote_index_column": 143
        },
        {
         "final_tweet": "feel like lose much innocence assumethegood amdg",
         "_deepnote_index_column": 144
        },
        {
         "final_tweet": "niggas look forward side piece",
         "_deepnote_index_column": 145
        },
        {
         "final_tweet": "shall end yes motivate",
         "_deepnote_index_column": 146
        },
        {
         "final_tweet": "followers thank follow keep bringin",
         "_deepnote_index_column": 147
        },
        {
         "final_tweet": "appletstag selfie smile love bore followme instagood cute fun picoftheday",
         "_deepnote_index_column": 148
        },
        {
         "final_tweet": "yesterday thx guy horrorday satnight hujan berlima bikin aja",
         "_deepnote_index_column": 149
        },
        {
         "final_tweet": "set weekend sure mount yet",
         "_deepnote_index_column": 150
        },
        {
         "final_tweet": "baby dream lightweight poable fold conveible crib natural bouncingbaby",
         "_deepnote_index_column": 151
        },
        {
         "final_tweet": "cow head stick inside tree rescue firefighters blog silver gold forex",
         "_deepnote_index_column": 152
        },
        {
         "final_tweet": "one year membership noh cypress finally end join planet fitness two months ago",
         "_deepnote_index_column": 153
        },
        {
         "final_tweet": "definitely one favorite picture goals haha",
         "_deepnote_index_column": 154
        },
        {
         "final_tweet": "brock broglio anniversary",
         "_deepnote_index_column": 155
        },
        {
         "final_tweet": "gonna great bihday memyself amp everyoneelse bihdaytreat belfast readytopay",
         "_deepnote_index_column": 156
        },
        {
         "final_tweet": "wait wait wait movie want see bad come nobody go see findingdory",
         "_deepnote_index_column": 157
        },
        {
         "final_tweet": "cambersands deaths blame victims culture council pay lifeguards maybe wow",
         "_deepnote_index_column": 158
        },
        {
         "final_tweet": "make today count mondaymorning positivity",
         "_deepnote_index_column": 159
        },
        {
         "final_tweet": "princess aimee leigh wed gorgeous smile",
         "_deepnote_index_column": 160
        },
        {
         "final_tweet": "dad person love kind thank dad kind fathersday",
         "_deepnote_index_column": 161
        },
        {
         "final_tweet": "interview wonderful staff theargonautnation",
         "_deepnote_index_column": 162
        },
        {
         "final_tweet": "people seem happy matter success entrepreneur fun",
         "_deepnote_index_column": 163
        },
        {
         "final_tweet": "friends magical potion ewabeach magicalhappydrinks ewa beach house",
         "_deepnote_index_column": 164
        },
        {
         "final_tweet": "commute feet every morning desktop long commute caffeine hit make happy",
         "_deepnote_index_column": 165
        },
        {
         "final_tweet": "find twitter btoday brightonpier beachbrighton friends enjoylife sum",
         "_deepnote_index_column": 166
        },
        {
         "final_tweet": "please say want hear teens poems ness quote hu",
         "_deepnote_index_column": 167
        },
        {
         "final_tweet": "integrity without honesty leadership quote quote inspirational",
         "_deepnote_index_column": 168
        },
        {
         "final_tweet": "repost soffierose thankyou love follow share comingsoon puppylove",
         "_deepnote_index_column": 169
        },
        {
         "final_tweet": "ready awesome beat cool dj dance edm house goodmusic madness",
         "_deepnote_index_column": 170
        },
        {
         "final_tweet": "regrann emotional n right attend premiere",
         "_deepnote_index_column": 171
        },
        {
         "final_tweet": "stroll around babyremih remihontour saturdays lovedailydose bless",
         "_deepnote_index_column": 172
        },
        {
         "final_tweet": "hey yonge eglinton busy hell travel yonge queen still buy tokens",
         "_deepnote_index_column": 173
        },
        {
         "final_tweet": "truly day orlando america stop pray time come together",
         "_deepnote_index_column": 174
        },
        {
         "final_tweet": "idk think work impoant dogsoftwitter huskypuppy video bae dog bye",
         "_deepnote_index_column": 175
        },
        {
         "final_tweet": "saw new fan information bury light theme forum harder read avgeek",
         "_deepnote_index_column": 176
        },
        {
         "final_tweet": "ticket autumn internationals purchase coybig",
         "_deepnote_index_column": 177
        },
        {
         "final_tweet": "bihday baba gbesoke",
         "_deepnote_index_column": 178
        },
        {
         "final_tweet": "bring best husband inlove",
         "_deepnote_index_column": 179
        },
        {
         "final_tweet": "thankful sense touch thankful positive",
         "_deepnote_index_column": 180
        },
        {
         "final_tweet": "silent scream wattpad poem poetry poet quote writer author love",
         "_deepnote_index_column": 181
        },
        {
         "final_tweet": "zumba day keep us allday alltheway thankyou",
         "_deepnote_index_column": 182
        },
        {
         "final_tweet": "quote uplift positive always look bright side",
         "_deepnote_index_column": 183
        },
        {
         "final_tweet": "happy bihday billy wish many happy return bihday bihday boy",
         "_deepnote_index_column": 184
        },
        {
         "final_tweet": "ff thank",
         "_deepnote_index_column": 185
        },
        {
         "final_tweet": "cannot wait tonight",
         "_deepnote_index_column": 186
        },
        {
         "final_tweet": "post workout selfie feel exhaustive glow pinkface gym fitness sweatyselfie perfection",
         "_deepnote_index_column": 187
        },
        {
         "final_tweet": "act every moment gift find open present rest life father day",
         "_deepnote_index_column": 188
        },
        {
         "final_tweet": "miss right love",
         "_deepnote_index_column": 189
        },
        {
         "final_tweet": "cakerymx gravity cake decorate amp cakeryboutiquemx love mexico pay",
         "_deepnote_index_column": 190
        },
        {
         "final_tweet": "girl baby pregnancy princess",
         "_deepnote_index_column": 191
        },
        {
         "final_tweet": "disney gator attack year old boy find dead",
         "_deepnote_index_column": 192
        },
        {
         "final_tweet": "ever afraid show really long",
         "_deepnote_index_column": 193
        },
        {
         "final_tweet": "sad ones gt gt gt",
         "_deepnote_index_column": 194
        },
        {
         "final_tweet": "ramadan amp holly month maarif",
         "_deepnote_index_column": 195
        },
        {
         "final_tweet": "months already break fiorelli handbag break",
         "_deepnote_index_column": 196
        },
        {
         "final_tweet": "arrive wembley",
         "_deepnote_index_column": 197
        },
        {
         "final_tweet": "suppoing trump make conservatives act like liberals",
         "_deepnote_index_column": 198
        },
        {
         "final_tweet": "father whole world fathersday claispgc lt",
         "_deepnote_index_column": 199
        },
        {
         "final_tweet": "monday photoshoots today finish move new apt make progress weekend",
         "_deepnote_index_column": 200
        },
        {
         "final_tweet": "lunch office first groupiee buhaycallcenteragent sykesasia igers",
         "_deepnote_index_column": 201
        },
        {
         "final_tweet": "likeme take bitch",
         "_deepnote_index_column": 202
        },
        {
         "final_tweet": "friendszxc",
         "_deepnote_index_column": 203
        },
        {
         "final_tweet": "grads already register thursday graduation ksugrad",
         "_deepnote_index_column": 204
        },
        {
         "final_tweet": "dress ready",
         "_deepnote_index_column": 205
        },
        {
         "final_tweet": "photographer beirut capture day life stray cat instagram",
         "_deepnote_index_column": 206
        },
        {
         "final_tweet": "retweeted baycat msg hope newyear business end tedtalks tedatibm",
         "_deepnote_index_column": 207
        },
        {
         "final_tweet": "man father take special person dad father day",
         "_deepnote_index_column": 208
        },
        {
         "final_tweet": "one outfit monkey",
         "_deepnote_index_column": 209
        },
        {
         "final_tweet": "beware snowball effect black men women",
         "_deepnote_index_column": 210
        },
        {
         "final_tweet": "visit gorilla simulator need adapt environment need tear city materi",
         "_deepnote_index_column": 211
        },
        {
         "final_tweet": "father day love father",
         "_deepnote_index_column": 212
        },
        {
         "final_tweet": "give positive affirmation",
         "_deepnote_index_column": 213
        },
        {
         "final_tweet": "grow positive affirmation",
         "_deepnote_index_column": 214
        },
        {
         "final_tweet": "yes bcuz trump amp surrogates would turn sad situation political motivation suppoers rip",
         "_deepnote_index_column": 215
        },
        {
         "final_tweet": "pm need boss see get also wallchas",
         "_deepnote_index_column": 216
        },
        {
         "final_tweet": "diy do dresser nicknacks newelectricscrewdriver brockely london",
         "_deepnote_index_column": 217
        },
        {
         "final_tweet": "finally get send kindof ha",
         "_deepnote_index_column": 218
        },
        {
         "final_tweet": "request donation title school middle school graduation celebration guess sometimes answer",
         "_deepnote_index_column": 219
        },
        {
         "final_tweet": "pathetic attempt invoke dead war hero defend one many trump racist",
         "_deepnote_index_column": 220
        },
        {
         "final_tweet": "blonde hair care blonde blogger youtube newhair girl berlin",
         "_deepnote_index_column": 221
        },
        {
         "final_tweet": "hear clip see quote tweet prop expose view amp challenge",
         "_deepnote_index_column": 222
        },
        {
         "final_tweet": "none hihihi yum food love eat fav hongkong disneyland",
         "_deepnote_index_column": 223
        },
        {
         "final_tweet": "zoro jrock japan disband picture band zoro disband last year",
         "_deepnote_index_column": 224
        },
        {
         "final_tweet": "angry bird red birdsilfilm bird birdsmovie red bird awork",
         "_deepnote_index_column": 225
        },
        {
         "final_tweet": "oh lord great day neighborhood follow twitter woohoo blockheadforever nkotb",
         "_deepnote_index_column": 226
        },
        {
         "final_tweet": "sotrue home family love money everything bless",
         "_deepnote_index_column": 227
        },
        {
         "final_tweet": "call serive",
         "_deepnote_index_column": 228
        },
        {
         "final_tweet": "confirm people spend money experience instead things much happier",
         "_deepnote_index_column": 229
        },
        {
         "final_tweet": "yay wonderful son fix laptop invade longer torment update",
         "_deepnote_index_column": 230
        },
        {
         "final_tweet": "post new blog secondlife lonely neko",
         "_deepnote_index_column": 231
        },
        {
         "final_tweet": "child old enough learn windsurf children windsurf waterspos fun train spos",
         "_deepnote_index_column": 232
        },
        {
         "final_tweet": "father day love dad feel happy",
         "_deepnote_index_column": 233
        },
        {
         "final_tweet": "stay past feel like rebel",
         "_deepnote_index_column": 234
        },
        {
         "final_tweet": "saw bham tonight spray ball amp paicularly really great play middle defensively",
         "_deepnote_index_column": 235
        },
        {
         "final_tweet": "look shine beautiful makeup makeupaddict loveit highlight gorgeous",
         "_deepnote_index_column": 236
        },
        {
         "final_tweet": "sexysaturday upcoming viual love quote teaser read amwriting erotica novella",
         "_deepnote_index_column": 237
        },
        {
         "final_tweet": "cook first get business plan shop open week first glitterdixx shis",
         "_deepnote_index_column": 238
        },
        {
         "final_tweet": "please make use education let waste learn read comprehend overit readytoscream",
         "_deepnote_index_column": 239
        },
        {
         "final_tweet": "one today cannot believe bihday timeflies",
         "_deepnote_index_column": 240
        },
        {
         "final_tweet": "horribly sad news fine actor great things come life fragile rip",
         "_deepnote_index_column": 241
        },
        {
         "final_tweet": "voice live room finally discover listen belgium ye",
         "_deepnote_index_column": 242
        },
        {
         "final_tweet": "come fraud amp document liar lose base call nazis brownshi pivo",
         "_deepnote_index_column": 243
        },
        {
         "final_tweet": "people think little weird",
         "_deepnote_index_column": 244
        },
        {
         "final_tweet": "feliz fin de semana para todos masmusculo fitness team happy weekend fit fitness victorialomba",
         "_deepnote_index_column": 245
        },
        {
         "final_tweet": "travel sunday family travel couple family life chiangmai thailand",
         "_deepnote_index_column": 246
        },
        {
         "final_tweet": "happen soon enough fangirlproblems",
         "_deepnote_index_column": 247
        },
        {
         "final_tweet": "chill relax instalike beautiful sea holiday turkey",
         "_deepnote_index_column": 248
        },
        {
         "final_tweet": "need contact media know ba busy travesty young girl baworstairline",
         "_deepnote_index_column": 249
        },
        {
         "final_tweet": "everyone go struggle pain right keep head keep smile get hope",
         "_deepnote_index_column": 250
        },
        {
         "final_tweet": "love life houston texas downtown bollywood bollywoodnight enjoy inlove life",
         "_deepnote_index_column": 251
        },
        {
         "final_tweet": "beyond fabulous smug elitists get annihilate voter id myth video trump maga",
         "_deepnote_index_column": 252
        },
        {
         "final_tweet": "happen folks think desensitization myth orlandoshooting",
         "_deepnote_index_column": 253
        },
        {
         "final_tweet": "way ladiesday",
         "_deepnote_index_column": 254
        },
        {
         "final_tweet": "get feed feedthebeast food lovelexine lexine really night",
         "_deepnote_index_column": 255
        },
        {
         "final_tweet": "beautiful nature nainitaldiaries traveldiaries lake fish",
         "_deepnote_index_column": 256
        },
        {
         "final_tweet": "favourite face world throwbackthursday bestbud lol lacona isola",
         "_deepnote_index_column": 257
        },
        {
         "final_tweet": "redneck island woohoo pump redneck woo hoo happy redneck via giphy",
         "_deepnote_index_column": 258
        },
        {
         "final_tweet": "somewhat frighteningly positive direction least mass shoot gay nightclub yield gop prayer statements",
         "_deepnote_index_column": 259
        },
        {
         "final_tweet": "go see time much love guy",
         "_deepnote_index_column": 260
        },
        {
         "final_tweet": "amaze lyft app use coupon code dex hot doug welovelyft",
         "_deepnote_index_column": 261
        },
        {
         "final_tweet": "fleury seem know lift cup",
         "_deepnote_index_column": 262
        },
        {
         "final_tweet": "gonna selfie look smile music girl girls pierce",
         "_deepnote_index_column": 263
        },
        {
         "final_tweet": "pray orlando continue happen",
         "_deepnote_index_column": 264
        },
        {
         "final_tweet": "choose crack child years uncooldadhabits",
         "_deepnote_index_column": 265
        },
        {
         "final_tweet": "excite go work get away homework",
         "_deepnote_index_column": 266
        },
        {
         "final_tweet": "sooooo may funny",
         "_deepnote_index_column": 267
        },
        {
         "final_tweet": "days ibiza wednesday",
         "_deepnote_index_column": 268
        },
        {
         "final_tweet": "drink wine glass big face happiness wine pdxpride yum",
         "_deepnote_index_column": 269
        },
        {
         "final_tweet": "hindusena celebrate messiha bihday delhi messiha talk kick indians america",
         "_deepnote_index_column": 270
        },
        {
         "final_tweet": "bad day everywhere shit stop unbelievable",
         "_deepnote_index_column": 271
        },
        {
         "final_tweet": "hey laylajayfox may want check latest update glastofest",
         "_deepnote_index_column": 272
        },
        {
         "final_tweet": "register community theatre festival",
         "_deepnote_index_column": 273
        },
        {
         "final_tweet": "fish bull dominate bull direct whatever want sta",
         "_deepnote_index_column": 274
        },
        {
         "final_tweet": "hey emilypbu may want check latest update bsthydepark",
         "_deepnote_index_column": 275
        },
        {
         "final_tweet": "first time song write sing ht",
         "_deepnote_index_column": 276
        },
        {
         "final_tweet": "term ppl bhakt denounce terrorism anti national act show sense reason never mi",
         "_deepnote_index_column": 277
        },
        {
         "final_tweet": "us growth three six cylinders work well fargo blog silver gold forex",
         "_deepnote_index_column": 278
        },
        {
         "final_tweet": "love word dummy sure hear lot school dad buy way penn",
         "_deepnote_index_column": 279
        },
        {
         "final_tweet": "dublin front ireland dublin sunny dark front henrietta street dublin",
         "_deepnote_index_column": 280
        },
        {
         "final_tweet": "meet today volunteer run local library go kid givingb",
         "_deepnote_index_column": 281
        },
        {
         "final_tweet": "coral graveyard aftermath bleach great barrier reef picture worldocea",
         "_deepnote_index_column": 282
        },
        {
         "final_tweet": "mother daughter happy feet damiakamelia quarantine hfmd mother daughter",
         "_deepnote_index_column": 283
        },
        {
         "final_tweet": "see baby smile",
         "_deepnote_index_column": 284
        },
        {
         "final_tweet": "dress wear last year graduation day fit tight phat",
         "_deepnote_index_column": 285
        },
        {
         "final_tweet": "thank fuck actually do something productive life amuse",
         "_deepnote_index_column": 286
        },
        {
         "final_tweet": "best essentialoils weightloss altwaystoheal healthy",
         "_deepnote_index_column": 287
        },
        {
         "final_tweet": "choreo best dance ever cannot wait",
         "_deepnote_index_column": 288
        },
        {
         "final_tweet": "restrict duty like straght jacket pad room look blacklivesmatter",
         "_deepnote_index_column": 289
        },
        {
         "final_tweet": "play michael nyman promise melancholy melancholymusic",
         "_deepnote_index_column": 290
        },
        {
         "final_tweet": "good night",
         "_deepnote_index_column": 291
        },
        {
         "final_tweet": "oh god ass cute sexy",
         "_deepnote_index_column": 292
        },
        {
         "final_tweet": "crew friend friends fun tagsforlikes funny love instagood igers friendship pay chill cute",
         "_deepnote_index_column": 293
        },
        {
         "final_tweet": "wont long till bar onboard france holiday chillouttime",
         "_deepnote_index_column": 294
        },
        {
         "final_tweet": "adult would make argument child would reso name call insult entire group pathetic",
         "_deepnote_index_column": 295
        },
        {
         "final_tweet": "sometimes best seat relax enjoy glass wine celebrate cause fathersday",
         "_deepnote_index_column": 296
        },
        {
         "final_tweet": "little starbucks frappuccino filter",
         "_deepnote_index_column": 297
        },
        {
         "final_tweet": "lick wound ego mutter curse steal spotlight revolution",
         "_deepnote_index_column": 298
        },
        {
         "final_tweet": "better wake sad hu feelthebern love family lgbt women latino gay education students job",
         "_deepnote_index_column": 299
        },
        {
         "final_tweet": "website maintenance weworking inspire greatful bless",
         "_deepnote_index_column": 300
        },
        {
         "final_tweet": "customers along mumbai pursuitofbrilliance",
         "_deepnote_index_column": 301
        },
        {
         "final_tweet": "go fuck richie like go anywhere",
         "_deepnote_index_column": 302
        },
        {
         "final_tweet": "breakfast morning breakfast yum foodporn greece firstcoffee milos weekend",
         "_deepnote_index_column": 303
        },
        {
         "final_tweet": "never convince americans right bear prayfororlando guncontrol",
         "_deepnote_index_column": 304
        },
        {
         "final_tweet": "boy daddy fathersday",
         "_deepnote_index_column": 305
        },
        {
         "final_tweet": "best breakfast ever miam yummy love happiness health healthy breakfast",
         "_deepnote_index_column": 306
        },
        {
         "final_tweet": "wed mention mores pie wed pretty awesome game charades clean wed show",
         "_deepnote_index_column": 307
        },
        {
         "final_tweet": "acquaint punjabi culture kejriwal try lure punjabis",
         "_deepnote_index_column": 308
        },
        {
         "final_tweet": "think think pack holiday caribbean tomorrow today rest holiday grenada",
         "_deepnote_index_column": 309
        },
        {
         "final_tweet": "stop pray gop stop empty word take action acknowledge lgbtq target disgust loveislove orlando",
         "_deepnote_index_column": 310
        },
        {
         "final_tweet": "commence transition gop current whig pay",
         "_deepnote_index_column": 311
        },
        {
         "final_tweet": "search toddler grab alligator disney switch rescue recovery",
         "_deepnote_index_column": 312
        },
        {
         "final_tweet": "friday reggae warriors make another week let us give thank reggaemusic smile",
         "_deepnote_index_column": 313
        },
        {
         "final_tweet": "humiliate great country ignorant tacky lie president notmypresident theresista",
         "_deepnote_index_column": 314
        },
        {
         "final_tweet": "forget women misogynists",
         "_deepnote_index_column": 315
        },
        {
         "final_tweet": "fuck isis homophobicbiggots theeu uefa amp russia today",
         "_deepnote_index_column": 316
        },
        {
         "final_tweet": "everything christ give us strength fly mode",
         "_deepnote_index_column": 317
        },
        {
         "final_tweet": "dragoneducation sunmer eat yummy experience aupair aupairlife china travel sunny love educate",
         "_deepnote_index_column": 318
        },
        {
         "final_tweet": "assholes like shut every rape prevent victory humanity sh",
         "_deepnote_index_column": 319
        },
        {
         "final_tweet": "get look forward next year move",
         "_deepnote_index_column": 320
        },
        {
         "final_tweet": "oh damn",
         "_deepnote_index_column": 321
        },
        {
         "final_tweet": "one whiskey remain",
         "_deepnote_index_column": 322
        },
        {
         "final_tweet": "arrive thank lb lyric lb lyricsborn kickstaer",
         "_deepnote_index_column": 323
        },
        {
         "final_tweet": "outworked today success motivation positivity",
         "_deepnote_index_column": 324
        },
        {
         "final_tweet": "keep smile keep shop fashionquote smile mood shop jewellery jewelmaze",
         "_deepnote_index_column": 325
        },
        {
         "final_tweet": "go yet one go hold accountable",
         "_deepnote_index_column": 326
        },
        {
         "final_tweet": "bihday corny crony love atlanta brave camo",
         "_deepnote_index_column": 327
        },
        {
         "final_tweet": "join hand someone happier credo good photo photographer lovemyjob",
         "_deepnote_index_column": 328
        },
        {
         "final_tweet": "ojmadeinamerica conclusion americans love socio psycho paths especially famous athletes pretend whi…",
         "_deepnote_index_column": 329
        },
        {
         "final_tweet": "wow charge tv show",
         "_deepnote_index_column": 330
        },
        {
         "final_tweet": "say big brother orwellianprophecy",
         "_deepnote_index_column": 331
        },
        {
         "final_tweet": "top food items seasonal affective disorder patient must avoid peh busselton hoba wellington",
         "_deepnote_index_column": 332
        },
        {
         "final_tweet": "good pre induction day provide lunch bonus hopeful food",
         "_deepnote_index_column": 333
        },
        {
         "final_tweet": "play david lanz cristofori dream melancholy melancholymusic",
         "_deepnote_index_column": 334
        },
        {
         "final_tweet": "regrann always love shop fav place",
         "_deepnote_index_column": 335
        },
        {
         "final_tweet": "sex stories ns porn",
         "_deepnote_index_column": 336
        },
        {
         "final_tweet": "trump pick attorney general shadow race history wellduh sessions",
         "_deepnote_index_column": 337
        },
        {
         "final_tweet": "spend obscene amount money holiday clothe today srilanka",
         "_deepnote_index_column": 338
        },
        {
         "final_tweet": "happy fast happy saturday happy weekend happy holiday always happy everyday ramadan",
         "_deepnote_index_column": 339
        },
        {
         "final_tweet": "usd jpy change course nikkei trim gain back test blog silver gold forex",
         "_deepnote_index_column": 340
        },
        {
         "final_tweet": "dice dice",
         "_deepnote_index_column": 341
        },
        {
         "final_tweet": "happy weekend everyone alamode friday weekend fashion accessories fridaymorning style trendy",
         "_deepnote_index_column": 342
        },
        {
         "final_tweet": "early bull dominate bull direct whatever want st",
         "_deepnote_index_column": 343
        },
        {
         "final_tweet": "lanasprayberry fire think choke child wrongful arrest parent acceptable",
         "_deepnote_index_column": 344
        },
        {
         "final_tweet": "true obama answer fight radical islam instead still defend bash trump",
         "_deepnote_index_column": 345
        },
        {
         "final_tweet": "nyc seven days newyork newyorkcity travel bigapple",
         "_deepnote_index_column": 346
        },
        {
         "final_tweet": "watch dj esm e come guet cha outro though baby music kwak kwak",
         "_deepnote_index_column": 347
        },
        {
         "final_tweet": "apparently taragon christmassy herb",
         "_deepnote_index_column": 348
        },
        {
         "final_tweet": "precisely opendata book club",
         "_deepnote_index_column": 349
        },
        {
         "final_tweet": "sweet sweet power phone verge death like get power back dance phone problem",
         "_deepnote_index_column": 350
        },
        {
         "final_tweet": "tonto dike share photo son wish global news bihday dike",
         "_deepnote_index_column": 351
        },
        {
         "final_tweet": "thank love good morning thursday",
         "_deepnote_index_column": 352
        },
        {
         "final_tweet": "late night treat hubby wait bonus recap beyourownboss",
         "_deepnote_index_column": 353
        },
        {
         "final_tweet": "right idea deal nasty",
         "_deepnote_index_column": 354
        },
        {
         "final_tweet": "cannot wait attend",
         "_deepnote_index_column": 355
        },
        {
         "final_tweet": "good bye old friend miss moviestop close funeral goodbye movies lifestyle",
         "_deepnote_index_column": 356
        },
        {
         "final_tweet": "h p p qotd quote inspirational",
         "_deepnote_index_column": 357
        },
        {
         "final_tweet": "days lt cantwait",
         "_deepnote_index_column": 358
        },
        {
         "final_tweet": "smile friday weekend friday friends etatpur instafood picoftheday",
         "_deepnote_index_column": 359
        },
        {
         "final_tweet": "legend go r p",
         "_deepnote_index_column": 360
        },
        {
         "final_tweet": "juicing experience notsobad healthyliving eatclean fitness cook yummy mamasgotanewtoy",
         "_deepnote_index_column": 361
        },
        {
         "final_tweet": "gpif boost investment risk assets blog silver gold forex",
         "_deepnote_index_column": 362
        },
        {
         "final_tweet": "listen childhood heroes",
         "_deepnote_index_column": 363
        },
        {
         "final_tweet": "siilyfaces family cousins love lasvegas fremontstreet freemont st expeirence",
         "_deepnote_index_column": 364
        },
        {
         "final_tweet": "hear monkeymomma go croft",
         "_deepnote_index_column": 365
        },
        {
         "final_tweet": "shark guy",
         "_deepnote_index_column": 366
        },
        {
         "final_tweet": "father day dads involve york schoolboys",
         "_deepnote_index_column": 367
        },
        {
         "final_tweet": "yes least noble reason backfire",
         "_deepnote_index_column": 368
        },
        {
         "final_tweet": "even word please watch already lgbt comingout tragedy reaction loveislove",
         "_deepnote_index_column": 369
        },
        {
         "final_tweet": "happiness love life side happiness life kid son dog",
         "_deepnote_index_column": 370
        },
        {
         "final_tweet": "announce ginifer gin available sale illovo joburg",
         "_deepnote_index_column": 371
        },
        {
         "final_tweet": "ways happier person via bwn inspiration success motivation",
         "_deepnote_index_column": 372
        },
        {
         "final_tweet": "would anyone need animal",
         "_deepnote_index_column": 373
        },
        {
         "final_tweet": "oh hi weekend name bob pawleased meet weekend bob paw dachshund dog",
         "_deepnote_index_column": 374
        },
        {
         "final_tweet": "suck haters hillary voters hate fear trump voters love know",
         "_deepnote_index_column": 375
        },
        {
         "final_tweet": "may b happy smiley baby cant help smile amp play nosleep tire mummycuddles smileybaby",
         "_deepnote_index_column": 376
        },
        {
         "final_tweet": "radio juice play children p lion apps apple google",
         "_deepnote_index_column": 377
        },
        {
         "final_tweet": "fitnessfriday fitfam check latest vlog meal plan bs nutrition eatclean",
         "_deepnote_index_column": 378
        },
        {
         "final_tweet": "bad day friends mean sad meaniebeanies",
         "_deepnote_index_column": 379
        },
        {
         "final_tweet": "viendo la belleza de la vida world bigger goodmorning walklikeus days lovers",
         "_deepnote_index_column": 380
        },
        {
         "final_tweet": "bihday trump make america great amp safe best wish",
         "_deepnote_index_column": 381
        },
        {
         "final_tweet": "day america sad lose live sad families sad obama happen isla",
         "_deepnote_index_column": 382
        },
        {
         "final_tweet": "name japanese ft beautiful flower",
         "_deepnote_index_column": 383
        },
        {
         "final_tweet": "boe policy take backseat referendum tds blog silver gold forex",
         "_deepnote_index_column": 384
        },
        {
         "final_tweet": "top violent city case go better",
         "_deepnote_index_column": 385
        },
        {
         "final_tweet": "study history gop president spawn isis fear boot desperate play trump card",
         "_deepnote_index_column": 386
        },
        {
         "final_tweet": "congratulations niblles forever hamsters",
         "_deepnote_index_column": 387
        },
        {
         "final_tweet": "nly fr winners even every na fan felt proud tearsofjoy moment",
         "_deepnote_index_column": 388
        },
        {
         "final_tweet": "barely home work hours unday",
         "_deepnote_index_column": 389
        },
        {
         "final_tweet": "likesforfollows rooster simulation want climb vast expanse mountains reach leakage",
         "_deepnote_index_column": 390
        },
        {
         "final_tweet": "nationalbestfriendday crazy melon head love friends allways",
         "_deepnote_index_column": 391
        },
        {
         "final_tweet": "orlando shoot mad hea go people affect shoot",
         "_deepnote_index_column": 392
        },
        {
         "final_tweet": "life beautiful novel read end read sad line bad page mean end",
         "_deepnote_index_column": 393
        },
        {
         "final_tweet": "life sail melges garda lakegarda italy fragliavelariva melgesworlds",
         "_deepnote_index_column": 394
        },
        {
         "final_tweet": "another persons sexual orientation problem get life stopthehate stopgunviolence orlando",
         "_deepnote_index_column": 395
        },
        {
         "final_tweet": "case commonwealth internet vs evidence prove guilty antisemitism misogyny",
         "_deepnote_index_column": 396
        },
        {
         "final_tweet": "usaguncrimes orlando orlandoshooting rip giveback gun",
         "_deepnote_index_column": 397
        },
        {
         "final_tweet": "normal day normal look notfilter tire tbt gay instadaily instagay love",
         "_deepnote_index_column": 398
        },
        {
         "final_tweet": "difficult roads often lead beautiful destinations fit igers triathlon ironman",
         "_deepnote_index_column": 399
        },
        {
         "final_tweet": "disgust racist thugs look forward go back jail",
         "_deepnote_index_column": 400
        },
        {
         "final_tweet": "rest peace christina grimmie love voice youtube cover restinlovechristina shock restinpiecechristina",
         "_deepnote_index_column": 401
        },
        {
         "final_tweet": "katiecouric documentary goodness honey",
         "_deepnote_index_column": 402
        },
        {
         "final_tweet": "excellent customer service manager girl till today farnborough customer customerservice",
         "_deepnote_index_column": 403
        },
        {
         "final_tweet": "would like say happy father day heavenly father father day us dads real dads",
         "_deepnote_index_column": 404
        },
        {
         "final_tweet": "adve website exhibition notlongtogo jewellery",
         "_deepnote_index_column": 405
        },
        {
         "final_tweet": "bihdays jj",
         "_deepnote_index_column": 406
        },
        {
         "final_tweet": "year later murder nine emanuelame members still make sense stillgrieving",
         "_deepnote_index_column": 407
        },
        {
         "final_tweet": "literally happy like",
         "_deepnote_index_column": 408
        },
        {
         "final_tweet": "america whats go shoot rip lawonguns wakeup",
         "_deepnote_index_column": 409
        },
        {
         "final_tweet": "iiiiiiits show day k",
         "_deepnote_index_column": 410
        },
        {
         "final_tweet": "look forward january bachelorfilmdone holidayatlast",
         "_deepnote_index_column": 411
        },
        {
         "final_tweet": "save new carol amp tony book bring feel like holiday val",
         "_deepnote_index_column": 412
        },
        {
         "final_tweet": "father day man desire son usually nothing wish duplicate order",
         "_deepnote_index_column": 413
        },
        {
         "final_tweet": "best days ahead grateful bless",
         "_deepnote_index_column": 414
        },
        {
         "final_tweet": "days till vic winterfest ecdaelite countingdown winterfest aascf vikings cheer pom",
         "_deepnote_index_column": 415
        },
        {
         "final_tweet": "gonna visit best friend california next month cant afford dont know tell cant come",
         "_deepnote_index_column": 416
        },
        {
         "final_tweet": "else favorite staer mudkip pokemonsunmoon nerd mudkip hype staer thirdgen ready",
         "_deepnote_index_column": 417
        },
        {
         "final_tweet": "im half boy half man im dumb",
         "_deepnote_index_column": 418
        },
        {
         "final_tweet": "see new webpage orlando file goodread goodbook bookclub medicalthriller",
         "_deepnote_index_column": 419
        },
        {
         "final_tweet": "nigger lifelessons white kid grow blogpost whitepeople respect",
         "_deepnote_index_column": 420
        },
        {
         "final_tweet": "convo stop indigenous deaths mean anything unless stas face epidemic atsi",
         "_deepnote_index_column": 421
        },
        {
         "final_tweet": "ask sad people",
         "_deepnote_index_column": 422
        },
        {
         "final_tweet": "impoant timetable saturday tomorrow walk newark skegness",
         "_deepnote_index_column": 423
        },
        {
         "final_tweet": "want others practice compassion want happy practice compassion dalailama",
         "_deepnote_index_column": 424
        },
        {
         "final_tweet": "time get sta watch new season ointb super excite binge watch time loveit",
         "_deepnote_index_column": 425
        },
        {
         "final_tweet": "gas life go moment proud",
         "_deepnote_index_column": 426
        },
        {
         "final_tweet": "happy place instamood life music girl piano love villa sound",
         "_deepnote_index_column": 427
        },
        {
         "final_tweet": "bright morning haveagreatday",
         "_deepnote_index_column": 428
        },
        {
         "final_tweet": "friday milanobeach cristinaoegaphotodesign gintonic premium",
         "_deepnote_index_column": 429
        },
        {
         "final_tweet": "sunday wonderful followers without much love teamdope",
         "_deepnote_index_column": 430
        },
        {
         "final_tweet": "win luvmywines fridayiswinesday drink",
         "_deepnote_index_column": 431
        },
        {
         "final_tweet": "snapchat stop update please like leave way months go change angr",
         "_deepnote_index_column": 432
        },
        {
         "final_tweet": "time next week ibiza fhfdhufdbhddhigvjivv",
         "_deepnote_index_column": 433
        },
        {
         "final_tweet": "pray hand stop texting today get someone call baby already",
         "_deepnote_index_column": 434
        },
        {
         "final_tweet": "allahsoil greenspan policies largely blame mogage crisis",
         "_deepnote_index_column": 435
        },
        {
         "final_tweet": "love follow step avoid death meet",
         "_deepnote_index_column": 436
        },
        {
         "final_tweet": "first day school na naman firstdayofschool",
         "_deepnote_index_column": 437
        },
        {
         "final_tweet": "tell versions lie hatred vile attack upon black men women theron",
         "_deepnote_index_column": 438
        },
        {
         "final_tweet": "people forget simplest commandment love neighbor",
         "_deepnote_index_column": 439
        },
        {
         "final_tweet": "true would love experience difficulties us face cretins blunt",
         "_deepnote_index_column": 440
        },
        {
         "final_tweet": "xbox one reverse drm angry rant pt video xbox one reverse drm rant sverigesweden",
         "_deepnote_index_column": 441
        },
        {
         "final_tweet": "peace world prayfororlando pray sing peace orlando ripchristinagrimmie rip",
         "_deepnote_index_column": 442
        },
        {
         "final_tweet": "father day happy sunda may good lord bless",
         "_deepnote_index_column": 443
        },
        {
         "final_tweet": "cannot wait get iphone tweet time",
         "_deepnote_index_column": 444
        },
        {
         "final_tweet": "cat furry persiancat pixion wallpaper image",
         "_deepnote_index_column": 445
        },
        {
         "final_tweet": "play rick wakeman rohan melancholy melancholymusic",
         "_deepnote_index_column": 446
        },
        {
         "final_tweet": "step history hold back step new story will create oprah winfrey lo",
         "_deepnote_index_column": 447
        },
        {
         "final_tweet": "hea break orlandoshooting",
         "_deepnote_index_column": 448
        },
        {
         "final_tweet": "need funny today laugh go long way energy someone tweet something lol able happy almost day",
         "_deepnote_index_column": 449
        },
        {
         "final_tweet": "come westhaven potchfest see brother play pm today promise great",
         "_deepnote_index_column": 450
        },
        {
         "final_tweet": "pub football amp hubby stress already",
         "_deepnote_index_column": 451
        },
        {
         "final_tweet": "heabroken husband act death go straight media",
         "_deepnote_index_column": 452
        },
        {
         "final_tweet": "weed day wed picoftheday goodtime love shoe chaussures flower",
         "_deepnote_index_column": 453
        },
        {
         "final_tweet": "wife fuck psychotic well repo matter get orlando painful",
         "_deepnote_index_column": 454
        },
        {
         "final_tweet": "usd jpy dip back drop session low blog silver gold forex",
         "_deepnote_index_column": 455
        },
        {
         "final_tweet": "last one appletstag lastone ipromise selfie sorrynotsorry fun nofilter summer",
         "_deepnote_index_column": 456
        },
        {
         "final_tweet": "tamw make strange random noise adult smile giggle",
         "_deepnote_index_column": 457
        },
        {
         "final_tweet": "two msgrenaway education makemoney cash lifestyle happy motivation",
         "_deepnote_index_column": 458
        },
        {
         "final_tweet": "lil basketball doorless topless jeepdrive smile sillies around",
         "_deepnote_index_column": 459
        },
        {
         "final_tweet": "unlock liberate power within us innerbuddha buddhism spirituality",
         "_deepnote_index_column": 460
        },
        {
         "final_tweet": "time celebration wish father different way father day",
         "_deepnote_index_column": 461
        },
        {
         "final_tweet": "jc father day father day every day lt",
         "_deepnote_index_column": 462
        },
        {
         "final_tweet": "dark forest thailand bangkok lumpinipark forest even light relax cold good",
         "_deepnote_index_column": 463
        },
        {
         "final_tweet": "pig crack friday everyone may pig car",
         "_deepnote_index_column": 464
        },
        {
         "final_tweet": "go check album edm festival summer miami rave london dance music",
         "_deepnote_index_column": 465
        },
        {
         "final_tweet": "foods heal body doplants healthy",
         "_deepnote_index_column": 466
        },
        {
         "final_tweet": "minutes receive appetizers anything drink even water",
         "_deepnote_index_column": 467
        },
        {
         "final_tweet": "happy boy love guy littleman loveofmylife littlebuddy smile bestbuddy",
         "_deepnote_index_column": 468
        },
        {
         "final_tweet": "thank travel airplane customerservice",
         "_deepnote_index_column": 469
        },
        {
         "final_tweet": "really cannot believe years miss dad amp think often ripdad tellsomeoneyoulovethem dad",
         "_deepnote_index_column": 470
        },
        {
         "final_tweet": "tuesday coffee tea beverage ice onice americano iceamericano",
         "_deepnote_index_column": 471
        },
        {
         "final_tweet": "well do pray go well x",
         "_deepnote_index_column": 472
        },
        {
         "final_tweet": "break orlando florida loveislove",
         "_deepnote_index_column": 473
        },
        {
         "final_tweet": "finally arrive get programme celebration hope get gift leave stage door",
         "_deepnote_index_column": 474
        },
        {
         "final_tweet": "amaze day trip brussels yafinbrussels",
         "_deepnote_index_column": 475
        },
        {
         "final_tweet": "get food think figure problem fix time mind",
         "_deepnote_index_column": 476
        },
        {
         "final_tweet": "assam poachers kill rhino state forest minister presence via sicktomystomach",
         "_deepnote_index_column": 477
        },
        {
         "final_tweet": "little excite roll gonna awesome tonight stoneroses awesome gig",
         "_deepnote_index_column": 478
        },
        {
         "final_tweet": "barney frank criticize bernie sanders blog silver gold forex",
         "_deepnote_index_column": 479
        },
        {
         "final_tweet": "alarm set place",
         "_deepnote_index_column": 480
        },
        {
         "final_tweet": "welcome already world",
         "_deepnote_index_column": 481
        },
        {
         "final_tweet": "put badge moment awake morning bihday bihdaygirl badge woo",
         "_deepnote_index_column": 482
        },
        {
         "final_tweet": "blow mind think mind blow point mos destruction",
         "_deepnote_index_column": 483
        },
        {
         "final_tweet": "give reason god grace love god father day three love",
         "_deepnote_index_column": 484
        },
        {
         "final_tweet": "bring somerset v surrey game clients afternoon",
         "_deepnote_index_column": 485
        },
        {
         "final_tweet": "guy money man sell quickly via folio collector switzerland popseries",
         "_deepnote_index_column": 486
        },
        {
         "final_tweet": "radicalism counter terrorists see us inhumans free cannot judge color",
         "_deepnote_index_column": 487
        },
        {
         "final_tweet": "french ultras wankers russian english hooligans fool always spoil game",
         "_deepnote_index_column": 488
        },
        {
         "final_tweet": "love sign toronto last night walk back conce place",
         "_deepnote_index_column": 489
        },
        {
         "final_tweet": "loneliness girlfriend break",
         "_deepnote_index_column": 490
        },
        {
         "final_tweet": "days til marbs marbs marbella",
         "_deepnote_index_column": 491
        },
        {
         "final_tweet": "every night say take gun away even mention victims name orlando shoot",
         "_deepnote_index_column": 492
        },
        {
         "final_tweet": "lesmiserables gang ready westendlive lesmiserables lesmis westend love",
         "_deepnote_index_column": 493
        },
        {
         "final_tweet": "week lose gf mexico lose little brother lose golden state wanna suck lose badweek",
         "_deepnote_index_column": 494
        },
        {
         "final_tweet": "cad hold gain week bbh blog silver gold forex",
         "_deepnote_index_column": 495
        },
        {
         "final_tweet": "great staycation family florida",
         "_deepnote_index_column": 496
        },
        {
         "final_tweet": "happy father day l v e roumayne gt gt gt ontbijtopbed vaderdag sundayfunday",
         "_deepnote_index_column": 497
        },
        {
         "final_tweet": "sad self woh base people never meet",
         "_deepnote_index_column": 498
        },
        {
         "final_tweet": "sikh temple vandalise calgary wso condemn act",
         "_deepnote_index_column": 499
        }
       ],
       "rows_bottom": [
        {
         "final_tweet": "carolyn cooper ugly poor ignorant fateful",
         "_deepnote_index_column": 19786
        },
        {
         "final_tweet": "carolyn cooper ugly piteous ignorant black",
         "_deepnote_index_column": 19787
        },
        {
         "final_tweet": "carolyn cooper ugly poor unlearned black",
         "_deepnote_index_column": 19788
        },
        {
         "final_tweet": "carolyn cooper ugly poor ignorant black",
         "_deepnote_index_column": 19789
        },
        {
         "final_tweet": "carolyn cooper ugly poor ignorant black",
         "_deepnote_index_column": 19790
        },
        {
         "final_tweet": "carolyn cooper ugly poor ignorant black",
         "_deepnote_index_column": 19791
        },
        {
         "final_tweet": "carolyn cooper ugly poor unknowing black",
         "_deepnote_index_column": 19792
        },
        {
         "final_tweet": "carolyn cooper ugly poor ignorant black",
         "_deepnote_index_column": 19793
        },
        {
         "final_tweet": "carolyn cooper ugly pitiful ignorant black",
         "_deepnote_index_column": 19794
        },
        {
         "final_tweet": "carolyn peter cooper ugly poor ignorant black",
         "_deepnote_index_column": 19795
        },
        {
         "final_tweet": "democrat pay alway pay black inferior white white subscript everybody",
         "_deepnote_index_column": 19796
        },
        {
         "final_tweet": "democrat pay alway pay black inferior white white subscript everybody",
         "_deepnote_index_column": 19797
        },
        {
         "final_tweet": "democrat pay alway salary black inferior white white hot subscript everybody",
         "_deepnote_index_column": 19798
        },
        {
         "final_tweet": "democrat pay alway pay black subscript white white inferior everybody",
         "_deepnote_index_column": 19799
        },
        {
         "final_tweet": "democrat pay alway wage black inferior white snowy subscript everybody",
         "_deepnote_index_column": 19800
        },
        {
         "final_tweet": "democrat pay alway pay black market inferior white white inferior everybody",
         "_deepnote_index_column": 19801
        },
        {
         "final_tweet": "democrat pay alway pay black inferior livid blanched subscript everybody",
         "_deepnote_index_column": 19802
        },
        {
         "final_tweet": "democrat pay alway pay black substandard white snowy inferior everybody",
         "_deepnote_index_column": 19803
        },
        {
         "final_tweet": "democrat pay alway pay black inferior white ashen subscript everybody",
         "_deepnote_index_column": 19804
        },
        {
         "final_tweet": "democrat pay off alway wage black inferior white white inferior everybody",
         "_deepnote_index_column": 19805
        },
        {
         "final_tweet": "democrat pay alway pay black inferior livid white subscript everybody",
         "_deepnote_index_column": 19806
        },
        {
         "final_tweet": "democrat pay alway earnings black inferior white white inferior everybody",
         "_deepnote_index_column": 19807
        },
        {
         "final_tweet": "democrat pay alway pay black deficient white white inferior everybody",
         "_deepnote_index_column": 19808
        },
        {
         "final_tweet": "democrat devote alway earnings black inferior white whitened inferior everybody",
         "_deepnote_index_column": 19809
        },
        {
         "final_tweet": "maga moron tweet sewage understand hillarylost",
         "_deepnote_index_column": 19810
        },
        {
         "final_tweet": "maga moron tweet sewage understand hillarylost",
         "_deepnote_index_column": 19811
        },
        {
         "final_tweet": "maga imbecile tweet sewage understand hillarylost",
         "_deepnote_index_column": 19812
        },
        {
         "final_tweet": "maga moron tweet sewerage understand hillarylost",
         "_deepnote_index_column": 19813
        },
        {
         "final_tweet": "maga moron tweet sewage understand hillarylost",
         "_deepnote_index_column": 19814
        },
        {
         "final_tweet": "maga moron tweet sewerage understand hillarylost",
         "_deepnote_index_column": 19815
        },
        {
         "final_tweet": "maga moron tweet sewerage understand hillarylost",
         "_deepnote_index_column": 19816
        },
        {
         "final_tweet": "maga moron tweet sewage understand hillarylost",
         "_deepnote_index_column": 19817
        },
        {
         "final_tweet": "maga moron tweet sewerage understand hillarylost",
         "_deepnote_index_column": 19818
        },
        {
         "final_tweet": "maga moron tweet sewage understand hillarylost",
         "_deepnote_index_column": 19819
        },
        {
         "final_tweet": "maga moron tweet sewerage understand hillarylost",
         "_deepnote_index_column": 19820
        },
        {
         "final_tweet": "maga moron tweet sewage understand hillarylost",
         "_deepnote_index_column": 19821
        },
        {
         "final_tweet": "maga moron tweet sewage understand hillarylost",
         "_deepnote_index_column": 19822
        },
        {
         "final_tweet": "maga moron tweet sewage understand hillarylost",
         "_deepnote_index_column": 19823
        },
        {
         "final_tweet": "yes u think brown skin masses cannot think eh",
         "_deepnote_index_column": 19824
        },
        {
         "final_tweet": "yes u think brown skin mass cannot think eh",
         "_deepnote_index_column": 19825
        },
        {
         "final_tweet": "yes u suppose brown skin people cannot think eh",
         "_deepnote_index_column": 19826
        },
        {
         "final_tweet": "yes u think brown skin hoi polloi cannot reckon eh",
         "_deepnote_index_column": 19827
        },
        {
         "final_tweet": "yes u think brown skin citizenry cannot remember eh",
         "_deepnote_index_column": 19828
        },
        {
         "final_tweet": "yes u think brownish skin people cannot think eh",
         "_deepnote_index_column": 19829
        },
        {
         "final_tweet": "yes u consider brown skin people cannot think eh",
         "_deepnote_index_column": 19830
        },
        {
         "final_tweet": "yes u think brown tegument people cannot think eh",
         "_deepnote_index_column": 19831
        },
        {
         "final_tweet": "yes u think dark brown skin people cannot think eh",
         "_deepnote_index_column": 19832
        },
        {
         "final_tweet": "yes u think brown peel people cannot retrieve eh",
         "_deepnote_index_column": 19833
        },
        {
         "final_tweet": "yes u think brown skin multitude cannot think eh",
         "_deepnote_index_column": 19834
        },
        {
         "final_tweet": "yes u think brown skin hoi polloi cannot think eh",
         "_deepnote_index_column": 19835
        },
        {
         "final_tweet": "yes u think brownish skin people cannot think eh",
         "_deepnote_index_column": 19836
        },
        {
         "final_tweet": "yes u think brown skin people cannot call up eh",
         "_deepnote_index_column": 19837
        },
        {
         "final_tweet": "want flame amp dumb mfer hire genocide promote ass hire graduate",
         "_deepnote_index_column": 19838
        },
        {
         "final_tweet": "need fire amp mute mfer hire genocide promote ass hire graduate",
         "_deepnote_index_column": 19839
        },
        {
         "final_tweet": "demand fire amp dumb mfer hire racial extermination promote american samoa hire graduate",
         "_deepnote_index_column": 19840
        },
        {
         "final_tweet": "need fire amp dumb mfer hire genocide promote behind hire graduate",
         "_deepnote_index_column": 19841
        },
        {
         "final_tweet": "need fire amp obtuse mfer hire race murder promote ass hire graduate",
         "_deepnote_index_column": 19842
        },
        {
         "final_tweet": "pauperism fire amp dumb mfer hire racial extermination promote ass hire graduate",
         "_deepnote_index_column": 19843
        },
        {
         "final_tweet": "need fire amp dumb mfer hire genocide promote ass hire graduate",
         "_deepnote_index_column": 19844
        },
        {
         "final_tweet": "need fire amp dumb mfer hire race murder promote ass hire alum",
         "_deepnote_index_column": 19845
        },
        {
         "final_tweet": "need fire amp dumb mfer hire genocide promote ass hire grad",
         "_deepnote_index_column": 19846
        },
        {
         "final_tweet": "indigence fervidness amp dumb mfer hire genocide promote ass hire graduate",
         "_deepnote_index_column": 19847
        },
        {
         "final_tweet": "need fire amp dumb mfer hire genocide promote prat hire graduate",
         "_deepnote_index_column": 19848
        },
        {
         "final_tweet": "want fire amp dumb mfer hire genocide promote ass hire graduate",
         "_deepnote_index_column": 19849
        },
        {
         "final_tweet": "motive fire amp slow mfer hire race murder promote ass hire graduate",
         "_deepnote_index_column": 19850
        },
        {
         "final_tweet": "need flak amp dull mfer hire genocide promote behind hire graduate",
         "_deepnote_index_column": 19851
        },
        {
         "final_tweet": "tyruswong bambi aist thwaed didnt want child constrain assembly line lay others",
         "_deepnote_index_column": 19852
        },
        {
         "final_tweet": "tyruswong bambi aist thwaed didnt want children constrain line of descent lay others",
         "_deepnote_index_column": 19853
        },
        {
         "final_tweet": "tyruswong bambi aist thwaed didnt desire children constrain line lay others",
         "_deepnote_index_column": 19854
        },
        {
         "final_tweet": "tyruswong bambi aist thwaed didnt want tiddler constrain line lay others",
         "_deepnote_index_column": 19855
        },
        {
         "final_tweet": "tyruswong bambi aist thwaed didnt want children constrain line ballad others",
         "_deepnote_index_column": 19856
        },
        {
         "final_tweet": "tyruswong bambi aist thwaed didnt want children constrain line lay others",
         "_deepnote_index_column": 19857
        },
        {
         "final_tweet": "tyruswong bambi aist thwaed didnt need children constrain line lay others",
         "_deepnote_index_column": 19858
        },
        {
         "final_tweet": "tyruswong bambi aist thwaed didnt want children cumber line lay others",
         "_deepnote_index_column": 19859
        },
        {
         "final_tweet": "tyruswong bambi aist thwaed didnt want small fry constrain line ballad others",
         "_deepnote_index_column": 19860
        },
        {
         "final_tweet": "tyruswong bambi aist thwaed didnt want children tighten up line lay others",
         "_deepnote_index_column": 19861
        },
        {
         "final_tweet": "tyruswong bambi aist thwaed didnt want shaver stiffen pipeline lay others",
         "_deepnote_index_column": 19862
        },
        {
         "final_tweet": "tyruswong bambi aist thwaed didnt desire children constrain cable ballad others",
         "_deepnote_index_column": 19863
        },
        {
         "final_tweet": "tyruswong bambi aist thwaed didnt want fry constrain line lay others",
         "_deepnote_index_column": 19864
        },
        {
         "final_tweet": "tyruswong bambi aist thwaed didnt want children tighten line lay others",
         "_deepnote_index_column": 19865
        },
        {
         "final_tweet": "hmmm auditory sensation familiar hold news co",
         "_deepnote_index_column": 19866
        },
        {
         "final_tweet": "hmmm sound familiar moderate news co",
         "_deepnote_index_column": 19867
        },
        {
         "final_tweet": "hmmm auditory sensation familiar hold news co",
         "_deepnote_index_column": 19868
        },
        {
         "final_tweet": "hmmm auditory sensation familiar hold news co",
         "_deepnote_index_column": 19869
        },
        {
         "final_tweet": "hmmm sound familiar hold news conscientious objector",
         "_deepnote_index_column": 19870
        },
        {
         "final_tweet": "hmmm sound familiar hold news co",
         "_deepnote_index_column": 19871
        },
        {
         "final_tweet": "hmmm sound familiar reserve news co",
         "_deepnote_index_column": 19872
        },
        {
         "final_tweet": "hmmm sound familiar hold news co",
         "_deepnote_index_column": 19873
        },
        {
         "final_tweet": "hmmm speech sound familiar hold news co",
         "_deepnote_index_column": 19874
        },
        {
         "final_tweet": "hmmm sound familiar hold news co",
         "_deepnote_index_column": 19875
        },
        {
         "final_tweet": "hmmm sound familiar hold news cobalt",
         "_deepnote_index_column": 19876
        },
        {
         "final_tweet": "hmmm sound familiar take news co",
         "_deepnote_index_column": 19877
        },
        {
         "final_tweet": "hmmm sound familiar reserve news co",
         "_deepnote_index_column": 19878
        },
        {
         "final_tweet": "hmmm sound familiar hold news carbon monoxide gas",
         "_deepnote_index_column": 19879
        },
        {
         "final_tweet": "allahsoil media distos threat moslem extremism emiratis",
         "_deepnote_index_column": 19880
        },
        {
         "final_tweet": "allahsoil medium distos threat islamic extremism emiratis",
         "_deepnote_index_column": 19881
        },
        {
         "final_tweet": "allahsoil media distos terror islamic extremism emiratis",
         "_deepnote_index_column": 19882
        },
        {
         "final_tweet": "allahsoil culture medium distos scourge islamic extremism emiratis",
         "_deepnote_index_column": 19883
        },
        {
         "final_tweet": "allahsoil media distos threat islamic extremism emiratis",
         "_deepnote_index_column": 19884
        },
        {
         "final_tweet": "allahsoil media distos menace muslim extremism emiratis",
         "_deepnote_index_column": 19885
        },
        {
         "final_tweet": "allahsoil media distos threat muslim extremism emiratis",
         "_deepnote_index_column": 19886
        },
        {
         "final_tweet": "allahsoil media distos terror islamic extremism emiratis",
         "_deepnote_index_column": 19887
        },
        {
         "final_tweet": "allahsoil media distos terror islamic extremism emiratis",
         "_deepnote_index_column": 19888
        },
        {
         "final_tweet": "allahsoil media distos terror islamic extremism emiratis",
         "_deepnote_index_column": 19889
        },
        {
         "final_tweet": "allahsoil media distos terror moslem extremism emiratis",
         "_deepnote_index_column": 19890
        },
        {
         "final_tweet": "allahsoil media distos menace moslem extremism emiratis",
         "_deepnote_index_column": 19891
        },
        {
         "final_tweet": "allahsoil media distos threat islamic extremism emiratis",
         "_deepnote_index_column": 19892
        },
        {
         "final_tweet": "allahsoil media distos scourge islamic extremism emiratis",
         "_deepnote_index_column": 19893
        },
        {
         "final_tweet": "excite isle of man attack computerized tomography open present cat repping trump yo",
         "_deepnote_index_column": 19894
        },
        {
         "final_tweet": "excite man plan of attack cat open present cat repping trump yo",
         "_deepnote_index_column": 19895
        },
        {
         "final_tweet": "excite man attack cat open present cat repping trump yo",
         "_deepnote_index_column": 19896
        },
        {
         "final_tweet": "excite man attack african tea open present cat repping trump yo",
         "_deepnote_index_column": 19897
        },
        {
         "final_tweet": "excite man attack cat open present cat repping trump yo",
         "_deepnote_index_column": 19898
        },
        {
         "final_tweet": "excite man onslaught cat open present guy repping trump yo",
         "_deepnote_index_column": 19899
        },
        {
         "final_tweet": "excite man attack cat open present cat repping horn yo",
         "_deepnote_index_column": 19900
        },
        {
         "final_tweet": "excite man flak cat opened present cat repping trump yo",
         "_deepnote_index_column": 19901
        },
        {
         "final_tweet": "excite adult male attack cat clear present cat repping trump yo",
         "_deepnote_index_column": 19902
        },
        {
         "final_tweet": "excite adult male onrush cat open present computerized tomography repping trump yo",
         "_deepnote_index_column": 19903
        },
        {
         "final_tweet": "excite human beings attack cat open present cat repping trump yo",
         "_deepnote_index_column": 19904
        },
        {
         "final_tweet": "excite man attack computed tomography open present cat repping trump yo",
         "_deepnote_index_column": 19905
        },
        {
         "final_tweet": "excite human beings attack computed tomography open present cat repping trump yo",
         "_deepnote_index_column": 19906
        },
        {
         "final_tweet": "excite man attempt cat open present kat repping trump yo",
         "_deepnote_index_column": 19907
        },
        {
         "final_tweet": "allahsoil say muslim hate america suggest emirat",
         "_deepnote_index_column": 19908
        },
        {
         "final_tweet": "allahsoil say muslims detest america suggest emirat",
         "_deepnote_index_column": 19909
        },
        {
         "final_tweet": "allahsoil say moslem hate america suggest emirat",
         "_deepnote_index_column": 19910
        },
        {
         "final_tweet": "allahsoil say muslims hate america paint a picture emirat",
         "_deepnote_index_column": 19911
        },
        {
         "final_tweet": "allahsoil say muslim hate america propose emirat",
         "_deepnote_index_column": 19912
        },
        {
         "final_tweet": "allahsoil say muslims hate america suggest emirat",
         "_deepnote_index_column": 19913
        },
        {
         "final_tweet": "allahsoil say muslims hate america suggest emirat",
         "_deepnote_index_column": 19914
        },
        {
         "final_tweet": "allahsoil enunciate muslims hate america suggest emirat",
         "_deepnote_index_column": 19915
        },
        {
         "final_tweet": "allahsoil say muslims hate america propose emirat",
         "_deepnote_index_column": 19916
        },
        {
         "final_tweet": "allahsoil order muslims hate america suggest emirat",
         "_deepnote_index_column": 19917
        },
        {
         "final_tweet": "allahsoil say muslims hate america suggest emirat",
         "_deepnote_index_column": 19918
        },
        {
         "final_tweet": "allahsoil say muslim detest america suggest emirat",
         "_deepnote_index_column": 19919
        },
        {
         "final_tweet": "allahsoil say muslims detest america advise emirat",
         "_deepnote_index_column": 19920
        },
        {
         "final_tweet": "allahsoil say moslem detest america suggest emirat",
         "_deepnote_index_column": 19921
        },
        {
         "final_tweet": "typical lie leftist thats slander grp christian dont down christia",
         "_deepnote_index_column": 19922
        },
        {
         "final_tweet": "typical lie leftist thats slander grp christians dont obliterate christia",
         "_deepnote_index_column": 19923
        },
        {
         "final_tweet": "distinctive trygve lie leftist thats slander grp christians dont kill christia",
         "_deepnote_index_column": 19924
        },
        {
         "final_tweet": "typical lie left wing thats slander grp christian dont kill christia",
         "_deepnote_index_column": 19925
        },
        {
         "final_tweet": "typical lie leftist thats sully grp christians dont kill christia",
         "_deepnote_index_column": 19926
        },
        {
         "final_tweet": "typical prevarication leftist thats besmirch grp christian dont kill christia",
         "_deepnote_index_column": 19927
        },
        {
         "final_tweet": "typical lie left wing thats denigrate grp christian dont kill christia",
         "_deepnote_index_column": 19928
        },
        {
         "final_tweet": "distinctive lie leftist thats sully grp christians dont kill christia",
         "_deepnote_index_column": 19929
        },
        {
         "final_tweet": "typical lie leftist thats besmirch grp christians dont kill christia",
         "_deepnote_index_column": 19930
        },
        {
         "final_tweet": "typical lie leftist thats slander grp christian dont kill christia",
         "_deepnote_index_column": 19931
        },
        {
         "final_tweet": "typical lie leftist thats smirch grp christian dont kill christia",
         "_deepnote_index_column": 19932
        },
        {
         "final_tweet": "typical lie leftist thats slander grp christian dont stamp out christia",
         "_deepnote_index_column": 19933
        },
        {
         "final_tweet": "typical trygve lie left wing thats slander grp christians dont stamp out christia",
         "_deepnote_index_column": 19934
        },
        {
         "final_tweet": "distinctive trygve lie leftist thats slander grp christians dont kill christia",
         "_deepnote_index_column": 19935
        },
        {
         "final_tweet": "white flight derek pitch dark klan trump change",
         "_deepnote_index_column": 19936
        },
        {
         "final_tweet": "ashen flight derek black kkk trump change",
         "_deepnote_index_column": 19937
        },
        {
         "final_tweet": "white flight derek black kkk trump alteration",
         "_deepnote_index_column": 19938
        },
        {
         "final_tweet": "white trajectory derek black klan trump change",
         "_deepnote_index_column": 19939
        },
        {
         "final_tweet": "white flight derek black ku klux klan trump change",
         "_deepnote_index_column": 19940
        },
        {
         "final_tweet": "blank flight derek black kkk trump modification",
         "_deepnote_index_column": 19941
        },
        {
         "final_tweet": "lily white flight derek black kkk cornet change",
         "_deepnote_index_column": 19942
        },
        {
         "final_tweet": "bloodless flight derek black kkk cornet change",
         "_deepnote_index_column": 19943
        },
        {
         "final_tweet": "white flight derek black kkk trumpet change",
         "_deepnote_index_column": 19944
        },
        {
         "final_tweet": "white flight of stairs derek black kkk trump change",
         "_deepnote_index_column": 19945
        },
        {
         "final_tweet": "clean flight derek black kkk trump variety",
         "_deepnote_index_column": 19946
        },
        {
         "final_tweet": "white flight derek pitch dark klan trump change",
         "_deepnote_index_column": 19947
        },
        {
         "final_tweet": "white flying derek black ku klux klan trump change",
         "_deepnote_index_column": 19948
        },
        {
         "final_tweet": "ashen flight derek black kkk trump variety",
         "_deepnote_index_column": 19949
        },
        {
         "final_tweet": "hillaryclinton call homophobic woman hater really mean green eyed wh",
         "_deepnote_index_column": 19950
        },
        {
         "final_tweet": "hillaryclinton call homophobic misogynist really mean overjealous wh",
         "_deepnote_index_column": 19951
        },
        {
         "final_tweet": "hillaryclinton call homophobic misogynist truly mean envious wh",
         "_deepnote_index_column": 19952
        },
        {
         "final_tweet": "hillaryclinton call homophobic misogynist really mean jealous wh",
         "_deepnote_index_column": 19953
        },
        {
         "final_tweet": "hillaryclinton shout homophobic misogynist really mean overjealous wh",
         "_deepnote_index_column": 19954
        },
        {
         "final_tweet": "hillaryclinton call homophobic woman hater real mean jealous wh",
         "_deepnote_index_column": 19955
        },
        {
         "final_tweet": "hillaryclinton call homophobic woman hater really mean jealous wh",
         "_deepnote_index_column": 19956
        },
        {
         "final_tweet": "hillaryclinton yell homophobic misogynist really mean covetous wh",
         "_deepnote_index_column": 19957
        },
        {
         "final_tweet": "hillaryclinton call homophobic woman hater really mean covetous wh",
         "_deepnote_index_column": 19958
        },
        {
         "final_tweet": "hillaryclinton call homophobic woman hater really base jealous wh",
         "_deepnote_index_column": 19959
        },
        {
         "final_tweet": "hillaryclinton claim homophobic misogynist genuinely mean jealous wh",
         "_deepnote_index_column": 19960
        },
        {
         "final_tweet": "hillaryclinton call homophobic misogynist really mean overjealous wh",
         "_deepnote_index_column": 19961
        },
        {
         "final_tweet": "hillaryclinton margin call homophobic misogynist real mean jealous wh",
         "_deepnote_index_column": 19962
        },
        {
         "final_tweet": "hillaryclinton call homophobic misogynist really mean covetous wh",
         "_deepnote_index_column": 19963
        },
        {
         "final_tweet": "imbecile make blood boil pig liar",
         "_deepnote_index_column": 19964
        },
        {
         "final_tweet": "idiot defecate blood boil pig liar",
         "_deepnote_index_column": 19965
        },
        {
         "final_tweet": "idiot establish blood boil pig liar",
         "_deepnote_index_column": 19966
        },
        {
         "final_tweet": "idiot make blood boil pig prevaricator",
         "_deepnote_index_column": 19967
        },
        {
         "final_tweet": "idiot make line of descent boil pig liar",
         "_deepnote_index_column": 19968
        },
        {
         "final_tweet": "idiot make blood boil pig prevaricator",
         "_deepnote_index_column": 19969
        },
        {
         "final_tweet": "idiot make blood furuncle pig liar",
         "_deepnote_index_column": 19970
        },
        {
         "final_tweet": "idiot make blood boil pig prevaricator",
         "_deepnote_index_column": 19971
        },
        {
         "final_tweet": "idiot make blood boil cop liar",
         "_deepnote_index_column": 19972
        },
        {
         "final_tweet": "moron make blood boil pig liar",
         "_deepnote_index_column": 19973
        },
        {
         "final_tweet": "idiot make parentage boil pig liar",
         "_deepnote_index_column": 19974
        },
        {
         "final_tweet": "idiot make blood furuncle pig liar",
         "_deepnote_index_column": 19975
        },
        {
         "final_tweet": "idiot make blood furuncle pig liar",
         "_deepnote_index_column": 19976
        },
        {
         "final_tweet": "idiot create blood boil pig liar",
         "_deepnote_index_column": 19977
        },
        {
         "final_tweet": "innocent would love gollybar allege every irish kid ever so",
         "_deepnote_index_column": 19978
        },
        {
         "final_tweet": "innocent would love gollybar say every irish kid ever",
         "_deepnote_index_column": 19979
        },
        {
         "final_tweet": "innocent would lie with gollybar say every irish tyke ever",
         "_deepnote_index_column": 19980
        },
        {
         "final_tweet": "innocent would love gollybar say every irish people kyd ever",
         "_deepnote_index_column": 19981
        },
        {
         "final_tweet": "innocent would love gollybar say every irish kid e'er",
         "_deepnote_index_column": 19982
        },
        {
         "final_tweet": "inexperienced person would love gollybar say every irish small fry ever",
         "_deepnote_index_column": 19983
        },
        {
         "final_tweet": "innocent would make out gollybar say every irish child ever",
         "_deepnote_index_column": 19984
        },
        {
         "final_tweet": "innocent would bang gollybar say every irish kid ever",
         "_deepnote_index_column": 19985
        },
        {
         "final_tweet": "innocent would enjoy gollybar say every irish kid ever",
         "_deepnote_index_column": 19986
        },
        {
         "final_tweet": "inexperienced person would love gollybar say every irish kid ever",
         "_deepnote_index_column": 19987
        },
        {
         "final_tweet": "inexperienced person would love gollybar say every irish kyd ever",
         "_deepnote_index_column": 19988
        },
        {
         "final_tweet": "inexperienced person would love gollybar say every irish kid ever",
         "_deepnote_index_column": 19989
        },
        {
         "final_tweet": "inexperienced person would love gollybar say every irish minor ever",
         "_deepnote_index_column": 19990
        },
        {
         "final_tweet": "innocent would love gollybar enunciate every irish kid ever",
         "_deepnote_index_column": 19991
        },
        {
         "final_tweet": "deafen silence anti racist militant regard porn punishing comprehend htt",
         "_deepnote_index_column": 19992
        },
        {
         "final_tweet": "deafen secretiveness anti racist activists regard porn voiceless comprehend htt",
         "_deepnote_index_column": 19993
        },
        {
         "final_tweet": "deafen silence anti antiblack activists consider porn hard comprehend htt",
         "_deepnote_index_column": 19994
        },
        {
         "final_tweet": "deafen secrecy anti racist activists consider porn hard comprehend htt",
         "_deepnote_index_column": 19995
        },
        {
         "final_tweet": "deafen silence anti racist activists regard porn hard comprehend htt",
         "_deepnote_index_column": 19996
        },
        {
         "final_tweet": "deafen silence anti racist activists view porn hard comprehend htt",
         "_deepnote_index_column": 19997
        },
        {
         "final_tweet": "deafen silence anti racist activists regard porn heavy comprehend htt",
         "_deepnote_index_column": 19998
        },
        {
         "final_tweet": "deafen muteness anti racist activists affect porn hard comprehend htt",
         "_deepnote_index_column": 19999
        },
        {
         "final_tweet": "deafen silence anti anti semite activists regard porn hard comprehend htt",
         "_deepnote_index_column": 20000
        },
        {
         "final_tweet": "deafen silence anti racist activists affect porn hard comprehend htt",
         "_deepnote_index_column": 20001
        },
        {
         "final_tweet": "deafen silence anti racist activists regard porn surd comprehend htt",
         "_deepnote_index_column": 20002
        },
        {
         "final_tweet": "deafen silence anti racist activists affect porn hard comprehend htt",
         "_deepnote_index_column": 20003
        },
        {
         "final_tweet": "deafen secrecy anti racist activists regard porn hard comprehend htt",
         "_deepnote_index_column": 20004
        },
        {
         "final_tweet": "deafen secrecy anti anti semite activists regard porn voiceless comprehend htt",
         "_deepnote_index_column": 20005
        },
        {
         "final_tweet": "name women best bare blonde teenagers",
         "_deepnote_index_column": 20006
        },
        {
         "final_tweet": "name women best au naturel blonde teenagers",
         "_deepnote_index_column": 20007
        },
        {
         "final_tweet": "name adult female best nude blonde teenagers",
         "_deepnote_index_column": 20008
        },
        {
         "final_tweet": "name women best bare blonde teenagers",
         "_deepnote_index_column": 20009
        },
        {
         "final_tweet": "name women best nude blond teenagers",
         "_deepnote_index_column": 20010
        },
        {
         "final_tweet": "name women best bare blonde teenagers",
         "_deepnote_index_column": 20011
        },
        {
         "final_tweet": "name women best nude blonde teenager",
         "_deepnote_index_column": 20012
        },
        {
         "final_tweet": "name women best bare blonde teenagers",
         "_deepnote_index_column": 20013
        },
        {
         "final_tweet": "name woman best nude blonde teenagers",
         "_deepnote_index_column": 20014
        },
        {
         "final_tweet": "name women best naked blonde teenagers",
         "_deepnote_index_column": 20015
        },
        {
         "final_tweet": "name adult female best nude blonde teenagers",
         "_deepnote_index_column": 20016
        },
        {
         "final_tweet": "name women best nude blonde teen",
         "_deepnote_index_column": 20017
        },
        {
         "final_tweet": "name women best nude blond teenagers",
         "_deepnote_index_column": 20018
        },
        {
         "final_tweet": "figure women best nude blonde teenagers",
         "_deepnote_index_column": 20019
        },
        {
         "final_tweet": "cud wud blackonblack antiblackness dogwhistle blacklives",
         "_deepnote_index_column": 20020
        },
        {
         "final_tweet": "cud wud blackonblack antiblackness dogwhistle blacklives",
         "_deepnote_index_column": 20021
        },
        {
         "final_tweet": "cud wud blackonblack antiblackness dogwhistle blacklives",
         "_deepnote_index_column": 20022
        },
        {
         "final_tweet": "cud wud blackonblack antiblackness dogwhistle blacklives",
         "_deepnote_index_column": 20023
        },
        {
         "final_tweet": "cud wud blackonblack antiblackness dogwhistle blacklives",
         "_deepnote_index_column": 20024
        },
        {
         "final_tweet": "cud wud blackonblack antiblackness dogwhistle blacklives",
         "_deepnote_index_column": 20025
        },
        {
         "final_tweet": "wad wud blackonblack antiblackness dogwhistle blacklives",
         "_deepnote_index_column": 20026
        },
        {
         "final_tweet": "cud wud blackonblack antiblackness dogwhistle blacklives",
         "_deepnote_index_column": 20027
        },
        {
         "final_tweet": "cud wud blackonblack antiblackness dogwhistle blacklives",
         "_deepnote_index_column": 20028
        },
        {
         "final_tweet": "cud wud blackonblack antiblackness dogwhistle blacklives",
         "_deepnote_index_column": 20029
        },
        {
         "final_tweet": "cud wud blackonblack antiblackness dogwhistle blacklives",
         "_deepnote_index_column": 20030
        },
        {
         "final_tweet": "chew wud blackonblack antiblackness dogwhistle blacklives",
         "_deepnote_index_column": 20031
        },
        {
         "final_tweet": "cud wud blackonblack antiblackness dogwhistle blacklives",
         "_deepnote_index_column": 20032
        },
        {
         "final_tweet": "cud wud blackonblack antiblackness dogwhistle blacklives",
         "_deepnote_index_column": 20033
        },
        {
         "final_tweet": "j speed of light penney employee hold client headlock wow havent respond corporatebs boycottjcpenney",
         "_deepnote_index_column": 20034
        },
        {
         "final_tweet": "j c penney employee hold client headlock thigh slapper havent respond corporatebs boycottjcpenney",
         "_deepnote_index_column": 20035
        },
        {
         "final_tweet": "j 100 penney employee hold client headlock wow havent respond corporatebs boycottjcpenney",
         "_deepnote_index_column": 20036
        },
        {
         "final_tweet": "watt second c penney employee hold customer headlock wow havent respond corporatebs boycottjcpenney",
         "_deepnote_index_column": 20037
        },
        {
         "final_tweet": "joule c penney employee throw customer headlock wow havent respond corporatebs boycottjcpenney",
         "_deepnote_index_column": 20038
        },
        {
         "final_tweet": "j c penney employee book customer headlock howler havent respond corporatebs boycottjcpenney",
         "_deepnote_index_column": 20039
        },
        {
         "final_tweet": "watt second c penney employee hold customer headlock wow havent respond corporatebs boycottjcpenney",
         "_deepnote_index_column": 20040
        },
        {
         "final_tweet": "watt second c penney employee hold client headlock wow havent respond corporatebs boycottjcpenney",
         "_deepnote_index_column": 20041
        },
        {
         "final_tweet": "joule c penney employee hold customer headlock wow havent respond corporatebs boycottjcpenney",
         "_deepnote_index_column": 20042
        },
        {
         "final_tweet": "joule c penney employee hold customer headlock wow havent respond corporatebs boycottjcpenney",
         "_deepnote_index_column": 20043
        },
        {
         "final_tweet": "j c penney employee hold customer headlock wow havent respond corporatebs boycottjcpenney",
         "_deepnote_index_column": 20044
        },
        {
         "final_tweet": "j c penney employee bear client headlock wow havent respond corporatebs boycottjcpenney",
         "_deepnote_index_column": 20045
        },
        {
         "final_tweet": "joule c penney employee have customer headlock wow havent respond corporatebs boycottjcpenney",
         "_deepnote_index_column": 20046
        },
        {
         "final_tweet": "j c penney employee obligate customer headlock wow havent respond corporatebs boycottjcpenney",
         "_deepnote_index_column": 20047
        },
        {
         "final_tweet": "carlpaladino gossip obamas make previous contender loathsome character",
         "_deepnote_index_column": 20048
        },
        {
         "final_tweet": "carlpaladino scuttlebutt obamas make late challenger loathsome character",
         "_deepnote_index_column": 20049
        },
        {
         "final_tweet": "carlpaladino comment obamas urinate later contender loathsome character",
         "_deepnote_index_column": 20050
        },
        {
         "final_tweet": "carlpaladino comment obamas progress to belated contender loathsome character",
         "_deepnote_index_column": 20051
        },
        {
         "final_tweet": "carlpaladino comment obamas build tardy contender loathsome character",
         "_deepnote_index_column": 20052
        },
        {
         "final_tweet": "carlpaladino comment obamas arrive at late contender loathsome character",
         "_deepnote_index_column": 20053
        },
        {
         "final_tweet": "carlpaladino comment obamas make late contender loathsome part",
         "_deepnote_index_column": 20054
        },
        {
         "final_tweet": "carlpaladino gossip obamas make belated contender loathsome character",
         "_deepnote_index_column": 20055
        },
        {
         "final_tweet": "carlpaladino comment obamas make late contender loathsome grapheme",
         "_deepnote_index_column": 20056
        },
        {
         "final_tweet": "carlpaladino gossip obamas gain late contender loathsome character",
         "_deepnote_index_column": 20057
        },
        {
         "final_tweet": "carlpaladino comment obamas make late competitor loathsome character",
         "_deepnote_index_column": 20058
        },
        {
         "final_tweet": "carlpaladino input obamas make later contender loathsome character",
         "_deepnote_index_column": 20059
        },
        {
         "final_tweet": "carlpaladino comment obamas pee late contender loathsome quality",
         "_deepnote_index_column": 20060
        },
        {
         "final_tweet": "carlpaladino comment obamas make late contender loathsome character",
         "_deepnote_index_column": 20061
        },
        {
         "final_tweet": "obama destructive president history amp legend isis iran copkiller syria",
         "_deepnote_index_column": 20062
        },
        {
         "final_tweet": "obama destructive united states president history amp legend isis iran copkiller syria",
         "_deepnote_index_column": 20063
        },
        {
         "final_tweet": "obama destructive president history amp legend isis islamic republic of iran copkiller syria",
         "_deepnote_index_column": 20064
        },
        {
         "final_tweet": "obama destructive president history amp fable directorate for inter services intelligence iran copk…",
         "_deepnote_index_column": 20065
        },
        {
         "final_tweet": "obama destructive chairman history amp legend inter services intelligence iran copkiller syria",
         "_deepnote_index_column": 20066
        },
        {
         "final_tweet": "obama destructive president history amp legend isi iran copkiller syrian arab republic",
         "_deepnote_index_column": 20067
        },
        {
         "final_tweet": "obama destructive president history amp legend directorate for inter services intelligence persia c…",
         "_deepnote_index_column": 20068
        },
        {
         "final_tweet": "obama destructive president history amp caption isis persia copkiller syria",
         "_deepnote_index_column": 20069
        },
        {
         "final_tweet": "obama destructive president account amp legend isi iran copkiller syria",
         "_deepnote_index_column": 20070
        },
        {
         "final_tweet": "obama destructive prexy account amp legend isis iran copkiller syria",
         "_deepnote_index_column": 20071
        },
        {
         "final_tweet": "obama destructive president of the united states history amp legend isis persia copkiller syria",
         "_deepnote_index_column": 20072
        },
        {
         "final_tweet": "obama destructive president story amp legend isis iran copkiller syrian arab republic",
         "_deepnote_index_column": 20073
        },
        {
         "final_tweet": "obama destructive president history amp caption isi islamic republic of iran copkiller syria",
         "_deepnote_index_column": 20074
        },
        {
         "final_tweet": "obama destructive prexy history amp legend directorate for inter services intelligence iran copkill…",
         "_deepnote_index_column": 20075
        },
        {
         "final_tweet": "agree true overutilisation term result fast become meaningless",
         "_deepnote_index_column": 20076
        },
        {
         "final_tweet": "agree true overexploitation term result fast become meaningless",
         "_deepnote_index_column": 20077
        },
        {
         "final_tweet": "agree truthful overuse condition result fast become meaningless",
         "_deepnote_index_column": 20078
        },
        {
         "final_tweet": "agree true overuse term result fast become meaningless",
         "_deepnote_index_column": 20079
        },
        {
         "final_tweet": "agree dead on target overuse terminal figure result fast become meaningless",
         "_deepnote_index_column": 20080
        },
        {
         "final_tweet": "agree true overutilisation term result tight become meaningless",
         "_deepnote_index_column": 20081
        },
        {
         "final_tweet": "agree true overuse term result fast become meaningless",
         "_deepnote_index_column": 20082
        },
        {
         "final_tweet": "agree unfeigned overuse full term result fast become meaningless",
         "_deepnote_index_column": 20083
        },
        {
         "final_tweet": "agree true overuse term final result fast become meaningless",
         "_deepnote_index_column": 20084
        },
        {
         "final_tweet": "agree true overutilisation term result fast become meaningless",
         "_deepnote_index_column": 20085
        },
        {
         "final_tweet": "agree true overuse term consequence fast become meaningless",
         "_deepnote_index_column": 20086
        },
        {
         "final_tweet": "agree straight overuse term event fast become meaningless",
         "_deepnote_index_column": 20087
        },
        {
         "final_tweet": "agree true overexploitation term result fast become meaningless",
         "_deepnote_index_column": 20088
        },
        {
         "final_tweet": "agree true overutilisation term result fast become meaningless",
         "_deepnote_index_column": 20089
        },
        {
         "final_tweet": "late post mass kinda monster democracy",
         "_deepnote_index_column": 20090
        },
        {
         "final_tweet": "latest post mass kinda monster commonwealth",
         "_deepnote_index_column": 20091
        },
        {
         "final_tweet": "late post mass kinda monster democracy",
         "_deepnote_index_column": 20092
        },
        {
         "final_tweet": "latest post mass kinda monster majority rule",
         "_deepnote_index_column": 20093
        },
        {
         "final_tweet": "former post mass kinda monster democracy",
         "_deepnote_index_column": 20094
        },
        {
         "final_tweet": "latest post mass kinda monstrosity democracy",
         "_deepnote_index_column": 20095
        },
        {
         "final_tweet": "in style post mass kinda monster democracy",
         "_deepnote_index_column": 20096
        },
        {
         "final_tweet": "latest post mass kinda monster democracy",
         "_deepnote_index_column": 20097
        },
        {
         "final_tweet": "latest post mass kinda lusus naturae democracy",
         "_deepnote_index_column": 20098
        },
        {
         "final_tweet": "latest post mass kinda monster republic",
         "_deepnote_index_column": 20099
        },
        {
         "final_tweet": "latest post mass kinda monster democracy",
         "_deepnote_index_column": 20100
        },
        {
         "final_tweet": "latest post great deal kinda monster democracy",
         "_deepnote_index_column": 20101
        },
        {
         "final_tweet": "latest post mass kinda monster majority rule",
         "_deepnote_index_column": 20102
        },
        {
         "final_tweet": "latest post wad kinda monster democracy",
         "_deepnote_index_column": 20103
        },
        {
         "final_tweet": "need change profile economicapahied hatespeech get service poor",
         "_deepnote_index_column": 20104
        },
        {
         "final_tweet": "need alteration profile economicapahied hatespeech get service poor",
         "_deepnote_index_column": 20105
        },
        {
         "final_tweet": "need change visibility economicapahied hatespeech get service poor",
         "_deepnote_index_column": 20106
        },
        {
         "final_tweet": "need change visibility economicapahied hatespeech get service poor",
         "_deepnote_index_column": 20107
        },
        {
         "final_tweet": "motivation change profile economicapahied hatespeech get service poor",
         "_deepnote_index_column": 20108
        },
        {
         "final_tweet": "need modification profile economicapahied hatespeech get service short",
         "_deepnote_index_column": 20109
        },
        {
         "final_tweet": "need variety profile economicapahied hatespeech get service hapless",
         "_deepnote_index_column": 20110
        },
        {
         "final_tweet": "need change profile economicapahied hatespeech get service poor",
         "_deepnote_index_column": 20111
        },
        {
         "final_tweet": "need change visibility economicapahied hatespeech get service pathetic",
         "_deepnote_index_column": 20112
        },
        {
         "final_tweet": "need variety profile economicapahied hatespeech get service inadequate",
         "_deepnote_index_column": 20113
        },
        {
         "final_tweet": "need change profile economicapahied hatespeech get table service poor",
         "_deepnote_index_column": 20114
        },
        {
         "final_tweet": "demand change profile economicapahied hatespeech get service poor",
         "_deepnote_index_column": 20115
        },
        {
         "final_tweet": "need change profile economicapahied hatespeech get religious service poor",
         "_deepnote_index_column": 20116
        },
        {
         "final_tweet": "pauperization change visibility economicapahied hatespeech get service poor",
         "_deepnote_index_column": 20117
        },
        {
         "final_tweet": "outrage emoji update daring rich woman fat man say cleaning lady get fat",
         "_deepnote_index_column": 20118
        },
        {
         "final_tweet": "outrage emoji update dare juicy woman fat man say women get rich",
         "_deepnote_index_column": 20119
        },
        {
         "final_tweet": "outrage emoji update dare productive woman fat man tell women get fertile",
         "_deepnote_index_column": 20120
        },
        {
         "final_tweet": "outrage emoji update dare fatty woman fat man say women get under one's skin fat",
         "_deepnote_index_column": 20121
        },
        {
         "final_tweet": "scandalization emoji update dare fat woman fat man say woman get juicy",
         "_deepnote_index_column": 20122
        },
        {
         "final_tweet": "outrage emoji update dare fat woman fat man tell woman get fat",
         "_deepnote_index_column": 20123
        },
        {
         "final_tweet": "scandal emoji update daring fat woman fat man say women get fat",
         "_deepnote_index_column": 20124
        },
        {
         "final_tweet": "outrage emoji update daring fat cleaning woman fat man say woman get fat",
         "_deepnote_index_column": 20125
        },
        {
         "final_tweet": "outrage emoji update dare fat woman fertile man say women get fat",
         "_deepnote_index_column": 20126
        },
        {
         "final_tweet": "outrage emoji update daring fat woman fatty human race say women get fat",
         "_deepnote_index_column": 20127
        },
        {
         "final_tweet": "outrage emoji update dare fat woman fertile isle of man say women get fertile",
         "_deepnote_index_column": 20128
        },
        {
         "final_tweet": "scandal emoji update dare fat char fat man say women get productive",
         "_deepnote_index_column": 20129
        },
        {
         "final_tweet": "outrage emoji update daring fertile woman fat man say women get fat",
         "_deepnote_index_column": 20130
        },
        {
         "final_tweet": "indignation emoji update dare fat woman fertile valet de chambre say women get fat",
         "_deepnote_index_column": 20131
        },
        {
         "final_tweet": "malia shake ass fine pass blunt",
         "_deepnote_index_column": 20132
        },
        {
         "final_tweet": "malia shake ass fine liberty chit blunt",
         "_deepnote_index_column": 20133
        },
        {
         "final_tweet": "malia shake ass fine bye blunt",
         "_deepnote_index_column": 20134
        },
        {
         "final_tweet": "malia shake ass fine pass blunt",
         "_deepnote_index_column": 20135
        },
        {
         "final_tweet": "malia shake ass fine pass blunt",
         "_deepnote_index_column": 20136
        },
        {
         "final_tweet": "malia shake off ass fine pass blunt",
         "_deepnote_index_column": 20137
        },
        {
         "final_tweet": "malia shake ass ok pass blunt",
         "_deepnote_index_column": 20138
        },
        {
         "final_tweet": "malia shake ass fine pass blunt",
         "_deepnote_index_column": 20139
        },
        {
         "final_tweet": "malia shake ass all right pass blunt",
         "_deepnote_index_column": 20140
        },
        {
         "final_tweet": "malia didder ass fine pass blunt",
         "_deepnote_index_column": 20141
        },
        {
         "final_tweet": "malia shake ass hunky dory pass blunt",
         "_deepnote_index_column": 20142
        },
        {
         "final_tweet": "malia escape from ass fine pass blunt",
         "_deepnote_index_column": 20143
        },
        {
         "final_tweet": "malia shake ass fine whirl blunt",
         "_deepnote_index_column": 20144
        },
        {
         "final_tweet": "malia rock ass fine pass blunt",
         "_deepnote_index_column": 20145
        },
        {
         "final_tweet": "run hater gripe whiteknight",
         "_deepnote_index_column": 20146
        },
        {
         "final_tweet": "run hater bitch whiteknight",
         "_deepnote_index_column": 20147
        },
        {
         "final_tweet": "run hater squawk whiteknight",
         "_deepnote_index_column": 20148
        },
        {
         "final_tweet": "black market hater bitch whiteknight",
         "_deepnote_index_column": 20149
        },
        {
         "final_tweet": "run hater cunt whiteknight",
         "_deepnote_index_column": 20150
        },
        {
         "final_tweet": "flow hater bitch whiteknight",
         "_deepnote_index_column": 20151
        },
        {
         "final_tweet": "run hater squawk whiteknight",
         "_deepnote_index_column": 20152
        },
        {
         "final_tweet": "run hater bitch whiteknight",
         "_deepnote_index_column": 20153
        },
        {
         "final_tweet": "run hater bitch whiteknight",
         "_deepnote_index_column": 20154
        },
        {
         "final_tweet": "run hater cunt whiteknight",
         "_deepnote_index_column": 20155
        },
        {
         "final_tweet": "run hater bitch whiteknight",
         "_deepnote_index_column": 20156
        },
        {
         "final_tweet": "take to the woods hater bitch whiteknight",
         "_deepnote_index_column": 20157
        },
        {
         "final_tweet": "run hater cunt whiteknight",
         "_deepnote_index_column": 20158
        },
        {
         "final_tweet": "run hater kick whiteknight",
         "_deepnote_index_column": 20159
        },
        {
         "final_tweet": "shop purge trump products believe canadians",
         "_deepnote_index_column": 20160
        },
        {
         "final_tweet": "workshop purge trump products think canadians",
         "_deepnote_index_column": 20161
        },
        {
         "final_tweet": "shop purge trump products guess canadians",
         "_deepnote_index_column": 20162
        },
        {
         "final_tweet": "shop purge trump production think canadians",
         "_deepnote_index_column": 20163
        },
        {
         "final_tweet": "shop purge trump production think canadians",
         "_deepnote_index_column": 20164
        },
        {
         "final_tweet": "shop purge trump products suppose canadians",
         "_deepnote_index_column": 20165
        },
        {
         "final_tweet": "shop purging trump products think canadians",
         "_deepnote_index_column": 20166
        },
        {
         "final_tweet": "shop purging trump products think canadians",
         "_deepnote_index_column": 20167
        },
        {
         "final_tweet": "shop purge trump products remember canadians",
         "_deepnote_index_column": 20168
        },
        {
         "final_tweet": "shop purge cornet products think canadians",
         "_deepnote_index_column": 20169
        },
        {
         "final_tweet": "shop purging trump products think canadians",
         "_deepnote_index_column": 20170
        },
        {
         "final_tweet": "shop purging trump products think canadians",
         "_deepnote_index_column": 20171
        },
        {
         "final_tweet": "shop purge trump card products think canadians",
         "_deepnote_index_column": 20172
        },
        {
         "final_tweet": "shop purgation trump products think canadians",
         "_deepnote_index_column": 20173
        },
        {
         "final_tweet": "win douchelord year good work dickhole douchebag asshole yousuck mysoginist bigot care",
         "_deepnote_index_column": 20174
        },
        {
         "final_tweet": "winnings douchelord twelvemonth good work dickhole douchebag asshole yousuck mysoginist bigot vener…",
         "_deepnote_index_column": 20175
        },
        {
         "final_tweet": "win douchelord year unspoiled work dickhole douchebag asshole yousuck mysoginist bigot fear",
         "_deepnote_index_column": 20176
        },
        {
         "final_tweet": "win douchelord yr good work dickhole douchebag asshole yousuck mysoginist bigot fear",
         "_deepnote_index_column": 20177
        },
        {
         "final_tweet": "win douchelord yr good study dickhole douchebag asshole yousuck mysoginist bigot care",
         "_deepnote_index_column": 20178
        },
        {
         "final_tweet": "win douchelord year beneficial work dickhole douchebag asshole yousuck mysoginist bigot fear",
         "_deepnote_index_column": 20179
        },
        {
         "final_tweet": "winnings douchelord year good work dickhole douchebag asshole yousuck mysoginist bigot reverence",
         "_deepnote_index_column": 20180
        },
        {
         "final_tweet": "win douchelord class good work dickhole douchebag asshole yousuck mysoginist bigot fear",
         "_deepnote_index_column": 20181
        },
        {
         "final_tweet": "win douchelord year good workplace dickhole douchebag asshole yousuck mysoginist bigot care",
         "_deepnote_index_column": 20182
        },
        {
         "final_tweet": "profits douchelord year safe work dickhole douchebag asshole yousuck mysoginist bigot fear",
         "_deepnote_index_column": 20183
        },
        {
         "final_tweet": "win douchelord year good work dickhole douchebag asshole yousuck mysoginist bigot fear",
         "_deepnote_index_column": 20184
        },
        {
         "final_tweet": "win douchelord year well employment dickhole douchebag asshole yousuck mysoginist bigot fear",
         "_deepnote_index_column": 20185
        },
        {
         "final_tweet": "win douchelord year in effect work dickhole douchebag asshole yousuck mysoginist bigot fear",
         "_deepnote_index_column": 20186
        },
        {
         "final_tweet": "win douchelord year good work dickhole douchebag asshole yousuck mysoginist bigot fear",
         "_deepnote_index_column": 20187
        },
        {
         "final_tweet": "allahsoil jews christians muslims conceive unspoilt prevail cnn bbc msnbc",
         "_deepnote_index_column": 20188
        },
        {
         "final_tweet": "allahsoil jew christian muslims believe estimable prevail cnn bbc msnbc",
         "_deepnote_index_column": 20189
        },
        {
         "final_tweet": "allahsoil israelite christians muslims believe good prevail cnn bbc msnbc",
         "_deepnote_index_column": 20190
        },
        {
         "final_tweet": "allahsoil jews christians moslem believe good prevail cnn bbc msnbc",
         "_deepnote_index_column": 20191
        },
        {
         "final_tweet": "allahsoil hebrew christian muslims believe good prevail cnn bbc msnbc",
         "_deepnote_index_column": 20192
        },
        {
         "final_tweet": "allahsoil jews christians muslims think good prevail cnn bbc msnbc",
         "_deepnote_index_column": 20193
        },
        {
         "final_tweet": "allahsoil jews christians moslem conceive secure prevail cnn bbc msnbc",
         "_deepnote_index_column": 20194
        },
        {
         "final_tweet": "allahsoil jews christians moslem believe good prevail cnn bbc msnbc",
         "_deepnote_index_column": 20195
        },
        {
         "final_tweet": "allahsoil israelite christians muslims believe good prevail cnn bbc msnbc",
         "_deepnote_index_column": 20196
        },
        {
         "final_tweet": "allahsoil jews christians muslim believe good prevail cnn bbc msnbc",
         "_deepnote_index_column": 20197
        },
        {
         "final_tweet": "allahsoil hebrew christians muslims believe proficient prevail cnn bbc msnbc",
         "_deepnote_index_column": 20198
        },
        {
         "final_tweet": "allahsoil jews christians moslem believe unspoiled prevail cnn bbc msnbc",
         "_deepnote_index_column": 20199
        },
        {
         "final_tweet": "allahsoil hebrew christians muslims believe estimable prevail cnn bbc msnbc",
         "_deepnote_index_column": 20200
        },
        {
         "final_tweet": "allahsoil hebrew christians muslims trust good prevail cnn bbc msnbc",
         "_deepnote_index_column": 20201
        },
        {
         "final_tweet": "lgbti poc need speak rife within lgbti community unsufferable",
         "_deepnote_index_column": 20202
        },
        {
         "final_tweet": "lgbti poc need speak rife within lgbti community unacceptable",
         "_deepnote_index_column": 20203
        },
        {
         "final_tweet": "lgbti poc need speak rife within lgbti biotic community unacceptable",
         "_deepnote_index_column": 20204
        },
        {
         "final_tweet": "lgbti poc take speak rife within lgbti community unacceptable",
         "_deepnote_index_column": 20205
        },
        {
         "final_tweet": "lgbti poc call for speak rife within lgbti community unacceptable",
         "_deepnote_index_column": 20206
        },
        {
         "final_tweet": "lgbti poc postulate speak rife within lgbti community unacceptable",
         "_deepnote_index_column": 20207
        },
        {
         "final_tweet": "lgbti poc need speak rife within lgbti biotic community unacceptable",
         "_deepnote_index_column": 20208
        },
        {
         "final_tweet": "lgbti poc need speak rife within lgbti community unacceptable",
         "_deepnote_index_column": 20209
        },
        {
         "final_tweet": "lgbti poc need speak rife within lgbti community unacceptable",
         "_deepnote_index_column": 20210
        },
        {
         "final_tweet": "lgbti poc need speak rife within lgbti community unacceptable",
         "_deepnote_index_column": 20211
        },
        {
         "final_tweet": "lgbti poc ask speak rife within lgbti community unacceptable",
         "_deepnote_index_column": 20212
        },
        {
         "final_tweet": "lgbti poc need speak rife within lgbti community unacceptable",
         "_deepnote_index_column": 20213
        },
        {
         "final_tweet": "lgbti poc need speak rife within lgbti community of interests unacceptable",
         "_deepnote_index_column": 20214
        },
        {
         "final_tweet": "lgbti poc need speak rife within lgbti community unacceptable",
         "_deepnote_index_column": 20215
        },
        {
         "final_tweet": "lady bc voice opinion scratch speak mind wait amp",
         "_deepnote_index_column": 20216
        },
        {
         "final_tweet": "lady bc representative opinion scar speak mind wait a",
         "_deepnote_index_column": 20217
        },
        {
         "final_tweet": "lady bc voice opinion scar speak mind delay amp",
         "_deepnote_index_column": 20218
        },
        {
         "final_tweet": "lady bc interpreter opinion scar speak mind wait amp",
         "_deepnote_index_column": 20219
        },
        {
         "final_tweet": "lady bc vocalisation opinion scar speak mind wait amp",
         "_deepnote_index_column": 20220
        },
        {
         "final_tweet": "lady bc voice opinion scar speak mind waiting amp",
         "_deepnote_index_column": 20221
        },
        {
         "final_tweet": "lady bc voice legal opinion scar speak psyche wait amp",
         "_deepnote_index_column": 20222
        },
        {
         "final_tweet": "lady bc interpreter opinion scar speak mind wait amp",
         "_deepnote_index_column": 20223
        },
        {
         "final_tweet": "lady bc voice opinion scar speak mind time lag amp",
         "_deepnote_index_column": 20224
        },
        {
         "final_tweet": "lady bc part opinion scar speak mind delay amp",
         "_deepnote_index_column": 20225
        },
        {
         "final_tweet": "lady bc voice opinion scar speak mind delay amp",
         "_deepnote_index_column": 20226
        },
        {
         "final_tweet": "lady bc voice opinion scar speak mind wait amp",
         "_deepnote_index_column": 20227
        },
        {
         "final_tweet": "lady bc voice opinion scar speak intellect wait amp",
         "_deepnote_index_column": 20228
        },
        {
         "final_tweet": "lady bc voice opinion cicatrice speak mind wait adenosine monophosphate",
         "_deepnote_index_column": 20229
        },
        {
         "final_tweet": "happy new twelvemonth bloodless people elect president treat women like crap biher awless ku klux k…",
         "_deepnote_index_column": 20230
        },
        {
         "final_tweet": "happy young year white people elect chairman treat women like crap biher aweless kkk suppoed white …",
         "_deepnote_index_column": 20231
        },
        {
         "final_tweet": "happy new year ashen people elect president treat women like crap biher awless klan suppoed lily wh…",
         "_deepnote_index_column": 20232
        },
        {
         "final_tweet": "felicitous new year white people elect president treat cleaning lady corresponding crap biher awles…",
         "_deepnote_index_column": 20233
        },
        {
         "final_tweet": "happy new class white people elect president treat women same shit biher disrespectful kkk suppoed …",
         "_deepnote_index_column": 20234
        },
        {
         "final_tweet": "happy fresh year white people elect president goody women like crap biher disrespectful kkk suppoed…",
         "_deepnote_index_column": 20235
        },
        {
         "final_tweet": "glad new year white people elect president goody women like crap biher disrespectful ku klux klan s…",
         "_deepnote_index_column": 20236
        },
        {
         "final_tweet": "happy new year white multitude elect president delicacy women like dogshit biher disrespectful kkk …",
         "_deepnote_index_column": 20237
        },
        {
         "final_tweet": "happy new year white the great unwashed elect president kickshaw women like irish bull biher disres…",
         "_deepnote_index_column": 20238
        },
        {
         "final_tweet": "happy new year white people elect united states president treat women like crap biher disrespectful…",
         "_deepnote_index_column": 20239
        },
        {
         "final_tweet": "glad new year clean people elect president treat women similar crap biher disrespectful kkk suppoed…",
         "_deepnote_index_column": 20240
        },
        {
         "final_tweet": "happy new year white people elect president goody women like shit biher disrespectful kkk suppoed w…",
         "_deepnote_index_column": 20241
        },
        {
         "final_tweet": "felicitous new year white the great unwashed elect president treat women similar crap biher awless …",
         "_deepnote_index_column": 20242
        },
        {
         "final_tweet": "happy new year white people elect president goody cleaning woman like irish bull biher disrespectfu…",
         "_deepnote_index_column": 20243
        },
        {
         "final_tweet": "end smoke reefers go crazy listen negro euphony eat mr anslinger cannabis swingtanzenverboten",
         "_deepnote_index_column": 20244
        },
        {
         "final_tweet": "end smoke reefers go crazy listen negro medicine eat mr. anslinger marijuana swingtanzenverboten",
         "_deepnote_index_column": 20245
        },
        {
         "final_tweet": "ending smoke reefers go wild listen negro music eat mr anslinger cannabis swingtanzenverboten",
         "_deepnote_index_column": 20246
        },
        {
         "final_tweet": "end smoke spliff go crazy listen negro music eat mr. anslinger cannabis swingtanzenverboten",
         "_deepnote_index_column": 20247
        },
        {
         "final_tweet": "final stage smoke reefers go crazy listen negro music eat mr anslinger cannabis swingtanzenverboten",
         "_deepnote_index_column": 20248
        },
        {
         "final_tweet": "end smoke spliff go crazy listen negro music eat mr anslinger cannabis swingtanzenverboten",
         "_deepnote_index_column": 20249
        },
        {
         "final_tweet": "end smoke reefer go crazy listen negro music eat mister anslinger cannabis swingtanzenverboten",
         "_deepnote_index_column": 20250
        },
        {
         "final_tweet": "destruction smoke reefers go crazy listen negro medicine eat mister anslinger cannabis swingtanzenv…",
         "_deepnote_index_column": 20251
        },
        {
         "final_tweet": "end smoke reefers lead sick listen negro music eat mr anslinger ganja swingtanzenverboten",
         "_deepnote_index_column": 20252
        },
        {
         "final_tweet": "end smoke reefers go crazy listen negro music eat mr anslinger cannabis swingtanzenverboten",
         "_deepnote_index_column": 20253
        },
        {
         "final_tweet": "end smoke reefers kick the bucket crazy listen negro euphony eat mr anslinger cannabis swingtanzenv…",
         "_deepnote_index_column": 20254
        },
        {
         "final_tweet": "end smoke reefers go half baked listen negro music eat mr anslinger cannabis swingtanzenverboten",
         "_deepnote_index_column": 20255
        },
        {
         "final_tweet": "end smoke marijuana cigarette go crazy listen negro medicine eat mr anslinger cannabis swingtanzenv…",
         "_deepnote_index_column": 20256
        },
        {
         "final_tweet": "end smoke spliff go crazy listen negro euphony eat mr anslinger cannabis swingtanzenverboten",
         "_deepnote_index_column": 20257
        },
        {
         "final_tweet": "say speak collectively always get laid show portion white rage nonetheless",
         "_deepnote_index_column": 20258
        },
        {
         "final_tweet": "say speak collectively always bonk show muckle white rage still",
         "_deepnote_index_column": 20259
        },
        {
         "final_tweet": "say speak collectively always know display lot white fury notwithstanding",
         "_deepnote_index_column": 20260
        },
        {
         "final_tweet": "allege speak conjointly always get it on show lot white rage still",
         "_deepnote_index_column": 20261
        },
        {
         "final_tweet": "read speak conjointly always know display lot white rage still",
         "_deepnote_index_column": 20262
        },
        {
         "final_tweet": "say speak collectively always cognise show wad white rage still",
         "_deepnote_index_column": 20263
        },
        {
         "final_tweet": "say speak conjointly always know show deal white hot rage still",
         "_deepnote_index_column": 20264
        },
        {
         "final_tweet": "enjoin speak together with always experience show lot white rage still",
         "_deepnote_index_column": 20265
        },
        {
         "final_tweet": "say speak collectively always know display lot blanched rage notwithstanding",
         "_deepnote_index_column": 20266
        },
        {
         "final_tweet": "enounce speak collectively always know show draw white furore still",
         "_deepnote_index_column": 20267
        },
        {
         "final_tweet": "say speak jointly always know show hatful clean rage still",
         "_deepnote_index_column": 20268
        },
        {
         "final_tweet": "state speak collectively always know show lot bloodless rage still",
         "_deepnote_index_column": 20269
        },
        {
         "final_tweet": "say speak collectively always know display lot livid furore still",
         "_deepnote_index_column": 20270
        },
        {
         "final_tweet": "sound out speak collectively always know show lot white rage even so",
         "_deepnote_index_column": 20271
        },
        {
         "final_tweet": "holiday better of all time marijuana unleash ibooks",
         "_deepnote_index_column": 20272
        },
        {
         "final_tweet": "vacation better ever marijuana unleash ibooks",
         "_deepnote_index_column": 20273
        },
        {
         "final_tweet": "holiday well ever marijuana unleash ibooks",
         "_deepnote_index_column": 20274
        },
        {
         "final_tweet": "vacation better ever marijuana unleash ibooks",
         "_deepnote_index_column": 20275
        },
        {
         "final_tweet": "holiday better ever marijuana unleash ibooks",
         "_deepnote_index_column": 20276
        },
        {
         "final_tweet": "holiday intimately ever marijuana unleash ibooks",
         "_deepnote_index_column": 20277
        },
        {
         "final_tweet": "holiday best ever marijuana unleash ibooks",
         "_deepnote_index_column": 20278
        },
        {
         "final_tweet": "vacation better ever marijuana unleash ibooks",
         "_deepnote_index_column": 20279
        },
        {
         "final_tweet": "holiday better ever marijuana unleash ibooks",
         "_deepnote_index_column": 20280
        },
        {
         "final_tweet": "holiday better of all time marijuana unleash ibooks",
         "_deepnote_index_column": 20281
        },
        {
         "final_tweet": "holiday better ever marijuana unleash ibooks",
         "_deepnote_index_column": 20282
        },
        {
         "final_tweet": "holiday better ever marijuana unleash ibooks",
         "_deepnote_index_column": 20283
        },
        {
         "final_tweet": "holiday better ever marijuana unleash ibooks",
         "_deepnote_index_column": 20284
        },
        {
         "final_tweet": "holiday better ever marijuana unleash ibooks",
         "_deepnote_index_column": 20285
        }
       ]
      },
      "text/plain": "                                             final_tweet\n0              guess friday barnight tipsy smilesfordays\n1         like learn super linear gameplay go open world\n2                  sometimes okay selfesteem lovethyself\n3            pocohontas hope pick vp happen lie heritage\n4      like extra hotchick die uglychick die like pro...\n...                                                  ...\n20281  holiday better of all time marijuana unleash i...\n20282       holiday better ever marijuana unleash ibooks\n20283       holiday better ever marijuana unleash ibooks\n20284       holiday better ever marijuana unleash ibooks\n20285       holiday better ever marijuana unleash ibooks\n\n[42824 rows x 1 columns]",
      "text/html": "<div>\n<style scoped>\n    .dataframe tbody tr th:only-of-type {\n        vertical-align: middle;\n    }\n\n    .dataframe tbody tr th {\n        vertical-align: top;\n    }\n\n    .dataframe thead th {\n        text-align: right;\n    }\n</style>\n<table border=\"1\" class=\"dataframe\">\n  <thead>\n    <tr style=\"text-align: right;\">\n      <th></th>\n      <th>final_tweet</th>\n    </tr>\n  </thead>\n  <tbody>\n    <tr>\n      <th>0</th>\n      <td>guess friday barnight tipsy smilesfordays</td>\n    </tr>\n    <tr>\n      <th>1</th>\n      <td>like learn super linear gameplay go open world</td>\n    </tr>\n    <tr>\n      <th>2</th>\n      <td>sometimes okay selfesteem lovethyself</td>\n    </tr>\n    <tr>\n      <th>3</th>\n      <td>pocohontas hope pick vp happen lie heritage</td>\n    </tr>\n    <tr>\n      <th>4</th>\n      <td>like extra hotchick die uglychick die like pro...</td>\n    </tr>\n    <tr>\n      <th>...</th>\n      <td>...</td>\n    </tr>\n    <tr>\n      <th>20281</th>\n      <td>holiday better of all time marijuana unleash i...</td>\n    </tr>\n    <tr>\n      <th>20282</th>\n      <td>holiday better ever marijuana unleash ibooks</td>\n    </tr>\n    <tr>\n      <th>20283</th>\n      <td>holiday better ever marijuana unleash ibooks</td>\n    </tr>\n    <tr>\n      <th>20284</th>\n      <td>holiday better ever marijuana unleash ibooks</td>\n    </tr>\n    <tr>\n      <th>20285</th>\n      <td>holiday better ever marijuana unleash ibooks</td>\n    </tr>\n  </tbody>\n</table>\n<p>42824 rows × 1 columns</p>\n</div>"
     },
     "metadata": {}
    }
   ],
   "execution_count": null
  },
  {
   "cell_type": "code",
   "metadata": {
    "tags": [],
    "cell_id": "00022-7ec00f8c-cb8f-49a2-93a7-7ac089d5ee6a",
    "deepnote_to_be_reexecuted": false,
    "source_hash": "e565ced9",
    "execution_start": 1635690477346,
    "execution_millis": 21,
    "deepnote_cell_type": "code"
   },
   "source": "Y_train_normal.tail(10)",
   "outputs": [
    {
     "output_type": "execute_result",
     "execution_count": 27,
     "data": {
      "application/vnd.deepnote.dataframe.v2+json": {
       "row_count": 10,
       "column_count": 2,
       "columns": [
        {
         "name": "index",
         "dtype": "int64",
         "stats": {
          "unique_count": 10,
          "nan_count": 0,
          "min": "2807",
          "max": "22483",
          "histogram": [
           {
            "bin_start": 2807,
            "bin_end": 4774.6,
            "count": 2
           },
           {
            "bin_start": 4774.6,
            "bin_end": 6742.2,
            "count": 1
           },
           {
            "bin_start": 6742.2,
            "bin_end": 8709.8,
            "count": 3
           },
           {
            "bin_start": 8709.8,
            "bin_end": 10677.4,
            "count": 0
           },
           {
            "bin_start": 10677.4,
            "bin_end": 12645,
            "count": 1
           },
           {
            "bin_start": 12645,
            "bin_end": 14612.599999999999,
            "count": 0
           },
           {
            "bin_start": 14612.599999999999,
            "bin_end": 16580.199999999997,
            "count": 0
           },
           {
            "bin_start": 16580.199999999997,
            "bin_end": 18547.8,
            "count": 1
           },
           {
            "bin_start": 18547.8,
            "bin_end": 20515.399999999998,
            "count": 0
           },
           {
            "bin_start": 20515.399999999998,
            "bin_end": 22483,
            "count": 2
           }
          ]
         }
        },
        {
         "name": "label",
         "dtype": "int64",
         "stats": {
          "unique_count": 2,
          "nan_count": 0,
          "min": "0",
          "max": "1",
          "histogram": [
           {
            "bin_start": 0,
            "bin_end": 0.1,
            "count": 9
           },
           {
            "bin_start": 0.1,
            "bin_end": 0.2,
            "count": 0
           },
           {
            "bin_start": 0.2,
            "bin_end": 0.30000000000000004,
            "count": 0
           },
           {
            "bin_start": 0.30000000000000004,
            "bin_end": 0.4,
            "count": 0
           },
           {
            "bin_start": 0.4,
            "bin_end": 0.5,
            "count": 0
           },
           {
            "bin_start": 0.5,
            "bin_end": 0.6000000000000001,
            "count": 0
           },
           {
            "bin_start": 0.6000000000000001,
            "bin_end": 0.7000000000000001,
            "count": 0
           },
           {
            "bin_start": 0.7000000000000001,
            "bin_end": 0.8,
            "count": 0
           },
           {
            "bin_start": 0.8,
            "bin_end": 0.9,
            "count": 0
           },
           {
            "bin_start": 0.9,
            "bin_end": 1,
            "count": 1
           }
          ]
         }
        },
        {
         "name": "_deepnote_index_column",
         "dtype": "int64"
        }
       ],
       "rows_top": [
        {
         "index": 6617,
         "label": 0,
         "_deepnote_index_column": 22528
        },
        {
         "index": 12439,
         "label": 0,
         "_deepnote_index_column": 22529
        },
        {
         "index": 2829,
         "label": 1,
         "_deepnote_index_column": 22530
        },
        {
         "index": 20574,
         "label": 0,
         "_deepnote_index_column": 22531
        },
        {
         "index": 6945,
         "label": 0,
         "_deepnote_index_column": 22532
        },
        {
         "index": 17878,
         "label": 0,
         "_deepnote_index_column": 22533
        },
        {
         "index": 2807,
         "label": 0,
         "_deepnote_index_column": 22534
        },
        {
         "index": 8645,
         "label": 0,
         "_deepnote_index_column": 22535
        },
        {
         "index": 22483,
         "label": 0,
         "_deepnote_index_column": 22536
        },
        {
         "index": 8151,
         "label": 0,
         "_deepnote_index_column": 22537
        }
       ],
       "rows_bottom": null
      },
      "text/plain": "       index  label\n22528   6617      0\n22529  12439      0\n22530   2829      1\n22531  20574      0\n22532   6945      0\n22533  17878      0\n22534   2807      0\n22535   8645      0\n22536  22483      0\n22537   8151      0",
      "text/html": "<div>\n<style scoped>\n    .dataframe tbody tr th:only-of-type {\n        vertical-align: middle;\n    }\n\n    .dataframe tbody tr th {\n        vertical-align: top;\n    }\n\n    .dataframe thead th {\n        text-align: right;\n    }\n</style>\n<table border=\"1\" class=\"dataframe\">\n  <thead>\n    <tr style=\"text-align: right;\">\n      <th></th>\n      <th>index</th>\n      <th>label</th>\n    </tr>\n  </thead>\n  <tbody>\n    <tr>\n      <th>22528</th>\n      <td>6617</td>\n      <td>0</td>\n    </tr>\n    <tr>\n      <th>22529</th>\n      <td>12439</td>\n      <td>0</td>\n    </tr>\n    <tr>\n      <th>22530</th>\n      <td>2829</td>\n      <td>1</td>\n    </tr>\n    <tr>\n      <th>22531</th>\n      <td>20574</td>\n      <td>0</td>\n    </tr>\n    <tr>\n      <th>22532</th>\n      <td>6945</td>\n      <td>0</td>\n    </tr>\n    <tr>\n      <th>22533</th>\n      <td>17878</td>\n      <td>0</td>\n    </tr>\n    <tr>\n      <th>22534</th>\n      <td>2807</td>\n      <td>0</td>\n    </tr>\n    <tr>\n      <th>22535</th>\n      <td>8645</td>\n      <td>0</td>\n    </tr>\n    <tr>\n      <th>22536</th>\n      <td>22483</td>\n      <td>0</td>\n    </tr>\n    <tr>\n      <th>22537</th>\n      <td>8151</td>\n      <td>0</td>\n    </tr>\n  </tbody>\n</table>\n</div>"
     },
     "metadata": {}
    }
   ],
   "execution_count": null
  },
  {
   "cell_type": "markdown",
   "source": "# Tfidf",
   "metadata": {
    "tags": [],
    "is_collapsed": false,
    "cell_id": "00024-53f4fc44-60d1-46c1-87ab-05420815c11f",
    "deepnote_cell_type": "text-cell-h1"
   }
  },
  {
   "cell_type": "code",
   "metadata": {
    "tags": [],
    "cell_id": "00024-3fe5ecac-57f5-4d83-a4a7-feff01b36c55",
    "deepnote_to_be_reexecuted": false,
    "source_hash": "bc82ad25",
    "execution_start": 1635690477371,
    "execution_millis": 609,
    "deepnote_cell_type": "code"
   },
   "source": "from sklearn.feature_extraction.text import TfidfVectorizer\ntfidf_vectorizer = TfidfVectorizer(min_df=0.005) #lower than this threshold will be ignored\n\nX_train_normal_Tfidf =tfidf_vectorizer.fit_transform(X_train_normal['final_tweet'])\nX_test_normal_Tfidf = tfidf_vectorizer.transform(X_test_normal['final_tweet'])\n\n#columns = tfidf_vectorizer.get_feature_names()\n#tfidf_df = pd.DataFrame(tfidf, columns=columns)",
   "outputs": [],
   "execution_count": null
  },
  {
   "cell_type": "markdown",
   "source": "## SVM model",
   "metadata": {
    "tags": [],
    "is_collapsed": false,
    "cell_id": "00025-f0ab6edf-f2dc-47eb-bbb5-4db864771ce0",
    "deepnote_cell_type": "text-cell-h2"
   }
  },
  {
   "cell_type": "code",
   "metadata": {
    "tags": [],
    "cell_id": "00025-cb966a4e-d98c-4df5-a1a0-163a7aefbda1",
    "deepnote_to_be_reexecuted": false,
    "source_hash": "f6616b14",
    "execution_start": 1635690477988,
    "execution_millis": 21277,
    "deepnote_cell_type": "code"
   },
   "source": "from sklearn import svm \n\n# Create and fit model on data\nsvm_classifier = svm.SVC()\nsvm_classifier.fit(X_train_normal_Tfidf,Y_train_normal['label'])",
   "outputs": [
    {
     "output_type": "execute_result",
     "execution_count": 29,
     "data": {
      "text/plain": "SVC()"
     },
     "metadata": {}
    }
   ],
   "execution_count": null
  },
  {
   "cell_type": "code",
   "metadata": {
    "tags": [],
    "cell_id": "00026-10430562-ecba-4896-9114-60346b32c3b9",
    "deepnote_to_be_reexecuted": false,
    "source_hash": "4f24e84a",
    "execution_start": 1635690499267,
    "execution_millis": 1694,
    "deepnote_cell_type": "code"
   },
   "source": "from sklearn.metrics import accuracy_score \ny_pred = svm_classifier.predict(X_test_normal_Tfidf)\n\naccuracy_test = accuracy_score(Y_test_normal['label'], y_pred)*100\nprint('Accuracy Score on test dataset: ', accuracy_test)",
   "outputs": [
    {
     "name": "stdout",
     "text": "Accuracy Score on test dataset:  93.7888198757764\n",
     "output_type": "stream"
    }
   ],
   "execution_count": null
  },
  {
   "cell_type": "code",
   "metadata": {
    "tags": [],
    "cell_id": "00029-0457a5d3-59e7-43f2-ac9b-2bf759823a5d",
    "deepnote_to_be_reexecuted": false,
    "source_hash": "323f6e42",
    "execution_start": 1635690500971,
    "execution_millis": 3,
    "deepnote_cell_type": "code"
   },
   "source": "# from sklearn.metrics import f1_score\n# y_pred = svm_classifier.predict(X_test_normal_Tfidf)\n\n# normal_f1 = f1_score(Y_test_normal['label'], y_pred)\n# print(\"F1 Score for Normal Dataset: \",normal_f1) ",
   "outputs": [],
   "execution_count": null
  },
  {
   "cell_type": "markdown",
   "source": "### Hyperparameter tuning SVM",
   "metadata": {
    "tags": [],
    "is_collapsed": false,
    "cell_id": "00030-ea53be99-80bd-4689-a38a-8d4d1a0b77ea",
    "deepnote_cell_type": "text-cell-h3"
   }
  },
  {
   "cell_type": "code",
   "metadata": {
    "tags": [],
    "cell_id": "00031-c49eeea2-47c2-496c-88a4-321078c887f5",
    "deepnote_to_be_reexecuted": false,
    "source_hash": "385c9dff",
    "execution_start": 1635690500983,
    "execution_millis": 37308490,
    "deepnote_cell_type": "code"
   },
   "source": "from sklearn.model_selection import GridSearchCV",
   "outputs": [],
   "execution_count": null
  },
  {
   "cell_type": "code",
   "metadata": {
    "tags": [],
    "cell_id": "00032-289a847c-1586-4363-a374-d84d9cdd7ba2",
    "deepnote_to_be_reexecuted": false,
    "source_hash": "ef17e9e5",
    "execution_start": 1635690500992,
    "execution_millis": 37308492,
    "deepnote_cell_type": "code"
   },
   "source": "#Edit as you please the different stuffs\nparam_grid = {\n    'C': [0.1,1, 10, 100], \n    'gamma': [1,0.1,0.01,0.001],\n    'kernel': ['rbf', 'poly', 'sigmoid']}",
   "outputs": [],
   "execution_count": null
  },
  {
   "cell_type": "code",
   "metadata": {
    "tags": [],
    "cell_id": "00033-41452d21-b2a4-4819-a1ac-58914bf77a60",
    "deepnote_to_be_reexecuted": false,
    "source_hash": "66f6e747",
    "execution_start": 1635690501012,
    "execution_millis": 16465,
    "deepnote_cell_type": "code"
   },
   "source": "grid = GridSearchCV(svm_classifier,param_grid= param_grid,refit=True,verbose=2)\ngrid.fit(X_train_normal_Tfidf,Y_train_normal[\"label\"].tolist())",
   "outputs": [
    {
     "name": "stdout",
     "text": "Fitting 5 folds for each of 48 candidates, totalling 240 fits\n[CV] END .........................C=0.1, gamma=1, kernel=rbf; total time=   5.4s\n[CV] END .........................C=0.1, gamma=1, kernel=rbf; total time=   5.3s\n",
     "output_type": "stream"
    },
    {
     "output_type": "error",
     "ename": "KeyboardInterrupt",
     "evalue": "",
     "traceback": [
      "\u001b[0;31m---------------------------------------------------------------------------\u001b[0m",
      "\u001b[0;31mKeyboardInterrupt\u001b[0m                         Traceback (most recent call last)",
      "\u001b[0;32m<ipython-input-34-065c79a8e9de>\u001b[0m in \u001b[0;36m<module>\u001b[0;34m\u001b[0m\n\u001b[1;32m      1\u001b[0m \u001b[0mgrid\u001b[0m \u001b[0;34m=\u001b[0m \u001b[0mGridSearchCV\u001b[0m\u001b[0;34m(\u001b[0m\u001b[0msvm_classifier\u001b[0m\u001b[0;34m,\u001b[0m\u001b[0mparam_grid\u001b[0m\u001b[0;34m=\u001b[0m \u001b[0mparam_grid\u001b[0m\u001b[0;34m,\u001b[0m\u001b[0mrefit\u001b[0m\u001b[0;34m=\u001b[0m\u001b[0;32mTrue\u001b[0m\u001b[0;34m,\u001b[0m\u001b[0mverbose\u001b[0m\u001b[0;34m=\u001b[0m\u001b[0;36m2\u001b[0m\u001b[0;34m)\u001b[0m\u001b[0;34m\u001b[0m\u001b[0;34m\u001b[0m\u001b[0m\n\u001b[0;32m----> 2\u001b[0;31m \u001b[0mgrid\u001b[0m\u001b[0;34m.\u001b[0m\u001b[0mfit\u001b[0m\u001b[0;34m(\u001b[0m\u001b[0mX_train_normal_Tfidf\u001b[0m\u001b[0;34m,\u001b[0m\u001b[0mY_train_normal\u001b[0m\u001b[0;34m[\u001b[0m\u001b[0;34m\"label\"\u001b[0m\u001b[0;34m]\u001b[0m\u001b[0;34m.\u001b[0m\u001b[0mtolist\u001b[0m\u001b[0;34m(\u001b[0m\u001b[0;34m)\u001b[0m\u001b[0;34m)\u001b[0m\u001b[0;34m\u001b[0m\u001b[0;34m\u001b[0m\u001b[0m\n\u001b[0m",
      "\u001b[0;32m/shared-libs/python3.7/py/lib/python3.7/site-packages/sklearn/model_selection/_search.py\u001b[0m in \u001b[0;36mfit\u001b[0;34m(self, X, y, groups, **fit_params)\u001b[0m\n\u001b[1;32m    889\u001b[0m                 \u001b[0;32mreturn\u001b[0m \u001b[0mresults\u001b[0m\u001b[0;34m\u001b[0m\u001b[0;34m\u001b[0m\u001b[0m\n\u001b[1;32m    890\u001b[0m \u001b[0;34m\u001b[0m\u001b[0m\n\u001b[0;32m--> 891\u001b[0;31m             \u001b[0mself\u001b[0m\u001b[0;34m.\u001b[0m\u001b[0m_run_search\u001b[0m\u001b[0;34m(\u001b[0m\u001b[0mevaluate_candidates\u001b[0m\u001b[0;34m)\u001b[0m\u001b[0;34m\u001b[0m\u001b[0;34m\u001b[0m\u001b[0m\n\u001b[0m\u001b[1;32m    892\u001b[0m \u001b[0;34m\u001b[0m\u001b[0m\n\u001b[1;32m    893\u001b[0m             \u001b[0;31m# multimetric is determined here because in the case of a callable\u001b[0m\u001b[0;34m\u001b[0m\u001b[0;34m\u001b[0m\u001b[0;34m\u001b[0m\u001b[0m\n",
      "\u001b[0;32m/shared-libs/python3.7/py/lib/python3.7/site-packages/sklearn/model_selection/_search.py\u001b[0m in \u001b[0;36m_run_search\u001b[0;34m(self, evaluate_candidates)\u001b[0m\n\u001b[1;32m   1390\u001b[0m     \u001b[0;32mdef\u001b[0m \u001b[0m_run_search\u001b[0m\u001b[0;34m(\u001b[0m\u001b[0mself\u001b[0m\u001b[0;34m,\u001b[0m \u001b[0mevaluate_candidates\u001b[0m\u001b[0;34m)\u001b[0m\u001b[0;34m:\u001b[0m\u001b[0;34m\u001b[0m\u001b[0;34m\u001b[0m\u001b[0m\n\u001b[1;32m   1391\u001b[0m         \u001b[0;34m\"\"\"Search all candidates in param_grid\"\"\"\u001b[0m\u001b[0;34m\u001b[0m\u001b[0;34m\u001b[0m\u001b[0m\n\u001b[0;32m-> 1392\u001b[0;31m         \u001b[0mevaluate_candidates\u001b[0m\u001b[0;34m(\u001b[0m\u001b[0mParameterGrid\u001b[0m\u001b[0;34m(\u001b[0m\u001b[0mself\u001b[0m\u001b[0;34m.\u001b[0m\u001b[0mparam_grid\u001b[0m\u001b[0;34m)\u001b[0m\u001b[0;34m)\u001b[0m\u001b[0;34m\u001b[0m\u001b[0;34m\u001b[0m\u001b[0m\n\u001b[0m\u001b[1;32m   1393\u001b[0m \u001b[0;34m\u001b[0m\u001b[0m\n\u001b[1;32m   1394\u001b[0m \u001b[0;34m\u001b[0m\u001b[0m\n",
      "\u001b[0;32m/shared-libs/python3.7/py/lib/python3.7/site-packages/sklearn/model_selection/_search.py\u001b[0m in \u001b[0;36mevaluate_candidates\u001b[0;34m(candidate_params, cv, more_results)\u001b[0m\n\u001b[1;32m    849\u001b[0m                     )\n\u001b[1;32m    850\u001b[0m                     for (cand_idx, parameters), (split_idx, (train, test)) in product(\n\u001b[0;32m--> 851\u001b[0;31m                         \u001b[0menumerate\u001b[0m\u001b[0;34m(\u001b[0m\u001b[0mcandidate_params\u001b[0m\u001b[0;34m)\u001b[0m\u001b[0;34m,\u001b[0m \u001b[0menumerate\u001b[0m\u001b[0;34m(\u001b[0m\u001b[0mcv\u001b[0m\u001b[0;34m.\u001b[0m\u001b[0msplit\u001b[0m\u001b[0;34m(\u001b[0m\u001b[0mX\u001b[0m\u001b[0;34m,\u001b[0m \u001b[0my\u001b[0m\u001b[0;34m,\u001b[0m \u001b[0mgroups\u001b[0m\u001b[0;34m)\u001b[0m\u001b[0;34m)\u001b[0m\u001b[0;34m\u001b[0m\u001b[0;34m\u001b[0m\u001b[0m\n\u001b[0m\u001b[1;32m    852\u001b[0m                     )\n\u001b[1;32m    853\u001b[0m                 )\n",
      "\u001b[0;32m/shared-libs/python3.7/py/lib/python3.7/site-packages/joblib/parallel.py\u001b[0m in \u001b[0;36m__call__\u001b[0;34m(self, iterable)\u001b[0m\n\u001b[1;32m   1044\u001b[0m                 \u001b[0mself\u001b[0m\u001b[0;34m.\u001b[0m\u001b[0m_iterating\u001b[0m \u001b[0;34m=\u001b[0m \u001b[0mself\u001b[0m\u001b[0;34m.\u001b[0m\u001b[0m_original_iterator\u001b[0m \u001b[0;32mis\u001b[0m \u001b[0;32mnot\u001b[0m \u001b[0;32mNone\u001b[0m\u001b[0;34m\u001b[0m\u001b[0;34m\u001b[0m\u001b[0m\n\u001b[1;32m   1045\u001b[0m \u001b[0;34m\u001b[0m\u001b[0m\n\u001b[0;32m-> 1046\u001b[0;31m             \u001b[0;32mwhile\u001b[0m \u001b[0mself\u001b[0m\u001b[0;34m.\u001b[0m\u001b[0mdispatch_one_batch\u001b[0m\u001b[0;34m(\u001b[0m\u001b[0miterator\u001b[0m\u001b[0;34m)\u001b[0m\u001b[0;34m:\u001b[0m\u001b[0;34m\u001b[0m\u001b[0;34m\u001b[0m\u001b[0m\n\u001b[0m\u001b[1;32m   1047\u001b[0m                 \u001b[0;32mpass\u001b[0m\u001b[0;34m\u001b[0m\u001b[0;34m\u001b[0m\u001b[0m\n\u001b[1;32m   1048\u001b[0m \u001b[0;34m\u001b[0m\u001b[0m\n",
      "\u001b[0;32m/shared-libs/python3.7/py/lib/python3.7/site-packages/joblib/parallel.py\u001b[0m in \u001b[0;36mdispatch_one_batch\u001b[0;34m(self, iterator)\u001b[0m\n\u001b[1;32m    859\u001b[0m                 \u001b[0;32mreturn\u001b[0m \u001b[0;32mFalse\u001b[0m\u001b[0;34m\u001b[0m\u001b[0;34m\u001b[0m\u001b[0m\n\u001b[1;32m    860\u001b[0m             \u001b[0;32melse\u001b[0m\u001b[0;34m:\u001b[0m\u001b[0;34m\u001b[0m\u001b[0;34m\u001b[0m\u001b[0m\n\u001b[0;32m--> 861\u001b[0;31m                 \u001b[0mself\u001b[0m\u001b[0;34m.\u001b[0m\u001b[0m_dispatch\u001b[0m\u001b[0;34m(\u001b[0m\u001b[0mtasks\u001b[0m\u001b[0;34m)\u001b[0m\u001b[0;34m\u001b[0m\u001b[0;34m\u001b[0m\u001b[0m\n\u001b[0m\u001b[1;32m    862\u001b[0m                 \u001b[0;32mreturn\u001b[0m \u001b[0;32mTrue\u001b[0m\u001b[0;34m\u001b[0m\u001b[0;34m\u001b[0m\u001b[0m\n\u001b[1;32m    863\u001b[0m \u001b[0;34m\u001b[0m\u001b[0m\n",
      "\u001b[0;32m/shared-libs/python3.7/py/lib/python3.7/site-packages/joblib/parallel.py\u001b[0m in \u001b[0;36m_dispatch\u001b[0;34m(self, batch)\u001b[0m\n\u001b[1;32m    777\u001b[0m         \u001b[0;32mwith\u001b[0m \u001b[0mself\u001b[0m\u001b[0;34m.\u001b[0m\u001b[0m_lock\u001b[0m\u001b[0;34m:\u001b[0m\u001b[0;34m\u001b[0m\u001b[0;34m\u001b[0m\u001b[0m\n\u001b[1;32m    778\u001b[0m             \u001b[0mjob_idx\u001b[0m \u001b[0;34m=\u001b[0m \u001b[0mlen\u001b[0m\u001b[0;34m(\u001b[0m\u001b[0mself\u001b[0m\u001b[0;34m.\u001b[0m\u001b[0m_jobs\u001b[0m\u001b[0;34m)\u001b[0m\u001b[0;34m\u001b[0m\u001b[0;34m\u001b[0m\u001b[0m\n\u001b[0;32m--> 779\u001b[0;31m             \u001b[0mjob\u001b[0m \u001b[0;34m=\u001b[0m \u001b[0mself\u001b[0m\u001b[0;34m.\u001b[0m\u001b[0m_backend\u001b[0m\u001b[0;34m.\u001b[0m\u001b[0mapply_async\u001b[0m\u001b[0;34m(\u001b[0m\u001b[0mbatch\u001b[0m\u001b[0;34m,\u001b[0m \u001b[0mcallback\u001b[0m\u001b[0;34m=\u001b[0m\u001b[0mcb\u001b[0m\u001b[0;34m)\u001b[0m\u001b[0;34m\u001b[0m\u001b[0;34m\u001b[0m\u001b[0m\n\u001b[0m\u001b[1;32m    780\u001b[0m             \u001b[0;31m# A job can complete so quickly than its callback is\u001b[0m\u001b[0;34m\u001b[0m\u001b[0;34m\u001b[0m\u001b[0;34m\u001b[0m\u001b[0m\n\u001b[1;32m    781\u001b[0m             \u001b[0;31m# called before we get here, causing self._jobs to\u001b[0m\u001b[0;34m\u001b[0m\u001b[0;34m\u001b[0m\u001b[0;34m\u001b[0m\u001b[0m\n",
      "\u001b[0;32m/shared-libs/python3.7/py/lib/python3.7/site-packages/joblib/_parallel_backends.py\u001b[0m in \u001b[0;36mapply_async\u001b[0;34m(self, func, callback)\u001b[0m\n\u001b[1;32m    206\u001b[0m     \u001b[0;32mdef\u001b[0m \u001b[0mapply_async\u001b[0m\u001b[0;34m(\u001b[0m\u001b[0mself\u001b[0m\u001b[0;34m,\u001b[0m \u001b[0mfunc\u001b[0m\u001b[0;34m,\u001b[0m \u001b[0mcallback\u001b[0m\u001b[0;34m=\u001b[0m\u001b[0;32mNone\u001b[0m\u001b[0;34m)\u001b[0m\u001b[0;34m:\u001b[0m\u001b[0;34m\u001b[0m\u001b[0;34m\u001b[0m\u001b[0m\n\u001b[1;32m    207\u001b[0m         \u001b[0;34m\"\"\"Schedule a func to be run\"\"\"\u001b[0m\u001b[0;34m\u001b[0m\u001b[0;34m\u001b[0m\u001b[0m\n\u001b[0;32m--> 208\u001b[0;31m         \u001b[0mresult\u001b[0m \u001b[0;34m=\u001b[0m \u001b[0mImmediateResult\u001b[0m\u001b[0;34m(\u001b[0m\u001b[0mfunc\u001b[0m\u001b[0;34m)\u001b[0m\u001b[0;34m\u001b[0m\u001b[0;34m\u001b[0m\u001b[0m\n\u001b[0m\u001b[1;32m    209\u001b[0m         \u001b[0;32mif\u001b[0m \u001b[0mcallback\u001b[0m\u001b[0;34m:\u001b[0m\u001b[0;34m\u001b[0m\u001b[0;34m\u001b[0m\u001b[0m\n\u001b[1;32m    210\u001b[0m             \u001b[0mcallback\u001b[0m\u001b[0;34m(\u001b[0m\u001b[0mresult\u001b[0m\u001b[0;34m)\u001b[0m\u001b[0;34m\u001b[0m\u001b[0;34m\u001b[0m\u001b[0m\n",
      "\u001b[0;32m/shared-libs/python3.7/py/lib/python3.7/site-packages/joblib/_parallel_backends.py\u001b[0m in \u001b[0;36m__init__\u001b[0;34m(self, batch)\u001b[0m\n\u001b[1;32m    570\u001b[0m         \u001b[0;31m# Don't delay the application, to avoid keeping the input\u001b[0m\u001b[0;34m\u001b[0m\u001b[0;34m\u001b[0m\u001b[0;34m\u001b[0m\u001b[0m\n\u001b[1;32m    571\u001b[0m         \u001b[0;31m# arguments in memory\u001b[0m\u001b[0;34m\u001b[0m\u001b[0;34m\u001b[0m\u001b[0;34m\u001b[0m\u001b[0m\n\u001b[0;32m--> 572\u001b[0;31m         \u001b[0mself\u001b[0m\u001b[0;34m.\u001b[0m\u001b[0mresults\u001b[0m \u001b[0;34m=\u001b[0m \u001b[0mbatch\u001b[0m\u001b[0;34m(\u001b[0m\u001b[0;34m)\u001b[0m\u001b[0;34m\u001b[0m\u001b[0;34m\u001b[0m\u001b[0m\n\u001b[0m\u001b[1;32m    573\u001b[0m \u001b[0;34m\u001b[0m\u001b[0m\n\u001b[1;32m    574\u001b[0m     \u001b[0;32mdef\u001b[0m \u001b[0mget\u001b[0m\u001b[0;34m(\u001b[0m\u001b[0mself\u001b[0m\u001b[0;34m)\u001b[0m\u001b[0;34m:\u001b[0m\u001b[0;34m\u001b[0m\u001b[0;34m\u001b[0m\u001b[0m\n",
      "\u001b[0;32m/shared-libs/python3.7/py/lib/python3.7/site-packages/joblib/parallel.py\u001b[0m in \u001b[0;36m__call__\u001b[0;34m(self)\u001b[0m\n\u001b[1;32m    261\u001b[0m         \u001b[0;32mwith\u001b[0m \u001b[0mparallel_backend\u001b[0m\u001b[0;34m(\u001b[0m\u001b[0mself\u001b[0m\u001b[0;34m.\u001b[0m\u001b[0m_backend\u001b[0m\u001b[0;34m,\u001b[0m \u001b[0mn_jobs\u001b[0m\u001b[0;34m=\u001b[0m\u001b[0mself\u001b[0m\u001b[0;34m.\u001b[0m\u001b[0m_n_jobs\u001b[0m\u001b[0;34m)\u001b[0m\u001b[0;34m:\u001b[0m\u001b[0;34m\u001b[0m\u001b[0;34m\u001b[0m\u001b[0m\n\u001b[1;32m    262\u001b[0m             return [func(*args, **kwargs)\n\u001b[0;32m--> 263\u001b[0;31m                     for func, args, kwargs in self.items]\n\u001b[0m\u001b[1;32m    264\u001b[0m \u001b[0;34m\u001b[0m\u001b[0m\n\u001b[1;32m    265\u001b[0m     \u001b[0;32mdef\u001b[0m \u001b[0m__reduce__\u001b[0m\u001b[0;34m(\u001b[0m\u001b[0mself\u001b[0m\u001b[0;34m)\u001b[0m\u001b[0;34m:\u001b[0m\u001b[0;34m\u001b[0m\u001b[0;34m\u001b[0m\u001b[0m\n",
      "\u001b[0;32m/shared-libs/python3.7/py/lib/python3.7/site-packages/joblib/parallel.py\u001b[0m in \u001b[0;36m<listcomp>\u001b[0;34m(.0)\u001b[0m\n\u001b[1;32m    261\u001b[0m         \u001b[0;32mwith\u001b[0m \u001b[0mparallel_backend\u001b[0m\u001b[0;34m(\u001b[0m\u001b[0mself\u001b[0m\u001b[0;34m.\u001b[0m\u001b[0m_backend\u001b[0m\u001b[0;34m,\u001b[0m \u001b[0mn_jobs\u001b[0m\u001b[0;34m=\u001b[0m\u001b[0mself\u001b[0m\u001b[0;34m.\u001b[0m\u001b[0m_n_jobs\u001b[0m\u001b[0;34m)\u001b[0m\u001b[0;34m:\u001b[0m\u001b[0;34m\u001b[0m\u001b[0;34m\u001b[0m\u001b[0m\n\u001b[1;32m    262\u001b[0m             return [func(*args, **kwargs)\n\u001b[0;32m--> 263\u001b[0;31m                     for func, args, kwargs in self.items]\n\u001b[0m\u001b[1;32m    264\u001b[0m \u001b[0;34m\u001b[0m\u001b[0m\n\u001b[1;32m    265\u001b[0m     \u001b[0;32mdef\u001b[0m \u001b[0m__reduce__\u001b[0m\u001b[0;34m(\u001b[0m\u001b[0mself\u001b[0m\u001b[0;34m)\u001b[0m\u001b[0;34m:\u001b[0m\u001b[0;34m\u001b[0m\u001b[0;34m\u001b[0m\u001b[0m\n",
      "\u001b[0;32m/shared-libs/python3.7/py/lib/python3.7/site-packages/sklearn/utils/fixes.py\u001b[0m in \u001b[0;36m__call__\u001b[0;34m(self, *args, **kwargs)\u001b[0m\n\u001b[1;32m    207\u001b[0m     \u001b[0;32mdef\u001b[0m \u001b[0m__call__\u001b[0m\u001b[0;34m(\u001b[0m\u001b[0mself\u001b[0m\u001b[0;34m,\u001b[0m \u001b[0;34m*\u001b[0m\u001b[0margs\u001b[0m\u001b[0;34m,\u001b[0m \u001b[0;34m**\u001b[0m\u001b[0mkwargs\u001b[0m\u001b[0;34m)\u001b[0m\u001b[0;34m:\u001b[0m\u001b[0;34m\u001b[0m\u001b[0;34m\u001b[0m\u001b[0m\n\u001b[1;32m    208\u001b[0m         \u001b[0;32mwith\u001b[0m \u001b[0mconfig_context\u001b[0m\u001b[0;34m(\u001b[0m\u001b[0;34m**\u001b[0m\u001b[0mself\u001b[0m\u001b[0;34m.\u001b[0m\u001b[0mconfig\u001b[0m\u001b[0;34m)\u001b[0m\u001b[0;34m:\u001b[0m\u001b[0;34m\u001b[0m\u001b[0;34m\u001b[0m\u001b[0m\n\u001b[0;32m--> 209\u001b[0;31m             \u001b[0;32mreturn\u001b[0m \u001b[0mself\u001b[0m\u001b[0;34m.\u001b[0m\u001b[0mfunction\u001b[0m\u001b[0;34m(\u001b[0m\u001b[0;34m*\u001b[0m\u001b[0margs\u001b[0m\u001b[0;34m,\u001b[0m \u001b[0;34m**\u001b[0m\u001b[0mkwargs\u001b[0m\u001b[0;34m)\u001b[0m\u001b[0;34m\u001b[0m\u001b[0;34m\u001b[0m\u001b[0m\n\u001b[0m\u001b[1;32m    210\u001b[0m \u001b[0;34m\u001b[0m\u001b[0m\n\u001b[1;32m    211\u001b[0m \u001b[0;34m\u001b[0m\u001b[0m\n",
      "\u001b[0;32m/shared-libs/python3.7/py/lib/python3.7/site-packages/sklearn/model_selection/_validation.py\u001b[0m in \u001b[0;36m_fit_and_score\u001b[0;34m(estimator, X, y, scorer, train, test, verbose, parameters, fit_params, return_train_score, return_parameters, return_n_test_samples, return_times, return_estimator, split_progress, candidate_progress, error_score)\u001b[0m\n\u001b[1;32m    679\u001b[0m             \u001b[0mestimator\u001b[0m\u001b[0;34m.\u001b[0m\u001b[0mfit\u001b[0m\u001b[0;34m(\u001b[0m\u001b[0mX_train\u001b[0m\u001b[0;34m,\u001b[0m \u001b[0;34m**\u001b[0m\u001b[0mfit_params\u001b[0m\u001b[0;34m)\u001b[0m\u001b[0;34m\u001b[0m\u001b[0;34m\u001b[0m\u001b[0m\n\u001b[1;32m    680\u001b[0m         \u001b[0;32melse\u001b[0m\u001b[0;34m:\u001b[0m\u001b[0;34m\u001b[0m\u001b[0;34m\u001b[0m\u001b[0m\n\u001b[0;32m--> 681\u001b[0;31m             \u001b[0mestimator\u001b[0m\u001b[0;34m.\u001b[0m\u001b[0mfit\u001b[0m\u001b[0;34m(\u001b[0m\u001b[0mX_train\u001b[0m\u001b[0;34m,\u001b[0m \u001b[0my_train\u001b[0m\u001b[0;34m,\u001b[0m \u001b[0;34m**\u001b[0m\u001b[0mfit_params\u001b[0m\u001b[0;34m)\u001b[0m\u001b[0;34m\u001b[0m\u001b[0;34m\u001b[0m\u001b[0m\n\u001b[0m\u001b[1;32m    682\u001b[0m \u001b[0;34m\u001b[0m\u001b[0m\n\u001b[1;32m    683\u001b[0m     \u001b[0;32mexcept\u001b[0m \u001b[0mException\u001b[0m\u001b[0;34m:\u001b[0m\u001b[0;34m\u001b[0m\u001b[0;34m\u001b[0m\u001b[0m\n",
      "\u001b[0;32m/shared-libs/python3.7/py/lib/python3.7/site-packages/sklearn/svm/_base.py\u001b[0m in \u001b[0;36mfit\u001b[0;34m(self, X, y, sample_weight)\u001b[0m\n\u001b[1;32m    253\u001b[0m \u001b[0;34m\u001b[0m\u001b[0m\n\u001b[1;32m    254\u001b[0m         \u001b[0mseed\u001b[0m \u001b[0;34m=\u001b[0m \u001b[0mrnd\u001b[0m\u001b[0;34m.\u001b[0m\u001b[0mrandint\u001b[0m\u001b[0;34m(\u001b[0m\u001b[0mnp\u001b[0m\u001b[0;34m.\u001b[0m\u001b[0miinfo\u001b[0m\u001b[0;34m(\u001b[0m\u001b[0;34m\"i\"\u001b[0m\u001b[0;34m)\u001b[0m\u001b[0;34m.\u001b[0m\u001b[0mmax\u001b[0m\u001b[0;34m)\u001b[0m\u001b[0;34m\u001b[0m\u001b[0;34m\u001b[0m\u001b[0m\n\u001b[0;32m--> 255\u001b[0;31m         \u001b[0mfit\u001b[0m\u001b[0;34m(\u001b[0m\u001b[0mX\u001b[0m\u001b[0;34m,\u001b[0m \u001b[0my\u001b[0m\u001b[0;34m,\u001b[0m \u001b[0msample_weight\u001b[0m\u001b[0;34m,\u001b[0m \u001b[0msolver_type\u001b[0m\u001b[0;34m,\u001b[0m \u001b[0mkernel\u001b[0m\u001b[0;34m,\u001b[0m \u001b[0mrandom_seed\u001b[0m\u001b[0;34m=\u001b[0m\u001b[0mseed\u001b[0m\u001b[0;34m)\u001b[0m\u001b[0;34m\u001b[0m\u001b[0;34m\u001b[0m\u001b[0m\n\u001b[0m\u001b[1;32m    256\u001b[0m         \u001b[0;31m# see comment on the other call to np.iinfo in this file\u001b[0m\u001b[0;34m\u001b[0m\u001b[0;34m\u001b[0m\u001b[0;34m\u001b[0m\u001b[0m\n\u001b[1;32m    257\u001b[0m \u001b[0;34m\u001b[0m\u001b[0m\n",
      "\u001b[0;32m/shared-libs/python3.7/py/lib/python3.7/site-packages/sklearn/svm/_base.py\u001b[0m in \u001b[0;36m_sparse_fit\u001b[0;34m(self, X, y, sample_weight, solver_type, kernel, random_seed)\u001b[0m\n\u001b[1;32m    374\u001b[0m             \u001b[0mint\u001b[0m\u001b[0;34m(\u001b[0m\u001b[0mself\u001b[0m\u001b[0;34m.\u001b[0m\u001b[0mprobability\u001b[0m\u001b[0;34m)\u001b[0m\u001b[0;34m,\u001b[0m\u001b[0;34m\u001b[0m\u001b[0;34m\u001b[0m\u001b[0m\n\u001b[1;32m    375\u001b[0m             \u001b[0mself\u001b[0m\u001b[0;34m.\u001b[0m\u001b[0mmax_iter\u001b[0m\u001b[0;34m,\u001b[0m\u001b[0;34m\u001b[0m\u001b[0;34m\u001b[0m\u001b[0m\n\u001b[0;32m--> 376\u001b[0;31m             \u001b[0mrandom_seed\u001b[0m\u001b[0;34m,\u001b[0m\u001b[0;34m\u001b[0m\u001b[0;34m\u001b[0m\u001b[0m\n\u001b[0m\u001b[1;32m    377\u001b[0m         )\n\u001b[1;32m    378\u001b[0m \u001b[0;34m\u001b[0m\u001b[0m\n",
      "\u001b[0;32msklearn/svm/_libsvm_sparse.pyx\u001b[0m in \u001b[0;36msklearn.svm._libsvm_sparse.libsvm_sparse_train\u001b[0;34m()\u001b[0m\n",
      "\u001b[0;32m/shared-libs/python3.7/py/lib/python3.7/site-packages/scipy/sparse/compressed.py\u001b[0m in \u001b[0;36m__init__\u001b[0;34m(self, arg1, shape, dtype, copy)\u001b[0m\n\u001b[1;32m     25\u001b[0m     \u001b[0;34m\"\"\"base matrix class for compressed row- and column-oriented matrices\"\"\"\u001b[0m\u001b[0;34m\u001b[0m\u001b[0;34m\u001b[0m\u001b[0m\n\u001b[1;32m     26\u001b[0m \u001b[0;34m\u001b[0m\u001b[0m\n\u001b[0;32m---> 27\u001b[0;31m     \u001b[0;32mdef\u001b[0m \u001b[0m__init__\u001b[0m\u001b[0;34m(\u001b[0m\u001b[0mself\u001b[0m\u001b[0;34m,\u001b[0m \u001b[0marg1\u001b[0m\u001b[0;34m,\u001b[0m \u001b[0mshape\u001b[0m\u001b[0;34m=\u001b[0m\u001b[0;32mNone\u001b[0m\u001b[0;34m,\u001b[0m \u001b[0mdtype\u001b[0m\u001b[0;34m=\u001b[0m\u001b[0;32mNone\u001b[0m\u001b[0;34m,\u001b[0m \u001b[0mcopy\u001b[0m\u001b[0;34m=\u001b[0m\u001b[0;32mFalse\u001b[0m\u001b[0;34m)\u001b[0m\u001b[0;34m:\u001b[0m\u001b[0;34m\u001b[0m\u001b[0;34m\u001b[0m\u001b[0m\n\u001b[0m\u001b[1;32m     28\u001b[0m         \u001b[0m_data_matrix\u001b[0m\u001b[0;34m.\u001b[0m\u001b[0m__init__\u001b[0m\u001b[0;34m(\u001b[0m\u001b[0mself\u001b[0m\u001b[0;34m)\u001b[0m\u001b[0;34m\u001b[0m\u001b[0;34m\u001b[0m\u001b[0m\n\u001b[1;32m     29\u001b[0m \u001b[0;34m\u001b[0m\u001b[0m\n",
      "\u001b[0;31mKeyboardInterrupt\u001b[0m: "
     ]
    }
   ],
   "execution_count": null
  },
  {
   "cell_type": "code",
   "metadata": {
    "tags": [],
    "cell_id": "00034-72a3bcd8-efe3-4489-ad74-6cc5ed5aa847",
    "deepnote_to_be_reexecuted": true,
    "source_hash": "a6fda527",
    "execution_start": 1633878345241,
    "execution_millis": 13,
    "deepnote_cell_type": "code"
   },
   "source": "print(grid.best_estimator_)",
   "execution_count": null,
   "outputs": [
    {
     "name": "stdout",
     "text": "SVC(C=100, gamma=0.1)\n",
     "output_type": "stream"
    }
   ]
  },
  {
   "cell_type": "code",
   "metadata": {
    "tags": [],
    "cell_id": "00035-c27289b6-face-477f-8c7c-620f9d59fa52",
    "deepnote_to_be_reexecuted": false,
    "source_hash": "1af08cfb",
    "execution_start": 1635690522768,
    "execution_millis": 16566,
    "deepnote_cell_type": "code"
   },
   "source": "svm_classifier_tuned = svm.SVC(C=100, gamma=0.1, kernel='rbf')\nsvm_classifier_tuned.fit(X_train_normal_Tfidf,Y_train_normal['label'])",
   "outputs": [
    {
     "output_type": "execute_result",
     "execution_count": 35,
     "data": {
      "text/plain": "SVC(C=100, gamma=0.1)"
     },
     "metadata": {}
    }
   ],
   "execution_count": null
  },
  {
   "cell_type": "code",
   "metadata": {
    "tags": [],
    "cell_id": "00036-05b730f8-fe01-4d9a-be34-50d3a2f54ca4",
    "deepnote_to_be_reexecuted": false,
    "source_hash": "a683ac71",
    "execution_start": 1635690539349,
    "execution_millis": 1162,
    "deepnote_cell_type": "code"
   },
   "source": "from sklearn.metrics import accuracy_score \ny_pred = svm_classifier_tuned.predict(X_test_normal_Tfidf)\n\naccuracy_test = accuracy_score(Y_test_normal['label'], y_pred)*100\nprint('Accuracy Score on test dataset: ', accuracy_test)",
   "outputs": [
    {
     "name": "stdout",
     "text": "Accuracy Score on test dataset:  93.73558118899734\n",
     "output_type": "stream"
    }
   ],
   "execution_count": null
  },
  {
   "cell_type": "code",
   "source": "import pickle\nfilename = 'oversample_svm.sav'\npickle.dump(svm_classifier_tuned, open(filename, 'wb'))",
   "metadata": {
    "tags": [],
    "cell_id": "00040-8ad58d56-dcb2-4cc6-acff-2157be22001d",
    "deepnote_to_be_reexecuted": false,
    "source_hash": "afaec1c3",
    "execution_start": 1635690674899,
    "execution_millis": 4,
    "deepnote_cell_type": "code"
   },
   "outputs": [],
   "execution_count": null
  },
  {
   "cell_type": "code",
   "source": "",
   "metadata": {
    "tags": [],
    "cell_id": "00040-6cd2c944-7179-48e3-bfcf-6c0959f2ba14",
    "deepnote_cell_type": "code"
   },
   "outputs": [],
   "execution_count": null
  },
  {
   "cell_type": "markdown",
   "source": "## Adaboost",
   "metadata": {
    "tags": [],
    "is_collapsed": false,
    "cell_id": "00036-3e8c111e-adb7-4e60-ad4f-c960ee773c19",
    "deepnote_cell_type": "text-cell-h2"
   }
  },
  {
   "cell_type": "code",
   "metadata": {
    "tags": [],
    "cell_id": "00037-ed090dc0-6ff1-44e8-ad7f-39458b9bc520",
    "deepnote_to_be_reexecuted": true,
    "source_hash": "fe7f5f9a",
    "execution_start": 1633878597233,
    "execution_millis": 768,
    "deepnote_cell_type": "code"
   },
   "source": "from sklearn.ensemble import AdaBoostClassifier\n\nadaboost_model = AdaBoostClassifier(random_state=9)\nadaboost_model.fit(X_train_normal_Tfidf,Y_train_normal['label'])\n\ny_predict = adaboost_model.predict(X_test_normal_Tfidf)\n\naccuracy_test = accuracy_score(Y_test_normal['label'], y_predict)*100\nprint('Accuracy Score on test dataset: ', accuracy_test)",
   "execution_count": null,
   "outputs": [
    {
     "name": "stdout",
     "text": "Accuracy Score on test dataset:  93.66459627329192\n",
     "output_type": "stream"
    }
   ]
  },
  {
   "cell_type": "markdown",
   "source": "## Hyperparameter Tuning Adaboost :) ",
   "metadata": {
    "tags": [],
    "is_collapsed": false,
    "cell_id": "00038-2c05afd9-1c68-4de5-9837-ad111883a717",
    "deepnote_cell_type": "text-cell-h2"
   }
  },
  {
   "cell_type": "code",
   "metadata": {
    "tags": [],
    "cell_id": "00038-df04ed3f-53d3-4a51-821c-e56fa3efeda8",
    "deepnote_to_be_reexecuted": true,
    "source_hash": "644e2fdd",
    "execution_start": 1633878597991,
    "execution_millis": 133536,
    "deepnote_cell_type": "code"
   },
   "source": "from sklearn.ensemble import AdaBoostClassifier\nfrom sklearn.tree import DecisionTreeClassifier\n\nparam_grid_a = {\n    'base_estimator__max_depth':[i for i in range(2,11,2)],\n    'base_estimator__min_samples_leaf':[5,10],\n    'n_estimators':[10,50,250,1000],\n    'learning_rate':[0.01,0.1]\n    }\n\nDTC = DecisionTreeClassifier()\nada_model = AdaBoostClassifier(base_estimator = DTC)\ngrid_a = GridSearchCV(ada_model,param_grid=param_grid_a)\n\nsearch = grid_a.fit(X_train_normal_Tfidf,Y_train_normal[\"label\"].tolist())\nsearch.best_params_",
   "execution_count": null,
   "outputs": [
    {
     "output_type": "error",
     "ename": "KeyboardInterrupt",
     "evalue": "",
     "traceback": [
      "\u001b[0;31m---------------------------------------------------------------------------\u001b[0m",
      "\u001b[0;31mKeyboardInterrupt\u001b[0m                         Traceback (most recent call last)",
      "\u001b[0;32m/tmp/ipykernel_1937/790170618.py\u001b[0m in \u001b[0;36m<module>\u001b[0;34m\u001b[0m\n\u001b[1;32m     13\u001b[0m \u001b[0mgrid_a\u001b[0m \u001b[0;34m=\u001b[0m \u001b[0mGridSearchCV\u001b[0m\u001b[0;34m(\u001b[0m\u001b[0mada_model\u001b[0m\u001b[0;34m,\u001b[0m\u001b[0mparam_grid\u001b[0m\u001b[0;34m=\u001b[0m\u001b[0mparam_grid_a\u001b[0m\u001b[0;34m)\u001b[0m\u001b[0;34m\u001b[0m\u001b[0;34m\u001b[0m\u001b[0m\n\u001b[1;32m     14\u001b[0m \u001b[0;34m\u001b[0m\u001b[0m\n\u001b[0;32m---> 15\u001b[0;31m \u001b[0msearch\u001b[0m \u001b[0;34m=\u001b[0m \u001b[0mgrid_a\u001b[0m\u001b[0;34m.\u001b[0m\u001b[0mfit\u001b[0m\u001b[0;34m(\u001b[0m\u001b[0mX_train_normal_Tfidf\u001b[0m\u001b[0;34m,\u001b[0m\u001b[0mY_train_normal\u001b[0m\u001b[0;34m[\u001b[0m\u001b[0;34m\"label\"\u001b[0m\u001b[0;34m]\u001b[0m\u001b[0;34m.\u001b[0m\u001b[0mtolist\u001b[0m\u001b[0;34m(\u001b[0m\u001b[0;34m)\u001b[0m\u001b[0;34m)\u001b[0m\u001b[0;34m\u001b[0m\u001b[0;34m\u001b[0m\u001b[0m\n\u001b[0m\u001b[1;32m     16\u001b[0m \u001b[0msearch\u001b[0m\u001b[0;34m.\u001b[0m\u001b[0mbest_params_\u001b[0m\u001b[0;34m\u001b[0m\u001b[0;34m\u001b[0m\u001b[0m\n",
      "\u001b[0;32m/shared-libs/python3.7/py/lib/python3.7/site-packages/sklearn/model_selection/_search.py\u001b[0m in \u001b[0;36mfit\u001b[0;34m(self, X, y, groups, **fit_params)\u001b[0m\n\u001b[1;32m    889\u001b[0m                 \u001b[0;32mreturn\u001b[0m \u001b[0mresults\u001b[0m\u001b[0;34m\u001b[0m\u001b[0;34m\u001b[0m\u001b[0m\n\u001b[1;32m    890\u001b[0m \u001b[0;34m\u001b[0m\u001b[0m\n\u001b[0;32m--> 891\u001b[0;31m             \u001b[0mself\u001b[0m\u001b[0;34m.\u001b[0m\u001b[0m_run_search\u001b[0m\u001b[0;34m(\u001b[0m\u001b[0mevaluate_candidates\u001b[0m\u001b[0;34m)\u001b[0m\u001b[0;34m\u001b[0m\u001b[0;34m\u001b[0m\u001b[0m\n\u001b[0m\u001b[1;32m    892\u001b[0m \u001b[0;34m\u001b[0m\u001b[0m\n\u001b[1;32m    893\u001b[0m             \u001b[0;31m# multimetric is determined here because in the case of a callable\u001b[0m\u001b[0;34m\u001b[0m\u001b[0;34m\u001b[0m\u001b[0;34m\u001b[0m\u001b[0m\n",
      "\u001b[0;32m/shared-libs/python3.7/py/lib/python3.7/site-packages/sklearn/model_selection/_search.py\u001b[0m in \u001b[0;36m_run_search\u001b[0;34m(self, evaluate_candidates)\u001b[0m\n\u001b[1;32m   1390\u001b[0m     \u001b[0;32mdef\u001b[0m \u001b[0m_run_search\u001b[0m\u001b[0;34m(\u001b[0m\u001b[0mself\u001b[0m\u001b[0;34m,\u001b[0m \u001b[0mevaluate_candidates\u001b[0m\u001b[0;34m)\u001b[0m\u001b[0;34m:\u001b[0m\u001b[0;34m\u001b[0m\u001b[0;34m\u001b[0m\u001b[0m\n\u001b[1;32m   1391\u001b[0m         \u001b[0;34m\"\"\"Search all candidates in param_grid\"\"\"\u001b[0m\u001b[0;34m\u001b[0m\u001b[0;34m\u001b[0m\u001b[0m\n\u001b[0;32m-> 1392\u001b[0;31m         \u001b[0mevaluate_candidates\u001b[0m\u001b[0;34m(\u001b[0m\u001b[0mParameterGrid\u001b[0m\u001b[0;34m(\u001b[0m\u001b[0mself\u001b[0m\u001b[0;34m.\u001b[0m\u001b[0mparam_grid\u001b[0m\u001b[0;34m)\u001b[0m\u001b[0;34m)\u001b[0m\u001b[0;34m\u001b[0m\u001b[0;34m\u001b[0m\u001b[0m\n\u001b[0m\u001b[1;32m   1393\u001b[0m \u001b[0;34m\u001b[0m\u001b[0m\n\u001b[1;32m   1394\u001b[0m \u001b[0;34m\u001b[0m\u001b[0m\n",
      "\u001b[0;32m/shared-libs/python3.7/py/lib/python3.7/site-packages/sklearn/model_selection/_search.py\u001b[0m in \u001b[0;36mevaluate_candidates\u001b[0;34m(candidate_params, cv, more_results)\u001b[0m\n\u001b[1;32m    849\u001b[0m                     )\n\u001b[1;32m    850\u001b[0m                     for (cand_idx, parameters), (split_idx, (train, test)) in product(\n\u001b[0;32m--> 851\u001b[0;31m                         \u001b[0menumerate\u001b[0m\u001b[0;34m(\u001b[0m\u001b[0mcandidate_params\u001b[0m\u001b[0;34m)\u001b[0m\u001b[0;34m,\u001b[0m \u001b[0menumerate\u001b[0m\u001b[0;34m(\u001b[0m\u001b[0mcv\u001b[0m\u001b[0;34m.\u001b[0m\u001b[0msplit\u001b[0m\u001b[0;34m(\u001b[0m\u001b[0mX\u001b[0m\u001b[0;34m,\u001b[0m \u001b[0my\u001b[0m\u001b[0;34m,\u001b[0m \u001b[0mgroups\u001b[0m\u001b[0;34m)\u001b[0m\u001b[0;34m)\u001b[0m\u001b[0;34m\u001b[0m\u001b[0;34m\u001b[0m\u001b[0m\n\u001b[0m\u001b[1;32m    852\u001b[0m                     )\n\u001b[1;32m    853\u001b[0m                 )\n",
      "\u001b[0;32m/shared-libs/python3.7/py/lib/python3.7/site-packages/joblib/parallel.py\u001b[0m in \u001b[0;36m__call__\u001b[0;34m(self, iterable)\u001b[0m\n\u001b[1;32m   1042\u001b[0m                 \u001b[0mself\u001b[0m\u001b[0;34m.\u001b[0m\u001b[0m_iterating\u001b[0m \u001b[0;34m=\u001b[0m \u001b[0mself\u001b[0m\u001b[0;34m.\u001b[0m\u001b[0m_original_iterator\u001b[0m \u001b[0;32mis\u001b[0m \u001b[0;32mnot\u001b[0m \u001b[0;32mNone\u001b[0m\u001b[0;34m\u001b[0m\u001b[0;34m\u001b[0m\u001b[0m\n\u001b[1;32m   1043\u001b[0m \u001b[0;34m\u001b[0m\u001b[0m\n\u001b[0;32m-> 1044\u001b[0;31m             \u001b[0;32mwhile\u001b[0m \u001b[0mself\u001b[0m\u001b[0;34m.\u001b[0m\u001b[0mdispatch_one_batch\u001b[0m\u001b[0;34m(\u001b[0m\u001b[0miterator\u001b[0m\u001b[0;34m)\u001b[0m\u001b[0;34m:\u001b[0m\u001b[0;34m\u001b[0m\u001b[0;34m\u001b[0m\u001b[0m\n\u001b[0m\u001b[1;32m   1045\u001b[0m                 \u001b[0;32mpass\u001b[0m\u001b[0;34m\u001b[0m\u001b[0;34m\u001b[0m\u001b[0m\n\u001b[1;32m   1046\u001b[0m \u001b[0;34m\u001b[0m\u001b[0m\n",
      "\u001b[0;32m/shared-libs/python3.7/py/lib/python3.7/site-packages/joblib/parallel.py\u001b[0m in \u001b[0;36mdispatch_one_batch\u001b[0;34m(self, iterator)\u001b[0m\n\u001b[1;32m    857\u001b[0m                 \u001b[0;32mreturn\u001b[0m \u001b[0;32mFalse\u001b[0m\u001b[0;34m\u001b[0m\u001b[0;34m\u001b[0m\u001b[0m\n\u001b[1;32m    858\u001b[0m             \u001b[0;32melse\u001b[0m\u001b[0;34m:\u001b[0m\u001b[0;34m\u001b[0m\u001b[0;34m\u001b[0m\u001b[0m\n\u001b[0;32m--> 859\u001b[0;31m                 \u001b[0mself\u001b[0m\u001b[0;34m.\u001b[0m\u001b[0m_dispatch\u001b[0m\u001b[0;34m(\u001b[0m\u001b[0mtasks\u001b[0m\u001b[0;34m)\u001b[0m\u001b[0;34m\u001b[0m\u001b[0;34m\u001b[0m\u001b[0m\n\u001b[0m\u001b[1;32m    860\u001b[0m                 \u001b[0;32mreturn\u001b[0m \u001b[0;32mTrue\u001b[0m\u001b[0;34m\u001b[0m\u001b[0;34m\u001b[0m\u001b[0m\n\u001b[1;32m    861\u001b[0m \u001b[0;34m\u001b[0m\u001b[0m\n",
      "\u001b[0;32m/shared-libs/python3.7/py/lib/python3.7/site-packages/joblib/parallel.py\u001b[0m in \u001b[0;36m_dispatch\u001b[0;34m(self, batch)\u001b[0m\n\u001b[1;32m    775\u001b[0m         \u001b[0;32mwith\u001b[0m \u001b[0mself\u001b[0m\u001b[0;34m.\u001b[0m\u001b[0m_lock\u001b[0m\u001b[0;34m:\u001b[0m\u001b[0;34m\u001b[0m\u001b[0;34m\u001b[0m\u001b[0m\n\u001b[1;32m    776\u001b[0m             \u001b[0mjob_idx\u001b[0m \u001b[0;34m=\u001b[0m \u001b[0mlen\u001b[0m\u001b[0;34m(\u001b[0m\u001b[0mself\u001b[0m\u001b[0;34m.\u001b[0m\u001b[0m_jobs\u001b[0m\u001b[0;34m)\u001b[0m\u001b[0;34m\u001b[0m\u001b[0;34m\u001b[0m\u001b[0m\n\u001b[0;32m--> 777\u001b[0;31m             \u001b[0mjob\u001b[0m \u001b[0;34m=\u001b[0m \u001b[0mself\u001b[0m\u001b[0;34m.\u001b[0m\u001b[0m_backend\u001b[0m\u001b[0;34m.\u001b[0m\u001b[0mapply_async\u001b[0m\u001b[0;34m(\u001b[0m\u001b[0mbatch\u001b[0m\u001b[0;34m,\u001b[0m \u001b[0mcallback\u001b[0m\u001b[0;34m=\u001b[0m\u001b[0mcb\u001b[0m\u001b[0;34m)\u001b[0m\u001b[0;34m\u001b[0m\u001b[0;34m\u001b[0m\u001b[0m\n\u001b[0m\u001b[1;32m    778\u001b[0m             \u001b[0;31m# A job can complete so quickly than its callback is\u001b[0m\u001b[0;34m\u001b[0m\u001b[0;34m\u001b[0m\u001b[0;34m\u001b[0m\u001b[0m\n\u001b[1;32m    779\u001b[0m             \u001b[0;31m# called before we get here, causing self._jobs to\u001b[0m\u001b[0;34m\u001b[0m\u001b[0;34m\u001b[0m\u001b[0;34m\u001b[0m\u001b[0m\n",
      "\u001b[0;32m/shared-libs/python3.7/py/lib/python3.7/site-packages/joblib/_parallel_backends.py\u001b[0m in \u001b[0;36mapply_async\u001b[0;34m(self, func, callback)\u001b[0m\n\u001b[1;32m    206\u001b[0m     \u001b[0;32mdef\u001b[0m \u001b[0mapply_async\u001b[0m\u001b[0;34m(\u001b[0m\u001b[0mself\u001b[0m\u001b[0;34m,\u001b[0m \u001b[0mfunc\u001b[0m\u001b[0;34m,\u001b[0m \u001b[0mcallback\u001b[0m\u001b[0;34m=\u001b[0m\u001b[0;32mNone\u001b[0m\u001b[0;34m)\u001b[0m\u001b[0;34m:\u001b[0m\u001b[0;34m\u001b[0m\u001b[0;34m\u001b[0m\u001b[0m\n\u001b[1;32m    207\u001b[0m         \u001b[0;34m\"\"\"Schedule a func to be run\"\"\"\u001b[0m\u001b[0;34m\u001b[0m\u001b[0;34m\u001b[0m\u001b[0m\n\u001b[0;32m--> 208\u001b[0;31m         \u001b[0mresult\u001b[0m \u001b[0;34m=\u001b[0m \u001b[0mImmediateResult\u001b[0m\u001b[0;34m(\u001b[0m\u001b[0mfunc\u001b[0m\u001b[0;34m)\u001b[0m\u001b[0;34m\u001b[0m\u001b[0;34m\u001b[0m\u001b[0m\n\u001b[0m\u001b[1;32m    209\u001b[0m         \u001b[0;32mif\u001b[0m \u001b[0mcallback\u001b[0m\u001b[0;34m:\u001b[0m\u001b[0;34m\u001b[0m\u001b[0;34m\u001b[0m\u001b[0m\n\u001b[1;32m    210\u001b[0m             \u001b[0mcallback\u001b[0m\u001b[0;34m(\u001b[0m\u001b[0mresult\u001b[0m\u001b[0;34m)\u001b[0m\u001b[0;34m\u001b[0m\u001b[0;34m\u001b[0m\u001b[0m\n",
      "\u001b[0;32m/shared-libs/python3.7/py/lib/python3.7/site-packages/joblib/_parallel_backends.py\u001b[0m in \u001b[0;36m__init__\u001b[0;34m(self, batch)\u001b[0m\n\u001b[1;32m    570\u001b[0m         \u001b[0;31m# Don't delay the application, to avoid keeping the input\u001b[0m\u001b[0;34m\u001b[0m\u001b[0;34m\u001b[0m\u001b[0;34m\u001b[0m\u001b[0m\n\u001b[1;32m    571\u001b[0m         \u001b[0;31m# arguments in memory\u001b[0m\u001b[0;34m\u001b[0m\u001b[0;34m\u001b[0m\u001b[0;34m\u001b[0m\u001b[0m\n\u001b[0;32m--> 572\u001b[0;31m         \u001b[0mself\u001b[0m\u001b[0;34m.\u001b[0m\u001b[0mresults\u001b[0m \u001b[0;34m=\u001b[0m \u001b[0mbatch\u001b[0m\u001b[0;34m(\u001b[0m\u001b[0;34m)\u001b[0m\u001b[0;34m\u001b[0m\u001b[0;34m\u001b[0m\u001b[0m\n\u001b[0m\u001b[1;32m    573\u001b[0m \u001b[0;34m\u001b[0m\u001b[0m\n\u001b[1;32m    574\u001b[0m     \u001b[0;32mdef\u001b[0m \u001b[0mget\u001b[0m\u001b[0;34m(\u001b[0m\u001b[0mself\u001b[0m\u001b[0;34m)\u001b[0m\u001b[0;34m:\u001b[0m\u001b[0;34m\u001b[0m\u001b[0;34m\u001b[0m\u001b[0m\n",
      "\u001b[0;32m/shared-libs/python3.7/py/lib/python3.7/site-packages/joblib/parallel.py\u001b[0m in \u001b[0;36m__call__\u001b[0;34m(self)\u001b[0m\n\u001b[1;32m    261\u001b[0m         \u001b[0;32mwith\u001b[0m \u001b[0mparallel_backend\u001b[0m\u001b[0;34m(\u001b[0m\u001b[0mself\u001b[0m\u001b[0;34m.\u001b[0m\u001b[0m_backend\u001b[0m\u001b[0;34m,\u001b[0m \u001b[0mn_jobs\u001b[0m\u001b[0;34m=\u001b[0m\u001b[0mself\u001b[0m\u001b[0;34m.\u001b[0m\u001b[0m_n_jobs\u001b[0m\u001b[0;34m)\u001b[0m\u001b[0;34m:\u001b[0m\u001b[0;34m\u001b[0m\u001b[0;34m\u001b[0m\u001b[0m\n\u001b[1;32m    262\u001b[0m             return [func(*args, **kwargs)\n\u001b[0;32m--> 263\u001b[0;31m                     for func, args, kwargs in self.items]\n\u001b[0m\u001b[1;32m    264\u001b[0m \u001b[0;34m\u001b[0m\u001b[0m\n\u001b[1;32m    265\u001b[0m     \u001b[0;32mdef\u001b[0m \u001b[0m__reduce__\u001b[0m\u001b[0;34m(\u001b[0m\u001b[0mself\u001b[0m\u001b[0;34m)\u001b[0m\u001b[0;34m:\u001b[0m\u001b[0;34m\u001b[0m\u001b[0;34m\u001b[0m\u001b[0m\n",
      "\u001b[0;32m/shared-libs/python3.7/py/lib/python3.7/site-packages/joblib/parallel.py\u001b[0m in \u001b[0;36m<listcomp>\u001b[0;34m(.0)\u001b[0m\n\u001b[1;32m    261\u001b[0m         \u001b[0;32mwith\u001b[0m \u001b[0mparallel_backend\u001b[0m\u001b[0;34m(\u001b[0m\u001b[0mself\u001b[0m\u001b[0;34m.\u001b[0m\u001b[0m_backend\u001b[0m\u001b[0;34m,\u001b[0m \u001b[0mn_jobs\u001b[0m\u001b[0;34m=\u001b[0m\u001b[0mself\u001b[0m\u001b[0;34m.\u001b[0m\u001b[0m_n_jobs\u001b[0m\u001b[0;34m)\u001b[0m\u001b[0;34m:\u001b[0m\u001b[0;34m\u001b[0m\u001b[0;34m\u001b[0m\u001b[0m\n\u001b[1;32m    262\u001b[0m             return [func(*args, **kwargs)\n\u001b[0;32m--> 263\u001b[0;31m                     for func, args, kwargs in self.items]\n\u001b[0m\u001b[1;32m    264\u001b[0m \u001b[0;34m\u001b[0m\u001b[0m\n\u001b[1;32m    265\u001b[0m     \u001b[0;32mdef\u001b[0m \u001b[0m__reduce__\u001b[0m\u001b[0;34m(\u001b[0m\u001b[0mself\u001b[0m\u001b[0;34m)\u001b[0m\u001b[0;34m:\u001b[0m\u001b[0;34m\u001b[0m\u001b[0;34m\u001b[0m\u001b[0m\n",
      "\u001b[0;32m/shared-libs/python3.7/py/lib/python3.7/site-packages/sklearn/utils/fixes.py\u001b[0m in \u001b[0;36m__call__\u001b[0;34m(self, *args, **kwargs)\u001b[0m\n\u001b[1;32m    207\u001b[0m     \u001b[0;32mdef\u001b[0m \u001b[0m__call__\u001b[0m\u001b[0;34m(\u001b[0m\u001b[0mself\u001b[0m\u001b[0;34m,\u001b[0m \u001b[0;34m*\u001b[0m\u001b[0margs\u001b[0m\u001b[0;34m,\u001b[0m \u001b[0;34m**\u001b[0m\u001b[0mkwargs\u001b[0m\u001b[0;34m)\u001b[0m\u001b[0;34m:\u001b[0m\u001b[0;34m\u001b[0m\u001b[0;34m\u001b[0m\u001b[0m\n\u001b[1;32m    208\u001b[0m         \u001b[0;32mwith\u001b[0m \u001b[0mconfig_context\u001b[0m\u001b[0;34m(\u001b[0m\u001b[0;34m**\u001b[0m\u001b[0mself\u001b[0m\u001b[0;34m.\u001b[0m\u001b[0mconfig\u001b[0m\u001b[0;34m)\u001b[0m\u001b[0;34m:\u001b[0m\u001b[0;34m\u001b[0m\u001b[0;34m\u001b[0m\u001b[0m\n\u001b[0;32m--> 209\u001b[0;31m             \u001b[0;32mreturn\u001b[0m \u001b[0mself\u001b[0m\u001b[0;34m.\u001b[0m\u001b[0mfunction\u001b[0m\u001b[0;34m(\u001b[0m\u001b[0;34m*\u001b[0m\u001b[0margs\u001b[0m\u001b[0;34m,\u001b[0m \u001b[0;34m**\u001b[0m\u001b[0mkwargs\u001b[0m\u001b[0;34m)\u001b[0m\u001b[0;34m\u001b[0m\u001b[0;34m\u001b[0m\u001b[0m\n\u001b[0m\u001b[1;32m    210\u001b[0m \u001b[0;34m\u001b[0m\u001b[0m\n\u001b[1;32m    211\u001b[0m \u001b[0;34m\u001b[0m\u001b[0m\n",
      "\u001b[0;32m/shared-libs/python3.7/py/lib/python3.7/site-packages/sklearn/model_selection/_validation.py\u001b[0m in \u001b[0;36m_fit_and_score\u001b[0;34m(estimator, X, y, scorer, train, test, verbose, parameters, fit_params, return_train_score, return_parameters, return_n_test_samples, return_times, return_estimator, split_progress, candidate_progress, error_score)\u001b[0m\n\u001b[1;32m    679\u001b[0m             \u001b[0mestimator\u001b[0m\u001b[0;34m.\u001b[0m\u001b[0mfit\u001b[0m\u001b[0;34m(\u001b[0m\u001b[0mX_train\u001b[0m\u001b[0;34m,\u001b[0m \u001b[0;34m**\u001b[0m\u001b[0mfit_params\u001b[0m\u001b[0;34m)\u001b[0m\u001b[0;34m\u001b[0m\u001b[0;34m\u001b[0m\u001b[0m\n\u001b[1;32m    680\u001b[0m         \u001b[0;32melse\u001b[0m\u001b[0;34m:\u001b[0m\u001b[0;34m\u001b[0m\u001b[0;34m\u001b[0m\u001b[0m\n\u001b[0;32m--> 681\u001b[0;31m             \u001b[0mestimator\u001b[0m\u001b[0;34m.\u001b[0m\u001b[0mfit\u001b[0m\u001b[0;34m(\u001b[0m\u001b[0mX_train\u001b[0m\u001b[0;34m,\u001b[0m \u001b[0my_train\u001b[0m\u001b[0;34m,\u001b[0m \u001b[0;34m**\u001b[0m\u001b[0mfit_params\u001b[0m\u001b[0;34m)\u001b[0m\u001b[0;34m\u001b[0m\u001b[0;34m\u001b[0m\u001b[0m\n\u001b[0m\u001b[1;32m    682\u001b[0m \u001b[0;34m\u001b[0m\u001b[0m\n\u001b[1;32m    683\u001b[0m     \u001b[0;32mexcept\u001b[0m \u001b[0mException\u001b[0m\u001b[0;34m:\u001b[0m\u001b[0;34m\u001b[0m\u001b[0;34m\u001b[0m\u001b[0m\n",
      "\u001b[0;32m/shared-libs/python3.7/py/lib/python3.7/site-packages/sklearn/ensemble/_weight_boosting.py\u001b[0m in \u001b[0;36mfit\u001b[0;34m(self, X, y, sample_weight)\u001b[0m\n\u001b[1;32m    484\u001b[0m \u001b[0;34m\u001b[0m\u001b[0m\n\u001b[1;32m    485\u001b[0m         \u001b[0;31m# Fit\u001b[0m\u001b[0;34m\u001b[0m\u001b[0;34m\u001b[0m\u001b[0;34m\u001b[0m\u001b[0m\n\u001b[0;32m--> 486\u001b[0;31m         \u001b[0;32mreturn\u001b[0m \u001b[0msuper\u001b[0m\u001b[0;34m(\u001b[0m\u001b[0;34m)\u001b[0m\u001b[0;34m.\u001b[0m\u001b[0mfit\u001b[0m\u001b[0;34m(\u001b[0m\u001b[0mX\u001b[0m\u001b[0;34m,\u001b[0m \u001b[0my\u001b[0m\u001b[0;34m,\u001b[0m \u001b[0msample_weight\u001b[0m\u001b[0;34m)\u001b[0m\u001b[0;34m\u001b[0m\u001b[0;34m\u001b[0m\u001b[0m\n\u001b[0m\u001b[1;32m    487\u001b[0m \u001b[0;34m\u001b[0m\u001b[0m\n\u001b[1;32m    488\u001b[0m     \u001b[0;32mdef\u001b[0m \u001b[0m_validate_estimator\u001b[0m\u001b[0;34m(\u001b[0m\u001b[0mself\u001b[0m\u001b[0;34m)\u001b[0m\u001b[0;34m:\u001b[0m\u001b[0;34m\u001b[0m\u001b[0;34m\u001b[0m\u001b[0m\n",
      "\u001b[0;32m/shared-libs/python3.7/py/lib/python3.7/site-packages/sklearn/ensemble/_weight_boosting.py\u001b[0m in \u001b[0;36mfit\u001b[0;34m(self, X, y, sample_weight)\u001b[0m\n\u001b[1;32m    144\u001b[0m             \u001b[0;31m# Boosting step\u001b[0m\u001b[0;34m\u001b[0m\u001b[0;34m\u001b[0m\u001b[0;34m\u001b[0m\u001b[0m\n\u001b[1;32m    145\u001b[0m             sample_weight, estimator_weight, estimator_error = self._boost(\n\u001b[0;32m--> 146\u001b[0;31m                 \u001b[0miboost\u001b[0m\u001b[0;34m,\u001b[0m \u001b[0mX\u001b[0m\u001b[0;34m,\u001b[0m \u001b[0my\u001b[0m\u001b[0;34m,\u001b[0m \u001b[0msample_weight\u001b[0m\u001b[0;34m,\u001b[0m \u001b[0mrandom_state\u001b[0m\u001b[0;34m\u001b[0m\u001b[0;34m\u001b[0m\u001b[0m\n\u001b[0m\u001b[1;32m    147\u001b[0m             )\n\u001b[1;32m    148\u001b[0m \u001b[0;34m\u001b[0m\u001b[0m\n",
      "\u001b[0;32m/shared-libs/python3.7/py/lib/python3.7/site-packages/sklearn/ensemble/_weight_boosting.py\u001b[0m in \u001b[0;36m_boost\u001b[0;34m(self, iboost, X, y, sample_weight, random_state)\u001b[0m\n\u001b[1;32m    546\u001b[0m         \"\"\"\n\u001b[1;32m    547\u001b[0m         \u001b[0;32mif\u001b[0m \u001b[0mself\u001b[0m\u001b[0;34m.\u001b[0m\u001b[0malgorithm\u001b[0m \u001b[0;34m==\u001b[0m \u001b[0;34m\"SAMME.R\"\u001b[0m\u001b[0;34m:\u001b[0m\u001b[0;34m\u001b[0m\u001b[0;34m\u001b[0m\u001b[0m\n\u001b[0;32m--> 548\u001b[0;31m             \u001b[0;32mreturn\u001b[0m \u001b[0mself\u001b[0m\u001b[0;34m.\u001b[0m\u001b[0m_boost_real\u001b[0m\u001b[0;34m(\u001b[0m\u001b[0miboost\u001b[0m\u001b[0;34m,\u001b[0m \u001b[0mX\u001b[0m\u001b[0;34m,\u001b[0m \u001b[0my\u001b[0m\u001b[0;34m,\u001b[0m \u001b[0msample_weight\u001b[0m\u001b[0;34m,\u001b[0m \u001b[0mrandom_state\u001b[0m\u001b[0;34m)\u001b[0m\u001b[0;34m\u001b[0m\u001b[0;34m\u001b[0m\u001b[0m\n\u001b[0m\u001b[1;32m    549\u001b[0m \u001b[0;34m\u001b[0m\u001b[0m\n\u001b[1;32m    550\u001b[0m         \u001b[0;32melse\u001b[0m\u001b[0;34m:\u001b[0m  \u001b[0;31m# elif self.algorithm == \"SAMME\":\u001b[0m\u001b[0;34m\u001b[0m\u001b[0;34m\u001b[0m\u001b[0m\n",
      "\u001b[0;32m/shared-libs/python3.7/py/lib/python3.7/site-packages/sklearn/ensemble/_weight_boosting.py\u001b[0m in \u001b[0;36m_boost_real\u001b[0;34m(self, iboost, X, y, sample_weight, random_state)\u001b[0m\n\u001b[1;32m    555\u001b[0m         \u001b[0mestimator\u001b[0m \u001b[0;34m=\u001b[0m \u001b[0mself\u001b[0m\u001b[0;34m.\u001b[0m\u001b[0m_make_estimator\u001b[0m\u001b[0;34m(\u001b[0m\u001b[0mrandom_state\u001b[0m\u001b[0;34m=\u001b[0m\u001b[0mrandom_state\u001b[0m\u001b[0;34m)\u001b[0m\u001b[0;34m\u001b[0m\u001b[0;34m\u001b[0m\u001b[0m\n\u001b[1;32m    556\u001b[0m \u001b[0;34m\u001b[0m\u001b[0m\n\u001b[0;32m--> 557\u001b[0;31m         \u001b[0mestimator\u001b[0m\u001b[0;34m.\u001b[0m\u001b[0mfit\u001b[0m\u001b[0;34m(\u001b[0m\u001b[0mX\u001b[0m\u001b[0;34m,\u001b[0m \u001b[0my\u001b[0m\u001b[0;34m,\u001b[0m \u001b[0msample_weight\u001b[0m\u001b[0;34m=\u001b[0m\u001b[0msample_weight\u001b[0m\u001b[0;34m)\u001b[0m\u001b[0;34m\u001b[0m\u001b[0;34m\u001b[0m\u001b[0m\n\u001b[0m\u001b[1;32m    558\u001b[0m \u001b[0;34m\u001b[0m\u001b[0m\n\u001b[1;32m    559\u001b[0m         \u001b[0my_predict_proba\u001b[0m \u001b[0;34m=\u001b[0m \u001b[0mestimator\u001b[0m\u001b[0;34m.\u001b[0m\u001b[0mpredict_proba\u001b[0m\u001b[0;34m(\u001b[0m\u001b[0mX\u001b[0m\u001b[0;34m)\u001b[0m\u001b[0;34m\u001b[0m\u001b[0;34m\u001b[0m\u001b[0m\n",
      "\u001b[0;32m/shared-libs/python3.7/py/lib/python3.7/site-packages/sklearn/tree/_classes.py\u001b[0m in \u001b[0;36mfit\u001b[0;34m(self, X, y, sample_weight, check_input, X_idx_sorted)\u001b[0m\n\u001b[1;32m    940\u001b[0m             \u001b[0msample_weight\u001b[0m\u001b[0;34m=\u001b[0m\u001b[0msample_weight\u001b[0m\u001b[0;34m,\u001b[0m\u001b[0;34m\u001b[0m\u001b[0;34m\u001b[0m\u001b[0m\n\u001b[1;32m    941\u001b[0m             \u001b[0mcheck_input\u001b[0m\u001b[0;34m=\u001b[0m\u001b[0mcheck_input\u001b[0m\u001b[0;34m,\u001b[0m\u001b[0;34m\u001b[0m\u001b[0;34m\u001b[0m\u001b[0m\n\u001b[0;32m--> 942\u001b[0;31m             \u001b[0mX_idx_sorted\u001b[0m\u001b[0;34m=\u001b[0m\u001b[0mX_idx_sorted\u001b[0m\u001b[0;34m,\u001b[0m\u001b[0;34m\u001b[0m\u001b[0;34m\u001b[0m\u001b[0m\n\u001b[0m\u001b[1;32m    943\u001b[0m         )\n\u001b[1;32m    944\u001b[0m         \u001b[0;32mreturn\u001b[0m \u001b[0mself\u001b[0m\u001b[0;34m\u001b[0m\u001b[0;34m\u001b[0m\u001b[0m\n",
      "\u001b[0;32m/shared-libs/python3.7/py/lib/python3.7/site-packages/sklearn/tree/_classes.py\u001b[0m in \u001b[0;36mfit\u001b[0;34m(self, X, y, sample_weight, check_input, X_idx_sorted)\u001b[0m\n\u001b[1;32m    418\u001b[0m             )\n\u001b[1;32m    419\u001b[0m \u001b[0;34m\u001b[0m\u001b[0m\n\u001b[0;32m--> 420\u001b[0;31m         \u001b[0mbuilder\u001b[0m\u001b[0;34m.\u001b[0m\u001b[0mbuild\u001b[0m\u001b[0;34m(\u001b[0m\u001b[0mself\u001b[0m\u001b[0;34m.\u001b[0m\u001b[0mtree_\u001b[0m\u001b[0;34m,\u001b[0m \u001b[0mX\u001b[0m\u001b[0;34m,\u001b[0m \u001b[0my\u001b[0m\u001b[0;34m,\u001b[0m \u001b[0msample_weight\u001b[0m\u001b[0;34m)\u001b[0m\u001b[0;34m\u001b[0m\u001b[0;34m\u001b[0m\u001b[0m\n\u001b[0m\u001b[1;32m    421\u001b[0m \u001b[0;34m\u001b[0m\u001b[0m\n\u001b[1;32m    422\u001b[0m         \u001b[0;32mif\u001b[0m \u001b[0mself\u001b[0m\u001b[0;34m.\u001b[0m\u001b[0mn_outputs_\u001b[0m \u001b[0;34m==\u001b[0m \u001b[0;36m1\u001b[0m \u001b[0;32mand\u001b[0m \u001b[0mis_classifier\u001b[0m\u001b[0;34m(\u001b[0m\u001b[0mself\u001b[0m\u001b[0;34m)\u001b[0m\u001b[0;34m:\u001b[0m\u001b[0;34m\u001b[0m\u001b[0;34m\u001b[0m\u001b[0m\n",
      "\u001b[0;31mKeyboardInterrupt\u001b[0m: "
     ]
    }
   ]
  },
  {
   "cell_type": "code",
   "metadata": {
    "tags": [],
    "cell_id": "00039-cedd937a-c43a-416a-b3e0-a764d91061dc",
    "deepnote_to_be_reexecuted": true,
    "source_hash": "f9634c9",
    "deepnote_cell_type": "code"
   },
   "source": "DTC = DecisionTreeClassifier(max_depth=2,min_samples_leaf=10)\nada_model = AdaBoostClassifier(base_estimator = DTC, learning_rate=0.1, n_estimators=250)\n\nada_model.fit(X_train_normal_Tfidf,Y_train)\ny_predict = ada_model.predict(X_test_normal_Tfidf)\n\naccuracy_test = accuracy_score(Y_test['label'], y_predict)*100\nprint('Accuracy Score on test dataset: ', accuracy_test)",
   "execution_count": null,
   "outputs": []
  },
  {
   "cell_type": "code",
   "metadata": {
    "tags": [],
    "cell_id": "00040-a26792e7-f3f4-498e-81c9-5c25b5296d5e",
    "deepnote_to_be_reexecuted": true,
    "source_hash": "b623e53d",
    "deepnote_cell_type": "code"
   },
   "source": "",
   "execution_count": null,
   "outputs": []
  },
  {
   "cell_type": "markdown",
   "source": "## ",
   "metadata": {
    "tags": [],
    "is_collapsed": false,
    "cell_id": "00042-2be71cdf-1199-4679-b30c-bfd2d8aeffb4",
    "deepnote_cell_type": "text-cell-h2"
   }
  },
  {
   "cell_type": "markdown",
   "source": "## LSTM",
   "metadata": {
    "tags": [],
    "is_collapsed": false,
    "cell_id": "00044-bb710366-2d59-4eef-a347-2546ce896108",
    "deepnote_cell_type": "text-cell-h2"
   }
  },
  {
   "cell_type": "code",
   "metadata": {
    "tags": [],
    "cell_id": "00047-aa526b81-3386-44e8-966d-7ec71475f367",
    "deepnote_to_be_reexecuted": true,
    "source_hash": "5233b05e",
    "execution_start": 1635646656574,
    "execution_millis": 1745,
    "deepnote_cell_type": "code"
   },
   "source": "!pip uninstall --yes tensorflow",
   "execution_count": null,
   "outputs": [
    {
     "name": "stdout",
     "text": "Found existing installation: tensorflow 2.4.1\r\nNot uninstalling tensorflow at /shared-libs/python3.7/py/lib/python3.7/site-packages, outside environment /root/venv\r\nCan't uninstall 'tensorflow'. No files were found to uninstall.\r\n",
     "output_type": "stream"
    }
   ]
  },
  {
   "cell_type": "code",
   "metadata": {
    "tags": [],
    "cell_id": "00048-3e926f7a-99f4-478d-993f-8f3190839a2a",
    "deepnote_to_be_reexecuted": true,
    "source_hash": "a23e6820",
    "execution_start": 1635646661614,
    "execution_millis": 6535,
    "deepnote_cell_type": "code"
   },
   "source": "!pip install tensorflow",
   "execution_count": null,
   "outputs": [
    {
     "name": "stdout",
     "text": "Requirement already satisfied: tensorflow in /shared-libs/python3.7/py/lib/python3.7/site-packages (2.4.1)\nRequirement already satisfied: numpy~=1.19.2 in /shared-libs/python3.7/py/lib/python3.7/site-packages (from tensorflow) (1.19.5)\nRequirement already satisfied: gast==0.3.3 in /shared-libs/python3.7/py/lib/python3.7/site-packages (from tensorflow) (0.3.3)\nRequirement already satisfied: tensorboard~=2.4 in /shared-libs/python3.7/py/lib/python3.7/site-packages (from tensorflow) (2.6.0)\nCollecting six~=1.15.0\n  Downloading six-1.15.0-py2.py3-none-any.whl (10 kB)\nRequirement already satisfied: wheel~=0.35 in /root/venv/lib/python3.7/site-packages (from tensorflow) (0.37.0)\nRequirement already satisfied: grpcio~=1.32.0 in /shared-libs/python3.7/py/lib/python3.7/site-packages (from tensorflow) (1.32.0)\nRequirement already satisfied: h5py~=2.10.0 in /shared-libs/python3.7/py/lib/python3.7/site-packages (from tensorflow) (2.10.0)\nRequirement already satisfied: protobuf>=3.9.2 in /shared-libs/python3.7/py/lib/python3.7/site-packages (from tensorflow) (3.17.3)\nRequirement already satisfied: absl-py~=0.10 in /shared-libs/python3.7/py/lib/python3.7/site-packages (from tensorflow) (0.14.1)\nCollecting typing-extensions~=3.7.4\n  Downloading typing_extensions-3.7.4.3-py3-none-any.whl (22 kB)\nRequirement already satisfied: termcolor~=1.1.0 in /shared-libs/python3.7/py/lib/python3.7/site-packages (from tensorflow) (1.1.0)\nRequirement already satisfied: wrapt~=1.12.1 in /shared-libs/python3.7/py/lib/python3.7/site-packages (from tensorflow) (1.12.1)\nRequirement already satisfied: google-pasta~=0.2 in /shared-libs/python3.7/py/lib/python3.7/site-packages (from tensorflow) (0.2.0)\nRequirement already satisfied: keras-preprocessing~=1.1.2 in /shared-libs/python3.7/py/lib/python3.7/site-packages (from tensorflow) (1.1.2)\nRequirement already satisfied: flatbuffers~=1.12.0 in /shared-libs/python3.7/py/lib/python3.7/site-packages (from tensorflow) (1.12)\nRequirement already satisfied: tensorflow-estimator<2.5.0,>=2.4.0 in /shared-libs/python3.7/py/lib/python3.7/site-packages (from tensorflow) (2.4.0)\nRequirement already satisfied: opt-einsum~=3.3.0 in /shared-libs/python3.7/py/lib/python3.7/site-packages (from tensorflow) (3.3.0)\nRequirement already satisfied: astunparse~=1.6.3 in /shared-libs/python3.7/py/lib/python3.7/site-packages (from tensorflow) (1.6.3)\nRequirement already satisfied: markdown>=2.6.8 in /shared-libs/python3.7/py/lib/python3.7/site-packages (from tensorboard~=2.4->tensorflow) (3.3.4)\nRequirement already satisfied: setuptools>=41.0.0 in /root/venv/lib/python3.7/site-packages (from tensorboard~=2.4->tensorflow) (58.1.0)\nRequirement already satisfied: tensorboard-data-server<0.7.0,>=0.6.0 in /shared-libs/python3.7/py/lib/python3.7/site-packages (from tensorboard~=2.4->tensorflow) (0.6.1)\nRequirement already satisfied: google-auth-oauthlib<0.5,>=0.4.1 in /shared-libs/python3.7/py/lib/python3.7/site-packages (from tensorboard~=2.4->tensorflow) (0.4.6)\nRequirement already satisfied: requests<3,>=2.21.0 in /shared-libs/python3.7/py/lib/python3.7/site-packages (from tensorboard~=2.4->tensorflow) (2.26.0)\nRequirement already satisfied: werkzeug>=0.11.15 in /shared-libs/python3.7/py/lib/python3.7/site-packages (from tensorboard~=2.4->tensorflow) (2.0.2)\nRequirement already satisfied: tensorboard-plugin-wit>=1.6.0 in /shared-libs/python3.7/py/lib/python3.7/site-packages (from tensorboard~=2.4->tensorflow) (1.8.0)\nRequirement already satisfied: google-auth<2,>=1.6.3 in /shared-libs/python3.7/py/lib/python3.7/site-packages (from tensorboard~=2.4->tensorflow) (1.35.0)\nRequirement already satisfied: rsa<5,>=3.1.4 in /shared-libs/python3.7/py/lib/python3.7/site-packages (from google-auth<2,>=1.6.3->tensorboard~=2.4->tensorflow) (4.7.2)\nRequirement already satisfied: cachetools<5.0,>=2.0.0 in /shared-libs/python3.7/py/lib/python3.7/site-packages (from google-auth<2,>=1.6.3->tensorboard~=2.4->tensorflow) (4.2.4)\nRequirement already satisfied: pyasn1-modules>=0.2.1 in /shared-libs/python3.7/py/lib/python3.7/site-packages (from google-auth<2,>=1.6.3->tensorboard~=2.4->tensorflow) (0.2.8)\nRequirement already satisfied: requests-oauthlib>=0.7.0 in /shared-libs/python3.7/py/lib/python3.7/site-packages (from google-auth-oauthlib<0.5,>=0.4.1->tensorboard~=2.4->tensorflow) (1.3.0)\nRequirement already satisfied: importlib-metadata in /shared-libs/python3.7/py-core/lib/python3.7/site-packages (from markdown>=2.6.8->tensorboard~=2.4->tensorflow) (4.8.1)\nRequirement already satisfied: pyasn1<0.5.0,>=0.4.6 in /shared-libs/python3.7/py/lib/python3.7/site-packages (from pyasn1-modules>=0.2.1->google-auth<2,>=1.6.3->tensorboard~=2.4->tensorflow) (0.4.8)\nRequirement already satisfied: certifi>=2017.4.17 in /shared-libs/python3.7/py/lib/python3.7/site-packages (from requests<3,>=2.21.0->tensorboard~=2.4->tensorflow) (2021.10.8)\nRequirement already satisfied: urllib3<1.27,>=1.21.1 in /shared-libs/python3.7/py/lib/python3.7/site-packages (from requests<3,>=2.21.0->tensorboard~=2.4->tensorflow) (1.26.7)\nRequirement already satisfied: charset-normalizer~=2.0.0 in /shared-libs/python3.7/py/lib/python3.7/site-packages (from requests<3,>=2.21.0->tensorboard~=2.4->tensorflow) (2.0.7)\nRequirement already satisfied: idna<4,>=2.5 in /shared-libs/python3.7/py-core/lib/python3.7/site-packages (from requests<3,>=2.21.0->tensorboard~=2.4->tensorflow) (3.3)\nRequirement already satisfied: oauthlib>=3.0.0 in /shared-libs/python3.7/py/lib/python3.7/site-packages (from requests-oauthlib>=0.7.0->google-auth-oauthlib<0.5,>=0.4.1->tensorboard~=2.4->tensorflow) (3.1.1)\nRequirement already satisfied: zipp>=0.5 in /shared-libs/python3.7/py-core/lib/python3.7/site-packages (from importlib-metadata->markdown>=2.6.8->tensorboard~=2.4->tensorflow) (3.6.0)\nInstalling collected packages: typing-extensions, six\n  Attempting uninstall: typing-extensions\n    Found existing installation: typing-extensions 3.10.0.2\n    Not uninstalling typing-extensions at /shared-libs/python3.7/py-core/lib/python3.7/site-packages, outside environment /root/venv\n    Can't uninstall 'typing-extensions'. No files were found to uninstall.\n  Attempting uninstall: six\n    Found existing installation: six 1.16.0\n    Not uninstalling six at /shared-libs/python3.7/py-core/lib/python3.7/site-packages, outside environment /root/venv\n    Can't uninstall 'six'. No files were found to uninstall.\nSuccessfully installed six-1.15.0 typing-extensions-3.7.4.3\n\u001b[33mWARNING: You are using pip version 21.2.4; however, version 21.3.1 is available.\nYou should consider upgrading via the '/root/venv/bin/python -m pip install --upgrade pip' command.\u001b[0m\n",
     "output_type": "stream"
    }
   ]
  },
  {
   "cell_type": "code",
   "metadata": {
    "tags": [],
    "cell_id": "00045-1cbb0790-c0d2-408c-a959-005f8e12150e",
    "deepnote_to_be_reexecuted": true,
    "source_hash": "2bf81b57",
    "execution_start": 1635653322783,
    "execution_millis": 9222,
    "deepnote_cell_type": "code"
   },
   "source": "from tensorflow.keras.layers import Embedding, Dense\nfrom tensorflow.keras.preprocessing.sequence import pad_sequences\nfrom tensorflow.keras.models import Sequential\nfrom tensorflow.keras.preprocessing.text import one_hot\nfrom tensorflow.keras.layers import LSTM\nfrom tensorflow.keras.preprocessing.text import Tokenizer\nimport tensorflow as tf",
   "execution_count": null,
   "outputs": []
  },
  {
   "cell_type": "code",
   "metadata": {
    "tags": [],
    "cell_id": "00045-26a5acfe-e5ab-4bc0-8cc6-4dcf4acbf63b",
    "deepnote_to_be_reexecuted": true,
    "source_hash": "566039a7",
    "execution_start": 1635653332025,
    "execution_millis": 620,
    "deepnote_cell_type": "code"
   },
   "source": "tokenizer = Tokenizer(lower=True, split=\" \")\ntokenizer.fit_on_texts(processed['final_tweet'])",
   "execution_count": null,
   "outputs": []
  },
  {
   "cell_type": "code",
   "metadata": {
    "tags": [],
    "cell_id": "00046-df5ce622-9bc4-4656-b417-d69926fd845e",
    "deepnote_to_be_reexecuted": true,
    "source_hash": "ba6b6b54",
    "execution_start": 1635653332657,
    "execution_millis": 11,
    "deepnote_cell_type": "code"
   },
   "source": "word_index = tokenizer.word_index\n# word_index\nlen(word_index)",
   "execution_count": null,
   "outputs": [
    {
     "output_type": "execute_result",
     "execution_count": 37,
     "data": {
      "text/plain": "33587"
     },
     "metadata": {}
    }
   ]
  },
  {
   "cell_type": "code",
   "metadata": {
    "tags": [],
    "cell_id": "00047-c807801c-fb5a-487b-b7fd-6a2886a34a2d",
    "deepnote_to_be_reexecuted": true,
    "source_hash": "8fd17bf9",
    "execution_start": 1635653332718,
    "execution_millis": 808,
    "deepnote_cell_type": "code"
   },
   "source": "train_sequences = tokenizer.texts_to_sequences(processed['final_tweet'])\ntrain_sequences",
   "execution_count": null,
   "outputs": [
    {
     "output_type": "execute_result",
     "execution_count": 38,
     "data": {
      "text/plain": "[[14, 11857, 2135, 1753, 109, 6081, 151],\n [29, 4296, 1923, 19, 143, 381, 760, 6082, 7806, 6083, 11858, 7807],\n [17, 3038],\n [478, 1, 48, 12, 6084],\n [2441, 1204, 221],\n [851, 214, 4297, 171, 194, 81, 3039, 78, 11859, 3, 11860],\n [560, 49, 3377],\n [77, 147, 84, 84, 1611, 19, 30, 147, 1611, 127, 1090, 3040, 11861, 63],\n [1, 745, 7808, 906, 1833, 1166, 11862],\n [553],\n [1029, 2136, 961, 1540, 263, 222, 852, 145, 61, 93, 86, 108],\n [2135, 56, 7809, 2442, 623, 11863, 2135, 1205, 1009, 1],\n [3, 13, 363, 9, 11864],\n [1541, 129, 7810, 1322, 147, 634, 1206, 5013, 1754],\n [345, 982, 4298, 4299, 6085, 5014, 6085],\n [3378, 3041, 249, 3041, 11865, 290],\n [51, 1474, 51, 44],\n [644, 591],\n [37, 15, 203, 113, 1542, 1091, 2809, 7, 16],\n [35, 3379, 853, 7, 7811],\n [16, 784, 1475, 11866, 1383, 1092, 4300, 87, 198, 140, 600, 35, 7812, 416],\n [60, 102, 1207, 4301, 11867, 227, 1130, 152, 303],\n [1010, 2, 5, 97, 681, 1543, 27, 12, 215, 4, 246],\n [3774, 34, 891, 3774],\n [482, 1323, 1834, 2443, 6086, 1672],\n [45, 372, 2271, 3380, 2609, 1],\n [15, 322, 11868, 7813, 1755, 64, 1282, 1],\n [39, 3042, 11869, 983, 526],\n [5, 14, 2],\n [16, 6, 1208, 20, 66, 97, 746, 232, 16, 119, 502, 382, 228, 56],\n [58, 832, 351, 2027, 1673, 104, 1209, 23, 645],\n [6087, 12, 1283, 1131, 4302],\n [228, 1924, 3043, 1029, 214, 11870, 466, 198, 92, 5015, 382, 527, 528, 646],\n [235, 187, 801, 2444, 730, 2810, 6088, 1925, 9, 907, 11871],\n [1476, 3044, 72, 32, 213, 10, 1477, 2028],\n [110, 426, 110, 373, 254, 25, 182],\n [46, 6089, 11872, 7814],\n [18, 179, 185, 6090, 7815, 11873, 11874],\n [219, 7816, 26, 298, 11875, 601, 130, 24, 369],\n [51, 374, 51, 44],\n [111, 301, 125, 24, 2811, 7817, 11876],\n [2610, 7818, 214, 235, 1926, 854, 214, 5016, 923, 203],\n [8, 404, 1429, 2137, 2],\n [263, 250, 17, 17, 5017, 13, 27],\n [223, 11877, 2029, 247, 453, 461, 11878, 1248, 2029, 11879],\n [85, 44, 240],\n [2272, 252, 213, 6, 383],\n [22, 356, 1674],\n [53, 276, 8, 35],\n [3, 95, 1210, 11880, 2138, 7819, 417],\n [17, 3, 2030, 188, 17, 11881, 1],\n [11882, 7820, 41, 12],\n [83, 2031, 11883, 366],\n [29, 318, 1, 11884, 199, 11885, 11886, 11887],\n [11888, 70, 11889, 924, 1324, 1167, 2812],\n [83, 492, 1, 177],\n [5, 14, 2, 822, 7821, 180, 14, 2, 7821, 47, 6091, 785],\n [3045, 12, 1430, 3045, 224, 7822, 418, 11890],\n [27, 94, 1612, 1211],\n [5, 24, 614, 75, 984, 547, 731, 1168, 2139, 24, 984],\n [985, 1093, 79, 1249, 128, 113, 11891, 635, 1284],\n [95, 195, 4303, 11892, 761, 201],\n [55, 432, 22],\n [602, 4304, 107, 1544, 80, 3775, 419, 11893, 4, 236],\n [1613, 75, 11894],\n [258, 135, 97, 70, 6092, 1325, 14, 2],\n [427, 5, 339],\n [136, 6093, 19, 7823, 7824, 151, 203, 1, 1285, 3046],\n [20, 46, 986, 366, 148, 442, 11895, 440],\n [1835, 11896, 10, 7825],\n [11, 11897, 323, 104, 6094, 4305],\n [71, 647, 131, 529, 41, 56, 128, 3047, 202, 84, 178, 109],\n [6095, 2813, 3048, 5018, 1212, 299, 408, 7826, 6095, 11898],\n [2273, 41, 568, 201],\n [1478, 6096, 1060, 2032, 408, 1213, 4306, 2611],\n [1927, 7827],\n [340, 136, 16, 129, 16, 136, 183, 3776, 6097],\n [515, 80, 9, 11899, 194, 408, 419, 129],\n [483, 1214, 5019, 1214, 925, 11900, 269, 11901],\n [11902, 11903],\n [447, 5020, 281, 908, 1132, 11904, 5021, 11905, 7828, 467],\n [1675, 143, 4, 11906, 7829, 291, 4307],\n [1836, 241, 72, 154, 19, 48, 241, 530, 130, 123, 711, 1011, 3, 1133],\n [143, 479, 264, 615, 357, 1326, 91, 177],\n [1545, 229, 6],\n [387, 198, 146, 38, 1546, 2140],\n [95, 11907, 92, 11, 65, 11, 785, 23, 2033, 3049, 2445, 5022, 1676],\n [187, 1384, 1327, 111, 3, 13, 6098],\n [50, 11, 1837],\n [5023, 173, 163, 66, 536, 3381, 11908],\n [114, 1928, 16],\n [169, 659, 3777, 2034, 1328, 42, 2814, 1094, 484],\n [443, 1431, 762, 203, 11909, 370, 70, 1676, 31, 96, 7828, 1250, 603],\n [290, 1, 1547, 59, 1095, 24, 3, 24, 175, 624, 603],\n [76, 121, 18, 2, 3, 987, 30, 245, 131, 6099, 189],\n [266, 230, 1092, 855, 1838, 124],\n [1756, 1756, 2, 11910, 7830, 6100],\n [2141, 405, 3, 172, 161, 57, 28],\n [648, 409, 346],\n [74, 129, 279, 2142, 56, 128, 231, 408, 181, 194, 137],\n [163, 11911],\n [926, 462, 1169, 6101, 1329, 569, 52, 433, 61, 93, 86, 108],\n [6, 676, 49],\n [51, 20, 40, 51, 44],\n [88, 1927, 218, 203, 493, 1284, 6, 493, 97, 1170, 417],\n [659, 2274, 19, 26, 132, 1839, 11912],\n [70, 11913, 6102, 11914, 228, 113],\n [169, 169, 169, 11915, 11916],\n [64, 27, 225, 5024, 286, 1929, 64, 11917],\n [747, 11918, 1840, 183, 4, 494, 479, 11919, 306],\n [18, 3382, 163, 119, 6103, 1757, 29, 732, 65],\n [3050, 287, 6104, 2612, 786, 2446, 195, 660],\n [4308, 279, 123, 604],\n [3778, 604, 2035, 4309, 61, 93, 86, 108],\n [85, 313, 1930, 6105, 91, 1326],\n [24, 11920, 3779, 324, 1012, 196, 15, 1],\n [11921, 988, 11922, 7, 6106, 325, 695],\n [3780, 787, 616, 175, 625, 388, 5025, 1286],\n [11923,\n  292,\n  170,\n  222,\n  183,\n  249,\n  292,\n  170,\n  222,\n  183,\n  292,\n  170,\n  36,\n  448,\n  146,\n  23],\n [3, 249, 763, 7831, 71],\n [5, 11924, 26, 454, 454, 536],\n [37, 107, 3383, 7832, 33],\n [11925, 2143, 384, 2144, 873, 1931],\n [11926, 3781, 11927, 11928, 11929, 160, 15, 1330],\n [60, 3782, 1841, 2, 360, 256, 463, 410, 4310, 6107],\n [442, 11, 2145, 1548, 282, 11930, 2145],\n [1549,\n  416,\n  962,\n  4311,\n  1932,\n  2447,\n  7833,\n  4311,\n  186,\n  1549,\n  503,\n  1550,\n  1210,\n  1096],\n [11931, 7, 712, 11932, 11933, 67, 28, 11934, 1, 2815, 4312],\n [16, 1842, 74, 1758, 74, 11935, 4],\n [32, 68, 59, 375, 12, 76, 264, 231, 89],\n [341, 404, 989, 314, 1012, 10],\n [464, 35, 389, 5026, 2275, 311, 2146, 11936, 2147, 2613, 2448],\n [2449, 7, 54, 5027, 259, 11937, 5028, 6, 48],\n [17, 1215, 1],\n [581, 190, 96, 8, 326, 8, 696],\n [5, 17, 2614, 5029, 39, 823, 682, 7834, 17],\n [1171, 376, 516, 6, 16, 697, 255, 1208, 529],\n [2036, 7835, 11, 856, 11938, 2276, 7835, 11939],\n [2450, 2277, 1677, 482, 11940, 7836, 698, 2278, 27],\n [2279, 462, 626, 52, 1134, 61, 93, 86, 108],\n [282, 210, 17, 229, 387, 617, 116, 7837],\n [69, 24, 1759, 53, 547, 963],\n [1287, 146, 1013, 11941, 504, 6108, 2148, 56],\n [1479, 2149, 1216],\n [68, 72, 7838, 11942, 216, 3384],\n [237, 257, 45, 53, 160, 527, 85, 635, 237, 237, 237, 237],\n [156, 91, 788, 1843, 485, 5030, 232, 1843, 802, 649, 7839, 7840],\n [35, 2150, 3783, 6, 35, 1, 4313, 748, 5031],\n [169, 129, 3051, 411, 2816, 163, 30, 123, 16, 1172],\n [11943, 31, 84, 26, 80, 132, 84, 151],\n [874, 149, 19, 50, 964, 11944, 6109],\n [347, 2451],\n [3052, 2151, 7841, 5032, 6110, 892, 5033, 25, 59, 11945, 11946],\n [4314, 395, 80, 5034, 857, 396, 7818, 99, 803, 1432],\n [20, 46, 37, 103, 27, 428, 37, 124, 1, 529],\n [1030, 2611, 1014, 6111, 7842, 1844, 891],\n [11947, 364, 6112, 2037, 56, 255, 502, 6113, 255, 698, 164, 990],\n [11, 94, 89, 11948, 11949],\n [133, 570, 6114, 141, 40],\n [2615, 2280, 4, 5035, 7843],\n [2152, 442, 20, 5036, 7844, 5036, 7844],\n [2452, 397, 13, 36, 104, 11950, 33],\n [5, 17, 4315, 1933, 7845, 17, 4315, 7845, 982, 11951],\n [408, 18, 1213, 2153, 408, 75, 42, 11952],\n [60, 174, 7846, 34, 145, 267, 1760, 18, 202, 547, 11953],\n [6, 1761, 92, 219, 169],\n [30, 10, 120, 21, 120, 105],\n [1251, 3784, 75, 115, 1385, 1845, 11954, 2817, 241, 530, 2281],\n [11955],\n [60, 131],\n [103, 236, 60, 352, 325, 1551, 7847, 695, 11956, 367, 11957, 11958],\n [11959, 11960, 11961, 20, 2282, 32, 1288, 11962, 1135, 1173, 3053, 858],\n [249, 410, 3054, 210, 1174, 410, 3054, 210, 1174, 11963, 12, 208, 199],\n [192, 1928, 7, 39, 603, 39, 16],\n [420, 1031, 79, 66, 34, 228, 270, 55],\n [2283, 283, 764, 335, 18, 4316, 1433, 661],\n [3055, 122, 164, 6, 455, 502, 56, 1205],\n [73, 358, 323, 6115, 148, 7848, 1846, 7849, 73, 101, 859],\n [592, 965, 615, 7850, 1326, 91, 615],\n [517, 75, 662, 11964, 295, 24, 11965, 11966],\n [199, 893, 199, 5037, 1, 382, 5038],\n [23, 211, 1217, 5039, 1029, 614, 4, 1614, 6116, 11967],\n [111, 365, 434, 1934, 2616, 11968, 875, 49],\n [179, 212, 140, 143, 1289, 1615, 7851, 1552, 432, 1, 1290, 860],\n [307, 6, 79, 84, 13, 16, 306, 1616, 2617, 4, 21, 236, 454],\n [51, 227, 51, 44],\n [12, 296, 1252, 11969, 11970, 421, 73, 1, 11971],\n [11972, 2618, 2453, 1, 73, 221, 308, 297, 8],\n [515, 3056, 3056, 6117, 1253, 804],\n [6, 3785, 7852, 11973, 11974, 11975, 36, 1],\n [220, 110, 99, 55, 30, 218, 561, 203, 176, 403],\n [518, 1218, 3786, 76, 105, 361, 2619, 894, 7853, 593],\n [6118, 110, 426, 110, 373, 254, 25, 3385],\n [634,\n  292,\n  170,\n  222,\n  183,\n  249,\n  292,\n  170,\n  222,\n  183,\n  292,\n  170,\n  36,\n  448,\n  146,\n  6119],\n [25, 11976, 271, 11977],\n [164, 56, 75, 648, 19, 1090, 157, 2038, 131, 1617],\n [11978, 7854, 11979, 1618, 67, 33, 11980, 126, 216, 3787],\n [390, 10, 146, 746, 3057],\n [178, 1847],\n [1480, 44, 240],\n [51, 1762, 51, 44],\n [80, 648, 210, 4317],\n [19, 26],\n [5, 97, 308, 478, 1254, 3386, 1323, 569, 1678, 224],\n [6120, 663, 2, 109, 7855, 495, 7856, 1679, 11981],\n [55, 48, 1130, 249, 6, 80, 1009, 456, 4318, 2284],\n [48, 1763, 204, 351, 127, 351, 351, 11982],\n [14, 2, 85, 272, 87, 71, 502, 96],\n [11983, 55, 24, 1326, 615, 91],\n [11984, 34],\n [7857, 15, 15, 11985, 11986],\n [1219, 526, 11987, 3782, 9, 718],\n [1097, 107, 527, 1061, 11988, 650, 2818],\n [59, 11989, 1136, 11990, 136, 65, 11991],\n [20, 2, 11, 2620, 11992, 134, 4, 683, 3058, 42, 11993, 246, 7858, 4, 267],\n [805, 571, 943, 3387, 1220, 33, 8, 38, 1619],\n [25, 824, 1, 10, 58, 1175, 101, 101, 1, 1935, 124, 468, 224, 22],\n [51, 51, 44],\n [290, 43, 81, 806, 11994, 19, 26, 21, 6121],\n [1481, 1680, 175, 12, 537, 43],\n [349, 202, 16, 207, 352, 87, 213, 927, 398, 11995, 11996, 2],\n [58, 35, 515, 2154, 4319, 1620, 261, 616, 1, 2154, 389, 7859, 471],\n [160, 3, 1553],\n [43, 11997, 138, 11998, 342, 11999],\n [295, 145, 50, 34, 32, 34],\n [4320, 44, 240],\n [684, 358, 204, 319, 47, 30, 891, 75, 7860],\n [444, 215, 1291, 286, 286, 173, 190, 54, 112, 3059],\n [20, 27, 80, 51, 69, 12000],\n [20, 164, 154, 103, 76, 390, 18, 3, 432, 12001],\n [1287, 106, 2285, 116, 35, 67, 15, 2286, 45, 1936, 69, 4321],\n [95, 265, 594, 12002],\n [19, 26, 12003, 95, 13, 12, 12004, 12005],\n [283, 217, 68, 876, 284],\n [135, 966, 119, 6122, 749, 73],\n [12006, 12007, 13, 89, 1331],\n [661, 2, 104, 3388, 909, 6123, 3388, 661],\n [7, 9, 572, 1681, 7861, 91, 12008],\n [5, 46, 2287, 6124, 40],\n [72, 554, 445, 505, 5040, 7862, 119, 1682, 145, 369],\n [5, 102, 16, 6125, 16, 1683, 227, 12009],\n [29, 71, 1848, 3389, 382],\n [12010, 861],\n [43, 348],\n [5, 2288, 2454, 3788, 1434],\n [5, 182, 7863, 614, 75, 984, 547, 731, 1168, 2139, 24],\n [119, 115, 1332, 38, 391, 2155, 7864],\n [6126, 2039, 3060, 318],\n [50, 3390, 4322, 660, 548, 548, 2156, 469, 1130, 117, 469, 12011, 12012],\n [12013, 110, 426, 110, 373, 254, 25],\n [95, 49, 12014, 1386, 6127],\n [1764, 332, 90, 76, 107, 12015, 1, 269, 6128],\n [3061, 128, 180, 13, 2819, 6129, 7865, 70, 3391, 5041],\n [12016, 325, 1551, 102],\n [374, 4, 6130, 399, 133, 12017, 12018],\n [332, 2, 9, 928, 486, 12019, 825, 12020, 3392],\n [12021,\n  12022,\n  7866,\n  38,\n  12023,\n  7866,\n  182,\n  12024,\n  12025,\n  4,\n  392,\n  12026,\n  12027,\n  472],\n [1, 35, 1765, 205],\n [97, 151, 4323, 1482, 358, 1137, 1621, 664, 6131],\n [2820, 3393, 760, 121, 4305, 517, 178, 6132, 127, 3062],\n [3, 789, 7867, 43],\n [857, 12, 21, 42, 57, 1062],\n [464, 70, 7868, 1479, 1, 99, 99, 99, 7869, 7868],\n [98, 7870, 466, 98, 12, 34, 165, 6133, 6134, 5042],\n [12028, 27],\n [496, 270, 6135, 71, 12029, 138, 52],\n [7871, 790, 12030, 2621, 12031],\n [62, 89, 70, 90, 1],\n [17, 7872, 1, 382, 121, 5, 506, 20, 66],\n [100, 1221, 106, 6136, 1483],\n [1131, 569, 1, 89, 3, 12032, 5043, 1679],\n [3, 95, 719, 92, 12033, 3063],\n [9, 2, 7, 137, 6137, 3064, 377, 36, 44, 406, 720],\n [12034, 12035, 23, 12036, 5, 12037, 12038],\n [79, 2, 24, 49, 518, 3789, 187, 719, 12039],\n [252, 573, 231, 573, 97, 252, 1554],\n [5, 102, 231, 15, 12040],\n [58, 4324, 2821, 895, 22, 75, 719, 3065, 12041],\n [5044, 187, 3394, 1681, 187, 7873],\n [507, 441, 7874, 1222, 665, 6138, 217, 12042, 12043, 12044],\n [574, 5, 339, 3, 138],\n [12045, 160, 297, 12046, 12047, 4325, 12048],\n [58, 119, 1, 18, 1223, 677, 3, 153, 1387, 4326],\n [47, 218, 157, 119, 8, 81, 57, 56],\n [174, 34, 112, 2040, 1484, 105, 7875, 3],\n [20, 309, 666, 4327, 1176, 2288],\n [41, 2289, 3066],\n [7, 31, 201, 2157, 155, 179, 4, 4328, 265, 12049, 7876, 944, 100, 53],\n [73, 508, 297, 73, 4329, 81, 432, 297, 79, 382, 58, 81, 200, 7877],\n [12050, 562, 892, 1098, 233, 791, 896, 293, 929, 910, 333, 385, 967, 667],\n [16, 51, 51, 16, 5, 5045],\n [1333, 44, 240],\n [444, 42, 256, 242, 5, 256, 4, 111, 81, 52, 49, 12051],\n [17, 12052, 3790, 6139, 12053, 4330, 17, 1937],\n [877, 7878, 720, 12054, 34, 4331, 745, 650, 526, 135, 1015, 300],\n [5, 862, 41, 12055, 538, 1684, 1099, 12056],\n [851, 1766, 74],\n [51, 3791, 51, 44],\n [20, 120],\n [96, 1100, 12057, 807, 1255, 569, 1485, 1255, 91, 3792, 8],\n [41, 397, 229, 43, 348, 366, 138, 60, 12],\n [12058, 12059],\n [5046, 220, 110, 99, 55, 30, 218, 561, 203, 176, 403],\n [62, 85, 14, 9],\n [25, 71, 335],\n [95, 26],\n [60, 3793, 466, 198, 1849],\n [5047, 2455, 7, 31, 7879],\n [72, 264, 12060, 12061, 4332, 1760, 945, 140, 4333],\n [21, 166, 167, 259, 699, 5048, 1101, 467],\n [3794, 50, 12062, 733, 2810, 186, 384, 384, 143, 201, 4, 3067, 270],\n [7880, 12063, 2822, 661, 2290, 3, 750],\n [277, 6140],\n [229, 6, 252, 1486, 5049, 2041, 13, 531, 26, 13, 102, 605, 3065, 12064],\n [257, 158, 158, 158, 158, 158, 158, 158],\n [251, 393, 1938, 435, 946, 3395, 12065, 12066, 12067],\n [1767, 79, 37, 4, 1177],\n [340, 878, 343, 2042, 335, 192, 140, 471, 35, 343, 732],\n [293, 153, 7881, 7882, 12068, 12069, 233, 12070, 12071, 12072],\n [14, 2622, 34, 1, 90, 75, 7883, 7884],\n [449, 42, 42, 12073, 117, 5050, 7885, 12074, 12075],\n [340, 12076, 145, 25, 192, 473, 341, 2823],\n [17, 7886, 120, 69, 3396, 947, 1256],\n [854,\n  1685,\n  7887,\n  1,\n  2623,\n  7888,\n  5051,\n  7889,\n  435,\n  582,\n  12077,\n  1102,\n  194,\n  12078],\n [192, 1925, 184, 668, 765, 636, 1138, 648, 12079, 12080],\n [58, 766, 1686, 1687, 826, 4, 1334, 68, 182],\n [3397, 5052, 1257, 12081, 2624, 2456, 2625],\n [1932, 411, 509, 32, 510, 457, 32, 256, 176, 1258],\n [50, 863, 2137, 4, 833, 864, 539, 583, 4, 78, 78, 494, 4, 127, 12082],\n [1, 2291, 651],\n [20, 22, 131, 15, 669, 734, 1487],\n [192, 5053, 1939, 1029, 65, 7890, 336, 180, 1173, 16, 2158, 28, 12083],\n [43, 12084],\n [6141, 9, 6142, 6143, 555],\n [126, 5, 295, 549, 126, 2, 1768, 126, 356],\n [584, 2043, 2824, 24, 12085, 12086, 12087, 1688],\n [1622, 64, 2626],\n [5, 14, 2, 90, 90, 14, 2],\n [12088, 1178, 307, 519, 6144, 7891, 1, 685, 1435],\n [834, 52, 243, 61, 93, 86, 108],\n [12089, 73, 1, 12090, 8],\n [102, 605, 2292, 3398, 2457, 150],\n [100, 89, 17, 7892, 34, 3795, 1292],\n [51, 2627, 1850, 51, 44],\n [78, 141, 3068, 336, 6145, 808, 25, 47, 35],\n [446, 225, 1324, 65, 105, 809, 1689, 5054],\n [165, 34, 4334, 10, 209],\n [76, 12091],\n [9, 119, 3399, 637, 7893, 527, 1, 520, 16, 4335, 786],\n [89, 2293, 234, 810, 2159, 434],\n [127,\n  10,\n  38,\n  55,\n  170,\n  171,\n  539,\n  4336,\n  1616,\n  556,\n  7894,\n  87,\n  153,\n  1139,\n  3,\n  271],\n [3, 3, 3, 96, 65, 9, 140, 3796, 140, 65],\n [53, 2618, 5055, 615, 1326, 91, 5056],\n [74, 1482, 948, 1555, 7, 278, 1769, 1940, 279, 7895, 1754],\n [214, 7],\n [65, 2628, 1543, 615, 1326, 91],\n [134, 7, 38, 492, 7896],\n [1100, 6146, 12092, 528, 15, 2458, 12093],\n [1335, 27, 45, 2459, 879],\n [22, 2629, 23, 13, 1388, 349, 5, 1, 6147],\n [42, 2, 188, 4315, 12094],\n [339, 75, 1293, 4, 246, 182, 12095, 1063, 497],\n [12096, 12097, 12098, 12099, 12100, 893, 1103, 12101, 563, 433, 422],\n [187, 561, 238, 4337, 12102, 561, 12103],\n [1294, 38, 120, 12104, 4338, 790, 18, 2624, 5057],\n [472, 34, 3400, 273, 124, 7897, 1389, 6148, 232, 1167, 2294, 6149, 7898],\n [20, 66, 911, 116, 7899],\n [1, 1179, 1, 1, 308, 24, 347],\n [3401, 263, 12105, 421, 12106, 827, 865, 12107],\n [637, 54, 35, 50, 2630, 1259, 26, 34, 383, 302],\n [616, 616, 42, 175, 1209, 686, 616, 762, 288, 4339, 2825],\n [118, 245, 6, 13, 12108, 1252],\n [1851, 134, 40, 33, 1556, 101, 1, 120, 63, 27, 5058, 324, 860, 193, 188],\n [12109, 292, 170, 222, 183, 249, 292, 170, 222, 183, 292, 170, 36, 448, 146],\n [91, 1690],\n [197, 4340, 267, 283, 6150, 124, 7900, 428, 43],\n [252, 26, 82, 300, 378, 3069],\n [2460, 143, 12110],\n [52, 700, 1479, 3070, 3, 166, 342, 1557],\n [382, 273, 97, 12111, 233, 5059, 6151, 265, 7901, 214, 348, 12112, 2826, 467],\n [652, 2295],\n [949, 2461, 82, 45, 5060, 406, 1260, 3797, 224],\n [2618, 615, 2462, 91, 118, 5056],\n [853, 299, 2296, 361, 6152, 5061, 1390, 1623, 2631, 61, 93, 86, 108],\n [343, 11, 3798, 28, 12113],\n [41, 17, 861, 12114, 12115, 117, 7902, 67, 1488],\n [1064, 1180, 897, 12116, 5062, 646, 180],\n [58, 2463, 687, 75, 170, 417, 3071],\n [45, 963, 69, 35, 15, 6153],\n [9, 3072, 12117, 12118, 78, 2827, 4, 12119, 12120, 13],\n [395, 12121, 356],\n [19, 26, 6, 13, 3402, 1062, 3402],\n [2044, 1691, 38, 28, 1624],\n [3403, 12122, 3799, 12123],\n [343, 267, 1770, 209],\n [2042, 130, 249, 487, 31, 158, 158, 158, 2042, 160, 7903, 1],\n [764, 968, 1104, 1625, 4, 83, 7904, 1852, 2297],\n [14, 2, 272, 18, 1065],\n [243],\n [3800, 168, 12124, 222, 646, 1771, 10, 1216, 12125, 3073],\n [143, 479, 264, 615, 357, 1326, 91],\n [1207, 3074, 4303, 3074, 6154, 7905],\n [303, 5, 303, 4341, 1095, 12126],\n [5, 64, 103, 30, 9, 6, 20, 2, 1131, 374, 64],\n [194, 965, 2139, 12127, 31, 58, 444, 4342],\n [877, 1692, 183, 68, 788, 7906],\n [912, 162, 811, 1261, 7907, 895, 48, 472],\n [564, 637, 12128, 637, 12129],\n [398, 310, 50, 49],\n [12130, 2464, 2, 1489, 4343, 3404, 116, 3, 2465],\n [1066, 1336, 5063, 7, 6155, 721, 1436, 132, 9],\n [5, 73, 3405],\n [6156, 3801, 98, 181, 5064, 5064, 5065],\n [733, 12131, 102, 469, 2828, 7908, 4, 6157, 2829],\n [19, 26, 12132, 84, 1693],\n [24, 7909, 12133, 189, 3075, 160, 12134, 12135],\n [3802, 912, 664, 183, 1626, 337, 7910, 6158],\n [250, 767, 1105, 126, 1, 2160, 3803, 33, 38, 443, 14, 2632, 1558],\n [165, 10, 1932, 1181, 1032, 172, 5066, 528, 6159, 7911, 12136, 12137],\n [713, 7912, 248, 12138, 12139, 3804, 111, 140, 3060, 12140, 5, 713, 12141],\n [11, 585, 2830, 1545, 606, 606, 217, 172, 172],\n [51, 1030, 51, 44],\n [446, 66, 767, 1105, 4, 453, 446],\n [7913, 835, 12142, 1941, 1334, 1675, 826, 1621, 664, 1490, 2466],\n [4344, 196, 7914, 2298, 324, 94],\n [3805, 204, 41, 186, 1284, 56, 204, 592, 146, 9],\n [604, 5067, 3069, 154, 575, 747, 1692, 836, 712, 3806, 61, 93, 86],\n [1182, 4, 747, 2, 12143, 6160, 1689, 146, 7915, 12144, 7916, 3076, 141, 735],\n [5068, 4345, 6161, 722, 254, 1853, 259, 352, 12145, 1942, 1491],\n [444, 97, 181, 50, 137, 174, 34, 7917],\n [42, 6, 5069, 13, 1033, 532, 39, 148, 5069, 176, 12146],\n [22, 6162, 4346],\n [249, 410, 4347, 474, 991, 4348, 12147, 410, 991, 474, 4347, 4348],\n [64, 280, 478, 7918, 3077, 4349, 7919, 644, 293, 3078, 2273],\n [1183, 792, 1694, 2467, 1943, 180, 2045, 278, 2831, 1262, 1694],\n [133, 40],\n [5070, 160, 3, 793, 9, 866, 89, 12148],\n [5071, 858, 304, 5072, 7846, 245, 4350],\n [2614, 42, 2046, 107, 1034, 274, 149],\n [343, 284, 125, 3079, 52, 1295],\n [45, 2, 126, 28, 12149, 159, 400],\n [171, 1097, 627, 75],\n [1, 880, 5, 138, 988, 1, 371, 138],\n [3080, 110, 426, 110, 373, 254, 25, 132],\n [7920, 44, 240],\n [419, 1695, 11, 1016, 2161],\n [53, 5073, 950, 91, 177, 1326],\n [244, 16, 285, 165, 166, 2047, 16, 234],\n [30, 574, 217, 720, 12150, 12151, 12152, 12153],\n [493, 856, 339, 198, 12154, 119, 264, 12155],\n [12156, 13, 3807, 352, 1098, 273, 910, 967, 812, 333, 233, 667, 929],\n [536, 12157, 1, 63, 536, 247, 12158, 3808],\n [1219, 44, 240],\n [205, 1391, 507, 6, 23, 6163, 6, 23, 699, 1772],\n [12159, 212, 488, 31, 14, 2],\n [560, 77, 27, 12160, 12161],\n [382, 1296, 3809, 40, 576, 1, 879, 1854, 196],\n [835, 1, 146, 701, 553, 4351, 12162, 12, 628, 1559, 2468, 2451],\n [218, 12163, 12164, 38],\n [31, 2048, 1337, 530, 498, 2299, 930, 145, 2633, 1297, 61, 93, 86, 108],\n [5, 14, 2, 1, 8, 4, 53, 14, 47, 62, 1],\n [3081, 5074, 6164, 5017, 221],\n [7921, 6165, 2049, 47, 36, 436, 241, 530, 1626, 22, 1492, 38, 4, 40],\n [152, 1179, 3063],\n [5, 17, 3082, 2, 142, 187, 12165],\n [2634, 18, 30, 1493, 1944, 335, 1387, 638],\n [12166, 3083, 12167, 50, 5075, 238, 13],\n [11, 274, 670, 521, 92],\n [104, 403, 6166, 92, 23, 211, 13, 2635],\n [7922, 5076, 34, 606, 4352, 12168, 12169],\n [111, 3, 7923, 3, 78, 671, 12170],\n [5077, 44, 240],\n [14, 2, 14, 7, 131, 2469],\n [412, 2162, 557, 3810, 12171, 63, 681, 3811],\n [1945, 1845, 190, 6167, 19, 1067, 5078],\n [3, 147, 49, 79, 12172],\n [1392, 294, 76, 237, 237, 1, 69],\n [6168, 109, 3, 397, 1338, 12173, 751, 746],\n [83, 12174, 8, 182, 1224, 12175, 1, 1225, 1224, 12176],\n [7924, 12177, 2045, 718, 270, 7925, 7, 25, 2636, 7917, 115, 6169, 12178],\n [794, 3812, 12179, 12180, 1184, 96, 2298, 290],\n [244, 39, 443, 364, 14, 75, 14, 2, 12181, 12182, 813],\n [349, 5, 109, 2470, 6170, 379, 6170, 1339, 928, 1437, 269],\n [12183, 44, 240],\n [2610, 7926, 6171, 2471, 77, 24, 257, 2300],\n [1298, 175, 6172, 12184, 12185, 12186, 260],\n [123, 4, 22, 10, 2637, 644, 3406, 969],\n [1226, 808, 18, 540, 1694, 32, 1560, 241, 2472, 18, 2832, 7927],\n [14, 2, 40],\n [1393, 499, 76, 360, 1673],\n [138],\n [3, 35, 184, 736, 471, 105, 7928, 243, 638, 12187],\n [407, 6, 1017, 9, 2163, 173],\n [67, 23, 10, 12188],\n [252],\n [1, 413, 96, 1394, 12189, 12190, 12191, 12192, 7929],\n [3084, 7930, 2050, 48, 7931, 34, 26, 12193, 718, 526, 1696, 7932, 24],\n [7933, 12194, 6173, 1773, 12, 36],\n [8, 166, 7934, 33, 8, 147, 7934, 10],\n [35, 5079, 30, 7935, 10, 180, 99, 2301, 12195, 101, 1340],\n [276, 584, 48, 3407, 12196, 12197, 12198],\n [712, 2638, 3813, 6174, 961, 1540, 2164, 601, 1561, 145, 61, 93],\n [320,\n  2,\n  16,\n  2165,\n  6,\n  311,\n  723,\n  500,\n  458,\n  390,\n  723,\n  500,\n  458,\n  311,\n  171,\n  605,\n  6175],\n [489, 5080, 311, 1433, 2820],\n [20, 46, 25, 36, 8, 1946, 1383, 16, 114],\n [37, 237, 672, 225, 3085],\n [43, 333, 336, 789, 78, 951],\n [23, 595, 348, 299, 1494, 2051, 519, 152, 1106, 685, 6176],\n [7936, 4353, 898, 11, 84, 12199, 1618, 6177, 2639],\n [342, 29, 83, 35, 276, 5, 97],\n [1697, 628, 568, 353, 1068],\n [53, 12200, 6178, 950, 1326, 615, 177],\n [319, 177, 985],\n [12201, 1341, 203, 515, 1214, 459, 346, 507, 30, 387, 2052, 13, 28, 254],\n [899, 278, 12202, 6179, 2473, 3408, 1495, 5081, 136, 1774, 12203],\n [1775, 41, 120, 106, 1107, 433, 147, 7937],\n [1018, 862, 423, 3409, 6180, 647, 12204, 12205, 3086],\n [7938, 12206],\n [702, 296, 1140, 2833, 2474, 3410, 4354, 541, 88, 296, 564],\n [1496, 1166, 540, 4355, 540, 12207, 12208, 136, 12209, 228],\n [236, 32, 12210, 62, 272, 12211, 12212, 12213],\n [591],\n [77, 80, 187, 7939, 7940, 5082, 23, 10, 6, 851, 66, 555],\n [722, 372, 1227, 379, 50, 84, 178],\n [12214, 12215, 12216],\n [3, 95, 133, 5083, 151, 7941, 43, 12217, 6181, 5084, 5083, 607],\n [1497, 4356, 12218, 2834, 1627, 749],\n [473, 3814, 931, 29],\n [1698, 277, 506, 1019, 12219],\n [3087, 2811, 173, 235, 1628],\n [854, 1685, 99, 157, 1699, 214, 335, 750],\n [3088, 1141],\n [533, 12220, 703, 1497, 12221, 1855, 724, 119, 714, 228, 7942, 160, 107, 577],\n [908, 146, 386, 356, 12222, 301, 4357, 4358, 143, 31],\n [304, 261, 2],\n [26, 339, 21, 4359, 111, 262, 198, 21, 624, 542],\n [62, 315, 90, 2835, 3411, 514, 578, 3412, 2475],\n [124, 47, 293, 2291, 7943],\n [12, 3, 5, 133, 133, 27],\n [168, 272, 3413, 14, 970, 3089, 90, 228, 5085, 653, 106, 363, 370, 62],\n [12223, 454, 12224, 454],\n [21,\n  12225,\n  1130,\n  733,\n  12226,\n  9,\n  305,\n  1629,\n  3,\n  5086,\n  7944,\n  259,\n  12227,\n  2636,\n  3414],\n [104, 562],\n [83, 6182, 366, 6183, 555],\n [24, 12228, 7945, 79, 913, 1168, 881],\n [10, 1625, 12229, 194],\n [212, 422, 102, 170, 170, 6184, 228, 6185],\n [87, 987, 1, 227, 261],\n [2836, 10, 646, 1438, 10, 12230, 1, 558, 15],\n [6, 83, 31, 16],\n [8, 183, 737, 485, 28],\n [6186, 12231, 5087, 1221],\n [29, 2053, 71, 282, 22, 2053, 69, 4, 495, 1630, 105, 1700, 12232, 475, 5088],\n [173, 12233, 15, 32, 1947, 1104, 463, 7946, 3, 3815],\n [42, 253],\n [3, 129, 391, 263, 12234, 913, 12235, 1776, 3415, 3415, 35],\n [12236, 12237, 12238, 4360, 1067],\n [403, 484, 1562, 638, 3090],\n [1701, 11, 21, 34, 6187, 18, 114, 155],\n [20, 46, 6188, 596, 225, 91, 44],\n [1948, 312, 3091, 7947, 1842, 12239, 12240],\n [11, 1263, 95, 461, 461, 35],\n [1761, 79, 66, 1563, 1761, 534, 12241, 1563, 266, 67],\n [2837, 597, 752, 1035, 618, 12242, 12243],\n [169, 83, 1294, 5089, 12244, 899, 1228, 1702, 2476, 2477, 3786],\n [227, 4361, 12245, 7948, 3416, 1292],\n [20, 12246, 482, 833, 833, 37, 3816],\n [96, 236, 283, 87, 715, 76, 32, 69, 51],\n [971, 1564, 447, 721, 508, 5090, 2478, 814],\n [14, 2, 48, 90, 1],\n [1856, 29, 71, 1703, 12247, 7949],\n [257, 12248, 58, 2140, 2054, 409, 102, 47, 12249, 36, 327, 1069],\n [5091, 3417, 4, 6189, 10, 2166, 992, 634, 7950],\n [5092, 1857, 117, 262, 117],\n [72, 1261, 2302, 12250],\n [3418, 585, 9, 12251, 12252, 12253],\n [39, 400, 952, 12254, 18, 12255, 6190],\n [3, 122, 1229, 193, 1631, 54, 351, 444, 79, 305, 12256],\n [926, 462, 1222, 11, 3092, 401, 5093, 361, 61, 93, 86, 108],\n [202, 2027, 2303, 837, 12257, 204, 586, 384],\n [733, 2640, 665, 861, 660, 1185, 3817, 522, 660],\n [3419, 472, 5094, 17, 12258],\n [267, 993, 2479, 12259, 2167, 3818, 760, 166, 12260],\n [100, 90, 5, 14, 2, 272, 62, 12261],\n [141, 63, 1142, 476, 815, 265, 6191, 255, 160, 23, 10],\n [162, 34, 12262],\n [265, 1, 196, 414, 67, 45, 324],\n [96, 27, 38, 57, 5, 27, 533, 40, 27, 38, 57],\n [115, 1223, 654, 714, 932, 12263, 6192],\n [1, 6193, 2138, 2641, 164, 2138, 2, 458, 4, 753, 3, 704, 12264],\n [3093, 12265, 12266, 587, 102, 1108, 736, 6, 1565, 639],\n [1770, 50, 765, 12267, 1342, 1858, 454],\n [101, 7951, 12268, 153, 6],\n [5, 148, 12, 734, 663, 1, 1949, 2055, 63, 478],\n [333, 2642, 12269],\n [437, 5095, 101, 12270, 7, 619, 2480, 15, 144, 197, 4362],\n [57, 362, 57, 129, 1632, 300, 267, 181, 476, 1498, 3420, 38],\n [70, 629, 508, 972, 3094, 630, 433, 1230, 99, 2168, 12, 246],\n [51, 5096, 730, 51, 44],\n [3819, 12271, 7952],\n [311, 214, 87, 75, 3820, 2169, 8, 2298],\n [473, 12272, 1299, 490, 29, 12273],\n [264, 1036, 281, 71, 1070, 1286, 1614, 12274],\n [293, 12275, 12276, 12277],\n [42, 753, 12278, 397, 2481, 210, 30, 1704, 310, 24, 7953, 4, 12279, 3095],\n [2629, 3096, 838, 74, 105, 7954, 6194, 4, 7955, 5097],\n [3097, 4363, 698, 2151, 539, 1391],\n [16, 10, 283, 334, 3421, 11, 419, 7, 1777, 3821, 2482],\n [766],\n [3098, 386, 6195, 1186, 44, 768, 2304, 961, 12280, 1481, 315, 85, 45],\n [19, 26, 274, 366, 4364, 5098, 12281],\n [5, 14, 2, 272, 1566, 12282, 62, 12283],\n [7956, 1950, 604, 1705, 80, 81, 351, 678, 405, 462, 12284, 61, 93, 86, 108],\n [7957, 3422, 20, 48, 327, 115, 43, 1432],\n [1033, 116, 300, 12285, 81, 58],\n [5, 14, 2, 1633, 62, 64, 14, 363, 2],\n [171, 650, 187, 32, 68, 11, 57, 442, 68, 197, 7958, 437],\n [578, 2838, 140, 1634, 378, 7959, 378, 3822, 823, 12286, 12287],\n [407, 268, 4365, 2056, 1778],\n [121, 38, 7, 7960, 7, 427, 2839, 3, 2170],\n [1779, 31, 6196, 634, 4366, 12288, 631],\n [6197, 110, 426, 110, 373, 254, 25],\n [4367, 973, 4368, 5099, 326, 6, 69, 7961],\n [2483, 7962, 194, 4369, 6198, 249, 1499, 769, 4369, 2483],\n [70, 31, 436, 926, 460, 31, 173, 557],\n [229, 6, 6199, 289, 12, 11, 5100, 945, 243, 1143, 1300],\n [556, 48, 270, 2057, 285, 6200, 2057, 285, 531, 48, 270, 556],\n [51, 20, 1384, 239, 51, 44],\n [70, 1037, 12289, 882, 953],\n [14, 2, 5101, 363, 96, 12290, 3823, 635, 109],\n [51, 40, 51, 44],\n [51, 7963, 4370, 51, 44],\n [3824, 7964, 136, 109, 453, 12291, 3423, 598],\n [754],\n [113, 1, 5102, 65, 2171, 5103],\n [95, 12292, 12293, 12294],\n [2840, 16, 7965, 2449, 1495, 12295, 186, 7966, 2058, 688, 770],\n [86, 3424, 42, 203, 61, 93, 86, 108],\n [650, 1020, 56, 384, 816, 241, 1626, 7967, 251, 41, 1780, 12296],\n [12297, 44, 240],\n [1951, 637, 5104, 2643, 5105, 7968, 196, 669],\n [22, 695],\n [12298, 867, 3099, 6201, 16, 22, 1144, 351],\n [467, 3069, 1635, 471, 7, 1091, 25, 3069, 1038, 991, 12299, 12300],\n [3100, 1070, 7969, 140, 1071],\n [12301, 220, 110, 881, 81, 206, 703, 493, 269, 883, 491],\n [1567],\n [12302, 411, 509, 32, 510, 457, 32, 256, 176],\n [6202, 6, 242, 298, 7970],\n [185, 2841, 1932, 1932, 824, 2158, 238, 1343, 12303, 12304, 7971, 3825],\n [51, 603, 51, 44],\n [2644, 791, 924, 24, 1340],\n [9, 304, 2, 73, 3826, 12305],\n [230, 230, 12306, 191],\n [51, 2172, 51, 44],\n [507, 26, 993, 12307, 24, 1702, 7972, 1549, 89, 833, 255, 2173],\n [449, 18, 25, 83, 4371, 1034, 817, 35, 72, 554, 81, 298, 9],\n [39, 46, 12308, 15, 1500, 2],\n [2645, 1097, 4372, 12309, 12310],\n [16, 143, 654, 10, 3101, 127, 1439, 974, 1039, 498, 16, 4373, 3827],\n [7973, 7974, 646, 1952, 55, 121, 856, 599, 1501, 150],\n [1344, 12311, 771, 16, 10, 2646, 12312, 7975, 2613],\n [165, 7, 90, 755, 3828, 1636, 62],\n [294, 1345, 1692, 273, 12313],\n [5, 64, 3420, 85, 1, 2647, 63, 45, 669],\n [219, 764, 608, 1, 1181, 23, 211, 64],\n [70, 6203, 6204, 2305, 46, 65, 287],\n [2059, 2059, 7976, 106, 12314, 400, 1, 67],\n [154, 1346, 220, 1145, 7977, 7978],\n [267, 44, 240],\n [190, 326, 98, 1626, 12315, 241, 16, 88, 68, 59, 3, 395],\n [6205, 429, 461, 5106, 1347, 1222, 4, 655],\n [1781, 207, 163, 3102, 57, 443, 118, 2053, 2648, 57, 107, 327],\n [39, 4374, 748, 12316, 7916, 1348, 2174, 614, 12317],\n [12318, 3417, 1301, 733, 1637, 123],\n [12319, 117, 374, 2842],\n [304, 2, 217, 200, 2484, 2627, 564, 2632, 12320, 12321, 12322],\n [5, 162, 223, 15, 1440, 216, 12323, 15, 162],\n [1, 64, 27, 94, 2485, 63, 3829, 1],\n [429, 3830, 110, 795, 222, 365, 626, 456, 933, 716, 6206],\n [56, 255, 291, 249, 4, 2843, 1438, 1953],\n [12324, 6207, 569, 1072, 1850, 151, 619, 105, 6207, 8, 900],\n [5107, 4, 3103, 53, 40, 4, 12325, 4, 12326, 4375, 4, 12327, 7979, 502, 12328],\n [396, 640, 72, 129, 1638, 7980, 1502, 10, 264, 18, 296, 302, 296, 302],\n [35, 68, 1928, 3425, 48, 2169, 129, 141, 1040],\n [389, 66, 37, 2458, 12329, 2171, 683, 2844, 12330],\n [100, 72, 7, 565, 563, 1097, 3104, 1615, 1395, 2306, 88, 756, 78, 1073, 1289],\n [164, 12331, 72, 358, 556, 35, 370, 251],\n [12, 463, 438, 52, 6, 1219, 547, 33, 614],\n [1485, 12, 1485, 2632, 2643, 314, 7981, 362, 12332],\n [60, 772, 158, 158, 158],\n [3105,\n  3426,\n  2486,\n  82,\n  2649,\n  3427,\n  3831,\n  3832,\n  3833,\n  3834,\n  2487,\n  289,\n  354,\n  550,\n  82],\n [751, 6, 7982],\n [29, 120, 3106, 238, 5108, 176, 75, 1166, 2175],\n [3, 13, 480, 226, 12333],\n [2650, 497, 620, 497, 48, 1231, 57, 59],\n [47, 36, 56],\n [413, 366, 7983, 4376, 975, 413, 3428, 7984, 607],\n [469, 2651, 12334],\n [1187, 59, 132, 46, 490, 3039, 366, 1019],\n [415, 124, 785, 7985, 230, 667],\n [12335, 125, 268, 323, 12, 163, 27, 198, 5109, 12336],\n [12337, 110, 426, 110, 373, 254, 25],\n [2623, 1486, 12338, 2176, 32, 167],\n [115, 395, 4, 1146, 456, 12339, 53, 4, 353],\n [59, 12340, 125, 194, 7986, 7987, 125, 537, 1349, 7988],\n [95, 168, 662, 161, 705, 195, 1639, 248, 7989, 2488],\n [1640, 1441, 5110, 457, 858, 3429, 7990, 61, 93, 86, 108],\n [12341, 1021, 7991, 12342, 12343, 656, 338],\n [1954, 296, 12344, 751, 3, 1641, 268],\n [3835, 60, 386, 7, 22, 12345],\n [1433, 4377, 1188, 547, 45, 7992, 4378, 863, 337, 101, 859],\n [462, 163, 1944, 550, 926, 5111, 1782, 3430, 61, 93, 86, 108],\n [2, 3431],\n [1041, 1783, 12346],\n [11, 856, 450, 149, 12347, 12348],\n [511, 494, 127, 12349, 3432, 1784, 1706, 4379, 127],\n [374, 374, 7, 618, 3835],\n [213, 25, 34, 213, 7, 5, 99, 1264, 3107, 5112],\n [454, 407, 190, 2307, 12350, 12351],\n [5, 1756, 2, 1147, 8, 406, 338, 3049, 536, 6208, 152],\n [83, 34, 1],\n [652, 5, 113, 12352, 12353, 73, 101, 7993],\n [39, 114, 58, 21, 2177, 2845, 12354, 12355, 1],\n [5, 861, 260, 861, 7994],\n [35, 6, 628, 18, 1568, 619, 609, 1330],\n [3836, 773, 4, 1435, 1707, 12356, 5113],\n [74, 143, 127, 2652, 193, 136, 248, 74, 1109, 220, 4380, 38, 805, 422, 1569],\n [18, 3837, 585, 3838, 2489, 92, 111, 420, 767, 5114, 36, 92, 12357, 9, 20, 2],\n [40, 2060, 12358, 12359, 12360, 12361, 159, 248],\n [3433, 671, 2046, 2846, 6209, 2490, 34, 23, 1783, 153],\n [1177, 397, 111, 22, 44, 8, 1859, 12362],\n [192, 142, 2834],\n [66, 362, 197],\n [557, 2653, 43, 954, 3810, 148, 6210],\n [8, 7, 83, 7, 221],\n [7995, 1074, 620, 25, 222, 1075, 1110, 914, 365, 1232, 6211],\n [53, 309, 116, 12363, 1265],\n [5, 652, 15, 1, 7996, 5115, 252, 173, 2],\n [5116, 12364, 12365, 12366, 126, 12367, 5117, 1],\n [217, 538, 143, 447, 30, 4, 113, 12368, 12369],\n [6212, 5118, 724, 757, 6213, 7997, 2845, 1266],\n [548, 377, 705, 5017, 7998, 2178],\n [4381, 2491, 12370, 405, 3, 172, 161, 57, 28],\n [3108, 136, 7999, 12371, 2308, 1253, 291, 1442],\n [648, 648, 583, 98, 965, 165, 281, 12372],\n [187, 2847, 24, 1233, 12373, 24, 1, 470],\n [1, 355, 121, 934, 203, 355, 587, 414, 730, 12374],\n [377, 383, 1570, 2309, 137, 264, 189, 138, 774, 1256],\n [3839, 581, 258, 8, 8000, 2848, 12375, 199, 1],\n [4382, 128, 56, 1208, 186, 540, 34, 12376, 241],\n [2849, 649, 52, 12377],\n [39, 1708, 75, 271, 12378, 2850, 3434, 384],\n [106, 170, 553, 11, 47, 227, 12379, 227, 12380, 866],\n [1443, 641, 2282, 269, 226, 12381],\n [54, 533, 12382],\n [4383, 731, 2179],\n [100, 31, 27],\n [51, 12383, 51, 44],\n [95, 237, 158, 289, 2, 237, 5119, 158, 8001],\n [17, 588, 7, 263, 17, 263, 12384, 8002, 1140, 1100, 45, 85],\n [29, 479, 404, 322, 12385],\n [7, 15, 5120, 106, 8003],\n [364, 20, 828, 59, 5, 37, 6214, 8004, 12386, 3840],\n [2310, 8005, 12387, 43, 348, 6215, 35, 12388],\n [1709, 176, 6216],\n [178, 263, 17],\n [543, 8006, 4384, 12389],\n [12390, 12391, 2178, 65, 8007, 1639, 195, 124],\n [152, 190, 12392, 50, 122, 22, 210, 1444, 42, 215, 347, 2451, 20, 514],\n [105, 185, 12393, 737, 1338, 191, 968, 12394],\n [3841, 21, 128, 3435, 449, 16, 165, 119, 598],\n [1642, 45, 1571, 8008, 2851, 801, 3436, 1643, 4, 5121, 121, 1785],\n [966, 74, 2654, 3437, 6217, 345, 12395, 2061, 8009],\n [100, 332, 272, 14, 2, 83, 519, 9, 481, 12396],\n [489, 12397, 3, 5122, 1388, 2655, 12398, 2852, 687, 119, 57],\n [1, 12399, 2618, 91, 615, 3438],\n [372, 41, 12400, 596, 582],\n [30, 376, 1396, 162, 10, 126, 8010, 101, 15],\n [25, 1333, 1786, 87, 321, 12, 70, 308, 101],\n [164, 516, 56, 455, 502, 424, 698],\n [2492, 747, 2656, 1076, 2493, 1445, 1446],\n [40, 382, 40, 2311, 2494, 277, 1, 12401, 12402],\n [105, 2657, 12403],\n [1, 811, 12404, 8011, 811, 865, 12405, 12406],\n [202, 1, 683, 12407, 117, 12408, 8012, 1077, 160],\n [12409, 44, 240],\n [62, 14, 2, 90, 3842, 380, 217, 114, 467],\n [8013, 3439, 8013, 3439, 3440, 149, 12410, 23, 68, 77, 2495, 1329, 935],\n [1, 176, 39, 2, 1166, 57, 928],\n [449, 194, 1234, 12411, 1302, 2496, 1334],\n [860, 63, 186, 392, 1572, 2479, 5123, 128, 241, 5124, 1955, 56],\n [103, 6, 1629, 641, 75, 105, 218, 105, 15, 3, 121],\n [20, 54, 3089, 465, 106, 69, 1956, 589, 28, 277, 250],\n [8014,\n  75,\n  98,\n  346,\n  1078,\n  479,\n  48,\n  511,\n  4,\n  3441,\n  689,\n  264,\n  4,\n  12412,\n  1189,\n  12413,\n  649],\n [55, 127, 12414, 1350, 403, 642, 166, 2497],\n [3109, 2498, 310, 451, 8015, 5125, 182],\n [17, 2658, 17, 2658, 17, 17],\n [133, 46, 6, 42, 239, 12415, 12416, 2276, 2659, 198, 12417, 257],\n [4385, 97, 8, 135, 380, 2, 14, 2],\n [2155, 35, 92, 72, 20, 839],\n [366, 30, 2180, 12418, 5126, 59, 6, 97],\n [220, 56, 381, 206, 641, 98, 16, 8016, 1957, 83, 2177],\n [3442, 4386, 83, 8, 818, 1, 12419, 36, 163, 793, 8],\n [218, 936, 12420, 12421, 8017],\n [1148, 430, 3443, 238, 306, 183, 1141],\n [71, 3444, 122, 27, 56, 1284, 516],\n [7, 5020, 12422],\n [341, 404, 989, 669, 414, 596, 33, 28],\n [12423, 1928, 279, 3445, 113],\n [16, 544, 1924, 2497],\n [523, 584, 267, 8018],\n [41, 1, 145, 7, 22, 10, 1, 2062, 12424],\n [12425, 439, 202, 3, 576],\n [25, 399, 733, 3843, 4387, 464, 1267, 911, 144, 1268],\n [173, 8, 175, 112, 3844],\n [473, 12426, 29, 44],\n [25, 2058, 1397, 1958, 241, 677, 450, 1149, 357, 884, 537, 623, 2853],\n [323, 12427, 1183, 12428, 534, 22, 12429],\n [893, 1569, 21],\n [13, 12430, 391],\n [232, 232, 10],\n [39, 59, 375, 133, 2660, 1131, 994, 12431],\n [926, 462, 157, 568, 1042, 1043, 4388, 61, 93, 86, 108],\n [271, 770, 335, 5127, 3845, 492, 2063, 1618, 217, 12432, 12433],\n [9, 129, 3446, 37, 672, 1503, 12434, 1221, 216],\n [12435, 690, 643, 74, 279],\n [64, 987],\n [31, 94, 8019, 2661, 12436, 15, 12437],\n [261, 543, 32, 2636, 530, 8, 1235, 6218],\n [70, 12438, 833, 355, 65, 287],\n [691, 205, 311, 6219, 12439, 12440, 221, 976],\n [42, 107, 12441, 12442, 94],\n [1959, 259, 117, 233, 431, 81, 1644, 105, 57, 153, 2813, 117],\n [5128, 12443, 857, 84, 8020, 12444],\n [298, 6, 65, 180, 450, 65, 1632, 1498, 1184, 3447],\n [1504, 328, 2662, 12445, 3835, 2442],\n [23, 986, 81, 75, 2181, 913],\n [123, 6220, 7, 8021, 1039, 183, 2182, 430, 1039, 183, 77, 52, 2183],\n [42, 65, 70, 1150, 2184, 119, 285, 12446, 145, 120, 285, 4, 502, 15],\n [12447, 497, 620, 497, 48, 1231, 57, 2663],\n [6221, 129, 31, 1702, 1505, 55, 34, 1613, 31, 182],\n [30, 2064, 12448, 278, 840],\n [451, 325, 83, 60, 1960, 12449, 706],\n [20, 46, 1573, 1303, 2664, 11, 2312, 538, 189, 18],\n [112, 11, 9, 2854, 22, 4389, 12450, 22, 39],\n [8022, 1175, 1067, 9, 7, 8022, 195, 12451, 12452],\n [883, 337, 3110, 6222, 3072, 14, 43],\n [754, 3448, 11, 45, 57, 12453, 553, 12454, 38, 12455],\n [107, 43, 40, 70, 2065],\n [11, 841, 12456, 216],\n [1, 12457, 1304, 977, 179, 1151, 133, 12458],\n [17, 293, 63, 124, 401, 468, 855],\n [18, 2066, 214, 10, 12459, 4390, 214, 32, 139],\n [137, 490, 2482, 12460, 1429, 184, 189, 12461],\n [21, 2499],\n [1134, 106, 2313, 405, 3, 172, 161, 57, 28],\n [10, 180, 6117, 4391, 25],\n [792, 26, 12462, 602, 12463, 807],\n [2665, 8023],\n [85, 1176, 8024, 8025],\n [8026, 437, 79, 66, 1645, 1645, 2855, 1044, 34, 3],\n [17, 6223, 54, 651, 673, 23, 8027, 214, 1097, 1435, 995, 12464],\n [1545, 12465, 12466, 248, 38, 634, 12467],\n [5129, 1574, 72, 2185, 796],\n [12468, 497, 620, 497, 48, 1231, 57, 59],\n [606, 18, 202, 775, 6, 3, 45, 11, 57, 52, 606],\n [4392, 121, 2639, 347, 138, 5130, 6224],\n [6225, 285, 1, 80, 55],\n [592, 34, 107, 3846, 451, 57, 50, 257, 355, 367, 12469],\n [3407, 81, 737, 1251, 21, 204, 186],\n [5131, 46, 12470, 5131, 12471, 12472, 2186, 5120, 1398, 67, 1],\n [12473],\n [43, 348, 413],\n [915, 5, 1152, 68, 16, 438, 2666, 1506],\n [8028, 53, 40, 1961, 12474, 3, 8028, 12475, 8029, 6226],\n [12476, 30, 12477, 8030, 82, 6227],\n [8031, 789, 12478, 415, 1016],\n [83, 274, 1770, 366, 670, 6228, 12479],\n [319, 177, 1284, 776, 228, 107, 214, 12480],\n [316, 792, 3847, 179, 12481, 4393, 148, 738, 2314],\n [225, 12482, 324, 82, 159, 787, 225, 96, 266],\n [806, 366, 38, 12483, 657, 1762, 134, 3848],\n [168, 6229, 4394, 2856, 318, 143],\n [533, 8032, 167, 2500, 801, 2857, 4386, 12484, 6230],\n [58, 6231, 479, 20, 125, 20, 681, 20, 134, 39, 3449, 12485, 12486],\n [8033, 53, 2062, 5132, 8034, 2187],\n [46, 757, 2501, 58, 238, 1236, 8035],\n [12487, 1045, 1497, 3111, 12488, 551],\n [1351, 130, 1646, 784, 12489, 1305, 181, 3849, 994],\n [2067, 1111, 41, 777, 1860, 12490, 276, 21, 33, 2307],\n [751, 572, 2667],\n [70, 894, 358, 804, 12491, 119, 12492],\n [39, 2, 165, 5, 69, 51],\n [5, 64, 103, 1929, 64, 177, 1],\n [76, 154, 392, 58, 16, 326, 1212, 101, 5133],\n [17, 27, 54, 166, 885],\n [207, 269, 2188, 1, 8036, 101, 101, 1447, 73, 8, 1268, 8037],\n [5, 14, 2, 468, 14, 362, 1, 1764],\n [8, 581, 682, 1480, 294, 1, 87, 265, 3112, 3113],\n [14, 106, 1, 577, 1287, 14, 43, 14, 113],\n [1237, 309, 668, 4395, 141, 4, 1861],\n [35, 3, 178, 132, 3, 299, 23, 12493, 265, 4, 3850],\n [834, 735, 395, 5, 395],\n [1037, 286, 1551, 5134, 73, 736, 8038, 12494, 199, 1],\n [37, 12495, 113],\n [130, 3114, 1507, 916, 235, 1962, 8039, 89, 895, 2668, 1647, 3851],\n [2315, 1296, 4, 2059, 339, 107, 28, 296],\n [1387, 494, 6232, 16, 1112, 183, 3115, 2656, 215, 677, 5135],\n [111, 267, 9],\n [59, 34, 996, 5136],\n [342, 701, 1632],\n [8040, 68, 259, 12496, 305, 243],\n [164, 6, 502, 16, 186, 1953, 56],\n [917, 1352, 246, 12497],\n [2858, 2640, 141, 8041, 12498, 8041, 12499, 12500, 45, 4396],\n [785, 3, 104, 514, 909, 12501, 514, 1635],\n [754, 100, 21, 205, 24, 12502, 1061],\n [100],\n [12503, 121, 45, 64, 1710, 12504],\n [901, 257, 287, 300, 651],\n [2279, 462, 930, 361, 12505, 961, 1540, 5137, 1686, 61, 93, 86, 108],\n [205, 57, 134, 1508, 2294, 1636, 8042, 7, 8043],\n [5, 17, 18, 1399, 1153, 1862, 4397, 17, 228, 1862],\n [36, 8],\n [6, 1575, 12506, 1111, 12507, 22, 423, 207, 819],\n [102, 1648, 427],\n [2859, 8044, 6233, 588, 38, 707, 94, 15, 63, 33],\n [988, 988, 1154, 40, 867, 988, 8045, 12508, 5, 1154],\n [5, 199, 551, 85, 653, 603, 12509, 1],\n [1400, 132, 1863, 2, 3, 42, 2501, 1401, 12510, 12511, 235, 12512],\n [1, 6234, 674, 1, 3450, 22, 1, 59, 22, 610, 329, 155, 8046, 69],\n [926, 405, 12513, 1353, 746, 203, 61, 93, 86, 108],\n [12514],\n [12515, 2444, 2, 1646, 2, 3803, 40, 64, 103, 12516],\n [8047, 411, 509, 32, 510, 457, 32, 256, 176, 2316],\n [2502, 897, 2317, 1211, 1, 1113, 1392, 250, 1077, 842, 8],\n [25, 2032, 4398, 1079, 6096, 1963, 774, 188, 1964, 6235, 5138, 12517],\n [391, 12518, 1509, 12519],\n [283, 185, 77, 52, 636, 245, 87, 4399, 950, 423, 1965],\n [3, 165, 34, 2189, 12520],\n [3116, 63, 12521],\n [145, 393, 4400, 3117, 145, 610, 306, 177, 5139, 297, 610, 3852],\n [398, 878, 1114, 212, 4401, 124, 182, 181, 4402, 962, 5140, 1446],\n [349, 8048, 1080, 47, 308, 1348, 900, 3853],\n [127, 815, 6236, 54, 3, 2181, 1291, 185, 32],\n [51, 247, 51, 44],\n [401, 6237, 2, 182, 372, 1864, 248, 685, 534, 764, 24, 4, 35],\n [45, 1, 36, 159, 159, 973],\n [290, 496, 35, 6, 1354, 3118, 407, 23, 10, 65, 180],\n [97, 54, 2068, 8049],\n [59, 132, 2, 428],\n [12522, 211, 587, 1649, 12523, 12524],\n [489, 77, 53, 8050, 125, 1115, 820, 1711, 12525],\n [701, 3119, 2860, 1099, 12526, 1631, 91],\n [324, 990, 4349],\n [22, 10, 33, 1, 10, 36, 8, 96, 91, 126, 1355, 1966, 33],\n [12527, 12528, 6, 1167, 129, 3120, 62, 12529],\n [334, 1865, 80, 2861, 291, 5141, 1510, 12530],\n [173, 8051, 12531, 137],\n [1712, 176, 214],\n [252,\n  3121,\n  902,\n  346,\n  903,\n  252,\n  902,\n  185,\n  252,\n  3121,\n  903,\n  252,\n  6238,\n  183,\n  1787],\n [12532, 12533, 1613, 166, 2190, 2669, 8, 6239],\n [516, 6, 5142, 38],\n [3122, 12534, 301, 18, 52],\n [12535, 12536, 8052, 2825, 409, 353, 12537],\n [12538, 388, 46, 1155, 768, 343, 12539],\n [708, 323, 6240],\n [2670, 8053, 6241, 3854, 12540, 2862],\n [55, 1443, 12541, 5143, 8054, 615, 8055],\n [111, 68, 59, 1967, 178, 209, 515, 68, 4403, 118, 12542],\n [412, 5144, 1544, 384, 5145, 142, 705, 2503, 248],\n [259, 351, 253, 3123, 250, 13, 7, 15, 1705],\n [77, 1866, 8, 521, 189, 23, 248, 9, 4404],\n [125, 350, 1173, 12543, 260, 886],\n [51, 6088, 51, 44],\n [473, 4405, 490, 29, 908],\n [139, 1576, 5146],\n [652],\n [9, 797, 15, 479, 2, 80, 8056, 136, 139, 642, 7, 2, 18],\n [8057, 6242, 1711, 13, 31, 12544, 140, 19, 997, 386],\n [39, 12545, 2138, 103, 1249, 2053, 5, 1306, 1402, 6, 50, 474, 3855],\n [1483, 106, 28, 1],\n [138, 3451, 1867, 111, 48, 611, 2191, 8058, 12546, 2671, 12547],\n [206, 5147, 234, 2504, 7, 10, 952, 1253, 4, 215, 264, 8059, 12548],\n [102, 8060, 28, 26, 12549, 323, 616],\n [363, 43],\n [60, 81, 41, 248, 9, 23, 211, 7, 603, 11, 248, 12550],\n [3452, 1968, 5148, 2318, 419, 287, 1403, 65],\n [37,\n  1356,\n  3453,\n  8061,\n  6243,\n  12551,\n  8062,\n  6243,\n  33,\n  3453,\n  12552,\n  1571,\n  28,\n  142],\n [12553, 173, 6244, 278, 194, 408, 3454, 79, 66, 5149],\n [647, 330, 224, 28, 386, 5150, 6245, 447, 1674],\n [87, 501, 3, 735, 44, 1713, 259, 20, 309, 288, 569],\n [573, 25, 5151, 206, 6246, 4406, 195, 105, 218, 9],\n [112, 12554, 267, 4407, 181, 1448, 544, 150, 181, 524, 2863],\n [493, 105, 50, 7, 747],\n [10, 1650, 2672, 12555, 6247],\n [79, 2, 12556, 458, 33, 560],\n [299, 84, 3455, 2639, 12557, 17, 51, 277],\n [26, 1295, 508, 3456, 92, 5152, 400, 12558, 21],\n ...]"
     },
     "metadata": {}
    }
   ]
  },
  {
   "cell_type": "code",
   "metadata": {
    "tags": [],
    "cell_id": "00047-8ce3a523-0c23-40ff-b1cf-b7b9659a7ec9",
    "deepnote_to_be_reexecuted": true,
    "source_hash": "6aa1247e",
    "execution_start": 1635653333557,
    "execution_millis": 188,
    "deepnote_cell_type": "code"
   },
   "source": "train_padded = pad_sequences(train_sequences)\ntrain_padded[0]",
   "execution_count": null,
   "outputs": [
    {
     "output_type": "execute_result",
     "execution_count": 39,
     "data": {
      "text/plain": "array([    0,     0,     0,     0,     0,     0,     0,     0,     0,\n           0,     0,     0,     0,     0,     0,     0,     0,     0,\n           0,     0,     0,     0,     0,     0,     0,     0,     0,\n           0,     0,     0,    14, 11857,  2135,  1753,   109,  6081,\n         151], dtype=int32)"
     },
     "metadata": {}
    }
   ]
  },
  {
   "cell_type": "markdown",
   "source": "### Train test split padded",
   "metadata": {
    "tags": [],
    "is_collapsed": false,
    "cell_id": "00050-00d98892-9c24-4d05-ae3e-33990b26be1e",
    "deepnote_cell_type": "text-cell-h3"
   }
  },
  {
   "cell_type": "code",
   "metadata": {
    "tags": [],
    "cell_id": "00049-d73f72dc-81a3-4414-b6af-328adce73613",
    "deepnote_to_be_reexecuted": true,
    "source_hash": "dd12be36",
    "execution_start": 1635653333754,
    "execution_millis": 7,
    "deepnote_cell_type": "code"
   },
   "source": "X_train_padded, X_test_padded, Y_train_padded, Y_test_padded = train_test_split(train_padded,processed['label'], test_size = 0.2, random_state = 42)",
   "execution_count": null,
   "outputs": []
  },
  {
   "cell_type": "code",
   "metadata": {
    "tags": [],
    "cell_id": "00057-f21b658e-bd9d-4e4d-a6a7-4cce8264ccfe",
    "deepnote_to_be_reexecuted": true,
    "source_hash": "c9c585cd",
    "execution_start": 1635653333770,
    "execution_millis": 1,
    "deepnote_cell_type": "code"
   },
   "source": "# from sklearn.feature_selection import SelectKBest\n# from sklearn.feature_selection import f_classif\n\n# selector = SelectKBest(f_classif, k=10)\n# selected_features = selector.fit_transform(train_features, train_labels)",
   "execution_count": null,
   "outputs": []
  },
  {
   "cell_type": "code",
   "metadata": {
    "tags": [],
    "cell_id": "00050-688a251f-39eb-43c2-8fa8-6c6a9686a867",
    "deepnote_to_be_reexecuted": true,
    "source_hash": "d31e9eec",
    "execution_start": 1635653333784,
    "execution_millis": 434,
    "deepnote_cell_type": "code"
   },
   "source": "lstm_model = Sequential()\n\nlstm_model.add(Embedding(33588,24,input_length = 37 ))\nlstm_model.add(LSTM(100, dropout=0.2, recurrent_dropout=0.2))\nlstm_model.add(Dense(64,activation='relu'))\nlstm_model.add(tf.keras.layers.Dropout(0.3))\n\nlstm_model.add(Dense(64,activation='relu'))\nlstm_model.add(tf.keras.layers.Dropout(0.3))\n\nlstm_model.add(Dense(64,activation='relu'))\nlstm_model.add(tf.keras.layers.Dropout(0.3))\n\nlstm_model.add(Dense(1, activation='sigmoid'))\nlstm_model.compile(loss = 'binary_crossentropy', optimizer='adam',metrics = ['accuracy'])\nprint(lstm_model.summary())",
   "execution_count": null,
   "outputs": [
    {
     "name": "stdout",
     "text": "Model: \"sequential\"\n_________________________________________________________________\nLayer (type)                 Output Shape              Param #   \n=================================================================\nembedding (Embedding)        (None, 37, 24)            806112    \n_________________________________________________________________\nlstm (LSTM)                  (None, 100)               50000     \n_________________________________________________________________\ndense (Dense)                (None, 64)                6464      \n_________________________________________________________________\ndropout (Dropout)            (None, 64)                0         \n_________________________________________________________________\ndense_1 (Dense)              (None, 64)                4160      \n_________________________________________________________________\ndropout_1 (Dropout)          (None, 64)                0         \n_________________________________________________________________\ndense_2 (Dense)              (None, 64)                4160      \n_________________________________________________________________\ndropout_2 (Dropout)          (None, 64)                0         \n_________________________________________________________________\ndense_3 (Dense)              (None, 1)                 65        \n=================================================================\nTotal params: 870,961\nTrainable params: 870,961\nNon-trainable params: 0\n_________________________________________________________________\nNone\n",
     "output_type": "stream"
    }
   ]
  },
  {
   "cell_type": "code",
   "metadata": {
    "tags": [],
    "cell_id": "00048-0281400a-f78a-4b31-bb43-66bd975d6e87",
    "deepnote_to_be_reexecuted": true,
    "source_hash": "cf80cce2",
    "execution_start": 1635653370604,
    "execution_millis": 1450767,
    "deepnote_cell_type": "code"
   },
   "source": "fitted_lstm_model = lstm_model.fit(\n    X_train_padded,\n    Y_train_padded,\n    epochs=20,\n    validation_data=(X_test_padded, Y_test_padded)\n)",
   "execution_count": null,
   "outputs": [
    {
     "name": "stdout",
     "text": "Epoch 1/20\n705/705 [==============================] - 72s 102ms/step - loss: 0.1475 - accuracy: 0.9498 - val_loss: 0.1471 - val_accuracy: 0.9572\nEpoch 2/20\n705/705 [==============================] - 80s 114ms/step - loss: 0.0733 - accuracy: 0.9758 - val_loss: 0.1631 - val_accuracy: 0.9443\nEpoch 3/20\n705/705 [==============================] - 67s 95ms/step - loss: 0.0378 - accuracy: 0.9883 - val_loss: 0.2033 - val_accuracy: 0.9416\nEpoch 4/20\n705/705 [==============================] - 70s 100ms/step - loss: 0.0181 - accuracy: 0.9943 - val_loss: 0.2193 - val_accuracy: 0.9468\nEpoch 5/20\n705/705 [==============================] - 67s 95ms/step - loss: 0.0121 - accuracy: 0.9961 - val_loss: 0.3396 - val_accuracy: 0.9406\nEpoch 6/20\n705/705 [==============================] - 67s 95ms/step - loss: 0.0095 - accuracy: 0.9972 - val_loss: 0.3478 - val_accuracy: 0.9471\nEpoch 7/20\n705/705 [==============================] - 67s 95ms/step - loss: 0.0107 - accuracy: 0.9977 - val_loss: 0.3638 - val_accuracy: 0.9421\nEpoch 8/20\n705/705 [==============================] - 67s 94ms/step - loss: 0.0063 - accuracy: 0.9979 - val_loss: 0.4434 - val_accuracy: 0.9418\nEpoch 9/20\n705/705 [==============================] - 73s 103ms/step - loss: 0.0065 - accuracy: 0.9982 - val_loss: 0.4160 - val_accuracy: 0.9439\nEpoch 10/20\n705/705 [==============================] - 67s 95ms/step - loss: 0.0066 - accuracy: 0.9985 - val_loss: 0.3874 - val_accuracy: 0.9409\nEpoch 11/20\n705/705 [==============================] - 80s 114ms/step - loss: 0.0039 - accuracy: 0.9988 - val_loss: 0.4971 - val_accuracy: 0.9418\nEpoch 12/20\n705/705 [==============================] - 69s 98ms/step - loss: 0.0044 - accuracy: 0.9987 - val_loss: 0.4494 - val_accuracy: 0.9496\nEpoch 13/20\n705/705 [==============================] - 70s 100ms/step - loss: 0.0025 - accuracy: 0.9991 - val_loss: 0.4594 - val_accuracy: 0.9352\nEpoch 14/20\n705/705 [==============================] - 73s 104ms/step - loss: 0.0049 - accuracy: 0.9987 - val_loss: 0.3913 - val_accuracy: 0.9476\nEpoch 15/20\n705/705 [==============================] - 71s 101ms/step - loss: 0.0017 - accuracy: 0.9996 - val_loss: 0.5312 - val_accuracy: 0.9423\nEpoch 16/20\n705/705 [==============================] - 80s 114ms/step - loss: 0.0036 - accuracy: 0.9991 - val_loss: 0.4334 - val_accuracy: 0.9388\nEpoch 17/20\n705/705 [==============================] - 68s 96ms/step - loss: 0.0024 - accuracy: 0.9991 - val_loss: 0.5483 - val_accuracy: 0.9381\nEpoch 18/20\n705/705 [==============================] - 73s 104ms/step - loss: 0.0022 - accuracy: 0.9992 - val_loss: 0.4524 - val_accuracy: 0.9343\nEpoch 19/20\n705/705 [==============================] - 82s 116ms/step - loss: 0.0025 - accuracy: 0.9994 - val_loss: 0.6366 - val_accuracy: 0.9425\nEpoch 20/20\n705/705 [==============================] - 88s 124ms/step - loss: 0.0012 - accuracy: 0.9996 - val_loss: 0.7021 - val_accuracy: 0.9285\n",
     "output_type": "stream"
    }
   ]
  },
  {
   "cell_type": "code",
   "metadata": {
    "tags": [],
    "cell_id": "00047-cd59fff9-4aa5-44ac-835c-b3dd65253164",
    "deepnote_to_be_reexecuted": true,
    "source_hash": "d89d483d",
    "execution_start": 1635648020069,
    "execution_millis": 2407,
    "deepnote_cell_type": "code"
   },
   "source": "score,acc = lstm_model.evaluate(X_test_padded, Y_test_padded, verbose = 2)\nprint(\"Score: %.2f\" % (score))\nprint(\"Validation Accuracy: %.2f\" % (acc))",
   "execution_count": null,
   "outputs": [
    {
     "name": "stdout",
     "text": "177/177 - 2s - loss: 0.4758 - accuracy: 0.9375\nScore: 0.48\nValidation Accuracy: 0.94\n",
     "output_type": "stream"
    }
   ]
  },
  {
   "cell_type": "code",
   "metadata": {
    "tags": [],
    "cell_id": "00048-22455111-5115-4de0-9d01-e11844296665",
    "deepnote_to_be_reexecuted": true,
    "source_hash": "68877174",
    "execution_start": 1635648022493,
    "execution_millis": 312,
    "deepnote_cell_type": "code"
   },
   "source": "#Accuracy\nimport matplotlib.pyplot as plt\nplt.plot(fitted_lstm_model.history['accuracy'])\nplt.plot(fitted_lstm_model.history['val_accuracy'])\nplt.title('model accuracy')\nplt.ylabel('accuracy')\nplt.xlabel('epoch')\nplt.legend(['train', 'test/val'], loc='upper left')\nplt.show()",
   "execution_count": null,
   "outputs": [
    {
     "data": {
      "text/plain": "<Figure size 432x288 with 1 Axes>",
      "image/png": "[encoded data removed]"
     },
     "metadata": {
      "needs_background": "light",
      "image/png": {
       "width": 392,
       "height": 278
      }
     },
     "output_type": "display_data"
    }
   ]
  },
  {
   "cell_type": "code",
   "metadata": {
    "tags": [],
    "cell_id": "00056-df05ee7a-7e8d-4885-8d31-f501166c7af8",
    "deepnote_to_be_reexecuted": true,
    "source_hash": "c8166825",
    "execution_start": 1635648022910,
    "execution_millis": 281,
    "deepnote_cell_type": "code"
   },
   "source": "#Loss\nplt.plot(fitted_lstm_model.history['loss'])\nplt.plot(fitted_lstm_model.history['val_loss'])\nplt.title('model loss')\nplt.ylabel('loss')\nplt.xlabel('epoch')\nplt.legend(['train', 'test/val'], loc='upper left')\nplt.show()",
   "execution_count": null,
   "outputs": [
    {
     "data": {
      "text/plain": "<Figure size 432x288 with 1 Axes>",
      "image/png": "[encoded data removed]"
     },
     "metadata": {
      "needs_background": "light",
      "image/png": {
       "width": 386,
       "height": 278
      }
     },
     "output_type": "display_data"
    }
   ]
  },
  {
   "cell_type": "code",
   "metadata": {
    "tags": [],
    "cell_id": "00062-11c6b3cd-123d-45fc-b177-bf4c94eb1c64",
    "deepnote_to_be_reexecuted": true,
    "source_hash": "4df22fca",
    "execution_start": 1635651349110,
    "execution_millis": 1632,
    "deepnote_cell_type": "code"
   },
   "source": "f2016 = pd.read_csv(\"final2016cleaned.csv\")",
   "execution_count": null,
   "outputs": []
  },
  {
   "cell_type": "code",
   "metadata": {
    "tags": [],
    "cell_id": "00064-526a28ae-49f2-4b47-a005-2c749884dd38",
    "deepnote_to_be_reexecuted": true,
    "source_hash": "5841893b",
    "execution_start": 1635651357747,
    "execution_millis": 214,
    "is_output_hidden": true,
    "deepnote_cell_type": "code"
   },
   "source": "f2016",
   "execution_count": null,
   "outputs": [
    {
     "output_type": "execute_result",
     "execution_count": 78,
     "data": {
      "application/vnd.deepnote.dataframe.v2+json": {
       "row_count": 1048536,
       "column_count": 2,
       "columns": [
        {
         "name": "Datetime",
         "dtype": "object"
        },
        {
         "name": "Text",
         "dtype": "object"
        },
        {
         "name": "_deepnote_index_column",
         "dtype": "int64"
        }
       ],
       "rows_top": [
        {
         "Datetime": "2016-01",
         "Text": "talk soros old whit billionaire funds blm leak admitted cause race civil p war",
         "_deepnote_index_column": 0
        },
        {
         "Datetime": "2016-01",
         "Text": "happynewyear everyone blm  kcqfurcaxn",
         "_deepnote_index_column": 1
        },
        {
         "Datetime": "2016-01",
         "Text": "iron fist power clamped humanity warfare terrorism surveillance police brutality amp rporate hegemo…",
         "_deepnote_index_column": 2
        },
        {
         "Datetime": "2016-01",
         "Text": "sadly falling bs blm loons pushing pretty pathetic people uld also say privilege",
         "_deepnote_index_column": 3
        },
        {
         "Datetime": "2016-01",
         "Text": "honour police brutality sgt shamar thomas   ",
         "_deepnote_index_column": 4
        },
        {
         "Datetime": "2016-01",
         "Text": "ncern mounting wild horse welfare many wild horses moved blm pvc nv facility  wildhorses",
         "_deepnote_index_column": 5
        },
        {
         "Datetime": "2016-01",
         "Text": "case closes police shooting  gnprdjsvws blacklivesmatter",
         "_deepnote_index_column": 6
        },
        {
         "Datetime": "2016-01",
         "Text": "fucks mention police brutality",
         "_deepnote_index_column": 7
        },
        {
         "Datetime": "2016-01",
         "Text": "ian murdock victim police brutality via r technology ",
         "_deepnote_index_column": 8
        },
        {
         "Datetime": "2016-01",
         "Text": "also w b c movement black lives beautiful amp deserves strong support amp respect",
         "_deepnote_index_column": 9
        },
        {
         "Datetime": "2016-01",
         "Text": " quentin one realest dudes check police brutality ",
         "_deepnote_index_column": 10
        },
        {
         "Datetime": "2016-01",
         "Text": "happy new year nak blm telaat kook",
         "_deepnote_index_column": 11
        },
        {
         "Datetime": "2016-01",
         "Text": "disputing trying say blm important movement either",
         "_deepnote_index_column": 12
        },
        {
         "Datetime": "2016-01",
         "Text": "ns highest rate police brutality near daily mass shootings donald trump pros slim fit shirts snug",
         "_deepnote_index_column": 13
        },
        {
         "Datetime": "2016-01",
         "Text": "millions shutting every major city works blm",
         "_deepnote_index_column": 14
        },
        {
         "Datetime": "2016-01",
         "Text": "black israelis standing police brutality ",
         "_deepnote_index_column": 15
        },
        {
         "Datetime": "2016-01",
         "Text": "amp campaigned mainstream criminal culture w blm unfortunate incidence",
         "_deepnote_index_column": 16
        },
        {
         "Datetime": "2016-01",
         "Text": "irking right ppl claiming distraction police brutality bm",
         "_deepnote_index_column": 17
        },
        {
         "Datetime": "2016-01",
         "Text": "poll takers politicians untouchable govtawareawake blm",
         "_deepnote_index_column": 18
        },
        {
         "Datetime": "2016-01",
         "Text": "well date black men killed black men killed police guys win year",
         "_deepnote_index_column": 19
        },
        {
         "Datetime": "2016-01",
         "Text": "blm ",
         "_deepnote_index_column": 20
        },
        {
         "Datetime": "2016-01",
         "Text": "folks dc taking action follow takebackourstreetsdc details blacklivesmatter",
         "_deepnote_index_column": 21
        },
        {
         "Datetime": "2016-01",
         "Text": "sending peace families hands police brutality enter without loved ones",
         "_deepnote_index_column": 22
        },
        {
         "Datetime": "2016-01",
         "Text": "best hashtag blm love wins jokes trends mpetition year satan year ",
         "_deepnote_index_column": 23
        },
        {
         "Datetime": "2016-01",
         "Text": "blm chinatown prey year black lives matter ",
         "_deepnote_index_column": 24
        },
        {
         "Datetime": "2016-01",
         "Text": "police brutality new dc gonna alright always alright takebackourstreetsdc",
         "_deepnote_index_column": 25
        },
        {
         "Datetime": "2016-01",
         "Text": "like next year police brutality floods deaths family family friends goin jail dumb shyt kkk shyt etc",
         "_deepnote_index_column": 26
        },
        {
         "Datetime": "2016-01",
         "Text": "clear police brutality issue right protest case unfortunate mistakes  nnpnzfpmlj",
         "_deepnote_index_column": 27
        },
        {
         "Datetime": "2016-01",
         "Text": "child killed police brutality billsbyhatesyou",
         "_deepnote_index_column": 28
        },
        {
         "Datetime": "2016-01",
         "Text": "long time blm activists currently beat trump rallies quit lying",
         "_deepnote_index_column": 29
        },
        {
         "Datetime": "2016-01",
         "Text": "blm palomino valley wild horse amp burro holding facility looks like ghost town  via",
         "_deepnote_index_column": 30
        },
        {
         "Datetime": "2016-01",
         "Text": "blm follow bro",
         "_deepnote_index_column": 31
        },
        {
         "Datetime": "2016-01",
         "Text": "fee free days blm public lands  ftidujckuw getoutside nature findyourpark  mfspwiuvej",
         "_deepnote_index_column": 32
        },
        {
         "Datetime": "2016-01",
         "Text": "takebackourstreetsdc police brutality happens c",
         "_deepnote_index_column": 33
        },
        {
         "Datetime": "2016-01",
         "Text": "blm association supposedly cannot question press",
         "_deepnote_index_column": 34
        },
        {
         "Datetime": "2016-01",
         "Text": "live dc shuttin sandrabland tamirrice blm  noetwpheki",
         "_deepnote_index_column": 35
        },
        {
         "Datetime": "2016-01",
         "Text": "blm follow bro",
         "_deepnote_index_column": 36
        },
        {
         "Datetime": "2016-01",
         "Text": "software pioneer ian murdock dead extraordinary police brutality claims ",
         "_deepnote_index_column": 37
        },
        {
         "Datetime": "2016-01",
         "Text": "stop police brutality",
         "_deepnote_index_column": 38
        },
        {
         "Datetime": "2016-01",
         "Text": "live dc shuttin sandrabland tamirrice blm  noetwpheki",
         "_deepnote_index_column": 39
        },
        {
         "Datetime": "2016-01",
         "Text": "let us leave racial profiling police brutality please",
         "_deepnote_index_column": 40
        },
        {
         "Datetime": "2016-01",
         "Text": "light shed ian murdock police brutality claims breitbart news ",
         "_deepnote_index_column": 41
        },
        {
         "Datetime": "2016-01",
         "Text": "characters cut needs said working needs done tamirrice thisiscle staywoke cle blm",
         "_deepnote_index_column": 42
        },
        {
         "Datetime": "2016-01",
         "Text": "live dc shuttin sandrabland tamirrice blm via  mqyogdblhy",
         "_deepnote_index_column": 43
        },
        {
         "Datetime": "2016-01",
         "Text": "whiteonwhitemurder america ntrol  kqeufdqwsq blacklivesmatter blm",
         "_deepnote_index_column": 44
        },
        {
         "Datetime": "2016-01",
         "Text": "standing justice tamir sandra black lives matter blm ",
         "_deepnote_index_column": 45
        },
        {
         "Datetime": "2016-01",
         "Text": "blm touts greater sage grouse protection among achievements krwg krwgblm touts greater sage grouse ",
         "_deepnote_index_column": 46
        },
        {
         "Datetime": "2016-01",
         "Text": "live dc shuttin sandrabland tamirrice blm via  mqyogdblhy",
         "_deepnote_index_column": 47
        },
        {
         "Datetime": "2016-01",
         "Text": "take moment remember lives live see due police brutality r p beautiful souls blacklivesmatter",
         "_deepnote_index_column": 48
        },
        {
         "Datetime": "2016-01",
         "Text": "responding nojusticenolebron james reflects supreme ignorance police brutality backyard ",
         "_deepnote_index_column": 49
        },
        {
         "Datetime": "2016-01",
         "Text": "live dc shuttin sandrabland tamirrice blm via  mqyogdblhy",
         "_deepnote_index_column": 50
        },
        {
         "Datetime": "2016-01",
         "Text": "cleveland legend jim brown goes media narrative police brutality amp tamir rice  ssefknkfgw",
         "_deepnote_index_column": 51
        },
        {
         "Datetime": "2016-01",
         "Text": "cleveland legend jim brown goes media narrative police brutality amp tamir rice ",
         "_deepnote_index_column": 52
        },
        {
         "Datetime": "2016-01",
         "Text": "must read thank urage happy new year blm baltimorecity rrupt ",
         "_deepnote_index_column": 53
        },
        {
         "Datetime": "2016-01",
         "Text": "live dc shuttin sandrabland tamirrice blm via  mqyogdblhy",
         "_deepnote_index_column": 54
        },
        {
         "Datetime": "2016-01",
         "Text": "let us support amazing bold leaders blm mpls making justice priority mpls ",
         "_deepnote_index_column": 55
        },
        {
         "Datetime": "2016-01",
         "Text": "live dc shuttin sandrabland tamirrice blm via  snuwwmirqg ",
         "_deepnote_index_column": 56
        },
        {
         "Datetime": "2016-01",
         "Text": "shame ",
         "_deepnote_index_column": 57
        },
        {
         "Datetime": "2016-01",
         "Text": "dc china town fun spot tonight blm taking",
         "_deepnote_index_column": 58
        },
        {
         "Datetime": "2016-01",
         "Text": "song tell truth police brutality amp victim death cannot forget ",
         "_deepnote_index_column": 59
        },
        {
         "Datetime": "2016-01",
         "Text": "sending digital ffee snacks keep good work respect blm teamdenmother lovemyjournos",
         "_deepnote_index_column": 60
        },
        {
         "Datetime": "2016-01",
         "Text": "tbh drake n curry year year police brutality injustice year every black man woman  bzzzpwcfgl",
         "_deepnote_index_column": 61
        },
        {
         "Datetime": "2016-01",
         "Text": "song tell truth police brutality amp victim death cannot forget ",
         "_deepnote_index_column": 62
        },
        {
         "Datetime": "2016-01",
         "Text": "blm protest city hall mummers tomorrow ",
         "_deepnote_index_column": 63
        },
        {
         "Datetime": "2016-01",
         "Text": "tired blm rioters looters name kkk",
         "_deepnote_index_column": 64
        },
        {
         "Datetime": "2016-01",
         "Text": "takebackourstreetsdc song tell truth police brutality amp victim death cannot forget ",
         "_deepnote_index_column": 65
        },
        {
         "Datetime": "2016-01",
         "Text": "song tell truth police brutality amp victim death cannot forget ",
         "_deepnote_index_column": 66
        },
        {
         "Datetime": "2016-01",
         "Text": "song tell truth police brutality amp victim death cannot forget victims ",
         "_deepnote_index_column": 67
        },
        {
         "Datetime": "2016-01",
         "Text": "song tell truth police brutality amp victim death cannot forget victims ",
         "_deepnote_index_column": 68
        },
        {
         "Datetime": "2016-01",
         "Text": "song tell truth police brutality amp victim death cannot forget victims ",
         "_deepnote_index_column": 69
        },
        {
         "Datetime": "2016-01",
         "Text": "problem blm",
         "_deepnote_index_column": 70
        },
        {
         "Datetime": "2016-01",
         "Text": "song tell truth police brutality amp victim death cannot forget victims ",
         "_deepnote_index_column": 71
        },
        {
         "Datetime": "2016-01",
         "Text": "honour police brutality sgt shamar thomas   nroouzlkyi ",
         "_deepnote_index_column": 72
        },
        {
         "Datetime": "2016-01",
         "Text": "blm protest dc right  know would fun though",
         "_deepnote_index_column": 73
        },
        {
         "Datetime": "2016-01",
         "Text": "song tell truth police brutality amp victim death cannot forget victims ",
         "_deepnote_index_column": 74
        },
        {
         "Datetime": "2016-01",
         "Text": "chick fil texas wearing back blue shirts oppose blm movement",
         "_deepnote_index_column": 75
        },
        {
         "Datetime": "2016-01",
         "Text": "song tell truth police brutality amp victim death cannot forget ",
         "_deepnote_index_column": 76
        },
        {
         "Datetime": "2016-01",
         "Text": "leave police brutality",
         "_deepnote_index_column": 77
        },
        {
         "Datetime": "2016-01",
         "Text": "song tell truth police brutality amp victim death cannot forget victims ",
         "_deepnote_index_column": 78
        },
        {
         "Datetime": "2016-01",
         "Text": "oh look found nazis helipters ows blm blacklivesmatter dc ",
         "_deepnote_index_column": 79
        },
        {
         "Datetime": "2016-01",
         "Text": "song tell truth police brutality amp victim death cannot forget victims ",
         "_deepnote_index_column": 80
        },
        {
         "Datetime": "2016-01",
         "Text": "baboon attempted racist slur believes blm kkk nazi bitch",
         "_deepnote_index_column": 81
        },
        {
         "Datetime": "2016-01",
         "Text": "anti flag fuck police brutality",
         "_deepnote_index_column": 82
        },
        {
         "Datetime": "2016-01",
         "Text": "crazy crazy asked would said blm time",
         "_deepnote_index_column": 83
        },
        {
         "Datetime": "2016-01",
         "Text": "version blm precinct shout brother ali dear black son capella  via",
         "_deepnote_index_column": 84
        },
        {
         "Datetime": "2016-01",
         "Text": "truth behind policebrutality investigations ",
         "_deepnote_index_column": 85
        },
        {
         "Datetime": "2016-01",
         "Text": "honour police brutality sgt shamar thomas  ",
         "_deepnote_index_column": 86
        },
        {
         "Datetime": "2016-01",
         "Text": "mments evangelical christians saying lives matter calling blm activists thugs bet ",
         "_deepnote_index_column": 87
        },
        {
         "Datetime": "2016-01",
         "Text": "light shed ian murdock police brutality claims  fqmtrnnaya",
         "_deepnote_index_column": 88
        },
        {
         "Datetime": "2016-01",
         "Text": "leave police brutality bullshit fucking wards",
         "_deepnote_index_column": 89
        },
        {
         "Datetime": "2016-01",
         "Text": "dc ends homicide spike dcmurders police brutality staffing blacklivesmatter watch ",
         "_deepnote_index_column": 90
        },
        {
         "Datetime": "2016-01",
         "Text": "ntemplating activist police brutality illegal arrest watching pmb nta forced withdraw",
         "_deepnote_index_column": 91
        },
        {
         "Datetime": "2016-01",
         "Text": "live dc shuttin sandrabland tamirrice blm via  mqyogdblhy ",
         "_deepnote_index_column": 92
        },
        {
         "Datetime": "2016-01",
         "Text": "official goodiesny blm riliskah",
         "_deepnote_index_column": 93
        },
        {
         "Datetime": "2016-01",
         "Text": "u always terrorist organz agnst blk ppl slavery jimcrow policebrutality  blacklivesmatter",
         "_deepnote_index_column": 94
        },
        {
         "Datetime": "2016-01",
         "Text": "please stop police brutality",
         "_deepnote_index_column": 95
        },
        {
         "Datetime": "2016-01",
         "Text": "song tell truth police brutality amp heard cry let us help change law ",
         "_deepnote_index_column": 96
        },
        {
         "Datetime": "2016-01",
         "Text": "ortiz dangerous rrupt p well known blacklivesmatter tamirrice blm",
         "_deepnote_index_column": 97
        },
        {
         "Datetime": "2016-01",
         "Text": "job public activist every single cause actually tweeted police brutality",
         "_deepnote_index_column": 98
        },
        {
         "Datetime": "2016-01",
         "Text": "happy new year sappiest self proclaimed stronkest blm ever meet w",
         "_deepnote_index_column": 99
        },
        {
         "Datetime": "2016-01",
         "Text": "song tell truth police brutality amp heard cry let us help change law ",
         "_deepnote_index_column": 100
        },
        {
         "Datetime": "2016-01",
         "Text": "song tell truth police brutality amp heard cry let us help change law ",
         "_deepnote_index_column": 101
        },
        {
         "Datetime": "2016-01",
         "Text": "one said right protest sick blm hypocritical crap",
         "_deepnote_index_column": 102
        },
        {
         "Datetime": "2016-01",
         "Text": "blm folow",
         "_deepnote_index_column": 103
        },
        {
         "Datetime": "2016-01",
         "Text": "song tell truth police brutality amp heard cry let us help change law ",
         "_deepnote_index_column": 104
        },
        {
         "Datetime": "2016-01",
         "Text": "rothman rahmemanuel problem police brutality democrats ",
         "_deepnote_index_column": 105
        },
        {
         "Datetime": "2016-01",
         "Text": "song tell truth police brutality amp heard cry let us help change law ",
         "_deepnote_index_column": 106
        },
        {
         "Datetime": "2016-01",
         "Text": "song tell truth police brutality amp heard cry let us help change law ",
         "_deepnote_index_column": 107
        },
        {
         "Datetime": "2016-01",
         "Text": "song tell truth police brutality amp heard cry let us help change law ",
         "_deepnote_index_column": 108
        },
        {
         "Datetime": "2016-01",
         "Text": "song tell truth police brutality amp heard cry let us help change law ",
         "_deepnote_index_column": 109
        },
        {
         "Datetime": "2016-01",
         "Text": "song tell truth police brutality amp heard cry let us help change law ",
         "_deepnote_index_column": 110
        },
        {
         "Datetime": "2016-01",
         "Text": "song tell truth police brutality amp heard cry let us help change law ",
         "_deepnote_index_column": 111
        },
        {
         "Datetime": "2016-01",
         "Text": "song tell truth police brutality amp heard cry  nmodqqrpcn",
         "_deepnote_index_column": 112
        },
        {
         "Datetime": "2016-01",
         "Text": "song tell truth police brutality amp heard cry let us help change law ",
         "_deepnote_index_column": 113
        },
        {
         "Datetime": "2016-01",
         "Text": "vering mummers tomorrow read blm protesting",
         "_deepnote_index_column": 114
        },
        {
         "Datetime": "2016-01",
         "Text": "song tell truth police brutality amp heard cry let us help change law ",
         "_deepnote_index_column": 115
        },
        {
         "Datetime": "2016-01",
         "Text": "anti gun violence anti police brutality protest downtown today caps  mkouvvfgvr ",
         "_deepnote_index_column": 116
        },
        {
         "Datetime": "2016-01",
         "Text": "wish uld leave racism police brutality blacklivesmatter",
         "_deepnote_index_column": 117
        },
        {
         "Datetime": "2016-01",
         "Text": "wish female amp poc protagonists movies gun ntrol less police brutality amp abs",
         "_deepnote_index_column": 118
        },
        {
         "Datetime": "2016-01",
         "Text": "certain blm celeb posted chart quote police slightly likely killed umpires cannot find source",
         "_deepnote_index_column": 119
        },
        {
         "Datetime": "2016-01",
         "Text": "finally white racist sick watching blm racism whites ps year finally found white racist bravo",
         "_deepnote_index_column": 120
        },
        {
         "Datetime": "2016-01",
         "Text": "black lives matter unless black woman got raped bill sby nscious defenders blacklivesmatter blm",
         "_deepnote_index_column": 121
        },
        {
         "Datetime": "2016-01",
         "Text": "hahaha blm keeps bringing old shit",
         "_deepnote_index_column": 122
        },
        {
         "Datetime": "2016-01",
         "Text": "fight institutionalized racism amp police brutality impunity rapists time",
         "_deepnote_index_column": 123
        },
        {
         "Datetime": "2016-01",
         "Text": "song tell truth police brutality amp heard cry let us help ",
         "_deepnote_index_column": 124
        },
        {
         "Datetime": "2016-01",
         "Text": "hate say pretty sure gonna another victim police brutality tonight",
         "_deepnote_index_column": 125
        },
        {
         "Datetime": "2016-01",
         "Text": "things stay police brutality dead brown black boys girls men women nomorehate",
         "_deepnote_index_column": 126
        },
        {
         "Datetime": "2016-01",
         "Text": "mom loves blm",
         "_deepnote_index_column": 127
        },
        {
         "Datetime": "2016-01",
         "Text": "software pioneer ian murdock dead extraordinary police brutality claims breitbart  via",
         "_deepnote_index_column": 128
        },
        {
         "Datetime": "2016-01",
         "Text": "solarpower news solar blm touts greater sage grouse protection among achievements via ",
         "_deepnote_index_column": 129
        },
        {
         "Datetime": "2016-01",
         "Text": "agree point article challenges blm everyone else ignores deaths",
         "_deepnote_index_column": 130
        },
        {
         "Datetime": "2016-01",
         "Text": "morning shake today blm pernah minum shake herbalife ga kekinian bngt ",
         "_deepnote_index_column": 131
        },
        {
         "Datetime": "2016-01",
         "Text": "must brice lol",
         "_deepnote_index_column": 132
        },
        {
         "Datetime": "2016-01",
         "Text": "rt solarenergydude solarpower news solar blm touts greater sage grouse protection among achievement…",
         "_deepnote_index_column": 133
        },
        {
         "Datetime": "2016-01",
         "Text": "ffxiv eating hours personally work setting stream cusp blm",
         "_deepnote_index_column": 134
        },
        {
         "Datetime": "2016-01",
         "Text": "prayers thoughts lhs hope investigation police brutality",
         "_deepnote_index_column": 135
        },
        {
         "Datetime": "2016-01",
         "Text": "nservatives forget boytt quentin tarantino movie needs know support blm amp ndemnation police unacc…",
         "_deepnote_index_column": 136
        },
        {
         "Datetime": "2016-01",
         "Text": "hahahaha dad ranting police brutality real guns kill people love home",
         "_deepnote_index_column": 137
        },
        {
         "Datetime": "2016-01",
         "Text": "real urage black p speaks police brutality ",
         "_deepnote_index_column": 138
        },
        {
         "Datetime": "2016-01",
         "Text": "clear protesters vastly different rioters looters later blm started",
         "_deepnote_index_column": 139
        },
        {
         "Datetime": "2016-01",
         "Text": "wait makes blacks gangs killing innocent blacks different blm caring ok",
         "_deepnote_index_column": 140
        },
        {
         "Datetime": "2016-01",
         "Text": "tamirrice killed whiteamerica irrational fear black boys steven w thrasher  atrdtcjvaj blm",
         "_deepnote_index_column": 141
        },
        {
         "Datetime": "2016-01",
         "Text": "seems certain black lives matter blm grimy al sharpton",
         "_deepnote_index_column": 142
        },
        {
         "Datetime": "2016-01",
         "Text": "young black men killed us police highest rate year deaths  icvsnsduol blm",
         "_deepnote_index_column": 143
        },
        {
         "Datetime": "2016-01",
         "Text": "fly high everyone lost life due police brutality",
         "_deepnote_index_column": 144
        },
        {
         "Datetime": "2016-01",
         "Text": "hopefully leave police brutality",
         "_deepnote_index_column": 145
        },
        {
         "Datetime": "2016-01",
         "Text": "kid n play returned lumnist like telling blm focus mmunities first ",
         "_deepnote_index_column": 146
        },
        {
         "Datetime": "2016-01",
         "Text": "mother said police brutality really road head along asked sister ya mama sendhelp",
         "_deepnote_index_column": 147
        },
        {
         "Datetime": "2016-01",
         "Text": "ta nehisi ates police brutality nfederate flag forgiveness happy new year etonemasterships",
         "_deepnote_index_column": 148
        },
        {
         "Datetime": "2016-01",
         "Text": "rip lives lost due police brutality year",
         "_deepnote_index_column": 149
        },
        {
         "Datetime": "2016-01",
         "Text": "blm gonna protest murders tyshawnlee aliyahshell shot ps ",
         "_deepnote_index_column": 150
        },
        {
         "Datetime": "2016-01",
         "Text": "kid returned lumnist like telling blm focus mmunities first ",
         "_deepnote_index_column": 151
        },
        {
         "Datetime": "2016-01",
         "Text": "really see way pretty sure blm would love something else higher calling",
         "_deepnote_index_column": 152
        },
        {
         "Datetime": "2016-01",
         "Text": "passenger started reached destination blm time ",
         "_deepnote_index_column": 153
        },
        {
         "Datetime": "2016-01",
         "Text": "go check three songs asap ay police brutality truth thanks play music obeezy ",
         "_deepnote_index_column": 154
        },
        {
         "Datetime": "2016-01",
         "Text": "events exposed racial tensions us starting w policebrutality amp massincarceration moralmondayct ",
         "_deepnote_index_column": 155
        },
        {
         "Datetime": "2016-01",
         "Text": "new blm regulations mean new mexi based oil producers  ",
         "_deepnote_index_column": 156
        },
        {
         "Datetime": "2016-01",
         "Text": "past blm abuses next chapter burns january grass march nevada may  via",
         "_deepnote_index_column": 157
        },
        {
         "Datetime": "2016-01",
         "Text": "think whats blm askin acuntability thats aint callin dead ps",
         "_deepnote_index_column": 158
        },
        {
         "Datetime": "2016-01",
         "Text": "thought talking black lives know blm hypocrites",
         "_deepnote_index_column": 159
        },
        {
         "Datetime": "2016-01",
         "Text": "umkay guess blm important role model kids ming get grip  jhytioqucb",
         "_deepnote_index_column": 160
        },
        {
         "Datetime": "2016-01",
         "Text": "citizen videos sharpen debate police nduct  policebrutality yearinreview thewholeworldiswatching",
         "_deepnote_index_column": 161
        },
        {
         "Datetime": "2016-01",
         "Text": "lol sounded like something would say knew would agree reminded nvos blm mvm",
         "_deepnote_index_column": 162
        },
        {
         "Datetime": "2016-01",
         "Text": "ps beat mother amp daughter participating blm protest  via",
         "_deepnote_index_column": 163
        },
        {
         "Datetime": "2016-01",
         "Text": "pissed police brutality",
         "_deepnote_index_column": 164
        },
        {
         "Datetime": "2016-01",
         "Text": "goes followers app forces unfollowed even follow way hell support blm ",
         "_deepnote_index_column": 165
        },
        {
         "Datetime": "2016-01",
         "Text": "closing damages article leave largest active involved family muslims supporting blm noi",
         "_deepnote_index_column": 166
        },
        {
         "Datetime": "2016-01",
         "Text": "chicago mayor solution killing ps tasers right ps tase death rahmemanuel blm ",
         "_deepnote_index_column": 167
        },
        {
         "Datetime": "2016-01",
         "Text": "roof would hav fixed maybe mmunity oddly blood family remember blm",
         "_deepnote_index_column": 168
        },
        {
         "Datetime": "2016-01",
         "Text": "none superpacs gop hillary r public good r private profit uniteblue blm rt ",
         "_deepnote_index_column": 169
        },
        {
         "Datetime": "2016-01",
         "Text": "impossible acmplish one goal sure blm leaders would agree lot work easy",
         "_deepnote_index_column": 170
        },
        {
         "Datetime": "2016-01",
         "Text": "time wanna see hashtag tl blm never support hate cults",
         "_deepnote_index_column": 171
        },
        {
         "Datetime": "2016-01",
         "Text": "let us clear racist like racists ps scared job blm",
         "_deepnote_index_column": 172
        },
        {
         "Datetime": "2016-01",
         "Text": "sure really talking since villanize blm hrc etc",
         "_deepnote_index_column": 173
        },
        {
         "Datetime": "2016-01",
         "Text": "sure one black killed another blm racist group",
         "_deepnote_index_column": 174
        },
        {
         "Datetime": "2016-01",
         "Text": "lol happy new year blm blacklivesmatter alllivesmatter  vqdozlsibt",
         "_deepnote_index_column": 175
        },
        {
         "Datetime": "2016-01",
         "Text": "ps beat mother amp daughter participating blm protest  xnizlymebr via",
         "_deepnote_index_column": 176
        },
        {
         "Datetime": "2016-01",
         "Text": "sir supporter blm though stay lane focus educating white people",
         "_deepnote_index_column": 177
        },
        {
         "Datetime": "2016-01",
         "Text": "liked video  breaking message marine jon ritzheimer blm alert",
         "_deepnote_index_column": 178
        },
        {
         "Datetime": "2016-01",
         "Text": "novel idea blm focused black gangs drugs admit responsible almost murders",
         "_deepnote_index_column": 179
        },
        {
         "Datetime": "2016-01",
         "Text": "would suggest blm lead others ignored back important murdered kids",
         "_deepnote_index_column": 180
        },
        {
         "Datetime": "2016-01",
         "Text": "ways fight police brutality ",
         "_deepnote_index_column": 181
        },
        {
         "Datetime": "2016-01",
         "Text": "florida city p murders dog feet innocent family graphic violence police brutality ",
         "_deepnote_index_column": 182
        },
        {
         "Datetime": "2016-01",
         "Text": "police reform blm arrest black person anything ever racist",
         "_deepnote_index_column": 183
        },
        {
         "Datetime": "2016-01",
         "Text": "talking police brutality black people see report trans woman killed",
         "_deepnote_index_column": 184
        },
        {
         "Datetime": "2016-01",
         "Text": "time see trying silence black people bring police brutality",
         "_deepnote_index_column": 185
        },
        {
         "Datetime": "2016-01",
         "Text": "ways fight police brutality ",
         "_deepnote_index_column": 186
        },
        {
         "Datetime": "2016-01",
         "Text": "arab muslims even return greetings black muslims n amerikkka supportive blm please aware amp careful",
         "_deepnote_index_column": 187
        },
        {
         "Datetime": "2016-01",
         "Text": "expecting blm show moment fuck festivities  tuvfluxqqz",
         "_deepnote_index_column": 188
        },
        {
         "Datetime": "2016-01",
         "Text": "r p lives lost charlestonshooting parisattacks policebrutality syria nigeria",
         "_deepnote_index_column": 189
        },
        {
         "Datetime": "2016-01",
         "Text": "police brutality shooting unarmed people lors ",
         "_deepnote_index_column": 190
        },
        {
         "Datetime": "2016-01",
         "Text": "oh hate liars think white supremacist nebraskan grandmas embed blm gather intel",
         "_deepnote_index_column": 191
        },
        {
         "Datetime": "2016-01",
         "Text": "judging young ming gentlemen rape burn young white woman blm ",
         "_deepnote_index_column": 192
        },
        {
         "Datetime": "2016-01",
         "Text": "arab muslims sell black mmunity pork fornication pills rubbers alhol amp never support hoods blm th…",
         "_deepnote_index_column": 193
        },
        {
         "Datetime": "2016-01",
         "Text": "gosh wonder caught civilian murderers blm",
         "_deepnote_index_column": 194
        },
        {
         "Datetime": "2016-01",
         "Text": " via inners funds millions dollars policebrutality payouts",
         "_deepnote_index_column": 195
        },
        {
         "Datetime": "2016-01",
         "Text": "ways fight police brutality ",
         "_deepnote_index_column": 196
        },
        {
         "Datetime": "2016-01",
         "Text": "chicago newly released emails reveal ordination teen death laquanmcdonald blm  via",
         "_deepnote_index_column": 197
        },
        {
         "Datetime": "2016-01",
         "Text": "protesting exactly support blm gone circles tonight",
         "_deepnote_index_column": 198
        },
        {
         "Datetime": "2016-01",
         "Text": "blm rioters looters remember ferguson baltimore etc",
         "_deepnote_index_column": 199
        },
        {
         "Datetime": "2016-01",
         "Text": "hell blm leaders calling racist attacks whites attacking whites uple cases kill",
         "_deepnote_index_column": 200
        },
        {
         "Datetime": "2016-01",
         "Text": " maybe blm students see rediculous demands doulbt alllivesmatter",
         "_deepnote_index_column": 201
        },
        {
         "Datetime": "2016-01",
         "Text": "policing different pre militarization amp alternatives around blm notes",
         "_deepnote_index_column": 202
        },
        {
         "Datetime": "2016-01",
         "Text": "still answered question makes addressing issues prerequisite protesting police brutality",
         "_deepnote_index_column": 203
        },
        {
         "Datetime": "2016-01",
         "Text": "guess cia backed plants make look like blm criminals seems legit",
         "_deepnote_index_column": 204
        },
        {
         "Datetime": "2016-01",
         "Text": "hope new year act silenceisviolence blm blacklivesmatter ",
         "_deepnote_index_column": 205
        },
        {
         "Datetime": "2016-01",
         "Text": "philly alition real justice amp blm call racist mummers parade newyearsday ",
         "_deepnote_index_column": 206
        },
        {
         "Datetime": "2016-01",
         "Text": "things actually go police brutality gun violence racism donald trump",
         "_deepnote_index_column": 207
        },
        {
         "Datetime": "2016-01",
         "Text": "sure loud blasts going near house fireworks police brutality",
         "_deepnote_index_column": 208
        },
        {
         "Datetime": "2016-01",
         "Text": "young black men killed ps highest rate deaths blm ",
         "_deepnote_index_column": 209
        },
        {
         "Datetime": "2016-01",
         "Text": "maybe responsible parents would monitor behavior special needs kid blm",
         "_deepnote_index_column": 210
        },
        {
         "Datetime": "2016-01",
         "Text": "show blm criminals show",
         "_deepnote_index_column": 211
        },
        {
         "Datetime": "2016-01",
         "Text": "many folks use article justify hating blm protesters care murdered kids",
         "_deepnote_index_column": 212
        },
        {
         "Datetime": "2016-01",
         "Text": "makes sense lol show blm protesters looted vandalized google",
         "_deepnote_index_column": 213
        },
        {
         "Datetime": "2016-01",
         "Text": "great website gt  check sometime blm",
         "_deepnote_index_column": 214
        },
        {
         "Datetime": "2016-01",
         "Text": "police brutality needs left cannot afford lose another black king queen",
         "_deepnote_index_column": 215
        },
        {
         "Datetime": "2016-01",
         "Text": "journalism straightouttampton talking police brutality shout old school ",
         "_deepnote_index_column": 216
        },
        {
         "Datetime": "2016-01",
         "Text": "horrendous example double standard apart blm would protesting",
         "_deepnote_index_column": 217
        },
        {
         "Datetime": "2016-01",
         "Text": "ha give away every time open mouth blm stooge next time prepare gone",
         "_deepnote_index_column": 218
        },
        {
         "Datetime": "2016-01",
         "Text": "large number matter though shows blm riot loot claims invalid period",
         "_deepnote_index_column": 219
        },
        {
         "Datetime": "2016-01",
         "Text": "journalism straightouttampton talking police brutality shout old school ",
         "_deepnote_index_column": 220
        },
        {
         "Datetime": "2016-01",
         "Text": "people home unbelievably uneducated police brutality get asked riots chicago one time swear",
         "_deepnote_index_column": 221
        },
        {
         "Datetime": "2016-01",
         "Text": "break jail claim police brutality",
         "_deepnote_index_column": 222
        },
        {
         "Datetime": "2016-01",
         "Text": "isis blm blackflag hoisted chicago citywide walkout cauterize  vexmglkkbx",
         "_deepnote_index_column": 223
        },
        {
         "Datetime": "2016-01",
         "Text": "spare thought families loved ones people entering police brutality send love",
         "_deepnote_index_column": 224
        },
        {
         "Datetime": "2016-01",
         "Text": "asthepdforthenewamericanewsnet ivowwewillneverver blm bp burntheb hdown llletmsm fox",
         "_deepnote_index_column": 225
        },
        {
         "Datetime": "2016-01",
         "Text": "bruh fucking kidding gone lock bill old pussy blm wtf ",
         "_deepnote_index_column": 226
        },
        {
         "Datetime": "2016-01",
         "Text": "explain support deference blm",
         "_deepnote_index_column": 227
        },
        {
         "Datetime": "2016-01",
         "Text": "bet klanwithatan mean blm",
         "_deepnote_index_column": 228
        },
        {
         "Datetime": "2016-01",
         "Text": "boytt whole foods horses rounded disappeared blm slaughter wfs buying beef ranchers",
         "_deepnote_index_column": 229
        },
        {
         "Datetime": "2016-01",
         "Text": "things leave police brutality",
         "_deepnote_index_column": 230
        },
        {
         "Datetime": "2016-01",
         "Text": "least popular baby names bill cale police brutality",
         "_deepnote_index_column": 231
        },
        {
         "Datetime": "2016-01",
         "Text": "leave police brutality",
         "_deepnote_index_column": 232
        },
        {
         "Datetime": "2016-01",
         "Text": "blm palomino valley wild horse amp burro holding facility looks like ghost town  via",
         "_deepnote_index_column": 233
        },
        {
         "Datetime": "2016-01",
         "Text": "blm palomino valley wild horse amp burro holding facility looks like ghost town  via",
         "_deepnote_index_column": 234
        },
        {
         "Datetime": "2016-01",
         "Text": "gun violence police brutality saying platform many moons obama alone ",
         "_deepnote_index_column": 235
        },
        {
         "Datetime": "2016-01",
         "Text": "blm wyoming wild horse facility closed temporarily  via",
         "_deepnote_index_column": 236
        },
        {
         "Datetime": "2016-01",
         "Text": "happy new year  top stars  phokrlvoja king cli police brutality  ndjzjhmlro",
         "_deepnote_index_column": 237
        },
        {
         "Datetime": "2016-01",
         "Text": "police brutality part bet real right",
         "_deepnote_index_column": 238
        },
        {
         "Datetime": "2016-01",
         "Text": "wonder blm folks know blm racist lives matter",
         "_deepnote_index_column": 239
        },
        {
         "Datetime": "2016-01",
         "Text": "ima need police brutality",
         "_deepnote_index_column": 240
        },
        {
         "Datetime": "2016-01",
         "Text": "gop ticket anything lose honest amp wise uniteblue blm rt ",
         "_deepnote_index_column": 241
        },
        {
         "Datetime": "2016-01",
         "Text": "minors legally defined sex trafficking victims trust police policebrutality humantrafficking ",
         "_deepnote_index_column": 242
        },
        {
         "Datetime": "2016-01",
         "Text": "light shed ian murdock police brutality claims ",
         "_deepnote_index_column": 243
        },
        {
         "Datetime": "2016-01",
         "Text": "seen blm supporters disown mlk simply many white ppl like",
         "_deepnote_index_column": 244
        },
        {
         "Datetime": "2016-01",
         "Text": "live hammondranch blm tyranny ",
         "_deepnote_index_column": 245
        },
        {
         "Datetime": "2016-01",
         "Text": "civil war police brutality amp numerous minority deaths ",
         "_deepnote_index_column": 246
        },
        {
         "Datetime": "2016-01",
         "Text": "soros backed progressive activist cannot wait blm types block polling stations",
         "_deepnote_index_column": 247
        },
        {
         "Datetime": "2016-01",
         "Text": "hillary clinton strategies end police brutality amp systemic racism  via",
         "_deepnote_index_column": 248
        },
        {
         "Datetime": "2016-01",
         "Text": "national lawyers guild portland appeal doj police brutality settle  via",
         "_deepnote_index_column": 249
        }
       ],
       "rows_bottom": [
        {
         "Datetime": "2016-12",
         "Text": "terrible lot reasons outside personal life police brutality trump inic deaths etc etc",
         "_deepnote_index_column": 1048286
        },
        {
         "Datetime": "2016-12",
         "Text": "lol ai ios ion als blm lmfao andy samberg dreams inspirational inspire believe  ",
         "_deepnote_index_column": 1048287
        },
        {
         "Datetime": "2016-12",
         "Text": "lol ai ios ion als blm lmfao dance dancing fox drinking new girl alhol boun  ",
         "_deepnote_index_column": 1048288
        },
        {
         "Datetime": "2016-12",
         "Text": "gay haters attack animalabuse policebrutality  kidnapped amp murdered cats",
         "_deepnote_index_column": 1048289
        },
        {
         "Datetime": "2016-12",
         "Text": "uld fit blm tweet left activist",
         "_deepnote_index_column": 1048290
        },
        {
         "Datetime": "2016-12",
         "Text": "acunt temporarily unavailable violates twitter media policy learn",
         "_deepnote_index_column": 1048291
        },
        {
         "Datetime": "2016-12",
         "Text": "makes endearing justifies police brutality fool",
         "_deepnote_index_column": 1048292
        },
        {
         "Datetime": "2016-12",
         "Text": "fair favorite smn blm chest glamour also kind specific look",
         "_deepnote_index_column": 1048293
        },
        {
         "Datetime": "2016-12",
         "Text": "next horse blm mustang",
         "_deepnote_index_column": 1048294
        },
        {
         "Datetime": "2016-12",
         "Text": "lol ai ios ion als blm lmfao happy new year ghostbusters bill murray ghostbuster  ",
         "_deepnote_index_column": 1048295
        },
        {
         "Datetime": "2016-12",
         "Text": "added video playlist  jason riley heard enough president blm",
         "_deepnote_index_column": 1048296
        },
        {
         "Datetime": "2016-12",
         "Text": "like blm",
         "_deepnote_index_column": 1048297
        },
        {
         "Datetime": "2016-12",
         "Text": "blm anti war ntingent dem party show republicans make renew utilise bernieorbust",
         "_deepnote_index_column": 1048298
        },
        {
         "Datetime": "2016-12",
         "Text": "yea blm never care year old",
         "_deepnote_index_column": 1048299
        },
        {
         "Datetime": "2016-12",
         "Text": "blm organization good cause done anything help problem whatsoever",
         "_deepnote_index_column": 1048300
        },
        {
         "Datetime": "2016-12",
         "Text": "uploaded new episode new years resolutions illegal immigration blm spreaker blacklivesmatter radio ",
         "_deepnote_index_column": 1048301
        },
        {
         "Datetime": "2016-12",
         "Text": "me join left behind bigolive gt blm tidur  ",
         "_deepnote_index_column": 1048302
        },
        {
         "Datetime": "2016-12",
         "Text": "liked video  jidenna goes fake ogs african diaspora amp police brutality",
         "_deepnote_index_column": 1048303
        },
        {
         "Datetime": "2016-12",
         "Text": "blm grassroots movement thousands people official organizational structure",
         "_deepnote_index_column": 1048304
        },
        {
         "Datetime": "2016-12",
         "Text": "realracism heartbreaking blacklivesmatter bs poor crap criminals mplain go shoot ps theyve never me…",
         "_deepnote_index_column": 1048305
        },
        {
         "Datetime": "2016-12",
         "Text": "blacklivesmatter say blm crickets",
         "_deepnote_index_column": 1048306
        },
        {
         "Datetime": "2016-12",
         "Text": "well racist blm supporters advance hands shoot amp disrespect flag",
         "_deepnote_index_column": 1048307
        },
        {
         "Datetime": "2016-12",
         "Text": "think declare aclu blm terrorist supporting organisations nation god go home",
         "_deepnote_index_column": 1048308
        },
        {
         "Datetime": "2016-12",
         "Text": "ask answer blm terrorists also one saying trump",
         "_deepnote_index_column": 1048309
        },
        {
         "Datetime": "2016-12",
         "Text": "blm rs agents isis muslim terrorists amp classified eat pig shit cause thats spew",
         "_deepnote_index_column": 1048310
        },
        {
         "Datetime": "2016-12",
         "Text": "city admin supports blm deserves suffer ferguson effect",
         "_deepnote_index_column": 1048311
        },
        {
         "Datetime": "2016-12",
         "Text": "deaths celebrities people grew makes mortality feel much close amp real also racism police brutalit…",
         "_deepnote_index_column": 1048312
        },
        {
         "Datetime": "2016-12",
         "Text": "blm gets want results disturbing ",
         "_deepnote_index_column": 1048313
        },
        {
         "Datetime": "2016-12",
         "Text": "addie mae llins one four birmingham girls blm  zravpbkyjb via",
         "_deepnote_index_column": 1048314
        },
        {
         "Datetime": "2016-12",
         "Text": "st louis mo ngressional art ntest winner depicts police brutality protests ",
         "_deepnote_index_column": 1048315
        },
        {
         "Datetime": "2016-12",
         "Text": "save date sourcenation live wed thependulum newshow racism policebrutality africanamericans dialogu…",
         "_deepnote_index_column": 1048316
        },
        {
         "Datetime": "2016-12",
         "Text": "piece remembering fell police brutality violence year  ",
         "_deepnote_index_column": 1048317
        },
        {
         "Datetime": "2016-12",
         "Text": "yes mostly black black pantywaist girlyman hides fiddles city burns blm",
         "_deepnote_index_column": 1048318
        },
        {
         "Datetime": "2016-12",
         "Text": "mean like trump supporters blm use violence",
         "_deepnote_index_column": 1048319
        },
        {
         "Datetime": "2016-12",
         "Text": "credit blame chicago crime disrespect law enforcement falls blm dems obama ag holder",
         "_deepnote_index_column": 1048320
        },
        {
         "Datetime": "2016-12",
         "Text": "learn obey police mmands arizona man claims police brutality body camera captures officer pushing ",
         "_deepnote_index_column": 1048321
        },
        {
         "Datetime": "2016-12",
         "Text": "blm feels like hostage crisis demands actionable things",
         "_deepnote_index_column": 1048322
        },
        {
         "Datetime": "2016-12",
         "Text": "r different kkk teach hate non blacks amp r irresponsible kkk hate mongers",
         "_deepnote_index_column": 1048323
        },
        {
         "Datetime": "2016-12",
         "Text": "wonder sick blm anti police rhetoric ",
         "_deepnote_index_column": 1048324
        },
        {
         "Datetime": "2016-12",
         "Text": "white supporting blm black people ntradiction supporting hbcus making pwi choice",
         "_deepnote_index_column": 1048325
        },
        {
         "Datetime": "2016-12",
         "Text": "blm standing rock etc",
         "_deepnote_index_column": 1048326
        },
        {
         "Datetime": "2016-12",
         "Text": "blm role models burn stuff dont blah blah blah",
         "_deepnote_index_column": 1048327
        },
        {
         "Datetime": "2016-12",
         "Text": "lol ai ios ion als blm lmfao explosion explode new years last week tonight  ",
         "_deepnote_index_column": 1048328
        },
        {
         "Datetime": "2016-12",
         "Text": "support support benandjerrys icecream blacklivesmatter blm peace ",
         "_deepnote_index_column": 1048329
        },
        {
         "Datetime": "2016-12",
         "Text": "arizona man claims police brutality body camera captures officer pushing ground yahoo ",
         "_deepnote_index_column": 1048330
        },
        {
         "Datetime": "2016-12",
         "Text": "black ppl police black mmunities history police brutality black ppl forced protect",
         "_deepnote_index_column": 1048331
        },
        {
         "Datetime": "2016-12",
         "Text": "dems blm celebrating",
         "_deepnote_index_column": 1048332
        },
        {
         "Datetime": "2016-12",
         "Text": "gonna blame blm nah",
         "_deepnote_index_column": 1048333
        },
        {
         "Datetime": "2016-12",
         "Text": "forget p suicide blamed blm amp movement ",
         "_deepnote_index_column": 1048334
        },
        {
         "Datetime": "2016-12",
         "Text": "like support blm enurages violence police obama traitor abiding working americans boytt nbc unless …",
         "_deepnote_index_column": 1048335
        },
        {
         "Datetime": "2016-12",
         "Text": "seems like since trump selected stop showing police brutality ",
         "_deepnote_index_column": 1048336
        },
        {
         "Datetime": "2016-12",
         "Text": "racist police brutality lgbt issue ",
         "_deepnote_index_column": 1048337
        },
        {
         "Datetime": "2016-12",
         "Text": "saw blm shirts walmart lol",
         "_deepnote_index_column": 1048338
        },
        {
         "Datetime": "2016-12",
         "Text": "arizona man claims police brutality body camera captures officer pushing ground  aipompneek ",
         "_deepnote_index_column": 1048339
        },
        {
         "Datetime": "2016-12",
         "Text": "lol ai ios ion als blm lmfao movie dance film dancing party medy retro   lkrkgjxdgv",
         "_deepnote_index_column": 1048340
        },
        {
         "Datetime": "2016-12",
         "Text": "mean blm throw rocks throw way",
         "_deepnote_index_column": 1048341
        },
        {
         "Datetime": "2016-12",
         "Text": "break jail claim police brutality",
         "_deepnote_index_column": 1048342
        },
        {
         "Datetime": "2016-12",
         "Text": "solarenergy blm rensiders solar energy zone ",
         "_deepnote_index_column": 1048343
        },
        {
         "Datetime": "2016-12",
         "Text": "celebrities die bad year someone forgot election police brutality syrian refugee crisis amp martin …",
         "_deepnote_index_column": 1048344
        },
        {
         "Datetime": "2016-12",
         "Text": "mother blm arn destroy usa democratic party u ",
         "_deepnote_index_column": 1048345
        },
        {
         "Datetime": "2016-12",
         "Text": "talib hypocrite bruh preaching blm believe yo self bruh god knows lyin karmas min",
         "_deepnote_index_column": 1048346
        },
        {
         "Datetime": "2016-12",
         "Text": "yes done bringing nation together like backing veterans police officers urse ndeming blm",
         "_deepnote_index_column": 1048347
        },
        {
         "Datetime": "2016-12",
         "Text": "arizona man claims police brutality body camera captures officer pushing abc news  via",
         "_deepnote_index_column": 1048348
        },
        {
         "Datetime": "2016-12",
         "Text": "blm stand black lives matter bigoted liberal media makes think",
         "_deepnote_index_column": 1048349
        },
        {
         "Datetime": "2016-12",
         "Text": "park ranger firefighter engineer blm jobs open oregon right apply  hiring jobs ",
         "_deepnote_index_column": 1048350
        },
        {
         "Datetime": "2016-12",
         "Text": "means mmitted blm",
         "_deepnote_index_column": 1048351
        },
        {
         "Datetime": "2016-12",
         "Text": "chicago hit worst violence nearly years someone tell obama amp blm oh blk blk fit story ",
         "_deepnote_index_column": 1048352
        },
        {
         "Datetime": "2016-12",
         "Text": "said civil rights moment famous nonviolent protests unlike blm calls dead ps read much",
         "_deepnote_index_column": 1048353
        },
        {
         "Datetime": "2016-12",
         "Text": "gay agenda explained rey holmb show  via blm mlk noi uk brockturner obama",
         "_deepnote_index_column": 1048354
        },
        {
         "Datetime": "2016-12",
         "Text": "acunt ps killed blm qualify terrorist hate group",
         "_deepnote_index_column": 1048355
        },
        {
         "Datetime": "2016-12",
         "Text": "funny hypocritical mparison like blm saying ps bad die fry acts based false narrative ",
         "_deepnote_index_column": 1048356
        },
        {
         "Datetime": "2016-12",
         "Text": "final oped via blm offshoot embraces anti semitism engages terrorists ",
         "_deepnote_index_column": 1048357
        },
        {
         "Datetime": "2016-12",
         "Text": "blm  opted ola amp turned hate crime tbh",
         "_deepnote_index_column": 1048358
        },
        {
         "Datetime": "2016-12",
         "Text": "hells canyon wilderness area idaho established day idahome trailmob  pc blm ",
         "_deepnote_index_column": 1048359
        },
        {
         "Datetime": "2016-12",
         "Text": "lol ai ios ion als blm lmfao tv happy fun party birthday excited celebration   adzgzympzs",
         "_deepnote_index_column": 1048360
        },
        {
         "Datetime": "2016-12",
         "Text": "would say blacks regards blm plenty poc support movement amp violence",
         "_deepnote_index_column": 1048361
        },
        {
         "Datetime": "2016-12",
         "Text": "hells canyon wilderness area idaho established day idahome trailmob  pc blm  eizdfuhcaw",
         "_deepnote_index_column": 1048362
        },
        {
         "Datetime": "2016-12",
         "Text": "boredom ha joke like rest bullshit nyt probably stupid blm strategy disruption",
         "_deepnote_index_column": 1048363
        },
        {
         "Datetime": "2016-12",
         "Text": "pretty sweet ones later one favorite ones blm lt ",
         "_deepnote_index_column": 1048364
        },
        {
         "Datetime": "2016-12",
         "Text": "honey dallas people gave blm chance got dead ps blm cheered change mind",
         "_deepnote_index_column": 1048365
        },
        {
         "Datetime": "2016-12",
         "Text": "paid show blm funded white liberals",
         "_deepnote_index_column": 1048366
        },
        {
         "Datetime": "2016-12",
         "Text": "real read thread blm canada inspiration deserves attention dismissal ",
         "_deepnote_index_column": 1048367
        },
        {
         "Datetime": "2016-12",
         "Text": "fair capitalism sole reason failure chicago gentrification still blm",
         "_deepnote_index_column": 1048368
        },
        {
         "Datetime": "2016-12",
         "Text": "blm great work ",
         "_deepnote_index_column": 1048369
        },
        {
         "Datetime": "2016-12",
         "Text": "obama chirping la la land pandering evil trump facing real dangers islamic terrorism borders blm sq…",
         "_deepnote_index_column": 1048370
        },
        {
         "Datetime": "2016-12",
         "Text": "friends white people blm lmaooooo ",
         "_deepnote_index_column": 1048371
        },
        {
         "Datetime": "2016-12",
         "Text": "blm cares riots money neither challenging gangbangers police department equals money amp media ",
         "_deepnote_index_column": 1048372
        },
        {
         "Datetime": "2016-12",
         "Text": "worry blm trip wh obozo goes",
         "_deepnote_index_column": 1048373
        },
        {
         "Datetime": "2016-12",
         "Text": "notes thing phone blm vines idk",
         "_deepnote_index_column": 1048374
        },
        {
         "Datetime": "2016-12",
         "Text": "black bishop nfronts blm black black violence ",
         "_deepnote_index_column": 1048375
        },
        {
         "Datetime": "2016-12",
         "Text": "blm terrorists want live place ps wont shoot ok gitmo",
         "_deepnote_index_column": 1048376
        },
        {
         "Datetime": "2016-12",
         "Text": "thinks solution police brutality greater mpliance talk missing point  wmepurog",
         "_deepnote_index_column": 1048377
        },
        {
         "Datetime": "2016-12",
         "Text": "rashid sorry hear untimely death unfortunately wasnt white person unt blm",
         "_deepnote_index_column": 1048378
        },
        {
         "Datetime": "2016-12",
         "Text": "know good artists paint blm thugs jackals ",
         "_deepnote_index_column": 1048379
        },
        {
         "Datetime": "2016-12",
         "Text": "blm hate based organization serves profit racial greivance vicitimzation dividing u",
         "_deepnote_index_column": 1048380
        },
        {
         "Datetime": "2016-12",
         "Text": "right really brought forest gump though uld said something police brutality instead",
         "_deepnote_index_column": 1048381
        },
        {
         "Datetime": "2016-12",
         "Text": "purpose start race war succeeded legitimizing blm blacks fully believe victims",
         "_deepnote_index_column": 1048382
        },
        {
         "Datetime": "2016-12",
         "Text": "dude even tweet back gso looking blm events remember digging shoes",
         "_deepnote_index_column": 1048383
        },
        {
         "Datetime": "2016-12",
         "Text": "black lives matter offshoot embraces anti semitism engages terrorists  blm leads war israel amp gen…",
         "_deepnote_index_column": 1048384
        },
        {
         "Datetime": "2016-12",
         "Text": "simple divide people bring together ngrats way positive influence nation",
         "_deepnote_index_column": 1048385
        },
        {
         "Datetime": "2016-12",
         "Text": "look fan blm organizers meaning behind statement amp cause necessary",
         "_deepnote_index_column": 1048386
        },
        {
         "Datetime": "2016-12",
         "Text": "inspite negative press racist trying intimate org keep pressure money power",
         "_deepnote_index_column": 1048387
        },
        {
         "Datetime": "2016-12",
         "Text": "least get watch blm sponsored gatorade mmercial times half ends",
         "_deepnote_index_column": 1048388
        },
        {
         "Datetime": "2016-12",
         "Text": "check wants racial healing giving big bucks blm turds idiots ",
         "_deepnote_index_column": 1048389
        },
        {
         "Datetime": "2016-12",
         "Text": "response people understand blm ",
         "_deepnote_index_column": 1048390
        },
        {
         "Datetime": "2016-12",
         "Text": "feel free arbitrary blame guns though others blame blm wrong",
         "_deepnote_index_column": 1048391
        },
        {
         "Datetime": "2016-12",
         "Text": "brockturner policebrutality johnrkhoward made clear screwed justice system",
         "_deepnote_index_column": 1048392
        },
        {
         "Datetime": "2016-12",
         "Text": "blm supporters marching highway excluded ",
         "_deepnote_index_column": 1048393
        },
        {
         "Datetime": "2016-12",
         "Text": "gone challenge  via boss bars sorrynotsorry gxldengods uk gb blm london",
         "_deepnote_index_column": 1048394
        },
        {
         "Datetime": "2016-12",
         "Text": "nick cannon trying leave dark side front blm protestors",
         "_deepnote_index_column": 1048395
        },
        {
         "Datetime": "2016-12",
         "Text": "believe last blm protest offduty p killed armed offender pics net w gun",
         "_deepnote_index_column": 1048396
        },
        {
         "Datetime": "2016-12",
         "Text": "instead media focusing fact focused anti blm pro police protest person yelling n word",
         "_deepnote_index_column": 1048397
        },
        {
         "Datetime": "2016-12",
         "Text": "arizona man claims police brutality body camera captures officer pushing ground  wxifpfsvqu via",
         "_deepnote_index_column": 1048398
        },
        {
         "Datetime": "2016-12",
         "Text": "obama care law enforcement practically started blm bunch domestic terrorists pospotus",
         "_deepnote_index_column": 1048399
        },
        {
         "Datetime": "2016-12",
         "Text": "let us find reasons challenge injustice time dissent division progress fears age ethnic cultural li…",
         "_deepnote_index_column": 1048400
        },
        {
         "Datetime": "2016-12",
         "Text": "urse blm displays care black black shootings occur police better shoot criminals hypocrisy fr left ",
         "_deepnote_index_column": 1048401
        },
        {
         "Datetime": "2016-12",
         "Text": "retweetit shareit rt unityisourmight  blm black african pleasekindlysharet umoja spreaddword",
         "_deepnote_index_column": 1048402
        },
        {
         "Datetime": "2016-12",
         "Text": "ofenvironmentalapocalypse tillerson pruitt perry zinke state epa energy interior blm ",
         "_deepnote_index_column": 1048403
        },
        {
         "Datetime": "2016-12",
         "Text": "blm joel ward awesome last night nevermind pr",
         "_deepnote_index_column": 1048404
        },
        {
         "Datetime": "2016-12",
         "Text": "also said blm new kkk",
         "_deepnote_index_column": 1048405
        },
        {
         "Datetime": "2016-12",
         "Text": "blm social justice group based lies used promote socialism",
         "_deepnote_index_column": 1048406
        },
        {
         "Datetime": "2016-12",
         "Text": "hope police brutality",
         "_deepnote_index_column": 1048407
        },
        {
         "Datetime": "2016-12",
         "Text": "year living dangerously nservationist terry tempest williams steps blm environment guardian ",
         "_deepnote_index_column": 1048408
        },
        {
         "Datetime": "2016-12",
         "Text": "raising llectively  nubians melanin umoja blm rt",
         "_deepnote_index_column": 1048409
        },
        {
         "Datetime": "2016-12",
         "Text": "blm merem samsek ini wanna know feat kendrick lamar ceissahaliza hesty ",
         "_deepnote_index_column": 1048410
        },
        {
         "Datetime": "2016-12",
         "Text": "lol ai ios ion als blm lmfao celebrate champagne champagne bottle via giphy  ",
         "_deepnote_index_column": 1048411
        },
        {
         "Datetime": "2016-12",
         "Text": "blm help black people see baltimore murder rate freddie grey",
         "_deepnote_index_column": 1048412
        },
        {
         "Datetime": "2016-12",
         "Text": "remembering people lost lives police blm still ",
         "_deepnote_index_column": 1048413
        },
        {
         "Datetime": "2016-12",
         "Text": "gmas best friend making fun blm im gonna fuckin die",
         "_deepnote_index_column": 1048414
        },
        {
         "Datetime": "2016-12",
         "Text": "always agreed blm tactics hate group bannon  breitbart trying destroy blm ok",
         "_deepnote_index_column": 1048415
        },
        {
         "Datetime": "2016-12",
         "Text": "look blm demands list get back",
         "_deepnote_index_column": 1048416
        },
        {
         "Datetime": "2016-12",
         "Text": "disagree participated blm marches la peaceful ones many races",
         "_deepnote_index_column": 1048417
        },
        {
         "Datetime": "2016-12",
         "Text": "retweet pls fol blackpound spendingpower  blm black african afrikan caribbean umoja",
         "_deepnote_index_column": 1048418
        },
        {
         "Datetime": "2016-12",
         "Text": "good good thoughts like mparison feminism blm",
         "_deepnote_index_column": 1048419
        },
        {
         "Datetime": "2016-12",
         "Text": "really hope someone get us justice police brutality",
         "_deepnote_index_column": 1048420
        },
        {
         "Datetime": "2016-12",
         "Text": "blm expert even look platform",
         "_deepnote_index_column": 1048421
        },
        {
         "Datetime": "2016-12",
         "Text": "la raza bet black entertainment channel naacp premio lo nuestro blm examples racists organizations",
         "_deepnote_index_column": 1048422
        },
        {
         "Datetime": "2016-12",
         "Text": "real racist feds blm instigator minutes later ",
         "_deepnote_index_column": 1048423
        },
        {
         "Datetime": "2016-12",
         "Text": "suppose point police brutality enemy us blm focusing exclusively",
         "_deepnote_index_column": 1048424
        },
        {
         "Datetime": "2016-12",
         "Text": "suppose point police brutality enemy us blm focusing exclusively",
         "_deepnote_index_column": 1048425
        },
        {
         "Datetime": "2016-12",
         "Text": "whadda bout cue whiny voice me people blm mplicated ncept",
         "_deepnote_index_column": 1048426
        },
        {
         "Datetime": "2016-12",
         "Text": "raising llectively  nubians melanin umoja ubuntu blm rt",
         "_deepnote_index_column": 1048427
        },
        {
         "Datetime": "2016-12",
         "Text": "freedom always ming hereafter know hereafter hustle want ty blm",
         "_deepnote_index_column": 1048428
        },
        {
         "Datetime": "2016-12",
         "Text": "please return wild r american ins belong stop blm cruelty greed ",
         "_deepnote_index_column": 1048429
        },
        {
         "Datetime": "2016-12",
         "Text": " need help blm",
         "_deepnote_index_column": 1048430
        },
        {
         "Datetime": "2016-12",
         "Text": "wow followers one day pretty awesome opinion thank follow us blogs info me blm",
         "_deepnote_index_column": 1048431
        },
        {
         "Datetime": "2016-12",
         "Text": "terms police brutality amp violence towards us melanin enhanced people apparently justified cuz fol…",
         "_deepnote_index_column": 1048432
        },
        {
         "Datetime": "2016-12",
         "Text": "lol ai ios ion als blm lmfao funny gtfo get hot girls profanity via giphy  ",
         "_deepnote_index_column": 1048433
        },
        {
         "Datetime": "2016-12",
         "Text": "question blm black lives matter less lives steve good",
         "_deepnote_index_column": 1048434
        },
        {
         "Datetime": "2016-12",
         "Text": "break jail claim police brutality",
         "_deepnote_index_column": 1048435
        },
        {
         "Datetime": "2016-12",
         "Text": "blm effectively shot foot actions done",
         "_deepnote_index_column": 1048436
        },
        {
         "Datetime": "2016-12",
         "Text": "shine spotlight police brutality year end giving make tax deductible donation profiled today  ",
         "_deepnote_index_column": 1048437
        },
        {
         "Datetime": "2016-12",
         "Text": "luciferskittin police brutality march portland oregon ",
         "_deepnote_index_column": 1048438
        },
        {
         "Datetime": "2016-12",
         "Text": "blm hate group matter try spin",
         "_deepnote_index_column": 1048439
        },
        {
         "Datetime": "2016-12",
         "Text": "luciferskittin police brutality march portland oregon ",
         "_deepnote_index_column": 1048440
        },
        {
         "Datetime": "2016-12",
         "Text": "know puss respond mments",
         "_deepnote_index_column": 1048441
        },
        {
         "Datetime": "2016-12",
         "Text": "islamic uncil mexican education board blm affiliate teaming ban white speech ",
         "_deepnote_index_column": 1048442
        },
        {
         "Datetime": "2016-12",
         "Text": "islamic uncil mexican education board blm affiliate teaming ban white speech ",
         "_deepnote_index_column": 1048443
        },
        {
         "Datetime": "2016-12",
         "Text": "raising llectively  nubians melanin umoja ubuntu blm rt",
         "_deepnote_index_column": 1048444
        },
        {
         "Datetime": "2016-12",
         "Text": "grateful thread specifically diamond blm  rdcdwskcbo",
         "_deepnote_index_column": 1048445
        },
        {
         "Datetime": "2016-12",
         "Text": "mention police shootings justified fail mention murdered ps hands racist blm",
         "_deepnote_index_column": 1048446
        },
        {
         "Datetime": "2016-12",
         "Text": "shared left media showing police brutality strike weeks hospitals increase patients",
         "_deepnote_index_column": 1048447
        },
        {
         "Datetime": "2016-12",
         "Text": "blacks always think important whydo shoot othern yell blm",
         "_deepnote_index_column": 1048448
        },
        {
         "Datetime": "2016-12",
         "Text": "hey blm dead injured nnecticut shooting rapper ncert  via android app",
         "_deepnote_index_column": 1048449
        },
        {
         "Datetime": "2016-12",
         "Text": "rare exception blm much ntinued hatred ps fuels behavior",
         "_deepnote_index_column": 1048450
        },
        {
         "Datetime": "2016-12",
         "Text": "trend stand blm thugs murder policemen know r bad ps target wrong",
         "_deepnote_index_column": 1048451
        },
        {
         "Datetime": "2016-12",
         "Text": "lol ai ios ion als blm lmfao dancing russia party hard night club via giphy  ianewstxlr ",
         "_deepnote_index_column": 1048452
        },
        {
         "Datetime": "2016-12",
         "Text": "gay haters attack animalabuse policebrutality  kidnapped amp murdered cats",
         "_deepnote_index_column": 1048453
        },
        {
         "Datetime": "2016-12",
         "Text": "blm politically biased discredited worse crying shame embraced likes hillary amp  relief ",
         "_deepnote_index_column": 1048454
        },
        {
         "Datetime": "2016-12",
         "Text": "ironic blm funded george soros using blacks push politics blm slaves jews",
         "_deepnote_index_column": 1048455
        },
        {
         "Datetime": "2016-12",
         "Text": "wow guy blamed wife gunfail killing fear blm turns owed ",
         "_deepnote_index_column": 1048456
        },
        {
         "Datetime": "2016-12",
         "Text": "never took blm serious stuff like",
         "_deepnote_index_column": 1048457
        },
        {
         "Datetime": "2016-12",
         "Text": "wrong w blm emphasizes police give blacks nsideration whites",
         "_deepnote_index_column": 1048458
        },
        {
         "Datetime": "2016-12",
         "Text": "know trump play ground blm supporter member says lot thug",
         "_deepnote_index_column": 1048459
        },
        {
         "Datetime": "2016-12",
         "Text": "really blm bio like people truly put deration ",
         "_deepnote_index_column": 1048460
        },
        {
         "Datetime": "2016-12",
         "Text": "mr pointer think blm ndones p killings listened blm",
         "_deepnote_index_column": 1048461
        },
        {
         "Datetime": "2016-12",
         "Text": "raising llectively  nubians melanin umoja ubuntu blm rt",
         "_deepnote_index_column": 1048462
        },
        {
         "Datetime": "2016-12",
         "Text": "examiner piece written hater article black owned paper fighting police brutality",
         "_deepnote_index_column": 1048463
        },
        {
         "Datetime": "2016-12",
         "Text": "blm terrorists need get heads butts",
         "_deepnote_index_column": 1048464
        },
        {
         "Datetime": "2016-12",
         "Text": "anything except question views blm",
         "_deepnote_index_column": 1048465
        },
        {
         "Datetime": "2016-12",
         "Text": "two offenses blm evan big boys live",
         "_deepnote_index_column": 1048466
        },
        {
         "Datetime": "2016-12",
         "Text": "police brutality texas mom arrested telling police white man choked son ",
         "_deepnote_index_column": 1048467
        },
        {
         "Datetime": "2016-12",
         "Text": "gone blm bio insult aave ion get boo ",
         "_deepnote_index_column": 1048468
        },
        {
         "Datetime": "2016-12",
         "Text": "lol ai ios ion als blm lmfao dance dancing party snoop dogg holidae inn via gip  ",
         "_deepnote_index_column": 1048469
        },
        {
         "Datetime": "2016-12",
         "Text": "blm group domestic terrorists",
         "_deepnote_index_column": 1048470
        },
        {
         "Datetime": "2016-12",
         "Text": "people want act like aholes play victims police job blm would get shot",
         "_deepnote_index_column": 1048471
        },
        {
         "Datetime": "2016-12",
         "Text": "someone say lameduck obamalegacy blm vs lgbt ",
         "_deepnote_index_column": 1048472
        },
        {
         "Datetime": "2016-12",
         "Text": "someone say lameduck obamalegacy blm vs lgbt ",
         "_deepnote_index_column": 1048473
        },
        {
         "Datetime": "2016-12",
         "Text": "may started needs end case nothing blm inciting p killings",
         "_deepnote_index_column": 1048474
        },
        {
         "Datetime": "2016-12",
         "Text": "blm gang",
         "_deepnote_index_column": 1048475
        },
        {
         "Datetime": "2016-12",
         "Text": "year police brutality crazy election rising kkk terrorist attacks challenges celebrity deaths missed",
         "_deepnote_index_column": 1048476
        },
        {
         "Datetime": "2016-12",
         "Text": "verage police brutality outside brick bar early morning ",
         "_deepnote_index_column": 1048477
        },
        {
         "Datetime": "2016-12",
         "Text": "crystal valentine news reporter says jesus white  via happynewyear blacklivesmatter blm v",
         "_deepnote_index_column": 1048478
        },
        {
         "Datetime": "2016-12",
         "Text": "going st standing rock reports show water protectors arrested police brutality drilling going pleas…",
         "_deepnote_index_column": 1048479
        },
        {
         "Datetime": "2016-12",
         "Text": "applaud barista spit ps ffee like blm",
         "_deepnote_index_column": 1048480
        },
        {
         "Datetime": "2016-12",
         "Text": "self inflicted wound btw blm word interesting active campaign",
         "_deepnote_index_column": 1048481
        },
        {
         "Datetime": "2016-12",
         "Text": "help spread word share far wide let us stop blm ",
         "_deepnote_index_column": 1048482
        },
        {
         "Datetime": "2016-12",
         "Text": "wtf sympathize animals easily try tell em blm like wait",
         "_deepnote_index_column": 1048483
        },
        {
         "Datetime": "2016-12",
         "Text": "started blm almost turned looting parties",
         "_deepnote_index_column": 1048484
        },
        {
         "Datetime": "2016-12",
         "Text": "darling simple minded head pat",
         "_deepnote_index_column": 1048485
        },
        {
         "Datetime": "2016-12",
         "Text": "ca blm proud fb post saying spit police officer starbucks  test drink dna",
         "_deepnote_index_column": 1048486
        },
        {
         "Datetime": "2016-12",
         "Text": "tour cabrini green projects amp dangerous streets chicago  via chiraq blm gxldengods",
         "_deepnote_index_column": 1048487
        },
        {
         "Datetime": "2016-12",
         "Text": "get evan blm support dem listen lost",
         "_deepnote_index_column": 1048488
        },
        {
         "Datetime": "2016-12",
         "Text": "blm stockton praises behavior",
         "_deepnote_index_column": 1048489
        },
        {
         "Datetime": "2016-12",
         "Text": "blm stand black lives matter bigoted liberal media makes think",
         "_deepnote_index_column": 1048490
        },
        {
         "Datetime": "2016-12",
         "Text": "lol ai ios ion als blm lmfao happy fun yes celebrate happy new year yay thank   ydeuoxchic",
         "_deepnote_index_column": 1048491
        },
        {
         "Datetime": "2016-12",
         "Text": "silly girl blm gang must victim oppressive society cannot blame",
         "_deepnote_index_column": 1048492
        },
        {
         "Datetime": "2016-12",
         "Text": "undivided attention clearly deserves blm blackoncampus ",
         "_deepnote_index_column": 1048493
        },
        {
         "Datetime": "2016-12",
         "Text": "sign tell censor human rights documentations censor ntent showing police brutality ",
         "_deepnote_index_column": 1048494
        },
        {
         "Datetime": "2016-12",
         "Text": "year living dangerously nservationist terrytempestwilliams steps blm  ",
         "_deepnote_index_column": 1048495
        },
        {
         "Datetime": "2016-12",
         "Text": "uld talk police brutality rioting everything else happened year",
         "_deepnote_index_column": 1048496
        },
        {
         "Datetime": "2016-12",
         "Text": "moment silence black men women victim police brutality didnt make",
         "_deepnote_index_column": 1048497
        },
        {
         "Datetime": "2016-12",
         "Text": "key word experiment blm would us think care wilds ",
         "_deepnote_index_column": 1048498
        },
        {
         "Datetime": "2016-12",
         "Text": "la police mmissioner accused distorting truth retaliate blm ",
         "_deepnote_index_column": 1048499
        },
        {
         "Datetime": "2016-12",
         "Text": "la police mmissioner accused distorting truth retaliate blm  znkcliyuiy",
         "_deepnote_index_column": 1048500
        },
        {
         "Datetime": "2016-12",
         "Text": "enough bullshit protests like blm crap terrorist activism would fire every football player also",
         "_deepnote_index_column": 1048501
        },
        {
         "Datetime": "2016-12",
         "Text": "lol ai ios ion als blm lmfao happy new year whatever shrug unimpressed nfetti   ckllottbon",
         "_deepnote_index_column": 1048502
        },
        {
         "Datetime": "2016-12",
         "Text": "lol ai ios ion als blm lmfao drinking drink shit alec baldwin whiskey need  lyhqkhafjr ",
         "_deepnote_index_column": 1048503
        },
        {
         "Datetime": "2016-12",
         "Text": "lol ai ios ion als blm lmfao funny animation dance party weird friday candy  ",
         "_deepnote_index_column": 1048504
        },
        {
         "Datetime": "2016-12",
         "Text": "lol ai ios ion als blm lmfao music party hard george michael haters gonna h  gfsdfpuewe ",
         "_deepnote_index_column": 1048505
        },
        {
         "Datetime": "2016-12",
         "Text": "mmissioner accused distorting truth retaliate blm  amerikkka racist land free",
         "_deepnote_index_column": 1048506
        },
        {
         "Datetime": "2016-12",
         "Text": "mmentary year police brutality queer suicides social injustice search hope  ",
         "_deepnote_index_column": 1048507
        },
        {
         "Datetime": "2016-12",
         "Text": "la police mmissioner accused distorting truth retaliate blm ",
         "_deepnote_index_column": 1048508
        },
        {
         "Datetime": "2016-12",
         "Text": "protect police brutality  dbfdufbwpz",
         "_deepnote_index_column": 1048509
        },
        {
         "Datetime": "2016-12",
         "Text": "protect police brutality ",
         "_deepnote_index_column": 1048510
        },
        {
         "Datetime": "2016-12",
         "Text": "resort name calling funny much ppl say blm injustices",
         "_deepnote_index_column": 1048511
        },
        {
         "Datetime": "2016-12",
         "Text": "must racist xenophobic homophobic white supremacist right least blm tells",
         "_deepnote_index_column": 1048512
        },
        {
         "Datetime": "2016-12",
         "Text": "look like member blm",
         "_deepnote_index_column": 1048513
        },
        {
         "Datetime": "2016-12",
         "Text": "r naacp la raza lo nuestro blm planned parenthood racists stay away fall hate",
         "_deepnote_index_column": 1048514
        },
        {
         "Datetime": "2016-12",
         "Text": "lol ai ios ion als blm lmfao drinking drink shit alec baldwin whiskey need  hrsmjywtnl ",
         "_deepnote_index_column": 1048515
        },
        {
         "Datetime": "2016-12",
         "Text": "reporter dares spend night mean streets chicago  via happynewyear blm brockturner obama",
         "_deepnote_index_column": 1048516
        },
        {
         "Datetime": "2016-12",
         "Text": "nope politician foxnews pandit right wing christian mention victims police brutality",
         "_deepnote_index_column": 1048517
        },
        {
         "Datetime": "2016-12",
         "Text": "hundreds people arrested annually w probable cause strip searched denied ntact w lawyer criminaljus…",
         "_deepnote_index_column": 1048518
        },
        {
         "Datetime": "2016-12",
         "Text": "yes like saying cannot support blm black ",
         "_deepnote_index_column": 1048519
        },
        {
         "Datetime": "2016-12",
         "Text": "leave deray mckesson black men  opt black women organizing work blm",
         "_deepnote_index_column": 1048520
        },
        {
         "Datetime": "2016-12",
         "Text": " blacklivesmatter schools follow studentsnotsuspects sign petition",
         "_deepnote_index_column": 1048521
        },
        {
         "Datetime": "2016-12",
         "Text": "big problem win cannot govern la ks ky mi nc nj ect ect blm blackoncampus ",
         "_deepnote_index_column": 1048522
        },
        {
         "Datetime": "2016-12",
         "Text": " ymrwpykdkz blm clan always talking persecuted wants persecute jews duh",
         "_deepnote_index_column": 1048523
        },
        {
         "Datetime": "2016-12",
         "Text": "start acting like students people treat like suspects easy",
         "_deepnote_index_column": 1048524
        },
        {
         "Datetime": "2016-12",
         "Text": "blm terrorists want live place ps wont shoot ok gitmo",
         "_deepnote_index_column": 1048525
        },
        {
         "Datetime": "2016-12",
         "Text": "especially blm thank nforming social norms know thank poetry threads",
         "_deepnote_index_column": 1048526
        },
        {
         "Datetime": "2016-12",
         "Text": "lol ai ios ion als blm lmfao celebrate cheers champagne champagne bottle via gip   zhtgdsgkgo",
         "_deepnote_index_column": 1048527
        },
        {
         "Datetime": "2016-12",
         "Text": "tragic reality never cared ",
         "_deepnote_index_column": 1048528
        },
        {
         "Datetime": "2016-12",
         "Text": "agree w substance post using lang blm name think say something easily misnstrued ntext",
         "_deepnote_index_column": 1048529
        },
        {
         "Datetime": "2016-12",
         "Text": "better launching blm vest llection  qvmiseohoa",
         "_deepnote_index_column": 1048530
        },
        {
         "Datetime": "2016-12",
         "Text": "dont hear media calling obama denounce blm like ask trump denounce kkk",
         "_deepnote_index_column": 1048531
        },
        {
         "Datetime": "2016-12",
         "Text": "walking thru derrick rose hood never seen footage  via happynewyear brockturner obama blm v",
         "_deepnote_index_column": 1048532
        },
        {
         "Datetime": "2016-12",
         "Text": "either way ohiostate vs clemson game blows black qb ntending nat l cfb championship proud blm",
         "_deepnote_index_column": 1048533
        },
        {
         "Datetime": "2016-12",
         "Text": "chant blm blackexcellence rest lives till day die still let event end arkansas",
         "_deepnote_index_column": 1048534
        },
        {
         "Datetime": "2016-12",
         "Text": "get thought process behind think rly dont get point blm  sbzdpearga",
         "_deepnote_index_column": 1048535
        }
       ]
      },
      "text/plain": "        Datetime                                               Text\n0        2016-01  talk soros old whit billionaire funds blm leak...\n1        2016-01              happynewyear everyone blm  kcqfurcaxn\n2        2016-01  iron fist power clamped humanity warfare terro...\n3        2016-01  sadly falling bs blm loons pushing pretty path...\n4        2016-01       honour police brutality sgt shamar thomas   \n...          ...                                                ...\n1048531  2016-12  dont hear media calling obama denounce blm lik...\n1048532  2016-12  walking thru derrick rose hood never seen foot...\n1048533  2016-12  either way ohiostate vs clemson game blows bla...\n1048534  2016-12  chant blm blackexcellence rest lives till day ...\n1048535  2016-12  get thought process behind think rly dont get ...\n\n[1048536 rows x 2 columns]",
      "text/html": "<div>\n<style scoped>\n    .dataframe tbody tr th:only-of-type {\n        vertical-align: middle;\n    }\n\n    .dataframe tbody tr th {\n        vertical-align: top;\n    }\n\n    .dataframe thead th {\n        text-align: right;\n    }\n</style>\n<table border=\"1\" class=\"dataframe\">\n  <thead>\n    <tr style=\"text-align: right;\">\n      <th></th>\n      <th>Datetime</th>\n      <th>Text</th>\n    </tr>\n  </thead>\n  <tbody>\n    <tr>\n      <th>0</th>\n      <td>2016-01</td>\n      <td>talk soros old whit billionaire funds blm leak...</td>\n    </tr>\n    <tr>\n      <th>1</th>\n      <td>2016-01</td>\n      <td>happynewyear everyone blm  kcqfurcaxn</td>\n    </tr>\n    <tr>\n      <th>2</th>\n      <td>2016-01</td>\n      <td>iron fist power clamped humanity warfare terro...</td>\n    </tr>\n    <tr>\n      <th>3</th>\n      <td>2016-01</td>\n      <td>sadly falling bs blm loons pushing pretty path...</td>\n    </tr>\n    <tr>\n      <th>4</th>\n      <td>2016-01</td>\n      <td>honour police brutality sgt shamar thomas</td>\n    </tr>\n    <tr>\n      <th>...</th>\n      <td>...</td>\n      <td>...</td>\n    </tr>\n    <tr>\n      <th>1048531</th>\n      <td>2016-12</td>\n      <td>dont hear media calling obama denounce blm lik...</td>\n    </tr>\n    <tr>\n      <th>1048532</th>\n      <td>2016-12</td>\n      <td>walking thru derrick rose hood never seen foot...</td>\n    </tr>\n    <tr>\n      <th>1048533</th>\n      <td>2016-12</td>\n      <td>either way ohiostate vs clemson game blows bla...</td>\n    </tr>\n    <tr>\n      <th>1048534</th>\n      <td>2016-12</td>\n      <td>chant blm blackexcellence rest lives till day ...</td>\n    </tr>\n    <tr>\n      <th>1048535</th>\n      <td>2016-12</td>\n      <td>get thought process behind think rly dont get ...</td>\n    </tr>\n  </tbody>\n</table>\n<p>1048536 rows × 2 columns</p>\n</div>"
     },
     "metadata": {}
    }
   ]
  },
  {
   "cell_type": "code",
   "metadata": {
    "tags": [],
    "cell_id": "00063-dfd21b23-78e4-478d-b6a5-69a342eb7153",
    "deepnote_to_be_reexecuted": true,
    "source_hash": "dad611ea",
    "execution_start": 1635651416314,
    "execution_millis": 174,
    "is_output_hidden": true,
    "deepnote_cell_type": "code"
   },
   "source": "f2016.drop_duplicates(subset=['Text'])",
   "execution_count": null,
   "outputs": [
    {
     "output_type": "execute_result",
     "execution_count": 79,
     "data": {
      "application/vnd.deepnote.dataframe.v2+json": {
       "row_count": 866655,
       "column_count": 2,
       "columns": [
        {
         "name": "Datetime",
         "dtype": "object"
        },
        {
         "name": "Text",
         "dtype": "object"
        },
        {
         "name": "_deepnote_index_column",
         "dtype": "int64"
        }
       ],
       "rows_top": [
        {
         "Datetime": "2016-01",
         "Text": "talk soros old whit billionaire funds blm leak admitted cause race civil p war",
         "_deepnote_index_column": 0
        },
        {
         "Datetime": "2016-01",
         "Text": "happynewyear everyone blm  kcqfurcaxn",
         "_deepnote_index_column": 1
        },
        {
         "Datetime": "2016-01",
         "Text": "iron fist power clamped humanity warfare terrorism surveillance police brutality amp rporate hegemo…",
         "_deepnote_index_column": 2
        },
        {
         "Datetime": "2016-01",
         "Text": "sadly falling bs blm loons pushing pretty pathetic people uld also say privilege",
         "_deepnote_index_column": 3
        },
        {
         "Datetime": "2016-01",
         "Text": "honour police brutality sgt shamar thomas   ",
         "_deepnote_index_column": 4
        },
        {
         "Datetime": "2016-01",
         "Text": "ncern mounting wild horse welfare many wild horses moved blm pvc nv facility  wildhorses",
         "_deepnote_index_column": 5
        },
        {
         "Datetime": "2016-01",
         "Text": "case closes police shooting  gnprdjsvws blacklivesmatter",
         "_deepnote_index_column": 6
        },
        {
         "Datetime": "2016-01",
         "Text": "fucks mention police brutality",
         "_deepnote_index_column": 7
        },
        {
         "Datetime": "2016-01",
         "Text": "ian murdock victim police brutality via r technology ",
         "_deepnote_index_column": 8
        },
        {
         "Datetime": "2016-01",
         "Text": "also w b c movement black lives beautiful amp deserves strong support amp respect",
         "_deepnote_index_column": 9
        },
        {
         "Datetime": "2016-01",
         "Text": " quentin one realest dudes check police brutality ",
         "_deepnote_index_column": 10
        },
        {
         "Datetime": "2016-01",
         "Text": "happy new year nak blm telaat kook",
         "_deepnote_index_column": 11
        },
        {
         "Datetime": "2016-01",
         "Text": "disputing trying say blm important movement either",
         "_deepnote_index_column": 12
        },
        {
         "Datetime": "2016-01",
         "Text": "ns highest rate police brutality near daily mass shootings donald trump pros slim fit shirts snug",
         "_deepnote_index_column": 13
        },
        {
         "Datetime": "2016-01",
         "Text": "millions shutting every major city works blm",
         "_deepnote_index_column": 14
        },
        {
         "Datetime": "2016-01",
         "Text": "black israelis standing police brutality ",
         "_deepnote_index_column": 15
        },
        {
         "Datetime": "2016-01",
         "Text": "amp campaigned mainstream criminal culture w blm unfortunate incidence",
         "_deepnote_index_column": 16
        },
        {
         "Datetime": "2016-01",
         "Text": "irking right ppl claiming distraction police brutality bm",
         "_deepnote_index_column": 17
        },
        {
         "Datetime": "2016-01",
         "Text": "poll takers politicians untouchable govtawareawake blm",
         "_deepnote_index_column": 18
        },
        {
         "Datetime": "2016-01",
         "Text": "well date black men killed black men killed police guys win year",
         "_deepnote_index_column": 19
        },
        {
         "Datetime": "2016-01",
         "Text": "blm ",
         "_deepnote_index_column": 20
        },
        {
         "Datetime": "2016-01",
         "Text": "folks dc taking action follow takebackourstreetsdc details blacklivesmatter",
         "_deepnote_index_column": 21
        },
        {
         "Datetime": "2016-01",
         "Text": "sending peace families hands police brutality enter without loved ones",
         "_deepnote_index_column": 22
        },
        {
         "Datetime": "2016-01",
         "Text": "best hashtag blm love wins jokes trends mpetition year satan year ",
         "_deepnote_index_column": 23
        },
        {
         "Datetime": "2016-01",
         "Text": "blm chinatown prey year black lives matter ",
         "_deepnote_index_column": 24
        },
        {
         "Datetime": "2016-01",
         "Text": "police brutality new dc gonna alright always alright takebackourstreetsdc",
         "_deepnote_index_column": 25
        },
        {
         "Datetime": "2016-01",
         "Text": "like next year police brutality floods deaths family family friends goin jail dumb shyt kkk shyt etc",
         "_deepnote_index_column": 26
        },
        {
         "Datetime": "2016-01",
         "Text": "clear police brutality issue right protest case unfortunate mistakes  nnpnzfpmlj",
         "_deepnote_index_column": 27
        },
        {
         "Datetime": "2016-01",
         "Text": "child killed police brutality billsbyhatesyou",
         "_deepnote_index_column": 28
        },
        {
         "Datetime": "2016-01",
         "Text": "long time blm activists currently beat trump rallies quit lying",
         "_deepnote_index_column": 29
        },
        {
         "Datetime": "2016-01",
         "Text": "blm palomino valley wild horse amp burro holding facility looks like ghost town  via",
         "_deepnote_index_column": 30
        },
        {
         "Datetime": "2016-01",
         "Text": "blm follow bro",
         "_deepnote_index_column": 31
        },
        {
         "Datetime": "2016-01",
         "Text": "fee free days blm public lands  ftidujckuw getoutside nature findyourpark  mfspwiuvej",
         "_deepnote_index_column": 32
        },
        {
         "Datetime": "2016-01",
         "Text": "takebackourstreetsdc police brutality happens c",
         "_deepnote_index_column": 33
        },
        {
         "Datetime": "2016-01",
         "Text": "blm association supposedly cannot question press",
         "_deepnote_index_column": 34
        },
        {
         "Datetime": "2016-01",
         "Text": "live dc shuttin sandrabland tamirrice blm  noetwpheki",
         "_deepnote_index_column": 35
        },
        {
         "Datetime": "2016-01",
         "Text": "software pioneer ian murdock dead extraordinary police brutality claims ",
         "_deepnote_index_column": 37
        },
        {
         "Datetime": "2016-01",
         "Text": "stop police brutality",
         "_deepnote_index_column": 38
        },
        {
         "Datetime": "2016-01",
         "Text": "let us leave racial profiling police brutality please",
         "_deepnote_index_column": 40
        },
        {
         "Datetime": "2016-01",
         "Text": "light shed ian murdock police brutality claims breitbart news ",
         "_deepnote_index_column": 41
        },
        {
         "Datetime": "2016-01",
         "Text": "characters cut needs said working needs done tamirrice thisiscle staywoke cle blm",
         "_deepnote_index_column": 42
        },
        {
         "Datetime": "2016-01",
         "Text": "live dc shuttin sandrabland tamirrice blm via  mqyogdblhy",
         "_deepnote_index_column": 43
        },
        {
         "Datetime": "2016-01",
         "Text": "whiteonwhitemurder america ntrol  kqeufdqwsq blacklivesmatter blm",
         "_deepnote_index_column": 44
        },
        {
         "Datetime": "2016-01",
         "Text": "standing justice tamir sandra black lives matter blm ",
         "_deepnote_index_column": 45
        },
        {
         "Datetime": "2016-01",
         "Text": "blm touts greater sage grouse protection among achievements krwg krwgblm touts greater sage grouse ",
         "_deepnote_index_column": 46
        },
        {
         "Datetime": "2016-01",
         "Text": "take moment remember lives live see due police brutality r p beautiful souls blacklivesmatter",
         "_deepnote_index_column": 48
        },
        {
         "Datetime": "2016-01",
         "Text": "responding nojusticenolebron james reflects supreme ignorance police brutality backyard ",
         "_deepnote_index_column": 49
        },
        {
         "Datetime": "2016-01",
         "Text": "cleveland legend jim brown goes media narrative police brutality amp tamir rice  ssefknkfgw",
         "_deepnote_index_column": 51
        },
        {
         "Datetime": "2016-01",
         "Text": "cleveland legend jim brown goes media narrative police brutality amp tamir rice ",
         "_deepnote_index_column": 52
        },
        {
         "Datetime": "2016-01",
         "Text": "must read thank urage happy new year blm baltimorecity rrupt ",
         "_deepnote_index_column": 53
        },
        {
         "Datetime": "2016-01",
         "Text": "let us support amazing bold leaders blm mpls making justice priority mpls ",
         "_deepnote_index_column": 55
        },
        {
         "Datetime": "2016-01",
         "Text": "live dc shuttin sandrabland tamirrice blm via  snuwwmirqg ",
         "_deepnote_index_column": 56
        },
        {
         "Datetime": "2016-01",
         "Text": "shame ",
         "_deepnote_index_column": 57
        },
        {
         "Datetime": "2016-01",
         "Text": "dc china town fun spot tonight blm taking",
         "_deepnote_index_column": 58
        },
        {
         "Datetime": "2016-01",
         "Text": "song tell truth police brutality amp victim death cannot forget ",
         "_deepnote_index_column": 59
        },
        {
         "Datetime": "2016-01",
         "Text": "sending digital ffee snacks keep good work respect blm teamdenmother lovemyjournos",
         "_deepnote_index_column": 60
        },
        {
         "Datetime": "2016-01",
         "Text": "tbh drake n curry year year police brutality injustice year every black man woman  bzzzpwcfgl",
         "_deepnote_index_column": 61
        },
        {
         "Datetime": "2016-01",
         "Text": "blm protest city hall mummers tomorrow ",
         "_deepnote_index_column": 63
        },
        {
         "Datetime": "2016-01",
         "Text": "tired blm rioters looters name kkk",
         "_deepnote_index_column": 64
        },
        {
         "Datetime": "2016-01",
         "Text": "takebackourstreetsdc song tell truth police brutality amp victim death cannot forget ",
         "_deepnote_index_column": 65
        },
        {
         "Datetime": "2016-01",
         "Text": "song tell truth police brutality amp victim death cannot forget victims ",
         "_deepnote_index_column": 67
        },
        {
         "Datetime": "2016-01",
         "Text": "problem blm",
         "_deepnote_index_column": 70
        },
        {
         "Datetime": "2016-01",
         "Text": "honour police brutality sgt shamar thomas   nroouzlkyi ",
         "_deepnote_index_column": 72
        },
        {
         "Datetime": "2016-01",
         "Text": "blm protest dc right  know would fun though",
         "_deepnote_index_column": 73
        },
        {
         "Datetime": "2016-01",
         "Text": "chick fil texas wearing back blue shirts oppose blm movement",
         "_deepnote_index_column": 75
        },
        {
         "Datetime": "2016-01",
         "Text": "leave police brutality",
         "_deepnote_index_column": 77
        },
        {
         "Datetime": "2016-01",
         "Text": "oh look found nazis helipters ows blm blacklivesmatter dc ",
         "_deepnote_index_column": 79
        },
        {
         "Datetime": "2016-01",
         "Text": "baboon attempted racist slur believes blm kkk nazi bitch",
         "_deepnote_index_column": 81
        },
        {
         "Datetime": "2016-01",
         "Text": "anti flag fuck police brutality",
         "_deepnote_index_column": 82
        },
        {
         "Datetime": "2016-01",
         "Text": "crazy crazy asked would said blm time",
         "_deepnote_index_column": 83
        },
        {
         "Datetime": "2016-01",
         "Text": "version blm precinct shout brother ali dear black son capella  via",
         "_deepnote_index_column": 84
        },
        {
         "Datetime": "2016-01",
         "Text": "truth behind policebrutality investigations ",
         "_deepnote_index_column": 85
        },
        {
         "Datetime": "2016-01",
         "Text": "honour police brutality sgt shamar thomas  ",
         "_deepnote_index_column": 86
        },
        {
         "Datetime": "2016-01",
         "Text": "mments evangelical christians saying lives matter calling blm activists thugs bet ",
         "_deepnote_index_column": 87
        },
        {
         "Datetime": "2016-01",
         "Text": "light shed ian murdock police brutality claims  fqmtrnnaya",
         "_deepnote_index_column": 88
        },
        {
         "Datetime": "2016-01",
         "Text": "leave police brutality bullshit fucking wards",
         "_deepnote_index_column": 89
        },
        {
         "Datetime": "2016-01",
         "Text": "dc ends homicide spike dcmurders police brutality staffing blacklivesmatter watch ",
         "_deepnote_index_column": 90
        },
        {
         "Datetime": "2016-01",
         "Text": "ntemplating activist police brutality illegal arrest watching pmb nta forced withdraw",
         "_deepnote_index_column": 91
        },
        {
         "Datetime": "2016-01",
         "Text": "live dc shuttin sandrabland tamirrice blm via  mqyogdblhy ",
         "_deepnote_index_column": 92
        },
        {
         "Datetime": "2016-01",
         "Text": "official goodiesny blm riliskah",
         "_deepnote_index_column": 93
        },
        {
         "Datetime": "2016-01",
         "Text": "u always terrorist organz agnst blk ppl slavery jimcrow policebrutality  blacklivesmatter",
         "_deepnote_index_column": 94
        },
        {
         "Datetime": "2016-01",
         "Text": "please stop police brutality",
         "_deepnote_index_column": 95
        },
        {
         "Datetime": "2016-01",
         "Text": "song tell truth police brutality amp heard cry let us help change law ",
         "_deepnote_index_column": 96
        },
        {
         "Datetime": "2016-01",
         "Text": "ortiz dangerous rrupt p well known blacklivesmatter tamirrice blm",
         "_deepnote_index_column": 97
        },
        {
         "Datetime": "2016-01",
         "Text": "job public activist every single cause actually tweeted police brutality",
         "_deepnote_index_column": 98
        },
        {
         "Datetime": "2016-01",
         "Text": "happy new year sappiest self proclaimed stronkest blm ever meet w",
         "_deepnote_index_column": 99
        },
        {
         "Datetime": "2016-01",
         "Text": "one said right protest sick blm hypocritical crap",
         "_deepnote_index_column": 102
        },
        {
         "Datetime": "2016-01",
         "Text": "blm folow",
         "_deepnote_index_column": 103
        },
        {
         "Datetime": "2016-01",
         "Text": "rothman rahmemanuel problem police brutality democrats ",
         "_deepnote_index_column": 105
        },
        {
         "Datetime": "2016-01",
         "Text": "song tell truth police brutality amp heard cry  nmodqqrpcn",
         "_deepnote_index_column": 112
        },
        {
         "Datetime": "2016-01",
         "Text": "vering mummers tomorrow read blm protesting",
         "_deepnote_index_column": 114
        },
        {
         "Datetime": "2016-01",
         "Text": "anti gun violence anti police brutality protest downtown today caps  mkouvvfgvr ",
         "_deepnote_index_column": 116
        },
        {
         "Datetime": "2016-01",
         "Text": "wish uld leave racism police brutality blacklivesmatter",
         "_deepnote_index_column": 117
        },
        {
         "Datetime": "2016-01",
         "Text": "wish female amp poc protagonists movies gun ntrol less police brutality amp abs",
         "_deepnote_index_column": 118
        },
        {
         "Datetime": "2016-01",
         "Text": "certain blm celeb posted chart quote police slightly likely killed umpires cannot find source",
         "_deepnote_index_column": 119
        },
        {
         "Datetime": "2016-01",
         "Text": "finally white racist sick watching blm racism whites ps year finally found white racist bravo",
         "_deepnote_index_column": 120
        },
        {
         "Datetime": "2016-01",
         "Text": "black lives matter unless black woman got raped bill sby nscious defenders blacklivesmatter blm",
         "_deepnote_index_column": 121
        },
        {
         "Datetime": "2016-01",
         "Text": "hahaha blm keeps bringing old shit",
         "_deepnote_index_column": 122
        },
        {
         "Datetime": "2016-01",
         "Text": "fight institutionalized racism amp police brutality impunity rapists time",
         "_deepnote_index_column": 123
        },
        {
         "Datetime": "2016-01",
         "Text": "song tell truth police brutality amp heard cry let us help ",
         "_deepnote_index_column": 124
        },
        {
         "Datetime": "2016-01",
         "Text": "hate say pretty sure gonna another victim police brutality tonight",
         "_deepnote_index_column": 125
        },
        {
         "Datetime": "2016-01",
         "Text": "things stay police brutality dead brown black boys girls men women nomorehate",
         "_deepnote_index_column": 126
        },
        {
         "Datetime": "2016-01",
         "Text": "mom loves blm",
         "_deepnote_index_column": 127
        },
        {
         "Datetime": "2016-01",
         "Text": "software pioneer ian murdock dead extraordinary police brutality claims breitbart  via",
         "_deepnote_index_column": 128
        },
        {
         "Datetime": "2016-01",
         "Text": "solarpower news solar blm touts greater sage grouse protection among achievements via ",
         "_deepnote_index_column": 129
        },
        {
         "Datetime": "2016-01",
         "Text": "agree point article challenges blm everyone else ignores deaths",
         "_deepnote_index_column": 130
        },
        {
         "Datetime": "2016-01",
         "Text": "morning shake today blm pernah minum shake herbalife ga kekinian bngt ",
         "_deepnote_index_column": 131
        },
        {
         "Datetime": "2016-01",
         "Text": "must brice lol",
         "_deepnote_index_column": 132
        },
        {
         "Datetime": "2016-01",
         "Text": "rt solarenergydude solarpower news solar blm touts greater sage grouse protection among achievement…",
         "_deepnote_index_column": 133
        },
        {
         "Datetime": "2016-01",
         "Text": "ffxiv eating hours personally work setting stream cusp blm",
         "_deepnote_index_column": 134
        },
        {
         "Datetime": "2016-01",
         "Text": "prayers thoughts lhs hope investigation police brutality",
         "_deepnote_index_column": 135
        },
        {
         "Datetime": "2016-01",
         "Text": "nservatives forget boytt quentin tarantino movie needs know support blm amp ndemnation police unacc…",
         "_deepnote_index_column": 136
        },
        {
         "Datetime": "2016-01",
         "Text": "hahahaha dad ranting police brutality real guns kill people love home",
         "_deepnote_index_column": 137
        },
        {
         "Datetime": "2016-01",
         "Text": "real urage black p speaks police brutality ",
         "_deepnote_index_column": 138
        },
        {
         "Datetime": "2016-01",
         "Text": "clear protesters vastly different rioters looters later blm started",
         "_deepnote_index_column": 139
        },
        {
         "Datetime": "2016-01",
         "Text": "wait makes blacks gangs killing innocent blacks different blm caring ok",
         "_deepnote_index_column": 140
        },
        {
         "Datetime": "2016-01",
         "Text": "tamirrice killed whiteamerica irrational fear black boys steven w thrasher  atrdtcjvaj blm",
         "_deepnote_index_column": 141
        },
        {
         "Datetime": "2016-01",
         "Text": "seems certain black lives matter blm grimy al sharpton",
         "_deepnote_index_column": 142
        },
        {
         "Datetime": "2016-01",
         "Text": "young black men killed us police highest rate year deaths  icvsnsduol blm",
         "_deepnote_index_column": 143
        },
        {
         "Datetime": "2016-01",
         "Text": "fly high everyone lost life due police brutality",
         "_deepnote_index_column": 144
        },
        {
         "Datetime": "2016-01",
         "Text": "hopefully leave police brutality",
         "_deepnote_index_column": 145
        },
        {
         "Datetime": "2016-01",
         "Text": "kid n play returned lumnist like telling blm focus mmunities first ",
         "_deepnote_index_column": 146
        },
        {
         "Datetime": "2016-01",
         "Text": "mother said police brutality really road head along asked sister ya mama sendhelp",
         "_deepnote_index_column": 147
        },
        {
         "Datetime": "2016-01",
         "Text": "ta nehisi ates police brutality nfederate flag forgiveness happy new year etonemasterships",
         "_deepnote_index_column": 148
        },
        {
         "Datetime": "2016-01",
         "Text": "rip lives lost due police brutality year",
         "_deepnote_index_column": 149
        },
        {
         "Datetime": "2016-01",
         "Text": "blm gonna protest murders tyshawnlee aliyahshell shot ps ",
         "_deepnote_index_column": 150
        },
        {
         "Datetime": "2016-01",
         "Text": "kid returned lumnist like telling blm focus mmunities first ",
         "_deepnote_index_column": 151
        },
        {
         "Datetime": "2016-01",
         "Text": "really see way pretty sure blm would love something else higher calling",
         "_deepnote_index_column": 152
        },
        {
         "Datetime": "2016-01",
         "Text": "passenger started reached destination blm time ",
         "_deepnote_index_column": 153
        },
        {
         "Datetime": "2016-01",
         "Text": "go check three songs asap ay police brutality truth thanks play music obeezy ",
         "_deepnote_index_column": 154
        },
        {
         "Datetime": "2016-01",
         "Text": "events exposed racial tensions us starting w policebrutality amp massincarceration moralmondayct ",
         "_deepnote_index_column": 155
        },
        {
         "Datetime": "2016-01",
         "Text": "new blm regulations mean new mexi based oil producers  ",
         "_deepnote_index_column": 156
        },
        {
         "Datetime": "2016-01",
         "Text": "past blm abuses next chapter burns january grass march nevada may  via",
         "_deepnote_index_column": 157
        },
        {
         "Datetime": "2016-01",
         "Text": "think whats blm askin acuntability thats aint callin dead ps",
         "_deepnote_index_column": 158
        },
        {
         "Datetime": "2016-01",
         "Text": "thought talking black lives know blm hypocrites",
         "_deepnote_index_column": 159
        },
        {
         "Datetime": "2016-01",
         "Text": "umkay guess blm important role model kids ming get grip  jhytioqucb",
         "_deepnote_index_column": 160
        },
        {
         "Datetime": "2016-01",
         "Text": "citizen videos sharpen debate police nduct  policebrutality yearinreview thewholeworldiswatching",
         "_deepnote_index_column": 161
        },
        {
         "Datetime": "2016-01",
         "Text": "lol sounded like something would say knew would agree reminded nvos blm mvm",
         "_deepnote_index_column": 162
        },
        {
         "Datetime": "2016-01",
         "Text": "ps beat mother amp daughter participating blm protest  via",
         "_deepnote_index_column": 163
        },
        {
         "Datetime": "2016-01",
         "Text": "pissed police brutality",
         "_deepnote_index_column": 164
        },
        {
         "Datetime": "2016-01",
         "Text": "goes followers app forces unfollowed even follow way hell support blm ",
         "_deepnote_index_column": 165
        },
        {
         "Datetime": "2016-01",
         "Text": "closing damages article leave largest active involved family muslims supporting blm noi",
         "_deepnote_index_column": 166
        },
        {
         "Datetime": "2016-01",
         "Text": "chicago mayor solution killing ps tasers right ps tase death rahmemanuel blm ",
         "_deepnote_index_column": 167
        },
        {
         "Datetime": "2016-01",
         "Text": "roof would hav fixed maybe mmunity oddly blood family remember blm",
         "_deepnote_index_column": 168
        },
        {
         "Datetime": "2016-01",
         "Text": "none superpacs gop hillary r public good r private profit uniteblue blm rt ",
         "_deepnote_index_column": 169
        },
        {
         "Datetime": "2016-01",
         "Text": "impossible acmplish one goal sure blm leaders would agree lot work easy",
         "_deepnote_index_column": 170
        },
        {
         "Datetime": "2016-01",
         "Text": "time wanna see hashtag tl blm never support hate cults",
         "_deepnote_index_column": 171
        },
        {
         "Datetime": "2016-01",
         "Text": "let us clear racist like racists ps scared job blm",
         "_deepnote_index_column": 172
        },
        {
         "Datetime": "2016-01",
         "Text": "sure really talking since villanize blm hrc etc",
         "_deepnote_index_column": 173
        },
        {
         "Datetime": "2016-01",
         "Text": "sure one black killed another blm racist group",
         "_deepnote_index_column": 174
        },
        {
         "Datetime": "2016-01",
         "Text": "lol happy new year blm blacklivesmatter alllivesmatter  vqdozlsibt",
         "_deepnote_index_column": 175
        },
        {
         "Datetime": "2016-01",
         "Text": "ps beat mother amp daughter participating blm protest  xnizlymebr via",
         "_deepnote_index_column": 176
        },
        {
         "Datetime": "2016-01",
         "Text": "sir supporter blm though stay lane focus educating white people",
         "_deepnote_index_column": 177
        },
        {
         "Datetime": "2016-01",
         "Text": "liked video  breaking message marine jon ritzheimer blm alert",
         "_deepnote_index_column": 178
        },
        {
         "Datetime": "2016-01",
         "Text": "novel idea blm focused black gangs drugs admit responsible almost murders",
         "_deepnote_index_column": 179
        },
        {
         "Datetime": "2016-01",
         "Text": "would suggest blm lead others ignored back important murdered kids",
         "_deepnote_index_column": 180
        },
        {
         "Datetime": "2016-01",
         "Text": "ways fight police brutality ",
         "_deepnote_index_column": 181
        },
        {
         "Datetime": "2016-01",
         "Text": "florida city p murders dog feet innocent family graphic violence police brutality ",
         "_deepnote_index_column": 182
        },
        {
         "Datetime": "2016-01",
         "Text": "police reform blm arrest black person anything ever racist",
         "_deepnote_index_column": 183
        },
        {
         "Datetime": "2016-01",
         "Text": "talking police brutality black people see report trans woman killed",
         "_deepnote_index_column": 184
        },
        {
         "Datetime": "2016-01",
         "Text": "time see trying silence black people bring police brutality",
         "_deepnote_index_column": 185
        },
        {
         "Datetime": "2016-01",
         "Text": "arab muslims even return greetings black muslims n amerikkka supportive blm please aware amp careful",
         "_deepnote_index_column": 187
        },
        {
         "Datetime": "2016-01",
         "Text": "expecting blm show moment fuck festivities  tuvfluxqqz",
         "_deepnote_index_column": 188
        },
        {
         "Datetime": "2016-01",
         "Text": "r p lives lost charlestonshooting parisattacks policebrutality syria nigeria",
         "_deepnote_index_column": 189
        },
        {
         "Datetime": "2016-01",
         "Text": "police brutality shooting unarmed people lors ",
         "_deepnote_index_column": 190
        },
        {
         "Datetime": "2016-01",
         "Text": "oh hate liars think white supremacist nebraskan grandmas embed blm gather intel",
         "_deepnote_index_column": 191
        },
        {
         "Datetime": "2016-01",
         "Text": "judging young ming gentlemen rape burn young white woman blm ",
         "_deepnote_index_column": 192
        },
        {
         "Datetime": "2016-01",
         "Text": "arab muslims sell black mmunity pork fornication pills rubbers alhol amp never support hoods blm th…",
         "_deepnote_index_column": 193
        },
        {
         "Datetime": "2016-01",
         "Text": "gosh wonder caught civilian murderers blm",
         "_deepnote_index_column": 194
        },
        {
         "Datetime": "2016-01",
         "Text": " via inners funds millions dollars policebrutality payouts",
         "_deepnote_index_column": 195
        },
        {
         "Datetime": "2016-01",
         "Text": "chicago newly released emails reveal ordination teen death laquanmcdonald blm  via",
         "_deepnote_index_column": 197
        },
        {
         "Datetime": "2016-01",
         "Text": "protesting exactly support blm gone circles tonight",
         "_deepnote_index_column": 198
        },
        {
         "Datetime": "2016-01",
         "Text": "blm rioters looters remember ferguson baltimore etc",
         "_deepnote_index_column": 199
        },
        {
         "Datetime": "2016-01",
         "Text": "hell blm leaders calling racist attacks whites attacking whites uple cases kill",
         "_deepnote_index_column": 200
        },
        {
         "Datetime": "2016-01",
         "Text": " maybe blm students see rediculous demands doulbt alllivesmatter",
         "_deepnote_index_column": 201
        },
        {
         "Datetime": "2016-01",
         "Text": "policing different pre militarization amp alternatives around blm notes",
         "_deepnote_index_column": 202
        },
        {
         "Datetime": "2016-01",
         "Text": "still answered question makes addressing issues prerequisite protesting police brutality",
         "_deepnote_index_column": 203
        },
        {
         "Datetime": "2016-01",
         "Text": "guess cia backed plants make look like blm criminals seems legit",
         "_deepnote_index_column": 204
        },
        {
         "Datetime": "2016-01",
         "Text": "hope new year act silenceisviolence blm blacklivesmatter ",
         "_deepnote_index_column": 205
        },
        {
         "Datetime": "2016-01",
         "Text": "philly alition real justice amp blm call racist mummers parade newyearsday ",
         "_deepnote_index_column": 206
        },
        {
         "Datetime": "2016-01",
         "Text": "things actually go police brutality gun violence racism donald trump",
         "_deepnote_index_column": 207
        },
        {
         "Datetime": "2016-01",
         "Text": "sure loud blasts going near house fireworks police brutality",
         "_deepnote_index_column": 208
        },
        {
         "Datetime": "2016-01",
         "Text": "young black men killed ps highest rate deaths blm ",
         "_deepnote_index_column": 209
        },
        {
         "Datetime": "2016-01",
         "Text": "maybe responsible parents would monitor behavior special needs kid blm",
         "_deepnote_index_column": 210
        },
        {
         "Datetime": "2016-01",
         "Text": "show blm criminals show",
         "_deepnote_index_column": 211
        },
        {
         "Datetime": "2016-01",
         "Text": "many folks use article justify hating blm protesters care murdered kids",
         "_deepnote_index_column": 212
        },
        {
         "Datetime": "2016-01",
         "Text": "makes sense lol show blm protesters looted vandalized google",
         "_deepnote_index_column": 213
        },
        {
         "Datetime": "2016-01",
         "Text": "great website gt  check sometime blm",
         "_deepnote_index_column": 214
        },
        {
         "Datetime": "2016-01",
         "Text": "police brutality needs left cannot afford lose another black king queen",
         "_deepnote_index_column": 215
        },
        {
         "Datetime": "2016-01",
         "Text": "journalism straightouttampton talking police brutality shout old school ",
         "_deepnote_index_column": 216
        },
        {
         "Datetime": "2016-01",
         "Text": "horrendous example double standard apart blm would protesting",
         "_deepnote_index_column": 217
        },
        {
         "Datetime": "2016-01",
         "Text": "ha give away every time open mouth blm stooge next time prepare gone",
         "_deepnote_index_column": 218
        },
        {
         "Datetime": "2016-01",
         "Text": "large number matter though shows blm riot loot claims invalid period",
         "_deepnote_index_column": 219
        },
        {
         "Datetime": "2016-01",
         "Text": "people home unbelievably uneducated police brutality get asked riots chicago one time swear",
         "_deepnote_index_column": 221
        },
        {
         "Datetime": "2016-01",
         "Text": "break jail claim police brutality",
         "_deepnote_index_column": 222
        },
        {
         "Datetime": "2016-01",
         "Text": "isis blm blackflag hoisted chicago citywide walkout cauterize  vexmglkkbx",
         "_deepnote_index_column": 223
        },
        {
         "Datetime": "2016-01",
         "Text": "spare thought families loved ones people entering police brutality send love",
         "_deepnote_index_column": 224
        },
        {
         "Datetime": "2016-01",
         "Text": "asthepdforthenewamericanewsnet ivowwewillneverver blm bp burntheb hdown llletmsm fox",
         "_deepnote_index_column": 225
        },
        {
         "Datetime": "2016-01",
         "Text": "bruh fucking kidding gone lock bill old pussy blm wtf ",
         "_deepnote_index_column": 226
        },
        {
         "Datetime": "2016-01",
         "Text": "explain support deference blm",
         "_deepnote_index_column": 227
        },
        {
         "Datetime": "2016-01",
         "Text": "bet klanwithatan mean blm",
         "_deepnote_index_column": 228
        },
        {
         "Datetime": "2016-01",
         "Text": "boytt whole foods horses rounded disappeared blm slaughter wfs buying beef ranchers",
         "_deepnote_index_column": 229
        },
        {
         "Datetime": "2016-01",
         "Text": "things leave police brutality",
         "_deepnote_index_column": 230
        },
        {
         "Datetime": "2016-01",
         "Text": "least popular baby names bill cale police brutality",
         "_deepnote_index_column": 231
        },
        {
         "Datetime": "2016-01",
         "Text": "gun violence police brutality saying platform many moons obama alone ",
         "_deepnote_index_column": 235
        },
        {
         "Datetime": "2016-01",
         "Text": "blm wyoming wild horse facility closed temporarily  via",
         "_deepnote_index_column": 236
        },
        {
         "Datetime": "2016-01",
         "Text": "happy new year  top stars  phokrlvoja king cli police brutality  ndjzjhmlro",
         "_deepnote_index_column": 237
        },
        {
         "Datetime": "2016-01",
         "Text": "police brutality part bet real right",
         "_deepnote_index_column": 238
        },
        {
         "Datetime": "2016-01",
         "Text": "wonder blm folks know blm racist lives matter",
         "_deepnote_index_column": 239
        },
        {
         "Datetime": "2016-01",
         "Text": "ima need police brutality",
         "_deepnote_index_column": 240
        },
        {
         "Datetime": "2016-01",
         "Text": "gop ticket anything lose honest amp wise uniteblue blm rt ",
         "_deepnote_index_column": 241
        },
        {
         "Datetime": "2016-01",
         "Text": "minors legally defined sex trafficking victims trust police policebrutality humantrafficking ",
         "_deepnote_index_column": 242
        },
        {
         "Datetime": "2016-01",
         "Text": "light shed ian murdock police brutality claims ",
         "_deepnote_index_column": 243
        },
        {
         "Datetime": "2016-01",
         "Text": "seen blm supporters disown mlk simply many white ppl like",
         "_deepnote_index_column": 244
        },
        {
         "Datetime": "2016-01",
         "Text": "live hammondranch blm tyranny ",
         "_deepnote_index_column": 245
        },
        {
         "Datetime": "2016-01",
         "Text": "civil war police brutality amp numerous minority deaths ",
         "_deepnote_index_column": 246
        },
        {
         "Datetime": "2016-01",
         "Text": "soros backed progressive activist cannot wait blm types block polling stations",
         "_deepnote_index_column": 247
        },
        {
         "Datetime": "2016-01",
         "Text": "hillary clinton strategies end police brutality amp systemic racism  via",
         "_deepnote_index_column": 248
        },
        {
         "Datetime": "2016-01",
         "Text": "national lawyers guild portland appeal doj police brutality settle  via",
         "_deepnote_index_column": 249
        },
        {
         "Datetime": "2016-01",
         "Text": "probably part blm",
         "_deepnote_index_column": 250
        },
        {
         "Datetime": "2016-01",
         "Text": "thought care underwear never however get emergency topics police brutality",
         "_deepnote_index_column": 251
        },
        {
         "Datetime": "2016-01",
         "Text": "never answered support blm support black lives",
         "_deepnote_index_column": 252
        },
        {
         "Datetime": "2016-01",
         "Text": "liked video  ewkwpmtrti breaking message marine jon ritzheimer blm alert",
         "_deepnote_index_column": 253
        },
        {
         "Datetime": "2016-01",
         "Text": "chip shoulder everyone victim mentality microaggressions blm affluenza pop",
         "_deepnote_index_column": 254
        },
        {
         "Datetime": "2016-01",
         "Text": "well works blm get busy",
         "_deepnote_index_column": 255
        },
        {
         "Datetime": "2016-01",
         "Text": "watched ps would understand everyone gets police brutality deserve",
         "_deepnote_index_column": 256
        },
        {
         "Datetime": "2016-01",
         "Text": "r rrect abt blm rejection potus obama yr left",
         "_deepnote_index_column": 257
        },
        {
         "Datetime": "2016-01",
         "Text": "sign petition  cease settlements amp end blockade gaza uniteblue blm latinos vets",
         "_deepnote_index_column": 258
        },
        {
         "Datetime": "2016-01",
         "Text": "babyboomers sold us left us pick pieces wegotthis feelthebern ows blm happynewyear genx geny millen…",
         "_deepnote_index_column": 259
        },
        {
         "Datetime": "2016-01",
         "Text": "new light shed ian murdock police brutality claims breitbart  via",
         "_deepnote_index_column": 260
        },
        {
         "Datetime": "2016-01",
         "Text": "like small ps happen kill blacks keep people divided like blm amp dumbfuckingass",
         "_deepnote_index_column": 261
        },
        {
         "Datetime": "2016-01",
         "Text": "deray blm changed thinking way mmunicate people ferguson forward deray mckesson protester",
         "_deepnote_index_column": 262
        },
        {
         "Datetime": "2016-01",
         "Text": "disability mmunity discussing police brutality police target white disabled ppl",
         "_deepnote_index_column": 263
        },
        {
         "Datetime": "2016-01",
         "Text": "policebrutality badapples ftp  rvbcwjxvgb",
         "_deepnote_index_column": 264
        },
        {
         "Datetime": "2016-01",
         "Text": "wrong america idiots blm defend likes mikebrown etc raped woman ",
         "_deepnote_index_column": 265
        },
        {
         "Datetime": "2016-01",
         "Text": "newyearsresolutionforblm finally admit believe lives matter think blm",
         "_deepnote_index_column": 266
        },
        {
         "Datetime": "2016-01",
         "Text": "problem world white supremacy let us begin chip away day forward blm rbg",
         "_deepnote_index_column": 267
        },
        {
         "Datetime": "2016-01",
         "Text": "love big southern butte welme landmark desert photo devin engelstead blm ",
         "_deepnote_index_column": 268
        },
        {
         "Datetime": "2016-01",
         "Text": "gone circles sum looter got offended idea support blm",
         "_deepnote_index_column": 269
        },
        {
         "Datetime": "2016-01",
         "Text": "spot liberal internet meme  democrats police blm racism  skxwfhycij",
         "_deepnote_index_column": 270
        },
        {
         "Datetime": "2016-01",
         "Text": "blm update ",
         "_deepnote_index_column": 271
        },
        {
         "Datetime": "2016-01",
         "Text": "people always gotta mock blm movement",
         "_deepnote_index_column": 272
        },
        {
         "Datetime": "2016-01",
         "Text": "uniteblue blm sign petition  tumvnbrnoe sen sanders cease settlements amp end blockade gaza rt",
         "_deepnote_index_column": 273
        },
        {
         "Datetime": "2016-01",
         "Text": "nike busy supporting police brutality care",
         "_deepnote_index_column": 274
        },
        {
         "Datetime": "2016-01",
         "Text": "unarmed white people killed nearly similar rates blm bring zach hammonds case light",
         "_deepnote_index_column": 275
        },
        {
         "Datetime": "2016-01",
         "Text": "joke tweets aside hoping brings hashtags people lost police brutality blacklivesmatter",
         "_deepnote_index_column": 276
        },
        {
         "Datetime": "2016-01",
         "Text": "many people police killed  policebrutality ",
         "_deepnote_index_column": 277
        },
        {
         "Datetime": "2016-01",
         "Text": "folback yaa jangan lupa check acunt kami ya sells anything fashion snack bandung blm follow ",
         "_deepnote_index_column": 278
        },
        {
         "Datetime": "2016-01",
         "Text": "pete santilli show episode ammon bundy blm terrorizes  via",
         "_deepnote_index_column": 279
        },
        {
         "Datetime": "2016-01",
         "Text": "iran ntra start support blm black gang murders drugs looting rioting matter",
         "_deepnote_index_column": 280
        }
       ],
       "rows_bottom": [
        {
         "Datetime": "2016-12",
         "Text": "post project great lives great lies blacks struggle blm whites us immigrants",
         "_deepnote_index_column": 1048237
        },
        {
         "Datetime": "2016-12",
         "Text": "ca blm proud facebook post saying spit police officer starbucks breitbart  via",
         "_deepnote_index_column": 1048238
        },
        {
         "Datetime": "2016-12",
         "Text": "blm stand bloody liberal morons",
         "_deepnote_index_column": 1048242
        },
        {
         "Datetime": "2016-12",
         "Text": "lol ai ios ion als blm lmfao happy happy new year met mother joy cha  ",
         "_deepnote_index_column": 1048243
        },
        {
         "Datetime": "2016-12",
         "Text": "black lives matter blacklives enjoy silence amv  via happynewyear blm gb tx",
         "_deepnote_index_column": 1048244
        },
        {
         "Datetime": "2016-12",
         "Text": "true wards officer sue starbucks blm employees starbucks stay safe",
         "_deepnote_index_column": 1048245
        },
        {
         "Datetime": "2016-12",
         "Text": "chicago police best ensure blm develope without police interference ",
         "_deepnote_index_column": 1048246
        },
        {
         "Datetime": "2016-12",
         "Text": " bhobckoone great videos pics stories greatorg watch amp pray wildhorsepreservation horses help fun…",
         "_deepnote_index_column": 1048247
        },
        {
         "Datetime": "2016-12",
         "Text": "cannot name headquarters blm better troll",
         "_deepnote_index_column": 1048248
        },
        {
         "Datetime": "2016-12",
         "Text": "mining rights two blm sites supposed held american people ",
         "_deepnote_index_column": 1048249
        },
        {
         "Datetime": "2016-12",
         "Text": "one said trying help blm upset bc like fetished white men",
         "_deepnote_index_column": 1048250
        },
        {
         "Datetime": "2016-12",
         "Text": "california blm proud facebook post saying spit police officer starbucks  via",
         "_deepnote_index_column": 1048251
        },
        {
         "Datetime": "2016-12",
         "Text": "excellent point loons zy iran blm yet putin evil duh ",
         "_deepnote_index_column": 1048252
        },
        {
         "Datetime": "2016-12",
         "Text": "police going stop voting democrat democrats cater blm therefore hate ps blm hate group",
         "_deepnote_index_column": 1048253
        },
        {
         "Datetime": "2016-12",
         "Text": "arizona man claims police brutality body camera captures officer pushing  brutality b last yr",
         "_deepnote_index_column": 1048254
        },
        {
         "Datetime": "2016-12",
         "Text": "trust government ha shame blm innocents jail standing rights different  zumqdajlef",
         "_deepnote_index_column": 1048255
        },
        {
         "Datetime": "2016-12",
         "Text": "happy new year w big bruhhhh noah scars nama je dh stylo blm ",
         "_deepnote_index_column": 1048256
        },
        {
         "Datetime": "2016-12",
         "Text": "year date totals chicago murder crime amp mayhem heyjackass blm blacklivesmatter  jibjgtcdwu",
         "_deepnote_index_column": 1048257
        },
        {
         "Datetime": "2016-12",
         "Text": "july fed recent police brutality incidents rerded special episode  atrpfmmqth",
         "_deepnote_index_column": 1048258
        },
        {
         "Datetime": "2016-12",
         "Text": "disagreeing police brutality climate change",
         "_deepnote_index_column": 1048262
        },
        {
         "Datetime": "2016-12",
         "Text": "joyous kwanzaa today day creativity hope taking time reinvent honor new year blm kwanzaa",
         "_deepnote_index_column": 1048263
        },
        {
         "Datetime": "2016-12",
         "Text": "stop messing blm idiots watch bamavswash",
         "_deepnote_index_column": 1048264
        },
        {
         "Datetime": "2016-12",
         "Text": "friendly reminder blm nodapl backlash stems people believe black amp indigenous people fit live",
         "_deepnote_index_column": 1048265
        },
        {
         "Datetime": "2016-12",
         "Text": "yah rest party says people direct resentment blm putin",
         "_deepnote_index_column": 1048266
        },
        {
         "Datetime": "2016-12",
         "Text": "spendkindly whatwouldannoytrumpmost blm donations travel women march ",
         "_deepnote_index_column": 1048268
        },
        {
         "Datetime": "2016-12",
         "Text": "guy soros pays run blm",
         "_deepnote_index_column": 1048269
        },
        {
         "Datetime": "2016-12",
         "Text": "yes hordes us hating illegal immigrants taxpayers pay weak military weak jobs growth rise blm vacat…",
         "_deepnote_index_column": 1048270
        },
        {
         "Datetime": "2016-12",
         "Text": "right human lives mean phrase fyi sentiments existed blm",
         "_deepnote_index_column": 1048271
        },
        {
         "Datetime": "2016-12",
         "Text": "blm antisemitic platform left fully supports",
         "_deepnote_index_column": 1048272
        },
        {
         "Datetime": "2016-12",
         "Text": "would hire member kkk support spit ffee blm police officers",
         "_deepnote_index_column": 1048273
        },
        {
         "Datetime": "2016-12",
         "Text": "shocked face nothing scumbags surprise remember blm karma drives kenworth",
         "_deepnote_index_column": 1048274
        },
        {
         "Datetime": "2016-12",
         "Text": "lol ai ios ion als blm lmfao gif happy party new year happy new yea  ",
         "_deepnote_index_column": 1048275
        },
        {
         "Datetime": "2016-12",
         "Text": "lol ai ios ion als blm lmfao happy new year new years eve via giphy   jtjjoizryg",
         "_deepnote_index_column": 1048276
        },
        {
         "Datetime": "2016-12",
         "Text": "lol ai ios ion als blm lmfao new year happy new year ooo see next year  ",
         "_deepnote_index_column": 1048277
        },
        {
         "Datetime": "2016-12",
         "Text": "phrase would mattered without numerous videos began circulating youtube long blm existed",
         "_deepnote_index_column": 1048279
        },
        {
         "Datetime": "2016-12",
         "Text": "care blm antisemitic platform",
         "_deepnote_index_column": 1048280
        },
        {
         "Datetime": "2016-12",
         "Text": "unless poc women muslims trans gender fluid mmunity blm anyone lgbtq goes without saying obvs",
         "_deepnote_index_column": 1048281
        },
        {
         "Datetime": "2016-12",
         "Text": "need fight blm eliminate hate group thought suppose terrorist",
         "_deepnote_index_column": 1048282
        },
        {
         "Datetime": "2016-12",
         "Text": "blacks jews allied together instead blm aligning palestine seperate matter",
         "_deepnote_index_column": 1048283
        },
        {
         "Datetime": "2016-12",
         "Text": "say blm terrorism amp racism blue uniforms real disgusting ",
         "_deepnote_index_column": 1048284
        },
        {
         "Datetime": "2016-12",
         "Text": "like paint every activist anti police sounds like human problem generalization blm invent",
         "_deepnote_index_column": 1048285
        },
        {
         "Datetime": "2016-12",
         "Text": "terrible lot reasons outside personal life police brutality trump inic deaths etc etc",
         "_deepnote_index_column": 1048286
        },
        {
         "Datetime": "2016-12",
         "Text": "lol ai ios ion als blm lmfao andy samberg dreams inspirational inspire believe  ",
         "_deepnote_index_column": 1048287
        },
        {
         "Datetime": "2016-12",
         "Text": "lol ai ios ion als blm lmfao dance dancing fox drinking new girl alhol boun  ",
         "_deepnote_index_column": 1048288
        },
        {
         "Datetime": "2016-12",
         "Text": "uld fit blm tweet left activist",
         "_deepnote_index_column": 1048290
        },
        {
         "Datetime": "2016-12",
         "Text": "makes endearing justifies police brutality fool",
         "_deepnote_index_column": 1048292
        },
        {
         "Datetime": "2016-12",
         "Text": "fair favorite smn blm chest glamour also kind specific look",
         "_deepnote_index_column": 1048293
        },
        {
         "Datetime": "2016-12",
         "Text": "next horse blm mustang",
         "_deepnote_index_column": 1048294
        },
        {
         "Datetime": "2016-12",
         "Text": "lol ai ios ion als blm lmfao happy new year ghostbusters bill murray ghostbuster  ",
         "_deepnote_index_column": 1048295
        },
        {
         "Datetime": "2016-12",
         "Text": "added video playlist  jason riley heard enough president blm",
         "_deepnote_index_column": 1048296
        },
        {
         "Datetime": "2016-12",
         "Text": "blm anti war ntingent dem party show republicans make renew utilise bernieorbust",
         "_deepnote_index_column": 1048298
        },
        {
         "Datetime": "2016-12",
         "Text": "yea blm never care year old",
         "_deepnote_index_column": 1048299
        },
        {
         "Datetime": "2016-12",
         "Text": "blm organization good cause done anything help problem whatsoever",
         "_deepnote_index_column": 1048300
        },
        {
         "Datetime": "2016-12",
         "Text": "uploaded new episode new years resolutions illegal immigration blm spreaker blacklivesmatter radio ",
         "_deepnote_index_column": 1048301
        },
        {
         "Datetime": "2016-12",
         "Text": "blm grassroots movement thousands people official organizational structure",
         "_deepnote_index_column": 1048304
        },
        {
         "Datetime": "2016-12",
         "Text": "realracism heartbreaking blacklivesmatter bs poor crap criminals mplain go shoot ps theyve never me…",
         "_deepnote_index_column": 1048305
        },
        {
         "Datetime": "2016-12",
         "Text": "blacklivesmatter say blm crickets",
         "_deepnote_index_column": 1048306
        },
        {
         "Datetime": "2016-12",
         "Text": "well racist blm supporters advance hands shoot amp disrespect flag",
         "_deepnote_index_column": 1048307
        },
        {
         "Datetime": "2016-12",
         "Text": "think declare aclu blm terrorist supporting organisations nation god go home",
         "_deepnote_index_column": 1048308
        },
        {
         "Datetime": "2016-12",
         "Text": "ask answer blm terrorists also one saying trump",
         "_deepnote_index_column": 1048309
        },
        {
         "Datetime": "2016-12",
         "Text": "blm rs agents isis muslim terrorists amp classified eat pig shit cause thats spew",
         "_deepnote_index_column": 1048310
        },
        {
         "Datetime": "2016-12",
         "Text": "city admin supports blm deserves suffer ferguson effect",
         "_deepnote_index_column": 1048311
        },
        {
         "Datetime": "2016-12",
         "Text": "deaths celebrities people grew makes mortality feel much close amp real also racism police brutalit…",
         "_deepnote_index_column": 1048312
        },
        {
         "Datetime": "2016-12",
         "Text": "blm gets want results disturbing ",
         "_deepnote_index_column": 1048313
        },
        {
         "Datetime": "2016-12",
         "Text": "addie mae llins one four birmingham girls blm  zravpbkyjb via",
         "_deepnote_index_column": 1048314
        },
        {
         "Datetime": "2016-12",
         "Text": "st louis mo ngressional art ntest winner depicts police brutality protests ",
         "_deepnote_index_column": 1048315
        },
        {
         "Datetime": "2016-12",
         "Text": "yes mostly black black pantywaist girlyman hides fiddles city burns blm",
         "_deepnote_index_column": 1048318
        },
        {
         "Datetime": "2016-12",
         "Text": "mean like trump supporters blm use violence",
         "_deepnote_index_column": 1048319
        },
        {
         "Datetime": "2016-12",
         "Text": "credit blame chicago crime disrespect law enforcement falls blm dems obama ag holder",
         "_deepnote_index_column": 1048320
        },
        {
         "Datetime": "2016-12",
         "Text": "learn obey police mmands arizona man claims police brutality body camera captures officer pushing ",
         "_deepnote_index_column": 1048321
        },
        {
         "Datetime": "2016-12",
         "Text": "blm feels like hostage crisis demands actionable things",
         "_deepnote_index_column": 1048322
        },
        {
         "Datetime": "2016-12",
         "Text": "r different kkk teach hate non blacks amp r irresponsible kkk hate mongers",
         "_deepnote_index_column": 1048323
        },
        {
         "Datetime": "2016-12",
         "Text": "wonder sick blm anti police rhetoric ",
         "_deepnote_index_column": 1048324
        },
        {
         "Datetime": "2016-12",
         "Text": "white supporting blm black people ntradiction supporting hbcus making pwi choice",
         "_deepnote_index_column": 1048325
        },
        {
         "Datetime": "2016-12",
         "Text": "blm standing rock etc",
         "_deepnote_index_column": 1048326
        },
        {
         "Datetime": "2016-12",
         "Text": "blm role models burn stuff dont blah blah blah",
         "_deepnote_index_column": 1048327
        },
        {
         "Datetime": "2016-12",
         "Text": "lol ai ios ion als blm lmfao explosion explode new years last week tonight  ",
         "_deepnote_index_column": 1048328
        },
        {
         "Datetime": "2016-12",
         "Text": "support support benandjerrys icecream blacklivesmatter blm peace ",
         "_deepnote_index_column": 1048329
        },
        {
         "Datetime": "2016-12",
         "Text": "arizona man claims police brutality body camera captures officer pushing ground yahoo ",
         "_deepnote_index_column": 1048330
        },
        {
         "Datetime": "2016-12",
         "Text": "black ppl police black mmunities history police brutality black ppl forced protect",
         "_deepnote_index_column": 1048331
        },
        {
         "Datetime": "2016-12",
         "Text": "dems blm celebrating",
         "_deepnote_index_column": 1048332
        },
        {
         "Datetime": "2016-12",
         "Text": "gonna blame blm nah",
         "_deepnote_index_column": 1048333
        },
        {
         "Datetime": "2016-12",
         "Text": "forget p suicide blamed blm amp movement ",
         "_deepnote_index_column": 1048334
        },
        {
         "Datetime": "2016-12",
         "Text": "like support blm enurages violence police obama traitor abiding working americans boytt nbc unless …",
         "_deepnote_index_column": 1048335
        },
        {
         "Datetime": "2016-12",
         "Text": "seems like since trump selected stop showing police brutality ",
         "_deepnote_index_column": 1048336
        },
        {
         "Datetime": "2016-12",
         "Text": "saw blm shirts walmart lol",
         "_deepnote_index_column": 1048338
        },
        {
         "Datetime": "2016-12",
         "Text": "arizona man claims police brutality body camera captures officer pushing ground  aipompneek ",
         "_deepnote_index_column": 1048339
        },
        {
         "Datetime": "2016-12",
         "Text": "lol ai ios ion als blm lmfao movie dance film dancing party medy retro   lkrkgjxdgv",
         "_deepnote_index_column": 1048340
        },
        {
         "Datetime": "2016-12",
         "Text": "mean blm throw rocks throw way",
         "_deepnote_index_column": 1048341
        },
        {
         "Datetime": "2016-12",
         "Text": "solarenergy blm rensiders solar energy zone ",
         "_deepnote_index_column": 1048343
        },
        {
         "Datetime": "2016-12",
         "Text": "celebrities die bad year someone forgot election police brutality syrian refugee crisis amp martin …",
         "_deepnote_index_column": 1048344
        },
        {
         "Datetime": "2016-12",
         "Text": "mother blm arn destroy usa democratic party u ",
         "_deepnote_index_column": 1048345
        },
        {
         "Datetime": "2016-12",
         "Text": "talib hypocrite bruh preaching blm believe yo self bruh god knows lyin karmas min",
         "_deepnote_index_column": 1048346
        },
        {
         "Datetime": "2016-12",
         "Text": "yes done bringing nation together like backing veterans police officers urse ndeming blm",
         "_deepnote_index_column": 1048347
        },
        {
         "Datetime": "2016-12",
         "Text": "park ranger firefighter engineer blm jobs open oregon right apply  hiring jobs ",
         "_deepnote_index_column": 1048350
        },
        {
         "Datetime": "2016-12",
         "Text": "means mmitted blm",
         "_deepnote_index_column": 1048351
        },
        {
         "Datetime": "2016-12",
         "Text": "chicago hit worst violence nearly years someone tell obama amp blm oh blk blk fit story ",
         "_deepnote_index_column": 1048352
        },
        {
         "Datetime": "2016-12",
         "Text": "said civil rights moment famous nonviolent protests unlike blm calls dead ps read much",
         "_deepnote_index_column": 1048353
        },
        {
         "Datetime": "2016-12",
         "Text": "gay agenda explained rey holmb show  via blm mlk noi uk brockturner obama",
         "_deepnote_index_column": 1048354
        },
        {
         "Datetime": "2016-12",
         "Text": "acunt ps killed blm qualify terrorist hate group",
         "_deepnote_index_column": 1048355
        },
        {
         "Datetime": "2016-12",
         "Text": "funny hypocritical mparison like blm saying ps bad die fry acts based false narrative ",
         "_deepnote_index_column": 1048356
        },
        {
         "Datetime": "2016-12",
         "Text": "final oped via blm offshoot embraces anti semitism engages terrorists ",
         "_deepnote_index_column": 1048357
        },
        {
         "Datetime": "2016-12",
         "Text": "blm  opted ola amp turned hate crime tbh",
         "_deepnote_index_column": 1048358
        },
        {
         "Datetime": "2016-12",
         "Text": "hells canyon wilderness area idaho established day idahome trailmob  pc blm ",
         "_deepnote_index_column": 1048359
        },
        {
         "Datetime": "2016-12",
         "Text": "lol ai ios ion als blm lmfao tv happy fun party birthday excited celebration   adzgzympzs",
         "_deepnote_index_column": 1048360
        },
        {
         "Datetime": "2016-12",
         "Text": "would say blacks regards blm plenty poc support movement amp violence",
         "_deepnote_index_column": 1048361
        },
        {
         "Datetime": "2016-12",
         "Text": "hells canyon wilderness area idaho established day idahome trailmob  pc blm  eizdfuhcaw",
         "_deepnote_index_column": 1048362
        },
        {
         "Datetime": "2016-12",
         "Text": "boredom ha joke like rest bullshit nyt probably stupid blm strategy disruption",
         "_deepnote_index_column": 1048363
        },
        {
         "Datetime": "2016-12",
         "Text": "pretty sweet ones later one favorite ones blm lt ",
         "_deepnote_index_column": 1048364
        },
        {
         "Datetime": "2016-12",
         "Text": "honey dallas people gave blm chance got dead ps blm cheered change mind",
         "_deepnote_index_column": 1048365
        },
        {
         "Datetime": "2016-12",
         "Text": "paid show blm funded white liberals",
         "_deepnote_index_column": 1048366
        },
        {
         "Datetime": "2016-12",
         "Text": "real read thread blm canada inspiration deserves attention dismissal ",
         "_deepnote_index_column": 1048367
        },
        {
         "Datetime": "2016-12",
         "Text": "fair capitalism sole reason failure chicago gentrification still blm",
         "_deepnote_index_column": 1048368
        },
        {
         "Datetime": "2016-12",
         "Text": "blm great work ",
         "_deepnote_index_column": 1048369
        },
        {
         "Datetime": "2016-12",
         "Text": "friends white people blm lmaooooo ",
         "_deepnote_index_column": 1048371
        },
        {
         "Datetime": "2016-12",
         "Text": "blm cares riots money neither challenging gangbangers police department equals money amp media ",
         "_deepnote_index_column": 1048372
        },
        {
         "Datetime": "2016-12",
         "Text": "worry blm trip wh obozo goes",
         "_deepnote_index_column": 1048373
        },
        {
         "Datetime": "2016-12",
         "Text": "notes thing phone blm vines idk",
         "_deepnote_index_column": 1048374
        },
        {
         "Datetime": "2016-12",
         "Text": "black bishop nfronts blm black black violence ",
         "_deepnote_index_column": 1048375
        },
        {
         "Datetime": "2016-12",
         "Text": "thinks solution police brutality greater mpliance talk missing point  wmepurog",
         "_deepnote_index_column": 1048377
        },
        {
         "Datetime": "2016-12",
         "Text": "rashid sorry hear untimely death unfortunately wasnt white person unt blm",
         "_deepnote_index_column": 1048378
        },
        {
         "Datetime": "2016-12",
         "Text": "know good artists paint blm thugs jackals ",
         "_deepnote_index_column": 1048379
        },
        {
         "Datetime": "2016-12",
         "Text": "blm hate based organization serves profit racial greivance vicitimzation dividing u",
         "_deepnote_index_column": 1048380
        },
        {
         "Datetime": "2016-12",
         "Text": "right really brought forest gump though uld said something police brutality instead",
         "_deepnote_index_column": 1048381
        },
        {
         "Datetime": "2016-12",
         "Text": "purpose start race war succeeded legitimizing blm blacks fully believe victims",
         "_deepnote_index_column": 1048382
        },
        {
         "Datetime": "2016-12",
         "Text": "dude even tweet back gso looking blm events remember digging shoes",
         "_deepnote_index_column": 1048383
        },
        {
         "Datetime": "2016-12",
         "Text": "black lives matter offshoot embraces anti semitism engages terrorists  blm leads war israel amp gen…",
         "_deepnote_index_column": 1048384
        },
        {
         "Datetime": "2016-12",
         "Text": "simple divide people bring together ngrats way positive influence nation",
         "_deepnote_index_column": 1048385
        },
        {
         "Datetime": "2016-12",
         "Text": "look fan blm organizers meaning behind statement amp cause necessary",
         "_deepnote_index_column": 1048386
        },
        {
         "Datetime": "2016-12",
         "Text": "inspite negative press racist trying intimate org keep pressure money power",
         "_deepnote_index_column": 1048387
        },
        {
         "Datetime": "2016-12",
         "Text": "least get watch blm sponsored gatorade mmercial times half ends",
         "_deepnote_index_column": 1048388
        },
        {
         "Datetime": "2016-12",
         "Text": "check wants racial healing giving big bucks blm turds idiots ",
         "_deepnote_index_column": 1048389
        },
        {
         "Datetime": "2016-12",
         "Text": "response people understand blm ",
         "_deepnote_index_column": 1048390
        },
        {
         "Datetime": "2016-12",
         "Text": "feel free arbitrary blame guns though others blame blm wrong",
         "_deepnote_index_column": 1048391
        },
        {
         "Datetime": "2016-12",
         "Text": "brockturner policebrutality johnrkhoward made clear screwed justice system",
         "_deepnote_index_column": 1048392
        },
        {
         "Datetime": "2016-12",
         "Text": "blm supporters marching highway excluded ",
         "_deepnote_index_column": 1048393
        },
        {
         "Datetime": "2016-12",
         "Text": "gone challenge  via boss bars sorrynotsorry gxldengods uk gb blm london",
         "_deepnote_index_column": 1048394
        },
        {
         "Datetime": "2016-12",
         "Text": "nick cannon trying leave dark side front blm protestors",
         "_deepnote_index_column": 1048395
        },
        {
         "Datetime": "2016-12",
         "Text": "believe last blm protest offduty p killed armed offender pics net w gun",
         "_deepnote_index_column": 1048396
        },
        {
         "Datetime": "2016-12",
         "Text": "instead media focusing fact focused anti blm pro police protest person yelling n word",
         "_deepnote_index_column": 1048397
        },
        {
         "Datetime": "2016-12",
         "Text": "arizona man claims police brutality body camera captures officer pushing ground  wxifpfsvqu via",
         "_deepnote_index_column": 1048398
        },
        {
         "Datetime": "2016-12",
         "Text": "obama care law enforcement practically started blm bunch domestic terrorists pospotus",
         "_deepnote_index_column": 1048399
        },
        {
         "Datetime": "2016-12",
         "Text": "let us find reasons challenge injustice time dissent division progress fears age ethnic cultural li…",
         "_deepnote_index_column": 1048400
        },
        {
         "Datetime": "2016-12",
         "Text": "urse blm displays care black black shootings occur police better shoot criminals hypocrisy fr left ",
         "_deepnote_index_column": 1048401
        },
        {
         "Datetime": "2016-12",
         "Text": "retweetit shareit rt unityisourmight  blm black african pleasekindlysharet umoja spreaddword",
         "_deepnote_index_column": 1048402
        },
        {
         "Datetime": "2016-12",
         "Text": "blm joel ward awesome last night nevermind pr",
         "_deepnote_index_column": 1048404
        },
        {
         "Datetime": "2016-12",
         "Text": "blm social justice group based lies used promote socialism",
         "_deepnote_index_column": 1048406
        },
        {
         "Datetime": "2016-12",
         "Text": "hope police brutality",
         "_deepnote_index_column": 1048407
        },
        {
         "Datetime": "2016-12",
         "Text": "year living dangerously nservationist terry tempest williams steps blm environment guardian ",
         "_deepnote_index_column": 1048408
        },
        {
         "Datetime": "2016-12",
         "Text": "blm merem samsek ini wanna know feat kendrick lamar ceissahaliza hesty ",
         "_deepnote_index_column": 1048410
        },
        {
         "Datetime": "2016-12",
         "Text": "blm help black people see baltimore murder rate freddie grey",
         "_deepnote_index_column": 1048412
        },
        {
         "Datetime": "2016-12",
         "Text": "remembering people lost lives police blm still ",
         "_deepnote_index_column": 1048413
        },
        {
         "Datetime": "2016-12",
         "Text": "gmas best friend making fun blm im gonna fuckin die",
         "_deepnote_index_column": 1048414
        },
        {
         "Datetime": "2016-12",
         "Text": "always agreed blm tactics hate group bannon  breitbart trying destroy blm ok",
         "_deepnote_index_column": 1048415
        },
        {
         "Datetime": "2016-12",
         "Text": "look blm demands list get back",
         "_deepnote_index_column": 1048416
        },
        {
         "Datetime": "2016-12",
         "Text": "disagree participated blm marches la peaceful ones many races",
         "_deepnote_index_column": 1048417
        },
        {
         "Datetime": "2016-12",
         "Text": "good good thoughts like mparison feminism blm",
         "_deepnote_index_column": 1048419
        },
        {
         "Datetime": "2016-12",
         "Text": "really hope someone get us justice police brutality",
         "_deepnote_index_column": 1048420
        },
        {
         "Datetime": "2016-12",
         "Text": "blm expert even look platform",
         "_deepnote_index_column": 1048421
        },
        {
         "Datetime": "2016-12",
         "Text": "la raza bet black entertainment channel naacp premio lo nuestro blm examples racists organizations",
         "_deepnote_index_column": 1048422
        },
        {
         "Datetime": "2016-12",
         "Text": "real racist feds blm instigator minutes later ",
         "_deepnote_index_column": 1048423
        },
        {
         "Datetime": "2016-12",
         "Text": "suppose point police brutality enemy us blm focusing exclusively",
         "_deepnote_index_column": 1048424
        },
        {
         "Datetime": "2016-12",
         "Text": "whadda bout cue whiny voice me people blm mplicated ncept",
         "_deepnote_index_column": 1048426
        },
        {
         "Datetime": "2016-12",
         "Text": "freedom always ming hereafter know hereafter hustle want ty blm",
         "_deepnote_index_column": 1048428
        },
        {
         "Datetime": "2016-12",
         "Text": "please return wild r american ins belong stop blm cruelty greed ",
         "_deepnote_index_column": 1048429
        },
        {
         "Datetime": "2016-12",
         "Text": " need help blm",
         "_deepnote_index_column": 1048430
        },
        {
         "Datetime": "2016-12",
         "Text": "wow followers one day pretty awesome opinion thank follow us blogs info me blm",
         "_deepnote_index_column": 1048431
        },
        {
         "Datetime": "2016-12",
         "Text": "terms police brutality amp violence towards us melanin enhanced people apparently justified cuz fol…",
         "_deepnote_index_column": 1048432
        },
        {
         "Datetime": "2016-12",
         "Text": "lol ai ios ion als blm lmfao funny gtfo get hot girls profanity via giphy  ",
         "_deepnote_index_column": 1048433
        },
        {
         "Datetime": "2016-12",
         "Text": "question blm black lives matter less lives steve good",
         "_deepnote_index_column": 1048434
        },
        {
         "Datetime": "2016-12",
         "Text": "blm effectively shot foot actions done",
         "_deepnote_index_column": 1048436
        },
        {
         "Datetime": "2016-12",
         "Text": "shine spotlight police brutality year end giving make tax deductible donation profiled today  ",
         "_deepnote_index_column": 1048437
        },
        {
         "Datetime": "2016-12",
         "Text": "luciferskittin police brutality march portland oregon ",
         "_deepnote_index_column": 1048438
        },
        {
         "Datetime": "2016-12",
         "Text": "blm hate group matter try spin",
         "_deepnote_index_column": 1048439
        },
        {
         "Datetime": "2016-12",
         "Text": "know puss respond mments",
         "_deepnote_index_column": 1048441
        },
        {
         "Datetime": "2016-12",
         "Text": "islamic uncil mexican education board blm affiliate teaming ban white speech ",
         "_deepnote_index_column": 1048442
        },
        {
         "Datetime": "2016-12",
         "Text": "grateful thread specifically diamond blm  rdcdwskcbo",
         "_deepnote_index_column": 1048445
        },
        {
         "Datetime": "2016-12",
         "Text": "mention police shootings justified fail mention murdered ps hands racist blm",
         "_deepnote_index_column": 1048446
        },
        {
         "Datetime": "2016-12",
         "Text": "shared left media showing police brutality strike weeks hospitals increase patients",
         "_deepnote_index_column": 1048447
        },
        {
         "Datetime": "2016-12",
         "Text": "blacks always think important whydo shoot othern yell blm",
         "_deepnote_index_column": 1048448
        },
        {
         "Datetime": "2016-12",
         "Text": "hey blm dead injured nnecticut shooting rapper ncert  via android app",
         "_deepnote_index_column": 1048449
        },
        {
         "Datetime": "2016-12",
         "Text": "rare exception blm much ntinued hatred ps fuels behavior",
         "_deepnote_index_column": 1048450
        },
        {
         "Datetime": "2016-12",
         "Text": "trend stand blm thugs murder policemen know r bad ps target wrong",
         "_deepnote_index_column": 1048451
        },
        {
         "Datetime": "2016-12",
         "Text": "lol ai ios ion als blm lmfao dancing russia party hard night club via giphy  ianewstxlr ",
         "_deepnote_index_column": 1048452
        },
        {
         "Datetime": "2016-12",
         "Text": "blm politically biased discredited worse crying shame embraced likes hillary amp  relief ",
         "_deepnote_index_column": 1048454
        },
        {
         "Datetime": "2016-12",
         "Text": "wow guy blamed wife gunfail killing fear blm turns owed ",
         "_deepnote_index_column": 1048456
        },
        {
         "Datetime": "2016-12",
         "Text": "never took blm serious stuff like",
         "_deepnote_index_column": 1048457
        },
        {
         "Datetime": "2016-12",
         "Text": "wrong w blm emphasizes police give blacks nsideration whites",
         "_deepnote_index_column": 1048458
        },
        {
         "Datetime": "2016-12",
         "Text": "know trump play ground blm supporter member says lot thug",
         "_deepnote_index_column": 1048459
        },
        {
         "Datetime": "2016-12",
         "Text": "really blm bio like people truly put deration ",
         "_deepnote_index_column": 1048460
        },
        {
         "Datetime": "2016-12",
         "Text": "mr pointer think blm ndones p killings listened blm",
         "_deepnote_index_column": 1048461
        },
        {
         "Datetime": "2016-12",
         "Text": "examiner piece written hater article black owned paper fighting police brutality",
         "_deepnote_index_column": 1048463
        },
        {
         "Datetime": "2016-12",
         "Text": "anything except question views blm",
         "_deepnote_index_column": 1048465
        },
        {
         "Datetime": "2016-12",
         "Text": "two offenses blm evan big boys live",
         "_deepnote_index_column": 1048466
        },
        {
         "Datetime": "2016-12",
         "Text": "gone blm bio insult aave ion get boo ",
         "_deepnote_index_column": 1048468
        },
        {
         "Datetime": "2016-12",
         "Text": "blm group domestic terrorists",
         "_deepnote_index_column": 1048470
        },
        {
         "Datetime": "2016-12",
         "Text": "people want act like aholes play victims police job blm would get shot",
         "_deepnote_index_column": 1048471
        },
        {
         "Datetime": "2016-12",
         "Text": "may started needs end case nothing blm inciting p killings",
         "_deepnote_index_column": 1048474
        },
        {
         "Datetime": "2016-12",
         "Text": "year police brutality crazy election rising kkk terrorist attacks challenges celebrity deaths missed",
         "_deepnote_index_column": 1048476
        },
        {
         "Datetime": "2016-12",
         "Text": "verage police brutality outside brick bar early morning ",
         "_deepnote_index_column": 1048477
        },
        {
         "Datetime": "2016-12",
         "Text": "crystal valentine news reporter says jesus white  via happynewyear blacklivesmatter blm v",
         "_deepnote_index_column": 1048478
        },
        {
         "Datetime": "2016-12",
         "Text": "going st standing rock reports show water protectors arrested police brutality drilling going pleas…",
         "_deepnote_index_column": 1048479
        },
        {
         "Datetime": "2016-12",
         "Text": "applaud barista spit ps ffee like blm",
         "_deepnote_index_column": 1048480
        },
        {
         "Datetime": "2016-12",
         "Text": "self inflicted wound btw blm word interesting active campaign",
         "_deepnote_index_column": 1048481
        },
        {
         "Datetime": "2016-12",
         "Text": "help spread word share far wide let us stop blm ",
         "_deepnote_index_column": 1048482
        },
        {
         "Datetime": "2016-12",
         "Text": "wtf sympathize animals easily try tell em blm like wait",
         "_deepnote_index_column": 1048483
        },
        {
         "Datetime": "2016-12",
         "Text": "started blm almost turned looting parties",
         "_deepnote_index_column": 1048484
        },
        {
         "Datetime": "2016-12",
         "Text": "darling simple minded head pat",
         "_deepnote_index_column": 1048485
        },
        {
         "Datetime": "2016-12",
         "Text": "ca blm proud fb post saying spit police officer starbucks  test drink dna",
         "_deepnote_index_column": 1048486
        },
        {
         "Datetime": "2016-12",
         "Text": "tour cabrini green projects amp dangerous streets chicago  via chiraq blm gxldengods",
         "_deepnote_index_column": 1048487
        },
        {
         "Datetime": "2016-12",
         "Text": "get evan blm support dem listen lost",
         "_deepnote_index_column": 1048488
        },
        {
         "Datetime": "2016-12",
         "Text": "blm stockton praises behavior",
         "_deepnote_index_column": 1048489
        },
        {
         "Datetime": "2016-12",
         "Text": "lol ai ios ion als blm lmfao happy fun yes celebrate happy new year yay thank   ydeuoxchic",
         "_deepnote_index_column": 1048491
        },
        {
         "Datetime": "2016-12",
         "Text": "silly girl blm gang must victim oppressive society cannot blame",
         "_deepnote_index_column": 1048492
        },
        {
         "Datetime": "2016-12",
         "Text": "undivided attention clearly deserves blm blackoncampus ",
         "_deepnote_index_column": 1048493
        },
        {
         "Datetime": "2016-12",
         "Text": "year living dangerously nservationist terrytempestwilliams steps blm  ",
         "_deepnote_index_column": 1048495
        },
        {
         "Datetime": "2016-12",
         "Text": "uld talk police brutality rioting everything else happened year",
         "_deepnote_index_column": 1048496
        },
        {
         "Datetime": "2016-12",
         "Text": "moment silence black men women victim police brutality didnt make",
         "_deepnote_index_column": 1048497
        },
        {
         "Datetime": "2016-12",
         "Text": "key word experiment blm would us think care wilds ",
         "_deepnote_index_column": 1048498
        },
        {
         "Datetime": "2016-12",
         "Text": "la police mmissioner accused distorting truth retaliate blm  znkcliyuiy",
         "_deepnote_index_column": 1048500
        },
        {
         "Datetime": "2016-12",
         "Text": "enough bullshit protests like blm crap terrorist activism would fire every football player also",
         "_deepnote_index_column": 1048501
        },
        {
         "Datetime": "2016-12",
         "Text": "lol ai ios ion als blm lmfao happy new year whatever shrug unimpressed nfetti   ckllottbon",
         "_deepnote_index_column": 1048502
        },
        {
         "Datetime": "2016-12",
         "Text": "lol ai ios ion als blm lmfao drinking drink shit alec baldwin whiskey need  lyhqkhafjr ",
         "_deepnote_index_column": 1048503
        },
        {
         "Datetime": "2016-12",
         "Text": "lol ai ios ion als blm lmfao funny animation dance party weird friday candy  ",
         "_deepnote_index_column": 1048504
        },
        {
         "Datetime": "2016-12",
         "Text": "lol ai ios ion als blm lmfao music party hard george michael haters gonna h  gfsdfpuewe ",
         "_deepnote_index_column": 1048505
        },
        {
         "Datetime": "2016-12",
         "Text": "mmissioner accused distorting truth retaliate blm  amerikkka racist land free",
         "_deepnote_index_column": 1048506
        },
        {
         "Datetime": "2016-12",
         "Text": "resort name calling funny much ppl say blm injustices",
         "_deepnote_index_column": 1048511
        },
        {
         "Datetime": "2016-12",
         "Text": "must racist xenophobic homophobic white supremacist right least blm tells",
         "_deepnote_index_column": 1048512
        },
        {
         "Datetime": "2016-12",
         "Text": "look like member blm",
         "_deepnote_index_column": 1048513
        },
        {
         "Datetime": "2016-12",
         "Text": "r naacp la raza lo nuestro blm planned parenthood racists stay away fall hate",
         "_deepnote_index_column": 1048514
        },
        {
         "Datetime": "2016-12",
         "Text": "lol ai ios ion als blm lmfao drinking drink shit alec baldwin whiskey need  hrsmjywtnl ",
         "_deepnote_index_column": 1048515
        },
        {
         "Datetime": "2016-12",
         "Text": "reporter dares spend night mean streets chicago  via happynewyear blm brockturner obama",
         "_deepnote_index_column": 1048516
        },
        {
         "Datetime": "2016-12",
         "Text": "nope politician foxnews pandit right wing christian mention victims police brutality",
         "_deepnote_index_column": 1048517
        },
        {
         "Datetime": "2016-12",
         "Text": "hundreds people arrested annually w probable cause strip searched denied ntact w lawyer criminaljus…",
         "_deepnote_index_column": 1048518
        },
        {
         "Datetime": "2016-12",
         "Text": "yes like saying cannot support blm black ",
         "_deepnote_index_column": 1048519
        },
        {
         "Datetime": "2016-12",
         "Text": "leave deray mckesson black men  opt black women organizing work blm",
         "_deepnote_index_column": 1048520
        },
        {
         "Datetime": "2016-12",
         "Text": " blacklivesmatter schools follow studentsnotsuspects sign petition",
         "_deepnote_index_column": 1048521
        },
        {
         "Datetime": "2016-12",
         "Text": "big problem win cannot govern la ks ky mi nc nj ect ect blm blackoncampus ",
         "_deepnote_index_column": 1048522
        },
        {
         "Datetime": "2016-12",
         "Text": " ymrwpykdkz blm clan always talking persecuted wants persecute jews duh",
         "_deepnote_index_column": 1048523
        },
        {
         "Datetime": "2016-12",
         "Text": "start acting like students people treat like suspects easy",
         "_deepnote_index_column": 1048524
        },
        {
         "Datetime": "2016-12",
         "Text": "especially blm thank nforming social norms know thank poetry threads",
         "_deepnote_index_column": 1048526
        },
        {
         "Datetime": "2016-12",
         "Text": "lol ai ios ion als blm lmfao celebrate cheers champagne champagne bottle via gip   zhtgdsgkgo",
         "_deepnote_index_column": 1048527
        },
        {
         "Datetime": "2016-12",
         "Text": "tragic reality never cared ",
         "_deepnote_index_column": 1048528
        },
        {
         "Datetime": "2016-12",
         "Text": "agree w substance post using lang blm name think say something easily misnstrued ntext",
         "_deepnote_index_column": 1048529
        },
        {
         "Datetime": "2016-12",
         "Text": "better launching blm vest llection  qvmiseohoa",
         "_deepnote_index_column": 1048530
        },
        {
         "Datetime": "2016-12",
         "Text": "dont hear media calling obama denounce blm like ask trump denounce kkk",
         "_deepnote_index_column": 1048531
        },
        {
         "Datetime": "2016-12",
         "Text": "walking thru derrick rose hood never seen footage  via happynewyear brockturner obama blm v",
         "_deepnote_index_column": 1048532
        },
        {
         "Datetime": "2016-12",
         "Text": "either way ohiostate vs clemson game blows black qb ntending nat l cfb championship proud blm",
         "_deepnote_index_column": 1048533
        },
        {
         "Datetime": "2016-12",
         "Text": "chant blm blackexcellence rest lives till day die still let event end arkansas",
         "_deepnote_index_column": 1048534
        },
        {
         "Datetime": "2016-12",
         "Text": "get thought process behind think rly dont get point blm  sbzdpearga",
         "_deepnote_index_column": 1048535
        }
       ]
      },
      "text/plain": "        Datetime                                               Text\n0        2016-01  talk soros old whit billionaire funds blm leak...\n1        2016-01              happynewyear everyone blm  kcqfurcaxn\n2        2016-01  iron fist power clamped humanity warfare terro...\n3        2016-01  sadly falling bs blm loons pushing pretty path...\n4        2016-01       honour police brutality sgt shamar thomas   \n...          ...                                                ...\n1048531  2016-12  dont hear media calling obama denounce blm lik...\n1048532  2016-12  walking thru derrick rose hood never seen foot...\n1048533  2016-12  either way ohiostate vs clemson game blows bla...\n1048534  2016-12  chant blm blackexcellence rest lives till day ...\n1048535  2016-12  get thought process behind think rly dont get ...\n\n[866655 rows x 2 columns]",
      "text/html": "<div>\n<style scoped>\n    .dataframe tbody tr th:only-of-type {\n        vertical-align: middle;\n    }\n\n    .dataframe tbody tr th {\n        vertical-align: top;\n    }\n\n    .dataframe thead th {\n        text-align: right;\n    }\n</style>\n<table border=\"1\" class=\"dataframe\">\n  <thead>\n    <tr style=\"text-align: right;\">\n      <th></th>\n      <th>Datetime</th>\n      <th>Text</th>\n    </tr>\n  </thead>\n  <tbody>\n    <tr>\n      <th>0</th>\n      <td>2016-01</td>\n      <td>talk soros old whit billionaire funds blm leak...</td>\n    </tr>\n    <tr>\n      <th>1</th>\n      <td>2016-01</td>\n      <td>happynewyear everyone blm  kcqfurcaxn</td>\n    </tr>\n    <tr>\n      <th>2</th>\n      <td>2016-01</td>\n      <td>iron fist power clamped humanity warfare terro...</td>\n    </tr>\n    <tr>\n      <th>3</th>\n      <td>2016-01</td>\n      <td>sadly falling bs blm loons pushing pretty path...</td>\n    </tr>\n    <tr>\n      <th>4</th>\n      <td>2016-01</td>\n      <td>honour police brutality sgt shamar thomas</td>\n    </tr>\n    <tr>\n      <th>...</th>\n      <td>...</td>\n      <td>...</td>\n    </tr>\n    <tr>\n      <th>1048531</th>\n      <td>2016-12</td>\n      <td>dont hear media calling obama denounce blm lik...</td>\n    </tr>\n    <tr>\n      <th>1048532</th>\n      <td>2016-12</td>\n      <td>walking thru derrick rose hood never seen foot...</td>\n    </tr>\n    <tr>\n      <th>1048533</th>\n      <td>2016-12</td>\n      <td>either way ohiostate vs clemson game blows bla...</td>\n    </tr>\n    <tr>\n      <th>1048534</th>\n      <td>2016-12</td>\n      <td>chant blm blackexcellence rest lives till day ...</td>\n    </tr>\n    <tr>\n      <th>1048535</th>\n      <td>2016-12</td>\n      <td>get thought process behind think rly dont get ...</td>\n    </tr>\n  </tbody>\n</table>\n<p>866655 rows × 2 columns</p>\n</div>"
     },
     "metadata": {}
    }
   ]
  },
  {
   "cell_type": "code",
   "metadata": {
    "tags": [],
    "cell_id": "00066-e49106d3-4114-48ae-9007-51e01be34abe",
    "deepnote_to_be_reexecuted": true,
    "source_hash": "72feda6c",
    "execution_start": 1635652111799,
    "execution_millis": 545,
    "deepnote_cell_type": "code"
   },
   "source": "f2016_copy = f2016.drop_duplicates(subset=['Text'])",
   "execution_count": null,
   "outputs": []
  },
  {
   "cell_type": "code",
   "metadata": {
    "tags": [],
    "cell_id": "00062-5e2565a8-8d92-4329-a2a8-3514964c5590",
    "deepnote_to_be_reexecuted": true,
    "source_hash": "c2ab3652",
    "execution_start": 1635654915275,
    "execution_millis": 5405,
    "is_output_hidden": false,
    "deepnote_cell_type": "code"
   },
   "source": "from numpy import loadtxt\nfrom tensorflow.keras.models import load_model\n\n# save model\nlstm_model.save('final_lstm_1')\n# load model\n# model = load_model('final_lstm_1')\n# summarize model.\nlstm_model.summary()\n# load dataset\n# dataset = loadtxt(\"final2016forreal.csv\", delimiter=\",\", encoding ='latin1')\n# split into input (X) and output (Y) variables\n# X = dataset1[:,0:8]\n# Y = dataset1[:,8]\n# # evaluate the model\n# score = model.evaluate(X, Y, verbose=0)\n# print(\"%s: %.2f%%\" % (model.metrics_names[1], score[1]*100))",
   "execution_count": null,
   "outputs": [
    {
     "name": "stdout",
     "text": "INFO:tensorflow:Assets written to: final_lstm_1/assets\nModel: \"sequential\"\n_________________________________________________________________\nLayer (type)                 Output Shape              Param #   \n=================================================================\nembedding (Embedding)        (None, 37, 24)            806112    \n_________________________________________________________________\nlstm (LSTM)                  (None, 100)               50000     \n_________________________________________________________________\ndense (Dense)                (None, 64)                6464      \n_________________________________________________________________\ndropout (Dropout)            (None, 64)                0         \n_________________________________________________________________\ndense_1 (Dense)              (None, 64)                4160      \n_________________________________________________________________\ndropout_1 (Dropout)          (None, 64)                0         \n_________________________________________________________________\ndense_2 (Dense)              (None, 64)                4160      \n_________________________________________________________________\ndropout_2 (Dropout)          (None, 64)                0         \n_________________________________________________________________\ndense_3 (Dense)              (None, 1)                 65        \n=================================================================\nTotal params: 870,961\nTrainable params: 870,961\nNon-trainable params: 0\n_________________________________________________________________\n",
     "output_type": "stream"
    }
   ]
  },
  {
   "cell_type": "code",
   "metadata": {
    "tags": [],
    "cell_id": "00064-f136dd3a-9070-47a1-b440-c28bef225af7",
    "deepnote_to_be_reexecuted": true,
    "source_hash": "90135af9",
    "execution_start": 1635650586386,
    "execution_millis": 75,
    "deepnote_cell_type": "code"
   },
   "source": "new_tweet = ['police brutality is a super bad cause and John curse it TF']\nseq = tokenizer.texts_to_sequences(new_tweet)\npadded = pad_sequences(seq, maxlen=200)\npred = lstm_model.predict(padded)\nlabels = [1,0]\nprint(pred)",
   "execution_count": null,
   "outputs": [
    {
     "name": "stdout",
     "text": "[[5.901549e-08]]\n",
     "output_type": "stream"
    }
   ]
  },
  {
   "cell_type": "markdown",
   "source": "## LSTM prediction",
   "metadata": {
    "tags": [],
    "is_collapsed": false,
    "cell_id": "00069-c2e420db-e8d9-4a37-8bc0-9521a20ab7d9",
    "deepnote_cell_type": "text-cell-h2"
   }
  },
  {
   "cell_type": "code",
   "metadata": {
    "tags": [],
    "cell_id": "00070-e3f140c4-a434-4ce5-848d-21dc655f7c89",
    "deepnote_to_be_reexecuted": true,
    "source_hash": "45088d9e",
    "execution_start": 1635652653796,
    "execution_millis": 4,
    "deepnote_cell_type": "code"
   },
   "source": "f2016_copy.reset_index(inplace=True)",
   "execution_count": null,
   "outputs": []
  },
  {
   "cell_type": "code",
   "metadata": {
    "tags": [],
    "cell_id": "00071-b01102e5-102f-4d44-8cc3-47e36a587816",
    "deepnote_to_be_reexecuted": true,
    "source_hash": "7fc26115",
    "execution_start": 1635652684341,
    "execution_millis": 6,
    "deepnote_cell_type": "code"
   },
   "source": "f2016.reset_index(inplace=True)",
   "execution_count": null,
   "outputs": []
  },
  {
   "cell_type": "code",
   "metadata": {
    "tags": [],
    "cell_id": "00069-4b277942-b0ef-48ad-abe1-6430da765d26",
    "deepnote_to_be_reexecuted": true,
    "source_hash": "35942ee1",
    "execution_start": 1635652662354,
    "execution_millis": 8831,
    "deepnote_cell_type": "code"
   },
   "source": "list_2016 = []\nfor i in range(len(f2016_copy)):\n  list_2016.append(f2016_copy['Text'][i])",
   "execution_count": null,
   "outputs": []
  },
  {
   "cell_type": "code",
   "metadata": {
    "tags": [],
    "cell_id": "00074-9cd108e2-f92a-47e7-9384-06466f561c90",
    "deepnote_to_be_reexecuted": true,
    "source_hash": "34d9eeb6",
    "execution_start": 1635653100190,
    "execution_millis": 602,
    "deepnote_cell_type": "code"
   },
   "source": "list_2016_idx = tokenizer.texts_to_sequences(str(list_2016))",
   "execution_count": null,
   "outputs": [
    {
     "output_type": "error",
     "ename": "NameError",
     "evalue": "name 'tokenizer' is not defined",
     "traceback": [
      "\u001b[0;31m---------------------------------------------------------------------------\u001b[0m",
      "\u001b[0;31mNameError\u001b[0m                                 Traceback (most recent call last)",
      "\u001b[0;32m<ipython-input-1-0a777371ac57>\u001b[0m in \u001b[0;36m<module>\u001b[0;34m\u001b[0m\n\u001b[0;32m----> 1\u001b[0;31m \u001b[0mlist_2016_idx\u001b[0m \u001b[0;34m=\u001b[0m \u001b[0mtokenizer\u001b[0m\u001b[0;34m.\u001b[0m\u001b[0mtexts_to_sequences\u001b[0m\u001b[0;34m(\u001b[0m\u001b[0mstr\u001b[0m\u001b[0;34m(\u001b[0m\u001b[0mlist_2016\u001b[0m\u001b[0;34m)\u001b[0m\u001b[0;34m)\u001b[0m\u001b[0;34m\u001b[0m\u001b[0;34m\u001b[0m\u001b[0m\n\u001b[0m",
      "\u001b[0;31mNameError\u001b[0m: name 'tokenizer' is not defined"
     ]
    }
   ]
  },
  {
   "cell_type": "code",
   "metadata": {
    "tags": [],
    "cell_id": "00075-b55a7b47-5e13-4ab8-857d-216caf47190d",
    "deepnote_to_be_reexecuted": true,
    "source_hash": "7aa94a63",
    "deepnote_cell_type": "code"
   },
   "source": "def add_score_predictions(f2016_copy, list_2016_idx):\n\n  f2016_copy['sentiment score'] = 0\n\n  list_2016_idx = pad_sequences(list_2016_idx, maxlen=200, padding='post')\n\n  pred = model.predict(list_2016_idx)\n\n  f2016_copy['sentiment score'] = pred\n\n  pred_sentiment = np.array(list(map(lambda x : 'positive' if x > 0.5 else 'negative',review_preds)))\n\n  f2016_copy['predicted sentiment'] = 0\n\n  f2016_copy['predicted sentiment'] = pred_sentiment\n\n  return f2016_copy",
   "execution_count": null,
   "outputs": []
  },
  {
   "cell_type": "code",
   "metadata": {
    "tags": [],
    "cell_id": "00076-61339d84-65b4-42ac-b6a3-d97ac2c77869",
    "deepnote_to_be_reexecuted": true,
    "source_hash": "b8a2871",
    "deepnote_cell_type": "code"
   },
   "source": "f2016_copy = add_score_predictions(f2016_copy, list_2016_idx)",
   "execution_count": null,
   "outputs": []
  },
  {
   "cell_type": "code",
   "metadata": {
    "tags": [],
    "cell_id": "00067-fbb4e8e5-021d-4755-b60f-0251079347f7",
    "deepnote_to_be_reexecuted": true,
    "source_hash": "7f428985",
    "execution_start": 1635652378622,
    "execution_millis": 181,
    "deepnote_cell_type": "code"
   },
   "source": "for tweet in f2016_copy :\n    new_tweet = tweet\n    seq = tokenizer.texts_to_sequences(new_tweet)\n    padded = pad_sequences(seq, maxlen=200)\n    pred = lstm_model.predict(padded)\n    labels = [1,0]\n    f2016_copy['sentiment score'] = pred\n    pred_sentiment = np.array(list(map(lambda x : 'positive' if x > 0.5 else 'negative',pred)))\n    f2016_copy['predicted sentiment'] = pred_sentiment",
   "execution_count": null,
   "outputs": [
    {
     "name": "stderr",
     "text": "/shared-libs/python3.7/py-core/lib/python3.7/site-packages/ipykernel_launcher.py:7: SettingWithCopyWarning: \nA value is trying to be set on a copy of a slice from a DataFrame.\nTry using .loc[row_indexer,col_indexer] = value instead\n\nSee the caveats in the documentation: https://pandas.pydata.org/pandas-docs/stable/user_guide/indexing.html#returning-a-view-versus-a-copy\n  import sys\n",
     "output_type": "stream"
    },
    {
     "output_type": "error",
     "ename": "ValueError",
     "evalue": "Length of values (8) does not match length of index (866655)",
     "traceback": [
      "\u001b[0;31m---------------------------------------------------------------------------\u001b[0m",
      "\u001b[0;31mValueError\u001b[0m                                Traceback (most recent call last)",
      "\u001b[0;32m<ipython-input-90-e2f3b8dcfbc0>\u001b[0m in \u001b[0;36m<module>\u001b[0;34m\u001b[0m\n\u001b[1;32m      6\u001b[0m     \u001b[0mlabels\u001b[0m \u001b[0;34m=\u001b[0m \u001b[0;34m[\u001b[0m\u001b[0;36m1\u001b[0m\u001b[0;34m,\u001b[0m\u001b[0;36m0\u001b[0m\u001b[0;34m]\u001b[0m\u001b[0;34m\u001b[0m\u001b[0;34m\u001b[0m\u001b[0m\n\u001b[1;32m      7\u001b[0m     \u001b[0mf2016_copy\u001b[0m\u001b[0;34m[\u001b[0m\u001b[0;34m'sentiment score'\u001b[0m\u001b[0;34m]\u001b[0m \u001b[0;34m=\u001b[0m \u001b[0;36m0\u001b[0m\u001b[0;34m\u001b[0m\u001b[0;34m\u001b[0m\u001b[0m\n\u001b[0;32m----> 8\u001b[0;31m     \u001b[0mf2016_copy\u001b[0m\u001b[0;34m[\u001b[0m\u001b[0;34m'sentiment score'\u001b[0m\u001b[0;34m]\u001b[0m \u001b[0;34m=\u001b[0m \u001b[0mpred\u001b[0m\u001b[0;34m\u001b[0m\u001b[0;34m\u001b[0m\u001b[0m\n\u001b[0m\u001b[1;32m      9\u001b[0m     \u001b[0mpred_sentiment\u001b[0m \u001b[0;34m=\u001b[0m \u001b[0mnp\u001b[0m\u001b[0;34m.\u001b[0m\u001b[0marray\u001b[0m\u001b[0;34m(\u001b[0m\u001b[0mlist\u001b[0m\u001b[0;34m(\u001b[0m\u001b[0mmap\u001b[0m\u001b[0;34m(\u001b[0m\u001b[0;32mlambda\u001b[0m \u001b[0mx\u001b[0m \u001b[0;34m:\u001b[0m \u001b[0;34m'positive'\u001b[0m \u001b[0;32mif\u001b[0m \u001b[0mx\u001b[0m \u001b[0;34m>\u001b[0m \u001b[0;36m0.5\u001b[0m \u001b[0;32melse\u001b[0m \u001b[0;34m'negative'\u001b[0m\u001b[0;34m,\u001b[0m\u001b[0mpred\u001b[0m\u001b[0;34m)\u001b[0m\u001b[0;34m)\u001b[0m\u001b[0;34m)\u001b[0m\u001b[0;34m\u001b[0m\u001b[0;34m\u001b[0m\u001b[0m\n\u001b[1;32m     10\u001b[0m     \u001b[0mf2016_copy\u001b[0m\u001b[0;34m[\u001b[0m\u001b[0;34m'predicted sentiment'\u001b[0m\u001b[0;34m]\u001b[0m \u001b[0;34m=\u001b[0m \u001b[0mpred_sentiment\u001b[0m\u001b[0;34m\u001b[0m\u001b[0;34m\u001b[0m\u001b[0m\n",
      "\u001b[0;32m/shared-libs/python3.7/py/lib/python3.7/site-packages/pandas/core/frame.py\u001b[0m in \u001b[0;36m__setitem__\u001b[0;34m(self, key, value)\u001b[0m\n\u001b[1;32m   3161\u001b[0m         \u001b[0;32melse\u001b[0m\u001b[0;34m:\u001b[0m\u001b[0;34m\u001b[0m\u001b[0;34m\u001b[0m\u001b[0m\n\u001b[1;32m   3162\u001b[0m             \u001b[0;31m# set column\u001b[0m\u001b[0;34m\u001b[0m\u001b[0;34m\u001b[0m\u001b[0;34m\u001b[0m\u001b[0m\n\u001b[0;32m-> 3163\u001b[0;31m             \u001b[0mself\u001b[0m\u001b[0;34m.\u001b[0m\u001b[0m_set_item\u001b[0m\u001b[0;34m(\u001b[0m\u001b[0mkey\u001b[0m\u001b[0;34m,\u001b[0m \u001b[0mvalue\u001b[0m\u001b[0;34m)\u001b[0m\u001b[0;34m\u001b[0m\u001b[0;34m\u001b[0m\u001b[0m\n\u001b[0m\u001b[1;32m   3164\u001b[0m \u001b[0;34m\u001b[0m\u001b[0m\n\u001b[1;32m   3165\u001b[0m     \u001b[0;32mdef\u001b[0m \u001b[0m_setitem_slice\u001b[0m\u001b[0;34m(\u001b[0m\u001b[0mself\u001b[0m\u001b[0;34m,\u001b[0m \u001b[0mkey\u001b[0m\u001b[0;34m:\u001b[0m \u001b[0mslice\u001b[0m\u001b[0;34m,\u001b[0m \u001b[0mvalue\u001b[0m\u001b[0;34m)\u001b[0m\u001b[0;34m:\u001b[0m\u001b[0;34m\u001b[0m\u001b[0;34m\u001b[0m\u001b[0m\n",
      "\u001b[0;32m/shared-libs/python3.7/py/lib/python3.7/site-packages/pandas/core/frame.py\u001b[0m in \u001b[0;36m_set_item\u001b[0;34m(self, key, value)\u001b[0m\n\u001b[1;32m   3240\u001b[0m         \"\"\"\n\u001b[1;32m   3241\u001b[0m         \u001b[0mself\u001b[0m\u001b[0;34m.\u001b[0m\u001b[0m_ensure_valid_index\u001b[0m\u001b[0;34m(\u001b[0m\u001b[0mvalue\u001b[0m\u001b[0;34m)\u001b[0m\u001b[0;34m\u001b[0m\u001b[0;34m\u001b[0m\u001b[0m\n\u001b[0;32m-> 3242\u001b[0;31m         \u001b[0mvalue\u001b[0m \u001b[0;34m=\u001b[0m \u001b[0mself\u001b[0m\u001b[0;34m.\u001b[0m\u001b[0m_sanitize_column\u001b[0m\u001b[0;34m(\u001b[0m\u001b[0mkey\u001b[0m\u001b[0;34m,\u001b[0m \u001b[0mvalue\u001b[0m\u001b[0;34m)\u001b[0m\u001b[0;34m\u001b[0m\u001b[0;34m\u001b[0m\u001b[0m\n\u001b[0m\u001b[1;32m   3243\u001b[0m         \u001b[0mNDFrame\u001b[0m\u001b[0;34m.\u001b[0m\u001b[0m_set_item\u001b[0m\u001b[0;34m(\u001b[0m\u001b[0mself\u001b[0m\u001b[0;34m,\u001b[0m \u001b[0mkey\u001b[0m\u001b[0;34m,\u001b[0m \u001b[0mvalue\u001b[0m\u001b[0;34m)\u001b[0m\u001b[0;34m\u001b[0m\u001b[0;34m\u001b[0m\u001b[0m\n\u001b[1;32m   3244\u001b[0m \u001b[0;34m\u001b[0m\u001b[0m\n",
      "\u001b[0;32m/shared-libs/python3.7/py/lib/python3.7/site-packages/pandas/core/frame.py\u001b[0m in \u001b[0;36m_sanitize_column\u001b[0;34m(self, key, value, broadcast)\u001b[0m\n\u001b[1;32m   3897\u001b[0m \u001b[0;34m\u001b[0m\u001b[0m\n\u001b[1;32m   3898\u001b[0m             \u001b[0;31m# turn me into an ndarray\u001b[0m\u001b[0;34m\u001b[0m\u001b[0;34m\u001b[0m\u001b[0;34m\u001b[0m\u001b[0m\n\u001b[0;32m-> 3899\u001b[0;31m             \u001b[0mvalue\u001b[0m \u001b[0;34m=\u001b[0m \u001b[0msanitize_index\u001b[0m\u001b[0;34m(\u001b[0m\u001b[0mvalue\u001b[0m\u001b[0;34m,\u001b[0m \u001b[0mself\u001b[0m\u001b[0;34m.\u001b[0m\u001b[0mindex\u001b[0m\u001b[0;34m)\u001b[0m\u001b[0;34m\u001b[0m\u001b[0;34m\u001b[0m\u001b[0m\n\u001b[0m\u001b[1;32m   3900\u001b[0m             \u001b[0;32mif\u001b[0m \u001b[0;32mnot\u001b[0m \u001b[0misinstance\u001b[0m\u001b[0;34m(\u001b[0m\u001b[0mvalue\u001b[0m\u001b[0;34m,\u001b[0m \u001b[0;34m(\u001b[0m\u001b[0mnp\u001b[0m\u001b[0;34m.\u001b[0m\u001b[0mndarray\u001b[0m\u001b[0;34m,\u001b[0m \u001b[0mIndex\u001b[0m\u001b[0;34m)\u001b[0m\u001b[0;34m)\u001b[0m\u001b[0;34m:\u001b[0m\u001b[0;34m\u001b[0m\u001b[0;34m\u001b[0m\u001b[0m\n\u001b[1;32m   3901\u001b[0m                 \u001b[0;32mif\u001b[0m \u001b[0misinstance\u001b[0m\u001b[0;34m(\u001b[0m\u001b[0mvalue\u001b[0m\u001b[0;34m,\u001b[0m \u001b[0mlist\u001b[0m\u001b[0;34m)\u001b[0m \u001b[0;32mand\u001b[0m \u001b[0mlen\u001b[0m\u001b[0;34m(\u001b[0m\u001b[0mvalue\u001b[0m\u001b[0;34m)\u001b[0m \u001b[0;34m>\u001b[0m \u001b[0;36m0\u001b[0m\u001b[0;34m:\u001b[0m\u001b[0;34m\u001b[0m\u001b[0;34m\u001b[0m\u001b[0m\n",
      "\u001b[0;32m/shared-libs/python3.7/py/lib/python3.7/site-packages/pandas/core/internals/construction.py\u001b[0m in \u001b[0;36msanitize_index\u001b[0;34m(data, index)\u001b[0m\n\u001b[1;32m    750\u001b[0m     \u001b[0;32mif\u001b[0m \u001b[0mlen\u001b[0m\u001b[0;34m(\u001b[0m\u001b[0mdata\u001b[0m\u001b[0;34m)\u001b[0m \u001b[0;34m!=\u001b[0m \u001b[0mlen\u001b[0m\u001b[0;34m(\u001b[0m\u001b[0mindex\u001b[0m\u001b[0;34m)\u001b[0m\u001b[0;34m:\u001b[0m\u001b[0;34m\u001b[0m\u001b[0;34m\u001b[0m\u001b[0m\n\u001b[1;32m    751\u001b[0m         raise ValueError(\n\u001b[0;32m--> 752\u001b[0;31m             \u001b[0;34m\"Length of values \"\u001b[0m\u001b[0;34m\u001b[0m\u001b[0;34m\u001b[0m\u001b[0m\n\u001b[0m\u001b[1;32m    753\u001b[0m             \u001b[0;34mf\"({len(data)}) \"\u001b[0m\u001b[0;34m\u001b[0m\u001b[0;34m\u001b[0m\u001b[0m\n\u001b[1;32m    754\u001b[0m             \u001b[0;34m\"does not match length of index \"\u001b[0m\u001b[0;34m\u001b[0m\u001b[0;34m\u001b[0m\u001b[0m\n",
      "\u001b[0;31mValueError\u001b[0m: Length of values (8) does not match length of index (866655)"
     ]
    }
   ]
  },
  {
   "cell_type": "code",
   "metadata": {
    "tags": [],
    "cell_id": "00068-a4704cae-3f8f-4a35-94d4-d63f1e650e11",
    "deepnote_to_be_reexecuted": true,
    "source_hash": "98f40d58",
    "execution_start": 1635048687288,
    "execution_millis": 7,
    "deepnote_cell_type": "code"
   },
   "source": "pred[0]",
   "execution_count": null,
   "outputs": [
    {
     "output_type": "execute_result",
     "execution_count": 95,
     "data": {
      "text/plain": "array([0.00018376], dtype=float32)"
     },
     "metadata": {}
    }
   ]
  },
  {
   "cell_type": "code",
   "metadata": {
    "tags": [],
    "cell_id": "00068-90e12281-d302-4f3f-af6d-d01ac8734856",
    "deepnote_to_be_reexecuted": true,
    "source_hash": "8171a03a",
    "execution_start": 1635047839838,
    "execution_millis": 2,
    "deepnote_cell_type": "code"
   },
   "source": "type(pred)",
   "execution_count": null,
   "outputs": [
    {
     "output_type": "execute_result",
     "execution_count": 84,
     "data": {
      "text/plain": "numpy.ndarray"
     },
     "metadata": {}
    }
   ]
  },
  {
   "cell_type": "code",
   "metadata": {
    "tags": [],
    "cell_id": "00069-4e68ed4b-485c-41e8-a376-9f206a8fa899",
    "deepnote_to_be_reexecuted": true,
    "source_hash": "e55d8f32",
    "execution_start": 1635047640549,
    "execution_millis": 7,
    "deepnote_cell_type": "code"
   },
   "source": "type(Y_train_padded[0])",
   "execution_count": null,
   "outputs": [
    {
     "output_type": "execute_result",
     "execution_count": 71,
     "data": {
      "text/plain": "numpy.int64"
     },
     "metadata": {}
    }
   ]
  },
  {
   "cell_type": "markdown",
   "source": "<a style='text-decoration:none;line-height:16px;display:flex;color:#5B5B62;padding:10px;justify-content:end;' href='https://deepnote.com?utm_source=created-in-deepnote-cell&projectId=e4693581-fe90-443f-ac3c-8c6a5843731b' target=\"_blank\">\n<img alt='Created in deepnote.com' style='display:inline;max-height:16px;margin:0px;margin-right:7.5px;' src='data:image/svg+xml;base64,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' > </img>\nCreated in <span style='font-weight:600;margin-left:4px;'>Deepnote</span></a>",
   "metadata": {
    "tags": [],
    "created_in_deepnote_cell": true,
    "deepnote_cell_type": "markdown"
   }
  }
 ],
 "nbformat": 4,
 "nbformat_minor": 2,
 "metadata": {
  "orig_nbformat": 2,
  "deepnote": {
   "is_reactive": false
  },
  "deepnote_notebook_id": "b9702003-9e97-4aae-a523-a5c7600eab26",
  "deepnote_execution_queue": []
 }
}